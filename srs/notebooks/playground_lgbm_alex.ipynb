{
 "cells": [
  {
   "cell_type": "code",
   "execution_count": 2,
   "id": "3ba3accd",
   "metadata": {},
   "outputs": [],
   "source": [
    "%load_ext autoreload\n",
    "%autoreload 2"
   ]
  },
  {
   "cell_type": "code",
   "execution_count": 3,
   "id": "1148c2f0",
   "metadata": {},
   "outputs": [
    {
     "name": "stderr",
     "output_type": "stream",
     "text": [
      "C:\\Users\\amaguaya\\AppData\\Local\\Packages\\PythonSoftwareFoundation.Python.3.11_qbz5n2kfra8p0\\LocalCache\\local-packages\\Python311\\site-packages\\tqdm\\auto.py:21: TqdmWarning: IProgress not found. Please update jupyter and ipywidgets. See https://ipywidgets.readthedocs.io/en/stable/user_install.html\n",
      "  from .autonotebook import tqdm as notebook_tqdm\n"
     ]
    }
   ],
   "source": [
    "# %% load packages\n",
    "import locale\n",
    "import sys\n",
    "import os\n",
    "import pandas as pd\n",
    "import numpy as np\n",
    "import polars as pl\n",
    "import matplotlib.pyplot as plt\n",
    "import optuna\n",
    "import requests\n",
    "import torch\n",
    "import random\n",
    "from sqlalchemy import create_engine,inspect\n",
    "from pathlib import Path\n",
    "import urllib.parse\n",
    "import pyarrow\n",
    "from calendar import day_abbr\n",
    "import calendar\n",
    "from typing import Tuple, Union, Dict, List\n",
    "from concurrent.futures import ThreadPoolExecutor, as_completed\n",
    "from pygam import LinearGAM\n",
    "from datetime import datetime\n"
   ]
  },
  {
   "cell_type": "code",
   "execution_count": 4,
   "id": "b149e4cc",
   "metadata": {},
   "outputs": [
    {
     "data": {
      "text/plain": [
       "'c:\\\\Users\\\\amaguaya\\\\OneDrive - Kienzle Automotive GmbH\\\\Desktop\\\\DLiE\\\\repo\\\\DLiE_forecast_13_06_25\\\\srs\\\\notebooks'"
      ]
     },
     "execution_count": 4,
     "metadata": {},
     "output_type": "execute_result"
    }
   ],
   "source": [
    "os.getcwd()"
   ]
  },
  {
   "cell_type": "code",
   "execution_count": 5,
   "id": "186feefc",
   "metadata": {},
   "outputs": [
    {
     "name": "stdout",
     "output_type": "stream",
     "text": [
      "Working directory: c:\\Users\\amaguaya\\OneDrive - Kienzle Automotive GmbH\\Desktop\\DLiE\\repo\\DLiE_forecast_13_06_25\\srs\\notebooks\n"
     ]
    }
   ],
   "source": [
    "import sys\n",
    "sys.path.append('C:/Users/amaguaya/OneDrive - Kienzle Automotive GmbH/Desktop/DLiE/repo/DLiE_forecast_13_06_25')\n",
    "\n",
    "import os\n",
    "print(\"Working directory:\", os.getcwd())\n",
    "\n"
   ]
  },
  {
   "cell_type": "code",
   "execution_count": 6,
   "id": "23d49975",
   "metadata": {},
   "outputs": [],
   "source": [
    "from srs.utils.tutor_utils import prepare_dataset_tensor, forecasting_study,\\\n",
    "  plot_daily_profile,plot_hour_comparison, build_multiwindow_experts, tune_ewa_eta, \\\n",
    "  ewa_aggregate_forecasts, compute_error_table, tune_expert_window, \\\n",
    "  run_expert_window_test, build_regression_matrix, SimpleMLP, train_mlp, \\\n",
    "  prepare_train_test_tensors, build_mlp_rolling_forecasts, tune_mlp_hyperparameters, \\\n",
    "  DST_trafo, prepare_dataset_tensor_modified\n",
    "\n",
    "from srs.utils.our_utils import run_forecast_step, run_forecast_step_modified\n",
    "from srs.collect_data.setup import setup_seed, get_device\n",
    "from srs.collect_data.entsoe_data import create_entsoe_engine, get_tables, get_spec, \\\n",
    "  get_market_divisions,get_map_codes,get_map_codes_starting_with, get_resolution_codes, \\\n",
    "    prepare_generation, prepare_load,prepare_price, prepare_unavailability, \\\n",
    "    prepare_filling_rate_hydro, prepare_physical_flow, prepare_installed_capacity\n",
    "from srs.collect_data.datastream_data import create_datastream_engine, get_tables, \\\n",
    "  prepare_datastream\n",
    "from srs.collect_data.dwd_mosmix_data import fetch_region_weather, prepare_weather\n",
    "from srs.collect_data.merge_data import merge_datasets, build_training_dataset\n",
    "\n"
   ]
  },
  {
   "cell_type": "markdown",
   "id": "ac9e3c1d",
   "metadata": {},
   "source": [
    "### models_24h fitting for all no1-no5 regions separately."
   ]
  },
  {
   "cell_type": "code",
   "execution_count": null,
   "id": "4af66cc0",
   "metadata": {},
   "outputs": [
    {
     "data": {
      "text/plain": [
       "'\\n  eval/test periods\\n  2023 - 365 days\\n  2024 - 366 days\\n'"
      ]
     },
     "execution_count": 13,
     "metadata": {},
     "output_type": "execute_result"
    }
   ],
   "source": [
    "'''\n",
    "  eval/test periods\n",
    "  2023 - 365 days\n",
    "  2024 - 366 days\n",
    "'''\n",
    "# rmse  # -- 31.68, rmse: 8.79, 8.798 with rolling"
   ]
  },
  {
   "cell_type": "code",
   "execution_count": 9,
   "id": "e9ed531d",
   "metadata": {},
   "outputs": [
    {
     "name": "stdout",
     "output_type": "stream",
     "text": [
      "days for test data ..731\n",
      "\n",
      "--- NO1 ---\n",
      "Loop   0: train 2019-01-01 00:00:00 -> 2022-12-31 00:00:00, forecast 2023-01-01 00:00:00\n",
      "  dat_slice shape: torch.Size([1462, 24, 10])  → flatten count = 35088\n",
      "Loop   1: train 2019-01-02 00:00:00 -> 2023-01-01 00:00:00, forecast 2023-01-02 00:00:00\n",
      "  dat_slice shape: torch.Size([1462, 24, 10])  → flatten count = 35088\n",
      "Loop   2: train 2019-01-03 00:00:00 -> 2023-01-02 00:00:00, forecast 2023-01-03 00:00:00\n",
      "  dat_slice shape: torch.Size([1462, 24, 10])  → flatten count = 35088\n",
      "Loop   3: train 2019-01-04 00:00:00 -> 2023-01-03 00:00:00, forecast 2023-01-04 00:00:00\n",
      "  dat_slice shape: torch.Size([1462, 24, 10])  → flatten count = 35088\n",
      "Loop   4: train 2019-01-05 00:00:00 -> 2023-01-04 00:00:00, forecast 2023-01-05 00:00:00\n",
      "  dat_slice shape: torch.Size([1462, 24, 10])  → flatten count = 35088\n",
      "Loop   5: train 2019-01-06 00:00:00 -> 2023-01-05 00:00:00, forecast 2023-01-06 00:00:00\n",
      "  dat_slice shape: torch.Size([1462, 24, 10])  → flatten count = 35088\n",
      "Loop   6: train 2019-01-07 00:00:00 -> 2023-01-06 00:00:00, forecast 2023-01-07 00:00:00\n",
      "  dat_slice shape: torch.Size([1462, 24, 10])  → flatten count = 35088\n"
     ]
    },
    {
     "name": "stderr",
     "output_type": "stream",
     "text": [
      "C:\\Users\\amaguaya\\AppData\\Local\\Packages\\PythonSoftwareFoundation.Python.3.11_qbz5n2kfra8p0\\LocalCache\\local-packages\\Python311\\site-packages\\sklearn\\utils\\validation.py:2739: UserWarning: X does not have valid feature names, but LGBMRegressor was fitted with feature names\n",
      "  warnings.warn(\n",
      "C:\\Users\\amaguaya\\AppData\\Local\\Packages\\PythonSoftwareFoundation.Python.3.11_qbz5n2kfra8p0\\LocalCache\\local-packages\\Python311\\site-packages\\sklearn\\utils\\validation.py:2739: UserWarning: X does not have valid feature names, but LGBMRegressor was fitted with feature names\n",
      "  warnings.warn(\n",
      "C:\\Users\\amaguaya\\AppData\\Local\\Packages\\PythonSoftwareFoundation.Python.3.11_qbz5n2kfra8p0\\LocalCache\\local-packages\\Python311\\site-packages\\sklearn\\utils\\validation.py:2739: UserWarning: X does not have valid feature names, but LGBMRegressor was fitted with feature names\n",
      "  warnings.warn(\n",
      "C:\\Users\\amaguaya\\AppData\\Local\\Packages\\PythonSoftwareFoundation.Python.3.11_qbz5n2kfra8p0\\LocalCache\\local-packages\\Python311\\site-packages\\sklearn\\utils\\validation.py:2739: UserWarning: X does not have valid feature names, but LGBMRegressor was fitted with feature names\n",
      "  warnings.warn(\n"
     ]
    },
    {
     "name": "stdout",
     "output_type": "stream",
     "text": [
      "-> finished loop 2\n",
      "Loop   7: train 2019-01-08 00:00:00 -> 2023-01-07 00:00:00, forecast 2023-01-08 00:00:00\n",
      "  dat_slice shape: torch.Size([1462, 24, 10])  → flatten count = 35088\n",
      "-> finished loop 4\n",
      "Loop   8: train 2019-01-09 00:00:00 -> 2023-01-08 00:00:00, forecast 2023-01-09 00:00:00\n",
      "  dat_slice shape: torch.Size([1462, 24, 10])  → flatten count = 35088\n",
      "-> finished loop 0\n",
      "Loop   9: train 2019-01-10 00:00:00 -> 2023-01-09 00:00:00, forecast 2023-01-10 00:00:00\n",
      "  dat_slice shape: torch.Size([1462, 24, 10])  → flatten count = 35088\n",
      "-> finished loop 1\n",
      "Loop  10: train 2019-01-11 00:00:00 -> 2023-01-10 00:00:00, forecast 2023-01-11 00:00:00\n",
      "  dat_slice shape: torch.Size([1462, 24, 10])  → flatten count = 35088\n"
     ]
    },
    {
     "name": "stderr",
     "output_type": "stream",
     "text": [
      "C:\\Users\\amaguaya\\AppData\\Local\\Packages\\PythonSoftwareFoundation.Python.3.11_qbz5n2kfra8p0\\LocalCache\\local-packages\\Python311\\site-packages\\sklearn\\utils\\validation.py:2739: UserWarning: X does not have valid feature names, but LGBMRegressor was fitted with feature names\n",
      "  warnings.warn(\n",
      "C:\\Users\\amaguaya\\AppData\\Local\\Packages\\PythonSoftwareFoundation.Python.3.11_qbz5n2kfra8p0\\LocalCache\\local-packages\\Python311\\site-packages\\sklearn\\utils\\validation.py:2739: UserWarning: X does not have valid feature names, but LGBMRegressor was fitted with feature names\n",
      "  warnings.warn(\n",
      "C:\\Users\\amaguaya\\AppData\\Local\\Packages\\PythonSoftwareFoundation.Python.3.11_qbz5n2kfra8p0\\LocalCache\\local-packages\\Python311\\site-packages\\sklearn\\utils\\validation.py:2739: UserWarning: X does not have valid feature names, but LGBMRegressor was fitted with feature names\n",
      "  warnings.warn(\n"
     ]
    },
    {
     "name": "stdout",
     "output_type": "stream",
     "text": [
      "-> finished loop 3\n",
      "Loop  11: train 2019-01-12 00:00:00 -> 2023-01-11 00:00:00, forecast 2023-01-12 00:00:00\n",
      "  dat_slice shape: torch.Size([1462, 24, 10])  → flatten count = 35088\n",
      "-> finished loop 5\n",
      "Loop  12: train 2019-01-13 00:00:00 -> 2023-01-12 00:00:00, forecast 2023-01-13 00:00:00\n",
      "  dat_slice shape: torch.Size([1462, 24, 10])  → flatten count = 35088\n",
      "-> finished loop 6\n",
      "Loop  13: train 2019-01-14 00:00:00 -> 2023-01-13 00:00:00, forecast 2023-01-14 00:00:00\n",
      "  dat_slice shape: torch.Size([1462, 24, 10])  → flatten count = 35088\n"
     ]
    },
    {
     "name": "stderr",
     "output_type": "stream",
     "text": [
      "C:\\Users\\amaguaya\\AppData\\Local\\Packages\\PythonSoftwareFoundation.Python.3.11_qbz5n2kfra8p0\\LocalCache\\local-packages\\Python311\\site-packages\\sklearn\\utils\\validation.py:2739: UserWarning: X does not have valid feature names, but LGBMRegressor was fitted with feature names\n",
      "  warnings.warn(\n",
      "C:\\Users\\amaguaya\\AppData\\Local\\Packages\\PythonSoftwareFoundation.Python.3.11_qbz5n2kfra8p0\\LocalCache\\local-packages\\Python311\\site-packages\\sklearn\\utils\\validation.py:2739: UserWarning: X does not have valid feature names, but LGBMRegressor was fitted with feature names\n",
      "  warnings.warn(\n",
      "C:\\Users\\amaguaya\\AppData\\Local\\Packages\\PythonSoftwareFoundation.Python.3.11_qbz5n2kfra8p0\\LocalCache\\local-packages\\Python311\\site-packages\\sklearn\\utils\\validation.py:2739: UserWarning: X does not have valid feature names, but LGBMRegressor was fitted with feature names\n",
      "  warnings.warn(\n"
     ]
    },
    {
     "name": "stdout",
     "output_type": "stream",
     "text": [
      "-> finished loop 7\n",
      "Loop  14: train 2019-01-15 00:00:00 -> 2023-01-14 00:00:00, forecast 2023-01-15 00:00:00\n",
      "  dat_slice shape: torch.Size([1462, 24, 10])  → flatten count = 35088\n",
      "-> finished loop 9\n",
      "Loop  15: train 2019-01-16 00:00:00 -> 2023-01-15 00:00:00, forecast 2023-01-16 00:00:00\n",
      "  dat_slice shape: torch.Size([1462, 24, 10])  → flatten count = 35088\n",
      "-> finished loop 10\n",
      "Loop  16: train 2019-01-17 00:00:00 -> 2023-01-16 00:00:00, forecast 2023-01-17 00:00:00\n",
      "  dat_slice shape: torch.Size([1462, 24, 10])  → flatten count = 35088\n"
     ]
    },
    {
     "name": "stderr",
     "output_type": "stream",
     "text": [
      "C:\\Users\\amaguaya\\AppData\\Local\\Packages\\PythonSoftwareFoundation.Python.3.11_qbz5n2kfra8p0\\LocalCache\\local-packages\\Python311\\site-packages\\sklearn\\utils\\validation.py:2739: UserWarning: X does not have valid feature names, but LGBMRegressor was fitted with feature names\n",
      "  warnings.warn(\n",
      "C:\\Users\\amaguaya\\AppData\\Local\\Packages\\PythonSoftwareFoundation.Python.3.11_qbz5n2kfra8p0\\LocalCache\\local-packages\\Python311\\site-packages\\sklearn\\utils\\validation.py:2739: UserWarning: X does not have valid feature names, but LGBMRegressor was fitted with feature names\n",
      "  warnings.warn(\n",
      "C:\\Users\\amaguaya\\AppData\\Local\\Packages\\PythonSoftwareFoundation.Python.3.11_qbz5n2kfra8p0\\LocalCache\\local-packages\\Python311\\site-packages\\sklearn\\utils\\validation.py:2739: UserWarning: X does not have valid feature names, but LGBMRegressor was fitted with feature names\n",
      "  warnings.warn(\n"
     ]
    },
    {
     "name": "stdout",
     "output_type": "stream",
     "text": [
      "-> finished loop 11\n",
      "Loop  17: train 2019-01-18 00:00:00 -> 2023-01-17 00:00:00, forecast 2023-01-18 00:00:00\n",
      "  dat_slice shape: torch.Size([1462, 24, 10])  → flatten count = 35088\n",
      "-> finished loop 12\n",
      "Loop  18: train 2019-01-19 00:00:00 -> 2023-01-18 00:00:00, forecast 2023-01-19 00:00:00\n",
      "  dat_slice shape: torch.Size([1462, 24, 10])  → flatten count = 35088\n",
      "-> finished loop 8\n",
      "Loop  19: train 2019-01-20 00:00:00 -> 2023-01-19 00:00:00, forecast 2023-01-20 00:00:00\n",
      "  dat_slice shape: torch.Size([1462, 24, 10])  → flatten count = 35088\n"
     ]
    },
    {
     "name": "stderr",
     "output_type": "stream",
     "text": [
      "C:\\Users\\amaguaya\\AppData\\Local\\Packages\\PythonSoftwareFoundation.Python.3.11_qbz5n2kfra8p0\\LocalCache\\local-packages\\Python311\\site-packages\\sklearn\\utils\\validation.py:2739: UserWarning: X does not have valid feature names, but LGBMRegressor was fitted with feature names\n",
      "  warnings.warn(\n"
     ]
    },
    {
     "name": "stdout",
     "output_type": "stream",
     "text": [
      "-> finished loop 13\n",
      "Loop  20: train 2019-01-21 00:00:00 -> 2023-01-20 00:00:00, forecast 2023-01-21 00:00:00\n",
      "  dat_slice shape: torch.Size([1462, 24, 10])  → flatten count = 35088\n"
     ]
    },
    {
     "name": "stderr",
     "output_type": "stream",
     "text": [
      "C:\\Users\\amaguaya\\AppData\\Local\\Packages\\PythonSoftwareFoundation.Python.3.11_qbz5n2kfra8p0\\LocalCache\\local-packages\\Python311\\site-packages\\sklearn\\utils\\validation.py:2739: UserWarning: X does not have valid feature names, but LGBMRegressor was fitted with feature names\n",
      "  warnings.warn(\n",
      "C:\\Users\\amaguaya\\AppData\\Local\\Packages\\PythonSoftwareFoundation.Python.3.11_qbz5n2kfra8p0\\LocalCache\\local-packages\\Python311\\site-packages\\sklearn\\utils\\validation.py:2739: UserWarning: X does not have valid feature names, but LGBMRegressor was fitted with feature names\n",
      "  warnings.warn(\n",
      "C:\\Users\\amaguaya\\AppData\\Local\\Packages\\PythonSoftwareFoundation.Python.3.11_qbz5n2kfra8p0\\LocalCache\\local-packages\\Python311\\site-packages\\sklearn\\utils\\validation.py:2739: UserWarning: X does not have valid feature names, but LGBMRegressor was fitted with feature names\n",
      "  warnings.warn(\n",
      "C:\\Users\\amaguaya\\AppData\\Local\\Packages\\PythonSoftwareFoundation.Python.3.11_qbz5n2kfra8p0\\LocalCache\\local-packages\\Python311\\site-packages\\sklearn\\utils\\validation.py:2739: UserWarning: X does not have valid feature names, but LGBMRegressor was fitted with feature names\n",
      "  warnings.warn(\n"
     ]
    },
    {
     "name": "stdout",
     "output_type": "stream",
     "text": [
      "-> finished loop 17\n",
      "Loop  21: train 2019-01-22 00:00:00 -> 2023-01-21 00:00:00, forecast 2023-01-22 00:00:00\n",
      "  dat_slice shape: torch.Size([1462, 24, 10])  → flatten count = 35088\n",
      "-> finished loop 19\n",
      "Loop  22: train 2019-01-23 00:00:00 -> 2023-01-22 00:00:00, forecast 2023-01-23 00:00:00\n",
      "  dat_slice shape: torch.Size([1462, 24, 10])  → flatten count = 35088\n",
      "-> finished loop 16\n",
      "Loop  23: train 2019-01-24 00:00:00 -> 2023-01-23 00:00:00, forecast 2023-01-24 00:00:00\n",
      "  dat_slice shape: torch.Size([1462, 24, 10])  → flatten count = 35088\n",
      "-> finished loop 14\n",
      "Loop  24: train 2019-01-25 00:00:00 -> 2023-01-24 00:00:00, forecast 2023-01-25 00:00:00\n",
      "  dat_slice shape: torch.Size([1462, 24, 10])  → flatten count = 35088\n"
     ]
    },
    {
     "name": "stderr",
     "output_type": "stream",
     "text": [
      "C:\\Users\\amaguaya\\AppData\\Local\\Packages\\PythonSoftwareFoundation.Python.3.11_qbz5n2kfra8p0\\LocalCache\\local-packages\\Python311\\site-packages\\sklearn\\utils\\validation.py:2739: UserWarning: X does not have valid feature names, but LGBMRegressor was fitted with feature names\n",
      "  warnings.warn(\n",
      "C:\\Users\\amaguaya\\AppData\\Local\\Packages\\PythonSoftwareFoundation.Python.3.11_qbz5n2kfra8p0\\LocalCache\\local-packages\\Python311\\site-packages\\sklearn\\utils\\validation.py:2739: UserWarning: X does not have valid feature names, but LGBMRegressor was fitted with feature names\n",
      "  warnings.warn(\n"
     ]
    },
    {
     "name": "stdout",
     "output_type": "stream",
     "text": [
      "-> finished loop 18\n",
      "Loop  25: train 2019-01-26 00:00:00 -> 2023-01-25 00:00:00, forecast 2023-01-26 00:00:00\n",
      "  dat_slice shape: torch.Size([1462, 24, 10])  → flatten count = 35088\n",
      "-> finished loop 15\n",
      "Loop  26: train 2019-01-27 00:00:00 -> 2023-01-26 00:00:00, forecast 2023-01-27 00:00:00\n",
      "  dat_slice shape: torch.Size([1462, 24, 10])  → flatten count = 35088\n"
     ]
    },
    {
     "name": "stderr",
     "output_type": "stream",
     "text": [
      "C:\\Users\\amaguaya\\AppData\\Local\\Packages\\PythonSoftwareFoundation.Python.3.11_qbz5n2kfra8p0\\LocalCache\\local-packages\\Python311\\site-packages\\sklearn\\utils\\validation.py:2739: UserWarning: X does not have valid feature names, but LGBMRegressor was fitted with feature names\n",
      "  warnings.warn(\n"
     ]
    },
    {
     "name": "stdout",
     "output_type": "stream",
     "text": [
      "-> finished loop 20\n",
      "Loop  27: train 2019-01-28 00:00:00 -> 2023-01-27 00:00:00, forecast 2023-01-28 00:00:00\n",
      "  dat_slice shape: torch.Size([1462, 24, 10])  → flatten count = 35088\n"
     ]
    },
    {
     "name": "stderr",
     "output_type": "stream",
     "text": [
      "C:\\Users\\amaguaya\\AppData\\Local\\Packages\\PythonSoftwareFoundation.Python.3.11_qbz5n2kfra8p0\\LocalCache\\local-packages\\Python311\\site-packages\\sklearn\\utils\\validation.py:2739: UserWarning: X does not have valid feature names, but LGBMRegressor was fitted with feature names\n",
      "  warnings.warn(\n",
      "C:\\Users\\amaguaya\\AppData\\Local\\Packages\\PythonSoftwareFoundation.Python.3.11_qbz5n2kfra8p0\\LocalCache\\local-packages\\Python311\\site-packages\\sklearn\\utils\\validation.py:2739: UserWarning: X does not have valid feature names, but LGBMRegressor was fitted with feature names\n",
      "  warnings.warn(\n",
      "C:\\Users\\amaguaya\\AppData\\Local\\Packages\\PythonSoftwareFoundation.Python.3.11_qbz5n2kfra8p0\\LocalCache\\local-packages\\Python311\\site-packages\\sklearn\\utils\\validation.py:2739: UserWarning: X does not have valid feature names, but LGBMRegressor was fitted with feature names\n",
      "  warnings.warn(\n"
     ]
    },
    {
     "name": "stdout",
     "output_type": "stream",
     "text": [
      "-> finished loop 21\n",
      "Loop  28: train 2019-01-29 00:00:00 -> 2023-01-28 00:00:00, forecast 2023-01-29 00:00:00\n",
      "  dat_slice shape: torch.Size([1462, 24, 10])  → flatten count = 35088\n",
      "-> finished loop 24\n",
      "Loop  29: train 2019-01-30 00:00:00 -> 2023-01-29 00:00:00, forecast 2023-01-30 00:00:00\n",
      "  dat_slice shape: torch.Size([1462, 24, 10])  → flatten count = 35088\n",
      "-> finished loop 23\n",
      "Loop  30: train 2019-01-31 00:00:00 -> 2023-01-30 00:00:00, forecast 2023-01-31 00:00:00\n",
      "  dat_slice shape: torch.Size([1462, 24, 10])  → flatten count = 35088\n"
     ]
    },
    {
     "name": "stderr",
     "output_type": "stream",
     "text": [
      "C:\\Users\\amaguaya\\AppData\\Local\\Packages\\PythonSoftwareFoundation.Python.3.11_qbz5n2kfra8p0\\LocalCache\\local-packages\\Python311\\site-packages\\sklearn\\utils\\validation.py:2739: UserWarning: X does not have valid feature names, but LGBMRegressor was fitted with feature names\n",
      "  warnings.warn(\n",
      "C:\\Users\\amaguaya\\AppData\\Local\\Packages\\PythonSoftwareFoundation.Python.3.11_qbz5n2kfra8p0\\LocalCache\\local-packages\\Python311\\site-packages\\sklearn\\utils\\validation.py:2739: UserWarning: X does not have valid feature names, but LGBMRegressor was fitted with feature names\n",
      "  warnings.warn(\n",
      "C:\\Users\\amaguaya\\AppData\\Local\\Packages\\PythonSoftwareFoundation.Python.3.11_qbz5n2kfra8p0\\LocalCache\\local-packages\\Python311\\site-packages\\sklearn\\utils\\validation.py:2739: UserWarning: X does not have valid feature names, but LGBMRegressor was fitted with feature names\n",
      "  warnings.warn(\n"
     ]
    },
    {
     "name": "stdout",
     "output_type": "stream",
     "text": [
      "-> finished loop 22\n",
      "Loop  31: train 2019-02-01 00:00:00 -> 2023-01-31 00:00:00, forecast 2023-02-01 00:00:00\n",
      "  dat_slice shape: torch.Size([1462, 24, 10])  → flatten count = 35088\n",
      "-> finished loop 26\n",
      "Loop  32: train 2019-02-02 00:00:00 -> 2023-02-01 00:00:00, forecast 2023-02-02 00:00:00\n",
      "  dat_slice shape: torch.Size([1462, 24, 10])  → flatten count = 35088\n",
      "-> finished loop 25\n",
      "Loop  33: train 2019-02-03 00:00:00 -> 2023-02-02 00:00:00, forecast 2023-02-03 00:00:00\n",
      "  dat_slice shape: torch.Size([1462, 24, 10])  → flatten count = 35088\n"
     ]
    },
    {
     "name": "stderr",
     "output_type": "stream",
     "text": [
      "C:\\Users\\amaguaya\\AppData\\Local\\Packages\\PythonSoftwareFoundation.Python.3.11_qbz5n2kfra8p0\\LocalCache\\local-packages\\Python311\\site-packages\\sklearn\\utils\\validation.py:2739: UserWarning: X does not have valid feature names, but LGBMRegressor was fitted with feature names\n",
      "  warnings.warn(\n"
     ]
    },
    {
     "name": "stdout",
     "output_type": "stream",
     "text": [
      "-> finished loop 27\n",
      "Loop  34: train 2019-02-04 00:00:00 -> 2023-02-03 00:00:00, forecast 2023-02-04 00:00:00\n",
      "  dat_slice shape: torch.Size([1462, 24, 10])  → flatten count = 35088\n"
     ]
    },
    {
     "name": "stderr",
     "output_type": "stream",
     "text": [
      "C:\\Users\\amaguaya\\AppData\\Local\\Packages\\PythonSoftwareFoundation.Python.3.11_qbz5n2kfra8p0\\LocalCache\\local-packages\\Python311\\site-packages\\sklearn\\utils\\validation.py:2739: UserWarning: X does not have valid feature names, but LGBMRegressor was fitted with feature names\n",
      "  warnings.warn(\n",
      "C:\\Users\\amaguaya\\AppData\\Local\\Packages\\PythonSoftwareFoundation.Python.3.11_qbz5n2kfra8p0\\LocalCache\\local-packages\\Python311\\site-packages\\sklearn\\utils\\validation.py:2739: UserWarning: X does not have valid feature names, but LGBMRegressor was fitted with feature names\n",
      "  warnings.warn(\n"
     ]
    },
    {
     "name": "stdout",
     "output_type": "stream",
     "text": [
      "-> finished loop 28\n",
      "Loop  35: train 2019-02-05 00:00:00 -> 2023-02-04 00:00:00, forecast 2023-02-05 00:00:00\n",
      "  dat_slice shape: torch.Size([1462, 24, 10])  → flatten count = 35088\n",
      "-> finished loop 29\n",
      "Loop  36: train 2019-02-06 00:00:00 -> 2023-02-05 00:00:00, forecast 2023-02-06 00:00:00\n",
      "  dat_slice shape: torch.Size([1462, 24, 10])  → flatten count = 35088\n"
     ]
    },
    {
     "name": "stderr",
     "output_type": "stream",
     "text": [
      "C:\\Users\\amaguaya\\AppData\\Local\\Packages\\PythonSoftwareFoundation.Python.3.11_qbz5n2kfra8p0\\LocalCache\\local-packages\\Python311\\site-packages\\sklearn\\utils\\validation.py:2739: UserWarning: X does not have valid feature names, but LGBMRegressor was fitted with feature names\n",
      "  warnings.warn(\n",
      "C:\\Users\\amaguaya\\AppData\\Local\\Packages\\PythonSoftwareFoundation.Python.3.11_qbz5n2kfra8p0\\LocalCache\\local-packages\\Python311\\site-packages\\sklearn\\utils\\validation.py:2739: UserWarning: X does not have valid feature names, but LGBMRegressor was fitted with feature names\n",
      "  warnings.warn(\n",
      "C:\\Users\\amaguaya\\AppData\\Local\\Packages\\PythonSoftwareFoundation.Python.3.11_qbz5n2kfra8p0\\LocalCache\\local-packages\\Python311\\site-packages\\sklearn\\utils\\validation.py:2739: UserWarning: X does not have valid feature names, but LGBMRegressor was fitted with feature names\n",
      "  warnings.warn(\n"
     ]
    },
    {
     "name": "stdout",
     "output_type": "stream",
     "text": [
      "-> finished loop 31\n",
      "Loop  37: train 2019-02-07 00:00:00 -> 2023-02-06 00:00:00, forecast 2023-02-07 00:00:00\n",
      "  dat_slice shape: torch.Size([1462, 24, 10])  → flatten count = 35088\n",
      "-> finished loop 30\n",
      "Loop  38: train 2019-02-08 00:00:00 -> 2023-02-07 00:00:00, forecast 2023-02-08 00:00:00\n",
      "  dat_slice shape: torch.Size([1462, 24, 10])  → flatten count = 35088\n",
      "-> finished loop 33\n",
      "Loop  39: train 2019-02-09 00:00:00 -> 2023-02-08 00:00:00, forecast 2023-02-09 00:00:00\n",
      "  dat_slice shape: torch.Size([1462, 24, 10])  → flatten count = 35088\n",
      "-> finished loop 32\n",
      "Loop  40: train 2019-02-10 00:00:00 -> 2023-02-09 00:00:00, forecast 2023-02-10 00:00:00\n",
      "  dat_slice shape: torch.Size([1462, 24, 10])  → flatten count = 35088\n"
     ]
    },
    {
     "name": "stderr",
     "output_type": "stream",
     "text": [
      "C:\\Users\\amaguaya\\AppData\\Local\\Packages\\PythonSoftwareFoundation.Python.3.11_qbz5n2kfra8p0\\LocalCache\\local-packages\\Python311\\site-packages\\sklearn\\utils\\validation.py:2739: UserWarning: X does not have valid feature names, but LGBMRegressor was fitted with feature names\n",
      "  warnings.warn(\n",
      "C:\\Users\\amaguaya\\AppData\\Local\\Packages\\PythonSoftwareFoundation.Python.3.11_qbz5n2kfra8p0\\LocalCache\\local-packages\\Python311\\site-packages\\sklearn\\utils\\validation.py:2739: UserWarning: X does not have valid feature names, but LGBMRegressor was fitted with feature names\n",
      "  warnings.warn(\n"
     ]
    },
    {
     "name": "stdout",
     "output_type": "stream",
     "text": [
      "-> finished loop 34\n",
      "Loop  41: train 2019-02-11 00:00:00 -> 2023-02-10 00:00:00, forecast 2023-02-11 00:00:00\n",
      "  dat_slice shape: torch.Size([1462, 24, 10])  → flatten count = 35088\n"
     ]
    },
    {
     "name": "stderr",
     "output_type": "stream",
     "text": [
      "C:\\Users\\amaguaya\\AppData\\Local\\Packages\\PythonSoftwareFoundation.Python.3.11_qbz5n2kfra8p0\\LocalCache\\local-packages\\Python311\\site-packages\\sklearn\\utils\\validation.py:2739: UserWarning: X does not have valid feature names, but LGBMRegressor was fitted with feature names\n",
      "  warnings.warn(\n",
      "C:\\Users\\amaguaya\\AppData\\Local\\Packages\\PythonSoftwareFoundation.Python.3.11_qbz5n2kfra8p0\\LocalCache\\local-packages\\Python311\\site-packages\\sklearn\\utils\\validation.py:2739: UserWarning: X does not have valid feature names, but LGBMRegressor was fitted with feature names\n",
      "  warnings.warn(\n",
      "C:\\Users\\amaguaya\\AppData\\Local\\Packages\\PythonSoftwareFoundation.Python.3.11_qbz5n2kfra8p0\\LocalCache\\local-packages\\Python311\\site-packages\\sklearn\\utils\\validation.py:2739: UserWarning: X does not have valid feature names, but LGBMRegressor was fitted with feature names\n",
      "  warnings.warn(\n"
     ]
    },
    {
     "name": "stdout",
     "output_type": "stream",
     "text": [
      "-> finished loop 36\n",
      "Loop  42: train 2019-02-12 00:00:00 -> 2023-02-11 00:00:00, forecast 2023-02-12 00:00:00\n",
      "  dat_slice shape: torch.Size([1462, 24, 10])  → flatten count = 35088\n",
      "-> finished loop 35\n",
      "Loop  43: train 2019-02-13 00:00:00 -> 2023-02-12 00:00:00, forecast 2023-02-13 00:00:00\n",
      "  dat_slice shape: torch.Size([1462, 24, 10])  → flatten count = 35088\n",
      "-> finished loop 37\n",
      "Loop  44: train 2019-02-14 00:00:00 -> 2023-02-13 00:00:00, forecast 2023-02-14 00:00:00\n",
      "  dat_slice shape: torch.Size([1462, 24, 10])  → flatten count = 35088\n"
     ]
    },
    {
     "name": "stderr",
     "output_type": "stream",
     "text": [
      "C:\\Users\\amaguaya\\AppData\\Local\\Packages\\PythonSoftwareFoundation.Python.3.11_qbz5n2kfra8p0\\LocalCache\\local-packages\\Python311\\site-packages\\sklearn\\utils\\validation.py:2739: UserWarning: X does not have valid feature names, but LGBMRegressor was fitted with feature names\n",
      "  warnings.warn(\n",
      "C:\\Users\\amaguaya\\AppData\\Local\\Packages\\PythonSoftwareFoundation.Python.3.11_qbz5n2kfra8p0\\LocalCache\\local-packages\\Python311\\site-packages\\sklearn\\utils\\validation.py:2739: UserWarning: X does not have valid feature names, but LGBMRegressor was fitted with feature names\n",
      "  warnings.warn(\n"
     ]
    },
    {
     "name": "stdout",
     "output_type": "stream",
     "text": [
      "-> finished loop 39\n",
      "Loop  45: train 2019-02-15 00:00:00 -> 2023-02-14 00:00:00, forecast 2023-02-15 00:00:00\n",
      "  dat_slice shape: torch.Size([1462, 24, 10])  → flatten count = 35088\n",
      "-> finished loop 38\n",
      "Loop  46: train 2019-02-16 00:00:00 -> 2023-02-15 00:00:00, forecast 2023-02-16 00:00:00\n",
      "  dat_slice shape: torch.Size([1462, 24, 10])  → flatten count = 35088\n"
     ]
    },
    {
     "name": "stderr",
     "output_type": "stream",
     "text": [
      "C:\\Users\\amaguaya\\AppData\\Local\\Packages\\PythonSoftwareFoundation.Python.3.11_qbz5n2kfra8p0\\LocalCache\\local-packages\\Python311\\site-packages\\sklearn\\utils\\validation.py:2739: UserWarning: X does not have valid feature names, but LGBMRegressor was fitted with feature names\n",
      "  warnings.warn(\n",
      "C:\\Users\\amaguaya\\AppData\\Local\\Packages\\PythonSoftwareFoundation.Python.3.11_qbz5n2kfra8p0\\LocalCache\\local-packages\\Python311\\site-packages\\sklearn\\utils\\validation.py:2739: UserWarning: X does not have valid feature names, but LGBMRegressor was fitted with feature names\n",
      "  warnings.warn(\n"
     ]
    },
    {
     "name": "stdout",
     "output_type": "stream",
     "text": [
      "-> finished loop 41\n",
      "Loop  47: train 2019-02-17 00:00:00 -> 2023-02-16 00:00:00, forecast 2023-02-17 00:00:00\n",
      "  dat_slice shape: torch.Size([1462, 24, 10])  → flatten count = 35088\n",
      "-> finished loop 40\n",
      "Loop  48: train 2019-02-18 00:00:00 -> 2023-02-17 00:00:00, forecast 2023-02-18 00:00:00\n",
      "  dat_slice shape: torch.Size([1462, 24, 10])  → flatten count = 35088\n"
     ]
    },
    {
     "name": "stderr",
     "output_type": "stream",
     "text": [
      "C:\\Users\\amaguaya\\AppData\\Local\\Packages\\PythonSoftwareFoundation.Python.3.11_qbz5n2kfra8p0\\LocalCache\\local-packages\\Python311\\site-packages\\sklearn\\utils\\validation.py:2739: UserWarning: X does not have valid feature names, but LGBMRegressor was fitted with feature names\n",
      "  warnings.warn(\n",
      "C:\\Users\\amaguaya\\AppData\\Local\\Packages\\PythonSoftwareFoundation.Python.3.11_qbz5n2kfra8p0\\LocalCache\\local-packages\\Python311\\site-packages\\sklearn\\utils\\validation.py:2739: UserWarning: X does not have valid feature names, but LGBMRegressor was fitted with feature names\n",
      "  warnings.warn(\n",
      "C:\\Users\\amaguaya\\AppData\\Local\\Packages\\PythonSoftwareFoundation.Python.3.11_qbz5n2kfra8p0\\LocalCache\\local-packages\\Python311\\site-packages\\sklearn\\utils\\validation.py:2739: UserWarning: X does not have valid feature names, but LGBMRegressor was fitted with feature names\n",
      "  warnings.warn(\n"
     ]
    },
    {
     "name": "stdout",
     "output_type": "stream",
     "text": [
      "-> finished loop 42\n",
      "Loop  49: train 2019-02-19 00:00:00 -> 2023-02-18 00:00:00, forecast 2023-02-19 00:00:00\n",
      "  dat_slice shape: torch.Size([1462, 24, 10])  → flatten count = 35088\n",
      "-> finished loop 43\n",
      "Loop  50: train 2019-02-20 00:00:00 -> 2023-02-19 00:00:00, forecast 2023-02-20 00:00:00\n",
      "  dat_slice shape: torch.Size([1462, 24, 10])  → flatten count = 35088\n",
      "-> finished loop 44\n",
      "Loop  51: train 2019-02-21 00:00:00 -> 2023-02-20 00:00:00, forecast 2023-02-21 00:00:00\n",
      "  dat_slice shape: torch.Size([1462, 24, 10])  → flatten count = 35088\n"
     ]
    },
    {
     "name": "stderr",
     "output_type": "stream",
     "text": [
      "C:\\Users\\amaguaya\\AppData\\Local\\Packages\\PythonSoftwareFoundation.Python.3.11_qbz5n2kfra8p0\\LocalCache\\local-packages\\Python311\\site-packages\\sklearn\\utils\\validation.py:2739: UserWarning: X does not have valid feature names, but LGBMRegressor was fitted with feature names\n",
      "  warnings.warn(\n",
      "C:\\Users\\amaguaya\\AppData\\Local\\Packages\\PythonSoftwareFoundation.Python.3.11_qbz5n2kfra8p0\\LocalCache\\local-packages\\Python311\\site-packages\\sklearn\\utils\\validation.py:2739: UserWarning: X does not have valid feature names, but LGBMRegressor was fitted with feature names\n",
      "  warnings.warn(\n"
     ]
    },
    {
     "name": "stdout",
     "output_type": "stream",
     "text": [
      "-> finished loop 45\n",
      "Loop  52: train 2019-02-22 00:00:00 -> 2023-02-21 00:00:00, forecast 2023-02-22 00:00:00\n",
      "  dat_slice shape: torch.Size([1462, 24, 10])  → flatten count = 35088\n",
      "-> finished loop 46\n",
      "Loop  53: train 2019-02-23 00:00:00 -> 2023-02-22 00:00:00, forecast 2023-02-23 00:00:00\n",
      "  dat_slice shape: torch.Size([1462, 24, 10])  → flatten count = 35088\n"
     ]
    },
    {
     "name": "stderr",
     "output_type": "stream",
     "text": [
      "C:\\Users\\amaguaya\\AppData\\Local\\Packages\\PythonSoftwareFoundation.Python.3.11_qbz5n2kfra8p0\\LocalCache\\local-packages\\Python311\\site-packages\\sklearn\\utils\\validation.py:2739: UserWarning: X does not have valid feature names, but LGBMRegressor was fitted with feature names\n",
      "  warnings.warn(\n"
     ]
    },
    {
     "name": "stdout",
     "output_type": "stream",
     "text": [
      "-> finished loop 47\n",
      "Loop  54: train 2019-02-24 00:00:00 -> 2023-02-23 00:00:00, forecast 2023-02-24 00:00:00\n",
      "  dat_slice shape: torch.Size([1462, 24, 10])  → flatten count = 35088\n"
     ]
    },
    {
     "name": "stderr",
     "output_type": "stream",
     "text": [
      "C:\\Users\\amaguaya\\AppData\\Local\\Packages\\PythonSoftwareFoundation.Python.3.11_qbz5n2kfra8p0\\LocalCache\\local-packages\\Python311\\site-packages\\sklearn\\utils\\validation.py:2739: UserWarning: X does not have valid feature names, but LGBMRegressor was fitted with feature names\n",
      "  warnings.warn(\n",
      "C:\\Users\\amaguaya\\AppData\\Local\\Packages\\PythonSoftwareFoundation.Python.3.11_qbz5n2kfra8p0\\LocalCache\\local-packages\\Python311\\site-packages\\sklearn\\utils\\validation.py:2739: UserWarning: X does not have valid feature names, but LGBMRegressor was fitted with feature names\n",
      "  warnings.warn(\n"
     ]
    },
    {
     "name": "stdout",
     "output_type": "stream",
     "text": [
      "-> finished loop 48\n",
      "Loop  55: train 2019-02-25 00:00:00 -> 2023-02-24 00:00:00, forecast 2023-02-25 00:00:00\n",
      "  dat_slice shape: torch.Size([1462, 24, 10])  → flatten count = 35088\n",
      "-> finished loop 49\n",
      "Loop  56: train 2019-02-26 00:00:00 -> 2023-02-25 00:00:00, forecast 2023-02-26 00:00:00\n",
      "  dat_slice shape: torch.Size([1462, 24, 10])  → flatten count = 35088\n"
     ]
    },
    {
     "name": "stderr",
     "output_type": "stream",
     "text": [
      "C:\\Users\\amaguaya\\AppData\\Local\\Packages\\PythonSoftwareFoundation.Python.3.11_qbz5n2kfra8p0\\LocalCache\\local-packages\\Python311\\site-packages\\sklearn\\utils\\validation.py:2739: UserWarning: X does not have valid feature names, but LGBMRegressor was fitted with feature names\n",
      "  warnings.warn(\n",
      "C:\\Users\\amaguaya\\AppData\\Local\\Packages\\PythonSoftwareFoundation.Python.3.11_qbz5n2kfra8p0\\LocalCache\\local-packages\\Python311\\site-packages\\sklearn\\utils\\validation.py:2739: UserWarning: X does not have valid feature names, but LGBMRegressor was fitted with feature names\n",
      "  warnings.warn(\n"
     ]
    },
    {
     "name": "stdout",
     "output_type": "stream",
     "text": [
      "-> finished loop 51\n",
      "Loop  57: train 2019-02-27 00:00:00 -> 2023-02-26 00:00:00, forecast 2023-02-27 00:00:00\n",
      "  dat_slice shape: torch.Size([1462, 24, 10])  → flatten count = 35088\n",
      "-> finished loop 50\n",
      "Loop  58: train 2019-02-28 00:00:00 -> 2023-02-27 00:00:00, forecast 2023-02-28 00:00:00\n",
      "  dat_slice shape: torch.Size([1462, 24, 10])  → flatten count = 35088\n"
     ]
    },
    {
     "name": "stderr",
     "output_type": "stream",
     "text": [
      "C:\\Users\\amaguaya\\AppData\\Local\\Packages\\PythonSoftwareFoundation.Python.3.11_qbz5n2kfra8p0\\LocalCache\\local-packages\\Python311\\site-packages\\sklearn\\utils\\validation.py:2739: UserWarning: X does not have valid feature names, but LGBMRegressor was fitted with feature names\n",
      "  warnings.warn(\n"
     ]
    },
    {
     "name": "stdout",
     "output_type": "stream",
     "text": [
      "-> finished loop 52\n",
      "Loop  59: train 2019-03-01 00:00:00 -> 2023-02-28 00:00:00, forecast 2023-03-01 00:00:00\n",
      "  dat_slice shape: torch.Size([1462, 24, 10])  → flatten count = 35088\n"
     ]
    },
    {
     "name": "stderr",
     "output_type": "stream",
     "text": [
      "C:\\Users\\amaguaya\\AppData\\Local\\Packages\\PythonSoftwareFoundation.Python.3.11_qbz5n2kfra8p0\\LocalCache\\local-packages\\Python311\\site-packages\\sklearn\\utils\\validation.py:2739: UserWarning: X does not have valid feature names, but LGBMRegressor was fitted with feature names\n",
      "  warnings.warn(\n"
     ]
    },
    {
     "name": "stdout",
     "output_type": "stream",
     "text": [
      "-> finished loop 53\n",
      "Loop  60: train 2019-03-02 00:00:00 -> 2023-03-01 00:00:00, forecast 2023-03-02 00:00:00\n",
      "  dat_slice shape: torch.Size([1462, 24, 10])  → flatten count = 35088\n"
     ]
    },
    {
     "name": "stderr",
     "output_type": "stream",
     "text": [
      "C:\\Users\\amaguaya\\AppData\\Local\\Packages\\PythonSoftwareFoundation.Python.3.11_qbz5n2kfra8p0\\LocalCache\\local-packages\\Python311\\site-packages\\sklearn\\utils\\validation.py:2739: UserWarning: X does not have valid feature names, but LGBMRegressor was fitted with feature names\n",
      "  warnings.warn(\n",
      "C:\\Users\\amaguaya\\AppData\\Local\\Packages\\PythonSoftwareFoundation.Python.3.11_qbz5n2kfra8p0\\LocalCache\\local-packages\\Python311\\site-packages\\sklearn\\utils\\validation.py:2739: UserWarning: X does not have valid feature names, but LGBMRegressor was fitted with feature names\n",
      "  warnings.warn(\n",
      "C:\\Users\\amaguaya\\AppData\\Local\\Packages\\PythonSoftwareFoundation.Python.3.11_qbz5n2kfra8p0\\LocalCache\\local-packages\\Python311\\site-packages\\sklearn\\utils\\validation.py:2739: UserWarning: X does not have valid feature names, but LGBMRegressor was fitted with feature names\n",
      "  warnings.warn(\n",
      "C:\\Users\\amaguaya\\AppData\\Local\\Packages\\PythonSoftwareFoundation.Python.3.11_qbz5n2kfra8p0\\LocalCache\\local-packages\\Python311\\site-packages\\sklearn\\utils\\validation.py:2739: UserWarning: X does not have valid feature names, but LGBMRegressor was fitted with feature names\n",
      "  warnings.warn(\n"
     ]
    },
    {
     "name": "stdout",
     "output_type": "stream",
     "text": [
      "-> finished loop 56\n",
      "Loop  61: train 2019-03-03 00:00:00 -> 2023-03-02 00:00:00, forecast 2023-03-03 00:00:00\n",
      "  dat_slice shape: torch.Size([1462, 24, 10])  → flatten count = 35088\n",
      "-> finished loop 54\n",
      "Loop  62: train 2019-03-04 00:00:00 -> 2023-03-03 00:00:00, forecast 2023-03-04 00:00:00\n",
      "  dat_slice shape: torch.Size([1462, 24, 10])  → flatten count = 35088\n",
      "-> finished loop 57\n",
      "Loop  63: train 2019-03-05 00:00:00 -> 2023-03-04 00:00:00, forecast 2023-03-05 00:00:00\n",
      "  dat_slice shape: torch.Size([1462, 24, 10])  → flatten count = 35088\n",
      "-> finished loop 58\n",
      "Loop  64: train 2019-03-06 00:00:00 -> 2023-03-05 00:00:00, forecast 2023-03-06 00:00:00\n",
      "  dat_slice shape: torch.Size([1462, 24, 10])  → flatten count = 35088\n"
     ]
    },
    {
     "name": "stderr",
     "output_type": "stream",
     "text": [
      "C:\\Users\\amaguaya\\AppData\\Local\\Packages\\PythonSoftwareFoundation.Python.3.11_qbz5n2kfra8p0\\LocalCache\\local-packages\\Python311\\site-packages\\sklearn\\utils\\validation.py:2739: UserWarning: X does not have valid feature names, but LGBMRegressor was fitted with feature names\n",
      "  warnings.warn(\n",
      "C:\\Users\\amaguaya\\AppData\\Local\\Packages\\PythonSoftwareFoundation.Python.3.11_qbz5n2kfra8p0\\LocalCache\\local-packages\\Python311\\site-packages\\sklearn\\utils\\validation.py:2739: UserWarning: X does not have valid feature names, but LGBMRegressor was fitted with feature names\n",
      "  warnings.warn(\n"
     ]
    },
    {
     "name": "stdout",
     "output_type": "stream",
     "text": [
      "-> finished loop 55\n",
      "Loop  65: train 2019-03-07 00:00:00 -> 2023-03-06 00:00:00, forecast 2023-03-07 00:00:00\n",
      "  dat_slice shape: torch.Size([1462, 24, 10])  → flatten count = 35088\n",
      "-> finished loop 59\n",
      "Loop  66: train 2019-03-08 00:00:00 -> 2023-03-07 00:00:00, forecast 2023-03-08 00:00:00\n",
      "  dat_slice shape: torch.Size([1462, 24, 10])  → flatten count = 35088\n"
     ]
    },
    {
     "name": "stderr",
     "output_type": "stream",
     "text": [
      "C:\\Users\\amaguaya\\AppData\\Local\\Packages\\PythonSoftwareFoundation.Python.3.11_qbz5n2kfra8p0\\LocalCache\\local-packages\\Python311\\site-packages\\sklearn\\utils\\validation.py:2739: UserWarning: X does not have valid feature names, but LGBMRegressor was fitted with feature names\n",
      "  warnings.warn(\n"
     ]
    },
    {
     "name": "stdout",
     "output_type": "stream",
     "text": [
      "-> finished loop 60\n",
      "Loop  67: train 2019-03-09 00:00:00 -> 2023-03-08 00:00:00, forecast 2023-03-09 00:00:00\n",
      "  dat_slice shape: torch.Size([1462, 24, 10])  → flatten count = 35088\n",
      "-> finished loop 61\n",
      "Loop  68: train 2019-03-10 00:00:00 -> 2023-03-09 00:00:00, forecast 2023-03-10 00:00:00\n",
      "  dat_slice shape: torch.Size([1462, 24, 10])  → flatten count = 35088\n",
      "-> finished loop 63\n",
      "Loop  69: train 2019-03-11 00:00:00 -> 2023-03-10 00:00:00, forecast 2023-03-11 00:00:00\n",
      "  dat_slice shape: torch.Size([1462, 24, 10])  → flatten count = 35088\n",
      "-> finished loop 64\n",
      "Loop  70: train 2019-03-12 00:00:00 -> 2023-03-11 00:00:00, forecast 2023-03-12 00:00:00\n",
      "  dat_slice shape: torch.Size([1462, 24, 10])  → flatten count = 35088\n"
     ]
    },
    {
     "name": "stderr",
     "output_type": "stream",
     "text": [
      "C:\\Users\\amaguaya\\AppData\\Local\\Packages\\PythonSoftwareFoundation.Python.3.11_qbz5n2kfra8p0\\LocalCache\\local-packages\\Python311\\site-packages\\sklearn\\utils\\validation.py:2739: UserWarning: X does not have valid feature names, but LGBMRegressor was fitted with feature names\n",
      "  warnings.warn(\n",
      "C:\\Users\\amaguaya\\AppData\\Local\\Packages\\PythonSoftwareFoundation.Python.3.11_qbz5n2kfra8p0\\LocalCache\\local-packages\\Python311\\site-packages\\sklearn\\utils\\validation.py:2739: UserWarning: X does not have valid feature names, but LGBMRegressor was fitted with feature names\n",
      "  warnings.warn(\n",
      "C:\\Users\\amaguaya\\AppData\\Local\\Packages\\PythonSoftwareFoundation.Python.3.11_qbz5n2kfra8p0\\LocalCache\\local-packages\\Python311\\site-packages\\sklearn\\utils\\validation.py:2739: UserWarning: X does not have valid feature names, but LGBMRegressor was fitted with feature names\n",
      "  warnings.warn(\n",
      "C:\\Users\\amaguaya\\AppData\\Local\\Packages\\PythonSoftwareFoundation.Python.3.11_qbz5n2kfra8p0\\LocalCache\\local-packages\\Python311\\site-packages\\sklearn\\utils\\validation.py:2739: UserWarning: X does not have valid feature names, but LGBMRegressor was fitted with feature names\n",
      "  warnings.warn(\n"
     ]
    },
    {
     "name": "stdout",
     "output_type": "stream",
     "text": [
      "-> finished loop 62\n",
      "Loop  71: train 2019-03-13 00:00:00 -> 2023-03-12 00:00:00, forecast 2023-03-13 00:00:00\n",
      "  dat_slice shape: torch.Size([1462, 24, 10])  → flatten count = 35088\n"
     ]
    },
    {
     "name": "stderr",
     "output_type": "stream",
     "text": [
      "C:\\Users\\amaguaya\\AppData\\Local\\Packages\\PythonSoftwareFoundation.Python.3.11_qbz5n2kfra8p0\\LocalCache\\local-packages\\Python311\\site-packages\\sklearn\\utils\\validation.py:2739: UserWarning: X does not have valid feature names, but LGBMRegressor was fitted with feature names\n",
      "  warnings.warn(\n",
      "C:\\Users\\amaguaya\\AppData\\Local\\Packages\\PythonSoftwareFoundation.Python.3.11_qbz5n2kfra8p0\\LocalCache\\local-packages\\Python311\\site-packages\\sklearn\\utils\\validation.py:2739: UserWarning: X does not have valid feature names, but LGBMRegressor was fitted with feature names\n",
      "  warnings.warn(\n"
     ]
    },
    {
     "name": "stdout",
     "output_type": "stream",
     "text": [
      "-> finished loop 66\n",
      "Loop  72: train 2019-03-14 00:00:00 -> 2023-03-13 00:00:00, forecast 2023-03-14 00:00:00\n",
      "  dat_slice shape: torch.Size([1462, 24, 10])  → flatten count = 35088\n",
      "-> finished loop 65\n",
      "Loop  73: train 2019-03-15 00:00:00 -> 2023-03-14 00:00:00, forecast 2023-03-15 00:00:00\n",
      "  dat_slice shape: torch.Size([1462, 24, 10])  → flatten count = 35088\n"
     ]
    },
    {
     "name": "stderr",
     "output_type": "stream",
     "text": [
      "C:\\Users\\amaguaya\\AppData\\Local\\Packages\\PythonSoftwareFoundation.Python.3.11_qbz5n2kfra8p0\\LocalCache\\local-packages\\Python311\\site-packages\\sklearn\\utils\\validation.py:2739: UserWarning: X does not have valid feature names, but LGBMRegressor was fitted with feature names\n",
      "  warnings.warn(\n"
     ]
    },
    {
     "name": "stdout",
     "output_type": "stream",
     "text": [
      "-> finished loop 67\n",
      "Loop  74: train 2019-03-16 00:00:00 -> 2023-03-15 00:00:00, forecast 2023-03-16 00:00:00\n",
      "  dat_slice shape: torch.Size([1462, 24, 10])  → flatten count = 35088\n"
     ]
    },
    {
     "name": "stderr",
     "output_type": "stream",
     "text": [
      "C:\\Users\\amaguaya\\AppData\\Local\\Packages\\PythonSoftwareFoundation.Python.3.11_qbz5n2kfra8p0\\LocalCache\\local-packages\\Python311\\site-packages\\sklearn\\utils\\validation.py:2739: UserWarning: X does not have valid feature names, but LGBMRegressor was fitted with feature names\n",
      "  warnings.warn(\n",
      "C:\\Users\\amaguaya\\AppData\\Local\\Packages\\PythonSoftwareFoundation.Python.3.11_qbz5n2kfra8p0\\LocalCache\\local-packages\\Python311\\site-packages\\sklearn\\utils\\validation.py:2739: UserWarning: X does not have valid feature names, but LGBMRegressor was fitted with feature names\n",
      "  warnings.warn(\n"
     ]
    },
    {
     "name": "stdout",
     "output_type": "stream",
     "text": [
      "-> finished loop 68\n",
      "Loop  75: train 2019-03-17 00:00:00 -> 2023-03-16 00:00:00, forecast 2023-03-17 00:00:00\n",
      "  dat_slice shape: torch.Size([1462, 24, 10])  → flatten count = 35088\n",
      "-> finished loop 70\n",
      "Loop  76: train 2019-03-18 00:00:00 -> 2023-03-17 00:00:00, forecast 2023-03-18 00:00:00\n",
      "  dat_slice shape: torch.Size([1462, 24, 10])  → flatten count = 35088\n"
     ]
    },
    {
     "name": "stderr",
     "output_type": "stream",
     "text": [
      "C:\\Users\\amaguaya\\AppData\\Local\\Packages\\PythonSoftwareFoundation.Python.3.11_qbz5n2kfra8p0\\LocalCache\\local-packages\\Python311\\site-packages\\sklearn\\utils\\validation.py:2739: UserWarning: X does not have valid feature names, but LGBMRegressor was fitted with feature names\n",
      "  warnings.warn(\n",
      "C:\\Users\\amaguaya\\AppData\\Local\\Packages\\PythonSoftwareFoundation.Python.3.11_qbz5n2kfra8p0\\LocalCache\\local-packages\\Python311\\site-packages\\sklearn\\utils\\validation.py:2739: UserWarning: X does not have valid feature names, but LGBMRegressor was fitted with feature names\n",
      "  warnings.warn(\n",
      "C:\\Users\\amaguaya\\AppData\\Local\\Packages\\PythonSoftwareFoundation.Python.3.11_qbz5n2kfra8p0\\LocalCache\\local-packages\\Python311\\site-packages\\sklearn\\utils\\validation.py:2739: UserWarning: X does not have valid feature names, but LGBMRegressor was fitted with feature names\n",
      "  warnings.warn(\n"
     ]
    },
    {
     "name": "stdout",
     "output_type": "stream",
     "text": [
      "-> finished loop 69\n",
      "Loop  77: train 2019-03-19 00:00:00 -> 2023-03-18 00:00:00, forecast 2023-03-19 00:00:00\n",
      "  dat_slice shape: torch.Size([1462, 24, 10])  → flatten count = 35088\n",
      "-> finished loop 71\n",
      "Loop  78: train 2019-03-20 00:00:00 -> 2023-03-19 00:00:00, forecast 2023-03-20 00:00:00\n",
      "  dat_slice shape: torch.Size([1462, 24, 10])  → flatten count = 35088\n",
      "-> finished loop 72\n",
      "Loop  79: train 2019-03-21 00:00:00 -> 2023-03-20 00:00:00, forecast 2023-03-21 00:00:00\n",
      "  dat_slice shape: torch.Size([1462, 24, 10])  → flatten count = 35088\n"
     ]
    },
    {
     "name": "stderr",
     "output_type": "stream",
     "text": [
      "C:\\Users\\amaguaya\\AppData\\Local\\Packages\\PythonSoftwareFoundation.Python.3.11_qbz5n2kfra8p0\\LocalCache\\local-packages\\Python311\\site-packages\\sklearn\\utils\\validation.py:2739: UserWarning: X does not have valid feature names, but LGBMRegressor was fitted with feature names\n",
      "  warnings.warn(\n"
     ]
    },
    {
     "name": "stdout",
     "output_type": "stream",
     "text": [
      "-> finished loop 73\n",
      "Loop  80: train 2019-03-22 00:00:00 -> 2023-03-21 00:00:00, forecast 2023-03-22 00:00:00\n",
      "  dat_slice shape: torch.Size([1462, 24, 10])  → flatten count = 35088\n"
     ]
    },
    {
     "name": "stderr",
     "output_type": "stream",
     "text": [
      "C:\\Users\\amaguaya\\AppData\\Local\\Packages\\PythonSoftwareFoundation.Python.3.11_qbz5n2kfra8p0\\LocalCache\\local-packages\\Python311\\site-packages\\sklearn\\utils\\validation.py:2739: UserWarning: X does not have valid feature names, but LGBMRegressor was fitted with feature names\n",
      "  warnings.warn(\n"
     ]
    },
    {
     "name": "stdout",
     "output_type": "stream",
     "text": [
      "-> finished loop 74\n",
      "Loop  81: train 2019-03-23 00:00:00 -> 2023-03-22 00:00:00, forecast 2023-03-23 00:00:00\n",
      "  dat_slice shape: torch.Size([1462, 24, 10])  → flatten count = 35088\n"
     ]
    },
    {
     "name": "stderr",
     "output_type": "stream",
     "text": [
      "C:\\Users\\amaguaya\\AppData\\Local\\Packages\\PythonSoftwareFoundation.Python.3.11_qbz5n2kfra8p0\\LocalCache\\local-packages\\Python311\\site-packages\\sklearn\\utils\\validation.py:2739: UserWarning: X does not have valid feature names, but LGBMRegressor was fitted with feature names\n",
      "  warnings.warn(\n",
      "C:\\Users\\amaguaya\\AppData\\Local\\Packages\\PythonSoftwareFoundation.Python.3.11_qbz5n2kfra8p0\\LocalCache\\local-packages\\Python311\\site-packages\\sklearn\\utils\\validation.py:2739: UserWarning: X does not have valid feature names, but LGBMRegressor was fitted with feature names\n",
      "  warnings.warn(\n"
     ]
    },
    {
     "name": "stdout",
     "output_type": "stream",
     "text": [
      "-> finished loop 75\n",
      "Loop  82: train 2019-03-24 00:00:00 -> 2023-03-23 00:00:00, forecast 2023-03-24 00:00:00\n",
      "  dat_slice shape: torch.Size([1462, 24, 10])  → flatten count = 35088\n",
      "-> finished loop 76\n",
      "Loop  83: train 2019-03-25 00:00:00 -> 2023-03-24 00:00:00, forecast 2023-03-25 00:00:00\n",
      "  dat_slice shape: torch.Size([1462, 24, 10])  → flatten count = 35088\n"
     ]
    },
    {
     "name": "stderr",
     "output_type": "stream",
     "text": [
      "C:\\Users\\amaguaya\\AppData\\Local\\Packages\\PythonSoftwareFoundation.Python.3.11_qbz5n2kfra8p0\\LocalCache\\local-packages\\Python311\\site-packages\\sklearn\\utils\\validation.py:2739: UserWarning: X does not have valid feature names, but LGBMRegressor was fitted with feature names\n",
      "  warnings.warn(\n",
      "C:\\Users\\amaguaya\\AppData\\Local\\Packages\\PythonSoftwareFoundation.Python.3.11_qbz5n2kfra8p0\\LocalCache\\local-packages\\Python311\\site-packages\\sklearn\\utils\\validation.py:2739: UserWarning: X does not have valid feature names, but LGBMRegressor was fitted with feature names\n",
      "  warnings.warn(\n",
      "C:\\Users\\amaguaya\\AppData\\Local\\Packages\\PythonSoftwareFoundation.Python.3.11_qbz5n2kfra8p0\\LocalCache\\local-packages\\Python311\\site-packages\\sklearn\\utils\\validation.py:2739: UserWarning: X does not have valid feature names, but LGBMRegressor was fitted with feature names\n",
      "  warnings.warn(\n"
     ]
    },
    {
     "name": "stdout",
     "output_type": "stream",
     "text": [
      "-> finished loop 79\n",
      "Loop  84: train 2019-03-26 00:00:00 -> 2023-03-25 00:00:00, forecast 2023-03-26 00:00:00\n",
      "  dat_slice shape: torch.Size([1462, 24, 10])  → flatten count = 35088\n",
      "-> finished loop 78\n",
      "Loop  85: train 2019-03-27 00:00:00 -> 2023-03-26 00:00:00, forecast 2023-03-27 00:00:00\n",
      "  dat_slice shape: torch.Size([1462, 24, 10])  → flatten count = 35088\n",
      "-> finished loop 77\n",
      "Loop  86: train 2019-03-28 00:00:00 -> 2023-03-27 00:00:00, forecast 2023-03-28 00:00:00\n",
      "  dat_slice shape: torch.Size([1462, 24, 10])  → flatten count = 35088\n"
     ]
    },
    {
     "name": "stderr",
     "output_type": "stream",
     "text": [
      "C:\\Users\\amaguaya\\AppData\\Local\\Packages\\PythonSoftwareFoundation.Python.3.11_qbz5n2kfra8p0\\LocalCache\\local-packages\\Python311\\site-packages\\sklearn\\utils\\validation.py:2739: UserWarning: X does not have valid feature names, but LGBMRegressor was fitted with feature names\n",
      "  warnings.warn(\n"
     ]
    },
    {
     "name": "stdout",
     "output_type": "stream",
     "text": [
      "-> finished loop 80\n",
      "Loop  87: train 2019-03-29 00:00:00 -> 2023-03-28 00:00:00, forecast 2023-03-29 00:00:00\n",
      "  dat_slice shape: torch.Size([1462, 24, 10])  → flatten count = 35088\n"
     ]
    },
    {
     "name": "stderr",
     "output_type": "stream",
     "text": [
      "C:\\Users\\amaguaya\\AppData\\Local\\Packages\\PythonSoftwareFoundation.Python.3.11_qbz5n2kfra8p0\\LocalCache\\local-packages\\Python311\\site-packages\\sklearn\\utils\\validation.py:2739: UserWarning: X does not have valid feature names, but LGBMRegressor was fitted with feature names\n",
      "  warnings.warn(\n"
     ]
    },
    {
     "name": "stdout",
     "output_type": "stream",
     "text": [
      "-> finished loop 81\n",
      "Loop  88: train 2019-03-30 00:00:00 -> 2023-03-29 00:00:00, forecast 2023-03-30 00:00:00\n",
      "  dat_slice shape: torch.Size([1462, 24, 10])  → flatten count = 35088\n"
     ]
    },
    {
     "name": "stderr",
     "output_type": "stream",
     "text": [
      "C:\\Users\\amaguaya\\AppData\\Local\\Packages\\PythonSoftwareFoundation.Python.3.11_qbz5n2kfra8p0\\LocalCache\\local-packages\\Python311\\site-packages\\sklearn\\utils\\validation.py:2739: UserWarning: X does not have valid feature names, but LGBMRegressor was fitted with feature names\n",
      "  warnings.warn(\n",
      "C:\\Users\\amaguaya\\AppData\\Local\\Packages\\PythonSoftwareFoundation.Python.3.11_qbz5n2kfra8p0\\LocalCache\\local-packages\\Python311\\site-packages\\sklearn\\utils\\validation.py:2739: UserWarning: X does not have valid feature names, but LGBMRegressor was fitted with feature names\n",
      "  warnings.warn(\n"
     ]
    },
    {
     "name": "stdout",
     "output_type": "stream",
     "text": [
      "-> finished loop 82\n",
      "Loop  89: train 2019-03-31 00:00:00 -> 2023-03-30 00:00:00, forecast 2023-03-31 00:00:00\n",
      "  dat_slice shape: torch.Size([1462, 24, 10])  → flatten count = 35088\n",
      "-> finished loop 83\n",
      "Loop  90: train 2019-04-01 00:00:00 -> 2023-03-31 00:00:00, forecast 2023-04-01 00:00:00\n",
      "  dat_slice shape: torch.Size([1462, 24, 10])  → flatten count = 35088\n"
     ]
    },
    {
     "name": "stderr",
     "output_type": "stream",
     "text": [
      "C:\\Users\\amaguaya\\AppData\\Local\\Packages\\PythonSoftwareFoundation.Python.3.11_qbz5n2kfra8p0\\LocalCache\\local-packages\\Python311\\site-packages\\sklearn\\utils\\validation.py:2739: UserWarning: X does not have valid feature names, but LGBMRegressor was fitted with feature names\n",
      "  warnings.warn(\n",
      "C:\\Users\\amaguaya\\AppData\\Local\\Packages\\PythonSoftwareFoundation.Python.3.11_qbz5n2kfra8p0\\LocalCache\\local-packages\\Python311\\site-packages\\sklearn\\utils\\validation.py:2739: UserWarning: X does not have valid feature names, but LGBMRegressor was fitted with feature names\n",
      "  warnings.warn(\n"
     ]
    },
    {
     "name": "stdout",
     "output_type": "stream",
     "text": [
      "-> finished loop 84\n",
      "Loop  91: train 2019-04-02 00:00:00 -> 2023-04-01 00:00:00, forecast 2023-04-02 00:00:00\n",
      "  dat_slice shape: torch.Size([1462, 24, 10])  → flatten count = 35088\n",
      "-> finished loop 86\n",
      "Loop  92: train 2019-04-03 00:00:00 -> 2023-04-02 00:00:00, forecast 2023-04-03 00:00:00\n",
      "  dat_slice shape: torch.Size([1462, 24, 10])  → flatten count = 35088\n"
     ]
    },
    {
     "name": "stderr",
     "output_type": "stream",
     "text": [
      "C:\\Users\\amaguaya\\AppData\\Local\\Packages\\PythonSoftwareFoundation.Python.3.11_qbz5n2kfra8p0\\LocalCache\\local-packages\\Python311\\site-packages\\sklearn\\utils\\validation.py:2739: UserWarning: X does not have valid feature names, but LGBMRegressor was fitted with feature names\n",
      "  warnings.warn(\n"
     ]
    },
    {
     "name": "stdout",
     "output_type": "stream",
     "text": [
      "-> finished loop 85\n",
      "Loop  93: train 2019-04-04 00:00:00 -> 2023-04-03 00:00:00, forecast 2023-04-04 00:00:00\n",
      "  dat_slice shape: torch.Size([1462, 24, 10])  → flatten count = 35088\n"
     ]
    },
    {
     "name": "stderr",
     "output_type": "stream",
     "text": [
      "C:\\Users\\amaguaya\\AppData\\Local\\Packages\\PythonSoftwareFoundation.Python.3.11_qbz5n2kfra8p0\\LocalCache\\local-packages\\Python311\\site-packages\\sklearn\\utils\\validation.py:2739: UserWarning: X does not have valid feature names, but LGBMRegressor was fitted with feature names\n",
      "  warnings.warn(\n"
     ]
    },
    {
     "name": "stdout",
     "output_type": "stream",
     "text": [
      "-> finished loop 87\n",
      "Loop  94: train 2019-04-05 00:00:00 -> 2023-04-04 00:00:00, forecast 2023-04-05 00:00:00\n",
      "  dat_slice shape: torch.Size([1462, 24, 10])  → flatten count = 35088\n"
     ]
    },
    {
     "name": "stderr",
     "output_type": "stream",
     "text": [
      "C:\\Users\\amaguaya\\AppData\\Local\\Packages\\PythonSoftwareFoundation.Python.3.11_qbz5n2kfra8p0\\LocalCache\\local-packages\\Python311\\site-packages\\sklearn\\utils\\validation.py:2739: UserWarning: X does not have valid feature names, but LGBMRegressor was fitted with feature names\n",
      "  warnings.warn(\n",
      "C:\\Users\\amaguaya\\AppData\\Local\\Packages\\PythonSoftwareFoundation.Python.3.11_qbz5n2kfra8p0\\LocalCache\\local-packages\\Python311\\site-packages\\sklearn\\utils\\validation.py:2739: UserWarning: X does not have valid feature names, but LGBMRegressor was fitted with feature names\n",
      "  warnings.warn(\n",
      "C:\\Users\\amaguaya\\AppData\\Local\\Packages\\PythonSoftwareFoundation.Python.3.11_qbz5n2kfra8p0\\LocalCache\\local-packages\\Python311\\site-packages\\sklearn\\utils\\validation.py:2739: UserWarning: X does not have valid feature names, but LGBMRegressor was fitted with feature names\n",
      "  warnings.warn(\n"
     ]
    },
    {
     "name": "stdout",
     "output_type": "stream",
     "text": [
      "-> finished loop 88\n",
      "Loop  95: train 2019-04-06 00:00:00 -> 2023-04-05 00:00:00, forecast 2023-04-06 00:00:00\n",
      "  dat_slice shape: torch.Size([1462, 24, 10])  → flatten count = 35088\n",
      "-> finished loop 89\n",
      "Loop  96: train 2019-04-07 00:00:00 -> 2023-04-06 00:00:00, forecast 2023-04-07 00:00:00\n",
      "  dat_slice shape: torch.Size([1462, 24, 10])  → flatten count = 35088\n",
      "-> finished loop 90\n",
      "Loop  97: train 2019-04-08 00:00:00 -> 2023-04-07 00:00:00, forecast 2023-04-08 00:00:00\n",
      "  dat_slice shape: torch.Size([1462, 24, 10])  → flatten count = 35088\n"
     ]
    },
    {
     "name": "stderr",
     "output_type": "stream",
     "text": [
      "C:\\Users\\amaguaya\\AppData\\Local\\Packages\\PythonSoftwareFoundation.Python.3.11_qbz5n2kfra8p0\\LocalCache\\local-packages\\Python311\\site-packages\\sklearn\\utils\\validation.py:2739: UserWarning: X does not have valid feature names, but LGBMRegressor was fitted with feature names\n",
      "  warnings.warn(\n",
      "C:\\Users\\amaguaya\\AppData\\Local\\Packages\\PythonSoftwareFoundation.Python.3.11_qbz5n2kfra8p0\\LocalCache\\local-packages\\Python311\\site-packages\\sklearn\\utils\\validation.py:2739: UserWarning: X does not have valid feature names, but LGBMRegressor was fitted with feature names\n",
      "  warnings.warn(\n"
     ]
    },
    {
     "name": "stdout",
     "output_type": "stream",
     "text": [
      "-> finished loop 91\n",
      "Loop  98: train 2019-04-09 00:00:00 -> 2023-04-08 00:00:00, forecast 2023-04-09 00:00:00\n",
      "  dat_slice shape: torch.Size([1462, 24, 10])  → flatten count = 35088\n",
      "-> finished loop 92\n",
      "Loop  99: train 2019-04-10 00:00:00 -> 2023-04-09 00:00:00, forecast 2023-04-10 00:00:00\n",
      "  dat_slice shape: torch.Size([1462, 24, 10])  → flatten count = 35088\n"
     ]
    },
    {
     "name": "stderr",
     "output_type": "stream",
     "text": [
      "C:\\Users\\amaguaya\\AppData\\Local\\Packages\\PythonSoftwareFoundation.Python.3.11_qbz5n2kfra8p0\\LocalCache\\local-packages\\Python311\\site-packages\\sklearn\\utils\\validation.py:2739: UserWarning: X does not have valid feature names, but LGBMRegressor was fitted with feature names\n",
      "  warnings.warn(\n"
     ]
    },
    {
     "name": "stdout",
     "output_type": "stream",
     "text": [
      "-> finished loop 93\n",
      "Loop 100: train 2019-04-11 00:00:00 -> 2023-04-10 00:00:00, forecast 2023-04-11 00:00:00\n",
      "  dat_slice shape: torch.Size([1462, 24, 10])  → flatten count = 35088\n"
     ]
    },
    {
     "name": "stderr",
     "output_type": "stream",
     "text": [
      "C:\\Users\\amaguaya\\AppData\\Local\\Packages\\PythonSoftwareFoundation.Python.3.11_qbz5n2kfra8p0\\LocalCache\\local-packages\\Python311\\site-packages\\sklearn\\utils\\validation.py:2739: UserWarning: X does not have valid feature names, but LGBMRegressor was fitted with feature names\n",
      "  warnings.warn(\n",
      "C:\\Users\\amaguaya\\AppData\\Local\\Packages\\PythonSoftwareFoundation.Python.3.11_qbz5n2kfra8p0\\LocalCache\\local-packages\\Python311\\site-packages\\sklearn\\utils\\validation.py:2739: UserWarning: X does not have valid feature names, but LGBMRegressor was fitted with feature names\n",
      "  warnings.warn(\n"
     ]
    },
    {
     "name": "stdout",
     "output_type": "stream",
     "text": [
      "-> finished loop 96\n",
      "Loop 101: train 2019-04-12 00:00:00 -> 2023-04-11 00:00:00, forecast 2023-04-12 00:00:00\n",
      "  dat_slice shape: torch.Size([1462, 24, 10])  → flatten count = 35088\n",
      "-> finished loop 94\n",
      "Loop 102: train 2019-04-13 00:00:00 -> 2023-04-12 00:00:00, forecast 2023-04-13 00:00:00\n",
      "  dat_slice shape: torch.Size([1462, 24, 10])  → flatten count = 35088\n"
     ]
    },
    {
     "name": "stderr",
     "output_type": "stream",
     "text": [
      "C:\\Users\\amaguaya\\AppData\\Local\\Packages\\PythonSoftwareFoundation.Python.3.11_qbz5n2kfra8p0\\LocalCache\\local-packages\\Python311\\site-packages\\sklearn\\utils\\validation.py:2739: UserWarning: X does not have valid feature names, but LGBMRegressor was fitted with feature names\n",
      "  warnings.warn(\n",
      "C:\\Users\\amaguaya\\AppData\\Local\\Packages\\PythonSoftwareFoundation.Python.3.11_qbz5n2kfra8p0\\LocalCache\\local-packages\\Python311\\site-packages\\sklearn\\utils\\validation.py:2739: UserWarning: X does not have valid feature names, but LGBMRegressor was fitted with feature names\n",
      "  warnings.warn(\n",
      "C:\\Users\\amaguaya\\AppData\\Local\\Packages\\PythonSoftwareFoundation.Python.3.11_qbz5n2kfra8p0\\LocalCache\\local-packages\\Python311\\site-packages\\sklearn\\utils\\validation.py:2739: UserWarning: X does not have valid feature names, but LGBMRegressor was fitted with feature names\n",
      "  warnings.warn(\n"
     ]
    },
    {
     "name": "stdout",
     "output_type": "stream",
     "text": [
      "-> finished loop 97\n",
      "Loop 103: train 2019-04-14 00:00:00 -> 2023-04-13 00:00:00, forecast 2023-04-14 00:00:00\n",
      "  dat_slice shape: torch.Size([1462, 24, 10])  → flatten count = 35088\n",
      "-> finished loop 95\n",
      "Loop 104: train 2019-04-15 00:00:00 -> 2023-04-14 00:00:00, forecast 2023-04-15 00:00:00\n",
      "  dat_slice shape: torch.Size([1462, 24, 10])  → flatten count = 35088\n",
      "-> finished loop 98\n",
      "Loop 105: train 2019-04-16 00:00:00 -> 2023-04-15 00:00:00, forecast 2023-04-16 00:00:00\n",
      "  dat_slice shape: torch.Size([1462, 24, 10])  → flatten count = 35088\n"
     ]
    },
    {
     "name": "stderr",
     "output_type": "stream",
     "text": [
      "C:\\Users\\amaguaya\\AppData\\Local\\Packages\\PythonSoftwareFoundation.Python.3.11_qbz5n2kfra8p0\\LocalCache\\local-packages\\Python311\\site-packages\\sklearn\\utils\\validation.py:2739: UserWarning: X does not have valid feature names, but LGBMRegressor was fitted with feature names\n",
      "  warnings.warn(\n"
     ]
    },
    {
     "name": "stdout",
     "output_type": "stream",
     "text": [
      "-> finished loop 99\n",
      "Loop 106: train 2019-04-17 00:00:00 -> 2023-04-16 00:00:00, forecast 2023-04-17 00:00:00\n",
      "  dat_slice shape: torch.Size([1462, 24, 10])  → flatten count = 35088\n"
     ]
    },
    {
     "name": "stderr",
     "output_type": "stream",
     "text": [
      "C:\\Users\\amaguaya\\AppData\\Local\\Packages\\PythonSoftwareFoundation.Python.3.11_qbz5n2kfra8p0\\LocalCache\\local-packages\\Python311\\site-packages\\sklearn\\utils\\validation.py:2739: UserWarning: X does not have valid feature names, but LGBMRegressor was fitted with feature names\n",
      "  warnings.warn(\n"
     ]
    },
    {
     "name": "stdout",
     "output_type": "stream",
     "text": [
      "-> finished loop 100\n",
      "Loop 107: train 2019-04-18 00:00:00 -> 2023-04-17 00:00:00, forecast 2023-04-18 00:00:00\n",
      "  dat_slice shape: torch.Size([1462, 24, 10])  → flatten count = 35088\n"
     ]
    },
    {
     "name": "stderr",
     "output_type": "stream",
     "text": [
      "C:\\Users\\amaguaya\\AppData\\Local\\Packages\\PythonSoftwareFoundation.Python.3.11_qbz5n2kfra8p0\\LocalCache\\local-packages\\Python311\\site-packages\\sklearn\\utils\\validation.py:2739: UserWarning: X does not have valid feature names, but LGBMRegressor was fitted with feature names\n",
      "  warnings.warn(\n"
     ]
    },
    {
     "name": "stdout",
     "output_type": "stream",
     "text": [
      "-> finished loop 101\n",
      "Loop 108: train 2019-04-19 00:00:00 -> 2023-04-18 00:00:00, forecast 2023-04-19 00:00:00\n",
      "  dat_slice shape: torch.Size([1462, 24, 10])  → flatten count = 35088\n"
     ]
    },
    {
     "name": "stderr",
     "output_type": "stream",
     "text": [
      "C:\\Users\\amaguaya\\AppData\\Local\\Packages\\PythonSoftwareFoundation.Python.3.11_qbz5n2kfra8p0\\LocalCache\\local-packages\\Python311\\site-packages\\sklearn\\utils\\validation.py:2739: UserWarning: X does not have valid feature names, but LGBMRegressor was fitted with feature names\n",
      "  warnings.warn(\n"
     ]
    },
    {
     "name": "stdout",
     "output_type": "stream",
     "text": [
      "-> finished loop 103\n",
      "Loop 109: train 2019-04-20 00:00:00 -> 2023-04-19 00:00:00, forecast 2023-04-20 00:00:00\n",
      "  dat_slice shape: torch.Size([1462, 24, 10])  → flatten count = 35088\n"
     ]
    },
    {
     "name": "stderr",
     "output_type": "stream",
     "text": [
      "C:\\Users\\amaguaya\\AppData\\Local\\Packages\\PythonSoftwareFoundation.Python.3.11_qbz5n2kfra8p0\\LocalCache\\local-packages\\Python311\\site-packages\\sklearn\\utils\\validation.py:2739: UserWarning: X does not have valid feature names, but LGBMRegressor was fitted with feature names\n",
      "  warnings.warn(\n",
      "C:\\Users\\amaguaya\\AppData\\Local\\Packages\\PythonSoftwareFoundation.Python.3.11_qbz5n2kfra8p0\\LocalCache\\local-packages\\Python311\\site-packages\\sklearn\\utils\\validation.py:2739: UserWarning: X does not have valid feature names, but LGBMRegressor was fitted with feature names\n",
      "  warnings.warn(\n",
      "C:\\Users\\amaguaya\\AppData\\Local\\Packages\\PythonSoftwareFoundation.Python.3.11_qbz5n2kfra8p0\\LocalCache\\local-packages\\Python311\\site-packages\\sklearn\\utils\\validation.py:2739: UserWarning: X does not have valid feature names, but LGBMRegressor was fitted with feature names\n",
      "  warnings.warn(\n"
     ]
    },
    {
     "name": "stdout",
     "output_type": "stream",
     "text": [
      "-> finished loop 104\n",
      "Loop 110: train 2019-04-21 00:00:00 -> 2023-04-20 00:00:00, forecast 2023-04-21 00:00:00\n",
      "  dat_slice shape: torch.Size([1462, 24, 10])  → flatten count = 35088\n",
      "-> finished loop 106\n",
      "Loop 111: train 2019-04-22 00:00:00 -> 2023-04-21 00:00:00, forecast 2023-04-22 00:00:00\n",
      "  dat_slice shape: torch.Size([1462, 24, 10])  → flatten count = 35088\n",
      "-> finished loop 102\n",
      "Loop 112: train 2019-04-23 00:00:00 -> 2023-04-22 00:00:00, forecast 2023-04-23 00:00:00\n",
      "  dat_slice shape: torch.Size([1462, 24, 10])  → flatten count = 35088\n"
     ]
    },
    {
     "name": "stderr",
     "output_type": "stream",
     "text": [
      "C:\\Users\\amaguaya\\AppData\\Local\\Packages\\PythonSoftwareFoundation.Python.3.11_qbz5n2kfra8p0\\LocalCache\\local-packages\\Python311\\site-packages\\sklearn\\utils\\validation.py:2739: UserWarning: X does not have valid feature names, but LGBMRegressor was fitted with feature names\n",
      "  warnings.warn(\n"
     ]
    },
    {
     "name": "stdout",
     "output_type": "stream",
     "text": [
      "-> finished loop 105\n",
      "Loop 113: train 2019-04-24 00:00:00 -> 2023-04-23 00:00:00, forecast 2023-04-24 00:00:00\n",
      "  dat_slice shape: torch.Size([1462, 24, 10])  → flatten count = 35088\n"
     ]
    },
    {
     "name": "stderr",
     "output_type": "stream",
     "text": [
      "C:\\Users\\amaguaya\\AppData\\Local\\Packages\\PythonSoftwareFoundation.Python.3.11_qbz5n2kfra8p0\\LocalCache\\local-packages\\Python311\\site-packages\\sklearn\\utils\\validation.py:2739: UserWarning: X does not have valid feature names, but LGBMRegressor was fitted with feature names\n",
      "  warnings.warn(\n"
     ]
    },
    {
     "name": "stdout",
     "output_type": "stream",
     "text": [
      "-> finished loop 107\n",
      "Loop 114: train 2019-04-25 00:00:00 -> 2023-04-24 00:00:00, forecast 2023-04-25 00:00:00\n",
      "  dat_slice shape: torch.Size([1462, 24, 10])  → flatten count = 35088\n"
     ]
    },
    {
     "name": "stderr",
     "output_type": "stream",
     "text": [
      "C:\\Users\\amaguaya\\AppData\\Local\\Packages\\PythonSoftwareFoundation.Python.3.11_qbz5n2kfra8p0\\LocalCache\\local-packages\\Python311\\site-packages\\sklearn\\utils\\validation.py:2739: UserWarning: X does not have valid feature names, but LGBMRegressor was fitted with feature names\n",
      "  warnings.warn(\n"
     ]
    },
    {
     "name": "stdout",
     "output_type": "stream",
     "text": [
      "-> finished loop 108\n",
      "Loop 115: train 2019-04-26 00:00:00 -> 2023-04-25 00:00:00, forecast 2023-04-26 00:00:00\n",
      "  dat_slice shape: torch.Size([1462, 24, 10])  → flatten count = 35088\n"
     ]
    },
    {
     "name": "stderr",
     "output_type": "stream",
     "text": [
      "C:\\Users\\amaguaya\\AppData\\Local\\Packages\\PythonSoftwareFoundation.Python.3.11_qbz5n2kfra8p0\\LocalCache\\local-packages\\Python311\\site-packages\\sklearn\\utils\\validation.py:2739: UserWarning: X does not have valid feature names, but LGBMRegressor was fitted with feature names\n",
      "  warnings.warn(\n"
     ]
    },
    {
     "name": "stdout",
     "output_type": "stream",
     "text": [
      "-> finished loop 109\n",
      "Loop 116: train 2019-04-27 00:00:00 -> 2023-04-26 00:00:00, forecast 2023-04-27 00:00:00\n",
      "  dat_slice shape: torch.Size([1462, 24, 10])  → flatten count = 35088\n"
     ]
    },
    {
     "name": "stderr",
     "output_type": "stream",
     "text": [
      "C:\\Users\\amaguaya\\AppData\\Local\\Packages\\PythonSoftwareFoundation.Python.3.11_qbz5n2kfra8p0\\LocalCache\\local-packages\\Python311\\site-packages\\sklearn\\utils\\validation.py:2739: UserWarning: X does not have valid feature names, but LGBMRegressor was fitted with feature names\n",
      "  warnings.warn(\n",
      "C:\\Users\\amaguaya\\AppData\\Local\\Packages\\PythonSoftwareFoundation.Python.3.11_qbz5n2kfra8p0\\LocalCache\\local-packages\\Python311\\site-packages\\sklearn\\utils\\validation.py:2739: UserWarning: X does not have valid feature names, but LGBMRegressor was fitted with feature names\n",
      "  warnings.warn(\n"
     ]
    },
    {
     "name": "stdout",
     "output_type": "stream",
     "text": [
      "-> finished loop 110\n",
      "Loop 117: train 2019-04-28 00:00:00 -> 2023-04-27 00:00:00, forecast 2023-04-28 00:00:00\n",
      "  dat_slice shape: torch.Size([1462, 24, 10])  → flatten count = 35088\n",
      "-> finished loop 113\n",
      "Loop 118: train 2019-04-29 00:00:00 -> 2023-04-28 00:00:00, forecast 2023-04-29 00:00:00\n",
      "  dat_slice shape: torch.Size([1462, 24, 10])  → flatten count = 35088\n"
     ]
    },
    {
     "name": "stderr",
     "output_type": "stream",
     "text": [
      "C:\\Users\\amaguaya\\AppData\\Local\\Packages\\PythonSoftwareFoundation.Python.3.11_qbz5n2kfra8p0\\LocalCache\\local-packages\\Python311\\site-packages\\sklearn\\utils\\validation.py:2739: UserWarning: X does not have valid feature names, but LGBMRegressor was fitted with feature names\n",
      "  warnings.warn(\n",
      "C:\\Users\\amaguaya\\AppData\\Local\\Packages\\PythonSoftwareFoundation.Python.3.11_qbz5n2kfra8p0\\LocalCache\\local-packages\\Python311\\site-packages\\sklearn\\utils\\validation.py:2739: UserWarning: X does not have valid feature names, but LGBMRegressor was fitted with feature names\n",
      "  warnings.warn(\n"
     ]
    },
    {
     "name": "stdout",
     "output_type": "stream",
     "text": [
      "-> finished loop 111\n",
      "Loop 119: train 2019-04-30 00:00:00 -> 2023-04-29 00:00:00, forecast 2023-04-30 00:00:00\n",
      "  dat_slice shape: torch.Size([1462, 24, 10])  → flatten count = 35088\n",
      "-> finished loop 112\n",
      "Loop 120: train 2019-05-01 00:00:00 -> 2023-04-30 00:00:00, forecast 2023-05-01 00:00:00\n",
      "  dat_slice shape: torch.Size([1462, 24, 10])  → flatten count = 35088\n"
     ]
    },
    {
     "name": "stderr",
     "output_type": "stream",
     "text": [
      "C:\\Users\\amaguaya\\AppData\\Local\\Packages\\PythonSoftwareFoundation.Python.3.11_qbz5n2kfra8p0\\LocalCache\\local-packages\\Python311\\site-packages\\sklearn\\utils\\validation.py:2739: UserWarning: X does not have valid feature names, but LGBMRegressor was fitted with feature names\n",
      "  warnings.warn(\n",
      "C:\\Users\\amaguaya\\AppData\\Local\\Packages\\PythonSoftwareFoundation.Python.3.11_qbz5n2kfra8p0\\LocalCache\\local-packages\\Python311\\site-packages\\sklearn\\utils\\validation.py:2739: UserWarning: X does not have valid feature names, but LGBMRegressor was fitted with feature names\n",
      "  warnings.warn(\n"
     ]
    },
    {
     "name": "stdout",
     "output_type": "stream",
     "text": [
      "-> finished loop 114\n",
      "Loop 121: train 2019-05-02 00:00:00 -> 2023-05-01 00:00:00, forecast 2023-05-02 00:00:00\n",
      "  dat_slice shape: torch.Size([1462, 24, 10])  → flatten count = 35088\n",
      "-> finished loop 115\n",
      "Loop 122: train 2019-05-03 00:00:00 -> 2023-05-02 00:00:00, forecast 2023-05-03 00:00:00\n",
      "  dat_slice shape: torch.Size([1462, 24, 10])  → flatten count = 35088\n"
     ]
    },
    {
     "name": "stderr",
     "output_type": "stream",
     "text": [
      "C:\\Users\\amaguaya\\AppData\\Local\\Packages\\PythonSoftwareFoundation.Python.3.11_qbz5n2kfra8p0\\LocalCache\\local-packages\\Python311\\site-packages\\sklearn\\utils\\validation.py:2739: UserWarning: X does not have valid feature names, but LGBMRegressor was fitted with feature names\n",
      "  warnings.warn(\n"
     ]
    },
    {
     "name": "stdout",
     "output_type": "stream",
     "text": [
      "-> finished loop 116\n",
      "Loop 123: train 2019-05-04 00:00:00 -> 2023-05-03 00:00:00, forecast 2023-05-04 00:00:00\n",
      "  dat_slice shape: torch.Size([1462, 24, 10])  → flatten count = 35088\n"
     ]
    },
    {
     "name": "stderr",
     "output_type": "stream",
     "text": [
      "C:\\Users\\amaguaya\\AppData\\Local\\Packages\\PythonSoftwareFoundation.Python.3.11_qbz5n2kfra8p0\\LocalCache\\local-packages\\Python311\\site-packages\\sklearn\\utils\\validation.py:2739: UserWarning: X does not have valid feature names, but LGBMRegressor was fitted with feature names\n",
      "  warnings.warn(\n",
      "C:\\Users\\amaguaya\\AppData\\Local\\Packages\\PythonSoftwareFoundation.Python.3.11_qbz5n2kfra8p0\\LocalCache\\local-packages\\Python311\\site-packages\\sklearn\\utils\\validation.py:2739: UserWarning: X does not have valid feature names, but LGBMRegressor was fitted with feature names\n",
      "  warnings.warn(\n"
     ]
    },
    {
     "name": "stdout",
     "output_type": "stream",
     "text": [
      "-> finished loop 118\n",
      "Loop 124: train 2019-05-05 00:00:00 -> 2023-05-04 00:00:00, forecast 2023-05-05 00:00:00\n",
      "  dat_slice shape: torch.Size([1462, 24, 10])  → flatten count = 35088\n",
      "-> finished loop 117\n",
      "Loop 125: train 2019-05-06 00:00:00 -> 2023-05-05 00:00:00, forecast 2023-05-06 00:00:00\n",
      "  dat_slice shape: torch.Size([1462, 24, 10])  → flatten count = 35088\n"
     ]
    },
    {
     "name": "stderr",
     "output_type": "stream",
     "text": [
      "C:\\Users\\amaguaya\\AppData\\Local\\Packages\\PythonSoftwareFoundation.Python.3.11_qbz5n2kfra8p0\\LocalCache\\local-packages\\Python311\\site-packages\\sklearn\\utils\\validation.py:2739: UserWarning: X does not have valid feature names, but LGBMRegressor was fitted with feature names\n",
      "  warnings.warn(\n"
     ]
    },
    {
     "name": "stdout",
     "output_type": "stream",
     "text": [
      "-> finished loop 119\n",
      "Loop 126: train 2019-05-07 00:00:00 -> 2023-05-06 00:00:00, forecast 2023-05-07 00:00:00\n",
      "  dat_slice shape: torch.Size([1462, 24, 10])  → flatten count = 35088\n"
     ]
    },
    {
     "name": "stderr",
     "output_type": "stream",
     "text": [
      "C:\\Users\\amaguaya\\AppData\\Local\\Packages\\PythonSoftwareFoundation.Python.3.11_qbz5n2kfra8p0\\LocalCache\\local-packages\\Python311\\site-packages\\sklearn\\utils\\validation.py:2739: UserWarning: X does not have valid feature names, but LGBMRegressor was fitted with feature names\n",
      "  warnings.warn(\n"
     ]
    },
    {
     "name": "stdout",
     "output_type": "stream",
     "text": [
      "-> finished loop 120\n",
      "Loop 127: train 2019-05-08 00:00:00 -> 2023-05-07 00:00:00, forecast 2023-05-08 00:00:00\n",
      "  dat_slice shape: torch.Size([1462, 24, 10])  → flatten count = 35088\n"
     ]
    },
    {
     "name": "stderr",
     "output_type": "stream",
     "text": [
      "C:\\Users\\amaguaya\\AppData\\Local\\Packages\\PythonSoftwareFoundation.Python.3.11_qbz5n2kfra8p0\\LocalCache\\local-packages\\Python311\\site-packages\\sklearn\\utils\\validation.py:2739: UserWarning: X does not have valid feature names, but LGBMRegressor was fitted with feature names\n",
      "  warnings.warn(\n",
      "C:\\Users\\amaguaya\\AppData\\Local\\Packages\\PythonSoftwareFoundation.Python.3.11_qbz5n2kfra8p0\\LocalCache\\local-packages\\Python311\\site-packages\\sklearn\\utils\\validation.py:2739: UserWarning: X does not have valid feature names, but LGBMRegressor was fitted with feature names\n",
      "  warnings.warn(\n"
     ]
    },
    {
     "name": "stdout",
     "output_type": "stream",
     "text": [
      "-> finished loop 122\n",
      "Loop 128: train 2019-05-09 00:00:00 -> 2023-05-08 00:00:00, forecast 2023-05-09 00:00:00\n",
      "  dat_slice shape: torch.Size([1462, 24, 10])  → flatten count = 35088\n",
      "-> finished loop 121\n",
      "Loop 129: train 2019-05-10 00:00:00 -> 2023-05-09 00:00:00, forecast 2023-05-10 00:00:00\n",
      "  dat_slice shape: torch.Size([1462, 24, 10])  → flatten count = 35088\n"
     ]
    },
    {
     "name": "stderr",
     "output_type": "stream",
     "text": [
      "C:\\Users\\amaguaya\\AppData\\Local\\Packages\\PythonSoftwareFoundation.Python.3.11_qbz5n2kfra8p0\\LocalCache\\local-packages\\Python311\\site-packages\\sklearn\\utils\\validation.py:2739: UserWarning: X does not have valid feature names, but LGBMRegressor was fitted with feature names\n",
      "  warnings.warn(\n",
      "C:\\Users\\amaguaya\\AppData\\Local\\Packages\\PythonSoftwareFoundation.Python.3.11_qbz5n2kfra8p0\\LocalCache\\local-packages\\Python311\\site-packages\\sklearn\\utils\\validation.py:2739: UserWarning: X does not have valid feature names, but LGBMRegressor was fitted with feature names\n",
      "  warnings.warn(\n"
     ]
    },
    {
     "name": "stdout",
     "output_type": "stream",
     "text": [
      "-> finished loop 123\n",
      "Loop 130: train 2019-05-11 00:00:00 -> 2023-05-10 00:00:00, forecast 2023-05-11 00:00:00\n",
      "  dat_slice shape: torch.Size([1462, 24, 10])  → flatten count = 35088\n",
      "-> finished loop 124\n",
      "Loop 131: train 2019-05-12 00:00:00 -> 2023-05-11 00:00:00, forecast 2023-05-12 00:00:00\n",
      "  dat_slice shape: torch.Size([1462, 24, 10])  → flatten count = 35088\n"
     ]
    },
    {
     "name": "stderr",
     "output_type": "stream",
     "text": [
      "C:\\Users\\amaguaya\\AppData\\Local\\Packages\\PythonSoftwareFoundation.Python.3.11_qbz5n2kfra8p0\\LocalCache\\local-packages\\Python311\\site-packages\\sklearn\\utils\\validation.py:2739: UserWarning: X does not have valid feature names, but LGBMRegressor was fitted with feature names\n",
      "  warnings.warn(\n"
     ]
    },
    {
     "name": "stdout",
     "output_type": "stream",
     "text": [
      "-> finished loop 126\n",
      "Loop 132: train 2019-05-13 00:00:00 -> 2023-05-12 00:00:00, forecast 2023-05-13 00:00:00\n",
      "  dat_slice shape: torch.Size([1462, 24, 10])  → flatten count = 35088\n"
     ]
    },
    {
     "name": "stderr",
     "output_type": "stream",
     "text": [
      "C:\\Users\\amaguaya\\AppData\\Local\\Packages\\PythonSoftwareFoundation.Python.3.11_qbz5n2kfra8p0\\LocalCache\\local-packages\\Python311\\site-packages\\sklearn\\utils\\validation.py:2739: UserWarning: X does not have valid feature names, but LGBMRegressor was fitted with feature names\n",
      "  warnings.warn(\n",
      "C:\\Users\\amaguaya\\AppData\\Local\\Packages\\PythonSoftwareFoundation.Python.3.11_qbz5n2kfra8p0\\LocalCache\\local-packages\\Python311\\site-packages\\sklearn\\utils\\validation.py:2739: UserWarning: X does not have valid feature names, but LGBMRegressor was fitted with feature names\n",
      "  warnings.warn(\n"
     ]
    },
    {
     "name": "stdout",
     "output_type": "stream",
     "text": [
      "-> finished loop 125\n",
      "Loop 133: train 2019-05-14 00:00:00 -> 2023-05-13 00:00:00, forecast 2023-05-14 00:00:00\n",
      "  dat_slice shape: torch.Size([1462, 24, 10])  → flatten count = 35088\n",
      "-> finished loop 127\n",
      "Loop 134: train 2019-05-15 00:00:00 -> 2023-05-14 00:00:00, forecast 2023-05-15 00:00:00\n",
      "  dat_slice shape: torch.Size([1462, 24, 10])  → flatten count = 35088\n"
     ]
    },
    {
     "name": "stderr",
     "output_type": "stream",
     "text": [
      "C:\\Users\\amaguaya\\AppData\\Local\\Packages\\PythonSoftwareFoundation.Python.3.11_qbz5n2kfra8p0\\LocalCache\\local-packages\\Python311\\site-packages\\sklearn\\utils\\validation.py:2739: UserWarning: X does not have valid feature names, but LGBMRegressor was fitted with feature names\n",
      "  warnings.warn(\n"
     ]
    },
    {
     "name": "stdout",
     "output_type": "stream",
     "text": [
      "-> finished loop 128\n",
      "Loop 135: train 2019-05-16 00:00:00 -> 2023-05-15 00:00:00, forecast 2023-05-16 00:00:00\n",
      "  dat_slice shape: torch.Size([1462, 24, 10])  → flatten count = 35088\n"
     ]
    },
    {
     "name": "stderr",
     "output_type": "stream",
     "text": [
      "C:\\Users\\amaguaya\\AppData\\Local\\Packages\\PythonSoftwareFoundation.Python.3.11_qbz5n2kfra8p0\\LocalCache\\local-packages\\Python311\\site-packages\\sklearn\\utils\\validation.py:2739: UserWarning: X does not have valid feature names, but LGBMRegressor was fitted with feature names\n",
      "  warnings.warn(\n",
      "C:\\Users\\amaguaya\\AppData\\Local\\Packages\\PythonSoftwareFoundation.Python.3.11_qbz5n2kfra8p0\\LocalCache\\local-packages\\Python311\\site-packages\\sklearn\\utils\\validation.py:2739: UserWarning: X does not have valid feature names, but LGBMRegressor was fitted with feature names\n",
      "  warnings.warn(\n"
     ]
    },
    {
     "name": "stdout",
     "output_type": "stream",
     "text": [
      "-> finished loop 129\n",
      "Loop 136: train 2019-05-17 00:00:00 -> 2023-05-16 00:00:00, forecast 2023-05-17 00:00:00\n",
      "  dat_slice shape: torch.Size([1462, 24, 10])  → flatten count = 35088\n",
      "-> finished loop 130\n",
      "Loop 137: train 2019-05-18 00:00:00 -> 2023-05-17 00:00:00, forecast 2023-05-18 00:00:00\n",
      "  dat_slice shape: torch.Size([1462, 24, 10])  → flatten count = 35088\n"
     ]
    },
    {
     "name": "stderr",
     "output_type": "stream",
     "text": [
      "C:\\Users\\amaguaya\\AppData\\Local\\Packages\\PythonSoftwareFoundation.Python.3.11_qbz5n2kfra8p0\\LocalCache\\local-packages\\Python311\\site-packages\\sklearn\\utils\\validation.py:2739: UserWarning: X does not have valid feature names, but LGBMRegressor was fitted with feature names\n",
      "  warnings.warn(\n"
     ]
    },
    {
     "name": "stdout",
     "output_type": "stream",
     "text": [
      "-> finished loop 131\n",
      "Loop 138: train 2019-05-19 00:00:00 -> 2023-05-18 00:00:00, forecast 2023-05-19 00:00:00\n",
      "  dat_slice shape: torch.Size([1462, 24, 10])  → flatten count = 35088\n"
     ]
    },
    {
     "name": "stderr",
     "output_type": "stream",
     "text": [
      "C:\\Users\\amaguaya\\AppData\\Local\\Packages\\PythonSoftwareFoundation.Python.3.11_qbz5n2kfra8p0\\LocalCache\\local-packages\\Python311\\site-packages\\sklearn\\utils\\validation.py:2739: UserWarning: X does not have valid feature names, but LGBMRegressor was fitted with feature names\n",
      "  warnings.warn(\n"
     ]
    },
    {
     "name": "stdout",
     "output_type": "stream",
     "text": [
      "-> finished loop 132\n",
      "Loop 139: train 2019-05-20 00:00:00 -> 2023-05-19 00:00:00, forecast 2023-05-20 00:00:00\n",
      "  dat_slice shape: torch.Size([1462, 24, 10])  → flatten count = 35088\n"
     ]
    },
    {
     "name": "stderr",
     "output_type": "stream",
     "text": [
      "C:\\Users\\amaguaya\\AppData\\Local\\Packages\\PythonSoftwareFoundation.Python.3.11_qbz5n2kfra8p0\\LocalCache\\local-packages\\Python311\\site-packages\\sklearn\\utils\\validation.py:2739: UserWarning: X does not have valid feature names, but LGBMRegressor was fitted with feature names\n",
      "  warnings.warn(\n",
      "C:\\Users\\amaguaya\\AppData\\Local\\Packages\\PythonSoftwareFoundation.Python.3.11_qbz5n2kfra8p0\\LocalCache\\local-packages\\Python311\\site-packages\\sklearn\\utils\\validation.py:2739: UserWarning: X does not have valid feature names, but LGBMRegressor was fitted with feature names\n",
      "  warnings.warn(\n"
     ]
    },
    {
     "name": "stdout",
     "output_type": "stream",
     "text": [
      "-> finished loop 133\n",
      "Loop 140: train 2019-05-21 00:00:00 -> 2023-05-20 00:00:00, forecast 2023-05-21 00:00:00\n",
      "  dat_slice shape: torch.Size([1462, 24, 10])  → flatten count = 35088\n",
      "-> finished loop 134\n",
      "Loop 141: train 2019-05-22 00:00:00 -> 2023-05-21 00:00:00, forecast 2023-05-22 00:00:00\n",
      "  dat_slice shape: torch.Size([1462, 24, 10])  → flatten count = 35088\n"
     ]
    },
    {
     "name": "stderr",
     "output_type": "stream",
     "text": [
      "C:\\Users\\amaguaya\\AppData\\Local\\Packages\\PythonSoftwareFoundation.Python.3.11_qbz5n2kfra8p0\\LocalCache\\local-packages\\Python311\\site-packages\\sklearn\\utils\\validation.py:2739: UserWarning: X does not have valid feature names, but LGBMRegressor was fitted with feature names\n",
      "  warnings.warn(\n"
     ]
    },
    {
     "name": "stdout",
     "output_type": "stream",
     "text": [
      "-> finished loop 135\n",
      "Loop 142: train 2019-05-23 00:00:00 -> 2023-05-22 00:00:00, forecast 2023-05-23 00:00:00\n",
      "  dat_slice shape: torch.Size([1462, 24, 10])  → flatten count = 35088\n"
     ]
    },
    {
     "name": "stderr",
     "output_type": "stream",
     "text": [
      "C:\\Users\\amaguaya\\AppData\\Local\\Packages\\PythonSoftwareFoundation.Python.3.11_qbz5n2kfra8p0\\LocalCache\\local-packages\\Python311\\site-packages\\sklearn\\utils\\validation.py:2739: UserWarning: X does not have valid feature names, but LGBMRegressor was fitted with feature names\n",
      "  warnings.warn(\n"
     ]
    },
    {
     "name": "stdout",
     "output_type": "stream",
     "text": [
      "-> finished loop 137\n",
      "Loop 143: train 2019-05-24 00:00:00 -> 2023-05-23 00:00:00, forecast 2023-05-24 00:00:00\n",
      "  dat_slice shape: torch.Size([1462, 24, 10])  → flatten count = 35088\n"
     ]
    },
    {
     "name": "stderr",
     "output_type": "stream",
     "text": [
      "C:\\Users\\amaguaya\\AppData\\Local\\Packages\\PythonSoftwareFoundation.Python.3.11_qbz5n2kfra8p0\\LocalCache\\local-packages\\Python311\\site-packages\\sklearn\\utils\\validation.py:2739: UserWarning: X does not have valid feature names, but LGBMRegressor was fitted with feature names\n",
      "  warnings.warn(\n",
      "C:\\Users\\amaguaya\\AppData\\Local\\Packages\\PythonSoftwareFoundation.Python.3.11_qbz5n2kfra8p0\\LocalCache\\local-packages\\Python311\\site-packages\\sklearn\\utils\\validation.py:2739: UserWarning: X does not have valid feature names, but LGBMRegressor was fitted with feature names\n",
      "  warnings.warn(\n",
      "C:\\Users\\amaguaya\\AppData\\Local\\Packages\\PythonSoftwareFoundation.Python.3.11_qbz5n2kfra8p0\\LocalCache\\local-packages\\Python311\\site-packages\\sklearn\\utils\\validation.py:2739: UserWarning: X does not have valid feature names, but LGBMRegressor was fitted with feature names\n",
      "  warnings.warn(\n"
     ]
    },
    {
     "name": "stdout",
     "output_type": "stream",
     "text": [
      "-> finished loop 139\n",
      "Loop 144: train 2019-05-25 00:00:00 -> 2023-05-24 00:00:00, forecast 2023-05-25 00:00:00\n",
      "  dat_slice shape: torch.Size([1462, 24, 10])  → flatten count = 35088\n",
      "-> finished loop 136\n",
      "Loop 145: train 2019-05-26 00:00:00 -> 2023-05-25 00:00:00, forecast 2023-05-26 00:00:00\n",
      "  dat_slice shape: torch.Size([1462, 24, 10])  → flatten count = 35088\n",
      "-> finished loop 138\n",
      "Loop 146: train 2019-05-27 00:00:00 -> 2023-05-26 00:00:00, forecast 2023-05-27 00:00:00\n",
      "  dat_slice shape: torch.Size([1462, 24, 10])  → flatten count = 35088\n"
     ]
    },
    {
     "name": "stderr",
     "output_type": "stream",
     "text": [
      "C:\\Users\\amaguaya\\AppData\\Local\\Packages\\PythonSoftwareFoundation.Python.3.11_qbz5n2kfra8p0\\LocalCache\\local-packages\\Python311\\site-packages\\sklearn\\utils\\validation.py:2739: UserWarning: X does not have valid feature names, but LGBMRegressor was fitted with feature names\n",
      "  warnings.warn(\n",
      "C:\\Users\\amaguaya\\AppData\\Local\\Packages\\PythonSoftwareFoundation.Python.3.11_qbz5n2kfra8p0\\LocalCache\\local-packages\\Python311\\site-packages\\sklearn\\utils\\validation.py:2739: UserWarning: X does not have valid feature names, but LGBMRegressor was fitted with feature names\n",
      "  warnings.warn(\n"
     ]
    },
    {
     "name": "stdout",
     "output_type": "stream",
     "text": [
      "-> finished loop 140\n",
      "Loop 147: train 2019-05-28 00:00:00 -> 2023-05-27 00:00:00, forecast 2023-05-28 00:00:00\n",
      "  dat_slice shape: torch.Size([1462, 24, 10])  → flatten count = 35088\n",
      "-> finished loop 141\n",
      "Loop 148: train 2019-05-29 00:00:00 -> 2023-05-28 00:00:00, forecast 2023-05-29 00:00:00\n",
      "  dat_slice shape: torch.Size([1462, 24, 10])  → flatten count = 35088\n"
     ]
    },
    {
     "name": "stderr",
     "output_type": "stream",
     "text": [
      "C:\\Users\\amaguaya\\AppData\\Local\\Packages\\PythonSoftwareFoundation.Python.3.11_qbz5n2kfra8p0\\LocalCache\\local-packages\\Python311\\site-packages\\sklearn\\utils\\validation.py:2739: UserWarning: X does not have valid feature names, but LGBMRegressor was fitted with feature names\n",
      "  warnings.warn(\n"
     ]
    },
    {
     "name": "stdout",
     "output_type": "stream",
     "text": [
      "-> finished loop 142\n",
      "Loop 149: train 2019-05-30 00:00:00 -> 2023-05-29 00:00:00, forecast 2023-05-30 00:00:00\n",
      "  dat_slice shape: torch.Size([1462, 24, 10])  → flatten count = 35088\n"
     ]
    },
    {
     "name": "stderr",
     "output_type": "stream",
     "text": [
      "C:\\Users\\amaguaya\\AppData\\Local\\Packages\\PythonSoftwareFoundation.Python.3.11_qbz5n2kfra8p0\\LocalCache\\local-packages\\Python311\\site-packages\\sklearn\\utils\\validation.py:2739: UserWarning: X does not have valid feature names, but LGBMRegressor was fitted with feature names\n",
      "  warnings.warn(\n"
     ]
    },
    {
     "name": "stdout",
     "output_type": "stream",
     "text": [
      "-> finished loop 143\n",
      "Loop 150: train 2019-05-31 00:00:00 -> 2023-05-30 00:00:00, forecast 2023-05-31 00:00:00\n",
      "  dat_slice shape: torch.Size([1462, 24, 10])  → flatten count = 35088\n",
      "-> finished loop 144\n",
      "Loop 151: train 2019-06-01 00:00:00 -> 2023-05-31 00:00:00, forecast 2023-06-01 00:00:00\n",
      "  dat_slice shape: torch.Size([1462, 24, 10])  → flatten count = 35088\n",
      "-> finished loop 146\n",
      "Loop 152: train 2019-06-02 00:00:00 -> 2023-06-01 00:00:00, forecast 2023-06-02 00:00:00\n",
      "  dat_slice shape: torch.Size([1462, 24, 10])  → flatten count = 35088\n"
     ]
    },
    {
     "name": "stderr",
     "output_type": "stream",
     "text": [
      "C:\\Users\\amaguaya\\AppData\\Local\\Packages\\PythonSoftwareFoundation.Python.3.11_qbz5n2kfra8p0\\LocalCache\\local-packages\\Python311\\site-packages\\sklearn\\utils\\validation.py:2739: UserWarning: X does not have valid feature names, but LGBMRegressor was fitted with feature names\n",
      "  warnings.warn(\n",
      "C:\\Users\\amaguaya\\AppData\\Local\\Packages\\PythonSoftwareFoundation.Python.3.11_qbz5n2kfra8p0\\LocalCache\\local-packages\\Python311\\site-packages\\sklearn\\utils\\validation.py:2739: UserWarning: X does not have valid feature names, but LGBMRegressor was fitted with feature names\n",
      "  warnings.warn(\n",
      "C:\\Users\\amaguaya\\AppData\\Local\\Packages\\PythonSoftwareFoundation.Python.3.11_qbz5n2kfra8p0\\LocalCache\\local-packages\\Python311\\site-packages\\sklearn\\utils\\validation.py:2739: UserWarning: X does not have valid feature names, but LGBMRegressor was fitted with feature names\n",
      "  warnings.warn(\n"
     ]
    },
    {
     "name": "stdout",
     "output_type": "stream",
     "text": [
      "-> finished loop 145\n",
      "Loop 153: train 2019-06-03 00:00:00 -> 2023-06-02 00:00:00, forecast 2023-06-03 00:00:00\n",
      "  dat_slice shape: torch.Size([1462, 24, 10])  → flatten count = 35088\n"
     ]
    },
    {
     "name": "stderr",
     "output_type": "stream",
     "text": [
      "C:\\Users\\amaguaya\\AppData\\Local\\Packages\\PythonSoftwareFoundation.Python.3.11_qbz5n2kfra8p0\\LocalCache\\local-packages\\Python311\\site-packages\\sklearn\\utils\\validation.py:2739: UserWarning: X does not have valid feature names, but LGBMRegressor was fitted with feature names\n",
      "  warnings.warn(\n",
      "C:\\Users\\amaguaya\\AppData\\Local\\Packages\\PythonSoftwareFoundation.Python.3.11_qbz5n2kfra8p0\\LocalCache\\local-packages\\Python311\\site-packages\\sklearn\\utils\\validation.py:2739: UserWarning: X does not have valid feature names, but LGBMRegressor was fitted with feature names\n",
      "  warnings.warn(\n"
     ]
    },
    {
     "name": "stdout",
     "output_type": "stream",
     "text": [
      "-> finished loop 147\n",
      "Loop 154: train 2019-06-04 00:00:00 -> 2023-06-03 00:00:00, forecast 2023-06-04 00:00:00\n",
      "  dat_slice shape: torch.Size([1462, 24, 10])  → flatten count = 35088\n",
      "-> finished loop 148\n",
      "Loop 155: train 2019-06-05 00:00:00 -> 2023-06-04 00:00:00, forecast 2023-06-05 00:00:00\n",
      "  dat_slice shape: torch.Size([1462, 24, 10])  → flatten count = 35088\n"
     ]
    },
    {
     "name": "stderr",
     "output_type": "stream",
     "text": [
      "C:\\Users\\amaguaya\\AppData\\Local\\Packages\\PythonSoftwareFoundation.Python.3.11_qbz5n2kfra8p0\\LocalCache\\local-packages\\Python311\\site-packages\\sklearn\\utils\\validation.py:2739: UserWarning: X does not have valid feature names, but LGBMRegressor was fitted with feature names\n",
      "  warnings.warn(\n"
     ]
    },
    {
     "name": "stdout",
     "output_type": "stream",
     "text": [
      "-> finished loop 149\n",
      "Loop 156: train 2019-06-06 00:00:00 -> 2023-06-05 00:00:00, forecast 2023-06-06 00:00:00\n",
      "  dat_slice shape: torch.Size([1462, 24, 10])  → flatten count = 35088\n"
     ]
    },
    {
     "name": "stderr",
     "output_type": "stream",
     "text": [
      "C:\\Users\\amaguaya\\AppData\\Local\\Packages\\PythonSoftwareFoundation.Python.3.11_qbz5n2kfra8p0\\LocalCache\\local-packages\\Python311\\site-packages\\sklearn\\utils\\validation.py:2739: UserWarning: X does not have valid feature names, but LGBMRegressor was fitted with feature names\n",
      "  warnings.warn(\n"
     ]
    },
    {
     "name": "stdout",
     "output_type": "stream",
     "text": [
      "-> finished loop 150\n",
      "Loop 157: train 2019-06-07 00:00:00 -> 2023-06-06 00:00:00, forecast 2023-06-07 00:00:00\n",
      "  dat_slice shape: torch.Size([1462, 24, 10])  → flatten count = 35088\n"
     ]
    },
    {
     "name": "stderr",
     "output_type": "stream",
     "text": [
      "C:\\Users\\amaguaya\\AppData\\Local\\Packages\\PythonSoftwareFoundation.Python.3.11_qbz5n2kfra8p0\\LocalCache\\local-packages\\Python311\\site-packages\\sklearn\\utils\\validation.py:2739: UserWarning: X does not have valid feature names, but LGBMRegressor was fitted with feature names\n",
      "  warnings.warn(\n",
      "C:\\Users\\amaguaya\\AppData\\Local\\Packages\\PythonSoftwareFoundation.Python.3.11_qbz5n2kfra8p0\\LocalCache\\local-packages\\Python311\\site-packages\\sklearn\\utils\\validation.py:2739: UserWarning: X does not have valid feature names, but LGBMRegressor was fitted with feature names\n",
      "  warnings.warn(\n",
      "C:\\Users\\amaguaya\\AppData\\Local\\Packages\\PythonSoftwareFoundation.Python.3.11_qbz5n2kfra8p0\\LocalCache\\local-packages\\Python311\\site-packages\\sklearn\\utils\\validation.py:2739: UserWarning: X does not have valid feature names, but LGBMRegressor was fitted with feature names\n",
      "  warnings.warn(\n"
     ]
    },
    {
     "name": "stdout",
     "output_type": "stream",
     "text": [
      "-> finished loop 151\n",
      "Loop 158: train 2019-06-08 00:00:00 -> 2023-06-07 00:00:00, forecast 2023-06-08 00:00:00\n",
      "  dat_slice shape: torch.Size([1462, 24, 10])  → flatten count = 35088\n",
      "-> finished loop 153\n",
      "Loop 159: train 2019-06-09 00:00:00 -> 2023-06-08 00:00:00, forecast 2023-06-09 00:00:00\n",
      "  dat_slice shape: torch.Size([1462, 24, 10])  → flatten count = 35088\n",
      "-> finished loop 152\n",
      "Loop 160: train 2019-06-10 00:00:00 -> 2023-06-09 00:00:00, forecast 2023-06-10 00:00:00\n",
      "  dat_slice shape: torch.Size([1462, 24, 10])  → flatten count = 35088\n"
     ]
    },
    {
     "name": "stderr",
     "output_type": "stream",
     "text": [
      "C:\\Users\\amaguaya\\AppData\\Local\\Packages\\PythonSoftwareFoundation.Python.3.11_qbz5n2kfra8p0\\LocalCache\\local-packages\\Python311\\site-packages\\sklearn\\utils\\validation.py:2739: UserWarning: X does not have valid feature names, but LGBMRegressor was fitted with feature names\n",
      "  warnings.warn(\n",
      "C:\\Users\\amaguaya\\AppData\\Local\\Packages\\PythonSoftwareFoundation.Python.3.11_qbz5n2kfra8p0\\LocalCache\\local-packages\\Python311\\site-packages\\sklearn\\utils\\validation.py:2739: UserWarning: X does not have valid feature names, but LGBMRegressor was fitted with feature names\n",
      "  warnings.warn(\n"
     ]
    },
    {
     "name": "stdout",
     "output_type": "stream",
     "text": [
      "-> finished loop 154\n",
      "Loop 161: train 2019-06-11 00:00:00 -> 2023-06-10 00:00:00, forecast 2023-06-11 00:00:00\n",
      "  dat_slice shape: torch.Size([1462, 24, 10])  → flatten count = 35088\n",
      "-> finished loop 155\n",
      "Loop 162: train 2019-06-12 00:00:00 -> 2023-06-11 00:00:00, forecast 2023-06-12 00:00:00\n",
      "  dat_slice shape: torch.Size([1462, 24, 10])  → flatten count = 35088\n"
     ]
    },
    {
     "name": "stderr",
     "output_type": "stream",
     "text": [
      "C:\\Users\\amaguaya\\AppData\\Local\\Packages\\PythonSoftwareFoundation.Python.3.11_qbz5n2kfra8p0\\LocalCache\\local-packages\\Python311\\site-packages\\sklearn\\utils\\validation.py:2739: UserWarning: X does not have valid feature names, but LGBMRegressor was fitted with feature names\n",
      "  warnings.warn(\n"
     ]
    },
    {
     "name": "stdout",
     "output_type": "stream",
     "text": [
      "-> finished loop 156\n",
      "Loop 163: train 2019-06-13 00:00:00 -> 2023-06-12 00:00:00, forecast 2023-06-13 00:00:00\n",
      "  dat_slice shape: torch.Size([1462, 24, 10])  → flatten count = 35088\n"
     ]
    },
    {
     "name": "stderr",
     "output_type": "stream",
     "text": [
      "C:\\Users\\amaguaya\\AppData\\Local\\Packages\\PythonSoftwareFoundation.Python.3.11_qbz5n2kfra8p0\\LocalCache\\local-packages\\Python311\\site-packages\\sklearn\\utils\\validation.py:2739: UserWarning: X does not have valid feature names, but LGBMRegressor was fitted with feature names\n",
      "  warnings.warn(\n"
     ]
    },
    {
     "name": "stdout",
     "output_type": "stream",
     "text": [
      "-> finished loop 157\n",
      "Loop 164: train 2019-06-14 00:00:00 -> 2023-06-13 00:00:00, forecast 2023-06-14 00:00:00\n",
      "  dat_slice shape: torch.Size([1462, 24, 10])  → flatten count = 35088\n"
     ]
    },
    {
     "name": "stderr",
     "output_type": "stream",
     "text": [
      "C:\\Users\\amaguaya\\AppData\\Local\\Packages\\PythonSoftwareFoundation.Python.3.11_qbz5n2kfra8p0\\LocalCache\\local-packages\\Python311\\site-packages\\sklearn\\utils\\validation.py:2739: UserWarning: X does not have valid feature names, but LGBMRegressor was fitted with feature names\n",
      "  warnings.warn(\n",
      "C:\\Users\\amaguaya\\AppData\\Local\\Packages\\PythonSoftwareFoundation.Python.3.11_qbz5n2kfra8p0\\LocalCache\\local-packages\\Python311\\site-packages\\sklearn\\utils\\validation.py:2739: UserWarning: X does not have valid feature names, but LGBMRegressor was fitted with feature names\n",
      "  warnings.warn(\n"
     ]
    },
    {
     "name": "stdout",
     "output_type": "stream",
     "text": [
      "-> finished loop 158\n",
      "Loop 165: train 2019-06-15 00:00:00 -> 2023-06-14 00:00:00, forecast 2023-06-15 00:00:00\n",
      "  dat_slice shape: torch.Size([1462, 24, 10])  → flatten count = 35088\n",
      "-> finished loop 160\n",
      "Loop 166: train 2019-06-16 00:00:00 -> 2023-06-15 00:00:00, forecast 2023-06-16 00:00:00\n",
      "  dat_slice shape: torch.Size([1462, 24, 10])  → flatten count = 35088\n"
     ]
    },
    {
     "name": "stderr",
     "output_type": "stream",
     "text": [
      "C:\\Users\\amaguaya\\AppData\\Local\\Packages\\PythonSoftwareFoundation.Python.3.11_qbz5n2kfra8p0\\LocalCache\\local-packages\\Python311\\site-packages\\sklearn\\utils\\validation.py:2739: UserWarning: X does not have valid feature names, but LGBMRegressor was fitted with feature names\n",
      "  warnings.warn(\n"
     ]
    },
    {
     "name": "stdout",
     "output_type": "stream",
     "text": [
      "-> finished loop 159\n",
      "Loop 167: train 2019-06-17 00:00:00 -> 2023-06-16 00:00:00, forecast 2023-06-17 00:00:00\n",
      "  dat_slice shape: torch.Size([1462, 24, 10])  → flatten count = 35088\n"
     ]
    },
    {
     "name": "stderr",
     "output_type": "stream",
     "text": [
      "C:\\Users\\amaguaya\\AppData\\Local\\Packages\\PythonSoftwareFoundation.Python.3.11_qbz5n2kfra8p0\\LocalCache\\local-packages\\Python311\\site-packages\\sklearn\\utils\\validation.py:2739: UserWarning: X does not have valid feature names, but LGBMRegressor was fitted with feature names\n",
      "  warnings.warn(\n"
     ]
    },
    {
     "name": "stdout",
     "output_type": "stream",
     "text": [
      "-> finished loop 161\n",
      "Loop 168: train 2019-06-18 00:00:00 -> 2023-06-17 00:00:00, forecast 2023-06-18 00:00:00\n",
      "  dat_slice shape: torch.Size([1462, 24, 10])  → flatten count = 35088\n"
     ]
    },
    {
     "name": "stderr",
     "output_type": "stream",
     "text": [
      "C:\\Users\\amaguaya\\AppData\\Local\\Packages\\PythonSoftwareFoundation.Python.3.11_qbz5n2kfra8p0\\LocalCache\\local-packages\\Python311\\site-packages\\sklearn\\utils\\validation.py:2739: UserWarning: X does not have valid feature names, but LGBMRegressor was fitted with feature names\n",
      "  warnings.warn(\n",
      "C:\\Users\\amaguaya\\AppData\\Local\\Packages\\PythonSoftwareFoundation.Python.3.11_qbz5n2kfra8p0\\LocalCache\\local-packages\\Python311\\site-packages\\sklearn\\utils\\validation.py:2739: UserWarning: X does not have valid feature names, but LGBMRegressor was fitted with feature names\n",
      "  warnings.warn(\n",
      "C:\\Users\\amaguaya\\AppData\\Local\\Packages\\PythonSoftwareFoundation.Python.3.11_qbz5n2kfra8p0\\LocalCache\\local-packages\\Python311\\site-packages\\sklearn\\utils\\validation.py:2739: UserWarning: X does not have valid feature names, but LGBMRegressor was fitted with feature names\n",
      "  warnings.warn(\n"
     ]
    },
    {
     "name": "stdout",
     "output_type": "stream",
     "text": [
      "-> finished loop 164\n",
      "Loop 169: train 2019-06-19 00:00:00 -> 2023-06-18 00:00:00, forecast 2023-06-19 00:00:00\n",
      "  dat_slice shape: torch.Size([1462, 24, 10])  → flatten count = 35088\n",
      "-> finished loop 163\n",
      "Loop 170: train 2019-06-20 00:00:00 -> 2023-06-19 00:00:00, forecast 2023-06-20 00:00:00\n",
      "  dat_slice shape: torch.Size([1462, 24, 10])  → flatten count = 35088\n",
      "-> finished loop 162\n",
      "Loop 171: train 2019-06-21 00:00:00 -> 2023-06-20 00:00:00, forecast 2023-06-21 00:00:00\n",
      "  dat_slice shape: torch.Size([1462, 24, 10])  → flatten count = 35088\n"
     ]
    },
    {
     "name": "stderr",
     "output_type": "stream",
     "text": [
      "C:\\Users\\amaguaya\\AppData\\Local\\Packages\\PythonSoftwareFoundation.Python.3.11_qbz5n2kfra8p0\\LocalCache\\local-packages\\Python311\\site-packages\\sklearn\\utils\\validation.py:2739: UserWarning: X does not have valid feature names, but LGBMRegressor was fitted with feature names\n",
      "  warnings.warn(\n",
      "C:\\Users\\amaguaya\\AppData\\Local\\Packages\\PythonSoftwareFoundation.Python.3.11_qbz5n2kfra8p0\\LocalCache\\local-packages\\Python311\\site-packages\\sklearn\\utils\\validation.py:2739: UserWarning: X does not have valid feature names, but LGBMRegressor was fitted with feature names\n",
      "  warnings.warn(\n"
     ]
    },
    {
     "name": "stdout",
     "output_type": "stream",
     "text": [
      "-> finished loop 165\n",
      "Loop 172: train 2019-06-22 00:00:00 -> 2023-06-21 00:00:00, forecast 2023-06-22 00:00:00\n",
      "  dat_slice shape: torch.Size([1462, 24, 10])  → flatten count = 35088\n",
      "-> finished loop 166\n",
      "Loop 173: train 2019-06-23 00:00:00 -> 2023-06-22 00:00:00, forecast 2023-06-23 00:00:00\n",
      "  dat_slice shape: torch.Size([1462, 24, 10])  → flatten count = 35088\n"
     ]
    },
    {
     "name": "stderr",
     "output_type": "stream",
     "text": [
      "C:\\Users\\amaguaya\\AppData\\Local\\Packages\\PythonSoftwareFoundation.Python.3.11_qbz5n2kfra8p0\\LocalCache\\local-packages\\Python311\\site-packages\\sklearn\\utils\\validation.py:2739: UserWarning: X does not have valid feature names, but LGBMRegressor was fitted with feature names\n",
      "  warnings.warn(\n"
     ]
    },
    {
     "name": "stdout",
     "output_type": "stream",
     "text": [
      "-> finished loop 167\n",
      "Loop 174: train 2019-06-24 00:00:00 -> 2023-06-23 00:00:00, forecast 2023-06-24 00:00:00\n",
      "  dat_slice shape: torch.Size([1462, 24, 10])  → flatten count = 35088\n"
     ]
    },
    {
     "name": "stderr",
     "output_type": "stream",
     "text": [
      "C:\\Users\\amaguaya\\AppData\\Local\\Packages\\PythonSoftwareFoundation.Python.3.11_qbz5n2kfra8p0\\LocalCache\\local-packages\\Python311\\site-packages\\sklearn\\utils\\validation.py:2739: UserWarning: X does not have valid feature names, but LGBMRegressor was fitted with feature names\n",
      "  warnings.warn(\n"
     ]
    },
    {
     "name": "stdout",
     "output_type": "stream",
     "text": [
      "-> finished loop 168\n",
      "Loop 175: train 2019-06-25 00:00:00 -> 2023-06-24 00:00:00, forecast 2023-06-25 00:00:00\n",
      "  dat_slice shape: torch.Size([1462, 24, 10])  → flatten count = 35088\n"
     ]
    },
    {
     "name": "stderr",
     "output_type": "stream",
     "text": [
      "C:\\Users\\amaguaya\\AppData\\Local\\Packages\\PythonSoftwareFoundation.Python.3.11_qbz5n2kfra8p0\\LocalCache\\local-packages\\Python311\\site-packages\\sklearn\\utils\\validation.py:2739: UserWarning: X does not have valid feature names, but LGBMRegressor was fitted with feature names\n",
      "  warnings.warn(\n"
     ]
    },
    {
     "name": "stdout",
     "output_type": "stream",
     "text": [
      "-> finished loop 169\n",
      "Loop 176: train 2019-06-26 00:00:00 -> 2023-06-25 00:00:00, forecast 2023-06-26 00:00:00\n",
      "  dat_slice shape: torch.Size([1462, 24, 10])  → flatten count = 35088\n"
     ]
    },
    {
     "name": "stderr",
     "output_type": "stream",
     "text": [
      "C:\\Users\\amaguaya\\AppData\\Local\\Packages\\PythonSoftwareFoundation.Python.3.11_qbz5n2kfra8p0\\LocalCache\\local-packages\\Python311\\site-packages\\sklearn\\utils\\validation.py:2739: UserWarning: X does not have valid feature names, but LGBMRegressor was fitted with feature names\n",
      "  warnings.warn(\n",
      "C:\\Users\\amaguaya\\AppData\\Local\\Packages\\PythonSoftwareFoundation.Python.3.11_qbz5n2kfra8p0\\LocalCache\\local-packages\\Python311\\site-packages\\sklearn\\utils\\validation.py:2739: UserWarning: X does not have valid feature names, but LGBMRegressor was fitted with feature names\n",
      "  warnings.warn(\n"
     ]
    },
    {
     "name": "stdout",
     "output_type": "stream",
     "text": [
      "-> finished loop 170\n",
      "Loop 177: train 2019-06-27 00:00:00 -> 2023-06-26 00:00:00, forecast 2023-06-27 00:00:00\n",
      "  dat_slice shape: torch.Size([1462, 24, 10])  → flatten count = 35088\n",
      "-> finished loop 171\n",
      "Loop 178: train 2019-06-28 00:00:00 -> 2023-06-27 00:00:00, forecast 2023-06-28 00:00:00\n",
      "  dat_slice shape: torch.Size([1462, 24, 10])  → flatten count = 35088\n"
     ]
    },
    {
     "name": "stderr",
     "output_type": "stream",
     "text": [
      "C:\\Users\\amaguaya\\AppData\\Local\\Packages\\PythonSoftwareFoundation.Python.3.11_qbz5n2kfra8p0\\LocalCache\\local-packages\\Python311\\site-packages\\sklearn\\utils\\validation.py:2739: UserWarning: X does not have valid feature names, but LGBMRegressor was fitted with feature names\n",
      "  warnings.warn(\n",
      "C:\\Users\\amaguaya\\AppData\\Local\\Packages\\PythonSoftwareFoundation.Python.3.11_qbz5n2kfra8p0\\LocalCache\\local-packages\\Python311\\site-packages\\sklearn\\utils\\validation.py:2739: UserWarning: X does not have valid feature names, but LGBMRegressor was fitted with feature names\n",
      "  warnings.warn(\n"
     ]
    },
    {
     "name": "stdout",
     "output_type": "stream",
     "text": [
      "-> finished loop 173\n",
      "Loop 179: train 2019-06-29 00:00:00 -> 2023-06-28 00:00:00, forecast 2023-06-29 00:00:00\n",
      "  dat_slice shape: torch.Size([1462, 24, 10])  → flatten count = 35088\n",
      "-> finished loop 172\n",
      "Loop 180: train 2019-06-30 00:00:00 -> 2023-06-29 00:00:00, forecast 2023-06-30 00:00:00\n",
      "  dat_slice shape: torch.Size([1462, 24, 10])  → flatten count = 35088\n"
     ]
    },
    {
     "name": "stderr",
     "output_type": "stream",
     "text": [
      "C:\\Users\\amaguaya\\AppData\\Local\\Packages\\PythonSoftwareFoundation.Python.3.11_qbz5n2kfra8p0\\LocalCache\\local-packages\\Python311\\site-packages\\sklearn\\utils\\validation.py:2739: UserWarning: X does not have valid feature names, but LGBMRegressor was fitted with feature names\n",
      "  warnings.warn(\n"
     ]
    },
    {
     "name": "stdout",
     "output_type": "stream",
     "text": [
      "-> finished loop 174\n",
      "Loop 181: train 2019-07-01 00:00:00 -> 2023-06-30 00:00:00, forecast 2023-07-01 00:00:00\n",
      "  dat_slice shape: torch.Size([1462, 24, 10])  → flatten count = 35088\n"
     ]
    },
    {
     "name": "stderr",
     "output_type": "stream",
     "text": [
      "C:\\Users\\amaguaya\\AppData\\Local\\Packages\\PythonSoftwareFoundation.Python.3.11_qbz5n2kfra8p0\\LocalCache\\local-packages\\Python311\\site-packages\\sklearn\\utils\\validation.py:2739: UserWarning: X does not have valid feature names, but LGBMRegressor was fitted with feature names\n",
      "  warnings.warn(\n",
      "C:\\Users\\amaguaya\\AppData\\Local\\Packages\\PythonSoftwareFoundation.Python.3.11_qbz5n2kfra8p0\\LocalCache\\local-packages\\Python311\\site-packages\\sklearn\\utils\\validation.py:2739: UserWarning: X does not have valid feature names, but LGBMRegressor was fitted with feature names\n",
      "  warnings.warn(\n"
     ]
    },
    {
     "name": "stdout",
     "output_type": "stream",
     "text": [
      "-> finished loop 175\n",
      "Loop 182: train 2019-07-02 00:00:00 -> 2023-07-01 00:00:00, forecast 2023-07-02 00:00:00\n",
      "  dat_slice shape: torch.Size([1462, 24, 10])  → flatten count = 35088\n",
      "-> finished loop 176\n",
      "Loop 183: train 2019-07-03 00:00:00 -> 2023-07-02 00:00:00, forecast 2023-07-03 00:00:00\n",
      "  dat_slice shape: torch.Size([1462, 24, 10])  → flatten count = 35088\n"
     ]
    },
    {
     "name": "stderr",
     "output_type": "stream",
     "text": [
      "C:\\Users\\amaguaya\\AppData\\Local\\Packages\\PythonSoftwareFoundation.Python.3.11_qbz5n2kfra8p0\\LocalCache\\local-packages\\Python311\\site-packages\\sklearn\\utils\\validation.py:2739: UserWarning: X does not have valid feature names, but LGBMRegressor was fitted with feature names\n",
      "  warnings.warn(\n"
     ]
    },
    {
     "name": "stdout",
     "output_type": "stream",
     "text": [
      "-> finished loop 177\n",
      "Loop 184: train 2019-07-04 00:00:00 -> 2023-07-03 00:00:00, forecast 2023-07-04 00:00:00\n",
      "  dat_slice shape: torch.Size([1462, 24, 10])  → flatten count = 35088\n"
     ]
    },
    {
     "name": "stderr",
     "output_type": "stream",
     "text": [
      "C:\\Users\\amaguaya\\AppData\\Local\\Packages\\PythonSoftwareFoundation.Python.3.11_qbz5n2kfra8p0\\LocalCache\\local-packages\\Python311\\site-packages\\sklearn\\utils\\validation.py:2739: UserWarning: X does not have valid feature names, but LGBMRegressor was fitted with feature names\n",
      "  warnings.warn(\n"
     ]
    },
    {
     "name": "stdout",
     "output_type": "stream",
     "text": [
      "-> finished loop 178\n",
      "Loop 185: train 2019-07-05 00:00:00 -> 2023-07-04 00:00:00, forecast 2023-07-05 00:00:00\n",
      "  dat_slice shape: torch.Size([1462, 24, 10])  → flatten count = 35088\n"
     ]
    },
    {
     "name": "stderr",
     "output_type": "stream",
     "text": [
      "C:\\Users\\amaguaya\\AppData\\Local\\Packages\\PythonSoftwareFoundation.Python.3.11_qbz5n2kfra8p0\\LocalCache\\local-packages\\Python311\\site-packages\\sklearn\\utils\\validation.py:2739: UserWarning: X does not have valid feature names, but LGBMRegressor was fitted with feature names\n",
      "  warnings.warn(\n",
      "C:\\Users\\amaguaya\\AppData\\Local\\Packages\\PythonSoftwareFoundation.Python.3.11_qbz5n2kfra8p0\\LocalCache\\local-packages\\Python311\\site-packages\\sklearn\\utils\\validation.py:2739: UserWarning: X does not have valid feature names, but LGBMRegressor was fitted with feature names\n",
      "  warnings.warn(\n"
     ]
    },
    {
     "name": "stdout",
     "output_type": "stream",
     "text": [
      "-> finished loop 179\n",
      "Loop 186: train 2019-07-06 00:00:00 -> 2023-07-05 00:00:00, forecast 2023-07-06 00:00:00\n",
      "  dat_slice shape: torch.Size([1462, 24, 10])  → flatten count = 35088\n",
      "-> finished loop 180\n",
      "Loop 187: train 2019-07-07 00:00:00 -> 2023-07-06 00:00:00, forecast 2023-07-07 00:00:00\n",
      "  dat_slice shape: torch.Size([1462, 24, 10])  → flatten count = 35088\n"
     ]
    },
    {
     "name": "stderr",
     "output_type": "stream",
     "text": [
      "C:\\Users\\amaguaya\\AppData\\Local\\Packages\\PythonSoftwareFoundation.Python.3.11_qbz5n2kfra8p0\\LocalCache\\local-packages\\Python311\\site-packages\\sklearn\\utils\\validation.py:2739: UserWarning: X does not have valid feature names, but LGBMRegressor was fitted with feature names\n",
      "  warnings.warn(\n",
      "C:\\Users\\amaguaya\\AppData\\Local\\Packages\\PythonSoftwareFoundation.Python.3.11_qbz5n2kfra8p0\\LocalCache\\local-packages\\Python311\\site-packages\\sklearn\\utils\\validation.py:2739: UserWarning: X does not have valid feature names, but LGBMRegressor was fitted with feature names\n",
      "  warnings.warn(\n"
     ]
    },
    {
     "name": "stdout",
     "output_type": "stream",
     "text": [
      "-> finished loop 181\n",
      "Loop 188: train 2019-07-08 00:00:00 -> 2023-07-07 00:00:00, forecast 2023-07-08 00:00:00\n",
      "  dat_slice shape: torch.Size([1462, 24, 10])  → flatten count = 35088\n",
      "-> finished loop 183\n",
      "Loop 189: train 2019-07-09 00:00:00 -> 2023-07-08 00:00:00, forecast 2023-07-09 00:00:00\n",
      "  dat_slice shape: torch.Size([1462, 24, 10])  → flatten count = 35088\n"
     ]
    },
    {
     "name": "stderr",
     "output_type": "stream",
     "text": [
      "C:\\Users\\amaguaya\\AppData\\Local\\Packages\\PythonSoftwareFoundation.Python.3.11_qbz5n2kfra8p0\\LocalCache\\local-packages\\Python311\\site-packages\\sklearn\\utils\\validation.py:2739: UserWarning: X does not have valid feature names, but LGBMRegressor was fitted with feature names\n",
      "  warnings.warn(\n"
     ]
    },
    {
     "name": "stdout",
     "output_type": "stream",
     "text": [
      "-> finished loop 182\n",
      "Loop 190: train 2019-07-10 00:00:00 -> 2023-07-09 00:00:00, forecast 2023-07-10 00:00:00\n",
      "  dat_slice shape: torch.Size([1462, 24, 10])  → flatten count = 35088\n"
     ]
    },
    {
     "name": "stderr",
     "output_type": "stream",
     "text": [
      "C:\\Users\\amaguaya\\AppData\\Local\\Packages\\PythonSoftwareFoundation.Python.3.11_qbz5n2kfra8p0\\LocalCache\\local-packages\\Python311\\site-packages\\sklearn\\utils\\validation.py:2739: UserWarning: X does not have valid feature names, but LGBMRegressor was fitted with feature names\n",
      "  warnings.warn(\n"
     ]
    },
    {
     "name": "stdout",
     "output_type": "stream",
     "text": [
      "-> finished loop 184\n",
      "Loop 191: train 2019-07-11 00:00:00 -> 2023-07-10 00:00:00, forecast 2023-07-11 00:00:00\n",
      "  dat_slice shape: torch.Size([1462, 24, 10])  → flatten count = 35088\n"
     ]
    },
    {
     "name": "stderr",
     "output_type": "stream",
     "text": [
      "C:\\Users\\amaguaya\\AppData\\Local\\Packages\\PythonSoftwareFoundation.Python.3.11_qbz5n2kfra8p0\\LocalCache\\local-packages\\Python311\\site-packages\\sklearn\\utils\\validation.py:2739: UserWarning: X does not have valid feature names, but LGBMRegressor was fitted with feature names\n",
      "  warnings.warn(\n"
     ]
    },
    {
     "name": "stdout",
     "output_type": "stream",
     "text": [
      "-> finished loop 185\n",
      "Loop 192: train 2019-07-12 00:00:00 -> 2023-07-11 00:00:00, forecast 2023-07-12 00:00:00\n",
      "  dat_slice shape: torch.Size([1462, 24, 10])  → flatten count = 35088\n"
     ]
    },
    {
     "name": "stderr",
     "output_type": "stream",
     "text": [
      "C:\\Users\\amaguaya\\AppData\\Local\\Packages\\PythonSoftwareFoundation.Python.3.11_qbz5n2kfra8p0\\LocalCache\\local-packages\\Python311\\site-packages\\sklearn\\utils\\validation.py:2739: UserWarning: X does not have valid feature names, but LGBMRegressor was fitted with feature names\n",
      "  warnings.warn(\n",
      "C:\\Users\\amaguaya\\AppData\\Local\\Packages\\PythonSoftwareFoundation.Python.3.11_qbz5n2kfra8p0\\LocalCache\\local-packages\\Python311\\site-packages\\sklearn\\utils\\validation.py:2739: UserWarning: X does not have valid feature names, but LGBMRegressor was fitted with feature names\n",
      "  warnings.warn(\n"
     ]
    },
    {
     "name": "stdout",
     "output_type": "stream",
     "text": [
      "-> finished loop 186\n",
      "Loop 193: train 2019-07-13 00:00:00 -> 2023-07-12 00:00:00, forecast 2023-07-13 00:00:00\n",
      "  dat_slice shape: torch.Size([1462, 24, 10])  → flatten count = 35088\n",
      "-> finished loop 187\n",
      "Loop 194: train 2019-07-14 00:00:00 -> 2023-07-13 00:00:00, forecast 2023-07-14 00:00:00\n",
      "  dat_slice shape: torch.Size([1462, 24, 10])  → flatten count = 35088\n"
     ]
    },
    {
     "name": "stderr",
     "output_type": "stream",
     "text": [
      "C:\\Users\\amaguaya\\AppData\\Local\\Packages\\PythonSoftwareFoundation.Python.3.11_qbz5n2kfra8p0\\LocalCache\\local-packages\\Python311\\site-packages\\sklearn\\utils\\validation.py:2739: UserWarning: X does not have valid feature names, but LGBMRegressor was fitted with feature names\n",
      "  warnings.warn(\n",
      "C:\\Users\\amaguaya\\AppData\\Local\\Packages\\PythonSoftwareFoundation.Python.3.11_qbz5n2kfra8p0\\LocalCache\\local-packages\\Python311\\site-packages\\sklearn\\utils\\validation.py:2739: UserWarning: X does not have valid feature names, but LGBMRegressor was fitted with feature names\n",
      "  warnings.warn(\n"
     ]
    },
    {
     "name": "stdout",
     "output_type": "stream",
     "text": [
      "-> finished loop 189\n",
      "Loop 195: train 2019-07-15 00:00:00 -> 2023-07-14 00:00:00, forecast 2023-07-15 00:00:00\n",
      "  dat_slice shape: torch.Size([1462, 24, 10])  → flatten count = 35088\n",
      "-> finished loop 188\n",
      "Loop 196: train 2019-07-16 00:00:00 -> 2023-07-15 00:00:00, forecast 2023-07-16 00:00:00\n",
      "  dat_slice shape: torch.Size([1462, 24, 10])  → flatten count = 35088\n"
     ]
    },
    {
     "name": "stderr",
     "output_type": "stream",
     "text": [
      "C:\\Users\\amaguaya\\AppData\\Local\\Packages\\PythonSoftwareFoundation.Python.3.11_qbz5n2kfra8p0\\LocalCache\\local-packages\\Python311\\site-packages\\sklearn\\utils\\validation.py:2739: UserWarning: X does not have valid feature names, but LGBMRegressor was fitted with feature names\n",
      "  warnings.warn(\n"
     ]
    },
    {
     "name": "stdout",
     "output_type": "stream",
     "text": [
      "-> finished loop 190\n",
      "Loop 197: train 2019-07-17 00:00:00 -> 2023-07-16 00:00:00, forecast 2023-07-17 00:00:00\n",
      "  dat_slice shape: torch.Size([1462, 24, 10])  → flatten count = 35088\n"
     ]
    },
    {
     "name": "stderr",
     "output_type": "stream",
     "text": [
      "C:\\Users\\amaguaya\\AppData\\Local\\Packages\\PythonSoftwareFoundation.Python.3.11_qbz5n2kfra8p0\\LocalCache\\local-packages\\Python311\\site-packages\\sklearn\\utils\\validation.py:2739: UserWarning: X does not have valid feature names, but LGBMRegressor was fitted with feature names\n",
      "  warnings.warn(\n"
     ]
    },
    {
     "name": "stdout",
     "output_type": "stream",
     "text": [
      "-> finished loop 191\n",
      "Loop 198: train 2019-07-18 00:00:00 -> 2023-07-17 00:00:00, forecast 2023-07-18 00:00:00\n",
      "  dat_slice shape: torch.Size([1462, 24, 10])  → flatten count = 35088\n"
     ]
    },
    {
     "name": "stderr",
     "output_type": "stream",
     "text": [
      "C:\\Users\\amaguaya\\AppData\\Local\\Packages\\PythonSoftwareFoundation.Python.3.11_qbz5n2kfra8p0\\LocalCache\\local-packages\\Python311\\site-packages\\sklearn\\utils\\validation.py:2739: UserWarning: X does not have valid feature names, but LGBMRegressor was fitted with feature names\n",
      "  warnings.warn(\n",
      "C:\\Users\\amaguaya\\AppData\\Local\\Packages\\PythonSoftwareFoundation.Python.3.11_qbz5n2kfra8p0\\LocalCache\\local-packages\\Python311\\site-packages\\sklearn\\utils\\validation.py:2739: UserWarning: X does not have valid feature names, but LGBMRegressor was fitted with feature names\n",
      "  warnings.warn(\n"
     ]
    },
    {
     "name": "stdout",
     "output_type": "stream",
     "text": [
      "-> finished loop 192\n",
      "Loop 199: train 2019-07-19 00:00:00 -> 2023-07-18 00:00:00, forecast 2023-07-19 00:00:00\n",
      "  dat_slice shape: torch.Size([1462, 24, 10])  → flatten count = 35088\n",
      "-> finished loop 193\n",
      "Loop 200: train 2019-07-20 00:00:00 -> 2023-07-19 00:00:00, forecast 2023-07-20 00:00:00\n",
      "  dat_slice shape: torch.Size([1462, 24, 10])  → flatten count = 35088\n"
     ]
    },
    {
     "name": "stderr",
     "output_type": "stream",
     "text": [
      "C:\\Users\\amaguaya\\AppData\\Local\\Packages\\PythonSoftwareFoundation.Python.3.11_qbz5n2kfra8p0\\LocalCache\\local-packages\\Python311\\site-packages\\sklearn\\utils\\validation.py:2739: UserWarning: X does not have valid feature names, but LGBMRegressor was fitted with feature names\n",
      "  warnings.warn(\n",
      "C:\\Users\\amaguaya\\AppData\\Local\\Packages\\PythonSoftwareFoundation.Python.3.11_qbz5n2kfra8p0\\LocalCache\\local-packages\\Python311\\site-packages\\sklearn\\utils\\validation.py:2739: UserWarning: X does not have valid feature names, but LGBMRegressor was fitted with feature names\n",
      "  warnings.warn(\n"
     ]
    },
    {
     "name": "stdout",
     "output_type": "stream",
     "text": [
      "-> finished loop 195\n",
      "Loop 201: train 2019-07-21 00:00:00 -> 2023-07-20 00:00:00, forecast 2023-07-21 00:00:00\n",
      "  dat_slice shape: torch.Size([1462, 24, 10])  → flatten count = 35088\n",
      "-> finished loop 194\n",
      "Loop 202: train 2019-07-22 00:00:00 -> 2023-07-21 00:00:00, forecast 2023-07-22 00:00:00\n",
      "  dat_slice shape: torch.Size([1462, 24, 10])  → flatten count = 35088\n"
     ]
    },
    {
     "name": "stderr",
     "output_type": "stream",
     "text": [
      "C:\\Users\\amaguaya\\AppData\\Local\\Packages\\PythonSoftwareFoundation.Python.3.11_qbz5n2kfra8p0\\LocalCache\\local-packages\\Python311\\site-packages\\sklearn\\utils\\validation.py:2739: UserWarning: X does not have valid feature names, but LGBMRegressor was fitted with feature names\n",
      "  warnings.warn(\n"
     ]
    },
    {
     "name": "stdout",
     "output_type": "stream",
     "text": [
      "-> finished loop 196\n",
      "Loop 203: train 2019-07-23 00:00:00 -> 2023-07-22 00:00:00, forecast 2023-07-23 00:00:00\n",
      "  dat_slice shape: torch.Size([1462, 24, 10])  → flatten count = 35088\n"
     ]
    },
    {
     "name": "stderr",
     "output_type": "stream",
     "text": [
      "C:\\Users\\amaguaya\\AppData\\Local\\Packages\\PythonSoftwareFoundation.Python.3.11_qbz5n2kfra8p0\\LocalCache\\local-packages\\Python311\\site-packages\\sklearn\\utils\\validation.py:2739: UserWarning: X does not have valid feature names, but LGBMRegressor was fitted with feature names\n",
      "  warnings.warn(\n",
      "C:\\Users\\amaguaya\\AppData\\Local\\Packages\\PythonSoftwareFoundation.Python.3.11_qbz5n2kfra8p0\\LocalCache\\local-packages\\Python311\\site-packages\\sklearn\\utils\\validation.py:2739: UserWarning: X does not have valid feature names, but LGBMRegressor was fitted with feature names\n",
      "  warnings.warn(\n"
     ]
    },
    {
     "name": "stdout",
     "output_type": "stream",
     "text": [
      "-> finished loop 197\n",
      "Loop 204: train 2019-07-24 00:00:00 -> 2023-07-23 00:00:00, forecast 2023-07-24 00:00:00\n",
      "  dat_slice shape: torch.Size([1462, 24, 10])  → flatten count = 35088\n",
      "-> finished loop 198\n",
      "Loop 205: train 2019-07-25 00:00:00 -> 2023-07-24 00:00:00, forecast 2023-07-25 00:00:00\n",
      "  dat_slice shape: torch.Size([1462, 24, 10])  → flatten count = 35088\n"
     ]
    },
    {
     "name": "stderr",
     "output_type": "stream",
     "text": [
      "C:\\Users\\amaguaya\\AppData\\Local\\Packages\\PythonSoftwareFoundation.Python.3.11_qbz5n2kfra8p0\\LocalCache\\local-packages\\Python311\\site-packages\\sklearn\\utils\\validation.py:2739: UserWarning: X does not have valid feature names, but LGBMRegressor was fitted with feature names\n",
      "  warnings.warn(\n",
      "C:\\Users\\amaguaya\\AppData\\Local\\Packages\\PythonSoftwareFoundation.Python.3.11_qbz5n2kfra8p0\\LocalCache\\local-packages\\Python311\\site-packages\\sklearn\\utils\\validation.py:2739: UserWarning: X does not have valid feature names, but LGBMRegressor was fitted with feature names\n",
      "  warnings.warn(\n"
     ]
    },
    {
     "name": "stdout",
     "output_type": "stream",
     "text": [
      "-> finished loop 200\n",
      "Loop 206: train 2019-07-26 00:00:00 -> 2023-07-25 00:00:00, forecast 2023-07-26 00:00:00\n",
      "  dat_slice shape: torch.Size([1462, 24, 10])  → flatten count = 35088\n",
      "-> finished loop 199\n",
      "Loop 207: train 2019-07-27 00:00:00 -> 2023-07-26 00:00:00, forecast 2023-07-27 00:00:00\n",
      "  dat_slice shape: torch.Size([1462, 24, 10])  → flatten count = 35088\n"
     ]
    },
    {
     "name": "stderr",
     "output_type": "stream",
     "text": [
      "C:\\Users\\amaguaya\\AppData\\Local\\Packages\\PythonSoftwareFoundation.Python.3.11_qbz5n2kfra8p0\\LocalCache\\local-packages\\Python311\\site-packages\\sklearn\\utils\\validation.py:2739: UserWarning: X does not have valid feature names, but LGBMRegressor was fitted with feature names\n",
      "  warnings.warn(\n",
      "C:\\Users\\amaguaya\\AppData\\Local\\Packages\\PythonSoftwareFoundation.Python.3.11_qbz5n2kfra8p0\\LocalCache\\local-packages\\Python311\\site-packages\\sklearn\\utils\\validation.py:2739: UserWarning: X does not have valid feature names, but LGBMRegressor was fitted with feature names\n",
      "  warnings.warn(\n"
     ]
    },
    {
     "name": "stdout",
     "output_type": "stream",
     "text": [
      "-> finished loop 201\n",
      "Loop 208: train 2019-07-28 00:00:00 -> 2023-07-27 00:00:00, forecast 2023-07-28 00:00:00\n",
      "  dat_slice shape: torch.Size([1462, 24, 10])  → flatten count = 35088\n",
      "-> finished loop 202\n",
      "Loop 209: train 2019-07-29 00:00:00 -> 2023-07-28 00:00:00, forecast 2023-07-29 00:00:00\n",
      "  dat_slice shape: torch.Size([1462, 24, 10])  → flatten count = 35088\n"
     ]
    },
    {
     "name": "stderr",
     "output_type": "stream",
     "text": [
      "C:\\Users\\amaguaya\\AppData\\Local\\Packages\\PythonSoftwareFoundation.Python.3.11_qbz5n2kfra8p0\\LocalCache\\local-packages\\Python311\\site-packages\\sklearn\\utils\\validation.py:2739: UserWarning: X does not have valid feature names, but LGBMRegressor was fitted with feature names\n",
      "  warnings.warn(\n",
      "C:\\Users\\amaguaya\\AppData\\Local\\Packages\\PythonSoftwareFoundation.Python.3.11_qbz5n2kfra8p0\\LocalCache\\local-packages\\Python311\\site-packages\\sklearn\\utils\\validation.py:2739: UserWarning: X does not have valid feature names, but LGBMRegressor was fitted with feature names\n",
      "  warnings.warn(\n"
     ]
    },
    {
     "name": "stdout",
     "output_type": "stream",
     "text": [
      "-> finished loop 203\n",
      "Loop 210: train 2019-07-30 00:00:00 -> 2023-07-29 00:00:00, forecast 2023-07-30 00:00:00\n",
      "  dat_slice shape: torch.Size([1462, 24, 10])  → flatten count = 35088\n",
      "-> finished loop 205\n",
      "Loop 211: train 2019-07-31 00:00:00 -> 2023-07-30 00:00:00, forecast 2023-07-31 00:00:00\n",
      "  dat_slice shape: torch.Size([1462, 24, 10])  → flatten count = 35088\n"
     ]
    },
    {
     "name": "stderr",
     "output_type": "stream",
     "text": [
      "C:\\Users\\amaguaya\\AppData\\Local\\Packages\\PythonSoftwareFoundation.Python.3.11_qbz5n2kfra8p0\\LocalCache\\local-packages\\Python311\\site-packages\\sklearn\\utils\\validation.py:2739: UserWarning: X does not have valid feature names, but LGBMRegressor was fitted with feature names\n",
      "  warnings.warn(\n"
     ]
    },
    {
     "name": "stdout",
     "output_type": "stream",
     "text": [
      "-> finished loop 204\n",
      "Loop 212: train 2019-08-01 00:00:00 -> 2023-07-31 00:00:00, forecast 2023-08-01 00:00:00\n",
      "  dat_slice shape: torch.Size([1462, 24, 10])  → flatten count = 35088\n"
     ]
    },
    {
     "name": "stderr",
     "output_type": "stream",
     "text": [
      "C:\\Users\\amaguaya\\AppData\\Local\\Packages\\PythonSoftwareFoundation.Python.3.11_qbz5n2kfra8p0\\LocalCache\\local-packages\\Python311\\site-packages\\sklearn\\utils\\validation.py:2739: UserWarning: X does not have valid feature names, but LGBMRegressor was fitted with feature names\n",
      "  warnings.warn(\n"
     ]
    },
    {
     "name": "stdout",
     "output_type": "stream",
     "text": [
      "-> finished loop 206\n",
      "Loop 213: train 2019-08-02 00:00:00 -> 2023-08-01 00:00:00, forecast 2023-08-02 00:00:00\n",
      "  dat_slice shape: torch.Size([1462, 24, 10])  → flatten count = 35088\n"
     ]
    },
    {
     "name": "stderr",
     "output_type": "stream",
     "text": [
      "C:\\Users\\amaguaya\\AppData\\Local\\Packages\\PythonSoftwareFoundation.Python.3.11_qbz5n2kfra8p0\\LocalCache\\local-packages\\Python311\\site-packages\\sklearn\\utils\\validation.py:2739: UserWarning: X does not have valid feature names, but LGBMRegressor was fitted with feature names\n",
      "  warnings.warn(\n",
      "C:\\Users\\amaguaya\\AppData\\Local\\Packages\\PythonSoftwareFoundation.Python.3.11_qbz5n2kfra8p0\\LocalCache\\local-packages\\Python311\\site-packages\\sklearn\\utils\\validation.py:2739: UserWarning: X does not have valid feature names, but LGBMRegressor was fitted with feature names\n",
      "  warnings.warn(\n"
     ]
    },
    {
     "name": "stdout",
     "output_type": "stream",
     "text": [
      "-> finished loop 207\n",
      "Loop 214: train 2019-08-03 00:00:00 -> 2023-08-02 00:00:00, forecast 2023-08-03 00:00:00\n",
      "  dat_slice shape: torch.Size([1462, 24, 10])  → flatten count = 35088\n",
      "-> finished loop 208\n",
      "Loop 215: train 2019-08-04 00:00:00 -> 2023-08-03 00:00:00, forecast 2023-08-04 00:00:00\n",
      "  dat_slice shape: torch.Size([1462, 24, 10])  → flatten count = 35088\n"
     ]
    },
    {
     "name": "stderr",
     "output_type": "stream",
     "text": [
      "C:\\Users\\amaguaya\\AppData\\Local\\Packages\\PythonSoftwareFoundation.Python.3.11_qbz5n2kfra8p0\\LocalCache\\local-packages\\Python311\\site-packages\\sklearn\\utils\\validation.py:2739: UserWarning: X does not have valid feature names, but LGBMRegressor was fitted with feature names\n",
      "  warnings.warn(\n"
     ]
    },
    {
     "name": "stdout",
     "output_type": "stream",
     "text": [
      "-> finished loop 209\n",
      "Loop 216: train 2019-08-05 00:00:00 -> 2023-08-04 00:00:00, forecast 2023-08-05 00:00:00\n",
      "  dat_slice shape: torch.Size([1462, 24, 10])  → flatten count = 35088\n"
     ]
    },
    {
     "name": "stderr",
     "output_type": "stream",
     "text": [
      "C:\\Users\\amaguaya\\AppData\\Local\\Packages\\PythonSoftwareFoundation.Python.3.11_qbz5n2kfra8p0\\LocalCache\\local-packages\\Python311\\site-packages\\sklearn\\utils\\validation.py:2739: UserWarning: X does not have valid feature names, but LGBMRegressor was fitted with feature names\n",
      "  warnings.warn(\n",
      "C:\\Users\\amaguaya\\AppData\\Local\\Packages\\PythonSoftwareFoundation.Python.3.11_qbz5n2kfra8p0\\LocalCache\\local-packages\\Python311\\site-packages\\sklearn\\utils\\validation.py:2739: UserWarning: X does not have valid feature names, but LGBMRegressor was fitted with feature names\n",
      "  warnings.warn(\n"
     ]
    },
    {
     "name": "stdout",
     "output_type": "stream",
     "text": [
      "-> finished loop 210\n",
      "Loop 217: train 2019-08-06 00:00:00 -> 2023-08-05 00:00:00, forecast 2023-08-06 00:00:00\n",
      "  dat_slice shape: torch.Size([1462, 24, 10])  → flatten count = 35088\n",
      "-> finished loop 211\n",
      "Loop 218: train 2019-08-07 00:00:00 -> 2023-08-06 00:00:00, forecast 2023-08-07 00:00:00\n",
      "  dat_slice shape: torch.Size([1462, 24, 10])  → flatten count = 35088\n"
     ]
    },
    {
     "name": "stderr",
     "output_type": "stream",
     "text": [
      "C:\\Users\\amaguaya\\AppData\\Local\\Packages\\PythonSoftwareFoundation.Python.3.11_qbz5n2kfra8p0\\LocalCache\\local-packages\\Python311\\site-packages\\sklearn\\utils\\validation.py:2739: UserWarning: X does not have valid feature names, but LGBMRegressor was fitted with feature names\n",
      "  warnings.warn(\n"
     ]
    },
    {
     "name": "stdout",
     "output_type": "stream",
     "text": [
      "-> finished loop 212\n",
      "Loop 219: train 2019-08-08 00:00:00 -> 2023-08-07 00:00:00, forecast 2023-08-08 00:00:00\n",
      "  dat_slice shape: torch.Size([1462, 24, 10])  → flatten count = 35088\n"
     ]
    },
    {
     "name": "stderr",
     "output_type": "stream",
     "text": [
      "C:\\Users\\amaguaya\\AppData\\Local\\Packages\\PythonSoftwareFoundation.Python.3.11_qbz5n2kfra8p0\\LocalCache\\local-packages\\Python311\\site-packages\\sklearn\\utils\\validation.py:2739: UserWarning: X does not have valid feature names, but LGBMRegressor was fitted with feature names\n",
      "  warnings.warn(\n"
     ]
    },
    {
     "name": "stdout",
     "output_type": "stream",
     "text": [
      "-> finished loop 213\n",
      "Loop 220: train 2019-08-09 00:00:00 -> 2023-08-08 00:00:00, forecast 2023-08-09 00:00:00\n",
      "  dat_slice shape: torch.Size([1462, 24, 10])  → flatten count = 35088\n"
     ]
    },
    {
     "name": "stderr",
     "output_type": "stream",
     "text": [
      "C:\\Users\\amaguaya\\AppData\\Local\\Packages\\PythonSoftwareFoundation.Python.3.11_qbz5n2kfra8p0\\LocalCache\\local-packages\\Python311\\site-packages\\sklearn\\utils\\validation.py:2739: UserWarning: X does not have valid feature names, but LGBMRegressor was fitted with feature names\n",
      "  warnings.warn(\n"
     ]
    },
    {
     "name": "stdout",
     "output_type": "stream",
     "text": [
      "-> finished loop 215\n",
      "Loop 221: train 2019-08-10 00:00:00 -> 2023-08-09 00:00:00, forecast 2023-08-10 00:00:00\n",
      "  dat_slice shape: torch.Size([1462, 24, 10])  → flatten count = 35088\n"
     ]
    },
    {
     "name": "stderr",
     "output_type": "stream",
     "text": [
      "C:\\Users\\amaguaya\\AppData\\Local\\Packages\\PythonSoftwareFoundation.Python.3.11_qbz5n2kfra8p0\\LocalCache\\local-packages\\Python311\\site-packages\\sklearn\\utils\\validation.py:2739: UserWarning: X does not have valid feature names, but LGBMRegressor was fitted with feature names\n",
      "  warnings.warn(\n",
      "C:\\Users\\amaguaya\\AppData\\Local\\Packages\\PythonSoftwareFoundation.Python.3.11_qbz5n2kfra8p0\\LocalCache\\local-packages\\Python311\\site-packages\\sklearn\\utils\\validation.py:2739: UserWarning: X does not have valid feature names, but LGBMRegressor was fitted with feature names\n",
      "  warnings.warn(\n",
      "C:\\Users\\amaguaya\\AppData\\Local\\Packages\\PythonSoftwareFoundation.Python.3.11_qbz5n2kfra8p0\\LocalCache\\local-packages\\Python311\\site-packages\\sklearn\\utils\\validation.py:2739: UserWarning: X does not have valid feature names, but LGBMRegressor was fitted with feature names\n",
      "  warnings.warn(\n"
     ]
    },
    {
     "name": "stdout",
     "output_type": "stream",
     "text": [
      "-> finished loop 214\n",
      "Loop 222: train 2019-08-11 00:00:00 -> 2023-08-10 00:00:00, forecast 2023-08-11 00:00:00\n",
      "  dat_slice shape: torch.Size([1462, 24, 10])  → flatten count = 35088\n",
      "-> finished loop 216\n",
      "Loop 223: train 2019-08-12 00:00:00 -> 2023-08-11 00:00:00, forecast 2023-08-12 00:00:00\n",
      "  dat_slice shape: torch.Size([1462, 24, 10])  → flatten count = 35088\n",
      "-> finished loop 218\n",
      "Loop 224: train 2019-08-13 00:00:00 -> 2023-08-12 00:00:00, forecast 2023-08-13 00:00:00\n",
      "  dat_slice shape: torch.Size([1462, 24, 10])  → flatten count = 35088\n"
     ]
    },
    {
     "name": "stderr",
     "output_type": "stream",
     "text": [
      "C:\\Users\\amaguaya\\AppData\\Local\\Packages\\PythonSoftwareFoundation.Python.3.11_qbz5n2kfra8p0\\LocalCache\\local-packages\\Python311\\site-packages\\sklearn\\utils\\validation.py:2739: UserWarning: X does not have valid feature names, but LGBMRegressor was fitted with feature names\n",
      "  warnings.warn(\n"
     ]
    },
    {
     "name": "stdout",
     "output_type": "stream",
     "text": [
      "-> finished loop 217\n",
      "Loop 225: train 2019-08-14 00:00:00 -> 2023-08-13 00:00:00, forecast 2023-08-14 00:00:00\n",
      "  dat_slice shape: torch.Size([1462, 24, 10])  → flatten count = 35088\n"
     ]
    },
    {
     "name": "stderr",
     "output_type": "stream",
     "text": [
      "C:\\Users\\amaguaya\\AppData\\Local\\Packages\\PythonSoftwareFoundation.Python.3.11_qbz5n2kfra8p0\\LocalCache\\local-packages\\Python311\\site-packages\\sklearn\\utils\\validation.py:2739: UserWarning: X does not have valid feature names, but LGBMRegressor was fitted with feature names\n",
      "  warnings.warn(\n"
     ]
    },
    {
     "name": "stdout",
     "output_type": "stream",
     "text": [
      "-> finished loop 219\n",
      "Loop 226: train 2019-08-15 00:00:00 -> 2023-08-14 00:00:00, forecast 2023-08-15 00:00:00\n",
      "  dat_slice shape: torch.Size([1462, 24, 10])  → flatten count = 35088\n"
     ]
    },
    {
     "name": "stderr",
     "output_type": "stream",
     "text": [
      "C:\\Users\\amaguaya\\AppData\\Local\\Packages\\PythonSoftwareFoundation.Python.3.11_qbz5n2kfra8p0\\LocalCache\\local-packages\\Python311\\site-packages\\sklearn\\utils\\validation.py:2739: UserWarning: X does not have valid feature names, but LGBMRegressor was fitted with feature names\n",
      "  warnings.warn(\n",
      "C:\\Users\\amaguaya\\AppData\\Local\\Packages\\PythonSoftwareFoundation.Python.3.11_qbz5n2kfra8p0\\LocalCache\\local-packages\\Python311\\site-packages\\sklearn\\utils\\validation.py:2739: UserWarning: X does not have valid feature names, but LGBMRegressor was fitted with feature names\n",
      "  warnings.warn(\n"
     ]
    },
    {
     "name": "stdout",
     "output_type": "stream",
     "text": [
      "-> finished loop 221\n",
      "Loop 227: train 2019-08-16 00:00:00 -> 2023-08-15 00:00:00, forecast 2023-08-16 00:00:00\n",
      "  dat_slice shape: torch.Size([1462, 24, 10])  → flatten count = 35088\n",
      "-> finished loop 220\n",
      "Loop 228: train 2019-08-17 00:00:00 -> 2023-08-16 00:00:00, forecast 2023-08-17 00:00:00\n",
      "  dat_slice shape: torch.Size([1462, 24, 10])  → flatten count = 35088\n"
     ]
    },
    {
     "name": "stderr",
     "output_type": "stream",
     "text": [
      "C:\\Users\\amaguaya\\AppData\\Local\\Packages\\PythonSoftwareFoundation.Python.3.11_qbz5n2kfra8p0\\LocalCache\\local-packages\\Python311\\site-packages\\sklearn\\utils\\validation.py:2739: UserWarning: X does not have valid feature names, but LGBMRegressor was fitted with feature names\n",
      "  warnings.warn(\n",
      "C:\\Users\\amaguaya\\AppData\\Local\\Packages\\PythonSoftwareFoundation.Python.3.11_qbz5n2kfra8p0\\LocalCache\\local-packages\\Python311\\site-packages\\sklearn\\utils\\validation.py:2739: UserWarning: X does not have valid feature names, but LGBMRegressor was fitted with feature names\n",
      "  warnings.warn(\n"
     ]
    },
    {
     "name": "stdout",
     "output_type": "stream",
     "text": [
      "-> finished loop 223\n",
      "Loop 229: train 2019-08-18 00:00:00 -> 2023-08-17 00:00:00, forecast 2023-08-18 00:00:00\n",
      "  dat_slice shape: torch.Size([1462, 24, 10])  → flatten count = 35088\n",
      "-> finished loop 222\n",
      "Loop 230: train 2019-08-19 00:00:00 -> 2023-08-18 00:00:00, forecast 2023-08-19 00:00:00\n",
      "  dat_slice shape: torch.Size([1462, 24, 10])  → flatten count = 35088\n"
     ]
    },
    {
     "name": "stderr",
     "output_type": "stream",
     "text": [
      "C:\\Users\\amaguaya\\AppData\\Local\\Packages\\PythonSoftwareFoundation.Python.3.11_qbz5n2kfra8p0\\LocalCache\\local-packages\\Python311\\site-packages\\sklearn\\utils\\validation.py:2739: UserWarning: X does not have valid feature names, but LGBMRegressor was fitted with feature names\n",
      "  warnings.warn(\n"
     ]
    },
    {
     "name": "stdout",
     "output_type": "stream",
     "text": [
      "-> finished loop 224\n",
      "Loop 231: train 2019-08-20 00:00:00 -> 2023-08-19 00:00:00, forecast 2023-08-20 00:00:00\n",
      "  dat_slice shape: torch.Size([1462, 24, 10])  → flatten count = 35088\n"
     ]
    },
    {
     "name": "stderr",
     "output_type": "stream",
     "text": [
      "C:\\Users\\amaguaya\\AppData\\Local\\Packages\\PythonSoftwareFoundation.Python.3.11_qbz5n2kfra8p0\\LocalCache\\local-packages\\Python311\\site-packages\\sklearn\\utils\\validation.py:2739: UserWarning: X does not have valid feature names, but LGBMRegressor was fitted with feature names\n",
      "  warnings.warn(\n"
     ]
    },
    {
     "name": "stdout",
     "output_type": "stream",
     "text": [
      "-> finished loop 225\n",
      "Loop 232: train 2019-08-21 00:00:00 -> 2023-08-20 00:00:00, forecast 2023-08-21 00:00:00\n",
      "  dat_slice shape: torch.Size([1462, 24, 10])  → flatten count = 35088\n"
     ]
    },
    {
     "name": "stderr",
     "output_type": "stream",
     "text": [
      "C:\\Users\\amaguaya\\AppData\\Local\\Packages\\PythonSoftwareFoundation.Python.3.11_qbz5n2kfra8p0\\LocalCache\\local-packages\\Python311\\site-packages\\sklearn\\utils\\validation.py:2739: UserWarning: X does not have valid feature names, but LGBMRegressor was fitted with feature names\n",
      "  warnings.warn(\n"
     ]
    },
    {
     "name": "stdout",
     "output_type": "stream",
     "text": [
      "-> finished loop 226\n",
      "Loop 233: train 2019-08-22 00:00:00 -> 2023-08-21 00:00:00, forecast 2023-08-22 00:00:00\n",
      "  dat_slice shape: torch.Size([1462, 24, 10])  → flatten count = 35088\n"
     ]
    },
    {
     "name": "stderr",
     "output_type": "stream",
     "text": [
      "C:\\Users\\amaguaya\\AppData\\Local\\Packages\\PythonSoftwareFoundation.Python.3.11_qbz5n2kfra8p0\\LocalCache\\local-packages\\Python311\\site-packages\\sklearn\\utils\\validation.py:2739: UserWarning: X does not have valid feature names, but LGBMRegressor was fitted with feature names\n",
      "  warnings.warn(\n",
      "C:\\Users\\amaguaya\\AppData\\Local\\Packages\\PythonSoftwareFoundation.Python.3.11_qbz5n2kfra8p0\\LocalCache\\local-packages\\Python311\\site-packages\\sklearn\\utils\\validation.py:2739: UserWarning: X does not have valid feature names, but LGBMRegressor was fitted with feature names\n",
      "  warnings.warn(\n",
      "C:\\Users\\amaguaya\\AppData\\Local\\Packages\\PythonSoftwareFoundation.Python.3.11_qbz5n2kfra8p0\\LocalCache\\local-packages\\Python311\\site-packages\\sklearn\\utils\\validation.py:2739: UserWarning: X does not have valid feature names, but LGBMRegressor was fitted with feature names\n",
      "  warnings.warn(\n"
     ]
    },
    {
     "name": "stdout",
     "output_type": "stream",
     "text": [
      "-> finished loop 227\n",
      "Loop 234: train 2019-08-23 00:00:00 -> 2023-08-22 00:00:00, forecast 2023-08-23 00:00:00\n",
      "  dat_slice shape: torch.Size([1462, 24, 10])  → flatten count = 35088\n",
      "-> finished loop 228\n",
      "Loop 235: train 2019-08-24 00:00:00 -> 2023-08-23 00:00:00, forecast 2023-08-24 00:00:00\n",
      "  dat_slice shape: torch.Size([1462, 24, 10])  → flatten count = 35088\n",
      "-> finished loop 229\n",
      "Loop 236: train 2019-08-25 00:00:00 -> 2023-08-24 00:00:00, forecast 2023-08-25 00:00:00\n",
      "  dat_slice shape: torch.Size([1462, 24, 10])  → flatten count = 35088\n"
     ]
    },
    {
     "name": "stderr",
     "output_type": "stream",
     "text": [
      "C:\\Users\\amaguaya\\AppData\\Local\\Packages\\PythonSoftwareFoundation.Python.3.11_qbz5n2kfra8p0\\LocalCache\\local-packages\\Python311\\site-packages\\sklearn\\utils\\validation.py:2739: UserWarning: X does not have valid feature names, but LGBMRegressor was fitted with feature names\n",
      "  warnings.warn(\n",
      "C:\\Users\\amaguaya\\AppData\\Local\\Packages\\PythonSoftwareFoundation.Python.3.11_qbz5n2kfra8p0\\LocalCache\\local-packages\\Python311\\site-packages\\sklearn\\utils\\validation.py:2739: UserWarning: X does not have valid feature names, but LGBMRegressor was fitted with feature names\n",
      "  warnings.warn(\n"
     ]
    },
    {
     "name": "stdout",
     "output_type": "stream",
     "text": [
      "-> finished loop 230\n",
      "Loop 237: train 2019-08-26 00:00:00 -> 2023-08-25 00:00:00, forecast 2023-08-26 00:00:00\n",
      "  dat_slice shape: torch.Size([1462, 24, 10])  → flatten count = 35088\n",
      "-> finished loop 232\n",
      "Loop 238: train 2019-08-27 00:00:00 -> 2023-08-26 00:00:00, forecast 2023-08-27 00:00:00\n",
      "  dat_slice shape: torch.Size([1462, 24, 10])  → flatten count = 35088\n"
     ]
    },
    {
     "name": "stderr",
     "output_type": "stream",
     "text": [
      "C:\\Users\\amaguaya\\AppData\\Local\\Packages\\PythonSoftwareFoundation.Python.3.11_qbz5n2kfra8p0\\LocalCache\\local-packages\\Python311\\site-packages\\sklearn\\utils\\validation.py:2739: UserWarning: X does not have valid feature names, but LGBMRegressor was fitted with feature names\n",
      "  warnings.warn(\n",
      "C:\\Users\\amaguaya\\AppData\\Local\\Packages\\PythonSoftwareFoundation.Python.3.11_qbz5n2kfra8p0\\LocalCache\\local-packages\\Python311\\site-packages\\sklearn\\utils\\validation.py:2739: UserWarning: X does not have valid feature names, but LGBMRegressor was fitted with feature names\n",
      "  warnings.warn(\n"
     ]
    },
    {
     "name": "stdout",
     "output_type": "stream",
     "text": [
      "-> finished loop 231\n",
      "Loop 239: train 2019-08-28 00:00:00 -> 2023-08-27 00:00:00, forecast 2023-08-28 00:00:00\n",
      "  dat_slice shape: torch.Size([1462, 24, 10])  → flatten count = 35088\n",
      "-> finished loop 233\n",
      "Loop 240: train 2019-08-29 00:00:00 -> 2023-08-28 00:00:00, forecast 2023-08-29 00:00:00\n",
      "  dat_slice shape: torch.Size([1462, 24, 10])  → flatten count = 35088\n"
     ]
    },
    {
     "name": "stderr",
     "output_type": "stream",
     "text": [
      "C:\\Users\\amaguaya\\AppData\\Local\\Packages\\PythonSoftwareFoundation.Python.3.11_qbz5n2kfra8p0\\LocalCache\\local-packages\\Python311\\site-packages\\sklearn\\utils\\validation.py:2739: UserWarning: X does not have valid feature names, but LGBMRegressor was fitted with feature names\n",
      "  warnings.warn(\n",
      "C:\\Users\\amaguaya\\AppData\\Local\\Packages\\PythonSoftwareFoundation.Python.3.11_qbz5n2kfra8p0\\LocalCache\\local-packages\\Python311\\site-packages\\sklearn\\utils\\validation.py:2739: UserWarning: X does not have valid feature names, but LGBMRegressor was fitted with feature names\n",
      "  warnings.warn(\n",
      "C:\\Users\\amaguaya\\AppData\\Local\\Packages\\PythonSoftwareFoundation.Python.3.11_qbz5n2kfra8p0\\LocalCache\\local-packages\\Python311\\site-packages\\sklearn\\utils\\validation.py:2739: UserWarning: X does not have valid feature names, but LGBMRegressor was fitted with feature names\n",
      "  warnings.warn(\n"
     ]
    },
    {
     "name": "stdout",
     "output_type": "stream",
     "text": [
      "-> finished loop 234\n",
      "Loop 241: train 2019-08-30 00:00:00 -> 2023-08-29 00:00:00, forecast 2023-08-30 00:00:00\n",
      "  dat_slice shape: torch.Size([1462, 24, 10])  → flatten count = 35088\n",
      "-> finished loop 235\n",
      "Loop 242: train 2019-08-31 00:00:00 -> 2023-08-30 00:00:00, forecast 2023-08-31 00:00:00\n",
      "  dat_slice shape: torch.Size([1462, 24, 10])  → flatten count = 35088\n",
      "-> finished loop 236\n",
      "Loop 243: train 2019-09-01 00:00:00 -> 2023-08-31 00:00:00, forecast 2023-09-01 00:00:00\n",
      "  dat_slice shape: torch.Size([1462, 24, 10])  → flatten count = 35088\n"
     ]
    },
    {
     "name": "stderr",
     "output_type": "stream",
     "text": [
      "C:\\Users\\amaguaya\\AppData\\Local\\Packages\\PythonSoftwareFoundation.Python.3.11_qbz5n2kfra8p0\\LocalCache\\local-packages\\Python311\\site-packages\\sklearn\\utils\\validation.py:2739: UserWarning: X does not have valid feature names, but LGBMRegressor was fitted with feature names\n",
      "  warnings.warn(\n",
      "C:\\Users\\amaguaya\\AppData\\Local\\Packages\\PythonSoftwareFoundation.Python.3.11_qbz5n2kfra8p0\\LocalCache\\local-packages\\Python311\\site-packages\\sklearn\\utils\\validation.py:2739: UserWarning: X does not have valid feature names, but LGBMRegressor was fitted with feature names\n",
      "  warnings.warn(\n"
     ]
    },
    {
     "name": "stdout",
     "output_type": "stream",
     "text": [
      "-> finished loop 239\n",
      "Loop 244: train 2019-09-02 00:00:00 -> 2023-09-01 00:00:00, forecast 2023-09-02 00:00:00\n",
      "  dat_slice shape: torch.Size([1462, 24, 10])  → flatten count = 35088\n",
      "-> finished loop 237\n",
      "Loop 245: train 2019-09-03 00:00:00 -> 2023-09-02 00:00:00, forecast 2023-09-03 00:00:00\n",
      "  dat_slice shape: torch.Size([1462, 24, 10])  → flatten count = 35088\n"
     ]
    },
    {
     "name": "stderr",
     "output_type": "stream",
     "text": [
      "C:\\Users\\amaguaya\\AppData\\Local\\Packages\\PythonSoftwareFoundation.Python.3.11_qbz5n2kfra8p0\\LocalCache\\local-packages\\Python311\\site-packages\\sklearn\\utils\\validation.py:2739: UserWarning: X does not have valid feature names, but LGBMRegressor was fitted with feature names\n",
      "  warnings.warn(\n",
      "C:\\Users\\amaguaya\\AppData\\Local\\Packages\\PythonSoftwareFoundation.Python.3.11_qbz5n2kfra8p0\\LocalCache\\local-packages\\Python311\\site-packages\\sklearn\\utils\\validation.py:2739: UserWarning: X does not have valid feature names, but LGBMRegressor was fitted with feature names\n",
      "  warnings.warn(\n"
     ]
    },
    {
     "name": "stdout",
     "output_type": "stream",
     "text": [
      "-> finished loop 240\n",
      "Loop 246: train 2019-09-04 00:00:00 -> 2023-09-03 00:00:00, forecast 2023-09-04 00:00:00\n",
      "  dat_slice shape: torch.Size([1462, 24, 10])  → flatten count = 35088\n",
      "-> finished loop 238\n",
      "Loop 247: train 2019-09-05 00:00:00 -> 2023-09-04 00:00:00, forecast 2023-09-05 00:00:00\n",
      "  dat_slice shape: torch.Size([1462, 24, 10])  → flatten count = 35088\n"
     ]
    },
    {
     "name": "stderr",
     "output_type": "stream",
     "text": [
      "C:\\Users\\amaguaya\\AppData\\Local\\Packages\\PythonSoftwareFoundation.Python.3.11_qbz5n2kfra8p0\\LocalCache\\local-packages\\Python311\\site-packages\\sklearn\\utils\\validation.py:2739: UserWarning: X does not have valid feature names, but LGBMRegressor was fitted with feature names\n",
      "  warnings.warn(\n",
      "C:\\Users\\amaguaya\\AppData\\Local\\Packages\\PythonSoftwareFoundation.Python.3.11_qbz5n2kfra8p0\\LocalCache\\local-packages\\Python311\\site-packages\\sklearn\\utils\\validation.py:2739: UserWarning: X does not have valid feature names, but LGBMRegressor was fitted with feature names\n",
      "  warnings.warn(\n",
      "C:\\Users\\amaguaya\\AppData\\Local\\Packages\\PythonSoftwareFoundation.Python.3.11_qbz5n2kfra8p0\\LocalCache\\local-packages\\Python311\\site-packages\\sklearn\\utils\\validation.py:2739: UserWarning: X does not have valid feature names, but LGBMRegressor was fitted with feature names\n",
      "  warnings.warn(\n"
     ]
    },
    {
     "name": "stdout",
     "output_type": "stream",
     "text": [
      "-> finished loop 241\n",
      "Loop 248: train 2019-09-06 00:00:00 -> 2023-09-05 00:00:00, forecast 2023-09-06 00:00:00\n",
      "  dat_slice shape: torch.Size([1462, 24, 10])  → flatten count = 35088\n",
      "-> finished loop 242\n",
      "Loop 249: train 2019-09-07 00:00:00 -> 2023-09-06 00:00:00, forecast 2023-09-07 00:00:00\n",
      "  dat_slice shape: torch.Size([1462, 24, 10])  → flatten count = 35088\n",
      "-> finished loop 243\n",
      "Loop 250: train 2019-09-08 00:00:00 -> 2023-09-07 00:00:00, forecast 2023-09-08 00:00:00\n",
      "  dat_slice shape: torch.Size([1462, 24, 10])  → flatten count = 35088\n"
     ]
    },
    {
     "name": "stderr",
     "output_type": "stream",
     "text": [
      "C:\\Users\\amaguaya\\AppData\\Local\\Packages\\PythonSoftwareFoundation.Python.3.11_qbz5n2kfra8p0\\LocalCache\\local-packages\\Python311\\site-packages\\sklearn\\utils\\validation.py:2739: UserWarning: X does not have valid feature names, but LGBMRegressor was fitted with feature names\n",
      "  warnings.warn(\n",
      "C:\\Users\\amaguaya\\AppData\\Local\\Packages\\PythonSoftwareFoundation.Python.3.11_qbz5n2kfra8p0\\LocalCache\\local-packages\\Python311\\site-packages\\sklearn\\utils\\validation.py:2739: UserWarning: X does not have valid feature names, but LGBMRegressor was fitted with feature names\n",
      "  warnings.warn(\n"
     ]
    },
    {
     "name": "stdout",
     "output_type": "stream",
     "text": [
      "-> finished loop 245\n",
      "Loop 251: train 2019-09-09 00:00:00 -> 2023-09-08 00:00:00, forecast 2023-09-09 00:00:00\n",
      "  dat_slice shape: torch.Size([1462, 24, 10])  → flatten count = 35088\n",
      "-> finished loop 246\n",
      "Loop 252: train 2019-09-10 00:00:00 -> 2023-09-09 00:00:00, forecast 2023-09-10 00:00:00\n",
      "  dat_slice shape: torch.Size([1462, 24, 10])  → flatten count = 35088\n"
     ]
    },
    {
     "name": "stderr",
     "output_type": "stream",
     "text": [
      "C:\\Users\\amaguaya\\AppData\\Local\\Packages\\PythonSoftwareFoundation.Python.3.11_qbz5n2kfra8p0\\LocalCache\\local-packages\\Python311\\site-packages\\sklearn\\utils\\validation.py:2739: UserWarning: X does not have valid feature names, but LGBMRegressor was fitted with feature names\n",
      "  warnings.warn(\n"
     ]
    },
    {
     "name": "stdout",
     "output_type": "stream",
     "text": [
      "-> finished loop 244\n",
      "Loop 253: train 2019-09-11 00:00:00 -> 2023-09-10 00:00:00, forecast 2023-09-11 00:00:00\n",
      "  dat_slice shape: torch.Size([1462, 24, 10])  → flatten count = 35088\n"
     ]
    },
    {
     "name": "stderr",
     "output_type": "stream",
     "text": [
      "C:\\Users\\amaguaya\\AppData\\Local\\Packages\\PythonSoftwareFoundation.Python.3.11_qbz5n2kfra8p0\\LocalCache\\local-packages\\Python311\\site-packages\\sklearn\\utils\\validation.py:2739: UserWarning: X does not have valid feature names, but LGBMRegressor was fitted with feature names\n",
      "  warnings.warn(\n"
     ]
    },
    {
     "name": "stdout",
     "output_type": "stream",
     "text": [
      "-> finished loop 247\n",
      "Loop 254: train 2019-09-12 00:00:00 -> 2023-09-11 00:00:00, forecast 2023-09-12 00:00:00\n",
      "  dat_slice shape: torch.Size([1462, 24, 10])  → flatten count = 35088\n"
     ]
    },
    {
     "name": "stderr",
     "output_type": "stream",
     "text": [
      "C:\\Users\\amaguaya\\AppData\\Local\\Packages\\PythonSoftwareFoundation.Python.3.11_qbz5n2kfra8p0\\LocalCache\\local-packages\\Python311\\site-packages\\sklearn\\utils\\validation.py:2739: UserWarning: X does not have valid feature names, but LGBMRegressor was fitted with feature names\n",
      "  warnings.warn(\n",
      "C:\\Users\\amaguaya\\AppData\\Local\\Packages\\PythonSoftwareFoundation.Python.3.11_qbz5n2kfra8p0\\LocalCache\\local-packages\\Python311\\site-packages\\sklearn\\utils\\validation.py:2739: UserWarning: X does not have valid feature names, but LGBMRegressor was fitted with feature names\n",
      "  warnings.warn(\n",
      "C:\\Users\\amaguaya\\AppData\\Local\\Packages\\PythonSoftwareFoundation.Python.3.11_qbz5n2kfra8p0\\LocalCache\\local-packages\\Python311\\site-packages\\sklearn\\utils\\validation.py:2739: UserWarning: X does not have valid feature names, but LGBMRegressor was fitted with feature names\n",
      "  warnings.warn(\n"
     ]
    },
    {
     "name": "stdout",
     "output_type": "stream",
     "text": [
      "-> finished loop 248\n",
      "Loop 255: train 2019-09-13 00:00:00 -> 2023-09-12 00:00:00, forecast 2023-09-13 00:00:00\n",
      "  dat_slice shape: torch.Size([1462, 24, 10])  → flatten count = 35088\n",
      "-> finished loop 249\n",
      "Loop 256: train 2019-09-14 00:00:00 -> 2023-09-13 00:00:00, forecast 2023-09-14 00:00:00\n",
      "  dat_slice shape: torch.Size([1462, 24, 10])  → flatten count = 35088\n",
      "-> finished loop 250\n",
      "Loop 257: train 2019-09-15 00:00:00 -> 2023-09-14 00:00:00, forecast 2023-09-15 00:00:00\n",
      "  dat_slice shape: torch.Size([1462, 24, 10])  → flatten count = 35088\n"
     ]
    },
    {
     "name": "stderr",
     "output_type": "stream",
     "text": [
      "C:\\Users\\amaguaya\\AppData\\Local\\Packages\\PythonSoftwareFoundation.Python.3.11_qbz5n2kfra8p0\\LocalCache\\local-packages\\Python311\\site-packages\\sklearn\\utils\\validation.py:2739: UserWarning: X does not have valid feature names, but LGBMRegressor was fitted with feature names\n",
      "  warnings.warn(\n"
     ]
    },
    {
     "name": "stdout",
     "output_type": "stream",
     "text": [
      "-> finished loop 252\n",
      "Loop 258: train 2019-09-16 00:00:00 -> 2023-09-15 00:00:00, forecast 2023-09-16 00:00:00\n",
      "  dat_slice shape: torch.Size([1462, 24, 10])  → flatten count = 35088\n"
     ]
    },
    {
     "name": "stderr",
     "output_type": "stream",
     "text": [
      "C:\\Users\\amaguaya\\AppData\\Local\\Packages\\PythonSoftwareFoundation.Python.3.11_qbz5n2kfra8p0\\LocalCache\\local-packages\\Python311\\site-packages\\sklearn\\utils\\validation.py:2739: UserWarning: X does not have valid feature names, but LGBMRegressor was fitted with feature names\n",
      "  warnings.warn(\n"
     ]
    },
    {
     "name": "stdout",
     "output_type": "stream",
     "text": [
      "-> finished loop 251\n",
      "Loop 259: train 2019-09-17 00:00:00 -> 2023-09-16 00:00:00, forecast 2023-09-17 00:00:00\n",
      "  dat_slice shape: torch.Size([1462, 24, 10])  → flatten count = 35088\n"
     ]
    },
    {
     "name": "stderr",
     "output_type": "stream",
     "text": [
      "C:\\Users\\amaguaya\\AppData\\Local\\Packages\\PythonSoftwareFoundation.Python.3.11_qbz5n2kfra8p0\\LocalCache\\local-packages\\Python311\\site-packages\\sklearn\\utils\\validation.py:2739: UserWarning: X does not have valid feature names, but LGBMRegressor was fitted with feature names\n",
      "  warnings.warn(\n",
      "C:\\Users\\amaguaya\\AppData\\Local\\Packages\\PythonSoftwareFoundation.Python.3.11_qbz5n2kfra8p0\\LocalCache\\local-packages\\Python311\\site-packages\\sklearn\\utils\\validation.py:2739: UserWarning: X does not have valid feature names, but LGBMRegressor was fitted with feature names\n",
      "  warnings.warn(\n"
     ]
    },
    {
     "name": "stdout",
     "output_type": "stream",
     "text": [
      "-> finished loop 254\n",
      "Loop 260: train 2019-09-18 00:00:00 -> 2023-09-17 00:00:00, forecast 2023-09-18 00:00:00\n",
      "  dat_slice shape: torch.Size([1462, 24, 10])  → flatten count = 35088\n",
      "-> finished loop 253\n",
      "Loop 261: train 2019-09-19 00:00:00 -> 2023-09-18 00:00:00, forecast 2023-09-19 00:00:00\n",
      "  dat_slice shape: torch.Size([1462, 24, 10])  → flatten count = 35088\n"
     ]
    },
    {
     "name": "stderr",
     "output_type": "stream",
     "text": [
      "C:\\Users\\amaguaya\\AppData\\Local\\Packages\\PythonSoftwareFoundation.Python.3.11_qbz5n2kfra8p0\\LocalCache\\local-packages\\Python311\\site-packages\\sklearn\\utils\\validation.py:2739: UserWarning: X does not have valid feature names, but LGBMRegressor was fitted with feature names\n",
      "  warnings.warn(\n",
      "C:\\Users\\amaguaya\\AppData\\Local\\Packages\\PythonSoftwareFoundation.Python.3.11_qbz5n2kfra8p0\\LocalCache\\local-packages\\Python311\\site-packages\\sklearn\\utils\\validation.py:2739: UserWarning: X does not have valid feature names, but LGBMRegressor was fitted with feature names\n",
      "  warnings.warn(\n"
     ]
    },
    {
     "name": "stdout",
     "output_type": "stream",
     "text": [
      "-> finished loop 255\n",
      "Loop 262: train 2019-09-20 00:00:00 -> 2023-09-19 00:00:00, forecast 2023-09-20 00:00:00\n",
      "  dat_slice shape: torch.Size([1462, 24, 10])  → flatten count = 35088\n",
      "-> finished loop 257\n",
      "Loop 263: train 2019-09-21 00:00:00 -> 2023-09-20 00:00:00, forecast 2023-09-21 00:00:00\n",
      "  dat_slice shape: torch.Size([1462, 24, 10])  → flatten count = 35088\n"
     ]
    },
    {
     "name": "stderr",
     "output_type": "stream",
     "text": [
      "C:\\Users\\amaguaya\\AppData\\Local\\Packages\\PythonSoftwareFoundation.Python.3.11_qbz5n2kfra8p0\\LocalCache\\local-packages\\Python311\\site-packages\\sklearn\\utils\\validation.py:2739: UserWarning: X does not have valid feature names, but LGBMRegressor was fitted with feature names\n",
      "  warnings.warn(\n"
     ]
    },
    {
     "name": "stdout",
     "output_type": "stream",
     "text": [
      "-> finished loop 256\n",
      "Loop 264: train 2019-09-22 00:00:00 -> 2023-09-21 00:00:00, forecast 2023-09-22 00:00:00\n",
      "  dat_slice shape: torch.Size([1462, 24, 10])  → flatten count = 35088\n"
     ]
    },
    {
     "name": "stderr",
     "output_type": "stream",
     "text": [
      "C:\\Users\\amaguaya\\AppData\\Local\\Packages\\PythonSoftwareFoundation.Python.3.11_qbz5n2kfra8p0\\LocalCache\\local-packages\\Python311\\site-packages\\sklearn\\utils\\validation.py:2739: UserWarning: X does not have valid feature names, but LGBMRegressor was fitted with feature names\n",
      "  warnings.warn(\n"
     ]
    },
    {
     "name": "stdout",
     "output_type": "stream",
     "text": [
      "-> finished loop 258\n",
      "Loop 265: train 2019-09-23 00:00:00 -> 2023-09-22 00:00:00, forecast 2023-09-23 00:00:00\n",
      "  dat_slice shape: torch.Size([1462, 24, 10])  → flatten count = 35088\n"
     ]
    },
    {
     "name": "stderr",
     "output_type": "stream",
     "text": [
      "C:\\Users\\amaguaya\\AppData\\Local\\Packages\\PythonSoftwareFoundation.Python.3.11_qbz5n2kfra8p0\\LocalCache\\local-packages\\Python311\\site-packages\\sklearn\\utils\\validation.py:2739: UserWarning: X does not have valid feature names, but LGBMRegressor was fitted with feature names\n",
      "  warnings.warn(\n",
      "C:\\Users\\amaguaya\\AppData\\Local\\Packages\\PythonSoftwareFoundation.Python.3.11_qbz5n2kfra8p0\\LocalCache\\local-packages\\Python311\\site-packages\\sklearn\\utils\\validation.py:2739: UserWarning: X does not have valid feature names, but LGBMRegressor was fitted with feature names\n",
      "  warnings.warn(\n"
     ]
    },
    {
     "name": "stdout",
     "output_type": "stream",
     "text": [
      "-> finished loop 259\n",
      "Loop 266: train 2019-09-24 00:00:00 -> 2023-09-23 00:00:00, forecast 2023-09-24 00:00:00\n",
      "  dat_slice shape: torch.Size([1462, 24, 10])  → flatten count = 35088\n",
      "-> finished loop 260\n",
      "Loop 267: train 2019-09-25 00:00:00 -> 2023-09-24 00:00:00, forecast 2023-09-25 00:00:00\n",
      "  dat_slice shape: torch.Size([1462, 24, 10])  → flatten count = 35088\n",
      "-> finished loop 261\n",
      "Loop 268: train 2019-09-26 00:00:00 -> 2023-09-25 00:00:00, forecast 2023-09-26 00:00:00\n",
      "  dat_slice shape: torch.Size([1462, 24, 10])  → flatten count = 35088\n"
     ]
    },
    {
     "name": "stderr",
     "output_type": "stream",
     "text": [
      "C:\\Users\\amaguaya\\AppData\\Local\\Packages\\PythonSoftwareFoundation.Python.3.11_qbz5n2kfra8p0\\LocalCache\\local-packages\\Python311\\site-packages\\sklearn\\utils\\validation.py:2739: UserWarning: X does not have valid feature names, but LGBMRegressor was fitted with feature names\n",
      "  warnings.warn(\n",
      "C:\\Users\\amaguaya\\AppData\\Local\\Packages\\PythonSoftwareFoundation.Python.3.11_qbz5n2kfra8p0\\LocalCache\\local-packages\\Python311\\site-packages\\sklearn\\utils\\validation.py:2739: UserWarning: X does not have valid feature names, but LGBMRegressor was fitted with feature names\n",
      "  warnings.warn(\n",
      "C:\\Users\\amaguaya\\AppData\\Local\\Packages\\PythonSoftwareFoundation.Python.3.11_qbz5n2kfra8p0\\LocalCache\\local-packages\\Python311\\site-packages\\sklearn\\utils\\validation.py:2739: UserWarning: X does not have valid feature names, but LGBMRegressor was fitted with feature names\n",
      "  warnings.warn(\n"
     ]
    },
    {
     "name": "stdout",
     "output_type": "stream",
     "text": [
      "-> finished loop 262\n",
      "Loop 269: train 2019-09-27 00:00:00 -> 2023-09-26 00:00:00, forecast 2023-09-27 00:00:00\n",
      "  dat_slice shape: torch.Size([1462, 24, 10])  → flatten count = 35088\n",
      "-> finished loop 263\n",
      "Loop 270: train 2019-09-28 00:00:00 -> 2023-09-27 00:00:00, forecast 2023-09-28 00:00:00\n",
      "  dat_slice shape: torch.Size([1462, 24, 10])  → flatten count = 35088\n"
     ]
    },
    {
     "name": "stderr",
     "output_type": "stream",
     "text": [
      "C:\\Users\\amaguaya\\AppData\\Local\\Packages\\PythonSoftwareFoundation.Python.3.11_qbz5n2kfra8p0\\LocalCache\\local-packages\\Python311\\site-packages\\sklearn\\utils\\validation.py:2739: UserWarning: X does not have valid feature names, but LGBMRegressor was fitted with feature names\n",
      "  warnings.warn(\n"
     ]
    },
    {
     "name": "stdout",
     "output_type": "stream",
     "text": [
      "-> finished loop 264\n",
      "Loop 271: train 2019-09-29 00:00:00 -> 2023-09-28 00:00:00, forecast 2023-09-29 00:00:00\n",
      "  dat_slice shape: torch.Size([1462, 24, 10])  → flatten count = 35088\n"
     ]
    },
    {
     "name": "stderr",
     "output_type": "stream",
     "text": [
      "C:\\Users\\amaguaya\\AppData\\Local\\Packages\\PythonSoftwareFoundation.Python.3.11_qbz5n2kfra8p0\\LocalCache\\local-packages\\Python311\\site-packages\\sklearn\\utils\\validation.py:2739: UserWarning: X does not have valid feature names, but LGBMRegressor was fitted with feature names\n",
      "  warnings.warn(\n"
     ]
    },
    {
     "name": "stdout",
     "output_type": "stream",
     "text": [
      "-> finished loop 265\n",
      "Loop 272: train 2019-09-30 00:00:00 -> 2023-09-29 00:00:00, forecast 2023-09-30 00:00:00\n",
      "  dat_slice shape: torch.Size([1462, 24, 10])  → flatten count = 35088\n"
     ]
    },
    {
     "name": "stderr",
     "output_type": "stream",
     "text": [
      "C:\\Users\\amaguaya\\AppData\\Local\\Packages\\PythonSoftwareFoundation.Python.3.11_qbz5n2kfra8p0\\LocalCache\\local-packages\\Python311\\site-packages\\sklearn\\utils\\validation.py:2739: UserWarning: X does not have valid feature names, but LGBMRegressor was fitted with feature names\n",
      "  warnings.warn(\n",
      "C:\\Users\\amaguaya\\AppData\\Local\\Packages\\PythonSoftwareFoundation.Python.3.11_qbz5n2kfra8p0\\LocalCache\\local-packages\\Python311\\site-packages\\sklearn\\utils\\validation.py:2739: UserWarning: X does not have valid feature names, but LGBMRegressor was fitted with feature names\n",
      "  warnings.warn(\n",
      "C:\\Users\\amaguaya\\AppData\\Local\\Packages\\PythonSoftwareFoundation.Python.3.11_qbz5n2kfra8p0\\LocalCache\\local-packages\\Python311\\site-packages\\sklearn\\utils\\validation.py:2739: UserWarning: X does not have valid feature names, but LGBMRegressor was fitted with feature names\n",
      "  warnings.warn(\n"
     ]
    },
    {
     "name": "stdout",
     "output_type": "stream",
     "text": [
      "-> finished loop 266\n",
      "Loop 273: train 2019-10-01 00:00:00 -> 2023-09-30 00:00:00, forecast 2023-10-01 00:00:00\n",
      "  dat_slice shape: torch.Size([1462, 24, 10])  → flatten count = 35088\n",
      "-> finished loop 267\n",
      "Loop 274: train 2019-10-02 00:00:00 -> 2023-10-01 00:00:00, forecast 2023-10-02 00:00:00\n",
      "  dat_slice shape: torch.Size([1462, 24, 10])  → flatten count = 35088\n",
      "-> finished loop 268\n",
      "Loop 275: train 2019-10-03 00:00:00 -> 2023-10-02 00:00:00, forecast 2023-10-03 00:00:00\n",
      "  dat_slice shape: torch.Size([1462, 24, 10])  → flatten count = 35088\n"
     ]
    },
    {
     "name": "stderr",
     "output_type": "stream",
     "text": [
      "C:\\Users\\amaguaya\\AppData\\Local\\Packages\\PythonSoftwareFoundation.Python.3.11_qbz5n2kfra8p0\\LocalCache\\local-packages\\Python311\\site-packages\\sklearn\\utils\\validation.py:2739: UserWarning: X does not have valid feature names, but LGBMRegressor was fitted with feature names\n",
      "  warnings.warn(\n",
      "C:\\Users\\amaguaya\\AppData\\Local\\Packages\\PythonSoftwareFoundation.Python.3.11_qbz5n2kfra8p0\\LocalCache\\local-packages\\Python311\\site-packages\\sklearn\\utils\\validation.py:2739: UserWarning: X does not have valid feature names, but LGBMRegressor was fitted with feature names\n",
      "  warnings.warn(\n"
     ]
    },
    {
     "name": "stdout",
     "output_type": "stream",
     "text": [
      "-> finished loop 269\n",
      "Loop 276: train 2019-10-04 00:00:00 -> 2023-10-03 00:00:00, forecast 2023-10-04 00:00:00\n",
      "  dat_slice shape: torch.Size([1462, 24, 10])  → flatten count = 35088\n",
      "-> finished loop 270\n",
      "Loop 277: train 2019-10-05 00:00:00 -> 2023-10-04 00:00:00, forecast 2023-10-05 00:00:00\n",
      "  dat_slice shape: torch.Size([1462, 24, 10])  → flatten count = 35088\n"
     ]
    },
    {
     "name": "stderr",
     "output_type": "stream",
     "text": [
      "C:\\Users\\amaguaya\\AppData\\Local\\Packages\\PythonSoftwareFoundation.Python.3.11_qbz5n2kfra8p0\\LocalCache\\local-packages\\Python311\\site-packages\\sklearn\\utils\\validation.py:2739: UserWarning: X does not have valid feature names, but LGBMRegressor was fitted with feature names\n",
      "  warnings.warn(\n"
     ]
    },
    {
     "name": "stdout",
     "output_type": "stream",
     "text": [
      "-> finished loop 271\n",
      "Loop 278: train 2019-10-06 00:00:00 -> 2023-10-05 00:00:00, forecast 2023-10-06 00:00:00\n",
      "  dat_slice shape: torch.Size([1462, 24, 10])  → flatten count = 35088\n"
     ]
    },
    {
     "name": "stderr",
     "output_type": "stream",
     "text": [
      "C:\\Users\\amaguaya\\AppData\\Local\\Packages\\PythonSoftwareFoundation.Python.3.11_qbz5n2kfra8p0\\LocalCache\\local-packages\\Python311\\site-packages\\sklearn\\utils\\validation.py:2739: UserWarning: X does not have valid feature names, but LGBMRegressor was fitted with feature names\n",
      "  warnings.warn(\n"
     ]
    },
    {
     "name": "stdout",
     "output_type": "stream",
     "text": [
      "-> finished loop 272\n",
      "Loop 279: train 2019-10-07 00:00:00 -> 2023-10-06 00:00:00, forecast 2023-10-07 00:00:00\n",
      "  dat_slice shape: torch.Size([1462, 24, 10])  → flatten count = 35088\n"
     ]
    },
    {
     "name": "stderr",
     "output_type": "stream",
     "text": [
      "C:\\Users\\amaguaya\\AppData\\Local\\Packages\\PythonSoftwareFoundation.Python.3.11_qbz5n2kfra8p0\\LocalCache\\local-packages\\Python311\\site-packages\\sklearn\\utils\\validation.py:2739: UserWarning: X does not have valid feature names, but LGBMRegressor was fitted with feature names\n",
      "  warnings.warn(\n",
      "C:\\Users\\amaguaya\\AppData\\Local\\Packages\\PythonSoftwareFoundation.Python.3.11_qbz5n2kfra8p0\\LocalCache\\local-packages\\Python311\\site-packages\\sklearn\\utils\\validation.py:2739: UserWarning: X does not have valid feature names, but LGBMRegressor was fitted with feature names\n",
      "  warnings.warn(\n"
     ]
    },
    {
     "name": "stdout",
     "output_type": "stream",
     "text": [
      "-> finished loop 273\n",
      "Loop 280: train 2019-10-08 00:00:00 -> 2023-10-07 00:00:00, forecast 2023-10-08 00:00:00\n",
      "  dat_slice shape: torch.Size([1462, 24, 10])  → flatten count = 35088\n",
      "-> finished loop 274\n",
      "Loop 281: train 2019-10-09 00:00:00 -> 2023-10-08 00:00:00, forecast 2023-10-09 00:00:00\n",
      "  dat_slice shape: torch.Size([1462, 24, 10])  → flatten count = 35088\n"
     ]
    },
    {
     "name": "stderr",
     "output_type": "stream",
     "text": [
      "C:\\Users\\amaguaya\\AppData\\Local\\Packages\\PythonSoftwareFoundation.Python.3.11_qbz5n2kfra8p0\\LocalCache\\local-packages\\Python311\\site-packages\\sklearn\\utils\\validation.py:2739: UserWarning: X does not have valid feature names, but LGBMRegressor was fitted with feature names\n",
      "  warnings.warn(\n"
     ]
    },
    {
     "name": "stdout",
     "output_type": "stream",
     "text": [
      "-> finished loop 275\n",
      "Loop 282: train 2019-10-10 00:00:00 -> 2023-10-09 00:00:00, forecast 2023-10-10 00:00:00\n",
      "  dat_slice shape: torch.Size([1462, 24, 10])  → flatten count = 35088\n"
     ]
    },
    {
     "name": "stderr",
     "output_type": "stream",
     "text": [
      "C:\\Users\\amaguaya\\AppData\\Local\\Packages\\PythonSoftwareFoundation.Python.3.11_qbz5n2kfra8p0\\LocalCache\\local-packages\\Python311\\site-packages\\sklearn\\utils\\validation.py:2739: UserWarning: X does not have valid feature names, but LGBMRegressor was fitted with feature names\n",
      "  warnings.warn(\n",
      "C:\\Users\\amaguaya\\AppData\\Local\\Packages\\PythonSoftwareFoundation.Python.3.11_qbz5n2kfra8p0\\LocalCache\\local-packages\\Python311\\site-packages\\sklearn\\utils\\validation.py:2739: UserWarning: X does not have valid feature names, but LGBMRegressor was fitted with feature names\n",
      "  warnings.warn(\n",
      "C:\\Users\\amaguaya\\AppData\\Local\\Packages\\PythonSoftwareFoundation.Python.3.11_qbz5n2kfra8p0\\LocalCache\\local-packages\\Python311\\site-packages\\sklearn\\utils\\validation.py:2739: UserWarning: X does not have valid feature names, but LGBMRegressor was fitted with feature names\n",
      "  warnings.warn(\n"
     ]
    },
    {
     "name": "stdout",
     "output_type": "stream",
     "text": [
      "-> finished loop 276\n",
      "Loop 283: train 2019-10-11 00:00:00 -> 2023-10-10 00:00:00, forecast 2023-10-11 00:00:00\n",
      "  dat_slice shape: torch.Size([1462, 24, 10])  → flatten count = 35088\n",
      "-> finished loop 278\n",
      "Loop 284: train 2019-10-12 00:00:00 -> 2023-10-11 00:00:00, forecast 2023-10-12 00:00:00\n",
      "  dat_slice shape: torch.Size([1462, 24, 10])  → flatten count = 35088\n",
      "-> finished loop 277\n",
      "Loop 285: train 2019-10-13 00:00:00 -> 2023-10-12 00:00:00, forecast 2023-10-13 00:00:00\n",
      "  dat_slice shape: torch.Size([1462, 24, 10])  → flatten count = 35088\n"
     ]
    },
    {
     "name": "stderr",
     "output_type": "stream",
     "text": [
      "C:\\Users\\amaguaya\\AppData\\Local\\Packages\\PythonSoftwareFoundation.Python.3.11_qbz5n2kfra8p0\\LocalCache\\local-packages\\Python311\\site-packages\\sklearn\\utils\\validation.py:2739: UserWarning: X does not have valid feature names, but LGBMRegressor was fitted with feature names\n",
      "  warnings.warn(\n"
     ]
    },
    {
     "name": "stdout",
     "output_type": "stream",
     "text": [
      "-> finished loop 279\n",
      "Loop 286: train 2019-10-14 00:00:00 -> 2023-10-13 00:00:00, forecast 2023-10-14 00:00:00\n",
      "  dat_slice shape: torch.Size([1462, 24, 10])  → flatten count = 35088\n"
     ]
    },
    {
     "name": "stderr",
     "output_type": "stream",
     "text": [
      "C:\\Users\\amaguaya\\AppData\\Local\\Packages\\PythonSoftwareFoundation.Python.3.11_qbz5n2kfra8p0\\LocalCache\\local-packages\\Python311\\site-packages\\sklearn\\utils\\validation.py:2739: UserWarning: X does not have valid feature names, but LGBMRegressor was fitted with feature names\n",
      "  warnings.warn(\n",
      "C:\\Users\\amaguaya\\AppData\\Local\\Packages\\PythonSoftwareFoundation.Python.3.11_qbz5n2kfra8p0\\LocalCache\\local-packages\\Python311\\site-packages\\sklearn\\utils\\validation.py:2739: UserWarning: X does not have valid feature names, but LGBMRegressor was fitted with feature names\n",
      "  warnings.warn(\n"
     ]
    },
    {
     "name": "stdout",
     "output_type": "stream",
     "text": [
      "-> finished loop 280\n",
      "Loop 287: train 2019-10-15 00:00:00 -> 2023-10-14 00:00:00, forecast 2023-10-15 00:00:00\n",
      "  dat_slice shape: torch.Size([1462, 24, 10])  → flatten count = 35088\n",
      "-> finished loop 281\n",
      "Loop 288: train 2019-10-16 00:00:00 -> 2023-10-15 00:00:00, forecast 2023-10-16 00:00:00\n",
      "  dat_slice shape: torch.Size([1462, 24, 10])  → flatten count = 35088\n"
     ]
    },
    {
     "name": "stderr",
     "output_type": "stream",
     "text": [
      "C:\\Users\\amaguaya\\AppData\\Local\\Packages\\PythonSoftwareFoundation.Python.3.11_qbz5n2kfra8p0\\LocalCache\\local-packages\\Python311\\site-packages\\sklearn\\utils\\validation.py:2739: UserWarning: X does not have valid feature names, but LGBMRegressor was fitted with feature names\n",
      "  warnings.warn(\n"
     ]
    },
    {
     "name": "stdout",
     "output_type": "stream",
     "text": [
      "-> finished loop 282\n",
      "Loop 289: train 2019-10-17 00:00:00 -> 2023-10-16 00:00:00, forecast 2023-10-17 00:00:00\n",
      "  dat_slice shape: torch.Size([1462, 24, 10])  → flatten count = 35088\n"
     ]
    },
    {
     "name": "stderr",
     "output_type": "stream",
     "text": [
      "C:\\Users\\amaguaya\\AppData\\Local\\Packages\\PythonSoftwareFoundation.Python.3.11_qbz5n2kfra8p0\\LocalCache\\local-packages\\Python311\\site-packages\\sklearn\\utils\\validation.py:2739: UserWarning: X does not have valid feature names, but LGBMRegressor was fitted with feature names\n",
      "  warnings.warn(\n",
      "C:\\Users\\amaguaya\\AppData\\Local\\Packages\\PythonSoftwareFoundation.Python.3.11_qbz5n2kfra8p0\\LocalCache\\local-packages\\Python311\\site-packages\\sklearn\\utils\\validation.py:2739: UserWarning: X does not have valid feature names, but LGBMRegressor was fitted with feature names\n",
      "  warnings.warn(\n",
      "C:\\Users\\amaguaya\\AppData\\Local\\Packages\\PythonSoftwareFoundation.Python.3.11_qbz5n2kfra8p0\\LocalCache\\local-packages\\Python311\\site-packages\\sklearn\\utils\\validation.py:2739: UserWarning: X does not have valid feature names, but LGBMRegressor was fitted with feature names\n",
      "  warnings.warn(\n"
     ]
    },
    {
     "name": "stdout",
     "output_type": "stream",
     "text": [
      "-> finished loop 284\n",
      "Loop 290: train 2019-10-18 00:00:00 -> 2023-10-17 00:00:00, forecast 2023-10-18 00:00:00\n",
      "  dat_slice shape: torch.Size([1462, 24, 10])  → flatten count = 35088\n",
      "-> finished loop 283\n",
      "Loop 291: train 2019-10-19 00:00:00 -> 2023-10-18 00:00:00, forecast 2023-10-19 00:00:00\n",
      "  dat_slice shape: torch.Size([1462, 24, 10])  → flatten count = 35088\n",
      "-> finished loop 285\n",
      "Loop 292: train 2019-10-20 00:00:00 -> 2023-10-19 00:00:00, forecast 2023-10-20 00:00:00\n",
      "  dat_slice shape: torch.Size([1462, 24, 10])  → flatten count = 35088\n"
     ]
    },
    {
     "name": "stderr",
     "output_type": "stream",
     "text": [
      "C:\\Users\\amaguaya\\AppData\\Local\\Packages\\PythonSoftwareFoundation.Python.3.11_qbz5n2kfra8p0\\LocalCache\\local-packages\\Python311\\site-packages\\sklearn\\utils\\validation.py:2739: UserWarning: X does not have valid feature names, but LGBMRegressor was fitted with feature names\n",
      "  warnings.warn(\n"
     ]
    },
    {
     "name": "stdout",
     "output_type": "stream",
     "text": [
      "-> finished loop 286\n",
      "Loop 293: train 2019-10-21 00:00:00 -> 2023-10-20 00:00:00, forecast 2023-10-21 00:00:00\n",
      "  dat_slice shape: torch.Size([1462, 24, 10])  → flatten count = 35088\n"
     ]
    },
    {
     "name": "stderr",
     "output_type": "stream",
     "text": [
      "C:\\Users\\amaguaya\\AppData\\Local\\Packages\\PythonSoftwareFoundation.Python.3.11_qbz5n2kfra8p0\\LocalCache\\local-packages\\Python311\\site-packages\\sklearn\\utils\\validation.py:2739: UserWarning: X does not have valid feature names, but LGBMRegressor was fitted with feature names\n",
      "  warnings.warn(\n",
      "C:\\Users\\amaguaya\\AppData\\Local\\Packages\\PythonSoftwareFoundation.Python.3.11_qbz5n2kfra8p0\\LocalCache\\local-packages\\Python311\\site-packages\\sklearn\\utils\\validation.py:2739: UserWarning: X does not have valid feature names, but LGBMRegressor was fitted with feature names\n",
      "  warnings.warn(\n"
     ]
    },
    {
     "name": "stdout",
     "output_type": "stream",
     "text": [
      "-> finished loop 287\n",
      "Loop 294: train 2019-10-22 00:00:00 -> 2023-10-21 00:00:00, forecast 2023-10-22 00:00:00\n",
      "  dat_slice shape: torch.Size([1462, 24, 10])  → flatten count = 35088\n",
      "-> finished loop 288\n",
      "Loop 295: train 2019-10-23 00:00:00 -> 2023-10-22 00:00:00, forecast 2023-10-23 00:00:00\n",
      "  dat_slice shape: torch.Size([1462, 24, 10])  → flatten count = 35088\n"
     ]
    },
    {
     "name": "stderr",
     "output_type": "stream",
     "text": [
      "C:\\Users\\amaguaya\\AppData\\Local\\Packages\\PythonSoftwareFoundation.Python.3.11_qbz5n2kfra8p0\\LocalCache\\local-packages\\Python311\\site-packages\\sklearn\\utils\\validation.py:2739: UserWarning: X does not have valid feature names, but LGBMRegressor was fitted with feature names\n",
      "  warnings.warn(\n",
      "C:\\Users\\amaguaya\\AppData\\Local\\Packages\\PythonSoftwareFoundation.Python.3.11_qbz5n2kfra8p0\\LocalCache\\local-packages\\Python311\\site-packages\\sklearn\\utils\\validation.py:2739: UserWarning: X does not have valid feature names, but LGBMRegressor was fitted with feature names\n",
      "  warnings.warn(\n",
      "C:\\Users\\amaguaya\\AppData\\Local\\Packages\\PythonSoftwareFoundation.Python.3.11_qbz5n2kfra8p0\\LocalCache\\local-packages\\Python311\\site-packages\\sklearn\\utils\\validation.py:2739: UserWarning: X does not have valid feature names, but LGBMRegressor was fitted with feature names\n",
      "  warnings.warn(\n"
     ]
    },
    {
     "name": "stdout",
     "output_type": "stream",
     "text": [
      "-> finished loop 291\n",
      "Loop 296: train 2019-10-24 00:00:00 -> 2023-10-23 00:00:00, forecast 2023-10-24 00:00:00\n",
      "  dat_slice shape: torch.Size([1462, 24, 10])  → flatten count = 35088\n",
      "-> finished loop 292\n",
      "Loop 297: train 2019-10-25 00:00:00 -> 2023-10-24 00:00:00, forecast 2023-10-25 00:00:00\n",
      "  dat_slice shape: torch.Size([1462, 24, 10])  → flatten count = 35088\n",
      "-> finished loop 289\n",
      "Loop 298: train 2019-10-26 00:00:00 -> 2023-10-25 00:00:00, forecast 2023-10-26 00:00:00\n",
      "  dat_slice shape: torch.Size([1462, 24, 10])  → flatten count = 35088\n"
     ]
    },
    {
     "name": "stderr",
     "output_type": "stream",
     "text": [
      "C:\\Users\\amaguaya\\AppData\\Local\\Packages\\PythonSoftwareFoundation.Python.3.11_qbz5n2kfra8p0\\LocalCache\\local-packages\\Python311\\site-packages\\sklearn\\utils\\validation.py:2739: UserWarning: X does not have valid feature names, but LGBMRegressor was fitted with feature names\n",
      "  warnings.warn(\n"
     ]
    },
    {
     "name": "stdout",
     "output_type": "stream",
     "text": [
      "-> finished loop 290\n",
      "Loop 299: train 2019-10-27 00:00:00 -> 2023-10-26 00:00:00, forecast 2023-10-27 00:00:00\n",
      "  dat_slice shape: torch.Size([1462, 24, 10])  → flatten count = 35088\n"
     ]
    },
    {
     "name": "stderr",
     "output_type": "stream",
     "text": [
      "C:\\Users\\amaguaya\\AppData\\Local\\Packages\\PythonSoftwareFoundation.Python.3.11_qbz5n2kfra8p0\\LocalCache\\local-packages\\Python311\\site-packages\\sklearn\\utils\\validation.py:2739: UserWarning: X does not have valid feature names, but LGBMRegressor was fitted with feature names\n",
      "  warnings.warn(\n"
     ]
    },
    {
     "name": "stdout",
     "output_type": "stream",
     "text": [
      "-> finished loop 293\n",
      "Loop 300: train 2019-10-28 00:00:00 -> 2023-10-27 00:00:00, forecast 2023-10-28 00:00:00\n",
      "  dat_slice shape: torch.Size([1462, 24, 10])  → flatten count = 35088\n"
     ]
    },
    {
     "name": "stderr",
     "output_type": "stream",
     "text": [
      "C:\\Users\\amaguaya\\AppData\\Local\\Packages\\PythonSoftwareFoundation.Python.3.11_qbz5n2kfra8p0\\LocalCache\\local-packages\\Python311\\site-packages\\sklearn\\utils\\validation.py:2739: UserWarning: X does not have valid feature names, but LGBMRegressor was fitted with feature names\n",
      "  warnings.warn(\n",
      "C:\\Users\\amaguaya\\AppData\\Local\\Packages\\PythonSoftwareFoundation.Python.3.11_qbz5n2kfra8p0\\LocalCache\\local-packages\\Python311\\site-packages\\sklearn\\utils\\validation.py:2739: UserWarning: X does not have valid feature names, but LGBMRegressor was fitted with feature names\n",
      "  warnings.warn(\n"
     ]
    },
    {
     "name": "stdout",
     "output_type": "stream",
     "text": [
      "-> finished loop 295\n",
      "Loop 301: train 2019-10-29 00:00:00 -> 2023-10-28 00:00:00, forecast 2023-10-29 00:00:00\n",
      "  dat_slice shape: torch.Size([1462, 24, 10])  → flatten count = 35088\n",
      "-> finished loop 294\n",
      "Loop 302: train 2019-10-30 00:00:00 -> 2023-10-29 00:00:00, forecast 2023-10-30 00:00:00\n",
      "  dat_slice shape: torch.Size([1462, 24, 10])  → flatten count = 35088\n"
     ]
    },
    {
     "name": "stderr",
     "output_type": "stream",
     "text": [
      "C:\\Users\\amaguaya\\AppData\\Local\\Packages\\PythonSoftwareFoundation.Python.3.11_qbz5n2kfra8p0\\LocalCache\\local-packages\\Python311\\site-packages\\sklearn\\utils\\validation.py:2739: UserWarning: X does not have valid feature names, but LGBMRegressor was fitted with feature names\n",
      "  warnings.warn(\n",
      "C:\\Users\\amaguaya\\AppData\\Local\\Packages\\PythonSoftwareFoundation.Python.3.11_qbz5n2kfra8p0\\LocalCache\\local-packages\\Python311\\site-packages\\sklearn\\utils\\validation.py:2739: UserWarning: X does not have valid feature names, but LGBMRegressor was fitted with feature names\n",
      "  warnings.warn(\n"
     ]
    },
    {
     "name": "stdout",
     "output_type": "stream",
     "text": [
      "-> finished loop 296\n",
      "Loop 303: train 2019-10-31 00:00:00 -> 2023-10-30 00:00:00, forecast 2023-10-31 00:00:00\n",
      "  dat_slice shape: torch.Size([1462, 24, 10])  → flatten count = 35088\n",
      "-> finished loop 298\n",
      "Loop 304: train 2019-11-01 00:00:00 -> 2023-10-31 00:00:00, forecast 2023-11-01 00:00:00\n",
      "  dat_slice shape: torch.Size([1462, 24, 10])  → flatten count = 35088\n"
     ]
    },
    {
     "name": "stderr",
     "output_type": "stream",
     "text": [
      "C:\\Users\\amaguaya\\AppData\\Local\\Packages\\PythonSoftwareFoundation.Python.3.11_qbz5n2kfra8p0\\LocalCache\\local-packages\\Python311\\site-packages\\sklearn\\utils\\validation.py:2739: UserWarning: X does not have valid feature names, but LGBMRegressor was fitted with feature names\n",
      "  warnings.warn(\n",
      "C:\\Users\\amaguaya\\AppData\\Local\\Packages\\PythonSoftwareFoundation.Python.3.11_qbz5n2kfra8p0\\LocalCache\\local-packages\\Python311\\site-packages\\sklearn\\utils\\validation.py:2739: UserWarning: X does not have valid feature names, but LGBMRegressor was fitted with feature names\n",
      "  warnings.warn(\n"
     ]
    },
    {
     "name": "stdout",
     "output_type": "stream",
     "text": [
      "-> finished loop 299\n",
      "Loop 305: train 2019-11-02 00:00:00 -> 2023-11-01 00:00:00, forecast 2023-11-02 00:00:00\n",
      "  dat_slice shape: torch.Size([1462, 24, 10])  → flatten count = 35088\n",
      "-> finished loop 297\n",
      "Loop 306: train 2019-11-03 00:00:00 -> 2023-11-02 00:00:00, forecast 2023-11-03 00:00:00\n",
      "  dat_slice shape: torch.Size([1462, 24, 10])  → flatten count = 35088\n"
     ]
    },
    {
     "name": "stderr",
     "output_type": "stream",
     "text": [
      "C:\\Users\\amaguaya\\AppData\\Local\\Packages\\PythonSoftwareFoundation.Python.3.11_qbz5n2kfra8p0\\LocalCache\\local-packages\\Python311\\site-packages\\sklearn\\utils\\validation.py:2739: UserWarning: X does not have valid feature names, but LGBMRegressor was fitted with feature names\n",
      "  warnings.warn(\n",
      "C:\\Users\\amaguaya\\AppData\\Local\\Packages\\PythonSoftwareFoundation.Python.3.11_qbz5n2kfra8p0\\LocalCache\\local-packages\\Python311\\site-packages\\sklearn\\utils\\validation.py:2739: UserWarning: X does not have valid feature names, but LGBMRegressor was fitted with feature names\n",
      "  warnings.warn(\n",
      "C:\\Users\\amaguaya\\AppData\\Local\\Packages\\PythonSoftwareFoundation.Python.3.11_qbz5n2kfra8p0\\LocalCache\\local-packages\\Python311\\site-packages\\sklearn\\utils\\validation.py:2739: UserWarning: X does not have valid feature names, but LGBMRegressor was fitted with feature names\n",
      "  warnings.warn(\n",
      "C:\\Users\\amaguaya\\AppData\\Local\\Packages\\PythonSoftwareFoundation.Python.3.11_qbz5n2kfra8p0\\LocalCache\\local-packages\\Python311\\site-packages\\sklearn\\utils\\validation.py:2739: UserWarning: X does not have valid feature names, but LGBMRegressor was fitted with feature names\n",
      "  warnings.warn(\n",
      "C:\\Users\\amaguaya\\AppData\\Local\\Packages\\PythonSoftwareFoundation.Python.3.11_qbz5n2kfra8p0\\LocalCache\\local-packages\\Python311\\site-packages\\sklearn\\utils\\validation.py:2739: UserWarning: X does not have valid feature names, but LGBMRegressor was fitted with feature names\n",
      "  warnings.warn(\n",
      "C:\\Users\\amaguaya\\AppData\\Local\\Packages\\PythonSoftwareFoundation.Python.3.11_qbz5n2kfra8p0\\LocalCache\\local-packages\\Python311\\site-packages\\sklearn\\utils\\validation.py:2739: UserWarning: X does not have valid feature names, but LGBMRegressor was fitted with feature names\n",
      "  warnings.warn(\n",
      "C:\\Users\\amaguaya\\AppData\\Local\\Packages\\PythonSoftwareFoundation.Python.3.11_qbz5n2kfra8p0\\LocalCache\\local-packages\\Python311\\site-packages\\sklearn\\utils\\validation.py:2739: UserWarning: X does not have valid feature names, but LGBMRegressor was fitted with feature names\n",
      "  warnings.warn(\n"
     ]
    },
    {
     "name": "stdout",
     "output_type": "stream",
     "text": [
      "-> finished loop 304\n",
      "Loop 307: train 2019-11-04 00:00:00 -> 2023-11-03 00:00:00, forecast 2023-11-04 00:00:00\n",
      "  dat_slice shape: torch.Size([1462, 24, 10])  → flatten count = 35088\n",
      "-> finished loop 306\n",
      "Loop 308: train 2019-11-05 00:00:00 -> 2023-11-04 00:00:00, forecast 2023-11-05 00:00:00\n",
      "  dat_slice shape: torch.Size([1462, 24, 10])  → flatten count = 35088\n",
      "-> finished loop 303\n",
      "Loop 309: train 2019-11-06 00:00:00 -> 2023-11-05 00:00:00, forecast 2023-11-06 00:00:00\n",
      "  dat_slice shape: torch.Size([1462, 24, 10])  → flatten count = 35088\n",
      "-> finished loop 305\n",
      "Loop 310: train 2019-11-07 00:00:00 -> 2023-11-06 00:00:00, forecast 2023-11-07 00:00:00\n",
      "  dat_slice shape: torch.Size([1462, 24, 10])  → flatten count = 35088\n",
      "-> finished loop 300\n",
      "-> finished loop 301\n",
      "Loop 311: train 2019-11-08 00:00:00 -> 2023-11-07 00:00:00, forecast 2023-11-08 00:00:00\n",
      "  dat_slice shape: torch.Size([1462, 24, 10])  → flatten count = 35088\n",
      "Loop 312: train 2019-11-09 00:00:00 -> 2023-11-08 00:00:00, forecast 2023-11-09 00:00:00\n",
      "  dat_slice shape: torch.Size([1462, 24, 10])  → flatten count = 35088\n",
      "-> finished loop 302\n",
      "Loop 313: train 2019-11-10 00:00:00 -> 2023-11-09 00:00:00, forecast 2023-11-10 00:00:00\n",
      "  dat_slice shape: torch.Size([1462, 24, 10])  → flatten count = 35088\n"
     ]
    },
    {
     "name": "stderr",
     "output_type": "stream",
     "text": [
      "C:\\Users\\amaguaya\\AppData\\Local\\Packages\\PythonSoftwareFoundation.Python.3.11_qbz5n2kfra8p0\\LocalCache\\local-packages\\Python311\\site-packages\\sklearn\\utils\\validation.py:2739: UserWarning: X does not have valid feature names, but LGBMRegressor was fitted with feature names\n",
      "  warnings.warn(\n",
      "C:\\Users\\amaguaya\\AppData\\Local\\Packages\\PythonSoftwareFoundation.Python.3.11_qbz5n2kfra8p0\\LocalCache\\local-packages\\Python311\\site-packages\\sklearn\\utils\\validation.py:2739: UserWarning: X does not have valid feature names, but LGBMRegressor was fitted with feature names\n",
      "  warnings.warn(\n",
      "C:\\Users\\amaguaya\\AppData\\Local\\Packages\\PythonSoftwareFoundation.Python.3.11_qbz5n2kfra8p0\\LocalCache\\local-packages\\Python311\\site-packages\\sklearn\\utils\\validation.py:2739: UserWarning: X does not have valid feature names, but LGBMRegressor was fitted with feature names\n",
      "  warnings.warn(\n",
      "C:\\Users\\amaguaya\\AppData\\Local\\Packages\\PythonSoftwareFoundation.Python.3.11_qbz5n2kfra8p0\\LocalCache\\local-packages\\Python311\\site-packages\\sklearn\\utils\\validation.py:2739: UserWarning: X does not have valid feature names, but LGBMRegressor was fitted with feature names\n",
      "  warnings.warn(\n",
      "C:\\Users\\amaguaya\\AppData\\Local\\Packages\\PythonSoftwareFoundation.Python.3.11_qbz5n2kfra8p0\\LocalCache\\local-packages\\Python311\\site-packages\\sklearn\\utils\\validation.py:2739: UserWarning: X does not have valid feature names, but LGBMRegressor was fitted with feature names\n",
      "  warnings.warn(\n",
      "C:\\Users\\amaguaya\\AppData\\Local\\Packages\\PythonSoftwareFoundation.Python.3.11_qbz5n2kfra8p0\\LocalCache\\local-packages\\Python311\\site-packages\\sklearn\\utils\\validation.py:2739: UserWarning: X does not have valid feature names, but LGBMRegressor was fitted with feature names\n",
      "  warnings.warn(\n",
      "C:\\Users\\amaguaya\\AppData\\Local\\Packages\\PythonSoftwareFoundation.Python.3.11_qbz5n2kfra8p0\\LocalCache\\local-packages\\Python311\\site-packages\\sklearn\\utils\\validation.py:2739: UserWarning: X does not have valid feature names, but LGBMRegressor was fitted with feature names\n",
      "  warnings.warn(\n"
     ]
    },
    {
     "name": "stdout",
     "output_type": "stream",
     "text": [
      "-> finished loop 308\n",
      "Loop 314: train 2019-11-11 00:00:00 -> 2023-11-10 00:00:00, forecast 2023-11-11 00:00:00\n",
      "  dat_slice shape: torch.Size([1462, 24, 10])  → flatten count = 35088\n",
      "-> finished loop 310\n",
      "-> finished loop 309\n",
      "Loop 315: train 2019-11-12 00:00:00 -> 2023-11-11 00:00:00, forecast 2023-11-12 00:00:00\n",
      "  dat_slice shape: torch.Size([1462, 24, 10])  → flatten count = 35088\n",
      "Loop 316: train 2019-11-13 00:00:00 -> 2023-11-12 00:00:00, forecast 2023-11-13 00:00:00\n",
      "  dat_slice shape: torch.Size([1462, 24, 10])  → flatten count = 35088\n",
      "-> finished loop 311\n",
      "-> finished loop 313\n",
      "Loop 317: train 2019-11-14 00:00:00 -> 2023-11-13 00:00:00, forecast 2023-11-14 00:00:00\n",
      "  dat_slice shape: torch.Size([1462, 24, 10])  → flatten count = 35088\n",
      "Loop 318: train 2019-11-15 00:00:00 -> 2023-11-14 00:00:00, forecast 2023-11-15 00:00:00\n",
      "  dat_slice shape: torch.Size([1462, 24, 10])  → flatten count = 35088\n",
      "-> finished loop 312\n",
      "Loop 319: train 2019-11-16 00:00:00 -> 2023-11-15 00:00:00, forecast 2023-11-16 00:00:00\n",
      "  dat_slice shape: torch.Size([1462, 24, 10])  → flatten count = 35088\n",
      "-> finished loop 307\n",
      "Loop 320: train 2019-11-17 00:00:00 -> 2023-11-16 00:00:00, forecast 2023-11-17 00:00:00\n",
      "  dat_slice shape: torch.Size([1462, 24, 10])  → flatten count = 35088\n"
     ]
    },
    {
     "name": "stderr",
     "output_type": "stream",
     "text": [
      "C:\\Users\\amaguaya\\AppData\\Local\\Packages\\PythonSoftwareFoundation.Python.3.11_qbz5n2kfra8p0\\LocalCache\\local-packages\\Python311\\site-packages\\sklearn\\utils\\validation.py:2739: UserWarning: X does not have valid feature names, but LGBMRegressor was fitted with feature names\n",
      "  warnings.warn(\n",
      "C:\\Users\\amaguaya\\AppData\\Local\\Packages\\PythonSoftwareFoundation.Python.3.11_qbz5n2kfra8p0\\LocalCache\\local-packages\\Python311\\site-packages\\sklearn\\utils\\validation.py:2739: UserWarning: X does not have valid feature names, but LGBMRegressor was fitted with feature names\n",
      "  warnings.warn(\n",
      "C:\\Users\\amaguaya\\AppData\\Local\\Packages\\PythonSoftwareFoundation.Python.3.11_qbz5n2kfra8p0\\LocalCache\\local-packages\\Python311\\site-packages\\sklearn\\utils\\validation.py:2739: UserWarning: X does not have valid feature names, but LGBMRegressor was fitted with feature names\n",
      "  warnings.warn(\n",
      "C:\\Users\\amaguaya\\AppData\\Local\\Packages\\PythonSoftwareFoundation.Python.3.11_qbz5n2kfra8p0\\LocalCache\\local-packages\\Python311\\site-packages\\sklearn\\utils\\validation.py:2739: UserWarning: X does not have valid feature names, but LGBMRegressor was fitted with feature names\n",
      "  warnings.warn(\n"
     ]
    },
    {
     "name": "stdout",
     "output_type": "stream",
     "text": [
      "-> finished loop 314\n",
      "Loop 321: train 2019-11-18 00:00:00 -> 2023-11-17 00:00:00, forecast 2023-11-18 00:00:00\n",
      "  dat_slice shape: torch.Size([1462, 24, 10])  → flatten count = 35088\n",
      "-> finished loop 315\n",
      "Loop 322: train 2019-11-19 00:00:00 -> 2023-11-18 00:00:00, forecast 2023-11-19 00:00:00\n",
      "  dat_slice shape: torch.Size([1462, 24, 10])  → flatten count = 35088\n",
      "-> finished loop 316\n",
      "Loop 323: train 2019-11-20 00:00:00 -> 2023-11-19 00:00:00, forecast 2023-11-20 00:00:00\n",
      "  dat_slice shape: torch.Size([1462, 24, 10])  → flatten count = 35088\n",
      "-> finished loop 320\n",
      "Loop 324: train 2019-11-21 00:00:00 -> 2023-11-20 00:00:00, forecast 2023-11-21 00:00:00\n",
      "  dat_slice shape: torch.Size([1462, 24, 10])  → flatten count = 35088\n"
     ]
    },
    {
     "name": "stderr",
     "output_type": "stream",
     "text": [
      "C:\\Users\\amaguaya\\AppData\\Local\\Packages\\PythonSoftwareFoundation.Python.3.11_qbz5n2kfra8p0\\LocalCache\\local-packages\\Python311\\site-packages\\sklearn\\utils\\validation.py:2739: UserWarning: X does not have valid feature names, but LGBMRegressor was fitted with feature names\n",
      "  warnings.warn(\n",
      "C:\\Users\\amaguaya\\AppData\\Local\\Packages\\PythonSoftwareFoundation.Python.3.11_qbz5n2kfra8p0\\LocalCache\\local-packages\\Python311\\site-packages\\sklearn\\utils\\validation.py:2739: UserWarning: X does not have valid feature names, but LGBMRegressor was fitted with feature names\n",
      "  warnings.warn(\n",
      "C:\\Users\\amaguaya\\AppData\\Local\\Packages\\PythonSoftwareFoundation.Python.3.11_qbz5n2kfra8p0\\LocalCache\\local-packages\\Python311\\site-packages\\sklearn\\utils\\validation.py:2739: UserWarning: X does not have valid feature names, but LGBMRegressor was fitted with feature names\n",
      "  warnings.warn(\n"
     ]
    },
    {
     "name": "stdout",
     "output_type": "stream",
     "text": [
      "-> finished loop 319\n",
      "Loop 325: train 2019-11-22 00:00:00 -> 2023-11-21 00:00:00, forecast 2023-11-22 00:00:00\n",
      "  dat_slice shape: torch.Size([1462, 24, 10])  → flatten count = 35088\n",
      "-> finished loop 317\n",
      "Loop 326: train 2019-11-23 00:00:00 -> 2023-11-22 00:00:00, forecast 2023-11-23 00:00:00\n",
      "  dat_slice shape: torch.Size([1462, 24, 10])  → flatten count = 35088\n",
      "-> finished loop 318\n",
      "Loop 327: train 2019-11-24 00:00:00 -> 2023-11-23 00:00:00, forecast 2023-11-24 00:00:00\n",
      "  dat_slice shape: torch.Size([1462, 24, 10])  → flatten count = 35088\n"
     ]
    },
    {
     "name": "stderr",
     "output_type": "stream",
     "text": [
      "C:\\Users\\amaguaya\\AppData\\Local\\Packages\\PythonSoftwareFoundation.Python.3.11_qbz5n2kfra8p0\\LocalCache\\local-packages\\Python311\\site-packages\\sklearn\\utils\\validation.py:2739: UserWarning: X does not have valid feature names, but LGBMRegressor was fitted with feature names\n",
      "  warnings.warn(\n",
      "C:\\Users\\amaguaya\\AppData\\Local\\Packages\\PythonSoftwareFoundation.Python.3.11_qbz5n2kfra8p0\\LocalCache\\local-packages\\Python311\\site-packages\\sklearn\\utils\\validation.py:2739: UserWarning: X does not have valid feature names, but LGBMRegressor was fitted with feature names\n",
      "  warnings.warn(\n",
      "C:\\Users\\amaguaya\\AppData\\Local\\Packages\\PythonSoftwareFoundation.Python.3.11_qbz5n2kfra8p0\\LocalCache\\local-packages\\Python311\\site-packages\\sklearn\\utils\\validation.py:2739: UserWarning: X does not have valid feature names, but LGBMRegressor was fitted with feature names\n",
      "  warnings.warn(\n"
     ]
    },
    {
     "name": "stdout",
     "output_type": "stream",
     "text": [
      "-> finished loop 321-> finished loop 324\n",
      "Loop 328: train 2019-11-25 00:00:00 -> 2023-11-24 00:00:00, forecast 2023-11-25 00:00:00\n",
      "  dat_slice shape: torch.Size([1462, 24, 10])  → flatten count = 35088\n",
      "\n",
      "Loop 329: train 2019-11-26 00:00:00 -> 2023-11-25 00:00:00, forecast 2023-11-26 00:00:00\n",
      "  dat_slice shape: torch.Size([1462, 24, 10])  → flatten count = 35088\n",
      "-> finished loop 322\n",
      "Loop 330: train 2019-11-27 00:00:00 -> 2023-11-26 00:00:00, forecast 2023-11-27 00:00:00\n",
      "  dat_slice shape: torch.Size([1462, 24, 10])  → flatten count = 35088\n",
      "-> finished loop 323\n",
      "Loop 331: train 2019-11-28 00:00:00 -> 2023-11-27 00:00:00, forecast 2023-11-28 00:00:00\n",
      "  dat_slice shape: torch.Size([1462, 24, 10])  → flatten count = 35088\n"
     ]
    },
    {
     "name": "stderr",
     "output_type": "stream",
     "text": [
      "C:\\Users\\amaguaya\\AppData\\Local\\Packages\\PythonSoftwareFoundation.Python.3.11_qbz5n2kfra8p0\\LocalCache\\local-packages\\Python311\\site-packages\\sklearn\\utils\\validation.py:2739: UserWarning: X does not have valid feature names, but LGBMRegressor was fitted with feature names\n",
      "  warnings.warn(\n",
      "C:\\Users\\amaguaya\\AppData\\Local\\Packages\\PythonSoftwareFoundation.Python.3.11_qbz5n2kfra8p0\\LocalCache\\local-packages\\Python311\\site-packages\\sklearn\\utils\\validation.py:2739: UserWarning: X does not have valid feature names, but LGBMRegressor was fitted with feature names\n",
      "  warnings.warn(\n",
      "C:\\Users\\amaguaya\\AppData\\Local\\Packages\\PythonSoftwareFoundation.Python.3.11_qbz5n2kfra8p0\\LocalCache\\local-packages\\Python311\\site-packages\\sklearn\\utils\\validation.py:2739: UserWarning: X does not have valid feature names, but LGBMRegressor was fitted with feature names\n",
      "  warnings.warn(\n"
     ]
    },
    {
     "name": "stdout",
     "output_type": "stream",
     "text": [
      "-> finished loop 325\n",
      "Loop 332: train 2019-11-29 00:00:00 -> 2023-11-28 00:00:00, forecast 2023-11-29 00:00:00\n",
      "  dat_slice shape: torch.Size([1462, 24, 10])  → flatten count = 35088\n",
      "-> finished loop 326\n",
      "Loop 333: train 2019-11-30 00:00:00 -> 2023-11-29 00:00:00, forecast 2023-11-30 00:00:00\n",
      "  dat_slice shape: torch.Size([1462, 24, 10])  → flatten count = 35088\n",
      "-> finished loop 327\n",
      "Loop 334: train 2019-12-01 00:00:00 -> 2023-11-30 00:00:00, forecast 2023-12-01 00:00:00\n",
      "  dat_slice shape: torch.Size([1462, 24, 10])  → flatten count = 35088\n"
     ]
    },
    {
     "name": "stderr",
     "output_type": "stream",
     "text": [
      "C:\\Users\\amaguaya\\AppData\\Local\\Packages\\PythonSoftwareFoundation.Python.3.11_qbz5n2kfra8p0\\LocalCache\\local-packages\\Python311\\site-packages\\sklearn\\utils\\validation.py:2739: UserWarning: X does not have valid feature names, but LGBMRegressor was fitted with feature names\n",
      "  warnings.warn(\n",
      "C:\\Users\\amaguaya\\AppData\\Local\\Packages\\PythonSoftwareFoundation.Python.3.11_qbz5n2kfra8p0\\LocalCache\\local-packages\\Python311\\site-packages\\sklearn\\utils\\validation.py:2739: UserWarning: X does not have valid feature names, but LGBMRegressor was fitted with feature names\n",
      "  warnings.warn(\n",
      "C:\\Users\\amaguaya\\AppData\\Local\\Packages\\PythonSoftwareFoundation.Python.3.11_qbz5n2kfra8p0\\LocalCache\\local-packages\\Python311\\site-packages\\sklearn\\utils\\validation.py:2739: UserWarning: X does not have valid feature names, but LGBMRegressor was fitted with feature names\n",
      "  warnings.warn(\n",
      "C:\\Users\\amaguaya\\AppData\\Local\\Packages\\PythonSoftwareFoundation.Python.3.11_qbz5n2kfra8p0\\LocalCache\\local-packages\\Python311\\site-packages\\sklearn\\utils\\validation.py:2739: UserWarning: X does not have valid feature names, but LGBMRegressor was fitted with feature names\n",
      "  warnings.warn(\n"
     ]
    },
    {
     "name": "stdout",
     "output_type": "stream",
     "text": [
      "-> finished loop 330\n",
      "Loop 335: train 2019-12-02 00:00:00 -> 2023-12-01 00:00:00, forecast 2023-12-02 00:00:00\n",
      "  dat_slice shape: torch.Size([1462, 24, 10])  → flatten count = 35088\n",
      "-> finished loop 328\n",
      "Loop 336: train 2019-12-03 00:00:00 -> 2023-12-02 00:00:00, forecast 2023-12-03 00:00:00\n",
      "  dat_slice shape: torch.Size([1462, 24, 10])  → flatten count = 35088\n",
      "-> finished loop 329\n",
      "Loop 337: train 2019-12-04 00:00:00 -> 2023-12-03 00:00:00, forecast 2023-12-04 00:00:00\n",
      "  dat_slice shape: torch.Size([1462, 24, 10])  → flatten count = 35088\n",
      "-> finished loop 331\n",
      "Loop 338: train 2019-12-05 00:00:00 -> 2023-12-04 00:00:00, forecast 2023-12-05 00:00:00\n",
      "  dat_slice shape: torch.Size([1462, 24, 10])  → flatten count = 35088\n"
     ]
    },
    {
     "name": "stderr",
     "output_type": "stream",
     "text": [
      "C:\\Users\\amaguaya\\AppData\\Local\\Packages\\PythonSoftwareFoundation.Python.3.11_qbz5n2kfra8p0\\LocalCache\\local-packages\\Python311\\site-packages\\sklearn\\utils\\validation.py:2739: UserWarning: X does not have valid feature names, but LGBMRegressor was fitted with feature names\n",
      "  warnings.warn(\n",
      "C:\\Users\\amaguaya\\AppData\\Local\\Packages\\PythonSoftwareFoundation.Python.3.11_qbz5n2kfra8p0\\LocalCache\\local-packages\\Python311\\site-packages\\sklearn\\utils\\validation.py:2739: UserWarning: X does not have valid feature names, but LGBMRegressor was fitted with feature names\n",
      "  warnings.warn(\n",
      "C:\\Users\\amaguaya\\AppData\\Local\\Packages\\PythonSoftwareFoundation.Python.3.11_qbz5n2kfra8p0\\LocalCache\\local-packages\\Python311\\site-packages\\sklearn\\utils\\validation.py:2739: UserWarning: X does not have valid feature names, but LGBMRegressor was fitted with feature names\n",
      "  warnings.warn(\n"
     ]
    },
    {
     "name": "stdout",
     "output_type": "stream",
     "text": [
      "-> finished loop 332\n",
      "Loop 339: train 2019-12-06 00:00:00 -> 2023-12-05 00:00:00, forecast 2023-12-06 00:00:00\n",
      "  dat_slice shape: torch.Size([1462, 24, 10])  → flatten count = 35088\n",
      "-> finished loop 333\n",
      "Loop 340: train 2019-12-07 00:00:00 -> 2023-12-06 00:00:00, forecast 2023-12-07 00:00:00\n",
      "  dat_slice shape: torch.Size([1462, 24, 10])  → flatten count = 35088\n",
      "-> finished loop 334\n",
      "Loop 341: train 2019-12-08 00:00:00 -> 2023-12-07 00:00:00, forecast 2023-12-08 00:00:00\n",
      "  dat_slice shape: torch.Size([1462, 24, 10])  → flatten count = 35088\n"
     ]
    },
    {
     "name": "stderr",
     "output_type": "stream",
     "text": [
      "C:\\Users\\amaguaya\\AppData\\Local\\Packages\\PythonSoftwareFoundation.Python.3.11_qbz5n2kfra8p0\\LocalCache\\local-packages\\Python311\\site-packages\\sklearn\\utils\\validation.py:2739: UserWarning: X does not have valid feature names, but LGBMRegressor was fitted with feature names\n",
      "  warnings.warn(\n",
      "C:\\Users\\amaguaya\\AppData\\Local\\Packages\\PythonSoftwareFoundation.Python.3.11_qbz5n2kfra8p0\\LocalCache\\local-packages\\Python311\\site-packages\\sklearn\\utils\\validation.py:2739: UserWarning: X does not have valid feature names, but LGBMRegressor was fitted with feature names\n",
      "  warnings.warn(\n",
      "C:\\Users\\amaguaya\\AppData\\Local\\Packages\\PythonSoftwareFoundation.Python.3.11_qbz5n2kfra8p0\\LocalCache\\local-packages\\Python311\\site-packages\\sklearn\\utils\\validation.py:2739: UserWarning: X does not have valid feature names, but LGBMRegressor was fitted with feature names\n",
      "  warnings.warn(\n"
     ]
    },
    {
     "name": "stdout",
     "output_type": "stream",
     "text": [
      "-> finished loop 337\n",
      "Loop 342: train 2019-12-09 00:00:00 -> 2023-12-08 00:00:00, forecast 2023-12-09 00:00:00\n",
      "  dat_slice shape: torch.Size([1462, 24, 10])  → flatten count = 35088\n",
      "-> finished loop 335\n",
      "Loop 343: train 2019-12-10 00:00:00 -> 2023-12-09 00:00:00, forecast 2023-12-10 00:00:00\n",
      "  dat_slice shape: torch.Size([1462, 24, 10])  → flatten count = 35088\n",
      "-> finished loop 338\n",
      "Loop 344: train 2019-12-11 00:00:00 -> 2023-12-10 00:00:00, forecast 2023-12-11 00:00:00\n",
      "  dat_slice shape: torch.Size([1462, 24, 10])  → flatten count = 35088\n"
     ]
    },
    {
     "name": "stderr",
     "output_type": "stream",
     "text": [
      "C:\\Users\\amaguaya\\AppData\\Local\\Packages\\PythonSoftwareFoundation.Python.3.11_qbz5n2kfra8p0\\LocalCache\\local-packages\\Python311\\site-packages\\sklearn\\utils\\validation.py:2739: UserWarning: X does not have valid feature names, but LGBMRegressor was fitted with feature names\n",
      "  warnings.warn(\n"
     ]
    },
    {
     "name": "stdout",
     "output_type": "stream",
     "text": [
      "-> finished loop 336\n",
      "Loop 345: train 2019-12-12 00:00:00 -> 2023-12-11 00:00:00, forecast 2023-12-12 00:00:00\n",
      "  dat_slice shape: torch.Size([1462, 24, 10])  → flatten count = 35088\n"
     ]
    },
    {
     "name": "stderr",
     "output_type": "stream",
     "text": [
      "C:\\Users\\amaguaya\\AppData\\Local\\Packages\\PythonSoftwareFoundation.Python.3.11_qbz5n2kfra8p0\\LocalCache\\local-packages\\Python311\\site-packages\\sklearn\\utils\\validation.py:2739: UserWarning: X does not have valid feature names, but LGBMRegressor was fitted with feature names\n",
      "  warnings.warn(\n",
      "C:\\Users\\amaguaya\\AppData\\Local\\Packages\\PythonSoftwareFoundation.Python.3.11_qbz5n2kfra8p0\\LocalCache\\local-packages\\Python311\\site-packages\\sklearn\\utils\\validation.py:2739: UserWarning: X does not have valid feature names, but LGBMRegressor was fitted with feature names\n",
      "  warnings.warn(\n"
     ]
    },
    {
     "name": "stdout",
     "output_type": "stream",
     "text": [
      "-> finished loop 340\n",
      "Loop 346: train 2019-12-13 00:00:00 -> 2023-12-12 00:00:00, forecast 2023-12-13 00:00:00\n",
      "  dat_slice shape: torch.Size([1462, 24, 10])  → flatten count = 35088\n",
      "-> finished loop 339\n",
      "Loop 347: train 2019-12-14 00:00:00 -> 2023-12-13 00:00:00, forecast 2023-12-14 00:00:00\n",
      "  dat_slice shape: torch.Size([1462, 24, 10])  → flatten count = 35088\n"
     ]
    },
    {
     "name": "stderr",
     "output_type": "stream",
     "text": [
      "C:\\Users\\amaguaya\\AppData\\Local\\Packages\\PythonSoftwareFoundation.Python.3.11_qbz5n2kfra8p0\\LocalCache\\local-packages\\Python311\\site-packages\\sklearn\\utils\\validation.py:2739: UserWarning: X does not have valid feature names, but LGBMRegressor was fitted with feature names\n",
      "  warnings.warn(\n"
     ]
    },
    {
     "name": "stdout",
     "output_type": "stream",
     "text": [
      "-> finished loop 341\n",
      "Loop 348: train 2019-12-15 00:00:00 -> 2023-12-14 00:00:00, forecast 2023-12-15 00:00:00\n",
      "  dat_slice shape: torch.Size([1462, 24, 10])  → flatten count = 35088\n"
     ]
    },
    {
     "name": "stderr",
     "output_type": "stream",
     "text": [
      "C:\\Users\\amaguaya\\AppData\\Local\\Packages\\PythonSoftwareFoundation.Python.3.11_qbz5n2kfra8p0\\LocalCache\\local-packages\\Python311\\site-packages\\sklearn\\utils\\validation.py:2739: UserWarning: X does not have valid feature names, but LGBMRegressor was fitted with feature names\n",
      "  warnings.warn(\n",
      "C:\\Users\\amaguaya\\AppData\\Local\\Packages\\PythonSoftwareFoundation.Python.3.11_qbz5n2kfra8p0\\LocalCache\\local-packages\\Python311\\site-packages\\sklearn\\utils\\validation.py:2739: UserWarning: X does not have valid feature names, but LGBMRegressor was fitted with feature names\n",
      "  warnings.warn(\n",
      "C:\\Users\\amaguaya\\AppData\\Local\\Packages\\PythonSoftwareFoundation.Python.3.11_qbz5n2kfra8p0\\LocalCache\\local-packages\\Python311\\site-packages\\sklearn\\utils\\validation.py:2739: UserWarning: X does not have valid feature names, but LGBMRegressor was fitted with feature names\n",
      "  warnings.warn(\n"
     ]
    },
    {
     "name": "stdout",
     "output_type": "stream",
     "text": [
      "-> finished loop 343\n",
      "Loop 349: train 2019-12-16 00:00:00 -> 2023-12-15 00:00:00, forecast 2023-12-16 00:00:00\n",
      "  dat_slice shape: torch.Size([1462, 24, 10])  → flatten count = 35088\n",
      "-> finished loop 342\n",
      "Loop 350: train 2019-12-17 00:00:00 -> 2023-12-16 00:00:00, forecast 2023-12-17 00:00:00\n",
      "  dat_slice shape: torch.Size([1462, 24, 10])  → flatten count = 35088\n",
      "-> finished loop 344\n",
      "Loop 351: train 2019-12-18 00:00:00 -> 2023-12-17 00:00:00, forecast 2023-12-18 00:00:00\n",
      "  dat_slice shape: torch.Size([1462, 24, 10])  → flatten count = 35088\n"
     ]
    },
    {
     "name": "stderr",
     "output_type": "stream",
     "text": [
      "C:\\Users\\amaguaya\\AppData\\Local\\Packages\\PythonSoftwareFoundation.Python.3.11_qbz5n2kfra8p0\\LocalCache\\local-packages\\Python311\\site-packages\\sklearn\\utils\\validation.py:2739: UserWarning: X does not have valid feature names, but LGBMRegressor was fitted with feature names\n",
      "  warnings.warn(\n"
     ]
    },
    {
     "name": "stdout",
     "output_type": "stream",
     "text": [
      "-> finished loop 345\n",
      "Loop 352: train 2019-12-19 00:00:00 -> 2023-12-18 00:00:00, forecast 2023-12-19 00:00:00\n",
      "  dat_slice shape: torch.Size([1462, 24, 10])  → flatten count = 35088\n"
     ]
    },
    {
     "name": "stderr",
     "output_type": "stream",
     "text": [
      "C:\\Users\\amaguaya\\AppData\\Local\\Packages\\PythonSoftwareFoundation.Python.3.11_qbz5n2kfra8p0\\LocalCache\\local-packages\\Python311\\site-packages\\sklearn\\utils\\validation.py:2739: UserWarning: X does not have valid feature names, but LGBMRegressor was fitted with feature names\n",
      "  warnings.warn(\n",
      "C:\\Users\\amaguaya\\AppData\\Local\\Packages\\PythonSoftwareFoundation.Python.3.11_qbz5n2kfra8p0\\LocalCache\\local-packages\\Python311\\site-packages\\sklearn\\utils\\validation.py:2739: UserWarning: X does not have valid feature names, but LGBMRegressor was fitted with feature names\n",
      "  warnings.warn(\n"
     ]
    },
    {
     "name": "stdout",
     "output_type": "stream",
     "text": [
      "-> finished loop 346\n",
      "Loop 353: train 2019-12-20 00:00:00 -> 2023-12-19 00:00:00, forecast 2023-12-20 00:00:00\n",
      "  dat_slice shape: torch.Size([1462, 24, 10])  → flatten count = 35088\n",
      "-> finished loop 347\n",
      "Loop 354: train 2019-12-21 00:00:00 -> 2023-12-20 00:00:00, forecast 2023-12-21 00:00:00\n",
      "  dat_slice shape: torch.Size([1462, 24, 10])  → flatten count = 35088\n"
     ]
    },
    {
     "name": "stderr",
     "output_type": "stream",
     "text": [
      "C:\\Users\\amaguaya\\AppData\\Local\\Packages\\PythonSoftwareFoundation.Python.3.11_qbz5n2kfra8p0\\LocalCache\\local-packages\\Python311\\site-packages\\sklearn\\utils\\validation.py:2739: UserWarning: X does not have valid feature names, but LGBMRegressor was fitted with feature names\n",
      "  warnings.warn(\n"
     ]
    },
    {
     "name": "stdout",
     "output_type": "stream",
     "text": [
      "-> finished loop 348\n",
      "Loop 355: train 2019-12-22 00:00:00 -> 2023-12-21 00:00:00, forecast 2023-12-22 00:00:00\n",
      "  dat_slice shape: torch.Size([1462, 24, 10])  → flatten count = 35088\n"
     ]
    },
    {
     "name": "stderr",
     "output_type": "stream",
     "text": [
      "C:\\Users\\amaguaya\\AppData\\Local\\Packages\\PythonSoftwareFoundation.Python.3.11_qbz5n2kfra8p0\\LocalCache\\local-packages\\Python311\\site-packages\\sklearn\\utils\\validation.py:2739: UserWarning: X does not have valid feature names, but LGBMRegressor was fitted with feature names\n",
      "  warnings.warn(\n",
      "C:\\Users\\amaguaya\\AppData\\Local\\Packages\\PythonSoftwareFoundation.Python.3.11_qbz5n2kfra8p0\\LocalCache\\local-packages\\Python311\\site-packages\\sklearn\\utils\\validation.py:2739: UserWarning: X does not have valid feature names, but LGBMRegressor was fitted with feature names\n",
      "  warnings.warn(\n",
      "C:\\Users\\amaguaya\\AppData\\Local\\Packages\\PythonSoftwareFoundation.Python.3.11_qbz5n2kfra8p0\\LocalCache\\local-packages\\Python311\\site-packages\\sklearn\\utils\\validation.py:2739: UserWarning: X does not have valid feature names, but LGBMRegressor was fitted with feature names\n",
      "  warnings.warn(\n"
     ]
    },
    {
     "name": "stdout",
     "output_type": "stream",
     "text": [
      "-> finished loop 349\n",
      "Loop 356: train 2019-12-23 00:00:00 -> 2023-12-22 00:00:00, forecast 2023-12-23 00:00:00\n",
      "  dat_slice shape: torch.Size([1462, 24, 10])  → flatten count = 35088\n",
      "-> finished loop 350\n",
      "Loop 357: train 2019-12-24 00:00:00 -> 2023-12-23 00:00:00, forecast 2023-12-24 00:00:00\n",
      "  dat_slice shape: torch.Size([1462, 24, 10])  → flatten count = 35088\n",
      "-> finished loop 351\n",
      "Loop 358: train 2019-12-25 00:00:00 -> 2023-12-24 00:00:00, forecast 2023-12-25 00:00:00\n",
      "  dat_slice shape: torch.Size([1462, 24, 10])  → flatten count = 35088\n"
     ]
    },
    {
     "name": "stderr",
     "output_type": "stream",
     "text": [
      "C:\\Users\\amaguaya\\AppData\\Local\\Packages\\PythonSoftwareFoundation.Python.3.11_qbz5n2kfra8p0\\LocalCache\\local-packages\\Python311\\site-packages\\sklearn\\utils\\validation.py:2739: UserWarning: X does not have valid feature names, but LGBMRegressor was fitted with feature names\n",
      "  warnings.warn(\n"
     ]
    },
    {
     "name": "stdout",
     "output_type": "stream",
     "text": [
      "-> finished loop 352\n",
      "Loop 359: train 2019-12-26 00:00:00 -> 2023-12-25 00:00:00, forecast 2023-12-26 00:00:00\n",
      "  dat_slice shape: torch.Size([1462, 24, 10])  → flatten count = 35088\n"
     ]
    },
    {
     "name": "stderr",
     "output_type": "stream",
     "text": [
      "C:\\Users\\amaguaya\\AppData\\Local\\Packages\\PythonSoftwareFoundation.Python.3.11_qbz5n2kfra8p0\\LocalCache\\local-packages\\Python311\\site-packages\\sklearn\\utils\\validation.py:2739: UserWarning: X does not have valid feature names, but LGBMRegressor was fitted with feature names\n",
      "  warnings.warn(\n",
      "C:\\Users\\amaguaya\\AppData\\Local\\Packages\\PythonSoftwareFoundation.Python.3.11_qbz5n2kfra8p0\\LocalCache\\local-packages\\Python311\\site-packages\\sklearn\\utils\\validation.py:2739: UserWarning: X does not have valid feature names, but LGBMRegressor was fitted with feature names\n",
      "  warnings.warn(\n"
     ]
    },
    {
     "name": "stdout",
     "output_type": "stream",
     "text": [
      "-> finished loop 353\n",
      "Loop 360: train 2019-12-27 00:00:00 -> 2023-12-26 00:00:00, forecast 2023-12-27 00:00:00\n",
      "  dat_slice shape: torch.Size([1462, 24, 10])  → flatten count = 35088\n",
      "-> finished loop 354\n",
      "Loop 361: train 2019-12-28 00:00:00 -> 2023-12-27 00:00:00, forecast 2023-12-28 00:00:00\n",
      "  dat_slice shape: torch.Size([1462, 24, 10])  → flatten count = 35088\n"
     ]
    },
    {
     "name": "stderr",
     "output_type": "stream",
     "text": [
      "C:\\Users\\amaguaya\\AppData\\Local\\Packages\\PythonSoftwareFoundation.Python.3.11_qbz5n2kfra8p0\\LocalCache\\local-packages\\Python311\\site-packages\\sklearn\\utils\\validation.py:2739: UserWarning: X does not have valid feature names, but LGBMRegressor was fitted with feature names\n",
      "  warnings.warn(\n"
     ]
    },
    {
     "name": "stdout",
     "output_type": "stream",
     "text": [
      "-> finished loop 355\n",
      "Loop 362: train 2019-12-29 00:00:00 -> 2023-12-28 00:00:00, forecast 2023-12-29 00:00:00\n",
      "  dat_slice shape: torch.Size([1462, 24, 10])  → flatten count = 35088\n"
     ]
    },
    {
     "name": "stderr",
     "output_type": "stream",
     "text": [
      "C:\\Users\\amaguaya\\AppData\\Local\\Packages\\PythonSoftwareFoundation.Python.3.11_qbz5n2kfra8p0\\LocalCache\\local-packages\\Python311\\site-packages\\sklearn\\utils\\validation.py:2739: UserWarning: X does not have valid feature names, but LGBMRegressor was fitted with feature names\n",
      "  warnings.warn(\n",
      "C:\\Users\\amaguaya\\AppData\\Local\\Packages\\PythonSoftwareFoundation.Python.3.11_qbz5n2kfra8p0\\LocalCache\\local-packages\\Python311\\site-packages\\sklearn\\utils\\validation.py:2739: UserWarning: X does not have valid feature names, but LGBMRegressor was fitted with feature names\n",
      "  warnings.warn(\n"
     ]
    },
    {
     "name": "stdout",
     "output_type": "stream",
     "text": [
      "-> finished loop 357\n",
      "Loop 363: train 2019-12-30 00:00:00 -> 2023-12-29 00:00:00, forecast 2023-12-30 00:00:00\n",
      "  dat_slice shape: torch.Size([1462, 24, 10])  → flatten count = 35088\n",
      "-> finished loop 358\n",
      "Loop 364: train 2019-12-31 00:00:00 -> 2023-12-30 00:00:00, forecast 2023-12-31 00:00:00\n",
      "  dat_slice shape: torch.Size([1462, 24, 10])  → flatten count = 35088\n"
     ]
    },
    {
     "name": "stderr",
     "output_type": "stream",
     "text": [
      "C:\\Users\\amaguaya\\AppData\\Local\\Packages\\PythonSoftwareFoundation.Python.3.11_qbz5n2kfra8p0\\LocalCache\\local-packages\\Python311\\site-packages\\sklearn\\utils\\validation.py:2739: UserWarning: X does not have valid feature names, but LGBMRegressor was fitted with feature names\n",
      "  warnings.warn(\n",
      "C:\\Users\\amaguaya\\AppData\\Local\\Packages\\PythonSoftwareFoundation.Python.3.11_qbz5n2kfra8p0\\LocalCache\\local-packages\\Python311\\site-packages\\sklearn\\utils\\validation.py:2739: UserWarning: X does not have valid feature names, but LGBMRegressor was fitted with feature names\n",
      "  warnings.warn(\n"
     ]
    },
    {
     "name": "stdout",
     "output_type": "stream",
     "text": [
      "-> finished loop 356\n",
      "Loop 365: train 2020-01-01 00:00:00 -> 2023-12-31 00:00:00, forecast 2024-01-01 00:00:00\n",
      "  dat_slice shape: torch.Size([1462, 24, 10])  → flatten count = 35088\n",
      "-> finished loop 359\n",
      "Loop 366: train 2020-01-02 00:00:00 -> 2024-01-01 00:00:00, forecast 2024-01-02 00:00:00\n",
      "  dat_slice shape: torch.Size([1462, 24, 10])  → flatten count = 35088\n"
     ]
    },
    {
     "name": "stderr",
     "output_type": "stream",
     "text": [
      "C:\\Users\\amaguaya\\AppData\\Local\\Packages\\PythonSoftwareFoundation.Python.3.11_qbz5n2kfra8p0\\LocalCache\\local-packages\\Python311\\site-packages\\sklearn\\utils\\validation.py:2739: UserWarning: X does not have valid feature names, but LGBMRegressor was fitted with feature names\n",
      "  warnings.warn(\n"
     ]
    },
    {
     "name": "stdout",
     "output_type": "stream",
     "text": [
      "-> finished loop 360\n",
      "Loop 367: train 2020-01-03 00:00:00 -> 2024-01-02 00:00:00, forecast 2024-01-03 00:00:00\n",
      "  dat_slice shape: torch.Size([1462, 24, 10])  → flatten count = 35088\n"
     ]
    },
    {
     "name": "stderr",
     "output_type": "stream",
     "text": [
      "C:\\Users\\amaguaya\\AppData\\Local\\Packages\\PythonSoftwareFoundation.Python.3.11_qbz5n2kfra8p0\\LocalCache\\local-packages\\Python311\\site-packages\\sklearn\\utils\\validation.py:2739: UserWarning: X does not have valid feature names, but LGBMRegressor was fitted with feature names\n",
      "  warnings.warn(\n"
     ]
    },
    {
     "name": "stdout",
     "output_type": "stream",
     "text": [
      "-> finished loop 361\n",
      "Loop 368: train 2020-01-04 00:00:00 -> 2024-01-03 00:00:00, forecast 2024-01-04 00:00:00\n",
      "  dat_slice shape: torch.Size([1462, 24, 10])  → flatten count = 35088\n"
     ]
    },
    {
     "name": "stderr",
     "output_type": "stream",
     "text": [
      "C:\\Users\\amaguaya\\AppData\\Local\\Packages\\PythonSoftwareFoundation.Python.3.11_qbz5n2kfra8p0\\LocalCache\\local-packages\\Python311\\site-packages\\sklearn\\utils\\validation.py:2739: UserWarning: X does not have valid feature names, but LGBMRegressor was fitted with feature names\n",
      "  warnings.warn(\n",
      "C:\\Users\\amaguaya\\AppData\\Local\\Packages\\PythonSoftwareFoundation.Python.3.11_qbz5n2kfra8p0\\LocalCache\\local-packages\\Python311\\site-packages\\sklearn\\utils\\validation.py:2739: UserWarning: X does not have valid feature names, but LGBMRegressor was fitted with feature names\n",
      "  warnings.warn(\n"
     ]
    },
    {
     "name": "stdout",
     "output_type": "stream",
     "text": [
      "-> finished loop 363\n",
      "Loop 369: train 2020-01-05 00:00:00 -> 2024-01-04 00:00:00, forecast 2024-01-05 00:00:00\n",
      "  dat_slice shape: torch.Size([1462, 24, 10])  → flatten count = 35088\n",
      "-> finished loop 364\n",
      "Loop 370: train 2020-01-06 00:00:00 -> 2024-01-05 00:00:00, forecast 2024-01-06 00:00:00\n",
      "  dat_slice shape: torch.Size([1462, 24, 10])  → flatten count = 35088\n"
     ]
    },
    {
     "name": "stderr",
     "output_type": "stream",
     "text": [
      "C:\\Users\\amaguaya\\AppData\\Local\\Packages\\PythonSoftwareFoundation.Python.3.11_qbz5n2kfra8p0\\LocalCache\\local-packages\\Python311\\site-packages\\sklearn\\utils\\validation.py:2739: UserWarning: X does not have valid feature names, but LGBMRegressor was fitted with feature names\n",
      "  warnings.warn(\n"
     ]
    },
    {
     "name": "stdout",
     "output_type": "stream",
     "text": [
      "-> finished loop 362\n",
      "Loop 371: train 2020-01-07 00:00:00 -> 2024-01-06 00:00:00, forecast 2024-01-07 00:00:00\n",
      "  dat_slice shape: torch.Size([1462, 24, 10])  → flatten count = 35088\n"
     ]
    },
    {
     "name": "stderr",
     "output_type": "stream",
     "text": [
      "C:\\Users\\amaguaya\\AppData\\Local\\Packages\\PythonSoftwareFoundation.Python.3.11_qbz5n2kfra8p0\\LocalCache\\local-packages\\Python311\\site-packages\\sklearn\\utils\\validation.py:2739: UserWarning: X does not have valid feature names, but LGBMRegressor was fitted with feature names\n",
      "  warnings.warn(\n",
      "C:\\Users\\amaguaya\\AppData\\Local\\Packages\\PythonSoftwareFoundation.Python.3.11_qbz5n2kfra8p0\\LocalCache\\local-packages\\Python311\\site-packages\\sklearn\\utils\\validation.py:2739: UserWarning: X does not have valid feature names, but LGBMRegressor was fitted with feature names\n",
      "  warnings.warn(\n"
     ]
    },
    {
     "name": "stdout",
     "output_type": "stream",
     "text": [
      "-> finished loop 365\n",
      "Loop 372: train 2020-01-08 00:00:00 -> 2024-01-07 00:00:00, forecast 2024-01-08 00:00:00\n",
      "  dat_slice shape: torch.Size([1462, 24, 10])  → flatten count = 35088\n",
      "-> finished loop 366\n",
      "Loop 373: train 2020-01-09 00:00:00 -> 2024-01-08 00:00:00, forecast 2024-01-09 00:00:00\n",
      "  dat_slice shape: torch.Size([1462, 24, 10])  → flatten count = 35088\n"
     ]
    },
    {
     "name": "stderr",
     "output_type": "stream",
     "text": [
      "C:\\Users\\amaguaya\\AppData\\Local\\Packages\\PythonSoftwareFoundation.Python.3.11_qbz5n2kfra8p0\\LocalCache\\local-packages\\Python311\\site-packages\\sklearn\\utils\\validation.py:2739: UserWarning: X does not have valid feature names, but LGBMRegressor was fitted with feature names\n",
      "  warnings.warn(\n"
     ]
    },
    {
     "name": "stdout",
     "output_type": "stream",
     "text": [
      "-> finished loop 367\n",
      "Loop 374: train 2020-01-10 00:00:00 -> 2024-01-09 00:00:00, forecast 2024-01-10 00:00:00\n",
      "  dat_slice shape: torch.Size([1462, 24, 10])  → flatten count = 35088\n"
     ]
    },
    {
     "name": "stderr",
     "output_type": "stream",
     "text": [
      "C:\\Users\\amaguaya\\AppData\\Local\\Packages\\PythonSoftwareFoundation.Python.3.11_qbz5n2kfra8p0\\LocalCache\\local-packages\\Python311\\site-packages\\sklearn\\utils\\validation.py:2739: UserWarning: X does not have valid feature names, but LGBMRegressor was fitted with feature names\n",
      "  warnings.warn(\n",
      "C:\\Users\\amaguaya\\AppData\\Local\\Packages\\PythonSoftwareFoundation.Python.3.11_qbz5n2kfra8p0\\LocalCache\\local-packages\\Python311\\site-packages\\sklearn\\utils\\validation.py:2739: UserWarning: X does not have valid feature names, but LGBMRegressor was fitted with feature names\n",
      "  warnings.warn(\n",
      "C:\\Users\\amaguaya\\AppData\\Local\\Packages\\PythonSoftwareFoundation.Python.3.11_qbz5n2kfra8p0\\LocalCache\\local-packages\\Python311\\site-packages\\sklearn\\utils\\validation.py:2739: UserWarning: X does not have valid feature names, but LGBMRegressor was fitted with feature names\n",
      "  warnings.warn(\n"
     ]
    },
    {
     "name": "stdout",
     "output_type": "stream",
     "text": [
      "-> finished loop 369\n",
      "Loop 375: train 2020-01-11 00:00:00 -> 2024-01-10 00:00:00, forecast 2024-01-11 00:00:00\n",
      "  dat_slice shape: torch.Size([1462, 24, 10])  → flatten count = 35088\n",
      "-> finished loop 370\n",
      "Loop 376: train 2020-01-12 00:00:00 -> 2024-01-11 00:00:00, forecast 2024-01-12 00:00:00\n",
      "  dat_slice shape: torch.Size([1462, 24, 10])  → flatten count = 35088\n",
      "-> finished loop 368\n",
      "Loop 377: train 2020-01-13 00:00:00 -> 2024-01-12 00:00:00, forecast 2024-01-13 00:00:00\n",
      "  dat_slice shape: torch.Size([1462, 24, 10])  → flatten count = 35088\n"
     ]
    },
    {
     "name": "stderr",
     "output_type": "stream",
     "text": [
      "C:\\Users\\amaguaya\\AppData\\Local\\Packages\\PythonSoftwareFoundation.Python.3.11_qbz5n2kfra8p0\\LocalCache\\local-packages\\Python311\\site-packages\\sklearn\\utils\\validation.py:2739: UserWarning: X does not have valid feature names, but LGBMRegressor was fitted with feature names\n",
      "  warnings.warn(\n"
     ]
    },
    {
     "name": "stdout",
     "output_type": "stream",
     "text": [
      "-> finished loop 371\n",
      "Loop 378: train 2020-01-14 00:00:00 -> 2024-01-13 00:00:00, forecast 2024-01-14 00:00:00\n",
      "  dat_slice shape: torch.Size([1462, 24, 10])  → flatten count = 35088\n"
     ]
    },
    {
     "name": "stderr",
     "output_type": "stream",
     "text": [
      "C:\\Users\\amaguaya\\AppData\\Local\\Packages\\PythonSoftwareFoundation.Python.3.11_qbz5n2kfra8p0\\LocalCache\\local-packages\\Python311\\site-packages\\sklearn\\utils\\validation.py:2739: UserWarning: X does not have valid feature names, but LGBMRegressor was fitted with feature names\n",
      "  warnings.warn(\n",
      "C:\\Users\\amaguaya\\AppData\\Local\\Packages\\PythonSoftwareFoundation.Python.3.11_qbz5n2kfra8p0\\LocalCache\\local-packages\\Python311\\site-packages\\sklearn\\utils\\validation.py:2739: UserWarning: X does not have valid feature names, but LGBMRegressor was fitted with feature names\n",
      "  warnings.warn(\n"
     ]
    },
    {
     "name": "stdout",
     "output_type": "stream",
     "text": [
      "-> finished loop 372\n",
      "Loop 379: train 2020-01-15 00:00:00 -> 2024-01-14 00:00:00, forecast 2024-01-15 00:00:00\n",
      "  dat_slice shape: torch.Size([1462, 24, 10])  → flatten count = 35088\n",
      "-> finished loop 373\n",
      "Loop 380: train 2020-01-16 00:00:00 -> 2024-01-15 00:00:00, forecast 2024-01-16 00:00:00\n",
      "  dat_slice shape: torch.Size([1462, 24, 10])  → flatten count = 35088\n"
     ]
    },
    {
     "name": "stderr",
     "output_type": "stream",
     "text": [
      "C:\\Users\\amaguaya\\AppData\\Local\\Packages\\PythonSoftwareFoundation.Python.3.11_qbz5n2kfra8p0\\LocalCache\\local-packages\\Python311\\site-packages\\sklearn\\utils\\validation.py:2739: UserWarning: X does not have valid feature names, but LGBMRegressor was fitted with feature names\n",
      "  warnings.warn(\n"
     ]
    },
    {
     "name": "stdout",
     "output_type": "stream",
     "text": [
      "-> finished loop 374\n",
      "Loop 381: train 2020-01-17 00:00:00 -> 2024-01-16 00:00:00, forecast 2024-01-17 00:00:00\n",
      "  dat_slice shape: torch.Size([1462, 24, 10])  → flatten count = 35088\n"
     ]
    },
    {
     "name": "stderr",
     "output_type": "stream",
     "text": [
      "C:\\Users\\amaguaya\\AppData\\Local\\Packages\\PythonSoftwareFoundation.Python.3.11_qbz5n2kfra8p0\\LocalCache\\local-packages\\Python311\\site-packages\\sklearn\\utils\\validation.py:2739: UserWarning: X does not have valid feature names, but LGBMRegressor was fitted with feature names\n",
      "  warnings.warn(\n",
      "C:\\Users\\amaguaya\\AppData\\Local\\Packages\\PythonSoftwareFoundation.Python.3.11_qbz5n2kfra8p0\\LocalCache\\local-packages\\Python311\\site-packages\\sklearn\\utils\\validation.py:2739: UserWarning: X does not have valid feature names, but LGBMRegressor was fitted with feature names\n",
      "  warnings.warn(\n"
     ]
    },
    {
     "name": "stdout",
     "output_type": "stream",
     "text": [
      "-> finished loop 375\n",
      "Loop 382: train 2020-01-18 00:00:00 -> 2024-01-17 00:00:00, forecast 2024-01-18 00:00:00\n",
      "  dat_slice shape: torch.Size([1462, 24, 10])  → flatten count = 35088\n",
      "-> finished loop 376\n",
      "Loop 383: train 2020-01-19 00:00:00 -> 2024-01-18 00:00:00, forecast 2024-01-19 00:00:00\n",
      "  dat_slice shape: torch.Size([1462, 24, 10])  → flatten count = 35088\n"
     ]
    },
    {
     "name": "stderr",
     "output_type": "stream",
     "text": [
      "C:\\Users\\amaguaya\\AppData\\Local\\Packages\\PythonSoftwareFoundation.Python.3.11_qbz5n2kfra8p0\\LocalCache\\local-packages\\Python311\\site-packages\\sklearn\\utils\\validation.py:2739: UserWarning: X does not have valid feature names, but LGBMRegressor was fitted with feature names\n",
      "  warnings.warn(\n",
      "C:\\Users\\amaguaya\\AppData\\Local\\Packages\\PythonSoftwareFoundation.Python.3.11_qbz5n2kfra8p0\\LocalCache\\local-packages\\Python311\\site-packages\\sklearn\\utils\\validation.py:2739: UserWarning: X does not have valid feature names, but LGBMRegressor was fitted with feature names\n",
      "  warnings.warn(\n",
      "C:\\Users\\amaguaya\\AppData\\Local\\Packages\\PythonSoftwareFoundation.Python.3.11_qbz5n2kfra8p0\\LocalCache\\local-packages\\Python311\\site-packages\\sklearn\\utils\\validation.py:2739: UserWarning: X does not have valid feature names, but LGBMRegressor was fitted with feature names\n",
      "  warnings.warn(\n"
     ]
    },
    {
     "name": "stdout",
     "output_type": "stream",
     "text": [
      "-> finished loop 377\n",
      "Loop 384: train 2020-01-20 00:00:00 -> 2024-01-19 00:00:00, forecast 2024-01-20 00:00:00\n",
      "  dat_slice shape: torch.Size([1462, 24, 10])  → flatten count = 35088\n",
      "-> finished loop 378\n",
      "Loop 385: train 2020-01-21 00:00:00 -> 2024-01-20 00:00:00, forecast 2024-01-21 00:00:00\n",
      "  dat_slice shape: torch.Size([1462, 24, 10])  → flatten count = 35088\n",
      "-> finished loop 379\n",
      "Loop 386: train 2020-01-22 00:00:00 -> 2024-01-21 00:00:00, forecast 2024-01-22 00:00:00\n",
      "  dat_slice shape: torch.Size([1462, 24, 10])  → flatten count = 35088\n"
     ]
    },
    {
     "name": "stderr",
     "output_type": "stream",
     "text": [
      "C:\\Users\\amaguaya\\AppData\\Local\\Packages\\PythonSoftwareFoundation.Python.3.11_qbz5n2kfra8p0\\LocalCache\\local-packages\\Python311\\site-packages\\sklearn\\utils\\validation.py:2739: UserWarning: X does not have valid feature names, but LGBMRegressor was fitted with feature names\n",
      "  warnings.warn(\n"
     ]
    },
    {
     "name": "stdout",
     "output_type": "stream",
     "text": [
      "-> finished loop 380\n",
      "Loop 387: train 2020-01-23 00:00:00 -> 2024-01-22 00:00:00, forecast 2024-01-23 00:00:00\n",
      "  dat_slice shape: torch.Size([1462, 24, 10])  → flatten count = 35088\n"
     ]
    },
    {
     "name": "stderr",
     "output_type": "stream",
     "text": [
      "C:\\Users\\amaguaya\\AppData\\Local\\Packages\\PythonSoftwareFoundation.Python.3.11_qbz5n2kfra8p0\\LocalCache\\local-packages\\Python311\\site-packages\\sklearn\\utils\\validation.py:2739: UserWarning: X does not have valid feature names, but LGBMRegressor was fitted with feature names\n",
      "  warnings.warn(\n"
     ]
    },
    {
     "name": "stdout",
     "output_type": "stream",
     "text": [
      "-> finished loop 381\n",
      "Loop 388: train 2020-01-24 00:00:00 -> 2024-01-23 00:00:00, forecast 2024-01-24 00:00:00\n",
      "  dat_slice shape: torch.Size([1462, 24, 10])  → flatten count = 35088\n"
     ]
    },
    {
     "name": "stderr",
     "output_type": "stream",
     "text": [
      "C:\\Users\\amaguaya\\AppData\\Local\\Packages\\PythonSoftwareFoundation.Python.3.11_qbz5n2kfra8p0\\LocalCache\\local-packages\\Python311\\site-packages\\sklearn\\utils\\validation.py:2739: UserWarning: X does not have valid feature names, but LGBMRegressor was fitted with feature names\n",
      "  warnings.warn(\n"
     ]
    },
    {
     "name": "stdout",
     "output_type": "stream",
     "text": [
      "-> finished loop 383\n",
      "Loop 389: train 2020-01-25 00:00:00 -> 2024-01-24 00:00:00, forecast 2024-01-25 00:00:00\n",
      "  dat_slice shape: torch.Size([1462, 24, 10])  → flatten count = 35088\n"
     ]
    },
    {
     "name": "stderr",
     "output_type": "stream",
     "text": [
      "C:\\Users\\amaguaya\\AppData\\Local\\Packages\\PythonSoftwareFoundation.Python.3.11_qbz5n2kfra8p0\\LocalCache\\local-packages\\Python311\\site-packages\\sklearn\\utils\\validation.py:2739: UserWarning: X does not have valid feature names, but LGBMRegressor was fitted with feature names\n",
      "  warnings.warn(\n",
      "C:\\Users\\amaguaya\\AppData\\Local\\Packages\\PythonSoftwareFoundation.Python.3.11_qbz5n2kfra8p0\\LocalCache\\local-packages\\Python311\\site-packages\\sklearn\\utils\\validation.py:2739: UserWarning: X does not have valid feature names, but LGBMRegressor was fitted with feature names\n",
      "  warnings.warn(\n",
      "C:\\Users\\amaguaya\\AppData\\Local\\Packages\\PythonSoftwareFoundation.Python.3.11_qbz5n2kfra8p0\\LocalCache\\local-packages\\Python311\\site-packages\\sklearn\\utils\\validation.py:2739: UserWarning: X does not have valid feature names, but LGBMRegressor was fitted with feature names\n",
      "  warnings.warn(\n",
      "C:\\Users\\amaguaya\\AppData\\Local\\Packages\\PythonSoftwareFoundation.Python.3.11_qbz5n2kfra8p0\\LocalCache\\local-packages\\Python311\\site-packages\\sklearn\\utils\\validation.py:2739: UserWarning: X does not have valid feature names, but LGBMRegressor was fitted with feature names\n",
      "  warnings.warn(\n"
     ]
    },
    {
     "name": "stdout",
     "output_type": "stream",
     "text": [
      "-> finished loop 382\n",
      "Loop 390: train 2020-01-26 00:00:00 -> 2024-01-25 00:00:00, forecast 2024-01-26 00:00:00\n",
      "  dat_slice shape: torch.Size([1462, 24, 10])  → flatten count = 35088\n",
      "-> finished loop 386\n",
      "Loop 391: train 2020-01-27 00:00:00 -> 2024-01-26 00:00:00, forecast 2024-01-27 00:00:00\n",
      "  dat_slice shape: torch.Size([1462, 24, 10])  → flatten count = 35088\n",
      "-> finished loop 384\n",
      "Loop 392: train 2020-01-28 00:00:00 -> 2024-01-27 00:00:00, forecast 2024-01-28 00:00:00\n",
      "  dat_slice shape: torch.Size([1462, 24, 10])  → flatten count = 35088\n",
      "-> finished loop 385\n",
      "Loop 393: train 2020-01-29 00:00:00 -> 2024-01-28 00:00:00, forecast 2024-01-29 00:00:00\n",
      "  dat_slice shape: torch.Size([1462, 24, 10])  → flatten count = 35088\n"
     ]
    },
    {
     "name": "stderr",
     "output_type": "stream",
     "text": [
      "C:\\Users\\amaguaya\\AppData\\Local\\Packages\\PythonSoftwareFoundation.Python.3.11_qbz5n2kfra8p0\\LocalCache\\local-packages\\Python311\\site-packages\\sklearn\\utils\\validation.py:2739: UserWarning: X does not have valid feature names, but LGBMRegressor was fitted with feature names\n",
      "  warnings.warn(\n"
     ]
    },
    {
     "name": "stdout",
     "output_type": "stream",
     "text": [
      "-> finished loop 387\n",
      "Loop 394: train 2020-01-30 00:00:00 -> 2024-01-29 00:00:00, forecast 2024-01-30 00:00:00\n",
      "  dat_slice shape: torch.Size([1462, 24, 10])  → flatten count = 35088\n"
     ]
    },
    {
     "name": "stderr",
     "output_type": "stream",
     "text": [
      "C:\\Users\\amaguaya\\AppData\\Local\\Packages\\PythonSoftwareFoundation.Python.3.11_qbz5n2kfra8p0\\LocalCache\\local-packages\\Python311\\site-packages\\sklearn\\utils\\validation.py:2739: UserWarning: X does not have valid feature names, but LGBMRegressor was fitted with feature names\n",
      "  warnings.warn(\n",
      "C:\\Users\\amaguaya\\AppData\\Local\\Packages\\PythonSoftwareFoundation.Python.3.11_qbz5n2kfra8p0\\LocalCache\\local-packages\\Python311\\site-packages\\sklearn\\utils\\validation.py:2739: UserWarning: X does not have valid feature names, but LGBMRegressor was fitted with feature names\n",
      "  warnings.warn(\n"
     ]
    },
    {
     "name": "stdout",
     "output_type": "stream",
     "text": [
      "-> finished loop 388\n",
      "Loop 395: train 2020-01-31 00:00:00 -> 2024-01-30 00:00:00, forecast 2024-01-31 00:00:00\n",
      "  dat_slice shape: torch.Size([1462, 24, 10])  → flatten count = 35088\n",
      "-> finished loop 389\n",
      "Loop 396: train 2020-02-01 00:00:00 -> 2024-01-31 00:00:00, forecast 2024-02-01 00:00:00\n",
      "  dat_slice shape: torch.Size([1462, 24, 10])  → flatten count = 35088\n"
     ]
    },
    {
     "name": "stderr",
     "output_type": "stream",
     "text": [
      "C:\\Users\\amaguaya\\AppData\\Local\\Packages\\PythonSoftwareFoundation.Python.3.11_qbz5n2kfra8p0\\LocalCache\\local-packages\\Python311\\site-packages\\sklearn\\utils\\validation.py:2739: UserWarning: X does not have valid feature names, but LGBMRegressor was fitted with feature names\n",
      "  warnings.warn(\n",
      "C:\\Users\\amaguaya\\AppData\\Local\\Packages\\PythonSoftwareFoundation.Python.3.11_qbz5n2kfra8p0\\LocalCache\\local-packages\\Python311\\site-packages\\sklearn\\utils\\validation.py:2739: UserWarning: X does not have valid feature names, but LGBMRegressor was fitted with feature names\n",
      "  warnings.warn(\n"
     ]
    },
    {
     "name": "stdout",
     "output_type": "stream",
     "text": [
      "-> finished loop 390\n",
      "Loop 397: train 2020-02-02 00:00:00 -> 2024-02-01 00:00:00, forecast 2024-02-02 00:00:00\n",
      "  dat_slice shape: torch.Size([1462, 24, 10])  → flatten count = 35088\n",
      "-> finished loop 391\n",
      "Loop 398: train 2020-02-03 00:00:00 -> 2024-02-02 00:00:00, forecast 2024-02-03 00:00:00\n",
      "  dat_slice shape: torch.Size([1462, 24, 10])  → flatten count = 35088\n"
     ]
    },
    {
     "name": "stderr",
     "output_type": "stream",
     "text": [
      "C:\\Users\\amaguaya\\AppData\\Local\\Packages\\PythonSoftwareFoundation.Python.3.11_qbz5n2kfra8p0\\LocalCache\\local-packages\\Python311\\site-packages\\sklearn\\utils\\validation.py:2739: UserWarning: X does not have valid feature names, but LGBMRegressor was fitted with feature names\n",
      "  warnings.warn(\n",
      "C:\\Users\\amaguaya\\AppData\\Local\\Packages\\PythonSoftwareFoundation.Python.3.11_qbz5n2kfra8p0\\LocalCache\\local-packages\\Python311\\site-packages\\sklearn\\utils\\validation.py:2739: UserWarning: X does not have valid feature names, but LGBMRegressor was fitted with feature names\n",
      "  warnings.warn(\n",
      "C:\\Users\\amaguaya\\AppData\\Local\\Packages\\PythonSoftwareFoundation.Python.3.11_qbz5n2kfra8p0\\LocalCache\\local-packages\\Python311\\site-packages\\sklearn\\utils\\validation.py:2739: UserWarning: X does not have valid feature names, but LGBMRegressor was fitted with feature names\n",
      "  warnings.warn(\n"
     ]
    },
    {
     "name": "stdout",
     "output_type": "stream",
     "text": [
      "-> finished loop 394\n",
      "Loop 399: train 2020-02-04 00:00:00 -> 2024-02-03 00:00:00, forecast 2024-02-04 00:00:00\n",
      "  dat_slice shape: torch.Size([1462, 24, 10])  → flatten count = 35088\n",
      "-> finished loop 392\n",
      "Loop 400: train 2020-02-05 00:00:00 -> 2024-02-04 00:00:00, forecast 2024-02-05 00:00:00\n",
      "  dat_slice shape: torch.Size([1462, 24, 10])  → flatten count = 35088\n",
      "-> finished loop 393\n",
      "Loop 401: train 2020-02-06 00:00:00 -> 2024-02-05 00:00:00, forecast 2024-02-06 00:00:00\n",
      "  dat_slice shape: torch.Size([1462, 24, 10])  → flatten count = 35088\n"
     ]
    },
    {
     "name": "stderr",
     "output_type": "stream",
     "text": [
      "C:\\Users\\amaguaya\\AppData\\Local\\Packages\\PythonSoftwareFoundation.Python.3.11_qbz5n2kfra8p0\\LocalCache\\local-packages\\Python311\\site-packages\\sklearn\\utils\\validation.py:2739: UserWarning: X does not have valid feature names, but LGBMRegressor was fitted with feature names\n",
      "  warnings.warn(\n"
     ]
    },
    {
     "name": "stdout",
     "output_type": "stream",
     "text": [
      "-> finished loop 396\n",
      "Loop 402: train 2020-02-07 00:00:00 -> 2024-02-06 00:00:00, forecast 2024-02-07 00:00:00\n",
      "  dat_slice shape: torch.Size([1462, 24, 10])  → flatten count = 35088\n"
     ]
    },
    {
     "name": "stderr",
     "output_type": "stream",
     "text": [
      "C:\\Users\\amaguaya\\AppData\\Local\\Packages\\PythonSoftwareFoundation.Python.3.11_qbz5n2kfra8p0\\LocalCache\\local-packages\\Python311\\site-packages\\sklearn\\utils\\validation.py:2739: UserWarning: X does not have valid feature names, but LGBMRegressor was fitted with feature names\n",
      "  warnings.warn(\n",
      "C:\\Users\\amaguaya\\AppData\\Local\\Packages\\PythonSoftwareFoundation.Python.3.11_qbz5n2kfra8p0\\LocalCache\\local-packages\\Python311\\site-packages\\sklearn\\utils\\validation.py:2739: UserWarning: X does not have valid feature names, but LGBMRegressor was fitted with feature names\n",
      "  warnings.warn(\n",
      "C:\\Users\\amaguaya\\AppData\\Local\\Packages\\PythonSoftwareFoundation.Python.3.11_qbz5n2kfra8p0\\LocalCache\\local-packages\\Python311\\site-packages\\sklearn\\utils\\validation.py:2739: UserWarning: X does not have valid feature names, but LGBMRegressor was fitted with feature names\n",
      "  warnings.warn(\n"
     ]
    },
    {
     "name": "stdout",
     "output_type": "stream",
     "text": [
      "-> finished loop 397\n",
      "Loop 403: train 2020-02-08 00:00:00 -> 2024-02-07 00:00:00, forecast 2024-02-08 00:00:00\n",
      "  dat_slice shape: torch.Size([1462, 24, 10])  → flatten count = 35088\n",
      "-> finished loop 398\n",
      "Loop 404: train 2020-02-09 00:00:00 -> 2024-02-08 00:00:00, forecast 2024-02-09 00:00:00\n",
      "  dat_slice shape: torch.Size([1462, 24, 10])  → flatten count = 35088\n",
      "-> finished loop 395\n",
      "Loop 405: train 2020-02-10 00:00:00 -> 2024-02-09 00:00:00, forecast 2024-02-10 00:00:00\n",
      "  dat_slice shape: torch.Size([1462, 24, 10])  → flatten count = 35088\n"
     ]
    },
    {
     "name": "stderr",
     "output_type": "stream",
     "text": [
      "C:\\Users\\amaguaya\\AppData\\Local\\Packages\\PythonSoftwareFoundation.Python.3.11_qbz5n2kfra8p0\\LocalCache\\local-packages\\Python311\\site-packages\\sklearn\\utils\\validation.py:2739: UserWarning: X does not have valid feature names, but LGBMRegressor was fitted with feature names\n",
      "  warnings.warn(\n"
     ]
    },
    {
     "name": "stdout",
     "output_type": "stream",
     "text": [
      "-> finished loop 399\n",
      "Loop 406: train 2020-02-11 00:00:00 -> 2024-02-10 00:00:00, forecast 2024-02-11 00:00:00\n",
      "  dat_slice shape: torch.Size([1462, 24, 10])  → flatten count = 35088\n"
     ]
    },
    {
     "name": "stderr",
     "output_type": "stream",
     "text": [
      "C:\\Users\\amaguaya\\AppData\\Local\\Packages\\PythonSoftwareFoundation.Python.3.11_qbz5n2kfra8p0\\LocalCache\\local-packages\\Python311\\site-packages\\sklearn\\utils\\validation.py:2739: UserWarning: X does not have valid feature names, but LGBMRegressor was fitted with feature names\n",
      "  warnings.warn(\n",
      "C:\\Users\\amaguaya\\AppData\\Local\\Packages\\PythonSoftwareFoundation.Python.3.11_qbz5n2kfra8p0\\LocalCache\\local-packages\\Python311\\site-packages\\sklearn\\utils\\validation.py:2739: UserWarning: X does not have valid feature names, but LGBMRegressor was fitted with feature names\n",
      "  warnings.warn(\n"
     ]
    },
    {
     "name": "stdout",
     "output_type": "stream",
     "text": [
      "-> finished loop 400\n",
      "Loop 407: train 2020-02-12 00:00:00 -> 2024-02-11 00:00:00, forecast 2024-02-12 00:00:00\n",
      "  dat_slice shape: torch.Size([1462, 24, 10])  → flatten count = 35088\n",
      "-> finished loop 401\n",
      "Loop 408: train 2020-02-13 00:00:00 -> 2024-02-12 00:00:00, forecast 2024-02-13 00:00:00\n",
      "  dat_slice shape: torch.Size([1462, 24, 10])  → flatten count = 35088\n"
     ]
    },
    {
     "name": "stderr",
     "output_type": "stream",
     "text": [
      "C:\\Users\\amaguaya\\AppData\\Local\\Packages\\PythonSoftwareFoundation.Python.3.11_qbz5n2kfra8p0\\LocalCache\\local-packages\\Python311\\site-packages\\sklearn\\utils\\validation.py:2739: UserWarning: X does not have valid feature names, but LGBMRegressor was fitted with feature names\n",
      "  warnings.warn(\n"
     ]
    },
    {
     "name": "stdout",
     "output_type": "stream",
     "text": [
      "-> finished loop 402\n",
      "Loop 409: train 2020-02-14 00:00:00 -> 2024-02-13 00:00:00, forecast 2024-02-14 00:00:00\n",
      "  dat_slice shape: torch.Size([1462, 24, 10])  → flatten count = 35088\n"
     ]
    },
    {
     "name": "stderr",
     "output_type": "stream",
     "text": [
      "C:\\Users\\amaguaya\\AppData\\Local\\Packages\\PythonSoftwareFoundation.Python.3.11_qbz5n2kfra8p0\\LocalCache\\local-packages\\Python311\\site-packages\\sklearn\\utils\\validation.py:2739: UserWarning: X does not have valid feature names, but LGBMRegressor was fitted with feature names\n",
      "  warnings.warn(\n"
     ]
    },
    {
     "name": "stdout",
     "output_type": "stream",
     "text": [
      "-> finished loop 403\n",
      "Loop 410: train 2020-02-15 00:00:00 -> 2024-02-14 00:00:00, forecast 2024-02-15 00:00:00\n",
      "  dat_slice shape: torch.Size([1462, 24, 10])  → flatten count = 35088\n"
     ]
    },
    {
     "name": "stderr",
     "output_type": "stream",
     "text": [
      "C:\\Users\\amaguaya\\AppData\\Local\\Packages\\PythonSoftwareFoundation.Python.3.11_qbz5n2kfra8p0\\LocalCache\\local-packages\\Python311\\site-packages\\sklearn\\utils\\validation.py:2739: UserWarning: X does not have valid feature names, but LGBMRegressor was fitted with feature names\n",
      "  warnings.warn(\n",
      "C:\\Users\\amaguaya\\AppData\\Local\\Packages\\PythonSoftwareFoundation.Python.3.11_qbz5n2kfra8p0\\LocalCache\\local-packages\\Python311\\site-packages\\sklearn\\utils\\validation.py:2739: UserWarning: X does not have valid feature names, but LGBMRegressor was fitted with feature names\n",
      "  warnings.warn(\n"
     ]
    },
    {
     "name": "stdout",
     "output_type": "stream",
     "text": [
      "-> finished loop 405\n",
      "Loop 411: train 2020-02-16 00:00:00 -> 2024-02-15 00:00:00, forecast 2024-02-16 00:00:00\n",
      "  dat_slice shape: torch.Size([1462, 24, 10])  → flatten count = 35088\n",
      "-> finished loop 404\n",
      "Loop 412: train 2020-02-17 00:00:00 -> 2024-02-16 00:00:00, forecast 2024-02-17 00:00:00\n",
      "  dat_slice shape: torch.Size([1462, 24, 10])  → flatten count = 35088\n"
     ]
    },
    {
     "name": "stderr",
     "output_type": "stream",
     "text": [
      "C:\\Users\\amaguaya\\AppData\\Local\\Packages\\PythonSoftwareFoundation.Python.3.11_qbz5n2kfra8p0\\LocalCache\\local-packages\\Python311\\site-packages\\sklearn\\utils\\validation.py:2739: UserWarning: X does not have valid feature names, but LGBMRegressor was fitted with feature names\n",
      "  warnings.warn(\n"
     ]
    },
    {
     "name": "stdout",
     "output_type": "stream",
     "text": [
      "-> finished loop 406\n",
      "Loop 413: train 2020-02-18 00:00:00 -> 2024-02-17 00:00:00, forecast 2024-02-18 00:00:00\n",
      "  dat_slice shape: torch.Size([1462, 24, 10])  → flatten count = 35088\n"
     ]
    },
    {
     "name": "stderr",
     "output_type": "stream",
     "text": [
      "C:\\Users\\amaguaya\\AppData\\Local\\Packages\\PythonSoftwareFoundation.Python.3.11_qbz5n2kfra8p0\\LocalCache\\local-packages\\Python311\\site-packages\\sklearn\\utils\\validation.py:2739: UserWarning: X does not have valid feature names, but LGBMRegressor was fitted with feature names\n",
      "  warnings.warn(\n",
      "C:\\Users\\amaguaya\\AppData\\Local\\Packages\\PythonSoftwareFoundation.Python.3.11_qbz5n2kfra8p0\\LocalCache\\local-packages\\Python311\\site-packages\\sklearn\\utils\\validation.py:2739: UserWarning: X does not have valid feature names, but LGBMRegressor was fitted with feature names\n",
      "  warnings.warn(\n"
     ]
    },
    {
     "name": "stdout",
     "output_type": "stream",
     "text": [
      "-> finished loop 407\n",
      "Loop 414: train 2020-02-19 00:00:00 -> 2024-02-18 00:00:00, forecast 2024-02-19 00:00:00\n",
      "  dat_slice shape: torch.Size([1462, 24, 10])  → flatten count = 35088\n",
      "-> finished loop 408\n",
      "Loop 415: train 2020-02-20 00:00:00 -> 2024-02-19 00:00:00, forecast 2024-02-20 00:00:00\n",
      "  dat_slice shape: torch.Size([1462, 24, 10])  → flatten count = 35088\n"
     ]
    },
    {
     "name": "stderr",
     "output_type": "stream",
     "text": [
      "C:\\Users\\amaguaya\\AppData\\Local\\Packages\\PythonSoftwareFoundation.Python.3.11_qbz5n2kfra8p0\\LocalCache\\local-packages\\Python311\\site-packages\\sklearn\\utils\\validation.py:2739: UserWarning: X does not have valid feature names, but LGBMRegressor was fitted with feature names\n",
      "  warnings.warn(\n",
      "C:\\Users\\amaguaya\\AppData\\Local\\Packages\\PythonSoftwareFoundation.Python.3.11_qbz5n2kfra8p0\\LocalCache\\local-packages\\Python311\\site-packages\\sklearn\\utils\\validation.py:2739: UserWarning: X does not have valid feature names, but LGBMRegressor was fitted with feature names\n",
      "  warnings.warn(\n"
     ]
    },
    {
     "name": "stdout",
     "output_type": "stream",
     "text": [
      "-> finished loop 410\n",
      "Loop 416: train 2020-02-21 00:00:00 -> 2024-02-20 00:00:00, forecast 2024-02-21 00:00:00\n",
      "  dat_slice shape: torch.Size([1462, 24, 10])  → flatten count = 35088\n",
      "-> finished loop 409\n",
      "Loop 417: train 2020-02-22 00:00:00 -> 2024-02-21 00:00:00, forecast 2024-02-22 00:00:00\n",
      "  dat_slice shape: torch.Size([1462, 24, 10])  → flatten count = 35088\n"
     ]
    },
    {
     "name": "stderr",
     "output_type": "stream",
     "text": [
      "C:\\Users\\amaguaya\\AppData\\Local\\Packages\\PythonSoftwareFoundation.Python.3.11_qbz5n2kfra8p0\\LocalCache\\local-packages\\Python311\\site-packages\\sklearn\\utils\\validation.py:2739: UserWarning: X does not have valid feature names, but LGBMRegressor was fitted with feature names\n",
      "  warnings.warn(\n"
     ]
    },
    {
     "name": "stdout",
     "output_type": "stream",
     "text": [
      "-> finished loop 412\n",
      "Loop 418: train 2020-02-23 00:00:00 -> 2024-02-22 00:00:00, forecast 2024-02-23 00:00:00\n",
      "  dat_slice shape: torch.Size([1462, 24, 10])  → flatten count = 35088\n"
     ]
    },
    {
     "name": "stderr",
     "output_type": "stream",
     "text": [
      "C:\\Users\\amaguaya\\AppData\\Local\\Packages\\PythonSoftwareFoundation.Python.3.11_qbz5n2kfra8p0\\LocalCache\\local-packages\\Python311\\site-packages\\sklearn\\utils\\validation.py:2739: UserWarning: X does not have valid feature names, but LGBMRegressor was fitted with feature names\n",
      "  warnings.warn(\n",
      "C:\\Users\\amaguaya\\AppData\\Local\\Packages\\PythonSoftwareFoundation.Python.3.11_qbz5n2kfra8p0\\LocalCache\\local-packages\\Python311\\site-packages\\sklearn\\utils\\validation.py:2739: UserWarning: X does not have valid feature names, but LGBMRegressor was fitted with feature names\n",
      "  warnings.warn(\n"
     ]
    },
    {
     "name": "stdout",
     "output_type": "stream",
     "text": [
      "-> finished loop 411\n",
      "Loop 419: train 2020-02-24 00:00:00 -> 2024-02-23 00:00:00, forecast 2024-02-24 00:00:00\n",
      "  dat_slice shape: torch.Size([1462, 24, 10])  → flatten count = 35088\n",
      "-> finished loop 413\n",
      "Loop 420: train 2020-02-25 00:00:00 -> 2024-02-24 00:00:00, forecast 2024-02-25 00:00:00\n",
      "  dat_slice shape: torch.Size([1462, 24, 10])  → flatten count = 35088\n"
     ]
    },
    {
     "name": "stderr",
     "output_type": "stream",
     "text": [
      "C:\\Users\\amaguaya\\AppData\\Local\\Packages\\PythonSoftwareFoundation.Python.3.11_qbz5n2kfra8p0\\LocalCache\\local-packages\\Python311\\site-packages\\sklearn\\utils\\validation.py:2739: UserWarning: X does not have valid feature names, but LGBMRegressor was fitted with feature names\n",
      "  warnings.warn(\n"
     ]
    },
    {
     "name": "stdout",
     "output_type": "stream",
     "text": [
      "-> finished loop 415\n",
      "Loop 421: train 2020-02-26 00:00:00 -> 2024-02-25 00:00:00, forecast 2024-02-26 00:00:00\n",
      "  dat_slice shape: torch.Size([1462, 24, 10])  → flatten count = 35088\n"
     ]
    },
    {
     "name": "stderr",
     "output_type": "stream",
     "text": [
      "C:\\Users\\amaguaya\\AppData\\Local\\Packages\\PythonSoftwareFoundation.Python.3.11_qbz5n2kfra8p0\\LocalCache\\local-packages\\Python311\\site-packages\\sklearn\\utils\\validation.py:2739: UserWarning: X does not have valid feature names, but LGBMRegressor was fitted with feature names\n",
      "  warnings.warn(\n"
     ]
    },
    {
     "name": "stdout",
     "output_type": "stream",
     "text": [
      "-> finished loop 414\n",
      "Loop 422: train 2020-02-27 00:00:00 -> 2024-02-26 00:00:00, forecast 2024-02-27 00:00:00\n",
      "  dat_slice shape: torch.Size([1462, 24, 10])  → flatten count = 35088\n"
     ]
    },
    {
     "name": "stderr",
     "output_type": "stream",
     "text": [
      "C:\\Users\\amaguaya\\AppData\\Local\\Packages\\PythonSoftwareFoundation.Python.3.11_qbz5n2kfra8p0\\LocalCache\\local-packages\\Python311\\site-packages\\sklearn\\utils\\validation.py:2739: UserWarning: X does not have valid feature names, but LGBMRegressor was fitted with feature names\n",
      "  warnings.warn(\n"
     ]
    },
    {
     "name": "stdout",
     "output_type": "stream",
     "text": [
      "-> finished loop 417\n",
      "Loop 423: train 2020-02-28 00:00:00 -> 2024-02-27 00:00:00, forecast 2024-02-28 00:00:00\n",
      "  dat_slice shape: torch.Size([1462, 24, 10])  → flatten count = 35088\n"
     ]
    },
    {
     "name": "stderr",
     "output_type": "stream",
     "text": [
      "C:\\Users\\amaguaya\\AppData\\Local\\Packages\\PythonSoftwareFoundation.Python.3.11_qbz5n2kfra8p0\\LocalCache\\local-packages\\Python311\\site-packages\\sklearn\\utils\\validation.py:2739: UserWarning: X does not have valid feature names, but LGBMRegressor was fitted with feature names\n",
      "  warnings.warn(\n",
      "C:\\Users\\amaguaya\\AppData\\Local\\Packages\\PythonSoftwareFoundation.Python.3.11_qbz5n2kfra8p0\\LocalCache\\local-packages\\Python311\\site-packages\\sklearn\\utils\\validation.py:2739: UserWarning: X does not have valid feature names, but LGBMRegressor was fitted with feature names\n",
      "  warnings.warn(\n"
     ]
    },
    {
     "name": "stdout",
     "output_type": "stream",
     "text": [
      "-> finished loop 418\n",
      "Loop 424: train 2020-02-29 00:00:00 -> 2024-02-28 00:00:00, forecast 2024-02-29 00:00:00\n",
      "  dat_slice shape: torch.Size([1462, 24, 10])  → flatten count = 35088\n",
      "-> finished loop 416\n",
      "Loop 425: train 2020-03-01 00:00:00 -> 2024-02-29 00:00:00, forecast 2024-03-01 00:00:00\n",
      "  dat_slice shape: torch.Size([1462, 24, 10])  → flatten count = 35088\n"
     ]
    },
    {
     "name": "stderr",
     "output_type": "stream",
     "text": [
      "C:\\Users\\amaguaya\\AppData\\Local\\Packages\\PythonSoftwareFoundation.Python.3.11_qbz5n2kfra8p0\\LocalCache\\local-packages\\Python311\\site-packages\\sklearn\\utils\\validation.py:2739: UserWarning: X does not have valid feature names, but LGBMRegressor was fitted with feature names\n",
      "  warnings.warn(\n",
      "C:\\Users\\amaguaya\\AppData\\Local\\Packages\\PythonSoftwareFoundation.Python.3.11_qbz5n2kfra8p0\\LocalCache\\local-packages\\Python311\\site-packages\\sklearn\\utils\\validation.py:2739: UserWarning: X does not have valid feature names, but LGBMRegressor was fitted with feature names\n",
      "  warnings.warn(\n"
     ]
    },
    {
     "name": "stdout",
     "output_type": "stream",
     "text": [
      "-> finished loop 420\n",
      "Loop 426: train 2020-03-02 00:00:00 -> 2024-03-01 00:00:00, forecast 2024-03-02 00:00:00\n",
      "  dat_slice shape: torch.Size([1462, 24, 10])  → flatten count = 35088\n",
      "-> finished loop 419\n",
      "Loop 427: train 2020-03-03 00:00:00 -> 2024-03-02 00:00:00, forecast 2024-03-03 00:00:00\n",
      "  dat_slice shape: torch.Size([1462, 24, 10])  → flatten count = 35088\n"
     ]
    },
    {
     "name": "stderr",
     "output_type": "stream",
     "text": [
      "C:\\Users\\amaguaya\\AppData\\Local\\Packages\\PythonSoftwareFoundation.Python.3.11_qbz5n2kfra8p0\\LocalCache\\local-packages\\Python311\\site-packages\\sklearn\\utils\\validation.py:2739: UserWarning: X does not have valid feature names, but LGBMRegressor was fitted with feature names\n",
      "  warnings.warn(\n"
     ]
    },
    {
     "name": "stdout",
     "output_type": "stream",
     "text": [
      "-> finished loop 421\n",
      "Loop 428: train 2020-03-04 00:00:00 -> 2024-03-03 00:00:00, forecast 2024-03-04 00:00:00\n",
      "  dat_slice shape: torch.Size([1462, 24, 10])  → flatten count = 35088\n"
     ]
    },
    {
     "name": "stderr",
     "output_type": "stream",
     "text": [
      "C:\\Users\\amaguaya\\AppData\\Local\\Packages\\PythonSoftwareFoundation.Python.3.11_qbz5n2kfra8p0\\LocalCache\\local-packages\\Python311\\site-packages\\sklearn\\utils\\validation.py:2739: UserWarning: X does not have valid feature names, but LGBMRegressor was fitted with feature names\n",
      "  warnings.warn(\n"
     ]
    },
    {
     "name": "stdout",
     "output_type": "stream",
     "text": [
      "-> finished loop 422\n",
      "Loop 429: train 2020-03-05 00:00:00 -> 2024-03-04 00:00:00, forecast 2024-03-05 00:00:00\n",
      "  dat_slice shape: torch.Size([1462, 24, 10])  → flatten count = 35088\n"
     ]
    },
    {
     "name": "stderr",
     "output_type": "stream",
     "text": [
      "C:\\Users\\amaguaya\\AppData\\Local\\Packages\\PythonSoftwareFoundation.Python.3.11_qbz5n2kfra8p0\\LocalCache\\local-packages\\Python311\\site-packages\\sklearn\\utils\\validation.py:2739: UserWarning: X does not have valid feature names, but LGBMRegressor was fitted with feature names\n",
      "  warnings.warn(\n",
      "C:\\Users\\amaguaya\\AppData\\Local\\Packages\\PythonSoftwareFoundation.Python.3.11_qbz5n2kfra8p0\\LocalCache\\local-packages\\Python311\\site-packages\\sklearn\\utils\\validation.py:2739: UserWarning: X does not have valid feature names, but LGBMRegressor was fitted with feature names\n",
      "  warnings.warn(\n"
     ]
    },
    {
     "name": "stdout",
     "output_type": "stream",
     "text": [
      "-> finished loop 425\n",
      "Loop 430: train 2020-03-06 00:00:00 -> 2024-03-05 00:00:00, forecast 2024-03-06 00:00:00\n",
      "  dat_slice shape: torch.Size([1462, 24, 10])  → flatten count = 35088\n",
      "-> finished loop 423\n",
      "Loop 431: train 2020-03-07 00:00:00 -> 2024-03-06 00:00:00, forecast 2024-03-07 00:00:00\n",
      "  dat_slice shape: torch.Size([1462, 24, 10])  → flatten count = 35088\n"
     ]
    },
    {
     "name": "stderr",
     "output_type": "stream",
     "text": [
      "C:\\Users\\amaguaya\\AppData\\Local\\Packages\\PythonSoftwareFoundation.Python.3.11_qbz5n2kfra8p0\\LocalCache\\local-packages\\Python311\\site-packages\\sklearn\\utils\\validation.py:2739: UserWarning: X does not have valid feature names, but LGBMRegressor was fitted with feature names\n",
      "  warnings.warn(\n",
      "C:\\Users\\amaguaya\\AppData\\Local\\Packages\\PythonSoftwareFoundation.Python.3.11_qbz5n2kfra8p0\\LocalCache\\local-packages\\Python311\\site-packages\\sklearn\\utils\\validation.py:2739: UserWarning: X does not have valid feature names, but LGBMRegressor was fitted with feature names\n",
      "  warnings.warn(\n"
     ]
    },
    {
     "name": "stdout",
     "output_type": "stream",
     "text": [
      "-> finished loop 424\n",
      "Loop 432: train 2020-03-08 00:00:00 -> 2024-03-07 00:00:00, forecast 2024-03-08 00:00:00\n",
      "  dat_slice shape: torch.Size([1462, 24, 10])  → flatten count = 35088\n",
      "-> finished loop 426\n",
      "Loop 433: train 2020-03-09 00:00:00 -> 2024-03-08 00:00:00, forecast 2024-03-09 00:00:00\n",
      "  dat_slice shape: torch.Size([1462, 24, 10])  → flatten count = 35088\n"
     ]
    },
    {
     "name": "stderr",
     "output_type": "stream",
     "text": [
      "C:\\Users\\amaguaya\\AppData\\Local\\Packages\\PythonSoftwareFoundation.Python.3.11_qbz5n2kfra8p0\\LocalCache\\local-packages\\Python311\\site-packages\\sklearn\\utils\\validation.py:2739: UserWarning: X does not have valid feature names, but LGBMRegressor was fitted with feature names\n",
      "  warnings.warn(\n"
     ]
    },
    {
     "name": "stdout",
     "output_type": "stream",
     "text": [
      "-> finished loop 427\n",
      "Loop 434: train 2020-03-10 00:00:00 -> 2024-03-09 00:00:00, forecast 2024-03-10 00:00:00\n",
      "  dat_slice shape: torch.Size([1462, 24, 10])  → flatten count = 35088\n"
     ]
    },
    {
     "name": "stderr",
     "output_type": "stream",
     "text": [
      "C:\\Users\\amaguaya\\AppData\\Local\\Packages\\PythonSoftwareFoundation.Python.3.11_qbz5n2kfra8p0\\LocalCache\\local-packages\\Python311\\site-packages\\sklearn\\utils\\validation.py:2739: UserWarning: X does not have valid feature names, but LGBMRegressor was fitted with feature names\n",
      "  warnings.warn(\n"
     ]
    },
    {
     "name": "stdout",
     "output_type": "stream",
     "text": [
      "-> finished loop 428\n",
      "Loop 435: train 2020-03-11 00:00:00 -> 2024-03-10 00:00:00, forecast 2024-03-11 00:00:00\n",
      "  dat_slice shape: torch.Size([1462, 24, 10])  → flatten count = 35088\n"
     ]
    },
    {
     "name": "stderr",
     "output_type": "stream",
     "text": [
      "C:\\Users\\amaguaya\\AppData\\Local\\Packages\\PythonSoftwareFoundation.Python.3.11_qbz5n2kfra8p0\\LocalCache\\local-packages\\Python311\\site-packages\\sklearn\\utils\\validation.py:2739: UserWarning: X does not have valid feature names, but LGBMRegressor was fitted with feature names\n",
      "  warnings.warn(\n",
      "C:\\Users\\amaguaya\\AppData\\Local\\Packages\\PythonSoftwareFoundation.Python.3.11_qbz5n2kfra8p0\\LocalCache\\local-packages\\Python311\\site-packages\\sklearn\\utils\\validation.py:2739: UserWarning: X does not have valid feature names, but LGBMRegressor was fitted with feature names\n",
      "  warnings.warn(\n"
     ]
    },
    {
     "name": "stdout",
     "output_type": "stream",
     "text": [
      "-> finished loop 430\n",
      "Loop 436: train 2020-03-12 00:00:00 -> 2024-03-11 00:00:00, forecast 2024-03-12 00:00:00\n",
      "  dat_slice shape: torch.Size([1462, 24, 10])  → flatten count = 35088\n",
      "-> finished loop 431\n",
      "Loop 437: train 2020-03-13 00:00:00 -> 2024-03-12 00:00:00, forecast 2024-03-13 00:00:00\n",
      "  dat_slice shape: torch.Size([1462, 24, 10])  → flatten count = 35088\n"
     ]
    },
    {
     "name": "stderr",
     "output_type": "stream",
     "text": [
      "C:\\Users\\amaguaya\\AppData\\Local\\Packages\\PythonSoftwareFoundation.Python.3.11_qbz5n2kfra8p0\\LocalCache\\local-packages\\Python311\\site-packages\\sklearn\\utils\\validation.py:2739: UserWarning: X does not have valid feature names, but LGBMRegressor was fitted with feature names\n",
      "  warnings.warn(\n",
      "C:\\Users\\amaguaya\\AppData\\Local\\Packages\\PythonSoftwareFoundation.Python.3.11_qbz5n2kfra8p0\\LocalCache\\local-packages\\Python311\\site-packages\\sklearn\\utils\\validation.py:2739: UserWarning: X does not have valid feature names, but LGBMRegressor was fitted with feature names\n",
      "  warnings.warn(\n"
     ]
    },
    {
     "name": "stdout",
     "output_type": "stream",
     "text": [
      "-> finished loop 429\n",
      "Loop 438: train 2020-03-14 00:00:00 -> 2024-03-13 00:00:00, forecast 2024-03-14 00:00:00\n",
      "  dat_slice shape: torch.Size([1462, 24, 10])  → flatten count = 35088\n",
      "-> finished loop 432\n",
      "Loop 439: train 2020-03-15 00:00:00 -> 2024-03-14 00:00:00, forecast 2024-03-15 00:00:00\n",
      "  dat_slice shape: torch.Size([1462, 24, 10])  → flatten count = 35088\n"
     ]
    },
    {
     "name": "stderr",
     "output_type": "stream",
     "text": [
      "C:\\Users\\amaguaya\\AppData\\Local\\Packages\\PythonSoftwareFoundation.Python.3.11_qbz5n2kfra8p0\\LocalCache\\local-packages\\Python311\\site-packages\\sklearn\\utils\\validation.py:2739: UserWarning: X does not have valid feature names, but LGBMRegressor was fitted with feature names\n",
      "  warnings.warn(\n"
     ]
    },
    {
     "name": "stdout",
     "output_type": "stream",
     "text": [
      "-> finished loop 433\n",
      "Loop 440: train 2020-03-16 00:00:00 -> 2024-03-15 00:00:00, forecast 2024-03-16 00:00:00\n",
      "  dat_slice shape: torch.Size([1462, 24, 10])  → flatten count = 35088\n"
     ]
    },
    {
     "name": "stderr",
     "output_type": "stream",
     "text": [
      "C:\\Users\\amaguaya\\AppData\\Local\\Packages\\PythonSoftwareFoundation.Python.3.11_qbz5n2kfra8p0\\LocalCache\\local-packages\\Python311\\site-packages\\sklearn\\utils\\validation.py:2739: UserWarning: X does not have valid feature names, but LGBMRegressor was fitted with feature names\n",
      "  warnings.warn(\n"
     ]
    },
    {
     "name": "stdout",
     "output_type": "stream",
     "text": [
      "-> finished loop 434\n",
      "Loop 441: train 2020-03-17 00:00:00 -> 2024-03-16 00:00:00, forecast 2024-03-17 00:00:00\n",
      "  dat_slice shape: torch.Size([1462, 24, 10])  → flatten count = 35088\n"
     ]
    },
    {
     "name": "stderr",
     "output_type": "stream",
     "text": [
      "C:\\Users\\amaguaya\\AppData\\Local\\Packages\\PythonSoftwareFoundation.Python.3.11_qbz5n2kfra8p0\\LocalCache\\local-packages\\Python311\\site-packages\\sklearn\\utils\\validation.py:2739: UserWarning: X does not have valid feature names, but LGBMRegressor was fitted with feature names\n",
      "  warnings.warn(\n"
     ]
    },
    {
     "name": "stdout",
     "output_type": "stream",
     "text": [
      "-> finished loop 435\n",
      "Loop 442: train 2020-03-18 00:00:00 -> 2024-03-17 00:00:00, forecast 2024-03-18 00:00:00\n",
      "  dat_slice shape: torch.Size([1462, 24, 10])  → flatten count = 35088\n"
     ]
    },
    {
     "name": "stderr",
     "output_type": "stream",
     "text": [
      "C:\\Users\\amaguaya\\AppData\\Local\\Packages\\PythonSoftwareFoundation.Python.3.11_qbz5n2kfra8p0\\LocalCache\\local-packages\\Python311\\site-packages\\sklearn\\utils\\validation.py:2739: UserWarning: X does not have valid feature names, but LGBMRegressor was fitted with feature names\n",
      "  warnings.warn(\n"
     ]
    },
    {
     "name": "stdout",
     "output_type": "stream",
     "text": [
      "-> finished loop 437\n",
      "Loop 443: train 2020-03-19 00:00:00 -> 2024-03-18 00:00:00, forecast 2024-03-19 00:00:00\n",
      "  dat_slice shape: torch.Size([1462, 24, 10])  → flatten count = 35088\n"
     ]
    },
    {
     "name": "stderr",
     "output_type": "stream",
     "text": [
      "C:\\Users\\amaguaya\\AppData\\Local\\Packages\\PythonSoftwareFoundation.Python.3.11_qbz5n2kfra8p0\\LocalCache\\local-packages\\Python311\\site-packages\\sklearn\\utils\\validation.py:2739: UserWarning: X does not have valid feature names, but LGBMRegressor was fitted with feature names\n",
      "  warnings.warn(\n",
      "C:\\Users\\amaguaya\\AppData\\Local\\Packages\\PythonSoftwareFoundation.Python.3.11_qbz5n2kfra8p0\\LocalCache\\local-packages\\Python311\\site-packages\\sklearn\\utils\\validation.py:2739: UserWarning: X does not have valid feature names, but LGBMRegressor was fitted with feature names\n",
      "  warnings.warn(\n"
     ]
    },
    {
     "name": "stdout",
     "output_type": "stream",
     "text": [
      "-> finished loop 439\n",
      "Loop 444: train 2020-03-20 00:00:00 -> 2024-03-19 00:00:00, forecast 2024-03-20 00:00:00\n",
      "  dat_slice shape: torch.Size([1462, 24, 10])  → flatten count = 35088\n",
      "-> finished loop 436\n",
      "Loop 445: train 2020-03-21 00:00:00 -> 2024-03-20 00:00:00, forecast 2024-03-21 00:00:00\n",
      "  dat_slice shape: torch.Size([1462, 24, 10])  → flatten count = 35088\n"
     ]
    },
    {
     "name": "stderr",
     "output_type": "stream",
     "text": [
      "C:\\Users\\amaguaya\\AppData\\Local\\Packages\\PythonSoftwareFoundation.Python.3.11_qbz5n2kfra8p0\\LocalCache\\local-packages\\Python311\\site-packages\\sklearn\\utils\\validation.py:2739: UserWarning: X does not have valid feature names, but LGBMRegressor was fitted with feature names\n",
      "  warnings.warn(\n"
     ]
    },
    {
     "name": "stdout",
     "output_type": "stream",
     "text": [
      "-> finished loop 440\n",
      "Loop 446: train 2020-03-22 00:00:00 -> 2024-03-21 00:00:00, forecast 2024-03-22 00:00:00\n",
      "  dat_slice shape: torch.Size([1462, 24, 10])  → flatten count = 35088\n"
     ]
    },
    {
     "name": "stderr",
     "output_type": "stream",
     "text": [
      "C:\\Users\\amaguaya\\AppData\\Local\\Packages\\PythonSoftwareFoundation.Python.3.11_qbz5n2kfra8p0\\LocalCache\\local-packages\\Python311\\site-packages\\sklearn\\utils\\validation.py:2739: UserWarning: X does not have valid feature names, but LGBMRegressor was fitted with feature names\n",
      "  warnings.warn(\n"
     ]
    },
    {
     "name": "stdout",
     "output_type": "stream",
     "text": [
      "-> finished loop 438\n",
      "Loop 447: train 2020-03-23 00:00:00 -> 2024-03-22 00:00:00, forecast 2024-03-23 00:00:00\n",
      "  dat_slice shape: torch.Size([1462, 24, 10])  → flatten count = 35088\n"
     ]
    },
    {
     "name": "stderr",
     "output_type": "stream",
     "text": [
      "C:\\Users\\amaguaya\\AppData\\Local\\Packages\\PythonSoftwareFoundation.Python.3.11_qbz5n2kfra8p0\\LocalCache\\local-packages\\Python311\\site-packages\\sklearn\\utils\\validation.py:2739: UserWarning: X does not have valid feature names, but LGBMRegressor was fitted with feature names\n",
      "  warnings.warn(\n"
     ]
    },
    {
     "name": "stdout",
     "output_type": "stream",
     "text": [
      "-> finished loop 441\n",
      "Loop 448: train 2020-03-24 00:00:00 -> 2024-03-23 00:00:00, forecast 2024-03-24 00:00:00\n",
      "  dat_slice shape: torch.Size([1462, 24, 10])  → flatten count = 35088\n"
     ]
    },
    {
     "name": "stderr",
     "output_type": "stream",
     "text": [
      "C:\\Users\\amaguaya\\AppData\\Local\\Packages\\PythonSoftwareFoundation.Python.3.11_qbz5n2kfra8p0\\LocalCache\\local-packages\\Python311\\site-packages\\sklearn\\utils\\validation.py:2739: UserWarning: X does not have valid feature names, but LGBMRegressor was fitted with feature names\n",
      "  warnings.warn(\n"
     ]
    },
    {
     "name": "stdout",
     "output_type": "stream",
     "text": [
      "-> finished loop 442\n",
      "Loop 449: train 2020-03-25 00:00:00 -> 2024-03-24 00:00:00, forecast 2024-03-25 00:00:00\n",
      "  dat_slice shape: torch.Size([1462, 24, 10])  → flatten count = 35088\n"
     ]
    },
    {
     "name": "stderr",
     "output_type": "stream",
     "text": [
      "C:\\Users\\amaguaya\\AppData\\Local\\Packages\\PythonSoftwareFoundation.Python.3.11_qbz5n2kfra8p0\\LocalCache\\local-packages\\Python311\\site-packages\\sklearn\\utils\\validation.py:2739: UserWarning: X does not have valid feature names, but LGBMRegressor was fitted with feature names\n",
      "  warnings.warn(\n"
     ]
    },
    {
     "name": "stdout",
     "output_type": "stream",
     "text": [
      "-> finished loop 443\n",
      "Loop 450: train 2020-03-26 00:00:00 -> 2024-03-25 00:00:00, forecast 2024-03-26 00:00:00\n",
      "  dat_slice shape: torch.Size([1462, 24, 10])  → flatten count = 35088\n"
     ]
    },
    {
     "name": "stderr",
     "output_type": "stream",
     "text": [
      "C:\\Users\\amaguaya\\AppData\\Local\\Packages\\PythonSoftwareFoundation.Python.3.11_qbz5n2kfra8p0\\LocalCache\\local-packages\\Python311\\site-packages\\sklearn\\utils\\validation.py:2739: UserWarning: X does not have valid feature names, but LGBMRegressor was fitted with feature names\n",
      "  warnings.warn(\n",
      "C:\\Users\\amaguaya\\AppData\\Local\\Packages\\PythonSoftwareFoundation.Python.3.11_qbz5n2kfra8p0\\LocalCache\\local-packages\\Python311\\site-packages\\sklearn\\utils\\validation.py:2739: UserWarning: X does not have valid feature names, but LGBMRegressor was fitted with feature names\n",
      "  warnings.warn(\n"
     ]
    },
    {
     "name": "stdout",
     "output_type": "stream",
     "text": [
      "-> finished loop 445\n",
      "Loop 451: train 2020-03-27 00:00:00 -> 2024-03-26 00:00:00, forecast 2024-03-27 00:00:00\n",
      "  dat_slice shape: torch.Size([1462, 24, 10])  → flatten count = 35088\n",
      "-> finished loop 446\n",
      "Loop 452: train 2020-03-28 00:00:00 -> 2024-03-27 00:00:00, forecast 2024-03-28 00:00:00\n",
      "  dat_slice shape: torch.Size([1462, 24, 10])  → flatten count = 35088\n"
     ]
    },
    {
     "name": "stderr",
     "output_type": "stream",
     "text": [
      "C:\\Users\\amaguaya\\AppData\\Local\\Packages\\PythonSoftwareFoundation.Python.3.11_qbz5n2kfra8p0\\LocalCache\\local-packages\\Python311\\site-packages\\sklearn\\utils\\validation.py:2739: UserWarning: X does not have valid feature names, but LGBMRegressor was fitted with feature names\n",
      "  warnings.warn(\n",
      "C:\\Users\\amaguaya\\AppData\\Local\\Packages\\PythonSoftwareFoundation.Python.3.11_qbz5n2kfra8p0\\LocalCache\\local-packages\\Python311\\site-packages\\sklearn\\utils\\validation.py:2739: UserWarning: X does not have valid feature names, but LGBMRegressor was fitted with feature names\n",
      "  warnings.warn(\n"
     ]
    },
    {
     "name": "stdout",
     "output_type": "stream",
     "text": [
      "-> finished loop 444\n",
      "Loop 453: train 2020-03-29 00:00:00 -> 2024-03-28 00:00:00, forecast 2024-03-29 00:00:00\n",
      "  dat_slice shape: torch.Size([1462, 24, 10])  → flatten count = 35088\n",
      "-> finished loop 447\n",
      "Loop 454: train 2020-03-30 00:00:00 -> 2024-03-29 00:00:00, forecast 2024-03-30 00:00:00\n",
      "  dat_slice shape: torch.Size([1462, 24, 10])  → flatten count = 35088\n"
     ]
    },
    {
     "name": "stderr",
     "output_type": "stream",
     "text": [
      "C:\\Users\\amaguaya\\AppData\\Local\\Packages\\PythonSoftwareFoundation.Python.3.11_qbz5n2kfra8p0\\LocalCache\\local-packages\\Python311\\site-packages\\sklearn\\utils\\validation.py:2739: UserWarning: X does not have valid feature names, but LGBMRegressor was fitted with feature names\n",
      "  warnings.warn(\n"
     ]
    },
    {
     "name": "stdout",
     "output_type": "stream",
     "text": [
      "-> finished loop 448\n",
      "Loop 455: train 2020-03-31 00:00:00 -> 2024-03-30 00:00:00, forecast 2024-03-31 00:00:00\n",
      "  dat_slice shape: torch.Size([1462, 24, 10])  → flatten count = 35088\n"
     ]
    },
    {
     "name": "stderr",
     "output_type": "stream",
     "text": [
      "C:\\Users\\amaguaya\\AppData\\Local\\Packages\\PythonSoftwareFoundation.Python.3.11_qbz5n2kfra8p0\\LocalCache\\local-packages\\Python311\\site-packages\\sklearn\\utils\\validation.py:2739: UserWarning: X does not have valid feature names, but LGBMRegressor was fitted with feature names\n",
      "  warnings.warn(\n",
      "C:\\Users\\amaguaya\\AppData\\Local\\Packages\\PythonSoftwareFoundation.Python.3.11_qbz5n2kfra8p0\\LocalCache\\local-packages\\Python311\\site-packages\\sklearn\\utils\\validation.py:2739: UserWarning: X does not have valid feature names, but LGBMRegressor was fitted with feature names\n",
      "  warnings.warn(\n"
     ]
    },
    {
     "name": "stdout",
     "output_type": "stream",
     "text": [
      "-> finished loop 449\n",
      "Loop 456: train 2020-04-01 00:00:00 -> 2024-03-31 00:00:00, forecast 2024-04-01 00:00:00\n",
      "  dat_slice shape: torch.Size([1462, 24, 10])  → flatten count = 35088\n",
      "-> finished loop 450\n",
      "Loop 457: train 2020-04-02 00:00:00 -> 2024-04-01 00:00:00, forecast 2024-04-02 00:00:00\n",
      "  dat_slice shape: torch.Size([1462, 24, 10])  → flatten count = 35088\n"
     ]
    },
    {
     "name": "stderr",
     "output_type": "stream",
     "text": [
      "C:\\Users\\amaguaya\\AppData\\Local\\Packages\\PythonSoftwareFoundation.Python.3.11_qbz5n2kfra8p0\\LocalCache\\local-packages\\Python311\\site-packages\\sklearn\\utils\\validation.py:2739: UserWarning: X does not have valid feature names, but LGBMRegressor was fitted with feature names\n",
      "  warnings.warn(\n",
      "C:\\Users\\amaguaya\\AppData\\Local\\Packages\\PythonSoftwareFoundation.Python.3.11_qbz5n2kfra8p0\\LocalCache\\local-packages\\Python311\\site-packages\\sklearn\\utils\\validation.py:2739: UserWarning: X does not have valid feature names, but LGBMRegressor was fitted with feature names\n",
      "  warnings.warn(\n",
      "C:\\Users\\amaguaya\\AppData\\Local\\Packages\\PythonSoftwareFoundation.Python.3.11_qbz5n2kfra8p0\\LocalCache\\local-packages\\Python311\\site-packages\\sklearn\\utils\\validation.py:2739: UserWarning: X does not have valid feature names, but LGBMRegressor was fitted with feature names\n",
      "  warnings.warn(\n"
     ]
    },
    {
     "name": "stdout",
     "output_type": "stream",
     "text": [
      "-> finished loop 452\n",
      "Loop 458: train 2020-04-03 00:00:00 -> 2024-04-02 00:00:00, forecast 2024-04-03 00:00:00\n",
      "  dat_slice shape: torch.Size([1462, 24, 10])  → flatten count = 35088\n",
      "-> finished loop 451\n",
      "Loop 459: train 2020-04-04 00:00:00 -> 2024-04-03 00:00:00, forecast 2024-04-04 00:00:00\n",
      "  dat_slice shape: torch.Size([1462, 24, 10])  → flatten count = 35088\n",
      "-> finished loop 453\n",
      "Loop 460: train 2020-04-05 00:00:00 -> 2024-04-04 00:00:00, forecast 2024-04-05 00:00:00\n",
      "  dat_slice shape: torch.Size([1462, 24, 10])  → flatten count = 35088\n"
     ]
    },
    {
     "name": "stderr",
     "output_type": "stream",
     "text": [
      "C:\\Users\\amaguaya\\AppData\\Local\\Packages\\PythonSoftwareFoundation.Python.3.11_qbz5n2kfra8p0\\LocalCache\\local-packages\\Python311\\site-packages\\sklearn\\utils\\validation.py:2739: UserWarning: X does not have valid feature names, but LGBMRegressor was fitted with feature names\n",
      "  warnings.warn(\n"
     ]
    },
    {
     "name": "stdout",
     "output_type": "stream",
     "text": [
      "-> finished loop 454\n",
      "Loop 461: train 2020-04-06 00:00:00 -> 2024-04-05 00:00:00, forecast 2024-04-06 00:00:00\n",
      "  dat_slice shape: torch.Size([1462, 24, 10])  → flatten count = 35088\n"
     ]
    },
    {
     "name": "stderr",
     "output_type": "stream",
     "text": [
      "C:\\Users\\amaguaya\\AppData\\Local\\Packages\\PythonSoftwareFoundation.Python.3.11_qbz5n2kfra8p0\\LocalCache\\local-packages\\Python311\\site-packages\\sklearn\\utils\\validation.py:2739: UserWarning: X does not have valid feature names, but LGBMRegressor was fitted with feature names\n",
      "  warnings.warn(\n",
      "C:\\Users\\amaguaya\\AppData\\Local\\Packages\\PythonSoftwareFoundation.Python.3.11_qbz5n2kfra8p0\\LocalCache\\local-packages\\Python311\\site-packages\\sklearn\\utils\\validation.py:2739: UserWarning: X does not have valid feature names, but LGBMRegressor was fitted with feature names\n",
      "  warnings.warn(\n"
     ]
    },
    {
     "name": "stdout",
     "output_type": "stream",
     "text": [
      "-> finished loop 455\n",
      "Loop 462: train 2020-04-07 00:00:00 -> 2024-04-06 00:00:00, forecast 2024-04-07 00:00:00\n",
      "  dat_slice shape: torch.Size([1462, 24, 10])  → flatten count = 35088\n",
      "-> finished loop 457\n",
      "Loop 463: train 2020-04-08 00:00:00 -> 2024-04-07 00:00:00, forecast 2024-04-08 00:00:00\n",
      "  dat_slice shape: torch.Size([1462, 24, 10])  → flatten count = 35088\n"
     ]
    },
    {
     "name": "stderr",
     "output_type": "stream",
     "text": [
      "C:\\Users\\amaguaya\\AppData\\Local\\Packages\\PythonSoftwareFoundation.Python.3.11_qbz5n2kfra8p0\\LocalCache\\local-packages\\Python311\\site-packages\\sklearn\\utils\\validation.py:2739: UserWarning: X does not have valid feature names, but LGBMRegressor was fitted with feature names\n",
      "  warnings.warn(\n",
      "C:\\Users\\amaguaya\\AppData\\Local\\Packages\\PythonSoftwareFoundation.Python.3.11_qbz5n2kfra8p0\\LocalCache\\local-packages\\Python311\\site-packages\\sklearn\\utils\\validation.py:2739: UserWarning: X does not have valid feature names, but LGBMRegressor was fitted with feature names\n",
      "  warnings.warn(\n"
     ]
    },
    {
     "name": "stdout",
     "output_type": "stream",
     "text": [
      "-> finished loop 456\n",
      "Loop 464: train 2020-04-09 00:00:00 -> 2024-04-08 00:00:00, forecast 2024-04-09 00:00:00\n",
      "  dat_slice shape: torch.Size([1462, 24, 10])  → flatten count = 35088\n",
      "-> finished loop 458\n",
      "Loop 465: train 2020-04-10 00:00:00 -> 2024-04-09 00:00:00, forecast 2024-04-10 00:00:00\n",
      "  dat_slice shape: torch.Size([1462, 24, 10])  → flatten count = 35088\n"
     ]
    },
    {
     "name": "stderr",
     "output_type": "stream",
     "text": [
      "C:\\Users\\amaguaya\\AppData\\Local\\Packages\\PythonSoftwareFoundation.Python.3.11_qbz5n2kfra8p0\\LocalCache\\local-packages\\Python311\\site-packages\\sklearn\\utils\\validation.py:2739: UserWarning: X does not have valid feature names, but LGBMRegressor was fitted with feature names\n",
      "  warnings.warn(\n"
     ]
    },
    {
     "name": "stdout",
     "output_type": "stream",
     "text": [
      "-> finished loop 459\n",
      "Loop 466: train 2020-04-11 00:00:00 -> 2024-04-10 00:00:00, forecast 2024-04-11 00:00:00\n",
      "  dat_slice shape: torch.Size([1462, 24, 10])  → flatten count = 35088\n"
     ]
    },
    {
     "name": "stderr",
     "output_type": "stream",
     "text": [
      "C:\\Users\\amaguaya\\AppData\\Local\\Packages\\PythonSoftwareFoundation.Python.3.11_qbz5n2kfra8p0\\LocalCache\\local-packages\\Python311\\site-packages\\sklearn\\utils\\validation.py:2739: UserWarning: X does not have valid feature names, but LGBMRegressor was fitted with feature names\n",
      "  warnings.warn(\n",
      "C:\\Users\\amaguaya\\AppData\\Local\\Packages\\PythonSoftwareFoundation.Python.3.11_qbz5n2kfra8p0\\LocalCache\\local-packages\\Python311\\site-packages\\sklearn\\utils\\validation.py:2739: UserWarning: X does not have valid feature names, but LGBMRegressor was fitted with feature names\n",
      "  warnings.warn(\n"
     ]
    },
    {
     "name": "stdout",
     "output_type": "stream",
     "text": [
      "-> finished loop 460\n",
      "Loop 467: train 2020-04-12 00:00:00 -> 2024-04-11 00:00:00, forecast 2024-04-12 00:00:00\n",
      "  dat_slice shape: torch.Size([1462, 24, 10])  → flatten count = 35088\n",
      "-> finished loop 461\n",
      "Loop 468: train 2020-04-13 00:00:00 -> 2024-04-12 00:00:00, forecast 2024-04-13 00:00:00\n",
      "  dat_slice shape: torch.Size([1462, 24, 10])  → flatten count = 35088\n"
     ]
    },
    {
     "name": "stderr",
     "output_type": "stream",
     "text": [
      "C:\\Users\\amaguaya\\AppData\\Local\\Packages\\PythonSoftwareFoundation.Python.3.11_qbz5n2kfra8p0\\LocalCache\\local-packages\\Python311\\site-packages\\sklearn\\utils\\validation.py:2739: UserWarning: X does not have valid feature names, but LGBMRegressor was fitted with feature names\n",
      "  warnings.warn(\n"
     ]
    },
    {
     "name": "stdout",
     "output_type": "stream",
     "text": [
      "-> finished loop 463\n",
      "Loop 469: train 2020-04-14 00:00:00 -> 2024-04-13 00:00:00, forecast 2024-04-14 00:00:00\n",
      "  dat_slice shape: torch.Size([1462, 24, 10])  → flatten count = 35088\n"
     ]
    },
    {
     "name": "stderr",
     "output_type": "stream",
     "text": [
      "C:\\Users\\amaguaya\\AppData\\Local\\Packages\\PythonSoftwareFoundation.Python.3.11_qbz5n2kfra8p0\\LocalCache\\local-packages\\Python311\\site-packages\\sklearn\\utils\\validation.py:2739: UserWarning: X does not have valid feature names, but LGBMRegressor was fitted with feature names\n",
      "  warnings.warn(\n",
      "C:\\Users\\amaguaya\\AppData\\Local\\Packages\\PythonSoftwareFoundation.Python.3.11_qbz5n2kfra8p0\\LocalCache\\local-packages\\Python311\\site-packages\\sklearn\\utils\\validation.py:2739: UserWarning: X does not have valid feature names, but LGBMRegressor was fitted with feature names\n",
      "  warnings.warn(\n"
     ]
    },
    {
     "name": "stdout",
     "output_type": "stream",
     "text": [
      "-> finished loop 462\n",
      "Loop 470: train 2020-04-15 00:00:00 -> 2024-04-14 00:00:00, forecast 2024-04-15 00:00:00\n",
      "  dat_slice shape: torch.Size([1462, 24, 10])  → flatten count = 35088\n",
      "-> finished loop 465\n",
      "Loop 471: train 2020-04-16 00:00:00 -> 2024-04-15 00:00:00, forecast 2024-04-16 00:00:00\n",
      "  dat_slice shape: torch.Size([1462, 24, 10])  → flatten count = 35088\n"
     ]
    },
    {
     "name": "stderr",
     "output_type": "stream",
     "text": [
      "C:\\Users\\amaguaya\\AppData\\Local\\Packages\\PythonSoftwareFoundation.Python.3.11_qbz5n2kfra8p0\\LocalCache\\local-packages\\Python311\\site-packages\\sklearn\\utils\\validation.py:2739: UserWarning: X does not have valid feature names, but LGBMRegressor was fitted with feature names\n",
      "  warnings.warn(\n"
     ]
    },
    {
     "name": "stdout",
     "output_type": "stream",
     "text": [
      "-> finished loop 466\n",
      "Loop 472: train 2020-04-17 00:00:00 -> 2024-04-16 00:00:00, forecast 2024-04-17 00:00:00\n",
      "  dat_slice shape: torch.Size([1462, 24, 10])  → flatten count = 35088\n"
     ]
    },
    {
     "name": "stderr",
     "output_type": "stream",
     "text": [
      "C:\\Users\\amaguaya\\AppData\\Local\\Packages\\PythonSoftwareFoundation.Python.3.11_qbz5n2kfra8p0\\LocalCache\\local-packages\\Python311\\site-packages\\sklearn\\utils\\validation.py:2739: UserWarning: X does not have valid feature names, but LGBMRegressor was fitted with feature names\n",
      "  warnings.warn(\n"
     ]
    },
    {
     "name": "stdout",
     "output_type": "stream",
     "text": [
      "-> finished loop 464\n",
      "Loop 473: train 2020-04-18 00:00:00 -> 2024-04-17 00:00:00, forecast 2024-04-18 00:00:00\n",
      "  dat_slice shape: torch.Size([1462, 24, 10])  → flatten count = 35088\n"
     ]
    },
    {
     "name": "stderr",
     "output_type": "stream",
     "text": [
      "C:\\Users\\amaguaya\\AppData\\Local\\Packages\\PythonSoftwareFoundation.Python.3.11_qbz5n2kfra8p0\\LocalCache\\local-packages\\Python311\\site-packages\\sklearn\\utils\\validation.py:2739: UserWarning: X does not have valid feature names, but LGBMRegressor was fitted with feature names\n",
      "  warnings.warn(\n",
      "C:\\Users\\amaguaya\\AppData\\Local\\Packages\\PythonSoftwareFoundation.Python.3.11_qbz5n2kfra8p0\\LocalCache\\local-packages\\Python311\\site-packages\\sklearn\\utils\\validation.py:2739: UserWarning: X does not have valid feature names, but LGBMRegressor was fitted with feature names\n",
      "  warnings.warn(\n"
     ]
    },
    {
     "name": "stdout",
     "output_type": "stream",
     "text": [
      "-> finished loop 468\n",
      "Loop 474: train 2020-04-19 00:00:00 -> 2024-04-18 00:00:00, forecast 2024-04-19 00:00:00\n",
      "  dat_slice shape: torch.Size([1462, 24, 10])  → flatten count = 35088\n",
      "-> finished loop 467\n",
      "Loop 475: train 2020-04-20 00:00:00 -> 2024-04-19 00:00:00, forecast 2024-04-20 00:00:00\n",
      "  dat_slice shape: torch.Size([1462, 24, 10])  → flatten count = 35088\n"
     ]
    },
    {
     "name": "stderr",
     "output_type": "stream",
     "text": [
      "C:\\Users\\amaguaya\\AppData\\Local\\Packages\\PythonSoftwareFoundation.Python.3.11_qbz5n2kfra8p0\\LocalCache\\local-packages\\Python311\\site-packages\\sklearn\\utils\\validation.py:2739: UserWarning: X does not have valid feature names, but LGBMRegressor was fitted with feature names\n",
      "  warnings.warn(\n"
     ]
    },
    {
     "name": "stdout",
     "output_type": "stream",
     "text": [
      "-> finished loop 469\n",
      "Loop 476: train 2020-04-21 00:00:00 -> 2024-04-20 00:00:00, forecast 2024-04-21 00:00:00\n",
      "  dat_slice shape: torch.Size([1462, 24, 10])  → flatten count = 35088\n"
     ]
    },
    {
     "name": "stderr",
     "output_type": "stream",
     "text": [
      "C:\\Users\\amaguaya\\AppData\\Local\\Packages\\PythonSoftwareFoundation.Python.3.11_qbz5n2kfra8p0\\LocalCache\\local-packages\\Python311\\site-packages\\sklearn\\utils\\validation.py:2739: UserWarning: X does not have valid feature names, but LGBMRegressor was fitted with feature names\n",
      "  warnings.warn(\n",
      "C:\\Users\\amaguaya\\AppData\\Local\\Packages\\PythonSoftwareFoundation.Python.3.11_qbz5n2kfra8p0\\LocalCache\\local-packages\\Python311\\site-packages\\sklearn\\utils\\validation.py:2739: UserWarning: X does not have valid feature names, but LGBMRegressor was fitted with feature names\n",
      "  warnings.warn(\n",
      "C:\\Users\\amaguaya\\AppData\\Local\\Packages\\PythonSoftwareFoundation.Python.3.11_qbz5n2kfra8p0\\LocalCache\\local-packages\\Python311\\site-packages\\sklearn\\utils\\validation.py:2739: UserWarning: X does not have valid feature names, but LGBMRegressor was fitted with feature names\n",
      "  warnings.warn(\n"
     ]
    },
    {
     "name": "stdout",
     "output_type": "stream",
     "text": [
      "-> finished loop 471\n",
      "Loop 477: train 2020-04-22 00:00:00 -> 2024-04-21 00:00:00, forecast 2024-04-22 00:00:00\n",
      "  dat_slice shape: torch.Size([1462, 24, 10])  → flatten count = 35088\n",
      "-> finished loop 470\n",
      "Loop 478: train 2020-04-23 00:00:00 -> 2024-04-22 00:00:00, forecast 2024-04-23 00:00:00\n",
      "  dat_slice shape: torch.Size([1462, 24, 10])  → flatten count = 35088\n",
      "-> finished loop 472\n",
      "Loop 479: train 2020-04-24 00:00:00 -> 2024-04-23 00:00:00, forecast 2024-04-24 00:00:00\n",
      "  dat_slice shape: torch.Size([1462, 24, 10])  → flatten count = 35088\n"
     ]
    },
    {
     "name": "stderr",
     "output_type": "stream",
     "text": [
      "C:\\Users\\amaguaya\\AppData\\Local\\Packages\\PythonSoftwareFoundation.Python.3.11_qbz5n2kfra8p0\\LocalCache\\local-packages\\Python311\\site-packages\\sklearn\\utils\\validation.py:2739: UserWarning: X does not have valid feature names, but LGBMRegressor was fitted with feature names\n",
      "  warnings.warn(\n"
     ]
    },
    {
     "name": "stdout",
     "output_type": "stream",
     "text": [
      "-> finished loop 473\n",
      "Loop 480: train 2020-04-25 00:00:00 -> 2024-04-24 00:00:00, forecast 2024-04-25 00:00:00\n",
      "  dat_slice shape: torch.Size([1462, 24, 10])  → flatten count = 35088\n"
     ]
    },
    {
     "name": "stderr",
     "output_type": "stream",
     "text": [
      "C:\\Users\\amaguaya\\AppData\\Local\\Packages\\PythonSoftwareFoundation.Python.3.11_qbz5n2kfra8p0\\LocalCache\\local-packages\\Python311\\site-packages\\sklearn\\utils\\validation.py:2739: UserWarning: X does not have valid feature names, but LGBMRegressor was fitted with feature names\n",
      "  warnings.warn(\n"
     ]
    },
    {
     "name": "stdout",
     "output_type": "stream",
     "text": [
      "-> finished loop 474\n",
      "Loop 481: train 2020-04-26 00:00:00 -> 2024-04-25 00:00:00, forecast 2024-04-26 00:00:00\n",
      "  dat_slice shape: torch.Size([1462, 24, 10])  → flatten count = 35088\n"
     ]
    },
    {
     "name": "stderr",
     "output_type": "stream",
     "text": [
      "C:\\Users\\amaguaya\\AppData\\Local\\Packages\\PythonSoftwareFoundation.Python.3.11_qbz5n2kfra8p0\\LocalCache\\local-packages\\Python311\\site-packages\\sklearn\\utils\\validation.py:2739: UserWarning: X does not have valid feature names, but LGBMRegressor was fitted with feature names\n",
      "  warnings.warn(\n"
     ]
    },
    {
     "name": "stdout",
     "output_type": "stream",
     "text": [
      "-> finished loop 475\n",
      "Loop 482: train 2020-04-27 00:00:00 -> 2024-04-26 00:00:00, forecast 2024-04-27 00:00:00\n",
      "  dat_slice shape: torch.Size([1462, 24, 10])  → flatten count = 35088\n"
     ]
    },
    {
     "name": "stderr",
     "output_type": "stream",
     "text": [
      "C:\\Users\\amaguaya\\AppData\\Local\\Packages\\PythonSoftwareFoundation.Python.3.11_qbz5n2kfra8p0\\LocalCache\\local-packages\\Python311\\site-packages\\sklearn\\utils\\validation.py:2739: UserWarning: X does not have valid feature names, but LGBMRegressor was fitted with feature names\n",
      "  warnings.warn(\n"
     ]
    },
    {
     "name": "stdout",
     "output_type": "stream",
     "text": [
      "-> finished loop 476\n",
      "Loop 483: train 2020-04-28 00:00:00 -> 2024-04-27 00:00:00, forecast 2024-04-28 00:00:00\n",
      "  dat_slice shape: torch.Size([1462, 24, 10])  → flatten count = 35088\n"
     ]
    },
    {
     "name": "stderr",
     "output_type": "stream",
     "text": [
      "C:\\Users\\amaguaya\\AppData\\Local\\Packages\\PythonSoftwareFoundation.Python.3.11_qbz5n2kfra8p0\\LocalCache\\local-packages\\Python311\\site-packages\\sklearn\\utils\\validation.py:2739: UserWarning: X does not have valid feature names, but LGBMRegressor was fitted with feature names\n",
      "  warnings.warn(\n"
     ]
    },
    {
     "name": "stdout",
     "output_type": "stream",
     "text": [
      "-> finished loop 477\n",
      "Loop 484: train 2020-04-29 00:00:00 -> 2024-04-28 00:00:00, forecast 2024-04-29 00:00:00\n",
      "  dat_slice shape: torch.Size([1462, 24, 10])  → flatten count = 35088\n"
     ]
    },
    {
     "name": "stderr",
     "output_type": "stream",
     "text": [
      "C:\\Users\\amaguaya\\AppData\\Local\\Packages\\PythonSoftwareFoundation.Python.3.11_qbz5n2kfra8p0\\LocalCache\\local-packages\\Python311\\site-packages\\sklearn\\utils\\validation.py:2739: UserWarning: X does not have valid feature names, but LGBMRegressor was fitted with feature names\n",
      "  warnings.warn(\n",
      "C:\\Users\\amaguaya\\AppData\\Local\\Packages\\PythonSoftwareFoundation.Python.3.11_qbz5n2kfra8p0\\LocalCache\\local-packages\\Python311\\site-packages\\sklearn\\utils\\validation.py:2739: UserWarning: X does not have valid feature names, but LGBMRegressor was fitted with feature names\n",
      "  warnings.warn(\n"
     ]
    },
    {
     "name": "stdout",
     "output_type": "stream",
     "text": [
      "-> finished loop 479\n",
      "Loop 485: train 2020-04-30 00:00:00 -> 2024-04-29 00:00:00, forecast 2024-04-30 00:00:00\n",
      "  dat_slice shape: torch.Size([1462, 24, 10])  → flatten count = 35088\n",
      "-> finished loop 478\n",
      "Loop 486: train 2020-05-01 00:00:00 -> 2024-04-30 00:00:00, forecast 2024-05-01 00:00:00\n",
      "  dat_slice shape: torch.Size([1462, 24, 10])  → flatten count = 35088\n"
     ]
    },
    {
     "name": "stderr",
     "output_type": "stream",
     "text": [
      "C:\\Users\\amaguaya\\AppData\\Local\\Packages\\PythonSoftwareFoundation.Python.3.11_qbz5n2kfra8p0\\LocalCache\\local-packages\\Python311\\site-packages\\sklearn\\utils\\validation.py:2739: UserWarning: X does not have valid feature names, but LGBMRegressor was fitted with feature names\n",
      "  warnings.warn(\n",
      "C:\\Users\\amaguaya\\AppData\\Local\\Packages\\PythonSoftwareFoundation.Python.3.11_qbz5n2kfra8p0\\LocalCache\\local-packages\\Python311\\site-packages\\sklearn\\utils\\validation.py:2739: UserWarning: X does not have valid feature names, but LGBMRegressor was fitted with feature names\n",
      "  warnings.warn(\n",
      "C:\\Users\\amaguaya\\AppData\\Local\\Packages\\PythonSoftwareFoundation.Python.3.11_qbz5n2kfra8p0\\LocalCache\\local-packages\\Python311\\site-packages\\sklearn\\utils\\validation.py:2739: UserWarning: X does not have valid feature names, but LGBMRegressor was fitted with feature names\n",
      "  warnings.warn(\n"
     ]
    },
    {
     "name": "stdout",
     "output_type": "stream",
     "text": [
      "-> finished loop 480\n",
      "Loop 487: train 2020-05-02 00:00:00 -> 2024-05-01 00:00:00, forecast 2024-05-02 00:00:00\n",
      "  dat_slice shape: torch.Size([1462, 24, 10])  → flatten count = 35088\n",
      "-> finished loop 481\n",
      "Loop 488: train 2020-05-03 00:00:00 -> 2024-05-02 00:00:00, forecast 2024-05-03 00:00:00\n",
      "  dat_slice shape: torch.Size([1462, 24, 10])  → flatten count = 35088\n",
      "-> finished loop 482\n",
      "Loop 489: train 2020-05-04 00:00:00 -> 2024-05-03 00:00:00, forecast 2024-05-04 00:00:00\n",
      "  dat_slice shape: torch.Size([1462, 24, 10])  → flatten count = 35088\n"
     ]
    },
    {
     "name": "stderr",
     "output_type": "stream",
     "text": [
      "C:\\Users\\amaguaya\\AppData\\Local\\Packages\\PythonSoftwareFoundation.Python.3.11_qbz5n2kfra8p0\\LocalCache\\local-packages\\Python311\\site-packages\\sklearn\\utils\\validation.py:2739: UserWarning: X does not have valid feature names, but LGBMRegressor was fitted with feature names\n",
      "  warnings.warn(\n"
     ]
    },
    {
     "name": "stdout",
     "output_type": "stream",
     "text": [
      "-> finished loop 483\n",
      "Loop 490: train 2020-05-05 00:00:00 -> 2024-05-04 00:00:00, forecast 2024-05-05 00:00:00\n",
      "  dat_slice shape: torch.Size([1462, 24, 10])  → flatten count = 35088\n"
     ]
    },
    {
     "name": "stderr",
     "output_type": "stream",
     "text": [
      "C:\\Users\\amaguaya\\AppData\\Local\\Packages\\PythonSoftwareFoundation.Python.3.11_qbz5n2kfra8p0\\LocalCache\\local-packages\\Python311\\site-packages\\sklearn\\utils\\validation.py:2739: UserWarning: X does not have valid feature names, but LGBMRegressor was fitted with feature names\n",
      "  warnings.warn(\n",
      "C:\\Users\\amaguaya\\AppData\\Local\\Packages\\PythonSoftwareFoundation.Python.3.11_qbz5n2kfra8p0\\LocalCache\\local-packages\\Python311\\site-packages\\sklearn\\utils\\validation.py:2739: UserWarning: X does not have valid feature names, but LGBMRegressor was fitted with feature names\n",
      "  warnings.warn(\n"
     ]
    },
    {
     "name": "stdout",
     "output_type": "stream",
     "text": [
      "-> finished loop 484\n",
      "Loop 491: train 2020-05-06 00:00:00 -> 2024-05-05 00:00:00, forecast 2024-05-06 00:00:00\n",
      "  dat_slice shape: torch.Size([1462, 24, 10])  → flatten count = 35088\n",
      "-> finished loop 485\n",
      "Loop 492: train 2020-05-07 00:00:00 -> 2024-05-06 00:00:00, forecast 2024-05-07 00:00:00\n",
      "  dat_slice shape: torch.Size([1462, 24, 10])  → flatten count = 35088\n"
     ]
    },
    {
     "name": "stderr",
     "output_type": "stream",
     "text": [
      "C:\\Users\\amaguaya\\AppData\\Local\\Packages\\PythonSoftwareFoundation.Python.3.11_qbz5n2kfra8p0\\LocalCache\\local-packages\\Python311\\site-packages\\sklearn\\utils\\validation.py:2739: UserWarning: X does not have valid feature names, but LGBMRegressor was fitted with feature names\n",
      "  warnings.warn(\n"
     ]
    },
    {
     "name": "stdout",
     "output_type": "stream",
     "text": [
      "-> finished loop 486\n",
      "Loop 493: train 2020-05-08 00:00:00 -> 2024-05-07 00:00:00, forecast 2024-05-08 00:00:00\n",
      "  dat_slice shape: torch.Size([1462, 24, 10])  → flatten count = 35088\n"
     ]
    },
    {
     "name": "stderr",
     "output_type": "stream",
     "text": [
      "C:\\Users\\amaguaya\\AppData\\Local\\Packages\\PythonSoftwareFoundation.Python.3.11_qbz5n2kfra8p0\\LocalCache\\local-packages\\Python311\\site-packages\\sklearn\\utils\\validation.py:2739: UserWarning: X does not have valid feature names, but LGBMRegressor was fitted with feature names\n",
      "  warnings.warn(\n",
      "C:\\Users\\amaguaya\\AppData\\Local\\Packages\\PythonSoftwareFoundation.Python.3.11_qbz5n2kfra8p0\\LocalCache\\local-packages\\Python311\\site-packages\\sklearn\\utils\\validation.py:2739: UserWarning: X does not have valid feature names, but LGBMRegressor was fitted with feature names\n",
      "  warnings.warn(\n",
      "C:\\Users\\amaguaya\\AppData\\Local\\Packages\\PythonSoftwareFoundation.Python.3.11_qbz5n2kfra8p0\\LocalCache\\local-packages\\Python311\\site-packages\\sklearn\\utils\\validation.py:2739: UserWarning: X does not have valid feature names, but LGBMRegressor was fitted with feature names\n",
      "  warnings.warn(\n"
     ]
    },
    {
     "name": "stdout",
     "output_type": "stream",
     "text": [
      "-> finished loop 488\n",
      "Loop 494: train 2020-05-09 00:00:00 -> 2024-05-08 00:00:00, forecast 2024-05-09 00:00:00\n",
      "  dat_slice shape: torch.Size([1462, 24, 10])  → flatten count = 35088\n",
      "-> finished loop 487\n",
      "Loop 495: train 2020-05-10 00:00:00 -> 2024-05-09 00:00:00, forecast 2024-05-10 00:00:00\n",
      "  dat_slice shape: torch.Size([1462, 24, 10])  → flatten count = 35088\n",
      "-> finished loop 490\n",
      "Loop 496: train 2020-05-11 00:00:00 -> 2024-05-10 00:00:00, forecast 2024-05-11 00:00:00\n",
      "  dat_slice shape: torch.Size([1462, 24, 10])  → flatten count = 35088\n"
     ]
    },
    {
     "name": "stderr",
     "output_type": "stream",
     "text": [
      "C:\\Users\\amaguaya\\AppData\\Local\\Packages\\PythonSoftwareFoundation.Python.3.11_qbz5n2kfra8p0\\LocalCache\\local-packages\\Python311\\site-packages\\sklearn\\utils\\validation.py:2739: UserWarning: X does not have valid feature names, but LGBMRegressor was fitted with feature names\n",
      "  warnings.warn(\n"
     ]
    },
    {
     "name": "stdout",
     "output_type": "stream",
     "text": [
      "-> finished loop 489\n",
      "Loop 497: train 2020-05-12 00:00:00 -> 2024-05-11 00:00:00, forecast 2024-05-12 00:00:00\n",
      "  dat_slice shape: torch.Size([1462, 24, 10])  → flatten count = 35088\n"
     ]
    },
    {
     "name": "stderr",
     "output_type": "stream",
     "text": [
      "C:\\Users\\amaguaya\\AppData\\Local\\Packages\\PythonSoftwareFoundation.Python.3.11_qbz5n2kfra8p0\\LocalCache\\local-packages\\Python311\\site-packages\\sklearn\\utils\\validation.py:2739: UserWarning: X does not have valid feature names, but LGBMRegressor was fitted with feature names\n",
      "  warnings.warn(\n"
     ]
    },
    {
     "name": "stdout",
     "output_type": "stream",
     "text": [
      "-> finished loop 491\n",
      "Loop 498: train 2020-05-13 00:00:00 -> 2024-05-12 00:00:00, forecast 2024-05-13 00:00:00\n",
      "  dat_slice shape: torch.Size([1462, 24, 10])  → flatten count = 35088\n"
     ]
    },
    {
     "name": "stderr",
     "output_type": "stream",
     "text": [
      "C:\\Users\\amaguaya\\AppData\\Local\\Packages\\PythonSoftwareFoundation.Python.3.11_qbz5n2kfra8p0\\LocalCache\\local-packages\\Python311\\site-packages\\sklearn\\utils\\validation.py:2739: UserWarning: X does not have valid feature names, but LGBMRegressor was fitted with feature names\n",
      "  warnings.warn(\n",
      "C:\\Users\\amaguaya\\AppData\\Local\\Packages\\PythonSoftwareFoundation.Python.3.11_qbz5n2kfra8p0\\LocalCache\\local-packages\\Python311\\site-packages\\sklearn\\utils\\validation.py:2739: UserWarning: X does not have valid feature names, but LGBMRegressor was fitted with feature names\n",
      "  warnings.warn(\n"
     ]
    },
    {
     "name": "stdout",
     "output_type": "stream",
     "text": [
      "-> finished loop 492\n",
      "Loop 499: train 2020-05-14 00:00:00 -> 2024-05-13 00:00:00, forecast 2024-05-14 00:00:00\n",
      "  dat_slice shape: torch.Size([1462, 24, 10])  → flatten count = 35088\n",
      "-> finished loop 493\n",
      "Loop 500: train 2020-05-15 00:00:00 -> 2024-05-14 00:00:00, forecast 2024-05-15 00:00:00\n",
      "  dat_slice shape: torch.Size([1462, 24, 10])  → flatten count = 35088\n"
     ]
    },
    {
     "name": "stderr",
     "output_type": "stream",
     "text": [
      "C:\\Users\\amaguaya\\AppData\\Local\\Packages\\PythonSoftwareFoundation.Python.3.11_qbz5n2kfra8p0\\LocalCache\\local-packages\\Python311\\site-packages\\sklearn\\utils\\validation.py:2739: UserWarning: X does not have valid feature names, but LGBMRegressor was fitted with feature names\n",
      "  warnings.warn(\n",
      "C:\\Users\\amaguaya\\AppData\\Local\\Packages\\PythonSoftwareFoundation.Python.3.11_qbz5n2kfra8p0\\LocalCache\\local-packages\\Python311\\site-packages\\sklearn\\utils\\validation.py:2739: UserWarning: X does not have valid feature names, but LGBMRegressor was fitted with feature names\n",
      "  warnings.warn(\n"
     ]
    },
    {
     "name": "stdout",
     "output_type": "stream",
     "text": [
      "-> finished loop 496\n",
      "Loop 501: train 2020-05-16 00:00:00 -> 2024-05-15 00:00:00, forecast 2024-05-16 00:00:00\n",
      "  dat_slice shape: torch.Size([1462, 24, 10])  → flatten count = 35088\n",
      "-> finished loop 495\n",
      "Loop 502: train 2020-05-17 00:00:00 -> 2024-05-16 00:00:00, forecast 2024-05-17 00:00:00\n",
      "  dat_slice shape: torch.Size([1462, 24, 10])  → flatten count = 35088\n"
     ]
    },
    {
     "name": "stderr",
     "output_type": "stream",
     "text": [
      "C:\\Users\\amaguaya\\AppData\\Local\\Packages\\PythonSoftwareFoundation.Python.3.11_qbz5n2kfra8p0\\LocalCache\\local-packages\\Python311\\site-packages\\sklearn\\utils\\validation.py:2739: UserWarning: X does not have valid feature names, but LGBMRegressor was fitted with feature names\n",
      "  warnings.warn(\n",
      "C:\\Users\\amaguaya\\AppData\\Local\\Packages\\PythonSoftwareFoundation.Python.3.11_qbz5n2kfra8p0\\LocalCache\\local-packages\\Python311\\site-packages\\sklearn\\utils\\validation.py:2739: UserWarning: X does not have valid feature names, but LGBMRegressor was fitted with feature names\n",
      "  warnings.warn(\n",
      "C:\\Users\\amaguaya\\AppData\\Local\\Packages\\PythonSoftwareFoundation.Python.3.11_qbz5n2kfra8p0\\LocalCache\\local-packages\\Python311\\site-packages\\sklearn\\utils\\validation.py:2739: UserWarning: X does not have valid feature names, but LGBMRegressor was fitted with feature names\n",
      "  warnings.warn(\n"
     ]
    },
    {
     "name": "stdout",
     "output_type": "stream",
     "text": [
      "-> finished loop 494\n",
      "Loop 503: train 2020-05-18 00:00:00 -> 2024-05-17 00:00:00, forecast 2024-05-18 00:00:00\n",
      "  dat_slice shape: torch.Size([1462, 24, 10])  → flatten count = 35088\n",
      "-> finished loop 497\n",
      "Loop 504: train 2020-05-19 00:00:00 -> 2024-05-18 00:00:00, forecast 2024-05-19 00:00:00\n",
      "  dat_slice shape: torch.Size([1462, 24, 10])  → flatten count = 35088\n",
      "-> finished loop 498\n",
      "Loop 505: train 2020-05-20 00:00:00 -> 2024-05-19 00:00:00, forecast 2024-05-20 00:00:00\n",
      "  dat_slice shape: torch.Size([1462, 24, 10])  → flatten count = 35088\n"
     ]
    },
    {
     "name": "stderr",
     "output_type": "stream",
     "text": [
      "C:\\Users\\amaguaya\\AppData\\Local\\Packages\\PythonSoftwareFoundation.Python.3.11_qbz5n2kfra8p0\\LocalCache\\local-packages\\Python311\\site-packages\\sklearn\\utils\\validation.py:2739: UserWarning: X does not have valid feature names, but LGBMRegressor was fitted with feature names\n",
      "  warnings.warn(\n"
     ]
    },
    {
     "name": "stdout",
     "output_type": "stream",
     "text": [
      "-> finished loop 499\n",
      "Loop 506: train 2020-05-21 00:00:00 -> 2024-05-20 00:00:00, forecast 2024-05-21 00:00:00\n",
      "  dat_slice shape: torch.Size([1462, 24, 10])  → flatten count = 35088\n"
     ]
    },
    {
     "name": "stderr",
     "output_type": "stream",
     "text": [
      "C:\\Users\\amaguaya\\AppData\\Local\\Packages\\PythonSoftwareFoundation.Python.3.11_qbz5n2kfra8p0\\LocalCache\\local-packages\\Python311\\site-packages\\sklearn\\utils\\validation.py:2739: UserWarning: X does not have valid feature names, but LGBMRegressor was fitted with feature names\n",
      "  warnings.warn(\n"
     ]
    },
    {
     "name": "stdout",
     "output_type": "stream",
     "text": [
      "-> finished loop 500\n",
      "Loop 507: train 2020-05-22 00:00:00 -> 2024-05-21 00:00:00, forecast 2024-05-22 00:00:00\n",
      "  dat_slice shape: torch.Size([1462, 24, 10])  → flatten count = 35088\n"
     ]
    },
    {
     "name": "stderr",
     "output_type": "stream",
     "text": [
      "C:\\Users\\amaguaya\\AppData\\Local\\Packages\\PythonSoftwareFoundation.Python.3.11_qbz5n2kfra8p0\\LocalCache\\local-packages\\Python311\\site-packages\\sklearn\\utils\\validation.py:2739: UserWarning: X does not have valid feature names, but LGBMRegressor was fitted with feature names\n",
      "  warnings.warn(\n",
      "C:\\Users\\amaguaya\\AppData\\Local\\Packages\\PythonSoftwareFoundation.Python.3.11_qbz5n2kfra8p0\\LocalCache\\local-packages\\Python311\\site-packages\\sklearn\\utils\\validation.py:2739: UserWarning: X does not have valid feature names, but LGBMRegressor was fitted with feature names\n",
      "  warnings.warn(\n"
     ]
    },
    {
     "name": "stdout",
     "output_type": "stream",
     "text": [
      "-> finished loop 501\n",
      "Loop 508: train 2020-05-23 00:00:00 -> 2024-05-22 00:00:00, forecast 2024-05-23 00:00:00\n",
      "  dat_slice shape: torch.Size([1462, 24, 10])  → flatten count = 35088\n",
      "-> finished loop 502\n",
      "Loop 509: train 2020-05-24 00:00:00 -> 2024-05-23 00:00:00, forecast 2024-05-24 00:00:00\n",
      "  dat_slice shape: torch.Size([1462, 24, 10])  → flatten count = 35088\n"
     ]
    },
    {
     "name": "stderr",
     "output_type": "stream",
     "text": [
      "C:\\Users\\amaguaya\\AppData\\Local\\Packages\\PythonSoftwareFoundation.Python.3.11_qbz5n2kfra8p0\\LocalCache\\local-packages\\Python311\\site-packages\\sklearn\\utils\\validation.py:2739: UserWarning: X does not have valid feature names, but LGBMRegressor was fitted with feature names\n",
      "  warnings.warn(\n",
      "C:\\Users\\amaguaya\\AppData\\Local\\Packages\\PythonSoftwareFoundation.Python.3.11_qbz5n2kfra8p0\\LocalCache\\local-packages\\Python311\\site-packages\\sklearn\\utils\\validation.py:2739: UserWarning: X does not have valid feature names, but LGBMRegressor was fitted with feature names\n",
      "  warnings.warn(\n",
      "C:\\Users\\amaguaya\\AppData\\Local\\Packages\\PythonSoftwareFoundation.Python.3.11_qbz5n2kfra8p0\\LocalCache\\local-packages\\Python311\\site-packages\\sklearn\\utils\\validation.py:2739: UserWarning: X does not have valid feature names, but LGBMRegressor was fitted with feature names\n",
      "  warnings.warn(\n"
     ]
    },
    {
     "name": "stdout",
     "output_type": "stream",
     "text": [
      "-> finished loop 504\n",
      "Loop 510: train 2020-05-25 00:00:00 -> 2024-05-24 00:00:00, forecast 2024-05-25 00:00:00\n",
      "  dat_slice shape: torch.Size([1462, 24, 10])  → flatten count = 35088\n",
      "-> finished loop 505\n",
      "Loop 511: train 2020-05-26 00:00:00 -> 2024-05-25 00:00:00, forecast 2024-05-26 00:00:00\n",
      "  dat_slice shape: torch.Size([1462, 24, 10])  → flatten count = 35088\n",
      "-> finished loop 503\n",
      "Loop 512: train 2020-05-27 00:00:00 -> 2024-05-26 00:00:00, forecast 2024-05-27 00:00:00\n",
      "  dat_slice shape: torch.Size([1462, 24, 10])  → flatten count = 35088\n",
      "-> finished loop 506\n",
      "Loop 513: train 2020-05-28 00:00:00 -> 2024-05-27 00:00:00, forecast 2024-05-28 00:00:00\n",
      "  dat_slice shape: torch.Size([1462, 24, 10])  → flatten count = 35088\n"
     ]
    },
    {
     "name": "stderr",
     "output_type": "stream",
     "text": [
      "C:\\Users\\amaguaya\\AppData\\Local\\Packages\\PythonSoftwareFoundation.Python.3.11_qbz5n2kfra8p0\\LocalCache\\local-packages\\Python311\\site-packages\\sklearn\\utils\\validation.py:2739: UserWarning: X does not have valid feature names, but LGBMRegressor was fitted with feature names\n",
      "  warnings.warn(\n",
      "C:\\Users\\amaguaya\\AppData\\Local\\Packages\\PythonSoftwareFoundation.Python.3.11_qbz5n2kfra8p0\\LocalCache\\local-packages\\Python311\\site-packages\\sklearn\\utils\\validation.py:2739: UserWarning: X does not have valid feature names, but LGBMRegressor was fitted with feature names\n",
      "  warnings.warn(\n"
     ]
    },
    {
     "name": "stdout",
     "output_type": "stream",
     "text": [
      "-> finished loop 507\n",
      "Loop 514: train 2020-05-29 00:00:00 -> 2024-05-28 00:00:00, forecast 2024-05-29 00:00:00\n",
      "  dat_slice shape: torch.Size([1462, 24, 10])  → flatten count = 35088\n"
     ]
    },
    {
     "name": "stderr",
     "output_type": "stream",
     "text": [
      "C:\\Users\\amaguaya\\AppData\\Local\\Packages\\PythonSoftwareFoundation.Python.3.11_qbz5n2kfra8p0\\LocalCache\\local-packages\\Python311\\site-packages\\sklearn\\utils\\validation.py:2739: UserWarning: X does not have valid feature names, but LGBMRegressor was fitted with feature names\n",
      "  warnings.warn(\n"
     ]
    },
    {
     "name": "stdout",
     "output_type": "stream",
     "text": [
      "-> finished loop 508\n",
      "Loop 515: train 2020-05-30 00:00:00 -> 2024-05-29 00:00:00, forecast 2024-05-30 00:00:00\n",
      "  dat_slice shape: torch.Size([1462, 24, 10])  → flatten count = 35088\n"
     ]
    },
    {
     "name": "stderr",
     "output_type": "stream",
     "text": [
      "C:\\Users\\amaguaya\\AppData\\Local\\Packages\\PythonSoftwareFoundation.Python.3.11_qbz5n2kfra8p0\\LocalCache\\local-packages\\Python311\\site-packages\\sklearn\\utils\\validation.py:2739: UserWarning: X does not have valid feature names, but LGBMRegressor was fitted with feature names\n",
      "  warnings.warn(\n",
      "C:\\Users\\amaguaya\\AppData\\Local\\Packages\\PythonSoftwareFoundation.Python.3.11_qbz5n2kfra8p0\\LocalCache\\local-packages\\Python311\\site-packages\\sklearn\\utils\\validation.py:2739: UserWarning: X does not have valid feature names, but LGBMRegressor was fitted with feature names\n",
      "  warnings.warn(\n"
     ]
    },
    {
     "name": "stdout",
     "output_type": "stream",
     "text": [
      "-> finished loop 509\n",
      "Loop 516: train 2020-05-31 00:00:00 -> 2024-05-30 00:00:00, forecast 2024-05-31 00:00:00\n",
      "  dat_slice shape: torch.Size([1462, 24, 10])  → flatten count = 35088\n",
      "-> finished loop 511\n",
      "Loop 517: train 2020-06-01 00:00:00 -> 2024-05-31 00:00:00, forecast 2024-06-01 00:00:00\n",
      "  dat_slice shape: torch.Size([1462, 24, 10])  → flatten count = 35088\n"
     ]
    },
    {
     "name": "stderr",
     "output_type": "stream",
     "text": [
      "C:\\Users\\amaguaya\\AppData\\Local\\Packages\\PythonSoftwareFoundation.Python.3.11_qbz5n2kfra8p0\\LocalCache\\local-packages\\Python311\\site-packages\\sklearn\\utils\\validation.py:2739: UserWarning: X does not have valid feature names, but LGBMRegressor was fitted with feature names\n",
      "  warnings.warn(\n",
      "C:\\Users\\amaguaya\\AppData\\Local\\Packages\\PythonSoftwareFoundation.Python.3.11_qbz5n2kfra8p0\\LocalCache\\local-packages\\Python311\\site-packages\\sklearn\\utils\\validation.py:2739: UserWarning: X does not have valid feature names, but LGBMRegressor was fitted with feature names\n",
      "  warnings.warn(\n"
     ]
    },
    {
     "name": "stdout",
     "output_type": "stream",
     "text": [
      "-> finished loop 510\n",
      "Loop 518: train 2020-06-02 00:00:00 -> 2024-06-01 00:00:00, forecast 2024-06-02 00:00:00\n",
      "  dat_slice shape: torch.Size([1462, 24, 10])  → flatten count = 35088\n",
      "-> finished loop 513\n",
      "Loop 519: train 2020-06-03 00:00:00 -> 2024-06-02 00:00:00, forecast 2024-06-03 00:00:00\n",
      "  dat_slice shape: torch.Size([1462, 24, 10])  → flatten count = 35088\n",
      "-> finished loop 512\n",
      "Loop 520: train 2020-06-04 00:00:00 -> 2024-06-03 00:00:00, forecast 2024-06-04 00:00:00\n",
      "  dat_slice shape: torch.Size([1462, 24, 10])  → flatten count = 35088\n"
     ]
    },
    {
     "name": "stderr",
     "output_type": "stream",
     "text": [
      "C:\\Users\\amaguaya\\AppData\\Local\\Packages\\PythonSoftwareFoundation.Python.3.11_qbz5n2kfra8p0\\LocalCache\\local-packages\\Python311\\site-packages\\sklearn\\utils\\validation.py:2739: UserWarning: X does not have valid feature names, but LGBMRegressor was fitted with feature names\n",
      "  warnings.warn(\n",
      "C:\\Users\\amaguaya\\AppData\\Local\\Packages\\PythonSoftwareFoundation.Python.3.11_qbz5n2kfra8p0\\LocalCache\\local-packages\\Python311\\site-packages\\sklearn\\utils\\validation.py:2739: UserWarning: X does not have valid feature names, but LGBMRegressor was fitted with feature names\n",
      "  warnings.warn(\n"
     ]
    },
    {
     "name": "stdout",
     "output_type": "stream",
     "text": [
      "-> finished loop 514\n",
      "Loop 521: train 2020-06-05 00:00:00 -> 2024-06-04 00:00:00, forecast 2024-06-05 00:00:00\n",
      "  dat_slice shape: torch.Size([1462, 24, 10])  → flatten count = 35088\n"
     ]
    },
    {
     "name": "stderr",
     "output_type": "stream",
     "text": [
      "C:\\Users\\amaguaya\\AppData\\Local\\Packages\\PythonSoftwareFoundation.Python.3.11_qbz5n2kfra8p0\\LocalCache\\local-packages\\Python311\\site-packages\\sklearn\\utils\\validation.py:2739: UserWarning: X does not have valid feature names, but LGBMRegressor was fitted with feature names\n",
      "  warnings.warn(\n"
     ]
    },
    {
     "name": "stdout",
     "output_type": "stream",
     "text": [
      "-> finished loop 515\n",
      "Loop 522: train 2020-06-06 00:00:00 -> 2024-06-05 00:00:00, forecast 2024-06-06 00:00:00\n",
      "  dat_slice shape: torch.Size([1462, 24, 10])  → flatten count = 35088\n"
     ]
    },
    {
     "name": "stderr",
     "output_type": "stream",
     "text": [
      "C:\\Users\\amaguaya\\AppData\\Local\\Packages\\PythonSoftwareFoundation.Python.3.11_qbz5n2kfra8p0\\LocalCache\\local-packages\\Python311\\site-packages\\sklearn\\utils\\validation.py:2739: UserWarning: X does not have valid feature names, but LGBMRegressor was fitted with feature names\n",
      "  warnings.warn(\n",
      "C:\\Users\\amaguaya\\AppData\\Local\\Packages\\PythonSoftwareFoundation.Python.3.11_qbz5n2kfra8p0\\LocalCache\\local-packages\\Python311\\site-packages\\sklearn\\utils\\validation.py:2739: UserWarning: X does not have valid feature names, but LGBMRegressor was fitted with feature names\n",
      "  warnings.warn(\n"
     ]
    },
    {
     "name": "stdout",
     "output_type": "stream",
     "text": [
      "-> finished loop 517\n",
      "Loop 523: train 2020-06-07 00:00:00 -> 2024-06-06 00:00:00, forecast 2024-06-07 00:00:00\n",
      "  dat_slice shape: torch.Size([1462, 24, 10])  → flatten count = 35088\n",
      "-> finished loop 516\n",
      "Loop 524: train 2020-06-08 00:00:00 -> 2024-06-07 00:00:00, forecast 2024-06-08 00:00:00\n",
      "  dat_slice shape: torch.Size([1462, 24, 10])  → flatten count = 35088\n"
     ]
    },
    {
     "name": "stderr",
     "output_type": "stream",
     "text": [
      "C:\\Users\\amaguaya\\AppData\\Local\\Packages\\PythonSoftwareFoundation.Python.3.11_qbz5n2kfra8p0\\LocalCache\\local-packages\\Python311\\site-packages\\sklearn\\utils\\validation.py:2739: UserWarning: X does not have valid feature names, but LGBMRegressor was fitted with feature names\n",
      "  warnings.warn(\n",
      "C:\\Users\\amaguaya\\AppData\\Local\\Packages\\PythonSoftwareFoundation.Python.3.11_qbz5n2kfra8p0\\LocalCache\\local-packages\\Python311\\site-packages\\sklearn\\utils\\validation.py:2739: UserWarning: X does not have valid feature names, but LGBMRegressor was fitted with feature names\n",
      "  warnings.warn(\n"
     ]
    },
    {
     "name": "stdout",
     "output_type": "stream",
     "text": [
      "-> finished loop 518\n",
      "Loop 525: train 2020-06-09 00:00:00 -> 2024-06-08 00:00:00, forecast 2024-06-09 00:00:00\n",
      "  dat_slice shape: torch.Size([1462, 24, 10])  → flatten count = 35088\n",
      "-> finished loop 519\n",
      "Loop 526: train 2020-06-10 00:00:00 -> 2024-06-09 00:00:00, forecast 2024-06-10 00:00:00\n",
      "  dat_slice shape: torch.Size([1462, 24, 10])  → flatten count = 35088\n"
     ]
    },
    {
     "name": "stderr",
     "output_type": "stream",
     "text": [
      "C:\\Users\\amaguaya\\AppData\\Local\\Packages\\PythonSoftwareFoundation.Python.3.11_qbz5n2kfra8p0\\LocalCache\\local-packages\\Python311\\site-packages\\sklearn\\utils\\validation.py:2739: UserWarning: X does not have valid feature names, but LGBMRegressor was fitted with feature names\n",
      "  warnings.warn(\n"
     ]
    },
    {
     "name": "stdout",
     "output_type": "stream",
     "text": [
      "-> finished loop 520\n",
      "Loop 527: train 2020-06-11 00:00:00 -> 2024-06-10 00:00:00, forecast 2024-06-11 00:00:00\n",
      "  dat_slice shape: torch.Size([1462, 24, 10])  → flatten count = 35088\n"
     ]
    },
    {
     "name": "stderr",
     "output_type": "stream",
     "text": [
      "C:\\Users\\amaguaya\\AppData\\Local\\Packages\\PythonSoftwareFoundation.Python.3.11_qbz5n2kfra8p0\\LocalCache\\local-packages\\Python311\\site-packages\\sklearn\\utils\\validation.py:2739: UserWarning: X does not have valid feature names, but LGBMRegressor was fitted with feature names\n",
      "  warnings.warn(\n"
     ]
    },
    {
     "name": "stdout",
     "output_type": "stream",
     "text": [
      "-> finished loop 521\n",
      "Loop 528: train 2020-06-12 00:00:00 -> 2024-06-11 00:00:00, forecast 2024-06-12 00:00:00\n",
      "  dat_slice shape: torch.Size([1462, 24, 10])  → flatten count = 35088\n"
     ]
    },
    {
     "name": "stderr",
     "output_type": "stream",
     "text": [
      "C:\\Users\\amaguaya\\AppData\\Local\\Packages\\PythonSoftwareFoundation.Python.3.11_qbz5n2kfra8p0\\LocalCache\\local-packages\\Python311\\site-packages\\sklearn\\utils\\validation.py:2739: UserWarning: X does not have valid feature names, but LGBMRegressor was fitted with feature names\n",
      "  warnings.warn(\n"
     ]
    },
    {
     "name": "stdout",
     "output_type": "stream",
     "text": [
      "-> finished loop 522\n",
      "Loop 529: train 2020-06-13 00:00:00 -> 2024-06-12 00:00:00, forecast 2024-06-13 00:00:00\n",
      "  dat_slice shape: torch.Size([1462, 24, 10])  → flatten count = 35088\n"
     ]
    },
    {
     "name": "stderr",
     "output_type": "stream",
     "text": [
      "C:\\Users\\amaguaya\\AppData\\Local\\Packages\\PythonSoftwareFoundation.Python.3.11_qbz5n2kfra8p0\\LocalCache\\local-packages\\Python311\\site-packages\\sklearn\\utils\\validation.py:2739: UserWarning: X does not have valid feature names, but LGBMRegressor was fitted with feature names\n",
      "  warnings.warn(\n",
      "C:\\Users\\amaguaya\\AppData\\Local\\Packages\\PythonSoftwareFoundation.Python.3.11_qbz5n2kfra8p0\\LocalCache\\local-packages\\Python311\\site-packages\\sklearn\\utils\\validation.py:2739: UserWarning: X does not have valid feature names, but LGBMRegressor was fitted with feature names\n",
      "  warnings.warn(\n"
     ]
    },
    {
     "name": "stdout",
     "output_type": "stream",
     "text": [
      "-> finished loop 523\n",
      "Loop 530: train 2020-06-14 00:00:00 -> 2024-06-13 00:00:00, forecast 2024-06-14 00:00:00\n",
      "  dat_slice shape: torch.Size([1462, 24, 10])  → flatten count = 35088\n",
      "-> finished loop 524\n",
      "Loop 531: train 2020-06-15 00:00:00 -> 2024-06-14 00:00:00, forecast 2024-06-15 00:00:00\n",
      "  dat_slice shape: torch.Size([1462, 24, 10])  → flatten count = 35088\n"
     ]
    },
    {
     "name": "stderr",
     "output_type": "stream",
     "text": [
      "C:\\Users\\amaguaya\\AppData\\Local\\Packages\\PythonSoftwareFoundation.Python.3.11_qbz5n2kfra8p0\\LocalCache\\local-packages\\Python311\\site-packages\\sklearn\\utils\\validation.py:2739: UserWarning: X does not have valid feature names, but LGBMRegressor was fitted with feature names\n",
      "  warnings.warn(\n"
     ]
    },
    {
     "name": "stdout",
     "output_type": "stream",
     "text": [
      "-> finished loop 525\n",
      "Loop 532: train 2020-06-16 00:00:00 -> 2024-06-15 00:00:00, forecast 2024-06-16 00:00:00\n",
      "  dat_slice shape: torch.Size([1462, 24, 10])  → flatten count = 35088\n"
     ]
    },
    {
     "name": "stderr",
     "output_type": "stream",
     "text": [
      "C:\\Users\\amaguaya\\AppData\\Local\\Packages\\PythonSoftwareFoundation.Python.3.11_qbz5n2kfra8p0\\LocalCache\\local-packages\\Python311\\site-packages\\sklearn\\utils\\validation.py:2739: UserWarning: X does not have valid feature names, but LGBMRegressor was fitted with feature names\n",
      "  warnings.warn(\n"
     ]
    },
    {
     "name": "stdout",
     "output_type": "stream",
     "text": [
      "-> finished loop 526\n",
      "Loop 533: train 2020-06-17 00:00:00 -> 2024-06-16 00:00:00, forecast 2024-06-17 00:00:00\n",
      "  dat_slice shape: torch.Size([1462, 24, 10])  → flatten count = 35088\n"
     ]
    },
    {
     "name": "stderr",
     "output_type": "stream",
     "text": [
      "C:\\Users\\amaguaya\\AppData\\Local\\Packages\\PythonSoftwareFoundation.Python.3.11_qbz5n2kfra8p0\\LocalCache\\local-packages\\Python311\\site-packages\\sklearn\\utils\\validation.py:2739: UserWarning: X does not have valid feature names, but LGBMRegressor was fitted with feature names\n",
      "  warnings.warn(\n"
     ]
    },
    {
     "name": "stdout",
     "output_type": "stream",
     "text": [
      "-> finished loop 527\n",
      "Loop 534: train 2020-06-18 00:00:00 -> 2024-06-17 00:00:00, forecast 2024-06-18 00:00:00\n",
      "  dat_slice shape: torch.Size([1462, 24, 10])  → flatten count = 35088\n"
     ]
    },
    {
     "name": "stderr",
     "output_type": "stream",
     "text": [
      "C:\\Users\\amaguaya\\AppData\\Local\\Packages\\PythonSoftwareFoundation.Python.3.11_qbz5n2kfra8p0\\LocalCache\\local-packages\\Python311\\site-packages\\sklearn\\utils\\validation.py:2739: UserWarning: X does not have valid feature names, but LGBMRegressor was fitted with feature names\n",
      "  warnings.warn(\n"
     ]
    },
    {
     "name": "stdout",
     "output_type": "stream",
     "text": [
      "-> finished loop 528\n",
      "Loop 535: train 2020-06-19 00:00:00 -> 2024-06-18 00:00:00, forecast 2024-06-19 00:00:00\n",
      "  dat_slice shape: torch.Size([1462, 24, 10])  → flatten count = 35088\n"
     ]
    },
    {
     "name": "stderr",
     "output_type": "stream",
     "text": [
      "C:\\Users\\amaguaya\\AppData\\Local\\Packages\\PythonSoftwareFoundation.Python.3.11_qbz5n2kfra8p0\\LocalCache\\local-packages\\Python311\\site-packages\\sklearn\\utils\\validation.py:2739: UserWarning: X does not have valid feature names, but LGBMRegressor was fitted with feature names\n",
      "  warnings.warn(\n",
      "C:\\Users\\amaguaya\\AppData\\Local\\Packages\\PythonSoftwareFoundation.Python.3.11_qbz5n2kfra8p0\\LocalCache\\local-packages\\Python311\\site-packages\\sklearn\\utils\\validation.py:2739: UserWarning: X does not have valid feature names, but LGBMRegressor was fitted with feature names\n",
      "  warnings.warn(\n"
     ]
    },
    {
     "name": "stdout",
     "output_type": "stream",
     "text": [
      "-> finished loop 529\n",
      "Loop 536: train 2020-06-20 00:00:00 -> 2024-06-19 00:00:00, forecast 2024-06-20 00:00:00\n",
      "  dat_slice shape: torch.Size([1462, 24, 10])  → flatten count = 35088\n",
      "-> finished loop 530\n",
      "Loop 537: train 2020-06-21 00:00:00 -> 2024-06-20 00:00:00, forecast 2024-06-21 00:00:00\n",
      "  dat_slice shape: torch.Size([1462, 24, 10])  → flatten count = 35088\n"
     ]
    },
    {
     "name": "stderr",
     "output_type": "stream",
     "text": [
      "C:\\Users\\amaguaya\\AppData\\Local\\Packages\\PythonSoftwareFoundation.Python.3.11_qbz5n2kfra8p0\\LocalCache\\local-packages\\Python311\\site-packages\\sklearn\\utils\\validation.py:2739: UserWarning: X does not have valid feature names, but LGBMRegressor was fitted with feature names\n",
      "  warnings.warn(\n"
     ]
    },
    {
     "name": "stdout",
     "output_type": "stream",
     "text": [
      "-> finished loop 532\n",
      "Loop 538: train 2020-06-22 00:00:00 -> 2024-06-21 00:00:00, forecast 2024-06-22 00:00:00\n",
      "  dat_slice shape: torch.Size([1462, 24, 10])  → flatten count = 35088\n"
     ]
    },
    {
     "name": "stderr",
     "output_type": "stream",
     "text": [
      "C:\\Users\\amaguaya\\AppData\\Local\\Packages\\PythonSoftwareFoundation.Python.3.11_qbz5n2kfra8p0\\LocalCache\\local-packages\\Python311\\site-packages\\sklearn\\utils\\validation.py:2739: UserWarning: X does not have valid feature names, but LGBMRegressor was fitted with feature names\n",
      "  warnings.warn(\n",
      "C:\\Users\\amaguaya\\AppData\\Local\\Packages\\PythonSoftwareFoundation.Python.3.11_qbz5n2kfra8p0\\LocalCache\\local-packages\\Python311\\site-packages\\sklearn\\utils\\validation.py:2739: UserWarning: X does not have valid feature names, but LGBMRegressor was fitted with feature names\n",
      "  warnings.warn(\n"
     ]
    },
    {
     "name": "stdout",
     "output_type": "stream",
     "text": [
      "-> finished loop 533\n",
      "Loop 539: train 2020-06-23 00:00:00 -> 2024-06-22 00:00:00, forecast 2024-06-23 00:00:00\n",
      "  dat_slice shape: torch.Size([1462, 24, 10])  → flatten count = 35088\n",
      "-> finished loop 531\n",
      "Loop 540: train 2020-06-24 00:00:00 -> 2024-06-23 00:00:00, forecast 2024-06-24 00:00:00\n",
      "  dat_slice shape: torch.Size([1462, 24, 10])  → flatten count = 35088\n"
     ]
    },
    {
     "name": "stderr",
     "output_type": "stream",
     "text": [
      "C:\\Users\\amaguaya\\AppData\\Local\\Packages\\PythonSoftwareFoundation.Python.3.11_qbz5n2kfra8p0\\LocalCache\\local-packages\\Python311\\site-packages\\sklearn\\utils\\validation.py:2739: UserWarning: X does not have valid feature names, but LGBMRegressor was fitted with feature names\n",
      "  warnings.warn(\n",
      "C:\\Users\\amaguaya\\AppData\\Local\\Packages\\PythonSoftwareFoundation.Python.3.11_qbz5n2kfra8p0\\LocalCache\\local-packages\\Python311\\site-packages\\sklearn\\utils\\validation.py:2739: UserWarning: X does not have valid feature names, but LGBMRegressor was fitted with feature names\n",
      "  warnings.warn(\n"
     ]
    },
    {
     "name": "stdout",
     "output_type": "stream",
     "text": [
      "-> finished loop 534\n",
      "Loop 541: train 2020-06-25 00:00:00 -> 2024-06-24 00:00:00, forecast 2024-06-25 00:00:00\n",
      "  dat_slice shape: torch.Size([1462, 24, 10])  → flatten count = 35088\n",
      "-> finished loop 535\n",
      "Loop 542: train 2020-06-26 00:00:00 -> 2024-06-25 00:00:00, forecast 2024-06-26 00:00:00\n",
      "  dat_slice shape: torch.Size([1462, 24, 10])  → flatten count = 35088\n"
     ]
    },
    {
     "name": "stderr",
     "output_type": "stream",
     "text": [
      "C:\\Users\\amaguaya\\AppData\\Local\\Packages\\PythonSoftwareFoundation.Python.3.11_qbz5n2kfra8p0\\LocalCache\\local-packages\\Python311\\site-packages\\sklearn\\utils\\validation.py:2739: UserWarning: X does not have valid feature names, but LGBMRegressor was fitted with feature names\n",
      "  warnings.warn(\n"
     ]
    },
    {
     "name": "stdout",
     "output_type": "stream",
     "text": [
      "-> finished loop 537\n",
      "Loop 543: train 2020-06-27 00:00:00 -> 2024-06-26 00:00:00, forecast 2024-06-27 00:00:00\n",
      "  dat_slice shape: torch.Size([1462, 24, 10])  → flatten count = 35088\n"
     ]
    },
    {
     "name": "stderr",
     "output_type": "stream",
     "text": [
      "C:\\Users\\amaguaya\\AppData\\Local\\Packages\\PythonSoftwareFoundation.Python.3.11_qbz5n2kfra8p0\\LocalCache\\local-packages\\Python311\\site-packages\\sklearn\\utils\\validation.py:2739: UserWarning: X does not have valid feature names, but LGBMRegressor was fitted with feature names\n",
      "  warnings.warn(\n",
      "C:\\Users\\amaguaya\\AppData\\Local\\Packages\\PythonSoftwareFoundation.Python.3.11_qbz5n2kfra8p0\\LocalCache\\local-packages\\Python311\\site-packages\\sklearn\\utils\\validation.py:2739: UserWarning: X does not have valid feature names, but LGBMRegressor was fitted with feature names\n",
      "  warnings.warn(\n"
     ]
    },
    {
     "name": "stdout",
     "output_type": "stream",
     "text": [
      "-> finished loop 536\n",
      "Loop 544: train 2020-06-28 00:00:00 -> 2024-06-27 00:00:00, forecast 2024-06-28 00:00:00\n",
      "  dat_slice shape: torch.Size([1462, 24, 10])  → flatten count = 35088\n",
      "-> finished loop 538\n",
      "Loop 545: train 2020-06-29 00:00:00 -> 2024-06-28 00:00:00, forecast 2024-06-29 00:00:00\n",
      "  dat_slice shape: torch.Size([1462, 24, 10])  → flatten count = 35088\n"
     ]
    },
    {
     "name": "stderr",
     "output_type": "stream",
     "text": [
      "C:\\Users\\amaguaya\\AppData\\Local\\Packages\\PythonSoftwareFoundation.Python.3.11_qbz5n2kfra8p0\\LocalCache\\local-packages\\Python311\\site-packages\\sklearn\\utils\\validation.py:2739: UserWarning: X does not have valid feature names, but LGBMRegressor was fitted with feature names\n",
      "  warnings.warn(\n"
     ]
    },
    {
     "name": "stdout",
     "output_type": "stream",
     "text": [
      "-> finished loop 539\n",
      "Loop 546: train 2020-06-30 00:00:00 -> 2024-06-29 00:00:00, forecast 2024-06-30 00:00:00\n",
      "  dat_slice shape: torch.Size([1462, 24, 10])  → flatten count = 35088\n"
     ]
    },
    {
     "name": "stderr",
     "output_type": "stream",
     "text": [
      "C:\\Users\\amaguaya\\AppData\\Local\\Packages\\PythonSoftwareFoundation.Python.3.11_qbz5n2kfra8p0\\LocalCache\\local-packages\\Python311\\site-packages\\sklearn\\utils\\validation.py:2739: UserWarning: X does not have valid feature names, but LGBMRegressor was fitted with feature names\n",
      "  warnings.warn(\n"
     ]
    },
    {
     "name": "stdout",
     "output_type": "stream",
     "text": [
      "-> finished loop 540\n",
      "Loop 547: train 2020-07-01 00:00:00 -> 2024-06-30 00:00:00, forecast 2024-07-01 00:00:00\n",
      "  dat_slice shape: torch.Size([1462, 24, 10])  → flatten count = 35088\n"
     ]
    },
    {
     "name": "stderr",
     "output_type": "stream",
     "text": [
      "C:\\Users\\amaguaya\\AppData\\Local\\Packages\\PythonSoftwareFoundation.Python.3.11_qbz5n2kfra8p0\\LocalCache\\local-packages\\Python311\\site-packages\\sklearn\\utils\\validation.py:2739: UserWarning: X does not have valid feature names, but LGBMRegressor was fitted with feature names\n",
      "  warnings.warn(\n"
     ]
    },
    {
     "name": "stdout",
     "output_type": "stream",
     "text": [
      "-> finished loop 541\n",
      "Loop 548: train 2020-07-02 00:00:00 -> 2024-07-01 00:00:00, forecast 2024-07-02 00:00:00\n",
      "  dat_slice shape: torch.Size([1462, 24, 10])  → flatten count = 35088\n"
     ]
    },
    {
     "name": "stderr",
     "output_type": "stream",
     "text": [
      "C:\\Users\\amaguaya\\AppData\\Local\\Packages\\PythonSoftwareFoundation.Python.3.11_qbz5n2kfra8p0\\LocalCache\\local-packages\\Python311\\site-packages\\sklearn\\utils\\validation.py:2739: UserWarning: X does not have valid feature names, but LGBMRegressor was fitted with feature names\n",
      "  warnings.warn(\n"
     ]
    },
    {
     "name": "stdout",
     "output_type": "stream",
     "text": [
      "-> finished loop 542\n",
      "Loop 549: train 2020-07-03 00:00:00 -> 2024-07-02 00:00:00, forecast 2024-07-03 00:00:00\n",
      "  dat_slice shape: torch.Size([1462, 24, 10])  → flatten count = 35088\n"
     ]
    },
    {
     "name": "stderr",
     "output_type": "stream",
     "text": [
      "C:\\Users\\amaguaya\\AppData\\Local\\Packages\\PythonSoftwareFoundation.Python.3.11_qbz5n2kfra8p0\\LocalCache\\local-packages\\Python311\\site-packages\\sklearn\\utils\\validation.py:2739: UserWarning: X does not have valid feature names, but LGBMRegressor was fitted with feature names\n",
      "  warnings.warn(\n"
     ]
    },
    {
     "name": "stdout",
     "output_type": "stream",
     "text": [
      "-> finished loop 543\n",
      "Loop 550: train 2020-07-04 00:00:00 -> 2024-07-03 00:00:00, forecast 2024-07-04 00:00:00\n",
      "  dat_slice shape: torch.Size([1462, 24, 10])  → flatten count = 35088\n"
     ]
    },
    {
     "name": "stderr",
     "output_type": "stream",
     "text": [
      "C:\\Users\\amaguaya\\AppData\\Local\\Packages\\PythonSoftwareFoundation.Python.3.11_qbz5n2kfra8p0\\LocalCache\\local-packages\\Python311\\site-packages\\sklearn\\utils\\validation.py:2739: UserWarning: X does not have valid feature names, but LGBMRegressor was fitted with feature names\n",
      "  warnings.warn(\n",
      "C:\\Users\\amaguaya\\AppData\\Local\\Packages\\PythonSoftwareFoundation.Python.3.11_qbz5n2kfra8p0\\LocalCache\\local-packages\\Python311\\site-packages\\sklearn\\utils\\validation.py:2739: UserWarning: X does not have valid feature names, but LGBMRegressor was fitted with feature names\n",
      "  warnings.warn(\n"
     ]
    },
    {
     "name": "stdout",
     "output_type": "stream",
     "text": [
      "-> finished loop 544\n",
      "Loop 551: train 2020-07-05 00:00:00 -> 2024-07-04 00:00:00, forecast 2024-07-05 00:00:00\n",
      "  dat_slice shape: torch.Size([1462, 24, 10])  → flatten count = 35088\n",
      "-> finished loop 545\n",
      "Loop 552: train 2020-07-06 00:00:00 -> 2024-07-05 00:00:00, forecast 2024-07-06 00:00:00\n",
      "  dat_slice shape: torch.Size([1462, 24, 10])  → flatten count = 35088\n"
     ]
    },
    {
     "name": "stderr",
     "output_type": "stream",
     "text": [
      "C:\\Users\\amaguaya\\AppData\\Local\\Packages\\PythonSoftwareFoundation.Python.3.11_qbz5n2kfra8p0\\LocalCache\\local-packages\\Python311\\site-packages\\sklearn\\utils\\validation.py:2739: UserWarning: X does not have valid feature names, but LGBMRegressor was fitted with feature names\n",
      "  warnings.warn(\n"
     ]
    },
    {
     "name": "stdout",
     "output_type": "stream",
     "text": [
      "-> finished loop 546\n",
      "Loop 553: train 2020-07-07 00:00:00 -> 2024-07-06 00:00:00, forecast 2024-07-07 00:00:00\n",
      "  dat_slice shape: torch.Size([1462, 24, 10])  → flatten count = 35088\n"
     ]
    },
    {
     "name": "stderr",
     "output_type": "stream",
     "text": [
      "C:\\Users\\amaguaya\\AppData\\Local\\Packages\\PythonSoftwareFoundation.Python.3.11_qbz5n2kfra8p0\\LocalCache\\local-packages\\Python311\\site-packages\\sklearn\\utils\\validation.py:2739: UserWarning: X does not have valid feature names, but LGBMRegressor was fitted with feature names\n",
      "  warnings.warn(\n"
     ]
    },
    {
     "name": "stdout",
     "output_type": "stream",
     "text": [
      "-> finished loop 547\n",
      "Loop 554: train 2020-07-08 00:00:00 -> 2024-07-07 00:00:00, forecast 2024-07-08 00:00:00\n",
      "  dat_slice shape: torch.Size([1462, 24, 10])  → flatten count = 35088\n"
     ]
    },
    {
     "name": "stderr",
     "output_type": "stream",
     "text": [
      "C:\\Users\\amaguaya\\AppData\\Local\\Packages\\PythonSoftwareFoundation.Python.3.11_qbz5n2kfra8p0\\LocalCache\\local-packages\\Python311\\site-packages\\sklearn\\utils\\validation.py:2739: UserWarning: X does not have valid feature names, but LGBMRegressor was fitted with feature names\n",
      "  warnings.warn(\n",
      "C:\\Users\\amaguaya\\AppData\\Local\\Packages\\PythonSoftwareFoundation.Python.3.11_qbz5n2kfra8p0\\LocalCache\\local-packages\\Python311\\site-packages\\sklearn\\utils\\validation.py:2739: UserWarning: X does not have valid feature names, but LGBMRegressor was fitted with feature names\n",
      "  warnings.warn(\n"
     ]
    },
    {
     "name": "stdout",
     "output_type": "stream",
     "text": [
      "-> finished loop 548\n",
      "Loop 555: train 2020-07-09 00:00:00 -> 2024-07-08 00:00:00, forecast 2024-07-09 00:00:00\n",
      "  dat_slice shape: torch.Size([1462, 24, 10])  → flatten count = 35088\n",
      "-> finished loop 549\n",
      "Loop 556: train 2020-07-10 00:00:00 -> 2024-07-09 00:00:00, forecast 2024-07-10 00:00:00\n",
      "  dat_slice shape: torch.Size([1462, 24, 10])  → flatten count = 35088\n"
     ]
    },
    {
     "name": "stderr",
     "output_type": "stream",
     "text": [
      "C:\\Users\\amaguaya\\AppData\\Local\\Packages\\PythonSoftwareFoundation.Python.3.11_qbz5n2kfra8p0\\LocalCache\\local-packages\\Python311\\site-packages\\sklearn\\utils\\validation.py:2739: UserWarning: X does not have valid feature names, but LGBMRegressor was fitted with feature names\n",
      "  warnings.warn(\n",
      "C:\\Users\\amaguaya\\AppData\\Local\\Packages\\PythonSoftwareFoundation.Python.3.11_qbz5n2kfra8p0\\LocalCache\\local-packages\\Python311\\site-packages\\sklearn\\utils\\validation.py:2739: UserWarning: X does not have valid feature names, but LGBMRegressor was fitted with feature names\n",
      "  warnings.warn(\n"
     ]
    },
    {
     "name": "stdout",
     "output_type": "stream",
     "text": [
      "-> finished loop 551\n",
      "Loop 557: train 2020-07-11 00:00:00 -> 2024-07-10 00:00:00, forecast 2024-07-11 00:00:00\n",
      "  dat_slice shape: torch.Size([1462, 24, 10])  → flatten count = 35088\n",
      "-> finished loop 550\n",
      "Loop 558: train 2020-07-12 00:00:00 -> 2024-07-11 00:00:00, forecast 2024-07-12 00:00:00\n",
      "  dat_slice shape: torch.Size([1462, 24, 10])  → flatten count = 35088\n"
     ]
    },
    {
     "name": "stderr",
     "output_type": "stream",
     "text": [
      "C:\\Users\\amaguaya\\AppData\\Local\\Packages\\PythonSoftwareFoundation.Python.3.11_qbz5n2kfra8p0\\LocalCache\\local-packages\\Python311\\site-packages\\sklearn\\utils\\validation.py:2739: UserWarning: X does not have valid feature names, but LGBMRegressor was fitted with feature names\n",
      "  warnings.warn(\n"
     ]
    },
    {
     "name": "stdout",
     "output_type": "stream",
     "text": [
      "-> finished loop 552\n",
      "Loop 559: train 2020-07-13 00:00:00 -> 2024-07-12 00:00:00, forecast 2024-07-13 00:00:00\n",
      "  dat_slice shape: torch.Size([1462, 24, 10])  → flatten count = 35088\n"
     ]
    },
    {
     "name": "stderr",
     "output_type": "stream",
     "text": [
      "C:\\Users\\amaguaya\\AppData\\Local\\Packages\\PythonSoftwareFoundation.Python.3.11_qbz5n2kfra8p0\\LocalCache\\local-packages\\Python311\\site-packages\\sklearn\\utils\\validation.py:2739: UserWarning: X does not have valid feature names, but LGBMRegressor was fitted with feature names\n",
      "  warnings.warn(\n",
      "C:\\Users\\amaguaya\\AppData\\Local\\Packages\\PythonSoftwareFoundation.Python.3.11_qbz5n2kfra8p0\\LocalCache\\local-packages\\Python311\\site-packages\\sklearn\\utils\\validation.py:2739: UserWarning: X does not have valid feature names, but LGBMRegressor was fitted with feature names\n",
      "  warnings.warn(\n"
     ]
    },
    {
     "name": "stdout",
     "output_type": "stream",
     "text": [
      "-> finished loop 553\n",
      "Loop 560: train 2020-07-14 00:00:00 -> 2024-07-13 00:00:00, forecast 2024-07-14 00:00:00\n",
      "  dat_slice shape: torch.Size([1462, 24, 10])  → flatten count = 35088\n",
      "-> finished loop 554\n",
      "Loop 561: train 2020-07-15 00:00:00 -> 2024-07-14 00:00:00, forecast 2024-07-15 00:00:00\n",
      "  dat_slice shape: torch.Size([1462, 24, 10])  → flatten count = 35088\n"
     ]
    },
    {
     "name": "stderr",
     "output_type": "stream",
     "text": [
      "C:\\Users\\amaguaya\\AppData\\Local\\Packages\\PythonSoftwareFoundation.Python.3.11_qbz5n2kfra8p0\\LocalCache\\local-packages\\Python311\\site-packages\\sklearn\\utils\\validation.py:2739: UserWarning: X does not have valid feature names, but LGBMRegressor was fitted with feature names\n",
      "  warnings.warn(\n"
     ]
    },
    {
     "name": "stdout",
     "output_type": "stream",
     "text": [
      "-> finished loop 555\n",
      "Loop 562: train 2020-07-16 00:00:00 -> 2024-07-15 00:00:00, forecast 2024-07-16 00:00:00\n",
      "  dat_slice shape: torch.Size([1462, 24, 10])  → flatten count = 35088\n"
     ]
    },
    {
     "name": "stderr",
     "output_type": "stream",
     "text": [
      "C:\\Users\\amaguaya\\AppData\\Local\\Packages\\PythonSoftwareFoundation.Python.3.11_qbz5n2kfra8p0\\LocalCache\\local-packages\\Python311\\site-packages\\sklearn\\utils\\validation.py:2739: UserWarning: X does not have valid feature names, but LGBMRegressor was fitted with feature names\n",
      "  warnings.warn(\n"
     ]
    },
    {
     "name": "stdout",
     "output_type": "stream",
     "text": [
      "-> finished loop 556\n",
      "Loop 563: train 2020-07-17 00:00:00 -> 2024-07-16 00:00:00, forecast 2024-07-17 00:00:00\n",
      "  dat_slice shape: torch.Size([1462, 24, 10])  → flatten count = 35088\n"
     ]
    },
    {
     "name": "stderr",
     "output_type": "stream",
     "text": [
      "C:\\Users\\amaguaya\\AppData\\Local\\Packages\\PythonSoftwareFoundation.Python.3.11_qbz5n2kfra8p0\\LocalCache\\local-packages\\Python311\\site-packages\\sklearn\\utils\\validation.py:2739: UserWarning: X does not have valid feature names, but LGBMRegressor was fitted with feature names\n",
      "  warnings.warn(\n",
      "C:\\Users\\amaguaya\\AppData\\Local\\Packages\\PythonSoftwareFoundation.Python.3.11_qbz5n2kfra8p0\\LocalCache\\local-packages\\Python311\\site-packages\\sklearn\\utils\\validation.py:2739: UserWarning: X does not have valid feature names, but LGBMRegressor was fitted with feature names\n",
      "  warnings.warn(\n"
     ]
    },
    {
     "name": "stdout",
     "output_type": "stream",
     "text": [
      "-> finished loop 557\n",
      "Loop 564: train 2020-07-18 00:00:00 -> 2024-07-17 00:00:00, forecast 2024-07-18 00:00:00\n",
      "  dat_slice shape: torch.Size([1462, 24, 10])  → flatten count = 35088\n",
      "-> finished loop 558\n",
      "Loop 565: train 2020-07-19 00:00:00 -> 2024-07-18 00:00:00, forecast 2024-07-19 00:00:00\n",
      "  dat_slice shape: torch.Size([1462, 24, 10])  → flatten count = 35088\n"
     ]
    },
    {
     "name": "stderr",
     "output_type": "stream",
     "text": [
      "C:\\Users\\amaguaya\\AppData\\Local\\Packages\\PythonSoftwareFoundation.Python.3.11_qbz5n2kfra8p0\\LocalCache\\local-packages\\Python311\\site-packages\\sklearn\\utils\\validation.py:2739: UserWarning: X does not have valid feature names, but LGBMRegressor was fitted with feature names\n",
      "  warnings.warn(\n"
     ]
    },
    {
     "name": "stdout",
     "output_type": "stream",
     "text": [
      "-> finished loop 559\n",
      "Loop 566: train 2020-07-20 00:00:00 -> 2024-07-19 00:00:00, forecast 2024-07-20 00:00:00\n",
      "  dat_slice shape: torch.Size([1462, 24, 10])  → flatten count = 35088\n"
     ]
    },
    {
     "name": "stderr",
     "output_type": "stream",
     "text": [
      "C:\\Users\\amaguaya\\AppData\\Local\\Packages\\PythonSoftwareFoundation.Python.3.11_qbz5n2kfra8p0\\LocalCache\\local-packages\\Python311\\site-packages\\sklearn\\utils\\validation.py:2739: UserWarning: X does not have valid feature names, but LGBMRegressor was fitted with feature names\n",
      "  warnings.warn(\n",
      "C:\\Users\\amaguaya\\AppData\\Local\\Packages\\PythonSoftwareFoundation.Python.3.11_qbz5n2kfra8p0\\LocalCache\\local-packages\\Python311\\site-packages\\sklearn\\utils\\validation.py:2739: UserWarning: X does not have valid feature names, but LGBMRegressor was fitted with feature names\n",
      "  warnings.warn(\n"
     ]
    },
    {
     "name": "stdout",
     "output_type": "stream",
     "text": [
      "-> finished loop 560\n",
      "Loop 567: train 2020-07-21 00:00:00 -> 2024-07-20 00:00:00, forecast 2024-07-21 00:00:00\n",
      "  dat_slice shape: torch.Size([1462, 24, 10])  → flatten count = 35088\n",
      "-> finished loop 561\n",
      "Loop 568: train 2020-07-22 00:00:00 -> 2024-07-21 00:00:00, forecast 2024-07-22 00:00:00\n",
      "  dat_slice shape: torch.Size([1462, 24, 10])  → flatten count = 35088\n"
     ]
    },
    {
     "name": "stderr",
     "output_type": "stream",
     "text": [
      "C:\\Users\\amaguaya\\AppData\\Local\\Packages\\PythonSoftwareFoundation.Python.3.11_qbz5n2kfra8p0\\LocalCache\\local-packages\\Python311\\site-packages\\sklearn\\utils\\validation.py:2739: UserWarning: X does not have valid feature names, but LGBMRegressor was fitted with feature names\n",
      "  warnings.warn(\n"
     ]
    },
    {
     "name": "stdout",
     "output_type": "stream",
     "text": [
      "-> finished loop 562\n",
      "Loop 569: train 2020-07-23 00:00:00 -> 2024-07-22 00:00:00, forecast 2024-07-23 00:00:00\n",
      "  dat_slice shape: torch.Size([1462, 24, 10])  → flatten count = 35088\n"
     ]
    },
    {
     "name": "stderr",
     "output_type": "stream",
     "text": [
      "C:\\Users\\amaguaya\\AppData\\Local\\Packages\\PythonSoftwareFoundation.Python.3.11_qbz5n2kfra8p0\\LocalCache\\local-packages\\Python311\\site-packages\\sklearn\\utils\\validation.py:2739: UserWarning: X does not have valid feature names, but LGBMRegressor was fitted with feature names\n",
      "  warnings.warn(\n",
      "C:\\Users\\amaguaya\\AppData\\Local\\Packages\\PythonSoftwareFoundation.Python.3.11_qbz5n2kfra8p0\\LocalCache\\local-packages\\Python311\\site-packages\\sklearn\\utils\\validation.py:2739: UserWarning: X does not have valid feature names, but LGBMRegressor was fitted with feature names\n",
      "  warnings.warn(\n",
      "C:\\Users\\amaguaya\\AppData\\Local\\Packages\\PythonSoftwareFoundation.Python.3.11_qbz5n2kfra8p0\\LocalCache\\local-packages\\Python311\\site-packages\\sklearn\\utils\\validation.py:2739: UserWarning: X does not have valid feature names, but LGBMRegressor was fitted with feature names\n",
      "  warnings.warn(\n"
     ]
    },
    {
     "name": "stdout",
     "output_type": "stream",
     "text": [
      "-> finished loop 564\n",
      "Loop 570: train 2020-07-24 00:00:00 -> 2024-07-23 00:00:00, forecast 2024-07-24 00:00:00\n",
      "  dat_slice shape: torch.Size([1462, 24, 10])  → flatten count = 35088\n",
      "-> finished loop 563\n",
      "Loop 571: train 2020-07-25 00:00:00 -> 2024-07-24 00:00:00, forecast 2024-07-25 00:00:00\n",
      "  dat_slice shape: torch.Size([1462, 24, 10])  → flatten count = 35088\n",
      "-> finished loop 565\n",
      "Loop 572: train 2020-07-26 00:00:00 -> 2024-07-25 00:00:00, forecast 2024-07-26 00:00:00\n",
      "  dat_slice shape: torch.Size([1462, 24, 10])  → flatten count = 35088\n"
     ]
    },
    {
     "name": "stderr",
     "output_type": "stream",
     "text": [
      "C:\\Users\\amaguaya\\AppData\\Local\\Packages\\PythonSoftwareFoundation.Python.3.11_qbz5n2kfra8p0\\LocalCache\\local-packages\\Python311\\site-packages\\sklearn\\utils\\validation.py:2739: UserWarning: X does not have valid feature names, but LGBMRegressor was fitted with feature names\n",
      "  warnings.warn(\n",
      "C:\\Users\\amaguaya\\AppData\\Local\\Packages\\PythonSoftwareFoundation.Python.3.11_qbz5n2kfra8p0\\LocalCache\\local-packages\\Python311\\site-packages\\sklearn\\utils\\validation.py:2739: UserWarning: X does not have valid feature names, but LGBMRegressor was fitted with feature names\n",
      "  warnings.warn(\n",
      "C:\\Users\\amaguaya\\AppData\\Local\\Packages\\PythonSoftwareFoundation.Python.3.11_qbz5n2kfra8p0\\LocalCache\\local-packages\\Python311\\site-packages\\sklearn\\utils\\validation.py:2739: UserWarning: X does not have valid feature names, but LGBMRegressor was fitted with feature names\n",
      "  warnings.warn(\n"
     ]
    },
    {
     "name": "stdout",
     "output_type": "stream",
     "text": [
      "-> finished loop 567\n",
      "Loop 573: train 2020-07-27 00:00:00 -> 2024-07-26 00:00:00, forecast 2024-07-27 00:00:00\n",
      "  dat_slice shape: torch.Size([1462, 24, 10])  → flatten count = 35088\n",
      "-> finished loop 568\n",
      "Loop 574: train 2020-07-28 00:00:00 -> 2024-07-27 00:00:00, forecast 2024-07-28 00:00:00\n",
      "  dat_slice shape: torch.Size([1462, 24, 10])  → flatten count = 35088\n",
      "-> finished loop 566\n",
      "Loop 575: train 2020-07-29 00:00:00 -> 2024-07-28 00:00:00, forecast 2024-07-29 00:00:00\n",
      "  dat_slice shape: torch.Size([1462, 24, 10])  → flatten count = 35088\n"
     ]
    },
    {
     "name": "stderr",
     "output_type": "stream",
     "text": [
      "C:\\Users\\amaguaya\\AppData\\Local\\Packages\\PythonSoftwareFoundation.Python.3.11_qbz5n2kfra8p0\\LocalCache\\local-packages\\Python311\\site-packages\\sklearn\\utils\\validation.py:2739: UserWarning: X does not have valid feature names, but LGBMRegressor was fitted with feature names\n",
      "  warnings.warn(\n"
     ]
    },
    {
     "name": "stdout",
     "output_type": "stream",
     "text": [
      "-> finished loop 569\n",
      "Loop 576: train 2020-07-30 00:00:00 -> 2024-07-29 00:00:00, forecast 2024-07-30 00:00:00\n",
      "  dat_slice shape: torch.Size([1462, 24, 10])  → flatten count = 35088\n"
     ]
    },
    {
     "name": "stderr",
     "output_type": "stream",
     "text": [
      "C:\\Users\\amaguaya\\AppData\\Local\\Packages\\PythonSoftwareFoundation.Python.3.11_qbz5n2kfra8p0\\LocalCache\\local-packages\\Python311\\site-packages\\sklearn\\utils\\validation.py:2739: UserWarning: X does not have valid feature names, but LGBMRegressor was fitted with feature names\n",
      "  warnings.warn(\n",
      "C:\\Users\\amaguaya\\AppData\\Local\\Packages\\PythonSoftwareFoundation.Python.3.11_qbz5n2kfra8p0\\LocalCache\\local-packages\\Python311\\site-packages\\sklearn\\utils\\validation.py:2739: UserWarning: X does not have valid feature names, but LGBMRegressor was fitted with feature names\n",
      "  warnings.warn(\n"
     ]
    },
    {
     "name": "stdout",
     "output_type": "stream",
     "text": [
      "-> finished loop 570\n",
      "Loop 577: train 2020-07-31 00:00:00 -> 2024-07-30 00:00:00, forecast 2024-07-31 00:00:00\n",
      "  dat_slice shape: torch.Size([1462, 24, 10])  → flatten count = 35088\n",
      "-> finished loop 572\n",
      "Loop 578: train 2020-08-01 00:00:00 -> 2024-07-31 00:00:00, forecast 2024-08-01 00:00:00\n",
      "  dat_slice shape: torch.Size([1462, 24, 10])  → flatten count = 35088\n"
     ]
    },
    {
     "name": "stderr",
     "output_type": "stream",
     "text": [
      "C:\\Users\\amaguaya\\AppData\\Local\\Packages\\PythonSoftwareFoundation.Python.3.11_qbz5n2kfra8p0\\LocalCache\\local-packages\\Python311\\site-packages\\sklearn\\utils\\validation.py:2739: UserWarning: X does not have valid feature names, but LGBMRegressor was fitted with feature names\n",
      "  warnings.warn(\n"
     ]
    },
    {
     "name": "stdout",
     "output_type": "stream",
     "text": [
      "-> finished loop 571\n",
      "Loop 579: train 2020-08-02 00:00:00 -> 2024-08-01 00:00:00, forecast 2024-08-02 00:00:00\n",
      "  dat_slice shape: torch.Size([1462, 24, 10])  → flatten count = 35088\n"
     ]
    },
    {
     "name": "stderr",
     "output_type": "stream",
     "text": [
      "C:\\Users\\amaguaya\\AppData\\Local\\Packages\\PythonSoftwareFoundation.Python.3.11_qbz5n2kfra8p0\\LocalCache\\local-packages\\Python311\\site-packages\\sklearn\\utils\\validation.py:2739: UserWarning: X does not have valid feature names, but LGBMRegressor was fitted with feature names\n",
      "  warnings.warn(\n",
      "C:\\Users\\amaguaya\\AppData\\Local\\Packages\\PythonSoftwareFoundation.Python.3.11_qbz5n2kfra8p0\\LocalCache\\local-packages\\Python311\\site-packages\\sklearn\\utils\\validation.py:2739: UserWarning: X does not have valid feature names, but LGBMRegressor was fitted with feature names\n",
      "  warnings.warn(\n",
      "C:\\Users\\amaguaya\\AppData\\Local\\Packages\\PythonSoftwareFoundation.Python.3.11_qbz5n2kfra8p0\\LocalCache\\local-packages\\Python311\\site-packages\\sklearn\\utils\\validation.py:2739: UserWarning: X does not have valid feature names, but LGBMRegressor was fitted with feature names\n",
      "  warnings.warn(\n"
     ]
    },
    {
     "name": "stdout",
     "output_type": "stream",
     "text": [
      "-> finished loop 573\n",
      "Loop 580: train 2020-08-03 00:00:00 -> 2024-08-02 00:00:00, forecast 2024-08-03 00:00:00\n",
      "  dat_slice shape: torch.Size([1462, 24, 10])  → flatten count = 35088\n",
      "-> finished loop 574\n",
      "Loop 581: train 2020-08-04 00:00:00 -> 2024-08-03 00:00:00, forecast 2024-08-04 00:00:00\n",
      "  dat_slice shape: torch.Size([1462, 24, 10])  → flatten count = 35088\n",
      "-> finished loop 575\n",
      "Loop 582: train 2020-08-05 00:00:00 -> 2024-08-04 00:00:00, forecast 2024-08-05 00:00:00\n",
      "  dat_slice shape: torch.Size([1462, 24, 10])  → flatten count = 35088\n"
     ]
    },
    {
     "name": "stderr",
     "output_type": "stream",
     "text": [
      "C:\\Users\\amaguaya\\AppData\\Local\\Packages\\PythonSoftwareFoundation.Python.3.11_qbz5n2kfra8p0\\LocalCache\\local-packages\\Python311\\site-packages\\sklearn\\utils\\validation.py:2739: UserWarning: X does not have valid feature names, but LGBMRegressor was fitted with feature names\n",
      "  warnings.warn(\n"
     ]
    },
    {
     "name": "stdout",
     "output_type": "stream",
     "text": [
      "-> finished loop 576\n",
      "Loop 583: train 2020-08-06 00:00:00 -> 2024-08-05 00:00:00, forecast 2024-08-06 00:00:00\n",
      "  dat_slice shape: torch.Size([1462, 24, 10])  → flatten count = 35088\n"
     ]
    },
    {
     "name": "stderr",
     "output_type": "stream",
     "text": [
      "C:\\Users\\amaguaya\\AppData\\Local\\Packages\\PythonSoftwareFoundation.Python.3.11_qbz5n2kfra8p0\\LocalCache\\local-packages\\Python311\\site-packages\\sklearn\\utils\\validation.py:2739: UserWarning: X does not have valid feature names, but LGBMRegressor was fitted with feature names\n",
      "  warnings.warn(\n"
     ]
    },
    {
     "name": "stdout",
     "output_type": "stream",
     "text": [
      "-> finished loop 577\n",
      "Loop 584: train 2020-08-07 00:00:00 -> 2024-08-06 00:00:00, forecast 2024-08-07 00:00:00\n",
      "  dat_slice shape: torch.Size([1462, 24, 10])  → flatten count = 35088\n"
     ]
    },
    {
     "name": "stderr",
     "output_type": "stream",
     "text": [
      "C:\\Users\\amaguaya\\AppData\\Local\\Packages\\PythonSoftwareFoundation.Python.3.11_qbz5n2kfra8p0\\LocalCache\\local-packages\\Python311\\site-packages\\sklearn\\utils\\validation.py:2739: UserWarning: X does not have valid feature names, but LGBMRegressor was fitted with feature names\n",
      "  warnings.warn(\n"
     ]
    },
    {
     "name": "stdout",
     "output_type": "stream",
     "text": [
      "-> finished loop 578\n",
      "Loop 585: train 2020-08-08 00:00:00 -> 2024-08-07 00:00:00, forecast 2024-08-08 00:00:00\n",
      "  dat_slice shape: torch.Size([1462, 24, 10])  → flatten count = 35088\n"
     ]
    },
    {
     "name": "stderr",
     "output_type": "stream",
     "text": [
      "C:\\Users\\amaguaya\\AppData\\Local\\Packages\\PythonSoftwareFoundation.Python.3.11_qbz5n2kfra8p0\\LocalCache\\local-packages\\Python311\\site-packages\\sklearn\\utils\\validation.py:2739: UserWarning: X does not have valid feature names, but LGBMRegressor was fitted with feature names\n",
      "  warnings.warn(\n",
      "C:\\Users\\amaguaya\\AppData\\Local\\Packages\\PythonSoftwareFoundation.Python.3.11_qbz5n2kfra8p0\\LocalCache\\local-packages\\Python311\\site-packages\\sklearn\\utils\\validation.py:2739: UserWarning: X does not have valid feature names, but LGBMRegressor was fitted with feature names\n",
      "  warnings.warn(\n"
     ]
    },
    {
     "name": "stdout",
     "output_type": "stream",
     "text": [
      "-> finished loop 582\n",
      "Loop 586: train 2020-08-09 00:00:00 -> 2024-08-08 00:00:00, forecast 2024-08-09 00:00:00\n",
      "  dat_slice shape: torch.Size([1462, 24, 10])  → flatten count = 35088\n",
      "-> finished loop 579\n",
      "Loop 587: train 2020-08-10 00:00:00 -> 2024-08-09 00:00:00, forecast 2024-08-10 00:00:00\n",
      "  dat_slice shape: torch.Size([1462, 24, 10])  → flatten count = 35088\n"
     ]
    },
    {
     "name": "stderr",
     "output_type": "stream",
     "text": [
      "C:\\Users\\amaguaya\\AppData\\Local\\Packages\\PythonSoftwareFoundation.Python.3.11_qbz5n2kfra8p0\\LocalCache\\local-packages\\Python311\\site-packages\\sklearn\\utils\\validation.py:2739: UserWarning: X does not have valid feature names, but LGBMRegressor was fitted with feature names\n",
      "  warnings.warn(\n",
      "C:\\Users\\amaguaya\\AppData\\Local\\Packages\\PythonSoftwareFoundation.Python.3.11_qbz5n2kfra8p0\\LocalCache\\local-packages\\Python311\\site-packages\\sklearn\\utils\\validation.py:2739: UserWarning: X does not have valid feature names, but LGBMRegressor was fitted with feature names\n",
      "  warnings.warn(\n"
     ]
    },
    {
     "name": "stdout",
     "output_type": "stream",
     "text": [
      "-> finished loop 580\n",
      "Loop 588: train 2020-08-11 00:00:00 -> 2024-08-10 00:00:00, forecast 2024-08-11 00:00:00\n",
      "  dat_slice shape: torch.Size([1462, 24, 10])  → flatten count = 35088\n",
      "-> finished loop 581\n",
      "Loop 589: train 2020-08-12 00:00:00 -> 2024-08-11 00:00:00, forecast 2024-08-12 00:00:00\n",
      "  dat_slice shape: torch.Size([1462, 24, 10])  → flatten count = 35088\n"
     ]
    },
    {
     "name": "stderr",
     "output_type": "stream",
     "text": [
      "C:\\Users\\amaguaya\\AppData\\Local\\Packages\\PythonSoftwareFoundation.Python.3.11_qbz5n2kfra8p0\\LocalCache\\local-packages\\Python311\\site-packages\\sklearn\\utils\\validation.py:2739: UserWarning: X does not have valid feature names, but LGBMRegressor was fitted with feature names\n",
      "  warnings.warn(\n"
     ]
    },
    {
     "name": "stdout",
     "output_type": "stream",
     "text": [
      "-> finished loop 583\n",
      "Loop 590: train 2020-08-13 00:00:00 -> 2024-08-12 00:00:00, forecast 2024-08-13 00:00:00\n",
      "  dat_slice shape: torch.Size([1462, 24, 10])  → flatten count = 35088\n"
     ]
    },
    {
     "name": "stderr",
     "output_type": "stream",
     "text": [
      "C:\\Users\\amaguaya\\AppData\\Local\\Packages\\PythonSoftwareFoundation.Python.3.11_qbz5n2kfra8p0\\LocalCache\\local-packages\\Python311\\site-packages\\sklearn\\utils\\validation.py:2739: UserWarning: X does not have valid feature names, but LGBMRegressor was fitted with feature names\n",
      "  warnings.warn(\n"
     ]
    },
    {
     "name": "stdout",
     "output_type": "stream",
     "text": [
      "-> finished loop 584\n",
      "Loop 591: train 2020-08-14 00:00:00 -> 2024-08-13 00:00:00, forecast 2024-08-14 00:00:00\n",
      "  dat_slice shape: torch.Size([1462, 24, 10])  → flatten count = 35088\n"
     ]
    },
    {
     "name": "stderr",
     "output_type": "stream",
     "text": [
      "C:\\Users\\amaguaya\\AppData\\Local\\Packages\\PythonSoftwareFoundation.Python.3.11_qbz5n2kfra8p0\\LocalCache\\local-packages\\Python311\\site-packages\\sklearn\\utils\\validation.py:2739: UserWarning: X does not have valid feature names, but LGBMRegressor was fitted with feature names\n",
      "  warnings.warn(\n"
     ]
    },
    {
     "name": "stdout",
     "output_type": "stream",
     "text": [
      "-> finished loop 585\n",
      "Loop 592: train 2020-08-15 00:00:00 -> 2024-08-14 00:00:00, forecast 2024-08-15 00:00:00\n",
      "  dat_slice shape: torch.Size([1462, 24, 10])  → flatten count = 35088\n"
     ]
    },
    {
     "name": "stderr",
     "output_type": "stream",
     "text": [
      "C:\\Users\\amaguaya\\AppData\\Local\\Packages\\PythonSoftwareFoundation.Python.3.11_qbz5n2kfra8p0\\LocalCache\\local-packages\\Python311\\site-packages\\sklearn\\utils\\validation.py:2739: UserWarning: X does not have valid feature names, but LGBMRegressor was fitted with feature names\n",
      "  warnings.warn(\n",
      "C:\\Users\\amaguaya\\AppData\\Local\\Packages\\PythonSoftwareFoundation.Python.3.11_qbz5n2kfra8p0\\LocalCache\\local-packages\\Python311\\site-packages\\sklearn\\utils\\validation.py:2739: UserWarning: X does not have valid feature names, but LGBMRegressor was fitted with feature names\n",
      "  warnings.warn(\n",
      "C:\\Users\\amaguaya\\AppData\\Local\\Packages\\PythonSoftwareFoundation.Python.3.11_qbz5n2kfra8p0\\LocalCache\\local-packages\\Python311\\site-packages\\sklearn\\utils\\validation.py:2739: UserWarning: X does not have valid feature names, but LGBMRegressor was fitted with feature names\n",
      "  warnings.warn(\n"
     ]
    },
    {
     "name": "stdout",
     "output_type": "stream",
     "text": [
      "-> finished loop 588\n",
      "Loop 593: train 2020-08-16 00:00:00 -> 2024-08-15 00:00:00, forecast 2024-08-16 00:00:00\n",
      "  dat_slice shape: torch.Size([1462, 24, 10])  → flatten count = 35088\n",
      "-> finished loop 589\n",
      "Loop 594: train 2020-08-17 00:00:00 -> 2024-08-16 00:00:00, forecast 2024-08-17 00:00:00\n",
      "  dat_slice shape: torch.Size([1462, 24, 10])  → flatten count = 35088\n",
      "-> finished loop 586\n",
      "Loop 595: train 2020-08-18 00:00:00 -> 2024-08-17 00:00:00, forecast 2024-08-18 00:00:00\n",
      "  dat_slice shape: torch.Size([1462, 24, 10])  → flatten count = 35088\n"
     ]
    },
    {
     "name": "stderr",
     "output_type": "stream",
     "text": [
      "C:\\Users\\amaguaya\\AppData\\Local\\Packages\\PythonSoftwareFoundation.Python.3.11_qbz5n2kfra8p0\\LocalCache\\local-packages\\Python311\\site-packages\\sklearn\\utils\\validation.py:2739: UserWarning: X does not have valid feature names, but LGBMRegressor was fitted with feature names\n",
      "  warnings.warn(\n"
     ]
    },
    {
     "name": "stdout",
     "output_type": "stream",
     "text": [
      "-> finished loop 587\n",
      "Loop 596: train 2020-08-19 00:00:00 -> 2024-08-18 00:00:00, forecast 2024-08-19 00:00:00\n",
      "  dat_slice shape: torch.Size([1462, 24, 10])  → flatten count = 35088\n"
     ]
    },
    {
     "name": "stderr",
     "output_type": "stream",
     "text": [
      "C:\\Users\\amaguaya\\AppData\\Local\\Packages\\PythonSoftwareFoundation.Python.3.11_qbz5n2kfra8p0\\LocalCache\\local-packages\\Python311\\site-packages\\sklearn\\utils\\validation.py:2739: UserWarning: X does not have valid feature names, but LGBMRegressor was fitted with feature names\n",
      "  warnings.warn(\n"
     ]
    },
    {
     "name": "stdout",
     "output_type": "stream",
     "text": [
      "-> finished loop 590\n",
      "Loop 597: train 2020-08-20 00:00:00 -> 2024-08-19 00:00:00, forecast 2024-08-20 00:00:00\n",
      "  dat_slice shape: torch.Size([1462, 24, 10])  → flatten count = 35088\n"
     ]
    },
    {
     "name": "stderr",
     "output_type": "stream",
     "text": [
      "C:\\Users\\amaguaya\\AppData\\Local\\Packages\\PythonSoftwareFoundation.Python.3.11_qbz5n2kfra8p0\\LocalCache\\local-packages\\Python311\\site-packages\\sklearn\\utils\\validation.py:2739: UserWarning: X does not have valid feature names, but LGBMRegressor was fitted with feature names\n",
      "  warnings.warn(\n"
     ]
    },
    {
     "name": "stdout",
     "output_type": "stream",
     "text": [
      "-> finished loop 591\n",
      "Loop 598: train 2020-08-21 00:00:00 -> 2024-08-20 00:00:00, forecast 2024-08-21 00:00:00\n",
      "  dat_slice shape: torch.Size([1462, 24, 10])  → flatten count = 35088\n"
     ]
    },
    {
     "name": "stderr",
     "output_type": "stream",
     "text": [
      "C:\\Users\\amaguaya\\AppData\\Local\\Packages\\PythonSoftwareFoundation.Python.3.11_qbz5n2kfra8p0\\LocalCache\\local-packages\\Python311\\site-packages\\sklearn\\utils\\validation.py:2739: UserWarning: X does not have valid feature names, but LGBMRegressor was fitted with feature names\n",
      "  warnings.warn(\n"
     ]
    },
    {
     "name": "stdout",
     "output_type": "stream",
     "text": [
      "-> finished loop 592\n",
      "Loop 599: train 2020-08-22 00:00:00 -> 2024-08-21 00:00:00, forecast 2024-08-22 00:00:00\n",
      "  dat_slice shape: torch.Size([1462, 24, 10])  → flatten count = 35088\n"
     ]
    },
    {
     "name": "stderr",
     "output_type": "stream",
     "text": [
      "C:\\Users\\amaguaya\\AppData\\Local\\Packages\\PythonSoftwareFoundation.Python.3.11_qbz5n2kfra8p0\\LocalCache\\local-packages\\Python311\\site-packages\\sklearn\\utils\\validation.py:2739: UserWarning: X does not have valid feature names, but LGBMRegressor was fitted with feature names\n",
      "  warnings.warn(\n",
      "C:\\Users\\amaguaya\\AppData\\Local\\Packages\\PythonSoftwareFoundation.Python.3.11_qbz5n2kfra8p0\\LocalCache\\local-packages\\Python311\\site-packages\\sklearn\\utils\\validation.py:2739: UserWarning: X does not have valid feature names, but LGBMRegressor was fitted with feature names\n",
      "  warnings.warn(\n",
      "C:\\Users\\amaguaya\\AppData\\Local\\Packages\\PythonSoftwareFoundation.Python.3.11_qbz5n2kfra8p0\\LocalCache\\local-packages\\Python311\\site-packages\\sklearn\\utils\\validation.py:2739: UserWarning: X does not have valid feature names, but LGBMRegressor was fitted with feature names\n",
      "  warnings.warn(\n"
     ]
    },
    {
     "name": "stdout",
     "output_type": "stream",
     "text": [
      "-> finished loop 593\n",
      "Loop 600: train 2020-08-23 00:00:00 -> 2024-08-22 00:00:00, forecast 2024-08-23 00:00:00\n",
      "  dat_slice shape: torch.Size([1462, 24, 10])  → flatten count = 35088\n",
      "-> finished loop 594\n",
      "Loop 601: train 2020-08-24 00:00:00 -> 2024-08-23 00:00:00, forecast 2024-08-24 00:00:00\n",
      "  dat_slice shape: torch.Size([1462, 24, 10])  → flatten count = 35088\n",
      "-> finished loop 595\n",
      "Loop 602: train 2020-08-25 00:00:00 -> 2024-08-24 00:00:00, forecast 2024-08-25 00:00:00\n",
      "  dat_slice shape: torch.Size([1462, 24, 10])  → flatten count = 35088\n"
     ]
    },
    {
     "name": "stderr",
     "output_type": "stream",
     "text": [
      "C:\\Users\\amaguaya\\AppData\\Local\\Packages\\PythonSoftwareFoundation.Python.3.11_qbz5n2kfra8p0\\LocalCache\\local-packages\\Python311\\site-packages\\sklearn\\utils\\validation.py:2739: UserWarning: X does not have valid feature names, but LGBMRegressor was fitted with feature names\n",
      "  warnings.warn(\n"
     ]
    },
    {
     "name": "stdout",
     "output_type": "stream",
     "text": [
      "-> finished loop 596\n",
      "Loop 603: train 2020-08-26 00:00:00 -> 2024-08-25 00:00:00, forecast 2024-08-26 00:00:00\n",
      "  dat_slice shape: torch.Size([1462, 24, 10])  → flatten count = 35088\n"
     ]
    },
    {
     "name": "stderr",
     "output_type": "stream",
     "text": [
      "C:\\Users\\amaguaya\\AppData\\Local\\Packages\\PythonSoftwareFoundation.Python.3.11_qbz5n2kfra8p0\\LocalCache\\local-packages\\Python311\\site-packages\\sklearn\\utils\\validation.py:2739: UserWarning: X does not have valid feature names, but LGBMRegressor was fitted with feature names\n",
      "  warnings.warn(\n"
     ]
    },
    {
     "name": "stdout",
     "output_type": "stream",
     "text": [
      "-> finished loop 597\n",
      "Loop 604: train 2020-08-27 00:00:00 -> 2024-08-26 00:00:00, forecast 2024-08-27 00:00:00\n",
      "  dat_slice shape: torch.Size([1462, 24, 10])  → flatten count = 35088\n"
     ]
    },
    {
     "name": "stderr",
     "output_type": "stream",
     "text": [
      "C:\\Users\\amaguaya\\AppData\\Local\\Packages\\PythonSoftwareFoundation.Python.3.11_qbz5n2kfra8p0\\LocalCache\\local-packages\\Python311\\site-packages\\sklearn\\utils\\validation.py:2739: UserWarning: X does not have valid feature names, but LGBMRegressor was fitted with feature names\n",
      "  warnings.warn(\n"
     ]
    },
    {
     "name": "stdout",
     "output_type": "stream",
     "text": [
      "-> finished loop 598\n",
      "Loop 605: train 2020-08-28 00:00:00 -> 2024-08-27 00:00:00, forecast 2024-08-28 00:00:00\n",
      "  dat_slice shape: torch.Size([1462, 24, 10])  → flatten count = 35088\n"
     ]
    },
    {
     "name": "stderr",
     "output_type": "stream",
     "text": [
      "C:\\Users\\amaguaya\\AppData\\Local\\Packages\\PythonSoftwareFoundation.Python.3.11_qbz5n2kfra8p0\\LocalCache\\local-packages\\Python311\\site-packages\\sklearn\\utils\\validation.py:2739: UserWarning: X does not have valid feature names, but LGBMRegressor was fitted with feature names\n",
      "  warnings.warn(\n"
     ]
    },
    {
     "name": "stdout",
     "output_type": "stream",
     "text": [
      "-> finished loop 599\n",
      "Loop 606: train 2020-08-29 00:00:00 -> 2024-08-28 00:00:00, forecast 2024-08-29 00:00:00\n",
      "  dat_slice shape: torch.Size([1462, 24, 10])  → flatten count = 35088\n"
     ]
    },
    {
     "name": "stderr",
     "output_type": "stream",
     "text": [
      "C:\\Users\\amaguaya\\AppData\\Local\\Packages\\PythonSoftwareFoundation.Python.3.11_qbz5n2kfra8p0\\LocalCache\\local-packages\\Python311\\site-packages\\sklearn\\utils\\validation.py:2739: UserWarning: X does not have valid feature names, but LGBMRegressor was fitted with feature names\n",
      "  warnings.warn(\n"
     ]
    },
    {
     "name": "stdout",
     "output_type": "stream",
     "text": [
      "-> finished loop 600\n",
      "Loop 607: train 2020-08-30 00:00:00 -> 2024-08-29 00:00:00, forecast 2024-08-30 00:00:00\n",
      "  dat_slice shape: torch.Size([1462, 24, 10])  → flatten count = 35088\n"
     ]
    },
    {
     "name": "stderr",
     "output_type": "stream",
     "text": [
      "C:\\Users\\amaguaya\\AppData\\Local\\Packages\\PythonSoftwareFoundation.Python.3.11_qbz5n2kfra8p0\\LocalCache\\local-packages\\Python311\\site-packages\\sklearn\\utils\\validation.py:2739: UserWarning: X does not have valid feature names, but LGBMRegressor was fitted with feature names\n",
      "  warnings.warn(\n"
     ]
    },
    {
     "name": "stdout",
     "output_type": "stream",
     "text": [
      "-> finished loop 603\n",
      "Loop 608: train 2020-08-31 00:00:00 -> 2024-08-30 00:00:00, forecast 2024-08-31 00:00:00\n",
      "  dat_slice shape: torch.Size([1462, 24, 10])  → flatten count = 35088\n"
     ]
    },
    {
     "name": "stderr",
     "output_type": "stream",
     "text": [
      "C:\\Users\\amaguaya\\AppData\\Local\\Packages\\PythonSoftwareFoundation.Python.3.11_qbz5n2kfra8p0\\LocalCache\\local-packages\\Python311\\site-packages\\sklearn\\utils\\validation.py:2739: UserWarning: X does not have valid feature names, but LGBMRegressor was fitted with feature names\n",
      "  warnings.warn(\n",
      "C:\\Users\\amaguaya\\AppData\\Local\\Packages\\PythonSoftwareFoundation.Python.3.11_qbz5n2kfra8p0\\LocalCache\\local-packages\\Python311\\site-packages\\sklearn\\utils\\validation.py:2739: UserWarning: X does not have valid feature names, but LGBMRegressor was fitted with feature names\n",
      "  warnings.warn(\n"
     ]
    },
    {
     "name": "stdout",
     "output_type": "stream",
     "text": [
      "-> finished loop 601\n",
      "Loop 609: train 2020-09-01 00:00:00 -> 2024-08-31 00:00:00, forecast 2024-09-01 00:00:00\n",
      "  dat_slice shape: torch.Size([1462, 24, 10])  → flatten count = 35088\n",
      "-> finished loop 602\n",
      "Loop 610: train 2020-09-02 00:00:00 -> 2024-09-01 00:00:00, forecast 2024-09-02 00:00:00\n",
      "  dat_slice shape: torch.Size([1462, 24, 10])  → flatten count = 35088\n"
     ]
    },
    {
     "name": "stderr",
     "output_type": "stream",
     "text": [
      "C:\\Users\\amaguaya\\AppData\\Local\\Packages\\PythonSoftwareFoundation.Python.3.11_qbz5n2kfra8p0\\LocalCache\\local-packages\\Python311\\site-packages\\sklearn\\utils\\validation.py:2739: UserWarning: X does not have valid feature names, but LGBMRegressor was fitted with feature names\n",
      "  warnings.warn(\n"
     ]
    },
    {
     "name": "stdout",
     "output_type": "stream",
     "text": [
      "-> finished loop 604\n",
      "Loop 611: train 2020-09-03 00:00:00 -> 2024-09-02 00:00:00, forecast 2024-09-03 00:00:00\n",
      "  dat_slice shape: torch.Size([1462, 24, 10])  → flatten count = 35088\n"
     ]
    },
    {
     "name": "stderr",
     "output_type": "stream",
     "text": [
      "C:\\Users\\amaguaya\\AppData\\Local\\Packages\\PythonSoftwareFoundation.Python.3.11_qbz5n2kfra8p0\\LocalCache\\local-packages\\Python311\\site-packages\\sklearn\\utils\\validation.py:2739: UserWarning: X does not have valid feature names, but LGBMRegressor was fitted with feature names\n",
      "  warnings.warn(\n"
     ]
    },
    {
     "name": "stdout",
     "output_type": "stream",
     "text": [
      "-> finished loop 605\n",
      "Loop 612: train 2020-09-04 00:00:00 -> 2024-09-03 00:00:00, forecast 2024-09-04 00:00:00\n",
      "  dat_slice shape: torch.Size([1462, 24, 10])  → flatten count = 35088\n"
     ]
    },
    {
     "name": "stderr",
     "output_type": "stream",
     "text": [
      "C:\\Users\\amaguaya\\AppData\\Local\\Packages\\PythonSoftwareFoundation.Python.3.11_qbz5n2kfra8p0\\LocalCache\\local-packages\\Python311\\site-packages\\sklearn\\utils\\validation.py:2739: UserWarning: X does not have valid feature names, but LGBMRegressor was fitted with feature names\n",
      "  warnings.warn(\n"
     ]
    },
    {
     "name": "stdout",
     "output_type": "stream",
     "text": [
      "-> finished loop 606\n",
      "Loop 613: train 2020-09-05 00:00:00 -> 2024-09-04 00:00:00, forecast 2024-09-05 00:00:00\n",
      "  dat_slice shape: torch.Size([1462, 24, 10])  → flatten count = 35088\n"
     ]
    },
    {
     "name": "stderr",
     "output_type": "stream",
     "text": [
      "C:\\Users\\amaguaya\\AppData\\Local\\Packages\\PythonSoftwareFoundation.Python.3.11_qbz5n2kfra8p0\\LocalCache\\local-packages\\Python311\\site-packages\\sklearn\\utils\\validation.py:2739: UserWarning: X does not have valid feature names, but LGBMRegressor was fitted with feature names\n",
      "  warnings.warn(\n"
     ]
    },
    {
     "name": "stdout",
     "output_type": "stream",
     "text": [
      "-> finished loop 607\n",
      "Loop 614: train 2020-09-06 00:00:00 -> 2024-09-05 00:00:00, forecast 2024-09-06 00:00:00\n",
      "  dat_slice shape: torch.Size([1462, 24, 10])  → flatten count = 35088\n"
     ]
    },
    {
     "name": "stderr",
     "output_type": "stream",
     "text": [
      "C:\\Users\\amaguaya\\AppData\\Local\\Packages\\PythonSoftwareFoundation.Python.3.11_qbz5n2kfra8p0\\LocalCache\\local-packages\\Python311\\site-packages\\sklearn\\utils\\validation.py:2739: UserWarning: X does not have valid feature names, but LGBMRegressor was fitted with feature names\n",
      "  warnings.warn(\n"
     ]
    },
    {
     "name": "stdout",
     "output_type": "stream",
     "text": [
      "-> finished loop 608\n",
      "Loop 615: train 2020-09-07 00:00:00 -> 2024-09-06 00:00:00, forecast 2024-09-07 00:00:00\n",
      "  dat_slice shape: torch.Size([1462, 24, 10])  → flatten count = 35088\n"
     ]
    },
    {
     "name": "stderr",
     "output_type": "stream",
     "text": [
      "C:\\Users\\amaguaya\\AppData\\Local\\Packages\\PythonSoftwareFoundation.Python.3.11_qbz5n2kfra8p0\\LocalCache\\local-packages\\Python311\\site-packages\\sklearn\\utils\\validation.py:2739: UserWarning: X does not have valid feature names, but LGBMRegressor was fitted with feature names\n",
      "  warnings.warn(\n",
      "C:\\Users\\amaguaya\\AppData\\Local\\Packages\\PythonSoftwareFoundation.Python.3.11_qbz5n2kfra8p0\\LocalCache\\local-packages\\Python311\\site-packages\\sklearn\\utils\\validation.py:2739: UserWarning: X does not have valid feature names, but LGBMRegressor was fitted with feature names\n",
      "  warnings.warn(\n"
     ]
    },
    {
     "name": "stdout",
     "output_type": "stream",
     "text": [
      "-> finished loop 609-> finished loop 610\n",
      "Loop 616: train 2020-09-08 00:00:00 -> 2024-09-07 00:00:00, forecast 2024-09-08 00:00:00\n",
      "  dat_slice shape: torch.Size([1462, 24, 10])  → flatten count = 35088\n",
      "\n",
      "Loop 617: train 2020-09-09 00:00:00 -> 2024-09-08 00:00:00, forecast 2024-09-09 00:00:00\n",
      "  dat_slice shape: torch.Size([1462, 24, 10])  → flatten count = 35088\n"
     ]
    },
    {
     "name": "stderr",
     "output_type": "stream",
     "text": [
      "C:\\Users\\amaguaya\\AppData\\Local\\Packages\\PythonSoftwareFoundation.Python.3.11_qbz5n2kfra8p0\\LocalCache\\local-packages\\Python311\\site-packages\\sklearn\\utils\\validation.py:2739: UserWarning: X does not have valid feature names, but LGBMRegressor was fitted with feature names\n",
      "  warnings.warn(\n"
     ]
    },
    {
     "name": "stdout",
     "output_type": "stream",
     "text": [
      "-> finished loop 611\n",
      "Loop 618: train 2020-09-10 00:00:00 -> 2024-09-09 00:00:00, forecast 2024-09-10 00:00:00\n",
      "  dat_slice shape: torch.Size([1462, 24, 10])  → flatten count = 35088\n"
     ]
    },
    {
     "name": "stderr",
     "output_type": "stream",
     "text": [
      "C:\\Users\\amaguaya\\AppData\\Local\\Packages\\PythonSoftwareFoundation.Python.3.11_qbz5n2kfra8p0\\LocalCache\\local-packages\\Python311\\site-packages\\sklearn\\utils\\validation.py:2739: UserWarning: X does not have valid feature names, but LGBMRegressor was fitted with feature names\n",
      "  warnings.warn(\n"
     ]
    },
    {
     "name": "stdout",
     "output_type": "stream",
     "text": [
      "-> finished loop 612\n",
      "Loop 619: train 2020-09-11 00:00:00 -> 2024-09-10 00:00:00, forecast 2024-09-11 00:00:00\n",
      "  dat_slice shape: torch.Size([1462, 24, 10])  → flatten count = 35088\n"
     ]
    },
    {
     "name": "stderr",
     "output_type": "stream",
     "text": [
      "C:\\Users\\amaguaya\\AppData\\Local\\Packages\\PythonSoftwareFoundation.Python.3.11_qbz5n2kfra8p0\\LocalCache\\local-packages\\Python311\\site-packages\\sklearn\\utils\\validation.py:2739: UserWarning: X does not have valid feature names, but LGBMRegressor was fitted with feature names\n",
      "  warnings.warn(\n"
     ]
    },
    {
     "name": "stdout",
     "output_type": "stream",
     "text": [
      "-> finished loop 613\n",
      "Loop 620: train 2020-09-12 00:00:00 -> 2024-09-11 00:00:00, forecast 2024-09-12 00:00:00\n",
      "  dat_slice shape: torch.Size([1462, 24, 10])  → flatten count = 35088\n"
     ]
    },
    {
     "name": "stderr",
     "output_type": "stream",
     "text": [
      "C:\\Users\\amaguaya\\AppData\\Local\\Packages\\PythonSoftwareFoundation.Python.3.11_qbz5n2kfra8p0\\LocalCache\\local-packages\\Python311\\site-packages\\sklearn\\utils\\validation.py:2739: UserWarning: X does not have valid feature names, but LGBMRegressor was fitted with feature names\n",
      "  warnings.warn(\n"
     ]
    },
    {
     "name": "stdout",
     "output_type": "stream",
     "text": [
      "-> finished loop 614\n",
      "Loop 621: train 2020-09-13 00:00:00 -> 2024-09-12 00:00:00, forecast 2024-09-13 00:00:00\n",
      "  dat_slice shape: torch.Size([1462, 24, 10])  → flatten count = 35088\n"
     ]
    },
    {
     "name": "stderr",
     "output_type": "stream",
     "text": [
      "C:\\Users\\amaguaya\\AppData\\Local\\Packages\\PythonSoftwareFoundation.Python.3.11_qbz5n2kfra8p0\\LocalCache\\local-packages\\Python311\\site-packages\\sklearn\\utils\\validation.py:2739: UserWarning: X does not have valid feature names, but LGBMRegressor was fitted with feature names\n",
      "  warnings.warn(\n",
      "C:\\Users\\amaguaya\\AppData\\Local\\Packages\\PythonSoftwareFoundation.Python.3.11_qbz5n2kfra8p0\\LocalCache\\local-packages\\Python311\\site-packages\\sklearn\\utils\\validation.py:2739: UserWarning: X does not have valid feature names, but LGBMRegressor was fitted with feature names\n",
      "  warnings.warn(\n"
     ]
    },
    {
     "name": "stdout",
     "output_type": "stream",
     "text": [
      "-> finished loop 615\n",
      "Loop 622: train 2020-09-14 00:00:00 -> 2024-09-13 00:00:00, forecast 2024-09-14 00:00:00\n",
      "  dat_slice shape: torch.Size([1462, 24, 10])  → flatten count = 35088\n",
      "-> finished loop 616\n",
      "Loop 623: train 2020-09-15 00:00:00 -> 2024-09-14 00:00:00, forecast 2024-09-15 00:00:00\n",
      "  dat_slice shape: torch.Size([1462, 24, 10])  → flatten count = 35088\n"
     ]
    },
    {
     "name": "stderr",
     "output_type": "stream",
     "text": [
      "C:\\Users\\amaguaya\\AppData\\Local\\Packages\\PythonSoftwareFoundation.Python.3.11_qbz5n2kfra8p0\\LocalCache\\local-packages\\Python311\\site-packages\\sklearn\\utils\\validation.py:2739: UserWarning: X does not have valid feature names, but LGBMRegressor was fitted with feature names\n",
      "  warnings.warn(\n"
     ]
    },
    {
     "name": "stdout",
     "output_type": "stream",
     "text": [
      "-> finished loop 617\n",
      "Loop 624: train 2020-09-16 00:00:00 -> 2024-09-15 00:00:00, forecast 2024-09-16 00:00:00\n",
      "  dat_slice shape: torch.Size([1462, 24, 10])  → flatten count = 35088\n"
     ]
    },
    {
     "name": "stderr",
     "output_type": "stream",
     "text": [
      "C:\\Users\\amaguaya\\AppData\\Local\\Packages\\PythonSoftwareFoundation.Python.3.11_qbz5n2kfra8p0\\LocalCache\\local-packages\\Python311\\site-packages\\sklearn\\utils\\validation.py:2739: UserWarning: X does not have valid feature names, but LGBMRegressor was fitted with feature names\n",
      "  warnings.warn(\n"
     ]
    },
    {
     "name": "stdout",
     "output_type": "stream",
     "text": [
      "-> finished loop 618\n",
      "Loop 625: train 2020-09-17 00:00:00 -> 2024-09-16 00:00:00, forecast 2024-09-17 00:00:00\n",
      "  dat_slice shape: torch.Size([1462, 24, 10])  → flatten count = 35088\n"
     ]
    },
    {
     "name": "stderr",
     "output_type": "stream",
     "text": [
      "C:\\Users\\amaguaya\\AppData\\Local\\Packages\\PythonSoftwareFoundation.Python.3.11_qbz5n2kfra8p0\\LocalCache\\local-packages\\Python311\\site-packages\\sklearn\\utils\\validation.py:2739: UserWarning: X does not have valid feature names, but LGBMRegressor was fitted with feature names\n",
      "  warnings.warn(\n"
     ]
    },
    {
     "name": "stdout",
     "output_type": "stream",
     "text": [
      "-> finished loop 619\n",
      "Loop 626: train 2020-09-18 00:00:00 -> 2024-09-17 00:00:00, forecast 2024-09-18 00:00:00\n",
      "  dat_slice shape: torch.Size([1462, 24, 10])  → flatten count = 35088\n"
     ]
    },
    {
     "name": "stderr",
     "output_type": "stream",
     "text": [
      "C:\\Users\\amaguaya\\AppData\\Local\\Packages\\PythonSoftwareFoundation.Python.3.11_qbz5n2kfra8p0\\LocalCache\\local-packages\\Python311\\site-packages\\sklearn\\utils\\validation.py:2739: UserWarning: X does not have valid feature names, but LGBMRegressor was fitted with feature names\n",
      "  warnings.warn(\n"
     ]
    },
    {
     "name": "stdout",
     "output_type": "stream",
     "text": [
      "-> finished loop 620\n",
      "Loop 627: train 2020-09-19 00:00:00 -> 2024-09-18 00:00:00, forecast 2024-09-19 00:00:00\n",
      "  dat_slice shape: torch.Size([1462, 24, 10])  → flatten count = 35088\n"
     ]
    },
    {
     "name": "stderr",
     "output_type": "stream",
     "text": [
      "C:\\Users\\amaguaya\\AppData\\Local\\Packages\\PythonSoftwareFoundation.Python.3.11_qbz5n2kfra8p0\\LocalCache\\local-packages\\Python311\\site-packages\\sklearn\\utils\\validation.py:2739: UserWarning: X does not have valid feature names, but LGBMRegressor was fitted with feature names\n",
      "  warnings.warn(\n"
     ]
    },
    {
     "name": "stdout",
     "output_type": "stream",
     "text": [
      "-> finished loop 621\n",
      "Loop 628: train 2020-09-20 00:00:00 -> 2024-09-19 00:00:00, forecast 2024-09-20 00:00:00\n",
      "  dat_slice shape: torch.Size([1462, 24, 10])  → flatten count = 35088\n"
     ]
    },
    {
     "name": "stderr",
     "output_type": "stream",
     "text": [
      "C:\\Users\\amaguaya\\AppData\\Local\\Packages\\PythonSoftwareFoundation.Python.3.11_qbz5n2kfra8p0\\LocalCache\\local-packages\\Python311\\site-packages\\sklearn\\utils\\validation.py:2739: UserWarning: X does not have valid feature names, but LGBMRegressor was fitted with feature names\n",
      "  warnings.warn(\n",
      "C:\\Users\\amaguaya\\AppData\\Local\\Packages\\PythonSoftwareFoundation.Python.3.11_qbz5n2kfra8p0\\LocalCache\\local-packages\\Python311\\site-packages\\sklearn\\utils\\validation.py:2739: UserWarning: X does not have valid feature names, but LGBMRegressor was fitted with feature names\n",
      "  warnings.warn(\n",
      "C:\\Users\\amaguaya\\AppData\\Local\\Packages\\PythonSoftwareFoundation.Python.3.11_qbz5n2kfra8p0\\LocalCache\\local-packages\\Python311\\site-packages\\sklearn\\utils\\validation.py:2739: UserWarning: X does not have valid feature names, but LGBMRegressor was fitted with feature names\n",
      "  warnings.warn(\n"
     ]
    },
    {
     "name": "stdout",
     "output_type": "stream",
     "text": [
      "-> finished loop 622\n",
      "Loop 629: train 2020-09-21 00:00:00 -> 2024-09-20 00:00:00, forecast 2024-09-21 00:00:00\n",
      "  dat_slice shape: torch.Size([1462, 24, 10])  → flatten count = 35088\n",
      "-> finished loop 623\n",
      "Loop 630: train 2020-09-22 00:00:00 -> 2024-09-21 00:00:00, forecast 2024-09-22 00:00:00\n",
      "  dat_slice shape: torch.Size([1462, 24, 10])  → flatten count = 35088\n",
      "-> finished loop 624\n",
      "Loop 631: train 2020-09-23 00:00:00 -> 2024-09-22 00:00:00, forecast 2024-09-23 00:00:00\n",
      "  dat_slice shape: torch.Size([1462, 24, 10])  → flatten count = 35088\n"
     ]
    },
    {
     "name": "stderr",
     "output_type": "stream",
     "text": [
      "C:\\Users\\amaguaya\\AppData\\Local\\Packages\\PythonSoftwareFoundation.Python.3.11_qbz5n2kfra8p0\\LocalCache\\local-packages\\Python311\\site-packages\\sklearn\\utils\\validation.py:2739: UserWarning: X does not have valid feature names, but LGBMRegressor was fitted with feature names\n",
      "  warnings.warn(\n"
     ]
    },
    {
     "name": "stdout",
     "output_type": "stream",
     "text": [
      "-> finished loop 625\n",
      "Loop 632: train 2020-09-24 00:00:00 -> 2024-09-23 00:00:00, forecast 2024-09-24 00:00:00\n",
      "  dat_slice shape: torch.Size([1462, 24, 10])  → flatten count = 35088\n"
     ]
    },
    {
     "name": "stderr",
     "output_type": "stream",
     "text": [
      "C:\\Users\\amaguaya\\AppData\\Local\\Packages\\PythonSoftwareFoundation.Python.3.11_qbz5n2kfra8p0\\LocalCache\\local-packages\\Python311\\site-packages\\sklearn\\utils\\validation.py:2739: UserWarning: X does not have valid feature names, but LGBMRegressor was fitted with feature names\n",
      "  warnings.warn(\n"
     ]
    },
    {
     "name": "stdout",
     "output_type": "stream",
     "text": [
      "-> finished loop 626\n",
      "Loop 633: train 2020-09-25 00:00:00 -> 2024-09-24 00:00:00, forecast 2024-09-25 00:00:00\n",
      "  dat_slice shape: torch.Size([1462, 24, 10])  → flatten count = 35088\n"
     ]
    },
    {
     "name": "stderr",
     "output_type": "stream",
     "text": [
      "C:\\Users\\amaguaya\\AppData\\Local\\Packages\\PythonSoftwareFoundation.Python.3.11_qbz5n2kfra8p0\\LocalCache\\local-packages\\Python311\\site-packages\\sklearn\\utils\\validation.py:2739: UserWarning: X does not have valid feature names, but LGBMRegressor was fitted with feature names\n",
      "  warnings.warn(\n"
     ]
    },
    {
     "name": "stdout",
     "output_type": "stream",
     "text": [
      "-> finished loop 627\n",
      "Loop 634: train 2020-09-26 00:00:00 -> 2024-09-25 00:00:00, forecast 2024-09-26 00:00:00\n",
      "  dat_slice shape: torch.Size([1462, 24, 10])  → flatten count = 35088\n"
     ]
    },
    {
     "name": "stderr",
     "output_type": "stream",
     "text": [
      "C:\\Users\\amaguaya\\AppData\\Local\\Packages\\PythonSoftwareFoundation.Python.3.11_qbz5n2kfra8p0\\LocalCache\\local-packages\\Python311\\site-packages\\sklearn\\utils\\validation.py:2739: UserWarning: X does not have valid feature names, but LGBMRegressor was fitted with feature names\n",
      "  warnings.warn(\n"
     ]
    },
    {
     "name": "stdout",
     "output_type": "stream",
     "text": [
      "-> finished loop 628\n",
      "Loop 635: train 2020-09-27 00:00:00 -> 2024-09-26 00:00:00, forecast 2024-09-27 00:00:00\n",
      "  dat_slice shape: torch.Size([1462, 24, 10])  → flatten count = 35088\n"
     ]
    },
    {
     "name": "stderr",
     "output_type": "stream",
     "text": [
      "C:\\Users\\amaguaya\\AppData\\Local\\Packages\\PythonSoftwareFoundation.Python.3.11_qbz5n2kfra8p0\\LocalCache\\local-packages\\Python311\\site-packages\\sklearn\\utils\\validation.py:2739: UserWarning: X does not have valid feature names, but LGBMRegressor was fitted with feature names\n",
      "  warnings.warn(\n",
      "C:\\Users\\amaguaya\\AppData\\Local\\Packages\\PythonSoftwareFoundation.Python.3.11_qbz5n2kfra8p0\\LocalCache\\local-packages\\Python311\\site-packages\\sklearn\\utils\\validation.py:2739: UserWarning: X does not have valid feature names, but LGBMRegressor was fitted with feature names\n",
      "  warnings.warn(\n"
     ]
    },
    {
     "name": "stdout",
     "output_type": "stream",
     "text": [
      "-> finished loop 630\n",
      "Loop 636: train 2020-09-28 00:00:00 -> 2024-09-27 00:00:00, forecast 2024-09-28 00:00:00\n",
      "  dat_slice shape: torch.Size([1462, 24, 10])  → flatten count = 35088\n",
      "-> finished loop 631\n",
      "Loop 637: train 2020-09-29 00:00:00 -> 2024-09-28 00:00:00, forecast 2024-09-29 00:00:00\n",
      "  dat_slice shape: torch.Size([1462, 24, 10])  → flatten count = 35088\n"
     ]
    },
    {
     "name": "stderr",
     "output_type": "stream",
     "text": [
      "C:\\Users\\amaguaya\\AppData\\Local\\Packages\\PythonSoftwareFoundation.Python.3.11_qbz5n2kfra8p0\\LocalCache\\local-packages\\Python311\\site-packages\\sklearn\\utils\\validation.py:2739: UserWarning: X does not have valid feature names, but LGBMRegressor was fitted with feature names\n",
      "  warnings.warn(\n",
      "C:\\Users\\amaguaya\\AppData\\Local\\Packages\\PythonSoftwareFoundation.Python.3.11_qbz5n2kfra8p0\\LocalCache\\local-packages\\Python311\\site-packages\\sklearn\\utils\\validation.py:2739: UserWarning: X does not have valid feature names, but LGBMRegressor was fitted with feature names\n",
      "  warnings.warn(\n"
     ]
    },
    {
     "name": "stdout",
     "output_type": "stream",
     "text": [
      "-> finished loop 632\n",
      "Loop 638: train 2020-09-30 00:00:00 -> 2024-09-29 00:00:00, forecast 2024-09-30 00:00:00\n",
      "  dat_slice shape: torch.Size([1462, 24, 10])  → flatten count = 35088\n",
      "-> finished loop 629\n",
      "Loop 639: train 2020-10-01 00:00:00 -> 2024-09-30 00:00:00, forecast 2024-10-01 00:00:00\n",
      "  dat_slice shape: torch.Size([1462, 24, 10])  → flatten count = 35088\n"
     ]
    },
    {
     "name": "stderr",
     "output_type": "stream",
     "text": [
      "C:\\Users\\amaguaya\\AppData\\Local\\Packages\\PythonSoftwareFoundation.Python.3.11_qbz5n2kfra8p0\\LocalCache\\local-packages\\Python311\\site-packages\\sklearn\\utils\\validation.py:2739: UserWarning: X does not have valid feature names, but LGBMRegressor was fitted with feature names\n",
      "  warnings.warn(\n",
      "C:\\Users\\amaguaya\\AppData\\Local\\Packages\\PythonSoftwareFoundation.Python.3.11_qbz5n2kfra8p0\\LocalCache\\local-packages\\Python311\\site-packages\\sklearn\\utils\\validation.py:2739: UserWarning: X does not have valid feature names, but LGBMRegressor was fitted with feature names\n",
      "  warnings.warn(\n"
     ]
    },
    {
     "name": "stdout",
     "output_type": "stream",
     "text": [
      "-> finished loop 633\n",
      "Loop 640: train 2020-10-02 00:00:00 -> 2024-10-01 00:00:00, forecast 2024-10-02 00:00:00\n",
      "  dat_slice shape: torch.Size([1462, 24, 10])  → flatten count = 35088\n",
      "-> finished loop 634\n",
      "Loop 641: train 2020-10-03 00:00:00 -> 2024-10-02 00:00:00, forecast 2024-10-03 00:00:00\n",
      "  dat_slice shape: torch.Size([1462, 24, 10])  → flatten count = 35088\n"
     ]
    },
    {
     "name": "stderr",
     "output_type": "stream",
     "text": [
      "C:\\Users\\amaguaya\\AppData\\Local\\Packages\\PythonSoftwareFoundation.Python.3.11_qbz5n2kfra8p0\\LocalCache\\local-packages\\Python311\\site-packages\\sklearn\\utils\\validation.py:2739: UserWarning: X does not have valid feature names, but LGBMRegressor was fitted with feature names\n",
      "  warnings.warn(\n",
      "C:\\Users\\amaguaya\\AppData\\Local\\Packages\\PythonSoftwareFoundation.Python.3.11_qbz5n2kfra8p0\\LocalCache\\local-packages\\Python311\\site-packages\\sklearn\\utils\\validation.py:2739: UserWarning: X does not have valid feature names, but LGBMRegressor was fitted with feature names\n",
      "  warnings.warn(\n",
      "C:\\Users\\amaguaya\\AppData\\Local\\Packages\\PythonSoftwareFoundation.Python.3.11_qbz5n2kfra8p0\\LocalCache\\local-packages\\Python311\\site-packages\\sklearn\\utils\\validation.py:2739: UserWarning: X does not have valid feature names, but LGBMRegressor was fitted with feature names\n",
      "  warnings.warn(\n"
     ]
    },
    {
     "name": "stdout",
     "output_type": "stream",
     "text": [
      "-> finished loop 635\n",
      "Loop 642: train 2020-10-04 00:00:00 -> 2024-10-03 00:00:00, forecast 2024-10-04 00:00:00\n",
      "  dat_slice shape: torch.Size([1462, 24, 10])  → flatten count = 35088\n",
      "-> finished loop 636\n",
      "Loop 643: train 2020-10-05 00:00:00 -> 2024-10-04 00:00:00, forecast 2024-10-05 00:00:00\n",
      "  dat_slice shape: torch.Size([1462, 24, 10])  → flatten count = 35088\n",
      "-> finished loop 637\n",
      "Loop 644: train 2020-10-06 00:00:00 -> 2024-10-05 00:00:00, forecast 2024-10-06 00:00:00\n",
      "  dat_slice shape: torch.Size([1462, 24, 10])  → flatten count = 35088\n"
     ]
    },
    {
     "name": "stderr",
     "output_type": "stream",
     "text": [
      "C:\\Users\\amaguaya\\AppData\\Local\\Packages\\PythonSoftwareFoundation.Python.3.11_qbz5n2kfra8p0\\LocalCache\\local-packages\\Python311\\site-packages\\sklearn\\utils\\validation.py:2739: UserWarning: X does not have valid feature names, but LGBMRegressor was fitted with feature names\n",
      "  warnings.warn(\n"
     ]
    },
    {
     "name": "stdout",
     "output_type": "stream",
     "text": [
      "-> finished loop 639\n",
      "Loop 645: train 2020-10-07 00:00:00 -> 2024-10-06 00:00:00, forecast 2024-10-07 00:00:00\n",
      "  dat_slice shape: torch.Size([1462, 24, 10])  → flatten count = 35088\n"
     ]
    },
    {
     "name": "stderr",
     "output_type": "stream",
     "text": [
      "C:\\Users\\amaguaya\\AppData\\Local\\Packages\\PythonSoftwareFoundation.Python.3.11_qbz5n2kfra8p0\\LocalCache\\local-packages\\Python311\\site-packages\\sklearn\\utils\\validation.py:2739: UserWarning: X does not have valid feature names, but LGBMRegressor was fitted with feature names\n",
      "  warnings.warn(\n"
     ]
    },
    {
     "name": "stdout",
     "output_type": "stream",
     "text": [
      "-> finished loop 638\n",
      "Loop 646: train 2020-10-08 00:00:00 -> 2024-10-07 00:00:00, forecast 2024-10-08 00:00:00\n",
      "  dat_slice shape: torch.Size([1462, 24, 10])  → flatten count = 35088\n"
     ]
    },
    {
     "name": "stderr",
     "output_type": "stream",
     "text": [
      "C:\\Users\\amaguaya\\AppData\\Local\\Packages\\PythonSoftwareFoundation.Python.3.11_qbz5n2kfra8p0\\LocalCache\\local-packages\\Python311\\site-packages\\sklearn\\utils\\validation.py:2739: UserWarning: X does not have valid feature names, but LGBMRegressor was fitted with feature names\n",
      "  warnings.warn(\n",
      "C:\\Users\\amaguaya\\AppData\\Local\\Packages\\PythonSoftwareFoundation.Python.3.11_qbz5n2kfra8p0\\LocalCache\\local-packages\\Python311\\site-packages\\sklearn\\utils\\validation.py:2739: UserWarning: X does not have valid feature names, but LGBMRegressor was fitted with feature names\n",
      "  warnings.warn(\n"
     ]
    },
    {
     "name": "stdout",
     "output_type": "stream",
     "text": [
      "-> finished loop 640\n",
      "Loop 647: train 2020-10-09 00:00:00 -> 2024-10-08 00:00:00, forecast 2024-10-09 00:00:00\n",
      "  dat_slice shape: torch.Size([1462, 24, 10])  → flatten count = 35088\n",
      "-> finished loop 641\n",
      "Loop 648: train 2020-10-10 00:00:00 -> 2024-10-09 00:00:00, forecast 2024-10-10 00:00:00\n",
      "  dat_slice shape: torch.Size([1462, 24, 10])  → flatten count = 35088\n"
     ]
    },
    {
     "name": "stderr",
     "output_type": "stream",
     "text": [
      "C:\\Users\\amaguaya\\AppData\\Local\\Packages\\PythonSoftwareFoundation.Python.3.11_qbz5n2kfra8p0\\LocalCache\\local-packages\\Python311\\site-packages\\sklearn\\utils\\validation.py:2739: UserWarning: X does not have valid feature names, but LGBMRegressor was fitted with feature names\n",
      "  warnings.warn(\n",
      "C:\\Users\\amaguaya\\AppData\\Local\\Packages\\PythonSoftwareFoundation.Python.3.11_qbz5n2kfra8p0\\LocalCache\\local-packages\\Python311\\site-packages\\sklearn\\utils\\validation.py:2739: UserWarning: X does not have valid feature names, but LGBMRegressor was fitted with feature names\n",
      "  warnings.warn(\n"
     ]
    },
    {
     "name": "stdout",
     "output_type": "stream",
     "text": [
      "-> finished loop 643\n",
      "Loop 649: train 2020-10-11 00:00:00 -> 2024-10-10 00:00:00, forecast 2024-10-11 00:00:00\n",
      "  dat_slice shape: torch.Size([1462, 24, 10])  → flatten count = 35088\n",
      "-> finished loop 644\n",
      "Loop 650: train 2020-10-12 00:00:00 -> 2024-10-11 00:00:00, forecast 2024-10-12 00:00:00\n",
      "  dat_slice shape: torch.Size([1462, 24, 10])  → flatten count = 35088\n"
     ]
    },
    {
     "name": "stderr",
     "output_type": "stream",
     "text": [
      "C:\\Users\\amaguaya\\AppData\\Local\\Packages\\PythonSoftwareFoundation.Python.3.11_qbz5n2kfra8p0\\LocalCache\\local-packages\\Python311\\site-packages\\sklearn\\utils\\validation.py:2739: UserWarning: X does not have valid feature names, but LGBMRegressor was fitted with feature names\n",
      "  warnings.warn(\n",
      "C:\\Users\\amaguaya\\AppData\\Local\\Packages\\PythonSoftwareFoundation.Python.3.11_qbz5n2kfra8p0\\LocalCache\\local-packages\\Python311\\site-packages\\sklearn\\utils\\validation.py:2739: UserWarning: X does not have valid feature names, but LGBMRegressor was fitted with feature names\n",
      "  warnings.warn(\n"
     ]
    },
    {
     "name": "stdout",
     "output_type": "stream",
     "text": [
      "-> finished loop 642\n",
      "Loop 651: train 2020-10-13 00:00:00 -> 2024-10-12 00:00:00, forecast 2024-10-13 00:00:00\n",
      "  dat_slice shape: torch.Size([1462, 24, 10])  → flatten count = 35088\n",
      "-> finished loop 645\n",
      "Loop 652: train 2020-10-14 00:00:00 -> 2024-10-13 00:00:00, forecast 2024-10-14 00:00:00\n",
      "  dat_slice shape: torch.Size([1462, 24, 10])  → flatten count = 35088\n"
     ]
    },
    {
     "name": "stderr",
     "output_type": "stream",
     "text": [
      "C:\\Users\\amaguaya\\AppData\\Local\\Packages\\PythonSoftwareFoundation.Python.3.11_qbz5n2kfra8p0\\LocalCache\\local-packages\\Python311\\site-packages\\sklearn\\utils\\validation.py:2739: UserWarning: X does not have valid feature names, but LGBMRegressor was fitted with feature names\n",
      "  warnings.warn(\n"
     ]
    },
    {
     "name": "stdout",
     "output_type": "stream",
     "text": [
      "-> finished loop 646\n",
      "Loop 653: train 2020-10-15 00:00:00 -> 2024-10-14 00:00:00, forecast 2024-10-15 00:00:00\n",
      "  dat_slice shape: torch.Size([1462, 24, 10])  → flatten count = 35088\n"
     ]
    },
    {
     "name": "stderr",
     "output_type": "stream",
     "text": [
      "C:\\Users\\amaguaya\\AppData\\Local\\Packages\\PythonSoftwareFoundation.Python.3.11_qbz5n2kfra8p0\\LocalCache\\local-packages\\Python311\\site-packages\\sklearn\\utils\\validation.py:2739: UserWarning: X does not have valid feature names, but LGBMRegressor was fitted with feature names\n",
      "  warnings.warn(\n"
     ]
    },
    {
     "name": "stdout",
     "output_type": "stream",
     "text": [
      "-> finished loop 647\n",
      "Loop 654: train 2020-10-16 00:00:00 -> 2024-10-15 00:00:00, forecast 2024-10-16 00:00:00\n",
      "  dat_slice shape: torch.Size([1462, 24, 10])  → flatten count = 35088\n"
     ]
    },
    {
     "name": "stderr",
     "output_type": "stream",
     "text": [
      "C:\\Users\\amaguaya\\AppData\\Local\\Packages\\PythonSoftwareFoundation.Python.3.11_qbz5n2kfra8p0\\LocalCache\\local-packages\\Python311\\site-packages\\sklearn\\utils\\validation.py:2739: UserWarning: X does not have valid feature names, but LGBMRegressor was fitted with feature names\n",
      "  warnings.warn(\n"
     ]
    },
    {
     "name": "stdout",
     "output_type": "stream",
     "text": [
      "-> finished loop 648\n",
      "Loop 655: train 2020-10-17 00:00:00 -> 2024-10-16 00:00:00, forecast 2024-10-17 00:00:00\n",
      "  dat_slice shape: torch.Size([1462, 24, 10])  → flatten count = 35088\n"
     ]
    },
    {
     "name": "stderr",
     "output_type": "stream",
     "text": [
      "C:\\Users\\amaguaya\\AppData\\Local\\Packages\\PythonSoftwareFoundation.Python.3.11_qbz5n2kfra8p0\\LocalCache\\local-packages\\Python311\\site-packages\\sklearn\\utils\\validation.py:2739: UserWarning: X does not have valid feature names, but LGBMRegressor was fitted with feature names\n",
      "  warnings.warn(\n",
      "C:\\Users\\amaguaya\\AppData\\Local\\Packages\\PythonSoftwareFoundation.Python.3.11_qbz5n2kfra8p0\\LocalCache\\local-packages\\Python311\\site-packages\\sklearn\\utils\\validation.py:2739: UserWarning: X does not have valid feature names, but LGBMRegressor was fitted with feature names\n",
      "  warnings.warn(\n"
     ]
    },
    {
     "name": "stdout",
     "output_type": "stream",
     "text": [
      "-> finished loop 649\n",
      "Loop 656: train 2020-10-18 00:00:00 -> 2024-10-17 00:00:00, forecast 2024-10-18 00:00:00\n",
      "  dat_slice shape: torch.Size([1462, 24, 10])  → flatten count = 35088\n",
      "-> finished loop 650\n",
      "Loop 657: train 2020-10-19 00:00:00 -> 2024-10-18 00:00:00, forecast 2024-10-19 00:00:00\n",
      "  dat_slice shape: torch.Size([1462, 24, 10])  → flatten count = 35088\n"
     ]
    },
    {
     "name": "stderr",
     "output_type": "stream",
     "text": [
      "C:\\Users\\amaguaya\\AppData\\Local\\Packages\\PythonSoftwareFoundation.Python.3.11_qbz5n2kfra8p0\\LocalCache\\local-packages\\Python311\\site-packages\\sklearn\\utils\\validation.py:2739: UserWarning: X does not have valid feature names, but LGBMRegressor was fitted with feature names\n",
      "  warnings.warn(\n"
     ]
    },
    {
     "name": "stdout",
     "output_type": "stream",
     "text": [
      "-> finished loop 652\n",
      "Loop 658: train 2020-10-20 00:00:00 -> 2024-10-19 00:00:00, forecast 2024-10-20 00:00:00\n",
      "  dat_slice shape: torch.Size([1462, 24, 10])  → flatten count = 35088\n"
     ]
    },
    {
     "name": "stderr",
     "output_type": "stream",
     "text": [
      "C:\\Users\\amaguaya\\AppData\\Local\\Packages\\PythonSoftwareFoundation.Python.3.11_qbz5n2kfra8p0\\LocalCache\\local-packages\\Python311\\site-packages\\sklearn\\utils\\validation.py:2739: UserWarning: X does not have valid feature names, but LGBMRegressor was fitted with feature names\n",
      "  warnings.warn(\n",
      "C:\\Users\\amaguaya\\AppData\\Local\\Packages\\PythonSoftwareFoundation.Python.3.11_qbz5n2kfra8p0\\LocalCache\\local-packages\\Python311\\site-packages\\sklearn\\utils\\validation.py:2739: UserWarning: X does not have valid feature names, but LGBMRegressor was fitted with feature names\n",
      "  warnings.warn(\n"
     ]
    },
    {
     "name": "stdout",
     "output_type": "stream",
     "text": [
      "-> finished loop 651\n",
      "Loop 659: train 2020-10-21 00:00:00 -> 2024-10-20 00:00:00, forecast 2024-10-21 00:00:00\n",
      "  dat_slice shape: torch.Size([1462, 24, 10])  → flatten count = 35088\n",
      "-> finished loop 653\n",
      "Loop 660: train 2020-10-22 00:00:00 -> 2024-10-21 00:00:00, forecast 2024-10-22 00:00:00\n",
      "  dat_slice shape: torch.Size([1462, 24, 10])  → flatten count = 35088\n"
     ]
    },
    {
     "name": "stderr",
     "output_type": "stream",
     "text": [
      "C:\\Users\\amaguaya\\AppData\\Local\\Packages\\PythonSoftwareFoundation.Python.3.11_qbz5n2kfra8p0\\LocalCache\\local-packages\\Python311\\site-packages\\sklearn\\utils\\validation.py:2739: UserWarning: X does not have valid feature names, but LGBMRegressor was fitted with feature names\n",
      "  warnings.warn(\n"
     ]
    },
    {
     "name": "stdout",
     "output_type": "stream",
     "text": [
      "-> finished loop 654\n",
      "Loop 661: train 2020-10-23 00:00:00 -> 2024-10-22 00:00:00, forecast 2024-10-23 00:00:00\n",
      "  dat_slice shape: torch.Size([1462, 24, 10])  → flatten count = 35088\n"
     ]
    },
    {
     "name": "stderr",
     "output_type": "stream",
     "text": [
      "C:\\Users\\amaguaya\\AppData\\Local\\Packages\\PythonSoftwareFoundation.Python.3.11_qbz5n2kfra8p0\\LocalCache\\local-packages\\Python311\\site-packages\\sklearn\\utils\\validation.py:2739: UserWarning: X does not have valid feature names, but LGBMRegressor was fitted with feature names\n",
      "  warnings.warn(\n"
     ]
    },
    {
     "name": "stdout",
     "output_type": "stream",
     "text": [
      "-> finished loop 655\n",
      "Loop 662: train 2020-10-24 00:00:00 -> 2024-10-23 00:00:00, forecast 2024-10-24 00:00:00\n",
      "  dat_slice shape: torch.Size([1462, 24, 10])  → flatten count = 35088\n"
     ]
    },
    {
     "name": "stderr",
     "output_type": "stream",
     "text": [
      "C:\\Users\\amaguaya\\AppData\\Local\\Packages\\PythonSoftwareFoundation.Python.3.11_qbz5n2kfra8p0\\LocalCache\\local-packages\\Python311\\site-packages\\sklearn\\utils\\validation.py:2739: UserWarning: X does not have valid feature names, but LGBMRegressor was fitted with feature names\n",
      "  warnings.warn(\n"
     ]
    },
    {
     "name": "stdout",
     "output_type": "stream",
     "text": [
      "-> finished loop 657\n",
      "Loop 663: train 2020-10-25 00:00:00 -> 2024-10-24 00:00:00, forecast 2024-10-25 00:00:00\n",
      "  dat_slice shape: torch.Size([1462, 24, 10])  → flatten count = 35088\n"
     ]
    },
    {
     "name": "stderr",
     "output_type": "stream",
     "text": [
      "C:\\Users\\amaguaya\\AppData\\Local\\Packages\\PythonSoftwareFoundation.Python.3.11_qbz5n2kfra8p0\\LocalCache\\local-packages\\Python311\\site-packages\\sklearn\\utils\\validation.py:2739: UserWarning: X does not have valid feature names, but LGBMRegressor was fitted with feature names\n",
      "  warnings.warn(\n",
      "C:\\Users\\amaguaya\\AppData\\Local\\Packages\\PythonSoftwareFoundation.Python.3.11_qbz5n2kfra8p0\\LocalCache\\local-packages\\Python311\\site-packages\\sklearn\\utils\\validation.py:2739: UserWarning: X does not have valid feature names, but LGBMRegressor was fitted with feature names\n",
      "  warnings.warn(\n"
     ]
    },
    {
     "name": "stdout",
     "output_type": "stream",
     "text": [
      "-> finished loop 658\n",
      "Loop 664: train 2020-10-26 00:00:00 -> 2024-10-25 00:00:00, forecast 2024-10-26 00:00:00\n",
      "  dat_slice shape: torch.Size([1462, 24, 10])  → flatten count = 35088\n",
      "-> finished loop 656\n",
      "Loop 665: train 2020-10-27 00:00:00 -> 2024-10-26 00:00:00, forecast 2024-10-27 00:00:00\n",
      "  dat_slice shape: torch.Size([1462, 24, 10])  → flatten count = 35088\n"
     ]
    },
    {
     "name": "stderr",
     "output_type": "stream",
     "text": [
      "C:\\Users\\amaguaya\\AppData\\Local\\Packages\\PythonSoftwareFoundation.Python.3.11_qbz5n2kfra8p0\\LocalCache\\local-packages\\Python311\\site-packages\\sklearn\\utils\\validation.py:2739: UserWarning: X does not have valid feature names, but LGBMRegressor was fitted with feature names\n",
      "  warnings.warn(\n",
      "C:\\Users\\amaguaya\\AppData\\Local\\Packages\\PythonSoftwareFoundation.Python.3.11_qbz5n2kfra8p0\\LocalCache\\local-packages\\Python311\\site-packages\\sklearn\\utils\\validation.py:2739: UserWarning: X does not have valid feature names, but LGBMRegressor was fitted with feature names\n",
      "  warnings.warn(\n"
     ]
    },
    {
     "name": "stdout",
     "output_type": "stream",
     "text": [
      "-> finished loop 659\n",
      "Loop 666: train 2020-10-28 00:00:00 -> 2024-10-27 00:00:00, forecast 2024-10-28 00:00:00\n",
      "  dat_slice shape: torch.Size([1462, 24, 10])  → flatten count = 35088\n",
      "-> finished loop 660\n",
      "Loop 667: train 2020-10-29 00:00:00 -> 2024-10-28 00:00:00, forecast 2024-10-29 00:00:00\n",
      "  dat_slice shape: torch.Size([1462, 24, 10])  → flatten count = 35088\n"
     ]
    },
    {
     "name": "stderr",
     "output_type": "stream",
     "text": [
      "C:\\Users\\amaguaya\\AppData\\Local\\Packages\\PythonSoftwareFoundation.Python.3.11_qbz5n2kfra8p0\\LocalCache\\local-packages\\Python311\\site-packages\\sklearn\\utils\\validation.py:2739: UserWarning: X does not have valid feature names, but LGBMRegressor was fitted with feature names\n",
      "  warnings.warn(\n"
     ]
    },
    {
     "name": "stdout",
     "output_type": "stream",
     "text": [
      "-> finished loop 661\n",
      "Loop 668: train 2020-10-30 00:00:00 -> 2024-10-29 00:00:00, forecast 2024-10-30 00:00:00\n",
      "  dat_slice shape: torch.Size([1462, 24, 10])  → flatten count = 35088\n"
     ]
    },
    {
     "name": "stderr",
     "output_type": "stream",
     "text": [
      "C:\\Users\\amaguaya\\AppData\\Local\\Packages\\PythonSoftwareFoundation.Python.3.11_qbz5n2kfra8p0\\LocalCache\\local-packages\\Python311\\site-packages\\sklearn\\utils\\validation.py:2739: UserWarning: X does not have valid feature names, but LGBMRegressor was fitted with feature names\n",
      "  warnings.warn(\n"
     ]
    },
    {
     "name": "stdout",
     "output_type": "stream",
     "text": [
      "-> finished loop 662\n",
      "Loop 669: train 2020-10-31 00:00:00 -> 2024-10-30 00:00:00, forecast 2024-10-31 00:00:00\n",
      "  dat_slice shape: torch.Size([1462, 24, 10])  → flatten count = 35088\n"
     ]
    },
    {
     "name": "stderr",
     "output_type": "stream",
     "text": [
      "C:\\Users\\amaguaya\\AppData\\Local\\Packages\\PythonSoftwareFoundation.Python.3.11_qbz5n2kfra8p0\\LocalCache\\local-packages\\Python311\\site-packages\\sklearn\\utils\\validation.py:2739: UserWarning: X does not have valid feature names, but LGBMRegressor was fitted with feature names\n",
      "  warnings.warn(\n"
     ]
    },
    {
     "name": "stdout",
     "output_type": "stream",
     "text": [
      "-> finished loop 663\n",
      "Loop 670: train 2020-11-01 00:00:00 -> 2024-10-31 00:00:00, forecast 2024-11-01 00:00:00\n",
      "  dat_slice shape: torch.Size([1462, 24, 10])  → flatten count = 35088\n"
     ]
    },
    {
     "name": "stderr",
     "output_type": "stream",
     "text": [
      "C:\\Users\\amaguaya\\AppData\\Local\\Packages\\PythonSoftwareFoundation.Python.3.11_qbz5n2kfra8p0\\LocalCache\\local-packages\\Python311\\site-packages\\sklearn\\utils\\validation.py:2739: UserWarning: X does not have valid feature names, but LGBMRegressor was fitted with feature names\n",
      "  warnings.warn(\n",
      "C:\\Users\\amaguaya\\AppData\\Local\\Packages\\PythonSoftwareFoundation.Python.3.11_qbz5n2kfra8p0\\LocalCache\\local-packages\\Python311\\site-packages\\sklearn\\utils\\validation.py:2739: UserWarning: X does not have valid feature names, but LGBMRegressor was fitted with feature names\n",
      "  warnings.warn(\n",
      "C:\\Users\\amaguaya\\AppData\\Local\\Packages\\PythonSoftwareFoundation.Python.3.11_qbz5n2kfra8p0\\LocalCache\\local-packages\\Python311\\site-packages\\sklearn\\utils\\validation.py:2739: UserWarning: X does not have valid feature names, but LGBMRegressor was fitted with feature names\n",
      "  warnings.warn(\n",
      "C:\\Users\\amaguaya\\AppData\\Local\\Packages\\PythonSoftwareFoundation.Python.3.11_qbz5n2kfra8p0\\LocalCache\\local-packages\\Python311\\site-packages\\sklearn\\utils\\validation.py:2739: UserWarning: X does not have valid feature names, but LGBMRegressor was fitted with feature names\n",
      "  warnings.warn(\n"
     ]
    },
    {
     "name": "stdout",
     "output_type": "stream",
     "text": [
      "-> finished loop 666\n",
      "Loop 671: train 2020-11-02 00:00:00 -> 2024-11-01 00:00:00, forecast 2024-11-02 00:00:00\n",
      "  dat_slice shape: torch.Size([1462, 24, 10])  → flatten count = 35088\n",
      "-> finished loop 665\n",
      "Loop 672: train 2020-11-03 00:00:00 -> 2024-11-02 00:00:00, forecast 2024-11-03 00:00:00\n",
      "  dat_slice shape: torch.Size([1462, 24, 10])  → flatten count = 35088\n",
      "-> finished loop 667\n",
      "Loop 673: train 2020-11-04 00:00:00 -> 2024-11-03 00:00:00, forecast 2024-11-04 00:00:00\n",
      "  dat_slice shape: torch.Size([1462, 24, 10])  → flatten count = 35088\n",
      "-> finished loop 664\n",
      "Loop 674: train 2020-11-05 00:00:00 -> 2024-11-04 00:00:00, forecast 2024-11-05 00:00:00\n",
      "  dat_slice shape: torch.Size([1462, 24, 10])  → flatten count = 35088\n"
     ]
    },
    {
     "name": "stderr",
     "output_type": "stream",
     "text": [
      "C:\\Users\\amaguaya\\AppData\\Local\\Packages\\PythonSoftwareFoundation.Python.3.11_qbz5n2kfra8p0\\LocalCache\\local-packages\\Python311\\site-packages\\sklearn\\utils\\validation.py:2739: UserWarning: X does not have valid feature names, but LGBMRegressor was fitted with feature names\n",
      "  warnings.warn(\n"
     ]
    },
    {
     "name": "stdout",
     "output_type": "stream",
     "text": [
      "-> finished loop 668\n",
      "Loop 675: train 2020-11-06 00:00:00 -> 2024-11-05 00:00:00, forecast 2024-11-06 00:00:00\n",
      "  dat_slice shape: torch.Size([1462, 24, 10])  → flatten count = 35088\n"
     ]
    },
    {
     "name": "stderr",
     "output_type": "stream",
     "text": [
      "C:\\Users\\amaguaya\\AppData\\Local\\Packages\\PythonSoftwareFoundation.Python.3.11_qbz5n2kfra8p0\\LocalCache\\local-packages\\Python311\\site-packages\\sklearn\\utils\\validation.py:2739: UserWarning: X does not have valid feature names, but LGBMRegressor was fitted with feature names\n",
      "  warnings.warn(\n"
     ]
    },
    {
     "name": "stdout",
     "output_type": "stream",
     "text": [
      "-> finished loop 669\n",
      "Loop 676: train 2020-11-07 00:00:00 -> 2024-11-06 00:00:00, forecast 2024-11-07 00:00:00\n",
      "  dat_slice shape: torch.Size([1462, 24, 10])  → flatten count = 35088\n"
     ]
    },
    {
     "name": "stderr",
     "output_type": "stream",
     "text": [
      "C:\\Users\\amaguaya\\AppData\\Local\\Packages\\PythonSoftwareFoundation.Python.3.11_qbz5n2kfra8p0\\LocalCache\\local-packages\\Python311\\site-packages\\sklearn\\utils\\validation.py:2739: UserWarning: X does not have valid feature names, but LGBMRegressor was fitted with feature names\n",
      "  warnings.warn(\n"
     ]
    },
    {
     "name": "stdout",
     "output_type": "stream",
     "text": [
      "-> finished loop 670\n",
      "Loop 677: train 2020-11-08 00:00:00 -> 2024-11-07 00:00:00, forecast 2024-11-08 00:00:00\n",
      "  dat_slice shape: torch.Size([1462, 24, 10])  → flatten count = 35088\n"
     ]
    },
    {
     "name": "stderr",
     "output_type": "stream",
     "text": [
      "C:\\Users\\amaguaya\\AppData\\Local\\Packages\\PythonSoftwareFoundation.Python.3.11_qbz5n2kfra8p0\\LocalCache\\local-packages\\Python311\\site-packages\\sklearn\\utils\\validation.py:2739: UserWarning: X does not have valid feature names, but LGBMRegressor was fitted with feature names\n",
      "  warnings.warn(\n",
      "C:\\Users\\amaguaya\\AppData\\Local\\Packages\\PythonSoftwareFoundation.Python.3.11_qbz5n2kfra8p0\\LocalCache\\local-packages\\Python311\\site-packages\\sklearn\\utils\\validation.py:2739: UserWarning: X does not have valid feature names, but LGBMRegressor was fitted with feature names\n",
      "  warnings.warn(\n",
      "C:\\Users\\amaguaya\\AppData\\Local\\Packages\\PythonSoftwareFoundation.Python.3.11_qbz5n2kfra8p0\\LocalCache\\local-packages\\Python311\\site-packages\\sklearn\\utils\\validation.py:2739: UserWarning: X does not have valid feature names, but LGBMRegressor was fitted with feature names\n",
      "  warnings.warn(\n"
     ]
    },
    {
     "name": "stdout",
     "output_type": "stream",
     "text": [
      "-> finished loop 671\n",
      "Loop 678: train 2020-11-09 00:00:00 -> 2024-11-08 00:00:00, forecast 2024-11-09 00:00:00\n",
      "  dat_slice shape: torch.Size([1462, 24, 10])  → flatten count = 35088\n",
      "-> finished loop 673\n",
      "Loop 679: train 2020-11-10 00:00:00 -> 2024-11-09 00:00:00, forecast 2024-11-10 00:00:00\n",
      "  dat_slice shape: torch.Size([1462, 24, 10])  → flatten count = 35088\n",
      "-> finished loop 674\n",
      "Loop 680: train 2020-11-11 00:00:00 -> 2024-11-10 00:00:00, forecast 2024-11-11 00:00:00\n",
      "  dat_slice shape: torch.Size([1462, 24, 10])  → flatten count = 35088\n"
     ]
    },
    {
     "name": "stderr",
     "output_type": "stream",
     "text": [
      "C:\\Users\\amaguaya\\AppData\\Local\\Packages\\PythonSoftwareFoundation.Python.3.11_qbz5n2kfra8p0\\LocalCache\\local-packages\\Python311\\site-packages\\sklearn\\utils\\validation.py:2739: UserWarning: X does not have valid feature names, but LGBMRegressor was fitted with feature names\n",
      "  warnings.warn(\n",
      "C:\\Users\\amaguaya\\AppData\\Local\\Packages\\PythonSoftwareFoundation.Python.3.11_qbz5n2kfra8p0\\LocalCache\\local-packages\\Python311\\site-packages\\sklearn\\utils\\validation.py:2739: UserWarning: X does not have valid feature names, but LGBMRegressor was fitted with feature names\n",
      "  warnings.warn(\n"
     ]
    },
    {
     "name": "stdout",
     "output_type": "stream",
     "text": [
      "-> finished loop 675\n",
      "Loop 681: train 2020-11-12 00:00:00 -> 2024-11-11 00:00:00, forecast 2024-11-12 00:00:00\n",
      "  dat_slice shape: torch.Size([1462, 24, 10])  → flatten count = 35088\n",
      "-> finished loop 672\n",
      "Loop 682: train 2020-11-13 00:00:00 -> 2024-11-12 00:00:00, forecast 2024-11-13 00:00:00\n",
      "  dat_slice shape: torch.Size([1462, 24, 10])  → flatten count = 35088\n"
     ]
    },
    {
     "name": "stderr",
     "output_type": "stream",
     "text": [
      "C:\\Users\\amaguaya\\AppData\\Local\\Packages\\PythonSoftwareFoundation.Python.3.11_qbz5n2kfra8p0\\LocalCache\\local-packages\\Python311\\site-packages\\sklearn\\utils\\validation.py:2739: UserWarning: X does not have valid feature names, but LGBMRegressor was fitted with feature names\n",
      "  warnings.warn(\n"
     ]
    },
    {
     "name": "stdout",
     "output_type": "stream",
     "text": [
      "-> finished loop 676\n",
      "Loop 683: train 2020-11-14 00:00:00 -> 2024-11-13 00:00:00, forecast 2024-11-14 00:00:00\n",
      "  dat_slice shape: torch.Size([1462, 24, 10])  → flatten count = 35088\n"
     ]
    },
    {
     "name": "stderr",
     "output_type": "stream",
     "text": [
      "C:\\Users\\amaguaya\\AppData\\Local\\Packages\\PythonSoftwareFoundation.Python.3.11_qbz5n2kfra8p0\\LocalCache\\local-packages\\Python311\\site-packages\\sklearn\\utils\\validation.py:2739: UserWarning: X does not have valid feature names, but LGBMRegressor was fitted with feature names\n",
      "  warnings.warn(\n"
     ]
    },
    {
     "name": "stdout",
     "output_type": "stream",
     "text": [
      "-> finished loop 677\n",
      "Loop 684: train 2020-11-15 00:00:00 -> 2024-11-14 00:00:00, forecast 2024-11-15 00:00:00\n",
      "  dat_slice shape: torch.Size([1462, 24, 10])  → flatten count = 35088\n"
     ]
    },
    {
     "name": "stderr",
     "output_type": "stream",
     "text": [
      "C:\\Users\\amaguaya\\AppData\\Local\\Packages\\PythonSoftwareFoundation.Python.3.11_qbz5n2kfra8p0\\LocalCache\\local-packages\\Python311\\site-packages\\sklearn\\utils\\validation.py:2739: UserWarning: X does not have valid feature names, but LGBMRegressor was fitted with feature names\n",
      "  warnings.warn(\n",
      "C:\\Users\\amaguaya\\AppData\\Local\\Packages\\PythonSoftwareFoundation.Python.3.11_qbz5n2kfra8p0\\LocalCache\\local-packages\\Python311\\site-packages\\sklearn\\utils\\validation.py:2739: UserWarning: X does not have valid feature names, but LGBMRegressor was fitted with feature names\n",
      "  warnings.warn(\n",
      "C:\\Users\\amaguaya\\AppData\\Local\\Packages\\PythonSoftwareFoundation.Python.3.11_qbz5n2kfra8p0\\LocalCache\\local-packages\\Python311\\site-packages\\sklearn\\utils\\validation.py:2739: UserWarning: X does not have valid feature names, but LGBMRegressor was fitted with feature names\n",
      "  warnings.warn(\n"
     ]
    },
    {
     "name": "stdout",
     "output_type": "stream",
     "text": [
      "-> finished loop 678\n",
      "Loop 685: train 2020-11-16 00:00:00 -> 2024-11-15 00:00:00, forecast 2024-11-16 00:00:00\n",
      "  dat_slice shape: torch.Size([1462, 24, 10])  → flatten count = 35088\n",
      "-> finished loop 679\n",
      "Loop 686: train 2020-11-17 00:00:00 -> 2024-11-16 00:00:00, forecast 2024-11-17 00:00:00\n",
      "  dat_slice shape: torch.Size([1462, 24, 10])  → flatten count = 35088\n",
      "-> finished loop 680\n",
      "Loop 687: train 2020-11-18 00:00:00 -> 2024-11-17 00:00:00, forecast 2024-11-18 00:00:00\n",
      "  dat_slice shape: torch.Size([1462, 24, 10])  → flatten count = 35088\n"
     ]
    },
    {
     "name": "stderr",
     "output_type": "stream",
     "text": [
      "C:\\Users\\amaguaya\\AppData\\Local\\Packages\\PythonSoftwareFoundation.Python.3.11_qbz5n2kfra8p0\\LocalCache\\local-packages\\Python311\\site-packages\\sklearn\\utils\\validation.py:2739: UserWarning: X does not have valid feature names, but LGBMRegressor was fitted with feature names\n",
      "  warnings.warn(\n",
      "C:\\Users\\amaguaya\\AppData\\Local\\Packages\\PythonSoftwareFoundation.Python.3.11_qbz5n2kfra8p0\\LocalCache\\local-packages\\Python311\\site-packages\\sklearn\\utils\\validation.py:2739: UserWarning: X does not have valid feature names, but LGBMRegressor was fitted with feature names\n",
      "  warnings.warn(\n"
     ]
    },
    {
     "name": "stdout",
     "output_type": "stream",
     "text": [
      "-> finished loop 681\n",
      "Loop 688: train 2020-11-19 00:00:00 -> 2024-11-18 00:00:00, forecast 2024-11-19 00:00:00\n",
      "  dat_slice shape: torch.Size([1462, 24, 10])  → flatten count = 35088\n",
      "-> finished loop 682\n",
      "Loop 689: train 2020-11-20 00:00:00 -> 2024-11-19 00:00:00, forecast 2024-11-20 00:00:00\n",
      "  dat_slice shape: torch.Size([1462, 24, 10])  → flatten count = 35088\n"
     ]
    },
    {
     "name": "stderr",
     "output_type": "stream",
     "text": [
      "C:\\Users\\amaguaya\\AppData\\Local\\Packages\\PythonSoftwareFoundation.Python.3.11_qbz5n2kfra8p0\\LocalCache\\local-packages\\Python311\\site-packages\\sklearn\\utils\\validation.py:2739: UserWarning: X does not have valid feature names, but LGBMRegressor was fitted with feature names\n",
      "  warnings.warn(\n"
     ]
    },
    {
     "name": "stdout",
     "output_type": "stream",
     "text": [
      "-> finished loop 683\n",
      "Loop 690: train 2020-11-21 00:00:00 -> 2024-11-20 00:00:00, forecast 2024-11-21 00:00:00\n",
      "  dat_slice shape: torch.Size([1462, 24, 10])  → flatten count = 35088\n"
     ]
    },
    {
     "name": "stderr",
     "output_type": "stream",
     "text": [
      "C:\\Users\\amaguaya\\AppData\\Local\\Packages\\PythonSoftwareFoundation.Python.3.11_qbz5n2kfra8p0\\LocalCache\\local-packages\\Python311\\site-packages\\sklearn\\utils\\validation.py:2739: UserWarning: X does not have valid feature names, but LGBMRegressor was fitted with feature names\n",
      "  warnings.warn(\n"
     ]
    },
    {
     "name": "stdout",
     "output_type": "stream",
     "text": [
      "-> finished loop 684\n",
      "Loop 691: train 2020-11-22 00:00:00 -> 2024-11-21 00:00:00, forecast 2024-11-22 00:00:00\n",
      "  dat_slice shape: torch.Size([1462, 24, 10])  → flatten count = 35088\n"
     ]
    },
    {
     "name": "stderr",
     "output_type": "stream",
     "text": [
      "C:\\Users\\amaguaya\\AppData\\Local\\Packages\\PythonSoftwareFoundation.Python.3.11_qbz5n2kfra8p0\\LocalCache\\local-packages\\Python311\\site-packages\\sklearn\\utils\\validation.py:2739: UserWarning: X does not have valid feature names, but LGBMRegressor was fitted with feature names\n",
      "  warnings.warn(\n"
     ]
    },
    {
     "name": "stdout",
     "output_type": "stream",
     "text": [
      "-> finished loop 685\n",
      "Loop 692: train 2020-11-23 00:00:00 -> 2024-11-22 00:00:00, forecast 2024-11-23 00:00:00\n",
      "  dat_slice shape: torch.Size([1462, 24, 10])  → flatten count = 35088\n"
     ]
    },
    {
     "name": "stderr",
     "output_type": "stream",
     "text": [
      "C:\\Users\\amaguaya\\AppData\\Local\\Packages\\PythonSoftwareFoundation.Python.3.11_qbz5n2kfra8p0\\LocalCache\\local-packages\\Python311\\site-packages\\sklearn\\utils\\validation.py:2739: UserWarning: X does not have valid feature names, but LGBMRegressor was fitted with feature names\n",
      "  warnings.warn(\n",
      "C:\\Users\\amaguaya\\AppData\\Local\\Packages\\PythonSoftwareFoundation.Python.3.11_qbz5n2kfra8p0\\LocalCache\\local-packages\\Python311\\site-packages\\sklearn\\utils\\validation.py:2739: UserWarning: X does not have valid feature names, but LGBMRegressor was fitted with feature names\n",
      "  warnings.warn(\n"
     ]
    },
    {
     "name": "stdout",
     "output_type": "stream",
     "text": [
      "-> finished loop 688\n",
      "Loop 693: train 2020-11-24 00:00:00 -> 2024-11-23 00:00:00, forecast 2024-11-24 00:00:00\n",
      "  dat_slice shape: torch.Size([1462, 24, 10])  → flatten count = 35088\n",
      "-> finished loop 689\n",
      "Loop 694: train 2020-11-25 00:00:00 -> 2024-11-24 00:00:00, forecast 2024-11-25 00:00:00\n",
      "  dat_slice shape: torch.Size([1462, 24, 10])  → flatten count = 35088\n"
     ]
    },
    {
     "name": "stderr",
     "output_type": "stream",
     "text": [
      "C:\\Users\\amaguaya\\AppData\\Local\\Packages\\PythonSoftwareFoundation.Python.3.11_qbz5n2kfra8p0\\LocalCache\\local-packages\\Python311\\site-packages\\sklearn\\utils\\validation.py:2739: UserWarning: X does not have valid feature names, but LGBMRegressor was fitted with feature names\n",
      "  warnings.warn(\n",
      "C:\\Users\\amaguaya\\AppData\\Local\\Packages\\PythonSoftwareFoundation.Python.3.11_qbz5n2kfra8p0\\LocalCache\\local-packages\\Python311\\site-packages\\sklearn\\utils\\validation.py:2739: UserWarning: X does not have valid feature names, but LGBMRegressor was fitted with feature names\n",
      "  warnings.warn(\n"
     ]
    },
    {
     "name": "stdout",
     "output_type": "stream",
     "text": [
      "-> finished loop 686\n",
      "Loop 695: train 2020-11-26 00:00:00 -> 2024-11-25 00:00:00, forecast 2024-11-26 00:00:00\n",
      "  dat_slice shape: torch.Size([1462, 24, 10])  → flatten count = 35088\n",
      "-> finished loop 687\n",
      "Loop 696: train 2020-11-27 00:00:00 -> 2024-11-26 00:00:00, forecast 2024-11-27 00:00:00\n",
      "  dat_slice shape: torch.Size([1462, 24, 10])  → flatten count = 35088\n"
     ]
    },
    {
     "name": "stderr",
     "output_type": "stream",
     "text": [
      "C:\\Users\\amaguaya\\AppData\\Local\\Packages\\PythonSoftwareFoundation.Python.3.11_qbz5n2kfra8p0\\LocalCache\\local-packages\\Python311\\site-packages\\sklearn\\utils\\validation.py:2739: UserWarning: X does not have valid feature names, but LGBMRegressor was fitted with feature names\n",
      "  warnings.warn(\n"
     ]
    },
    {
     "name": "stdout",
     "output_type": "stream",
     "text": [
      "-> finished loop 690\n",
      "Loop 697: train 2020-11-28 00:00:00 -> 2024-11-27 00:00:00, forecast 2024-11-28 00:00:00\n",
      "  dat_slice shape: torch.Size([1462, 24, 10])  → flatten count = 35088\n"
     ]
    },
    {
     "name": "stderr",
     "output_type": "stream",
     "text": [
      "C:\\Users\\amaguaya\\AppData\\Local\\Packages\\PythonSoftwareFoundation.Python.3.11_qbz5n2kfra8p0\\LocalCache\\local-packages\\Python311\\site-packages\\sklearn\\utils\\validation.py:2739: UserWarning: X does not have valid feature names, but LGBMRegressor was fitted with feature names\n",
      "  warnings.warn(\n"
     ]
    },
    {
     "name": "stdout",
     "output_type": "stream",
     "text": [
      "-> finished loop 691\n",
      "Loop 698: train 2020-11-29 00:00:00 -> 2024-11-28 00:00:00, forecast 2024-11-29 00:00:00\n",
      "  dat_slice shape: torch.Size([1462, 24, 10])  → flatten count = 35088\n"
     ]
    },
    {
     "name": "stderr",
     "output_type": "stream",
     "text": [
      "C:\\Users\\amaguaya\\AppData\\Local\\Packages\\PythonSoftwareFoundation.Python.3.11_qbz5n2kfra8p0\\LocalCache\\local-packages\\Python311\\site-packages\\sklearn\\utils\\validation.py:2739: UserWarning: X does not have valid feature names, but LGBMRegressor was fitted with feature names\n",
      "  warnings.warn(\n",
      "C:\\Users\\amaguaya\\AppData\\Local\\Packages\\PythonSoftwareFoundation.Python.3.11_qbz5n2kfra8p0\\LocalCache\\local-packages\\Python311\\site-packages\\sklearn\\utils\\validation.py:2739: UserWarning: X does not have valid feature names, but LGBMRegressor was fitted with feature names\n",
      "  warnings.warn(\n",
      "C:\\Users\\amaguaya\\AppData\\Local\\Packages\\PythonSoftwareFoundation.Python.3.11_qbz5n2kfra8p0\\LocalCache\\local-packages\\Python311\\site-packages\\sklearn\\utils\\validation.py:2739: UserWarning: X does not have valid feature names, but LGBMRegressor was fitted with feature names\n",
      "  warnings.warn(\n"
     ]
    },
    {
     "name": "stdout",
     "output_type": "stream",
     "text": [
      "-> finished loop 693\n",
      "Loop 699: train 2020-11-30 00:00:00 -> 2024-11-29 00:00:00, forecast 2024-11-30 00:00:00\n",
      "  dat_slice shape: torch.Size([1462, 24, 10])  → flatten count = 35088\n",
      "-> finished loop 692\n",
      "Loop 700: train 2020-12-01 00:00:00 -> 2024-11-30 00:00:00, forecast 2024-12-01 00:00:00\n",
      "  dat_slice shape: torch.Size([1462, 24, 10])  → flatten count = 35088\n",
      "-> finished loop 694\n",
      "Loop 701: train 2020-12-02 00:00:00 -> 2024-12-01 00:00:00, forecast 2024-12-02 00:00:00\n",
      "  dat_slice shape: torch.Size([1462, 24, 10])  → flatten count = 35088\n"
     ]
    },
    {
     "name": "stderr",
     "output_type": "stream",
     "text": [
      "C:\\Users\\amaguaya\\AppData\\Local\\Packages\\PythonSoftwareFoundation.Python.3.11_qbz5n2kfra8p0\\LocalCache\\local-packages\\Python311\\site-packages\\sklearn\\utils\\validation.py:2739: UserWarning: X does not have valid feature names, but LGBMRegressor was fitted with feature names\n",
      "  warnings.warn(\n",
      "C:\\Users\\amaguaya\\AppData\\Local\\Packages\\PythonSoftwareFoundation.Python.3.11_qbz5n2kfra8p0\\LocalCache\\local-packages\\Python311\\site-packages\\sklearn\\utils\\validation.py:2739: UserWarning: X does not have valid feature names, but LGBMRegressor was fitted with feature names\n",
      "  warnings.warn(\n"
     ]
    },
    {
     "name": "stdout",
     "output_type": "stream",
     "text": [
      "-> finished loop 695\n",
      "Loop 702: train 2020-12-03 00:00:00 -> 2024-12-02 00:00:00, forecast 2024-12-03 00:00:00\n",
      "  dat_slice shape: torch.Size([1462, 24, 10])  → flatten count = 35088\n",
      "-> finished loop 696\n",
      "Loop 703: train 2020-12-04 00:00:00 -> 2024-12-03 00:00:00, forecast 2024-12-04 00:00:00\n",
      "  dat_slice shape: torch.Size([1462, 24, 10])  → flatten count = 35088\n"
     ]
    },
    {
     "name": "stderr",
     "output_type": "stream",
     "text": [
      "C:\\Users\\amaguaya\\AppData\\Local\\Packages\\PythonSoftwareFoundation.Python.3.11_qbz5n2kfra8p0\\LocalCache\\local-packages\\Python311\\site-packages\\sklearn\\utils\\validation.py:2739: UserWarning: X does not have valid feature names, but LGBMRegressor was fitted with feature names\n",
      "  warnings.warn(\n"
     ]
    },
    {
     "name": "stdout",
     "output_type": "stream",
     "text": [
      "-> finished loop 697\n",
      "Loop 704: train 2020-12-05 00:00:00 -> 2024-12-04 00:00:00, forecast 2024-12-05 00:00:00\n",
      "  dat_slice shape: torch.Size([1462, 24, 10])  → flatten count = 35088\n"
     ]
    },
    {
     "name": "stderr",
     "output_type": "stream",
     "text": [
      "C:\\Users\\amaguaya\\AppData\\Local\\Packages\\PythonSoftwareFoundation.Python.3.11_qbz5n2kfra8p0\\LocalCache\\local-packages\\Python311\\site-packages\\sklearn\\utils\\validation.py:2739: UserWarning: X does not have valid feature names, but LGBMRegressor was fitted with feature names\n",
      "  warnings.warn(\n"
     ]
    },
    {
     "name": "stdout",
     "output_type": "stream",
     "text": [
      "-> finished loop 698\n",
      "Loop 705: train 2020-12-06 00:00:00 -> 2024-12-05 00:00:00, forecast 2024-12-06 00:00:00\n",
      "  dat_slice shape: torch.Size([1462, 24, 10])  → flatten count = 35088\n"
     ]
    },
    {
     "name": "stderr",
     "output_type": "stream",
     "text": [
      "C:\\Users\\amaguaya\\AppData\\Local\\Packages\\PythonSoftwareFoundation.Python.3.11_qbz5n2kfra8p0\\LocalCache\\local-packages\\Python311\\site-packages\\sklearn\\utils\\validation.py:2739: UserWarning: X does not have valid feature names, but LGBMRegressor was fitted with feature names\n",
      "  warnings.warn(\n",
      "C:\\Users\\amaguaya\\AppData\\Local\\Packages\\PythonSoftwareFoundation.Python.3.11_qbz5n2kfra8p0\\LocalCache\\local-packages\\Python311\\site-packages\\sklearn\\utils\\validation.py:2739: UserWarning: X does not have valid feature names, but LGBMRegressor was fitted with feature names\n",
      "  warnings.warn(\n",
      "C:\\Users\\amaguaya\\AppData\\Local\\Packages\\PythonSoftwareFoundation.Python.3.11_qbz5n2kfra8p0\\LocalCache\\local-packages\\Python311\\site-packages\\sklearn\\utils\\validation.py:2739: UserWarning: X does not have valid feature names, but LGBMRegressor was fitted with feature names\n",
      "  warnings.warn(\n"
     ]
    },
    {
     "name": "stdout",
     "output_type": "stream",
     "text": [
      "-> finished loop 699\n",
      "Loop 706: train 2020-12-07 00:00:00 -> 2024-12-06 00:00:00, forecast 2024-12-07 00:00:00\n",
      "  dat_slice shape: torch.Size([1462, 24, 10])  → flatten count = 35088\n",
      "-> finished loop 700\n",
      "Loop 707: train 2020-12-08 00:00:00 -> 2024-12-07 00:00:00, forecast 2024-12-08 00:00:00\n",
      "  dat_slice shape: torch.Size([1462, 24, 10])  → flatten count = 35088\n",
      "-> finished loop 701\n",
      "Loop 708: train 2020-12-09 00:00:00 -> 2024-12-08 00:00:00, forecast 2024-12-09 00:00:00\n",
      "  dat_slice shape: torch.Size([1462, 24, 10])  → flatten count = 35088\n"
     ]
    },
    {
     "name": "stderr",
     "output_type": "stream",
     "text": [
      "C:\\Users\\amaguaya\\AppData\\Local\\Packages\\PythonSoftwareFoundation.Python.3.11_qbz5n2kfra8p0\\LocalCache\\local-packages\\Python311\\site-packages\\sklearn\\utils\\validation.py:2739: UserWarning: X does not have valid feature names, but LGBMRegressor was fitted with feature names\n",
      "  warnings.warn(\n"
     ]
    },
    {
     "name": "stdout",
     "output_type": "stream",
     "text": [
      "-> finished loop 703\n",
      "Loop 709: train 2020-12-10 00:00:00 -> 2024-12-09 00:00:00, forecast 2024-12-10 00:00:00\n",
      "  dat_slice shape: torch.Size([1462, 24, 10])  → flatten count = 35088\n"
     ]
    },
    {
     "name": "stderr",
     "output_type": "stream",
     "text": [
      "C:\\Users\\amaguaya\\AppData\\Local\\Packages\\PythonSoftwareFoundation.Python.3.11_qbz5n2kfra8p0\\LocalCache\\local-packages\\Python311\\site-packages\\sklearn\\utils\\validation.py:2739: UserWarning: X does not have valid feature names, but LGBMRegressor was fitted with feature names\n",
      "  warnings.warn(\n"
     ]
    },
    {
     "name": "stdout",
     "output_type": "stream",
     "text": [
      "-> finished loop 702\n",
      "Loop 710: train 2020-12-11 00:00:00 -> 2024-12-10 00:00:00, forecast 2024-12-11 00:00:00\n",
      "  dat_slice shape: torch.Size([1462, 24, 10])  → flatten count = 35088\n"
     ]
    },
    {
     "name": "stderr",
     "output_type": "stream",
     "text": [
      "C:\\Users\\amaguaya\\AppData\\Local\\Packages\\PythonSoftwareFoundation.Python.3.11_qbz5n2kfra8p0\\LocalCache\\local-packages\\Python311\\site-packages\\sklearn\\utils\\validation.py:2739: UserWarning: X does not have valid feature names, but LGBMRegressor was fitted with feature names\n",
      "  warnings.warn(\n"
     ]
    },
    {
     "name": "stdout",
     "output_type": "stream",
     "text": [
      "-> finished loop 704\n",
      "Loop 711: train 2020-12-12 00:00:00 -> 2024-12-11 00:00:00, forecast 2024-12-12 00:00:00\n",
      "  dat_slice shape: torch.Size([1462, 24, 10])  → flatten count = 35088\n"
     ]
    },
    {
     "name": "stderr",
     "output_type": "stream",
     "text": [
      "C:\\Users\\amaguaya\\AppData\\Local\\Packages\\PythonSoftwareFoundation.Python.3.11_qbz5n2kfra8p0\\LocalCache\\local-packages\\Python311\\site-packages\\sklearn\\utils\\validation.py:2739: UserWarning: X does not have valid feature names, but LGBMRegressor was fitted with feature names\n",
      "  warnings.warn(\n"
     ]
    },
    {
     "name": "stdout",
     "output_type": "stream",
     "text": [
      "-> finished loop 705\n",
      "Loop 712: train 2020-12-13 00:00:00 -> 2024-12-12 00:00:00, forecast 2024-12-13 00:00:00\n",
      "  dat_slice shape: torch.Size([1462, 24, 10])  → flatten count = 35088\n"
     ]
    },
    {
     "name": "stderr",
     "output_type": "stream",
     "text": [
      "C:\\Users\\amaguaya\\AppData\\Local\\Packages\\PythonSoftwareFoundation.Python.3.11_qbz5n2kfra8p0\\LocalCache\\local-packages\\Python311\\site-packages\\sklearn\\utils\\validation.py:2739: UserWarning: X does not have valid feature names, but LGBMRegressor was fitted with feature names\n",
      "  warnings.warn(\n",
      "C:\\Users\\amaguaya\\AppData\\Local\\Packages\\PythonSoftwareFoundation.Python.3.11_qbz5n2kfra8p0\\LocalCache\\local-packages\\Python311\\site-packages\\sklearn\\utils\\validation.py:2739: UserWarning: X does not have valid feature names, but LGBMRegressor was fitted with feature names\n",
      "  warnings.warn(\n",
      "C:\\Users\\amaguaya\\AppData\\Local\\Packages\\PythonSoftwareFoundation.Python.3.11_qbz5n2kfra8p0\\LocalCache\\local-packages\\Python311\\site-packages\\sklearn\\utils\\validation.py:2739: UserWarning: X does not have valid feature names, but LGBMRegressor was fitted with feature names\n",
      "  warnings.warn(\n"
     ]
    },
    {
     "name": "stdout",
     "output_type": "stream",
     "text": [
      "-> finished loop 706\n",
      "Loop 713: train 2020-12-14 00:00:00 -> 2024-12-13 00:00:00, forecast 2024-12-14 00:00:00\n",
      "  dat_slice shape: torch.Size([1462, 24, 10])  → flatten count = 35088\n",
      "-> finished loop 707\n",
      "Loop 714: train 2020-12-15 00:00:00 -> 2024-12-14 00:00:00, forecast 2024-12-15 00:00:00\n",
      "  dat_slice shape: torch.Size([1462, 24, 10])  → flatten count = 35088\n",
      "-> finished loop 708\n",
      "Loop 715: train 2020-12-16 00:00:00 -> 2024-12-15 00:00:00, forecast 2024-12-16 00:00:00\n",
      "  dat_slice shape: torch.Size([1462, 24, 10])  → flatten count = 35088\n"
     ]
    },
    {
     "name": "stderr",
     "output_type": "stream",
     "text": [
      "C:\\Users\\amaguaya\\AppData\\Local\\Packages\\PythonSoftwareFoundation.Python.3.11_qbz5n2kfra8p0\\LocalCache\\local-packages\\Python311\\site-packages\\sklearn\\utils\\validation.py:2739: UserWarning: X does not have valid feature names, but LGBMRegressor was fitted with feature names\n",
      "  warnings.warn(\n"
     ]
    },
    {
     "name": "stdout",
     "output_type": "stream",
     "text": [
      "-> finished loop 709\n",
      "Loop 716: train 2020-12-17 00:00:00 -> 2024-12-16 00:00:00, forecast 2024-12-17 00:00:00\n",
      "  dat_slice shape: torch.Size([1462, 24, 10])  → flatten count = 35088\n"
     ]
    },
    {
     "name": "stderr",
     "output_type": "stream",
     "text": [
      "C:\\Users\\amaguaya\\AppData\\Local\\Packages\\PythonSoftwareFoundation.Python.3.11_qbz5n2kfra8p0\\LocalCache\\local-packages\\Python311\\site-packages\\sklearn\\utils\\validation.py:2739: UserWarning: X does not have valid feature names, but LGBMRegressor was fitted with feature names\n",
      "  warnings.warn(\n",
      "C:\\Users\\amaguaya\\AppData\\Local\\Packages\\PythonSoftwareFoundation.Python.3.11_qbz5n2kfra8p0\\LocalCache\\local-packages\\Python311\\site-packages\\sklearn\\utils\\validation.py:2739: UserWarning: X does not have valid feature names, but LGBMRegressor was fitted with feature names\n",
      "  warnings.warn(\n"
     ]
    },
    {
     "name": "stdout",
     "output_type": "stream",
     "text": [
      "-> finished loop 710\n",
      "Loop 717: train 2020-12-18 00:00:00 -> 2024-12-17 00:00:00, forecast 2024-12-18 00:00:00\n",
      "  dat_slice shape: torch.Size([1462, 24, 10])  → flatten count = 35088\n",
      "-> finished loop 711\n",
      "Loop 718: train 2020-12-19 00:00:00 -> 2024-12-18 00:00:00, forecast 2024-12-19 00:00:00\n",
      "  dat_slice shape: torch.Size([1462, 24, 10])  → flatten count = 35088\n"
     ]
    },
    {
     "name": "stderr",
     "output_type": "stream",
     "text": [
      "C:\\Users\\amaguaya\\AppData\\Local\\Packages\\PythonSoftwareFoundation.Python.3.11_qbz5n2kfra8p0\\LocalCache\\local-packages\\Python311\\site-packages\\sklearn\\utils\\validation.py:2739: UserWarning: X does not have valid feature names, but LGBMRegressor was fitted with feature names\n",
      "  warnings.warn(\n"
     ]
    },
    {
     "name": "stdout",
     "output_type": "stream",
     "text": [
      "-> finished loop 712\n",
      "Loop 719: train 2020-12-20 00:00:00 -> 2024-12-19 00:00:00, forecast 2024-12-20 00:00:00\n",
      "  dat_slice shape: torch.Size([1462, 24, 10])  → flatten count = 35088\n"
     ]
    },
    {
     "name": "stderr",
     "output_type": "stream",
     "text": [
      "C:\\Users\\amaguaya\\AppData\\Local\\Packages\\PythonSoftwareFoundation.Python.3.11_qbz5n2kfra8p0\\LocalCache\\local-packages\\Python311\\site-packages\\sklearn\\utils\\validation.py:2739: UserWarning: X does not have valid feature names, but LGBMRegressor was fitted with feature names\n",
      "  warnings.warn(\n",
      "C:\\Users\\amaguaya\\AppData\\Local\\Packages\\PythonSoftwareFoundation.Python.3.11_qbz5n2kfra8p0\\LocalCache\\local-packages\\Python311\\site-packages\\sklearn\\utils\\validation.py:2739: UserWarning: X does not have valid feature names, but LGBMRegressor was fitted with feature names\n",
      "  warnings.warn(\n"
     ]
    },
    {
     "name": "stdout",
     "output_type": "stream",
     "text": [
      "-> finished loop 714\n",
      "Loop 720: train 2020-12-21 00:00:00 -> 2024-12-20 00:00:00, forecast 2024-12-21 00:00:00\n",
      "  dat_slice shape: torch.Size([1462, 24, 10])  → flatten count = 35088\n",
      "-> finished loop 715\n",
      "Loop 721: train 2020-12-22 00:00:00 -> 2024-12-21 00:00:00, forecast 2024-12-22 00:00:00\n",
      "  dat_slice shape: torch.Size([1462, 24, 10])  → flatten count = 35088\n"
     ]
    },
    {
     "name": "stderr",
     "output_type": "stream",
     "text": [
      "C:\\Users\\amaguaya\\AppData\\Local\\Packages\\PythonSoftwareFoundation.Python.3.11_qbz5n2kfra8p0\\LocalCache\\local-packages\\Python311\\site-packages\\sklearn\\utils\\validation.py:2739: UserWarning: X does not have valid feature names, but LGBMRegressor was fitted with feature names\n",
      "  warnings.warn(\n"
     ]
    },
    {
     "name": "stdout",
     "output_type": "stream",
     "text": [
      "-> finished loop 713\n",
      "Loop 722: train 2020-12-23 00:00:00 -> 2024-12-22 00:00:00, forecast 2024-12-23 00:00:00\n",
      "  dat_slice shape: torch.Size([1462, 24, 10])  → flatten count = 35088\n"
     ]
    },
    {
     "name": "stderr",
     "output_type": "stream",
     "text": [
      "C:\\Users\\amaguaya\\AppData\\Local\\Packages\\PythonSoftwareFoundation.Python.3.11_qbz5n2kfra8p0\\LocalCache\\local-packages\\Python311\\site-packages\\sklearn\\utils\\validation.py:2739: UserWarning: X does not have valid feature names, but LGBMRegressor was fitted with feature names\n",
      "  warnings.warn(\n"
     ]
    },
    {
     "name": "stdout",
     "output_type": "stream",
     "text": [
      "-> finished loop 716\n",
      "Loop 723: train 2020-12-24 00:00:00 -> 2024-12-23 00:00:00, forecast 2024-12-24 00:00:00\n",
      "  dat_slice shape: torch.Size([1462, 24, 10])  → flatten count = 35088\n"
     ]
    },
    {
     "name": "stderr",
     "output_type": "stream",
     "text": [
      "C:\\Users\\amaguaya\\AppData\\Local\\Packages\\PythonSoftwareFoundation.Python.3.11_qbz5n2kfra8p0\\LocalCache\\local-packages\\Python311\\site-packages\\sklearn\\utils\\validation.py:2739: UserWarning: X does not have valid feature names, but LGBMRegressor was fitted with feature names\n",
      "  warnings.warn(\n",
      "C:\\Users\\amaguaya\\AppData\\Local\\Packages\\PythonSoftwareFoundation.Python.3.11_qbz5n2kfra8p0\\LocalCache\\local-packages\\Python311\\site-packages\\sklearn\\utils\\validation.py:2739: UserWarning: X does not have valid feature names, but LGBMRegressor was fitted with feature names\n",
      "  warnings.warn(\n"
     ]
    },
    {
     "name": "stdout",
     "output_type": "stream",
     "text": [
      "-> finished loop 717\n",
      "Loop 724: train 2020-12-25 00:00:00 -> 2024-12-24 00:00:00, forecast 2024-12-25 00:00:00\n",
      "  dat_slice shape: torch.Size([1462, 24, 10])  → flatten count = 35088\n",
      "-> finished loop 718\n",
      "Loop 725: train 2020-12-26 00:00:00 -> 2024-12-25 00:00:00, forecast 2024-12-26 00:00:00\n",
      "  dat_slice shape: torch.Size([1462, 24, 10])  → flatten count = 35088\n"
     ]
    },
    {
     "name": "stderr",
     "output_type": "stream",
     "text": [
      "C:\\Users\\amaguaya\\AppData\\Local\\Packages\\PythonSoftwareFoundation.Python.3.11_qbz5n2kfra8p0\\LocalCache\\local-packages\\Python311\\site-packages\\sklearn\\utils\\validation.py:2739: UserWarning: X does not have valid feature names, but LGBMRegressor was fitted with feature names\n",
      "  warnings.warn(\n"
     ]
    },
    {
     "name": "stdout",
     "output_type": "stream",
     "text": [
      "-> finished loop 719\n",
      "Loop 726: train 2020-12-27 00:00:00 -> 2024-12-26 00:00:00, forecast 2024-12-27 00:00:00\n",
      "  dat_slice shape: torch.Size([1462, 24, 10])  → flatten count = 35088\n"
     ]
    },
    {
     "name": "stderr",
     "output_type": "stream",
     "text": [
      "C:\\Users\\amaguaya\\AppData\\Local\\Packages\\PythonSoftwareFoundation.Python.3.11_qbz5n2kfra8p0\\LocalCache\\local-packages\\Python311\\site-packages\\sklearn\\utils\\validation.py:2739: UserWarning: X does not have valid feature names, but LGBMRegressor was fitted with feature names\n",
      "  warnings.warn(\n"
     ]
    },
    {
     "name": "stdout",
     "output_type": "stream",
     "text": [
      "-> finished loop 721\n",
      "Loop 727: train 2020-12-28 00:00:00 -> 2024-12-27 00:00:00, forecast 2024-12-28 00:00:00\n",
      "  dat_slice shape: torch.Size([1462, 24, 10])  → flatten count = 35088\n"
     ]
    },
    {
     "name": "stderr",
     "output_type": "stream",
     "text": [
      "C:\\Users\\amaguaya\\AppData\\Local\\Packages\\PythonSoftwareFoundation.Python.3.11_qbz5n2kfra8p0\\LocalCache\\local-packages\\Python311\\site-packages\\sklearn\\utils\\validation.py:2739: UserWarning: X does not have valid feature names, but LGBMRegressor was fitted with feature names\n",
      "  warnings.warn(\n",
      "C:\\Users\\amaguaya\\AppData\\Local\\Packages\\PythonSoftwareFoundation.Python.3.11_qbz5n2kfra8p0\\LocalCache\\local-packages\\Python311\\site-packages\\sklearn\\utils\\validation.py:2739: UserWarning: X does not have valid feature names, but LGBMRegressor was fitted with feature names\n",
      "  warnings.warn(\n"
     ]
    },
    {
     "name": "stdout",
     "output_type": "stream",
     "text": [
      "-> finished loop 722\n",
      "Loop 728: train 2020-12-29 00:00:00 -> 2024-12-28 00:00:00, forecast 2024-12-29 00:00:00\n",
      "  dat_slice shape: torch.Size([1462, 24, 10])  → flatten count = 35088\n",
      "-> finished loop 720\n",
      "Loop 729: train 2020-12-30 00:00:00 -> 2024-12-29 00:00:00, forecast 2024-12-30 00:00:00\n",
      "  dat_slice shape: torch.Size([1462, 24, 10])  → flatten count = 35088\n"
     ]
    },
    {
     "name": "stderr",
     "output_type": "stream",
     "text": [
      "C:\\Users\\amaguaya\\AppData\\Local\\Packages\\PythonSoftwareFoundation.Python.3.11_qbz5n2kfra8p0\\LocalCache\\local-packages\\Python311\\site-packages\\sklearn\\utils\\validation.py:2739: UserWarning: X does not have valid feature names, but LGBMRegressor was fitted with feature names\n",
      "  warnings.warn(\n",
      "C:\\Users\\amaguaya\\AppData\\Local\\Packages\\PythonSoftwareFoundation.Python.3.11_qbz5n2kfra8p0\\LocalCache\\local-packages\\Python311\\site-packages\\sklearn\\utils\\validation.py:2739: UserWarning: X does not have valid feature names, but LGBMRegressor was fitted with feature names\n",
      "  warnings.warn(\n"
     ]
    },
    {
     "name": "stdout",
     "output_type": "stream",
     "text": [
      "-> finished loop 723\n",
      "Loop 730: train 2020-12-31 00:00:00 -> 2024-12-30 00:00:00, forecast 2024-12-31 00:00:00\n",
      "  dat_slice shape: torch.Size([1462, 24, 10])  → flatten count = 35088\n",
      "-> finished loop 725\n"
     ]
    },
    {
     "name": "stderr",
     "output_type": "stream",
     "text": [
      "C:\\Users\\amaguaya\\AppData\\Local\\Packages\\PythonSoftwareFoundation.Python.3.11_qbz5n2kfra8p0\\LocalCache\\local-packages\\Python311\\site-packages\\sklearn\\utils\\validation.py:2739: UserWarning: X does not have valid feature names, but LGBMRegressor was fitted with feature names\n",
      "  warnings.warn(\n",
      "C:\\Users\\amaguaya\\AppData\\Local\\Packages\\PythonSoftwareFoundation.Python.3.11_qbz5n2kfra8p0\\LocalCache\\local-packages\\Python311\\site-packages\\sklearn\\utils\\validation.py:2739: UserWarning: X does not have valid feature names, but LGBMRegressor was fitted with feature names\n",
      "  warnings.warn(\n"
     ]
    },
    {
     "name": "stdout",
     "output_type": "stream",
     "text": [
      "-> finished loop 724\n",
      "-> finished loop 726\n"
     ]
    },
    {
     "name": "stderr",
     "output_type": "stream",
     "text": [
      "C:\\Users\\amaguaya\\AppData\\Local\\Packages\\PythonSoftwareFoundation.Python.3.11_qbz5n2kfra8p0\\LocalCache\\local-packages\\Python311\\site-packages\\sklearn\\utils\\validation.py:2739: UserWarning: X does not have valid feature names, but LGBMRegressor was fitted with feature names\n",
      "  warnings.warn(\n",
      "C:\\Users\\amaguaya\\AppData\\Local\\Packages\\PythonSoftwareFoundation.Python.3.11_qbz5n2kfra8p0\\LocalCache\\local-packages\\Python311\\site-packages\\sklearn\\utils\\validation.py:2739: UserWarning: X does not have valid feature names, but LGBMRegressor was fitted with feature names\n",
      "  warnings.warn(\n",
      "C:\\Users\\amaguaya\\AppData\\Local\\Packages\\PythonSoftwareFoundation.Python.3.11_qbz5n2kfra8p0\\LocalCache\\local-packages\\Python311\\site-packages\\sklearn\\utils\\validation.py:2739: UserWarning: X does not have valid feature names, but LGBMRegressor was fitted with feature names\n",
      "  warnings.warn(\n"
     ]
    },
    {
     "name": "stdout",
     "output_type": "stream",
     "text": [
      "-> finished loop 727\n",
      "-> finished loop 728\n",
      "-> finished loop 729\n",
      "-> finished loop 730\n",
      "Zone NO1 LBGM-24h RMSE: 8.7986\n"
     ]
    },
    {
     "name": "stderr",
     "output_type": "stream",
     "text": [
      "C:\\Users\\amaguaya\\AppData\\Local\\Packages\\PythonSoftwareFoundation.Python.3.11_qbz5n2kfra8p0\\LocalCache\\local-packages\\Python311\\site-packages\\sklearn\\utils\\validation.py:2739: UserWarning: X does not have valid feature names, but LGBMRegressor was fitted with feature names\n",
      "  warnings.warn(\n"
     ]
    }
   ],
   "source": [
    "# set the GPU\n",
    "device = torch.device(\"cuda\" if torch.cuda.is_available() else \"cpu\")\n",
    "\n",
    "# **************************************\n",
    "# define dates for training and evaluation \n",
    "# **************************************\n",
    "INIT_DATE_EXPERIMENTS = '2019-01-01'\n",
    "INIT_TEST_DATE = '2023-01-01'\n",
    "FINAL_DATE_EXPERIMENTS = '2024-12-31'\n",
    "n_days_test = (pd.to_datetime(FINAL_DATE_EXPERIMENTS) - pd.to_datetime(INIT_TEST_DATE)).days + (1) # additional adjustment\n",
    "\n",
    "repo_root = Path.cwd().parents[1]\n",
    "mapcodes = [\"NO1\"] # [\"NO1\",\"NO2\",\"NO3\",\"NO4\",\"NO5\"]\n",
    "maps_dict = {}\n",
    "\n",
    "for code in mapcodes:\n",
    "    csv_path = repo_root / \"data\" / f\"data_{code}.csv\"\n",
    "    df = pd.read_csv(csv_path, parse_dates=[\"time_utc\"])\n",
    "    data_t, train_t, train_dates, price_t = prepare_dataset_tensor_modified(\n",
    "        csv_path,\n",
    "        tz=\"CET\",\n",
    "        seed=42,\n",
    "        test_days= n_days_test , # Here it should be 1*365 for 1 year of test, and so on\n",
    "        dtype=torch.float64,\n",
    "    )\n",
    "\n",
    "    # fix potential problems with dates after change time zone..\n",
    "    train_dates_series       = pd.DatetimeIndex(sorted(train_dates))\n",
    "    id_init_exp = train_dates_series.get_loc(pd.Timestamp(INIT_DATE_EXPERIMENTS))\n",
    "    id_init_test_period = train_dates_series.get_loc(pd.Timestamp(INIT_TEST_DATE))\n",
    "    id_end_exp = train_dates_series.get_loc(pd.Timestamp(FINAL_DATE_EXPERIMENTS))\n",
    "    data_t = data_t[id_init_exp:(id_end_exp+1), :,:]\n",
    "    train_dates = pd.Series(train_dates[id_init_exp:(id_end_exp+1)])\n",
    "\n",
    "    print(f\"days for test data ..{data_t.shape[0] - id_init_test_period}\")\n",
    "    \n",
    "    maps_dict[code] = {\n",
    "        \"df\": df,\n",
    "        \"data_t\": data_t,\n",
    "        \"train_t\": train_t,\n",
    "        \"train_dates\": train_dates,\n",
    "        \"price_t\": price_t\n",
    "    }\n",
    "maps_dict.keys()\n",
    "\n",
    "lgbm24_by_zone   = {}\n",
    "rmse_by_zone  = {}\n",
    "\n",
    "\n",
    "\n",
    "for z in mapcodes:\n",
    "    print(f\"\\n--- {z} ---\")\n",
    "    price_S      = maps_dict[z][\"price_t\"]\n",
    "    data_array   = maps_dict[z][\"data_t\"]\n",
    "    full_dates      = maps_dict[z][\"train_dates\"] # <-- here i change a bit the previuous function, prepare_data_tensor, it has all dates\n",
    "    feature_names= maps_dict[z][\"df\"].columns[1:]\n",
    "    full_date_series = pd.DatetimeIndex(sorted(full_dates))\n",
    "\n",
    "    # evaluation days (all of 2024)\n",
    "    train_start_idx = full_date_series.get_loc(pd.Timestamp(INIT_DATE_EXPERIMENTS))\n",
    "    id_init_eval = full_date_series.get_loc(pd.Timestamp(INIT_TEST_DATE))\n",
    "    id_end_eval = full_date_series.get_loc(pd.Timestamp(FINAL_DATE_EXPERIMENTS))\n",
    "    eval_start_idx = id_init_eval\n",
    "    eval_end_idx  = id_end_eval\n",
    "    N_s            = (eval_end_idx - eval_start_idx) + 1 # additional adjustment\n",
    "    full_dates = pd.to_datetime(full_dates)\n",
    "\n",
    "    \n",
    "\n",
    "    # new features: WD - dummy for week days, price lags for Mon, Tue and Fri, day-ahead load lag\n",
    "    WD             = [1,6,7]     \n",
    "    PRICE_S_LAGS   = [1,2,7]\n",
    "    DA_LAG         = [0]\n",
    "    S              = 24\n",
    "    #D             = 730\n",
    "\n",
    "    # tensors to collect forecasts for THIS zone\n",
    "    forecasts_zone = torch.full((N_s, S, 1), float(\"nan\"),\n",
    "                                dtype=torch.float64, device=device)\n",
    "\n",
    "    # thread pool\n",
    "    with ThreadPoolExecutor(max(1, os.cpu_count() // 2) + 1 ) as executor:\n",
    "        futures = [\n",
    "            executor.submit(\n",
    "                run_forecast_step_modified,\n",
    "                n,\n",
    "                price_S,\n",
    "                data_array,\n",
    "                train_start_idx = train_start_idx,\n",
    "                train_end_idx   = id_init_eval - 1,\n",
    "                full_dates      = full_dates,\n",
    "                wd              = WD,                \n",
    "                price_s_lags    = PRICE_S_LAGS,\n",
    "                da_lag          = DA_LAG,\n",
    "                feature_names   = feature_names,   # reg_names\n",
    "            )\n",
    "            for n in range(N_s)\n",
    "        ]\n",
    "\n",
    "        for fut in as_completed(futures):\n",
    "            try:\n",
    "                n, lgbm24 = fut.result()\n",
    "                forecasts_zone[n, :, 0] = lgbm24.detach().clone().to(forecasts_zone.dtype).to(forecasts_zone.device)\n",
    "            except Exception as e:\n",
    "                import traceback\n",
    "                print(f\"Thread crashed: {e}\")\n",
    "                traceback.print_exc()\n",
    "\n",
    "                \n",
    "    #   shape: (N_s, S)\n",
    "    true_vals = price_S[eval_start_idx : eval_end_idx + 1].to(device)  \n",
    "    \n",
    "    # compute RMSE\n",
    "    diff = forecasts_zone[:, :, 0] - true_vals\n",
    "    rmse = torch.sqrt((diff**2).mean()).item()\n",
    "    \n",
    "    print(f\"Zone {z} LBGM-24h RMSE: {rmse:.4f}\")\n",
    "\n",
    "    lgbm24_by_zone[z] = forecasts_zone[:, :, 0].cpu()\n",
    "    rmse_by_zone[z]  = rmse"
   ]
  }
 ],
 "metadata": {
  "kernelspec": {
   "display_name": "Python 3",
   "language": "python",
   "name": "python3"
  },
  "language_info": {
   "codemirror_mode": {
    "name": "ipython",
    "version": 3
   },
   "file_extension": ".py",
   "mimetype": "text/x-python",
   "name": "python",
   "nbconvert_exporter": "python",
   "pygments_lexer": "ipython3",
   "version": "3.11.9"
  }
 },
 "nbformat": 4,
 "nbformat_minor": 5
}
