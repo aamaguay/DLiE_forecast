{
 "cells": [
  {
   "cell_type": "code",
   "execution_count": 2,
   "id": "3ba3accd",
   "metadata": {},
   "outputs": [],
   "source": [
    "%load_ext autoreload\n",
    "%autoreload 2"
   ]
  },
  {
   "cell_type": "code",
   "execution_count": 3,
   "id": "1148c2f0",
   "metadata": {},
   "outputs": [
    {
     "name": "stderr",
     "output_type": "stream",
     "text": [
      "C:\\Users\\amaguaya\\AppData\\Local\\Packages\\PythonSoftwareFoundation.Python.3.11_qbz5n2kfra8p0\\LocalCache\\local-packages\\Python311\\site-packages\\tqdm\\auto.py:21: TqdmWarning: IProgress not found. Please update jupyter and ipywidgets. See https://ipywidgets.readthedocs.io/en/stable/user_install.html\n",
      "  from .autonotebook import tqdm as notebook_tqdm\n"
     ]
    }
   ],
   "source": [
    "# %% load packages\n",
    "import locale\n",
    "import sys\n",
    "import os\n",
    "import pandas as pd\n",
    "import numpy as np\n",
    "import polars as pl\n",
    "import matplotlib.pyplot as plt\n",
    "import optuna\n",
    "import requests\n",
    "import torch\n",
    "import random\n",
    "from sqlalchemy import create_engine,inspect\n",
    "from pathlib import Path\n",
    "import urllib.parse\n",
    "import pyarrow\n",
    "from calendar import day_abbr\n",
    "import calendar\n",
    "from typing import Tuple, Union, Dict, List\n",
    "from concurrent.futures import ThreadPoolExecutor, as_completed\n",
    "from pygam import LinearGAM\n",
    "from datetime import datetime\n"
   ]
  },
  {
   "cell_type": "code",
   "execution_count": 4,
   "id": "b149e4cc",
   "metadata": {},
   "outputs": [
    {
     "data": {
      "text/plain": [
       "'c:\\\\Users\\\\amaguaya\\\\OneDrive - Kienzle Automotive GmbH\\\\Desktop\\\\DLiE\\\\repo\\\\DLiE_forecast_13_06_25\\\\srs\\\\notebooks'"
      ]
     },
     "execution_count": 4,
     "metadata": {},
     "output_type": "execute_result"
    }
   ],
   "source": [
    "os.getcwd()"
   ]
  },
  {
   "cell_type": "code",
   "execution_count": 5,
   "id": "186feefc",
   "metadata": {},
   "outputs": [
    {
     "name": "stdout",
     "output_type": "stream",
     "text": [
      "Working directory: c:\\Users\\amaguaya\\OneDrive - Kienzle Automotive GmbH\\Desktop\\DLiE\\repo\\DLiE_forecast_13_06_25\\srs\\notebooks\n"
     ]
    }
   ],
   "source": [
    "import sys\n",
    "sys.path.append('C:/Users/amaguaya/OneDrive - Kienzle Automotive GmbH/Desktop/DLiE/repo/DLiE_forecast_13_06_25')\n",
    "\n",
    "import os\n",
    "print(\"Working directory:\", os.getcwd())\n",
    "\n"
   ]
  },
  {
   "cell_type": "code",
   "execution_count": 6,
   "id": "23d49975",
   "metadata": {},
   "outputs": [],
   "source": [
    "from srs.utils.tutor_utils import prepare_dataset_tensor, forecasting_study,\\\n",
    "  plot_daily_profile,plot_hour_comparison, build_multiwindow_experts, tune_ewa_eta, \\\n",
    "  ewa_aggregate_forecasts, compute_error_table, tune_expert_window, \\\n",
    "  run_expert_window_test, build_regression_matrix, SimpleMLP, train_mlp, \\\n",
    "  prepare_train_test_tensors, build_mlp_rolling_forecasts, tune_mlp_hyperparameters, \\\n",
    "  DST_trafo, prepare_dataset_tensor_modified\n",
    "\n",
    "from srs.utils.our_utils import run_forecast_step, run_forecast_step_modified\n",
    "from srs.collect_data.setup import setup_seed, get_device\n",
    "from srs.collect_data.entsoe_data import create_entsoe_engine, get_tables, get_spec, \\\n",
    "  get_market_divisions,get_map_codes,get_map_codes_starting_with, get_resolution_codes, \\\n",
    "    prepare_generation, prepare_load,prepare_price, prepare_unavailability, \\\n",
    "    prepare_filling_rate_hydro, prepare_physical_flow, prepare_installed_capacity\n",
    "from srs.collect_data.datastream_data import create_datastream_engine, get_tables, \\\n",
    "  prepare_datastream\n",
    "from srs.collect_data.dwd_mosmix_data import fetch_region_weather, prepare_weather\n",
    "from srs.collect_data.merge_data import merge_datasets, build_training_dataset\n",
    "\n"
   ]
  },
  {
   "cell_type": "markdown",
   "id": "ac9e3c1d",
   "metadata": {},
   "source": [
    "### models_24h fitting for all no1-no5 regions separately."
   ]
  },
  {
   "cell_type": "code",
   "execution_count": 79,
   "id": "4af66cc0",
   "metadata": {},
   "outputs": [
    {
     "data": {
      "text/plain": [
       "'\\n  eval/test periods\\n  2023 - 365 days\\n  2024 - 366 days\\n'"
      ]
     },
     "execution_count": 79,
     "metadata": {},
     "output_type": "execute_result"
    }
   ],
   "source": [
    "'''\n",
    "  eval/test periods\n",
    "  2023 - 365 days\n",
    "  2024 - 366 days\n",
    "'''\n",
    "# rmse  # -- 31.68, rmse: 8.79, 8.798 with rolling, 8.77 use n+180, -90... 8.7978; -120 (4months):9.51 \n",
    "# -30 (1 month)8.72, -60 (2mothns), 8.703, if remove 2019. 8.73\n",
    "\n",
    "# id_init_eval-1\n",
    "# data_t.shape, train_t.shape, train_dates.shape\n",
    "# 2192-751\n",
    "\n",
    "# len(price_t[24:-24])\n",
    "# len(data_t[:,:,0])"
   ]
  },
  {
   "cell_type": "code",
   "execution_count": 80,
   "id": "e3bada58",
   "metadata": {},
   "outputs": [],
   "source": [
    "# len(price_t[:-1])\n",
    "# len(full_dates_), len(data_t[:,:,0].cpu().numpy())"
   ]
  },
  {
   "cell_type": "code",
   "execution_count": null,
   "id": "05cdda71",
   "metadata": {},
   "outputs": [
    {
     "name": "stdout",
     "output_type": "stream",
     "text": [
      "Filtered RMSE: 14.3937\n"
     ]
    }
   ],
   "source": [
    "# # Step 1: Flatten the time series (days × hours → 1D)\n",
    "# flattened_series = data_t[:, :, 0].reshape(-1).cpu().numpy()\n",
    "\n",
    "# # Step 2: Create a matching hourly datetime index\n",
    "# # There are 24 hours per day, so total points = 2192 days × 24 = 52608\n",
    "# start_datetime = pd.to_datetime(INIT_DATE_EXPERIMENTS)\n",
    "# end_datetime = pd.to_datetime(FINAL_DATE_EXPERIMENTS) + pd.Timedelta(hours=23)\n",
    "# datetime_index = pd.date_range(start=start_datetime, end=end_datetime, freq='H')\n",
    "\n",
    "# # Check: both must match in length\n",
    "# assert len(flattened_series) == len(datetime_index)\n",
    "\n",
    "# # Step 3: Create the Series and plot\n",
    "# price_series_flat = pd.Series(flattened_series, index=datetime_index)\n",
    "\n",
    "# plt.figure(figsize=(15, 4))\n",
    "# price_series_flat[-(24*7*0)-(2*24):].plot()\n",
    "# plt.title(\"Electricity Price (Hourly)\")\n",
    "# plt.xlabel(\"Time\")\n",
    "# plt.ylabel(\"Price\")\n",
    "# plt.grid(True)\n",
    "# plt.tight_layout()\n",
    "# plt.show()\n",
    "\n",
    "# [1,2,5,88,22,4,9,8,2,5,7,10,4,5,7,8,44,0,99,77][-(3*2):-3]\n",
    "\n",
    "# Create mask: keep only valid forecast rows (no NaNs across the whole 24h horizon)\n",
    "# valid_mask = ~torch.isnan(forecasts_zone[:, :, 0]).any(dim=1)\n",
    "\n",
    "# # Apply mask to both forecast and true values\n",
    "# valid_forecast = forecasts_zone[valid_mask, :, 0]\n",
    "# valid_true     = true_vals[valid_mask, :]\n",
    "\n",
    "# # Compute RMSE only on valid rows\n",
    "# diff = valid_forecast - valid_true\n",
    "# rmse = torch.sqrt((diff ** 2).mean()).item()\n",
    "# print(f\"Filtered RMSE: {rmse:.4f}\")\n"
   ]
  },
  {
   "cell_type": "code",
   "execution_count": null,
   "id": "e9ed531d",
   "metadata": {},
   "outputs": [
    {
     "name": "stderr",
     "output_type": "stream",
     "text": [
      "[I 2025-06-13 19:50:34,849] A new study created in memory with name: no-name-4dbd72fa-747d-452d-bafb-12973030f914\n",
      "[I 2025-06-13 19:50:34,855] A new study created in memory with name: no-name-f5e2a22a-3f8e-4b0c-bd7f-e8ffc41282e5\n",
      "[I 2025-06-13 19:50:34,859] A new study created in memory with name: no-name-406de124-75b6-465e-9c11-8abcead1c319\n",
      "[I 2025-06-13 19:50:34,899] A new study created in memory with name: no-name-e611242c-01e2-4b5d-af8b-8b7f300a7fc7\n",
      "[I 2025-06-13 19:50:34,901] A new study created in memory with name: no-name-f6cd9e4b-f7f0-4721-9a23-2f8cfa7cd8b8\n",
      "[I 2025-06-13 19:50:34,901] A new study created in memory with name: no-name-a944fe89-2f6d-480b-858c-ecdb3ce25477\n",
      "[I 2025-06-13 19:50:34,919] A new study created in memory with name: no-name-64ab59a3-dff6-436d-816b-e3f120ff3ab4\n"
     ]
    },
    {
     "name": "stdout",
     "output_type": "stream",
     "text": [
      "days for test data ..731\n",
      "\n",
      "--- NO1 ---\n",
      "Loop   0: train 2019-01-01 00:00:00 -> 2022-12-31 00:00:00, forecast 2023-01-01 00:00:00\n",
      "  dat_slice shape: torch.Size([1462, 24, 10])  → flatten count = 35088\n",
      "Loop   1: train 2019-03-03 00:00:00 -> 2023-01-01 00:00:00, forecast 2023-01-02 00:00:00\n",
      "  dat_slice shape: torch.Size([1402, 24, 10])  → flatten count = 33648\n",
      "Loop   2: train 2019-03-04 00:00:00 -> 2023-01-02 00:00:00, forecast 2023-01-03 00:00:00\n",
      "  dat_slice shape: torch.Size([1402, 24, 10])  → flatten count = 33648\n",
      "Loop   3: train 2019-03-05 00:00:00 -> 2023-01-03 00:00:00, forecast 2023-01-04 00:00:00\n",
      "  dat_slice shape: torch.Size([1402, 24, 10])  → flatten count = 33648\n",
      "Loop   4: train 2019-03-06 00:00:00 -> 2023-01-04 00:00:00, forecast 2023-01-05 00:00:00\n",
      "  dat_slice shape: torch.Size([1402, 24, 10])  → flatten count = 33648\n",
      "Loop   5: train 2019-03-07 00:00:00 -> 2023-01-05 00:00:00, forecast 2023-01-06 00:00:00\n",
      "  dat_slice shape: torch.Size([1402, 24, 10])  → flatten count = 33648\n",
      "Loop   6: train 2019-03-08 00:00:00 -> 2023-01-06 00:00:00, forecast 2023-01-07 00:00:00\n",
      "  dat_slice shape: torch.Size([1402, 24, 10])  → flatten count = 33648\n"
     ]
    },
    {
     "name": "stderr",
     "output_type": "stream",
     "text": [
      "[I 2025-06-13 19:50:35,730] Trial 0 finished with value: 0.0041884026276050096 and parameters: {'n_estimators': 170, 'learning_rate': 0.2267171607312263, 'num_leaves': 208, 'max_depth': 7, 'min_child_samples': 8, 'subsample': 0.8347901307909564, 'colsample_bytree': 0.7518650066847192, 'reg_alpha': 9.416125662030684, 'reg_lambda': 3.0000789707017583, 'min_split_gain': 0.010642544956534206}. Best is trial 0 with value: 0.0041884026276050096.\n",
      "[I 2025-06-13 19:50:35,791] Trial 0 finished with value: 0.005451463170546275 and parameters: {'n_estimators': 191, 'learning_rate': 0.2644163904356763, 'num_leaves': 75, 'max_depth': 9, 'min_child_samples': 29, 'subsample': 0.9194287334216729, 'colsample_bytree': 0.9750322774697255, 'reg_alpha': 4.3625089613815335, 'reg_lambda': 0.8022076421923785, 'min_split_gain': 0.01542167541511112}. Best is trial 0 with value: 0.005451463170546275.\n"
     ]
    },
    {
     "name": "stdout",
     "output_type": "stream",
     "text": [
      "[Trial 0] New best: 0.00419\n",
      "[Trial 0] New best: 0.00545\n"
     ]
    },
    {
     "name": "stderr",
     "output_type": "stream",
     "text": [
      "[I 2025-06-13 19:50:36,409] Trial 0 finished with value: 0.01085026440044603 and parameters: {'n_estimators': 102, 'learning_rate': 0.03446360082143626, 'num_leaves': 36, 'max_depth': 7, 'min_child_samples': 19, 'subsample': 0.5271332603875797, 'colsample_bytree': 0.5596995180927251, 'reg_alpha': 9.163779913858331, 'reg_lambda': 2.9046710469211243, 'min_split_gain': 0.025548136770605495}. Best is trial 0 with value: 0.01085026440044603.\n",
      "[I 2025-06-13 19:50:36,515] Trial 1 finished with value: 0.004027096412281093 and parameters: {'n_estimators': 203, 'learning_rate': 0.2158775866161607, 'num_leaves': 153, 'max_depth': 6, 'min_child_samples': 25, 'subsample': 0.7847115425660451, 'colsample_bytree': 0.8038163945949109, 'reg_alpha': 5.527429170026702, 'reg_lambda': 5.418789043215156, 'min_split_gain': 0.0234194654000677}. Best is trial 1 with value: 0.004027096412281093.\n",
      "[I 2025-06-13 19:50:36,612] Trial 0 finished with value: 0.00740731195870074 and parameters: {'n_estimators': 215, 'learning_rate': 0.07981170851351073, 'num_leaves': 253, 'max_depth': 5, 'min_child_samples': 15, 'subsample': 0.6185887858560185, 'colsample_bytree': 0.6516619845976073, 'reg_alpha': 2.934308011728428, 'reg_lambda': 2.9691903267407413, 'min_split_gain': 0.019942492971429745}. Best is trial 0 with value: 0.00740731195870074.\n"
     ]
    },
    {
     "name": "stdout",
     "output_type": "stream",
     "text": [
      "[Trial 0] New best: 0.01085\n",
      "[Trial 1] No significant gain (Δ ≤ 0.001). Counter: 1/3\n",
      "[Trial 0] New best: 0.00741\n"
     ]
    },
    {
     "name": "stderr",
     "output_type": "stream",
     "text": [
      "[I 2025-06-13 19:50:37,847] Trial 0 finished with value: 0.008346563947340626 and parameters: {'n_estimators': 257, 'learning_rate': 0.06113951269020882, 'num_leaves': 44, 'max_depth': 16, 'min_child_samples': 21, 'subsample': 0.6093846396605905, 'colsample_bytree': 0.6565458330426538, 'reg_alpha': 4.2293186154106985, 'reg_lambda': 6.256861176839839, 'min_split_gain': 0.0205972743359434}. Best is trial 0 with value: 0.008346563947340626.\n"
     ]
    },
    {
     "name": "stdout",
     "output_type": "stream",
     "text": [
      "[Trial 0] New best: 0.00835\n"
     ]
    },
    {
     "name": "stderr",
     "output_type": "stream",
     "text": [
      "[I 2025-06-13 19:50:38,245] Trial 1 finished with value: 0.007062042133163364 and parameters: {'n_estimators': 137, 'learning_rate': 0.05009494742925584, 'num_leaves': 40, 'max_depth': 14, 'min_child_samples': 7, 'subsample': 0.5605527363706957, 'colsample_bytree': 0.743680755581378, 'reg_alpha': 9.084896735716667, 'reg_lambda': 0.7779492879721739, 'min_split_gain': 0.045582282765475345}. Best is trial 1 with value: 0.007062042133163364.\n"
     ]
    },
    {
     "name": "stdout",
     "output_type": "stream",
     "text": [
      "[Trial 1] New best: 0.00706\n"
     ]
    },
    {
     "name": "stderr",
     "output_type": "stream",
     "text": [
      "[I 2025-06-13 19:50:39,273] Trial 1 finished with value: 0.006148350811697731 and parameters: {'n_estimators': 247, 'learning_rate': 0.029468579968533175, 'num_leaves': 219, 'max_depth': 14, 'min_child_samples': 7, 'subsample': 0.6975015794631857, 'colsample_bytree': 0.7241599796454017, 'reg_alpha': 8.263393731195395, 'reg_lambda': 4.052267963599206, 'min_split_gain': 0.04147921021985955}. Best is trial 0 with value: 0.005451463170546275.\n"
     ]
    },
    {
     "name": "stdout",
     "output_type": "stream",
     "text": [
      "[Trial 1] No significant gain (Δ ≤ 0.001). Counter: 1/3\n"
     ]
    },
    {
     "name": "stderr",
     "output_type": "stream",
     "text": [
      "[I 2025-06-13 19:50:39,583] Trial 1 finished with value: 0.009071472206121372 and parameters: {'n_estimators': 262, 'learning_rate': 0.015174746864552523, 'num_leaves': 44, 'max_depth': 5, 'min_child_samples': 1, 'subsample': 0.9604858043851534, 'colsample_bytree': 0.8177214239670046, 'reg_alpha': 9.410588054855104, 'reg_lambda': 0.5537878031780408, 'min_split_gain': 0.003614903799266123}. Best is trial 0 with value: 0.00740731195870074.\n"
     ]
    },
    {
     "name": "stdout",
     "output_type": "stream",
     "text": [
      "[Trial 1] No significant gain (Δ ≤ 0.001). Counter: 1/3\n"
     ]
    },
    {
     "name": "stderr",
     "output_type": "stream",
     "text": [
      "[I 2025-06-13 19:50:40,062] Trial 2 finished with value: 0.009051509058209374 and parameters: {'n_estimators': 231, 'learning_rate': 0.2533134332037924, 'num_leaves': 206, 'max_depth': 16, 'min_child_samples': 11, 'subsample': 0.9563236359112539, 'colsample_bytree': 0.6223568484431103, 'reg_alpha': 2.78141436543047, 'reg_lambda': 4.748433324821567, 'min_split_gain': 0.006601316801279806}. Best is trial 1 with value: 0.007062042133163364.\n"
     ]
    },
    {
     "name": "stdout",
     "output_type": "stream",
     "text": [
      "[Trial 2] No significant gain (Δ ≤ 0.001). Counter: 1/3\n"
     ]
    },
    {
     "name": "stderr",
     "output_type": "stream",
     "text": [
      "[I 2025-06-13 19:50:40,756] Trial 2 finished with value: 0.008774418980846698 and parameters: {'n_estimators': 170, 'learning_rate': 0.043990403792803716, 'num_leaves': 130, 'max_depth': 4, 'min_child_samples': 10, 'subsample': 0.7595853732616271, 'colsample_bytree': 0.5628253340780484, 'reg_alpha': 5.518674634720488, 'reg_lambda': 4.383303125218536, 'min_split_gain': 0.03695749097198171}. Best is trial 0 with value: 0.00740731195870074.\n"
     ]
    },
    {
     "name": "stdout",
     "output_type": "stream",
     "text": [
      "[Trial 2] No significant gain (Δ ≤ 0.001). Counter: 2/3\n"
     ]
    },
    {
     "name": "stderr",
     "output_type": "stream",
     "text": [
      "[I 2025-06-13 19:50:41,055] Trial 0 finished with value: 0.01246584135611492 and parameters: {'n_estimators': 224, 'learning_rate': 0.02018029264187622, 'num_leaves': 101, 'max_depth': 11, 'min_child_samples': 23, 'subsample': 0.9233054569044932, 'colsample_bytree': 0.8805730621773662, 'reg_alpha': 2.467563613522923, 'reg_lambda': 3.3137587215146946, 'min_split_gain': 0.01965152818785881}. Best is trial 0 with value: 0.01246584135611492.\n",
      "[I 2025-06-13 19:50:41,123] Trial 3 finished with value: 0.0073155569391193985 and parameters: {'n_estimators': 183, 'learning_rate': 0.07273852025078022, 'num_leaves': 53, 'max_depth': 4, 'min_child_samples': 29, 'subsample': 0.8271835905637672, 'colsample_bytree': 0.66128416787111, 'reg_alpha': 6.068683529480885, 'reg_lambda': 9.812753891979273, 'min_split_gain': 0.03009503883878738}. Best is trial 1 with value: 0.007062042133163364.\n"
     ]
    },
    {
     "name": "stdout",
     "output_type": "stream",
     "text": [
      "[Trial 0] New best: 0.01247\n",
      "[Trial 3] No significant gain (Δ ≤ 0.001). Counter: 2/3\n"
     ]
    },
    {
     "name": "stderr",
     "output_type": "stream",
     "text": [
      "[I 2025-06-13 19:50:42,081] Trial 4 finished with value: 0.013280828957697674 and parameters: {'n_estimators': 65, 'learning_rate': 0.05384408157873197, 'num_leaves': 136, 'max_depth': 12, 'min_child_samples': 21, 'subsample': 0.6426060085662313, 'colsample_bytree': 0.5153036192438971, 'reg_alpha': 8.712610112202784, 'reg_lambda': 9.204154601766652, 'min_split_gain': 0.03040760876351863}. Best is trial 1 with value: 0.007062042133163364.\n",
      "[I 2025-06-13 19:50:42,087] A new study created in memory with name: no-name-ec6ed772-3d5f-416b-b453-75ddd10b4344\n"
     ]
    },
    {
     "name": "stdout",
     "output_type": "stream",
     "text": [
      "[Trial 4] No significant gain (Δ ≤ 0.001). Counter: 3/3\n",
      "\n",
      "⏹️  Early stop: no gain > 0.001 in last 3 trials.\n"
     ]
    },
    {
     "name": "stderr",
     "output_type": "stream",
     "text": [
      "[I 2025-06-13 19:50:42,593] Trial 0 finished with value: 0.013845387059338044 and parameters: {'n_estimators': 241, 'learning_rate': 0.04019636912466202, 'num_leaves': 36, 'max_depth': 8, 'min_child_samples': 2, 'subsample': 0.6286365805807652, 'colsample_bytree': 0.6724312910991159, 'reg_alpha': 0.7130655385951223, 'reg_lambda': 9.949318705617397, 'min_split_gain': 0.03427096398286044}. Best is trial 0 with value: 0.013845387059338044.\n"
     ]
    },
    {
     "name": "stdout",
     "output_type": "stream",
     "text": [
      "[Trial 0] No significant gain (Δ ≤ 0.001). Counter: 4/3\n",
      "\n",
      "⏹️  Early stop: no gain > 0.001 in last 3 trials.\n"
     ]
    },
    {
     "name": "stderr",
     "output_type": "stream",
     "text": [
      "[I 2025-06-13 19:50:42,879] Trial 1 finished with value: 0.00710781206659819 and parameters: {'n_estimators': 267, 'learning_rate': 0.024156235694056324, 'num_leaves': 58, 'max_depth': 8, 'min_child_samples': 15, 'subsample': 0.8446396706181558, 'colsample_bytree': 0.8608695627038737, 'reg_alpha': 2.611167230997836, 'reg_lambda': 5.507679459619911, 'min_split_gain': 0.04764953131698552}. Best is trial 1 with value: 0.00710781206659819.\n"
     ]
    },
    {
     "name": "stdout",
     "output_type": "stream",
     "text": [
      "[Trial 1] New best: 0.00711\n"
     ]
    },
    {
     "name": "stderr",
     "output_type": "stream",
     "text": [
      "[I 2025-06-13 19:50:43,313] Trial 0 finished with value: 0.041152355328907146 and parameters: {'n_estimators': 186, 'learning_rate': 0.022810220847824553, 'num_leaves': 169, 'max_depth': 12, 'min_child_samples': 16, 'subsample': 0.6705503323927589, 'colsample_bytree': 0.8016249307157042, 'reg_alpha': 1.108963108729678, 'reg_lambda': 8.36780315750621, 'min_split_gain': 0.00630155990464627}. Best is trial 0 with value: 0.041152355328907146.\n"
     ]
    },
    {
     "name": "stdout",
     "output_type": "stream",
     "text": [
      "[Trial 0] New best: 0.04115\n"
     ]
    },
    {
     "name": "stderr",
     "output_type": "stream",
     "text": [
      "[I 2025-06-13 19:50:43,897] Trial 1 finished with value: 0.010247835378681814 and parameters: {'n_estimators': 217, 'learning_rate': 0.032015663214098454, 'num_leaves': 85, 'max_depth': 15, 'min_child_samples': 15, 'subsample': 0.8408068990598485, 'colsample_bytree': 0.8675621043686697, 'reg_alpha': 8.749714652843839, 'reg_lambda': 4.407410493439167, 'min_split_gain': 0.044438443441405066}. Best is trial 1 with value: 0.010247835378681814.\n",
      "[I 2025-06-13 19:50:44,041] Trial 2 finished with value: 0.14855927027892774 and parameters: {'n_estimators': 53, 'learning_rate': 0.012913823224636148, 'num_leaves': 192, 'max_depth': 11, 'min_child_samples': 5, 'subsample': 0.586414211259424, 'colsample_bytree': 0.7897939270482193, 'reg_alpha': 3.7594630412595285, 'reg_lambda': 9.51260668138749, 'min_split_gain': 0.007352742907395327}. Best is trial 1 with value: 0.00710781206659819.\n"
     ]
    },
    {
     "name": "stdout",
     "output_type": "stream",
     "text": [
      "[Trial 1] New best: 0.01025\n",
      "[Trial 2] No significant gain (Δ ≤ 0.001). Counter: 1/3\n"
     ]
    },
    {
     "name": "stderr",
     "output_type": "stream",
     "text": [
      "[I 2025-06-13 19:50:44,205] Trial 2 finished with value: 0.009594596453942113 and parameters: {'n_estimators': 147, 'learning_rate': 0.011303815981551966, 'num_leaves': 143, 'max_depth': 16, 'min_child_samples': 6, 'subsample': 0.832454736260416, 'colsample_bytree': 0.5523821479918283, 'reg_alpha': 2.787572343466448, 'reg_lambda': 4.27297347401319, 'min_split_gain': 0.008767380297415273}. Best is trial 0 with value: 0.005451463170546275.\n",
      "[I 2025-06-13 19:50:44,377] Trial 2 finished with value: 0.0027513126719159713 and parameters: {'n_estimators': 299, 'learning_rate': 0.01997763543770502, 'num_leaves': 104, 'max_depth': 13, 'min_child_samples': 21, 'subsample': 0.8961195220189935, 'colsample_bytree': 0.6815937431319985, 'reg_alpha': 2.402912410328968, 'reg_lambda': 8.878058162582857, 'min_split_gain': 0.030252979038265126}. Best is trial 2 with value: 0.0027513126719159713.\n"
     ]
    },
    {
     "name": "stdout",
     "output_type": "stream",
     "text": [
      "[Trial 2] No significant gain (Δ ≤ 0.001). Counter: 2/3\n",
      "[Trial 2] New best: 0.00275\n"
     ]
    },
    {
     "name": "stderr",
     "output_type": "stream",
     "text": [
      "[I 2025-06-13 19:50:44,807] A new study created in memory with name: no-name-c1e67446-0652-448e-9452-f432a5099cd3\n"
     ]
    },
    {
     "name": "stdout",
     "output_type": "stream",
     "text": [
      "long model ************************\n",
      "             feature  importance\n",
      "0        Price_lag_1         849\n",
      "1        Price_lag_2         663\n",
      "2        Price_lag_7         320\n",
      "3      Load_DA_lag_0         309\n",
      "11        NGas_lag_2         206\n",
      "10        Coal_lag_2         205\n",
      "5    WindOn_DA_lag_0         138\n",
      "13         EUA_lag_2         123\n",
      "12         Oil_lag_2         106\n",
      "9               WD_7          14\n",
      "4     Solar_DA_lag_0           0\n",
      "6   WindOff_DA_lag_0           0\n",
      "7               WD_1           0\n",
      "8               WD_6           0\n",
      "short model ************************\n",
      "             feature  importance\n",
      "0        Price_lag_1         310\n",
      "3      Load_DA_lag_0          48\n",
      "2        Price_lag_7          47\n",
      "1        Price_lag_2          46\n",
      "5    WindOn_DA_lag_0          43\n",
      "12         Oil_lag_2           9\n",
      "13         EUA_lag_2           9\n",
      "10        Coal_lag_2           7\n",
      "11        NGas_lag_2           4\n",
      "9               WD_7           2\n",
      "4     Solar_DA_lag_0           0\n",
      "6   WindOff_DA_lag_0           0\n",
      "7               WD_1           0\n",
      "8               WD_6           0\n",
      "-> finished loop 5\n",
      "Loop   7: train 2019-03-09 00:00:00 -> 2023-01-07 00:00:00, forecast 2023-01-08 00:00:00\n",
      "  dat_slice shape: torch.Size([1402, 24, 10])  → flatten count = 33648\n"
     ]
    },
    {
     "name": "stderr",
     "output_type": "stream",
     "text": [
      "[I 2025-06-13 19:50:45,425] Trial 0 finished with value: 0.008360901697372839 and parameters: {'n_estimators': 217, 'learning_rate': 0.18900936130142088, 'num_leaves': 164, 'max_depth': 4, 'min_child_samples': 10, 'subsample': 0.8483787762007019, 'colsample_bytree': 0.5571645701570951, 'reg_alpha': 9.000319969266425, 'reg_lambda': 3.8517028346779725, 'min_split_gain': 0.04460367519493348}. Best is trial 0 with value: 0.008360901697372839.\n",
      "[I 2025-06-13 19:50:45,481] Trial 2 finished with value: 0.01075597544008664 and parameters: {'n_estimators': 270, 'learning_rate': 0.23486077919085444, 'num_leaves': 247, 'max_depth': 10, 'min_child_samples': 28, 'subsample': 0.8175444547582638, 'colsample_bytree': 0.6790806452802506, 'reg_alpha': 0.6163368816844372, 'reg_lambda': 0.16320996688392042, 'min_split_gain': 0.030020273544740524}. Best is trial 1 with value: 0.010247835378681814.\n",
      "[I 2025-06-13 19:50:45,562] Trial 3 finished with value: 0.011562019492903168 and parameters: {'n_estimators': 95, 'learning_rate': 0.029080192605792872, 'num_leaves': 227, 'max_depth': 6, 'min_child_samples': 15, 'subsample': 0.6078261286343819, 'colsample_bytree': 0.6836849467454489, 'reg_alpha': 5.843521176426977, 'reg_lambda': 7.447354035871992, 'min_split_gain': 0.03972789620536502}. Best is trial 1 with value: 0.00710781206659819.\n"
     ]
    },
    {
     "name": "stdout",
     "output_type": "stream",
     "text": [
      "[Trial 0] New best: 0.00836\n",
      "[Trial 2] No significant gain (Δ ≤ 0.001). Counter: 1/3\n",
      "[Trial 3] No significant gain (Δ ≤ 0.001). Counter: 2/3\n"
     ]
    },
    {
     "name": "stderr",
     "output_type": "stream",
     "text": [
      "[I 2025-06-13 19:50:45,766] Trial 1 finished with value: 0.05404887549610873 and parameters: {'n_estimators': 76, 'learning_rate': 0.06504661714305503, 'num_leaves': 211, 'max_depth': 14, 'min_child_samples': 2, 'subsample': 0.5780707876955312, 'colsample_bytree': 0.524040038701558, 'reg_alpha': 6.418118074395141, 'reg_lambda': 3.9075573282286316, 'min_split_gain': 0.004729915396703616}. Best is trial 0 with value: 0.041152355328907146.\n"
     ]
    },
    {
     "name": "stdout",
     "output_type": "stream",
     "text": [
      "[Trial 1] No significant gain (Δ ≤ 0.001). Counter: 1/3\n"
     ]
    },
    {
     "name": "stderr",
     "output_type": "stream",
     "text": [
      "[I 2025-06-13 19:50:46,079] Trial 3 finished with value: 0.01801742909126106 and parameters: {'n_estimators': 219, 'learning_rate': 0.010076800197928582, 'num_leaves': 123, 'max_depth': 13, 'min_child_samples': 13, 'subsample': 0.8140955012595466, 'colsample_bytree': 0.6634438132255276, 'reg_alpha': 3.1296247706494085, 'reg_lambda': 1.0076257928201082, 'min_split_gain': 0.016314308475880362}. Best is trial 0 with value: 0.00740731195870074.\n",
      "[I 2025-06-13 19:50:46,079] A new study created in memory with name: no-name-6cc91c37-884f-4ee3-b99e-6bded3ae18ba\n",
      "[I 2025-06-13 19:50:46,244] Trial 0 finished with value: 0.033395609809571784 and parameters: {'n_estimators': 74, 'learning_rate': 0.08686613667257584, 'num_leaves': 43, 'max_depth': 9, 'min_child_samples': 5, 'subsample': 0.6405987839166336, 'colsample_bytree': 0.6167926491201273, 'reg_alpha': 5.35304816054831, 'reg_lambda': 8.931730021627413, 'min_split_gain': 0.00597308199182724}. Best is trial 0 with value: 0.033395609809571784.\n"
     ]
    },
    {
     "name": "stdout",
     "output_type": "stream",
     "text": [
      "[Trial 3] No significant gain (Δ ≤ 0.001). Counter: 3/3\n",
      "\n",
      "⏹️  Early stop: no gain > 0.001 in last 3 trials.\n",
      "[Trial 0] No significant gain (Δ ≤ 0.001). Counter: 4/3\n",
      "\n",
      "⏹️  Early stop: no gain > 0.001 in last 3 trials.\n"
     ]
    },
    {
     "name": "stderr",
     "output_type": "stream",
     "text": [
      "[I 2025-06-13 19:50:46,753] Trial 4 finished with value: 0.007878229236269399 and parameters: {'n_estimators': 184, 'learning_rate': 0.1853970747903065, 'num_leaves': 52, 'max_depth': 9, 'min_child_samples': 29, 'subsample': 0.9368928304740045, 'colsample_bytree': 0.8029100338422167, 'reg_alpha': 4.737734150885763, 'reg_lambda': 8.564325276952978, 'min_split_gain': 0.009398806423578931}. Best is trial 1 with value: 0.00710781206659819.\n",
      "[I 2025-06-13 19:50:46,755] A new study created in memory with name: no-name-311812cc-c792-463d-967e-e5d5481acbe1\n",
      "[I 2025-06-13 19:50:46,910] Trial 0 finished with value: 0.011924936004436849 and parameters: {'n_estimators': 169, 'learning_rate': 0.26018099914553094, 'num_leaves': 164, 'max_depth': 11, 'min_child_samples': 27, 'subsample': 0.5422564788922024, 'colsample_bytree': 0.5752014476928898, 'reg_alpha': 8.47858181632904, 'reg_lambda': 4.971793074137086, 'min_split_gain': 0.04891961338428136}. Best is trial 0 with value: 0.011924936004436849.\n"
     ]
    },
    {
     "name": "stdout",
     "output_type": "stream",
     "text": [
      "[Trial 4] No significant gain (Δ ≤ 0.001). Counter: 3/3\n",
      "\n",
      "⏹️  Early stop: no gain > 0.001 in last 3 trials.\n",
      "[Trial 0] No significant gain (Δ ≤ 0.001). Counter: 4/3\n",
      "\n",
      "⏹️  Early stop: no gain > 0.001 in last 3 trials.\n"
     ]
    },
    {
     "name": "stderr",
     "output_type": "stream",
     "text": [
      "[I 2025-06-13 19:50:47,452] Trial 3 finished with value: 0.00425398146188121 and parameters: {'n_estimators': 189, 'learning_rate': 0.024987045633399166, 'num_leaves': 49, 'max_depth': 7, 'min_child_samples': 24, 'subsample': 0.6058359303885867, 'colsample_bytree': 0.6510298616248953, 'reg_alpha': 9.042802330100892, 'reg_lambda': 8.210848005063935, 'min_split_gain': 0.008607617191314665}. Best is trial 2 with value: 0.0027513126719159713.\n"
     ]
    },
    {
     "name": "stdout",
     "output_type": "stream",
     "text": [
      "[Trial 3] No significant gain (Δ ≤ 0.001). Counter: 1/3\n"
     ]
    },
    {
     "name": "stderr",
     "output_type": "stream",
     "text": [
      "[I 2025-06-13 19:50:47,836] Trial 3 finished with value: 0.015183283913007823 and parameters: {'n_estimators': 138, 'learning_rate': 0.028901070568614597, 'num_leaves': 67, 'max_depth': 8, 'min_child_samples': 16, 'subsample': 0.8233729361626418, 'colsample_bytree': 0.9634437535041496, 'reg_alpha': 6.885939078108729, 'reg_lambda': 7.672863717067724, 'min_split_gain': 0.03576121802898065}. Best is trial 1 with value: 0.010247835378681814.\n"
     ]
    },
    {
     "name": "stdout",
     "output_type": "stream",
     "text": [
      "[Trial 3] No significant gain (Δ ≤ 0.001). Counter: 2/3\n"
     ]
    },
    {
     "name": "stderr",
     "output_type": "stream",
     "text": [
      "[I 2025-06-13 19:50:48,151] A new study created in memory with name: no-name-30cd2377-0c87-4270-8734-9f1e3c349886\n"
     ]
    },
    {
     "name": "stdout",
     "output_type": "stream",
     "text": [
      "long model ************************\n",
      "             feature  importance\n",
      "0        Price_lag_1         792\n",
      "1        Price_lag_2         530\n",
      "3      Load_DA_lag_0         427\n",
      "5    WindOn_DA_lag_0         274\n",
      "2        Price_lag_7         261\n",
      "11        NGas_lag_2         250\n",
      "10        Coal_lag_2         133\n",
      "13         EUA_lag_2         108\n",
      "12         Oil_lag_2          94\n",
      "9               WD_7           9\n",
      "7               WD_1           6\n",
      "8               WD_6           3\n",
      "4     Solar_DA_lag_0           0\n",
      "6   WindOff_DA_lag_0           0\n",
      "short model ************************\n",
      "             feature  importance\n",
      "0        Price_lag_1         120\n",
      "3      Load_DA_lag_0          25\n",
      "1        Price_lag_2           7\n",
      "2        Price_lag_7           6\n",
      "5    WindOn_DA_lag_0           6\n",
      "10        Coal_lag_2           4\n",
      "12         Oil_lag_2           2\n",
      "13         EUA_lag_2           2\n",
      "4     Solar_DA_lag_0           0\n",
      "6   WindOff_DA_lag_0           0\n",
      "7               WD_1           0\n",
      "8               WD_6           0\n",
      "9               WD_7           0\n",
      "11        NGas_lag_2           0\n",
      "-> finished loop 6\n",
      "Loop   8: train 2019-03-10 00:00:00 -> 2023-01-08 00:00:00, forecast 2023-01-09 00:00:00\n",
      "  dat_slice shape: torch.Size([1402, 24, 10])  → flatten count = 33648\n"
     ]
    },
    {
     "name": "stderr",
     "output_type": "stream",
     "text": [
      "[I 2025-06-13 19:50:48,727] Trial 1 finished with value: 0.00628798638611837 and parameters: {'n_estimators': 179, 'learning_rate': 0.034522224776431444, 'num_leaves': 92, 'max_depth': 7, 'min_child_samples': 16, 'subsample': 0.783067185426578, 'colsample_bytree': 0.6922568442091115, 'reg_alpha': 5.367550578686833, 'reg_lambda': 9.486687097807383, 'min_split_gain': 0.02335092170966099}. Best is trial 1 with value: 0.00628798638611837.\n"
     ]
    },
    {
     "name": "stdout",
     "output_type": "stream",
     "text": [
      "[Trial 1] New best: 0.00629\n"
     ]
    },
    {
     "name": "stderr",
     "output_type": "stream",
     "text": [
      "[I 2025-06-13 19:50:50,488] Trial 2 finished with value: 0.006027971351547166 and parameters: {'n_estimators': 188, 'learning_rate': 0.10674700205808169, 'num_leaves': 142, 'max_depth': 11, 'min_child_samples': 6, 'subsample': 0.7867257118868693, 'colsample_bytree': 0.8126514498490337, 'reg_alpha': 7.735383032287011, 'reg_lambda': 0.5435718478419482, 'min_split_gain': 0.025096699295948124}. Best is trial 2 with value: 0.006027971351547166.\n"
     ]
    },
    {
     "name": "stdout",
     "output_type": "stream",
     "text": [
      "[Trial 2] No significant gain (Δ ≤ 0.001). Counter: 1/3\n"
     ]
    },
    {
     "name": "stderr",
     "output_type": "stream",
     "text": [
      "[I 2025-06-13 19:50:51,410] Trial 0 finished with value: 0.012128341979950287 and parameters: {'n_estimators': 202, 'learning_rate': 0.043486450747283086, 'num_leaves': 181, 'max_depth': 5, 'min_child_samples': 2, 'subsample': 0.7616234946815066, 'colsample_bytree': 0.5820337075352384, 'reg_alpha': 5.03154112904333, 'reg_lambda': 9.35497044151844, 'min_split_gain': 0.01091783151649063}. Best is trial 0 with value: 0.012128341979950287.\n"
     ]
    },
    {
     "name": "stdout",
     "output_type": "stream",
     "text": [
      "[Trial 0] New best: 0.01213\n"
     ]
    },
    {
     "name": "stderr",
     "output_type": "stream",
     "text": [
      "[I 2025-06-13 19:50:51,739] Trial 4 finished with value: 0.012582254112987136 and parameters: {'n_estimators': 202, 'learning_rate': 0.019018847853396477, 'num_leaves': 242, 'max_depth': 8, 'min_child_samples': 20, 'subsample': 0.9272331729219287, 'colsample_bytree': 0.9230584760768894, 'reg_alpha': 7.905206485044902, 'reg_lambda': 7.800234544808486, 'min_split_gain': 0.04682767397562779}. Best is trial 1 with value: 0.010247835378681814.\n",
      "[I 2025-06-13 19:50:51,742] A new study created in memory with name: no-name-871fc60d-1d85-4781-80b7-ea2c5f29741d\n",
      "[I 2025-06-13 19:50:51,930] Trial 0 finished with value: 0.008118105051487893 and parameters: {'n_estimators': 104, 'learning_rate': 0.18605283275789725, 'num_leaves': 58, 'max_depth': 14, 'min_child_samples': 29, 'subsample': 0.9867445625453823, 'colsample_bytree': 0.6851918971437594, 'reg_alpha': 4.751509064660572, 'reg_lambda': 1.8803487138455566, 'min_split_gain': 0.00263911000229472}. Best is trial 0 with value: 0.008118105051487893.\n"
     ]
    },
    {
     "name": "stdout",
     "output_type": "stream",
     "text": [
      "[Trial 4] No significant gain (Δ ≤ 0.001). Counter: 3/3\n",
      "\n",
      "⏹️  Early stop: no gain > 0.001 in last 3 trials.\n",
      "[Trial 0] New best: 0.00812\n"
     ]
    },
    {
     "name": "stderr",
     "output_type": "stream",
     "text": [
      "[I 2025-06-13 19:50:52,325] Trial 4 finished with value: 0.007423674088871332 and parameters: {'n_estimators': 195, 'learning_rate': 0.012850853957209998, 'num_leaves': 133, 'max_depth': 6, 'min_child_samples': 14, 'subsample': 0.7421199292607867, 'colsample_bytree': 0.7561969084153501, 'reg_alpha': 2.3899205880634, 'reg_lambda': 4.428568038324444, 'min_split_gain': 0.013357748316893332}. Best is trial 2 with value: 0.0027513126719159713.\n",
      "[I 2025-06-13 19:50:52,408] Trial 1 finished with value: 0.004990391125238538 and parameters: {'n_estimators': 72, 'learning_rate': 0.05137510893573581, 'num_leaves': 217, 'max_depth': 9, 'min_child_samples': 7, 'subsample': 0.6824796970448359, 'colsample_bytree': 0.9421691722119301, 'reg_alpha': 0.5672690623709375, 'reg_lambda': 8.216415368564148, 'min_split_gain': 0.03417473690808443}. Best is trial 1 with value: 0.004990391125238538.\n"
     ]
    },
    {
     "name": "stdout",
     "output_type": "stream",
     "text": [
      "[Trial 4] No significant gain (Δ ≤ 0.001). Counter: 2/3\n",
      "[Trial 1] New best: 0.00499\n"
     ]
    },
    {
     "name": "stderr",
     "output_type": "stream",
     "text": [
      "[I 2025-06-13 19:50:53,012] Trial 2 finished with value: 0.00868671166840362 and parameters: {'n_estimators': 213, 'learning_rate': 0.04839374118371268, 'num_leaves': 169, 'max_depth': 9, 'min_child_samples': 1, 'subsample': 0.8319469690570772, 'colsample_bytree': 0.9125429490360861, 'reg_alpha': 4.945933846113252, 'reg_lambda': 5.7715974598074125, 'min_split_gain': 0.012864765497625226}. Best is trial 1 with value: 0.004990391125238538.\n"
     ]
    },
    {
     "name": "stdout",
     "output_type": "stream",
     "text": [
      "[Trial 2] No significant gain (Δ ≤ 0.001). Counter: 1/3\n",
      "long model ************************\n",
      "             feature  importance\n",
      "0        Price_lag_1        2513\n",
      "1        Price_lag_2        2044\n",
      "3      Load_DA_lag_0        1063\n",
      "2        Price_lag_7         804\n",
      "11        NGas_lag_2         680\n",
      "10        Coal_lag_2         480\n",
      "12         Oil_lag_2         389\n",
      "5    WindOn_DA_lag_0         377\n",
      "13         EUA_lag_2         318\n",
      "9               WD_7          41\n",
      "7               WD_1           9\n",
      "4     Solar_DA_lag_0           0\n",
      "6   WindOff_DA_lag_0           0\n",
      "8               WD_6           0\n",
      "short model ************************\n",
      "             feature  importance\n",
      "0        Price_lag_1          26\n",
      "3      Load_DA_lag_0           4\n",
      "1        Price_lag_2           2\n",
      "13         EUA_lag_2           2\n",
      "2        Price_lag_7           1\n",
      "5    WindOn_DA_lag_0           1\n",
      "4     Solar_DA_lag_0           0\n",
      "6   WindOff_DA_lag_0           0\n",
      "7               WD_1           0\n",
      "8               WD_6           0\n",
      "9               WD_7           0\n",
      "10        Coal_lag_2           0\n",
      "11        NGas_lag_2           0\n",
      "12         Oil_lag_2           0\n",
      "-> finished loop 4\n",
      "Loop   9: train 2019-03-11 00:00:00 -> 2023-01-09 00:00:00, forecast 2023-01-10 00:00:00\n",
      "  dat_slice shape: torch.Size([1402, 24, 10])  → flatten count = 33648\n"
     ]
    },
    {
     "name": "stderr",
     "output_type": "stream",
     "text": [
      "[I 2025-06-13 19:50:53,224] A new study created in memory with name: no-name-a182cdfb-ddfd-4de9-91f9-a96898381b7e\n",
      "[I 2025-06-13 19:50:53,373] Trial 3 finished with value: 0.00835017863644294 and parameters: {'n_estimators': 280, 'learning_rate': 0.1783221226971697, 'num_leaves': 144, 'max_depth': 8, 'min_child_samples': 25, 'subsample': 0.8806472942902122, 'colsample_bytree': 0.8210726913998605, 'reg_alpha': 6.308292521524663, 'reg_lambda': 6.39753891368955, 'min_split_gain': 0.030588043456637883}. Best is trial 1 with value: 0.004990391125238538.\n"
     ]
    },
    {
     "name": "stdout",
     "output_type": "stream",
     "text": [
      "[Trial 3] No significant gain (Δ ≤ 0.001). Counter: 2/3\n"
     ]
    },
    {
     "name": "stderr",
     "output_type": "stream",
     "text": [
      "[I 2025-06-13 19:50:53,688] Trial 4 finished with value: 0.008408709272888908 and parameters: {'n_estimators': 206, 'learning_rate': 0.20560501919937255, 'num_leaves': 251, 'max_depth': 4, 'min_child_samples': 3, 'subsample': 0.7602559562977983, 'colsample_bytree': 0.8495380285109408, 'reg_alpha': 3.853591617602156, 'reg_lambda': 2.0421267272187893, 'min_split_gain': 0.012259875472068166}. Best is trial 1 with value: 0.004990391125238538.\n"
     ]
    },
    {
     "name": "stdout",
     "output_type": "stream",
     "text": [
      "[Trial 4] No significant gain (Δ ≤ 0.001). Counter: 3/3\n",
      "\n",
      "⏹️  Early stop: no gain > 0.001 in last 3 trials.\n"
     ]
    },
    {
     "name": "stderr",
     "output_type": "stream",
     "text": [
      "[I 2025-06-13 19:50:54,641] Trial 3 finished with value: 0.00532911877099223 and parameters: {'n_estimators': 134, 'learning_rate': 0.029780539458465486, 'num_leaves': 227, 'max_depth': 6, 'min_child_samples': 3, 'subsample': 0.9789312462526389, 'colsample_bytree': 0.9893706609526749, 'reg_alpha': 1.6925332438957497, 'reg_lambda': 1.0907145121055062, 'min_split_gain': 0.022603127020082527}. Best is trial 3 with value: 0.00532911877099223.\n"
     ]
    },
    {
     "name": "stdout",
     "output_type": "stream",
     "text": [
      "[Trial 3] No significant gain (Δ ≤ 0.001). Counter: 2/3\n"
     ]
    },
    {
     "name": "stderr",
     "output_type": "stream",
     "text": [
      "[I 2025-06-13 19:50:55,584] Trial 1 finished with value: 0.008313478274786448 and parameters: {'n_estimators': 127, 'learning_rate': 0.08862096654078393, 'num_leaves': 176, 'max_depth': 11, 'min_child_samples': 21, 'subsample': 0.7558468485296987, 'colsample_bytree': 0.8724053884856822, 'reg_alpha': 0.5181826037933446, 'reg_lambda': 0.25468511472863775, 'min_split_gain': 0.03649087726405164}. Best is trial 1 with value: 0.008313478274786448.\n"
     ]
    },
    {
     "name": "stdout",
     "output_type": "stream",
     "text": [
      "[Trial 1] New best: 0.00831\n"
     ]
    },
    {
     "name": "stderr",
     "output_type": "stream",
     "text": [
      "[I 2025-06-13 19:50:56,324] Trial 0 finished with value: 0.016150394821006886 and parameters: {'n_estimators': 186, 'learning_rate': 0.08713840942164691, 'num_leaves': 106, 'max_depth': 9, 'min_child_samples': 21, 'subsample': 0.781719490245637, 'colsample_bytree': 0.8160055492200687, 'reg_alpha': 2.8591409470474405, 'reg_lambda': 7.310514518646281, 'min_split_gain': 0.024332787851996537}. Best is trial 0 with value: 0.016150394821006886.\n",
      "[I 2025-06-13 19:50:56,518] Trial 4 finished with value: 0.005384845195730052 and parameters: {'n_estimators': 146, 'learning_rate': 0.09766043022979473, 'num_leaves': 143, 'max_depth': 10, 'min_child_samples': 25, 'subsample': 0.9847096666830052, 'colsample_bytree': 0.745378628342059, 'reg_alpha': 6.008002399761998, 'reg_lambda': 1.7368906103063342, 'min_split_gain': 0.0341419629346116}. Best is trial 3 with value: 0.00532911877099223.\n",
      "[I 2025-06-13 19:50:56,519] A new study created in memory with name: no-name-f3cc9cfb-7d06-4af7-be6f-3273e5aa1848\n"
     ]
    },
    {
     "name": "stdout",
     "output_type": "stream",
     "text": [
      "[Trial 0] New best: 0.01615\n",
      "[Trial 4] No significant gain (Δ ≤ 0.001). Counter: 3/3\n",
      "\n",
      "⏹️  Early stop: no gain > 0.001 in last 3 trials.\n"
     ]
    },
    {
     "name": "stderr",
     "output_type": "stream",
     "text": [
      "[I 2025-06-13 19:50:56,670] Trial 2 finished with value: 0.01247146916165063 and parameters: {'n_estimators': 102, 'learning_rate': 0.17938053448753483, 'num_leaves': 185, 'max_depth': 7, 'min_child_samples': 21, 'subsample': 0.8386751024419137, 'colsample_bytree': 0.5394604359174058, 'reg_alpha': 8.07455315988095, 'reg_lambda': 9.766588554992898, 'min_split_gain': 0.04343335407242943}. Best is trial 1 with value: 0.008313478274786448.\n"
     ]
    },
    {
     "name": "stdout",
     "output_type": "stream",
     "text": [
      "[Trial 2] No significant gain (Δ ≤ 0.001). Counter: 1/3\n"
     ]
    },
    {
     "name": "stderr",
     "output_type": "stream",
     "text": [
      "[I 2025-06-13 19:50:56,867] Trial 2 finished with value: 0.05014126641458431 and parameters: {'n_estimators': 229, 'learning_rate': 0.017746168653794425, 'num_leaves': 81, 'max_depth': 13, 'min_child_samples': 8, 'subsample': 0.924862873544962, 'colsample_bytree': 0.5978088039535236, 'reg_alpha': 2.800029179614505, 'reg_lambda': 6.993475936306204, 'min_split_gain': 0.007980800787555599}. Best is trial 0 with value: 0.041152355328907146.\n",
      "[I 2025-06-13 19:50:56,907] Trial 0 finished with value: 0.012515340874327 and parameters: {'n_estimators': 86, 'learning_rate': 0.013564530911620075, 'num_leaves': 44, 'max_depth': 7, 'min_child_samples': 24, 'subsample': 0.7561463607972803, 'colsample_bytree': 0.6708777599423985, 'reg_alpha': 8.910294888716718, 'reg_lambda': 6.1598758392958155, 'min_split_gain': 0.01925404090127299}. Best is trial 0 with value: 0.012515340874327.\n"
     ]
    },
    {
     "name": "stdout",
     "output_type": "stream",
     "text": [
      "[Trial 2] No significant gain (Δ ≤ 0.001). Counter: 2/3\n",
      "[Trial 0] No significant gain (Δ ≤ 0.001). Counter: 4/3\n",
      "\n",
      "⏹️  Early stop: no gain > 0.001 in last 3 trials.\n"
     ]
    },
    {
     "name": "stderr",
     "output_type": "stream",
     "text": [
      "[I 2025-06-13 19:50:57,225] Trial 1 finished with value: 0.025568491753570205 and parameters: {'n_estimators': 86, 'learning_rate': 0.24563110082673706, 'num_leaves': 54, 'max_depth': 9, 'min_child_samples': 19, 'subsample': 0.7970574092529921, 'colsample_bytree': 0.5075859065353581, 'reg_alpha': 8.294959128126337, 'reg_lambda': 6.988414555706903, 'min_split_gain': 0.04258624854909558}. Best is trial 0 with value: 0.016150394821006886.\n"
     ]
    },
    {
     "name": "stdout",
     "output_type": "stream",
     "text": [
      "[Trial 1] No significant gain (Δ ≤ 0.001). Counter: 1/3\n"
     ]
    },
    {
     "name": "stderr",
     "output_type": "stream",
     "text": [
      "[I 2025-06-13 19:50:57,522] Trial 3 finished with value: 0.0138488985038753 and parameters: {'n_estimators': 181, 'learning_rate': 0.28516988266280696, 'num_leaves': 166, 'max_depth': 4, 'min_child_samples': 18, 'subsample': 0.5473675498032347, 'colsample_bytree': 0.6303922805009032, 'reg_alpha': 3.1548035743825564, 'reg_lambda': 6.685312687824215, 'min_split_gain': 0.03314440933505672}. Best is trial 1 with value: 0.008313478274786448.\n"
     ]
    },
    {
     "name": "stdout",
     "output_type": "stream",
     "text": [
      "[Trial 3] No significant gain (Δ ≤ 0.001). Counter: 2/3\n"
     ]
    },
    {
     "name": "stderr",
     "output_type": "stream",
     "text": [
      "[I 2025-06-13 19:50:59,189] A new study created in memory with name: no-name-694f3694-ec99-48e2-9ad8-7ef69aea7f44\n"
     ]
    },
    {
     "name": "stdout",
     "output_type": "stream",
     "text": [
      "long model ************************\n",
      "             feature  importance\n",
      "0        Price_lag_1        1368\n",
      "1        Price_lag_2         943\n",
      "3      Load_DA_lag_0         468\n",
      "2        Price_lag_7         353\n",
      "11        NGas_lag_2         308\n",
      "10        Coal_lag_2         227\n",
      "5    WindOn_DA_lag_0         180\n",
      "12         Oil_lag_2         168\n",
      "13         EUA_lag_2         167\n",
      "9               WD_7          17\n",
      "4     Solar_DA_lag_0           0\n",
      "6   WindOff_DA_lag_0           0\n",
      "7               WD_1           0\n",
      "8               WD_6           0\n",
      "short model ************************\n",
      "             feature  importance\n",
      "0        Price_lag_1         212\n",
      "3      Load_DA_lag_0          50\n",
      "5    WindOn_DA_lag_0          44\n",
      "2        Price_lag_7          42\n",
      "1        Price_lag_2          36\n",
      "11        NGas_lag_2          15\n",
      "8               WD_6           1\n",
      "12         Oil_lag_2           1\n",
      "4     Solar_DA_lag_0           0\n",
      "6   WindOff_DA_lag_0           0\n",
      "7               WD_1           0\n",
      "9               WD_7           0\n",
      "10        Coal_lag_2           0\n",
      "13         EUA_lag_2           0\n",
      "-> finished loop 1\n",
      "Loop  10: train 2019-03-12 00:00:00 -> 2023-01-10 00:00:00, forecast 2023-01-11 00:00:00\n",
      "  dat_slice shape: torch.Size([1402, 24, 10])  → flatten count = 33648\n"
     ]
    },
    {
     "name": "stderr",
     "output_type": "stream",
     "text": [
      "[I 2025-06-13 19:51:00,169] Trial 3 finished with value: 0.045849491628612404 and parameters: {'n_estimators': 151, 'learning_rate': 0.06678130432645726, 'num_leaves': 215, 'max_depth': 6, 'min_child_samples': 5, 'subsample': 0.7537389853357537, 'colsample_bytree': 0.913083637903811, 'reg_alpha': 7.763364519588041, 'reg_lambda': 6.187968835810849, 'min_split_gain': 0.0370648032400492}. Best is trial 0 with value: 0.041152355328907146.\n",
      "[I 2025-06-13 19:51:00,174] A new study created in memory with name: no-name-3e562a9f-c1e3-46c9-8c36-88534d631e47\n"
     ]
    },
    {
     "name": "stdout",
     "output_type": "stream",
     "text": [
      "[Trial 3] No significant gain (Δ ≤ 0.001). Counter: 3/3\n",
      "\n",
      "⏹️  Early stop: no gain > 0.001 in last 3 trials.\n"
     ]
    },
    {
     "name": "stderr",
     "output_type": "stream",
     "text": [
      "[I 2025-06-13 19:51:00,629] Trial 0 finished with value: 0.13376726595465918 and parameters: {'n_estimators': 74, 'learning_rate': 0.03137233038254051, 'num_leaves': 65, 'max_depth': 12, 'min_child_samples': 10, 'subsample': 0.8498539757975999, 'colsample_bytree': 0.661646270405454, 'reg_alpha': 7.2052788900389455, 'reg_lambda': 3.95358007532991, 'min_split_gain': 0.04861657022683032}. Best is trial 0 with value: 0.13376726595465918.\n"
     ]
    },
    {
     "name": "stdout",
     "output_type": "stream",
     "text": [
      "[Trial 0] No significant gain (Δ ≤ 0.001). Counter: 4/3\n",
      "\n",
      "⏹️  Early stop: no gain > 0.001 in last 3 trials.\n"
     ]
    },
    {
     "name": "stderr",
     "output_type": "stream",
     "text": [
      "[I 2025-06-13 19:51:01,106] Trial 0 finished with value: 0.020239792614894694 and parameters: {'n_estimators': 90, 'learning_rate': 0.029198370767196363, 'num_leaves': 108, 'max_depth': 5, 'min_child_samples': 9, 'subsample': 0.6416325112833279, 'colsample_bytree': 0.8582215449534103, 'reg_alpha': 3.1744355910151913, 'reg_lambda': 4.488807521358547, 'min_split_gain': 0.022821851219160506}. Best is trial 0 with value: 0.020239792614894694.\n"
     ]
    },
    {
     "name": "stdout",
     "output_type": "stream",
     "text": [
      "[Trial 0] New best: 0.02024\n"
     ]
    },
    {
     "name": "stderr",
     "output_type": "stream",
     "text": [
      "[I 2025-06-13 19:51:02,214] Trial 3 finished with value: 0.004599346650050118 and parameters: {'n_estimators': 240, 'learning_rate': 0.017299748078931587, 'num_leaves': 161, 'max_depth': 10, 'min_child_samples': 16, 'subsample': 0.8505746218404997, 'colsample_bytree': 0.7248454006437803, 'reg_alpha': 0.7563423602580766, 'reg_lambda': 2.6492610773625778, 'min_split_gain': 0.0028650206338508956}. Best is trial 3 with value: 0.004599346650050118.\n",
      "[I 2025-06-13 19:51:02,218] A new study created in memory with name: no-name-6a67753d-56dc-4aae-8238-ddd648329c9d\n",
      "[I 2025-06-13 19:51:02,378] Trial 0 finished with value: 0.00528093180230586 and parameters: {'n_estimators': 55, 'learning_rate': 0.1911275801646928, 'num_leaves': 107, 'max_depth': 7, 'min_child_samples': 19, 'subsample': 0.7211268767471066, 'colsample_bytree': 0.5896502612921353, 'reg_alpha': 1.2478681411328196, 'reg_lambda': 4.567959714949785, 'min_split_gain': 0.03679343074442828}. Best is trial 0 with value: 0.00528093180230586.\n"
     ]
    },
    {
     "name": "stdout",
     "output_type": "stream",
     "text": [
      "[Trial 3] No significant gain (Δ ≤ 0.001). Counter: 3/3\n",
      "\n",
      "⏹️  Early stop: no gain > 0.001 in last 3 trials.\n",
      "[Trial 0] No significant gain (Δ ≤ 0.001). Counter: 4/3\n",
      "\n",
      "⏹️  Early stop: no gain > 0.001 in last 3 trials.\n"
     ]
    },
    {
     "name": "stderr",
     "output_type": "stream",
     "text": [
      "[I 2025-06-13 19:51:02,555] Trial 1 finished with value: 0.019775701127769902 and parameters: {'n_estimators': 194, 'learning_rate': 0.1707454509280149, 'num_leaves': 222, 'max_depth': 8, 'min_child_samples': 4, 'subsample': 0.8990563245954937, 'colsample_bytree': 0.5665290661850497, 'reg_alpha': 7.915371499702259, 'reg_lambda': 0.6664974148105063, 'min_split_gain': 0.0469166572812977}. Best is trial 1 with value: 0.019775701127769902.\n",
      "[I 2025-06-13 19:51:02,632] A new study created in memory with name: no-name-818e33a1-9095-4747-be15-0f05abb9c068\n"
     ]
    },
    {
     "name": "stdout",
     "output_type": "stream",
     "text": [
      "[Trial 1] No significant gain (Δ ≤ 0.001). Counter: 1/3\n",
      "long model ************************\n",
      "             feature  importance\n",
      "0        Price_lag_1        2057\n",
      "1        Price_lag_2        1291\n",
      "2        Price_lag_7         605\n",
      "11        NGas_lag_2         570\n",
      "3      Load_DA_lag_0         445\n",
      "10        Coal_lag_2         435\n",
      "5    WindOn_DA_lag_0         218\n",
      "13         EUA_lag_2         209\n",
      "12         Oil_lag_2         206\n",
      "9               WD_7          15\n",
      "4     Solar_DA_lag_0           0\n",
      "6   WindOff_DA_lag_0           0\n",
      "7               WD_1           0\n",
      "8               WD_6           0\n",
      "short model ************************\n",
      "             feature  importance\n",
      "0        Price_lag_1         177\n",
      "3      Load_DA_lag_0          43\n",
      "1        Price_lag_2          36\n",
      "5    WindOn_DA_lag_0           6\n",
      "2        Price_lag_7           0\n",
      "4     Solar_DA_lag_0           0\n",
      "6   WindOff_DA_lag_0           0\n",
      "7               WD_1           0\n",
      "8               WD_6           0\n",
      "9               WD_7           0\n",
      "10        Coal_lag_2           0\n",
      "11        NGas_lag_2           0\n",
      "12         Oil_lag_2           0\n",
      "13         EUA_lag_2           0\n",
      "-> finished loop 7\n",
      "Loop  11: train 2019-03-13 00:00:00 -> 2023-01-11 00:00:00, forecast 2023-01-12 00:00:00\n",
      "  dat_slice shape: torch.Size([1402, 24, 10])  → flatten count = 33648\n"
     ]
    },
    {
     "name": "stderr",
     "output_type": "stream",
     "text": [
      "[I 2025-06-13 19:51:03,850] Trial 0 finished with value: 0.009340172696457823 and parameters: {'n_estimators': 132, 'learning_rate': 0.28433785828542635, 'num_leaves': 87, 'max_depth': 9, 'min_child_samples': 9, 'subsample': 0.9063489566336898, 'colsample_bytree': 0.8081534659564859, 'reg_alpha': 3.125816171211021, 'reg_lambda': 3.5757513220211177, 'min_split_gain': 0.019967586582743044}. Best is trial 0 with value: 0.009340172696457823.\n"
     ]
    },
    {
     "name": "stdout",
     "output_type": "stream",
     "text": [
      "[Trial 0] New best: 0.00934\n"
     ]
    },
    {
     "name": "stderr",
     "output_type": "stream",
     "text": [
      "[I 2025-06-13 19:51:04,098] Trial 2 finished with value: 0.016556580362469007 and parameters: {'n_estimators': 163, 'learning_rate': 0.1394332003287481, 'num_leaves': 112, 'max_depth': 14, 'min_child_samples': 23, 'subsample': 0.8311014307457897, 'colsample_bytree': 0.8313915958637699, 'reg_alpha': 5.953988831161196, 'reg_lambda': 9.56620675939826, 'min_split_gain': 0.047165185152416446}. Best is trial 2 with value: 0.016556580362469007.\n",
      "[I 2025-06-13 19:51:04,199] Trial 4 finished with value: 0.008193234417085114 and parameters: {'n_estimators': 251, 'learning_rate': 0.034923752575650654, 'num_leaves': 40, 'max_depth': 16, 'min_child_samples': 21, 'subsample': 0.5186914136003344, 'colsample_bytree': 0.9109682924891502, 'reg_alpha': 6.059923898092217, 'reg_lambda': 2.0053306206660295, 'min_split_gain': 0.026432531146784694}. Best is trial 4 with value: 0.008193234417085114.\n",
      "[I 2025-06-13 19:51:04,201] A new study created in memory with name: no-name-2278b597-d55c-429b-90a1-3bd08b50ca16\n"
     ]
    },
    {
     "name": "stdout",
     "output_type": "stream",
     "text": [
      "[Trial 2] New best: 0.01656\n",
      "[Trial 4] No significant gain (Δ ≤ 0.001). Counter: 3/3\n",
      "\n",
      "⏹️  Early stop: no gain > 0.001 in last 3 trials.\n"
     ]
    },
    {
     "name": "stderr",
     "output_type": "stream",
     "text": [
      "[I 2025-06-13 19:51:04,970] Trial 0 finished with value: 0.01851029111743045 and parameters: {'n_estimators': 298, 'learning_rate': 0.045316626525361454, 'num_leaves': 144, 'max_depth': 13, 'min_child_samples': 26, 'subsample': 0.6755841710797276, 'colsample_bytree': 0.507694035656985, 'reg_alpha': 6.953804353418268, 'reg_lambda': 5.344747095721627, 'min_split_gain': 0.03879840339365524}. Best is trial 0 with value: 0.01851029111743045.\n"
     ]
    },
    {
     "name": "stdout",
     "output_type": "stream",
     "text": [
      "[Trial 0] No significant gain (Δ ≤ 0.001). Counter: 4/3\n",
      "\n",
      "⏹️  Early stop: no gain > 0.001 in last 3 trials.\n"
     ]
    },
    {
     "name": "stderr",
     "output_type": "stream",
     "text": [
      "[I 2025-06-13 19:51:06,036] Trial 1 finished with value: 0.012783225380022648 and parameters: {'n_estimators': 254, 'learning_rate': 0.1891070454717751, 'num_leaves': 84, 'max_depth': 16, 'min_child_samples': 4, 'subsample': 0.7368592002553431, 'colsample_bytree': 0.8382965365614379, 'reg_alpha': 6.1805180253499925, 'reg_lambda': 4.621745275918014, 'min_split_gain': 0.02637145172202225}. Best is trial 0 with value: 0.009340172696457823.\n"
     ]
    },
    {
     "name": "stdout",
     "output_type": "stream",
     "text": [
      "[Trial 1] No significant gain (Δ ≤ 0.001). Counter: 1/3\n"
     ]
    },
    {
     "name": "stderr",
     "output_type": "stream",
     "text": [
      "[I 2025-06-13 19:51:06,539] Trial 3 finished with value: 0.016280076125874166 and parameters: {'n_estimators': 229, 'learning_rate': 0.13320651643543227, 'num_leaves': 104, 'max_depth': 6, 'min_child_samples': 7, 'subsample': 0.5657229204860281, 'colsample_bytree': 0.6848905694331275, 'reg_alpha': 2.890056503859635, 'reg_lambda': 2.327259659832329, 'min_split_gain': 0.04697670535639789}. Best is trial 3 with value: 0.016280076125874166.\n"
     ]
    },
    {
     "name": "stdout",
     "output_type": "stream",
     "text": [
      "[Trial 3] No significant gain (Δ ≤ 0.001). Counter: 1/3\n"
     ]
    },
    {
     "name": "stderr",
     "output_type": "stream",
     "text": [
      "[I 2025-06-13 19:51:08,047] Trial 2 finished with value: 0.014824513663151283 and parameters: {'n_estimators': 175, 'learning_rate': 0.19899883279489383, 'num_leaves': 231, 'max_depth': 16, 'min_child_samples': 11, 'subsample': 0.706931819300697, 'colsample_bytree': 0.6813058992063451, 'reg_alpha': 6.138455986117346, 'reg_lambda': 3.3830288476375237, 'min_split_gain': 0.018411005218358735}. Best is trial 0 with value: 0.009340172696457823.\n",
      "[I 2025-06-13 19:51:08,197] Trial 5 finished with value: 0.004198973361251142 and parameters: {'n_estimators': 209, 'learning_rate': 0.03575086653487615, 'num_leaves': 82, 'max_depth': 12, 'min_child_samples': 10, 'subsample': 0.8075950217565978, 'colsample_bytree': 0.9065974666888332, 'reg_alpha': 2.0223042599339216, 'reg_lambda': 6.548524193662848, 'min_split_gain': 0.000608609405374011}. Best is trial 2 with value: 0.0027513126719159713.\n",
      "[I 2025-06-13 19:51:08,199] A new study created in memory with name: no-name-1eee77d3-9012-4b00-810b-c4e8da7a5e17\n"
     ]
    },
    {
     "name": "stdout",
     "output_type": "stream",
     "text": [
      "[Trial 2] No significant gain (Δ ≤ 0.001). Counter: 2/3\n",
      "[Trial 5] No significant gain (Δ ≤ 0.001). Counter: 3/3\n",
      "\n",
      "⏹️  Early stop: no gain > 0.001 in last 3 trials.\n"
     ]
    },
    {
     "name": "stderr",
     "output_type": "stream",
     "text": [
      "[I 2025-06-13 19:51:08,687] Trial 0 finished with value: 0.004520131968286681 and parameters: {'n_estimators': 141, 'learning_rate': 0.11065510304994228, 'num_leaves': 117, 'max_depth': 4, 'min_child_samples': 5, 'subsample': 0.7686753238713575, 'colsample_bytree': 0.664610927240251, 'reg_alpha': 5.3546754577970574, 'reg_lambda': 4.352478796415058, 'min_split_gain': 0.02509712747589365}. Best is trial 0 with value: 0.004520131968286681.\n"
     ]
    },
    {
     "name": "stdout",
     "output_type": "stream",
     "text": [
      "[Trial 0] No significant gain (Δ ≤ 0.001). Counter: 4/3\n",
      "\n",
      "⏹️  Early stop: no gain > 0.001 in last 3 trials.\n"
     ]
    },
    {
     "name": "stderr",
     "output_type": "stream",
     "text": [
      "[I 2025-06-13 19:51:09,504] Trial 3 finished with value: 0.013049200419735734 and parameters: {'n_estimators': 231, 'learning_rate': 0.2725392337627876, 'num_leaves': 128, 'max_depth': 7, 'min_child_samples': 28, 'subsample': 0.632149491273793, 'colsample_bytree': 0.82622807439819, 'reg_alpha': 7.817471344332755, 'reg_lambda': 3.150354392748853, 'min_split_gain': 0.013252908089954092}. Best is trial 0 with value: 0.009340172696457823.\n",
      "[I 2025-06-13 19:51:09,510] A new study created in memory with name: no-name-538e3344-b28a-4b8a-90aa-b047b37127b8\n"
     ]
    },
    {
     "name": "stdout",
     "output_type": "stream",
     "text": [
      "[Trial 3] No significant gain (Δ ≤ 0.001). Counter: 3/3\n",
      "\n",
      "⏹️  Early stop: no gain > 0.001 in last 3 trials.\n"
     ]
    },
    {
     "name": "stderr",
     "output_type": "stream",
     "text": [
      "[I 2025-06-13 19:51:09,918] Trial 0 finished with value: 0.037969322876586845 and parameters: {'n_estimators': 79, 'learning_rate': 0.012808771852896956, 'num_leaves': 173, 'max_depth': 7, 'min_child_samples': 8, 'subsample': 0.9510512163738204, 'colsample_bytree': 0.5315197505308841, 'reg_alpha': 7.45250236113836, 'reg_lambda': 4.504236450851186, 'min_split_gain': 0.04360816193531836}. Best is trial 0 with value: 0.037969322876586845.\n"
     ]
    },
    {
     "name": "stdout",
     "output_type": "stream",
     "text": [
      "[Trial 0] No significant gain (Δ ≤ 0.001). Counter: 4/3\n",
      "\n",
      "⏹️  Early stop: no gain > 0.001 in last 3 trials.\n"
     ]
    },
    {
     "name": "stderr",
     "output_type": "stream",
     "text": [
      "[I 2025-06-13 19:51:11,692] A new study created in memory with name: no-name-18d86298-78c7-42d2-ae07-1e6b80a7b1ed\n"
     ]
    },
    {
     "name": "stdout",
     "output_type": "stream",
     "text": [
      "long model ************************\n",
      "             feature  importance\n",
      "0        Price_lag_1         238\n",
      "1        Price_lag_2         231\n",
      "3      Load_DA_lag_0         182\n",
      "5    WindOn_DA_lag_0         138\n",
      "2        Price_lag_7         112\n",
      "11        NGas_lag_2         102\n",
      "10        Coal_lag_2          97\n",
      "12         Oil_lag_2          58\n",
      "13         EUA_lag_2          58\n",
      "9               WD_7           6\n",
      "7               WD_1           2\n",
      "4     Solar_DA_lag_0           0\n",
      "6   WindOff_DA_lag_0           0\n",
      "8               WD_6           0\n",
      "short model ************************\n",
      "             feature  importance\n",
      "0        Price_lag_1         146\n",
      "5    WindOn_DA_lag_0          33\n",
      "1        Price_lag_2          22\n",
      "3      Load_DA_lag_0          20\n",
      "11        NGas_lag_2          10\n",
      "13         EUA_lag_2           8\n",
      "10        Coal_lag_2           5\n",
      "2        Price_lag_7           3\n",
      "7               WD_1           2\n",
      "12         Oil_lag_2           2\n",
      "9               WD_7           1\n",
      "4     Solar_DA_lag_0           0\n",
      "6   WindOff_DA_lag_0           0\n",
      "8               WD_6           0\n",
      "-> finished loop 11\n",
      "Loop  12: train 2019-03-14 00:00:00 -> 2023-01-12 00:00:00, forecast 2023-01-13 00:00:00\n",
      "  dat_slice shape: torch.Size([1402, 24, 10])  → flatten count = 33648\n"
     ]
    },
    {
     "name": "stderr",
     "output_type": "stream",
     "text": [
      "[I 2025-06-13 19:51:12,400] A new study created in memory with name: no-name-84903086-26cd-478b-bc90-1e8550fed81b\n"
     ]
    },
    {
     "name": "stdout",
     "output_type": "stream",
     "text": [
      "long model ************************\n",
      "             feature  importance\n",
      "0        Price_lag_1        1574\n",
      "1        Price_lag_2        1196\n",
      "3      Load_DA_lag_0         753\n",
      "11        NGas_lag_2         517\n",
      "2        Price_lag_7         509\n",
      "10        Coal_lag_2         411\n",
      "12         Oil_lag_2         390\n",
      "13         EUA_lag_2         332\n",
      "5    WindOn_DA_lag_0         327\n",
      "9               WD_7          14\n",
      "4     Solar_DA_lag_0           0\n",
      "6   WindOff_DA_lag_0           0\n",
      "7               WD_1           0\n",
      "8               WD_6           0\n",
      "short model ************************\n",
      "             feature  importance\n",
      "0        Price_lag_1         118\n",
      "1        Price_lag_2          35\n",
      "3      Load_DA_lag_0          33\n",
      "5    WindOn_DA_lag_0           3\n",
      "10        Coal_lag_2           2\n",
      "2        Price_lag_7           1\n",
      "4     Solar_DA_lag_0           0\n",
      "6   WindOff_DA_lag_0           0\n",
      "7               WD_1           0\n",
      "8               WD_6           0\n",
      "9               WD_7           0\n",
      "11        NGas_lag_2           0\n",
      "12         Oil_lag_2           0\n",
      "13         EUA_lag_2           0\n",
      "-> finished loop 8\n",
      "Loop  13: train 2019-03-15 00:00:00 -> 2023-01-13 00:00:00, forecast 2023-01-14 00:00:00\n",
      "  dat_slice shape: torch.Size([1402, 24, 10])  → flatten count = 33648\n"
     ]
    },
    {
     "name": "stderr",
     "output_type": "stream",
     "text": [
      "[I 2025-06-13 19:51:13,778] Trial 0 finished with value: 0.025181132001702754 and parameters: {'n_estimators': 213, 'learning_rate': 0.04711853929809637, 'num_leaves': 141, 'max_depth': 4, 'min_child_samples': 6, 'subsample': 0.560267591883562, 'colsample_bytree': 0.8073963235515609, 'reg_alpha': 9.955501777343084, 'reg_lambda': 9.385410003598748, 'min_split_gain': 0.019979168448545134}. Best is trial 0 with value: 0.025181132001702754.\n",
      "[I 2025-06-13 19:51:13,982] Trial 0 finished with value: 0.04813681861219874 and parameters: {'n_estimators': 290, 'learning_rate': 0.1395555241204451, 'num_leaves': 252, 'max_depth': 4, 'min_child_samples': 15, 'subsample': 0.502643007732622, 'colsample_bytree': 0.7006508041871795, 'reg_alpha': 3.9311023383920576, 'reg_lambda': 7.725971806896515, 'min_split_gain': 0.01994287576812976}. Best is trial 0 with value: 0.04813681861219874.\n"
     ]
    },
    {
     "name": "stdout",
     "output_type": "stream",
     "text": [
      "[Trial 0] New best: 0.02518\n",
      "[Trial 0] New best: 0.04814\n"
     ]
    },
    {
     "name": "stderr",
     "output_type": "stream",
     "text": [
      "[I 2025-06-13 19:51:14,765] Trial 1 finished with value: 0.01544981504128532 and parameters: {'n_estimators': 279, 'learning_rate': 0.29313128132834226, 'num_leaves': 92, 'max_depth': 15, 'min_child_samples': 2, 'subsample': 0.6843797562852596, 'colsample_bytree': 0.9393467217126806, 'reg_alpha': 9.247410073279994, 'reg_lambda': 0.9212404139367525, 'min_split_gain': 0.04267869129091177}. Best is trial 1 with value: 0.01544981504128532.\n"
     ]
    },
    {
     "name": "stdout",
     "output_type": "stream",
     "text": [
      "[Trial 1] New best: 0.01545\n"
     ]
    },
    {
     "name": "stderr",
     "output_type": "stream",
     "text": [
      "[I 2025-06-13 19:51:15,743] A new study created in memory with name: no-name-b50fbb55-312b-4987-816f-bc61477e174e\n"
     ]
    },
    {
     "name": "stdout",
     "output_type": "stream",
     "text": [
      "long model ************************\n",
      "             feature  importance\n",
      "0        Price_lag_1        3214\n",
      "1        Price_lag_2        3087\n",
      "3      Load_DA_lag_0        1668\n",
      "2        Price_lag_7        1543\n",
      "5    WindOn_DA_lag_0        1069\n",
      "11        NGas_lag_2        1061\n",
      "10        Coal_lag_2        1027\n",
      "12         Oil_lag_2         648\n",
      "13         EUA_lag_2         611\n",
      "9               WD_7          27\n",
      "8               WD_6          15\n",
      "7               WD_1           6\n",
      "4     Solar_DA_lag_0           0\n",
      "6   WindOff_DA_lag_0           0\n",
      "short model ************************\n",
      "             feature  importance\n",
      "0        Price_lag_1         149\n",
      "3      Load_DA_lag_0          48\n",
      "1        Price_lag_2          26\n",
      "10        Coal_lag_2           6\n",
      "11        NGas_lag_2           5\n",
      "12         Oil_lag_2           5\n",
      "2        Price_lag_7           4\n",
      "5    WindOn_DA_lag_0           2\n",
      "4     Solar_DA_lag_0           0\n",
      "6   WindOff_DA_lag_0           0\n",
      "7               WD_1           0\n",
      "8               WD_6           0\n",
      "9               WD_7           0\n",
      "13         EUA_lag_2           0\n",
      "-> finished loop 0\n",
      "Loop  14: train 2019-03-16 00:00:00 -> 2023-01-14 00:00:00, forecast 2023-01-15 00:00:00\n",
      "  dat_slice shape: torch.Size([1402, 24, 10])  → flatten count = 33648\n"
     ]
    },
    {
     "name": "stderr",
     "output_type": "stream",
     "text": [
      "[I 2025-06-13 19:51:16,176] Trial 4 finished with value: 0.013047327868910594 and parameters: {'n_estimators': 184, 'learning_rate': 0.06192181651335553, 'num_leaves': 70, 'max_depth': 9, 'min_child_samples': 8, 'subsample': 0.7071894796355469, 'colsample_bytree': 0.8961387135816056, 'reg_alpha': 0.3085640536404666, 'reg_lambda': 6.988526147212393, 'min_split_gain': 0.0146602466563247}. Best is trial 4 with value: 0.013047327868910594.\n"
     ]
    },
    {
     "name": "stdout",
     "output_type": "stream",
     "text": [
      "[Trial 4] New best: 0.01305\n"
     ]
    },
    {
     "name": "stderr",
     "output_type": "stream",
     "text": [
      "[I 2025-06-13 19:51:16,758] Trial 2 finished with value: 0.03175258722346227 and parameters: {'n_estimators': 182, 'learning_rate': 0.11758635288363428, 'num_leaves': 207, 'max_depth': 15, 'min_child_samples': 29, 'subsample': 0.7268253440612978, 'colsample_bytree': 0.5546343453356672, 'reg_alpha': 9.066514632845378, 'reg_lambda': 1.041692745729097, 'min_split_gain': 0.018708076142917068}. Best is trial 1 with value: 0.01544981504128532.\n"
     ]
    },
    {
     "name": "stdout",
     "output_type": "stream",
     "text": [
      "[Trial 2] No significant gain (Δ ≤ 0.001). Counter: 1/3\n"
     ]
    },
    {
     "name": "stderr",
     "output_type": "stream",
     "text": [
      "[I 2025-06-13 19:51:17,863] Trial 0 finished with value: 0.015038055490734207 and parameters: {'n_estimators': 185, 'learning_rate': 0.07009913273063748, 'num_leaves': 238, 'max_depth': 4, 'min_child_samples': 30, 'subsample': 0.7954815734284493, 'colsample_bytree': 0.6719453694249409, 'reg_alpha': 6.4994500615724435, 'reg_lambda': 6.1445496924676055, 'min_split_gain': 0.01302237114832383}. Best is trial 0 with value: 0.015038055490734207.\n"
     ]
    },
    {
     "name": "stdout",
     "output_type": "stream",
     "text": [
      "[Trial 0] New best: 0.01504\n"
     ]
    },
    {
     "name": "stderr",
     "output_type": "stream",
     "text": [
      "[I 2025-06-13 19:51:21,107] Trial 3 finished with value: 0.021223228078368527 and parameters: {'n_estimators': 257, 'learning_rate': 0.048631659120505426, 'num_leaves': 255, 'max_depth': 6, 'min_child_samples': 10, 'subsample': 0.95912879986279, 'colsample_bytree': 0.6251212639021515, 'reg_alpha': 4.56770194256498, 'reg_lambda': 1.1315585284805552, 'min_split_gain': 0.016868430838938808}. Best is trial 1 with value: 0.01544981504128532.\n",
      "[I 2025-06-13 19:51:21,207] Trial 1 finished with value: 0.045746305010022324 and parameters: {'n_estimators': 199, 'learning_rate': 0.01083012462715794, 'num_leaves': 43, 'max_depth': 10, 'min_child_samples': 7, 'subsample': 0.9701744112459227, 'colsample_bytree': 0.7222741907867363, 'reg_alpha': 1.4840026538514883, 'reg_lambda': 1.3694411293789033, 'min_split_gain': 0.03432110657359667}. Best is trial 1 with value: 0.045746305010022324.\n"
     ]
    },
    {
     "name": "stdout",
     "output_type": "stream",
     "text": [
      "[Trial 3] No significant gain (Δ ≤ 0.001). Counter: 2/3\n",
      "[Trial 1] New best: 0.04575\n"
     ]
    },
    {
     "name": "stderr",
     "output_type": "stream",
     "text": [
      "[I 2025-06-13 19:51:21,597] A new study created in memory with name: no-name-8eb7a51f-cf8a-4974-80ef-03a8d9ca57ad\n"
     ]
    },
    {
     "name": "stdout",
     "output_type": "stream",
     "text": [
      "long model ************************\n",
      "             feature  importance\n",
      "0        Price_lag_1        2842\n",
      "1        Price_lag_2        2375\n",
      "3      Load_DA_lag_0        1508\n",
      "2        Price_lag_7        1337\n",
      "5    WindOn_DA_lag_0         898\n",
      "11        NGas_lag_2         849\n",
      "10        Coal_lag_2         747\n",
      "12         Oil_lag_2         607\n",
      "13         EUA_lag_2         546\n",
      "9               WD_7          54\n",
      "7               WD_1          12\n",
      "8               WD_6           5\n",
      "4     Solar_DA_lag_0           0\n",
      "6   WindOff_DA_lag_0           0\n",
      "short model ************************\n",
      "             feature  importance\n",
      "0        Price_lag_1          83\n",
      "3      Load_DA_lag_0          23\n",
      "5    WindOn_DA_lag_0          12\n",
      "1        Price_lag_2          10\n",
      "2        Price_lag_7           5\n",
      "10        Coal_lag_2           4\n",
      "12         Oil_lag_2           3\n",
      "11        NGas_lag_2           1\n",
      "13         EUA_lag_2           1\n",
      "4     Solar_DA_lag_0           0\n",
      "6   WindOff_DA_lag_0           0\n",
      "7               WD_1           0\n",
      "8               WD_6           0\n",
      "9               WD_7           0\n",
      "-> finished loop 3\n",
      "Loop  15: train 2019-03-17 00:00:00 -> 2023-01-15 00:00:00, forecast 2023-01-16 00:00:00\n",
      "  dat_slice shape: torch.Size([1402, 24, 10])  → flatten count = 33648\n"
     ]
    },
    {
     "name": "stderr",
     "output_type": "stream",
     "text": [
      "[I 2025-06-13 19:51:24,164] Trial 0 finished with value: 0.014252145250495217 and parameters: {'n_estimators': 278, 'learning_rate': 0.1560447046279891, 'num_leaves': 185, 'max_depth': 7, 'min_child_samples': 24, 'subsample': 0.8461894948892736, 'colsample_bytree': 0.929110613053157, 'reg_alpha': 0.5707635825415525, 'reg_lambda': 6.816462568297943, 'min_split_gain': 0.0491353115217699}. Best is trial 0 with value: 0.014252145250495217.\n"
     ]
    },
    {
     "name": "stdout",
     "output_type": "stream",
     "text": [
      "[Trial 0] New best: 0.01425\n",
      "long model ************************\n",
      "             feature  importance\n",
      "1        Price_lag_2        4843\n",
      "0        Price_lag_1        4752\n",
      "2        Price_lag_7        2497\n",
      "3      Load_DA_lag_0        2477\n",
      "5    WindOn_DA_lag_0        1964\n",
      "11        NGas_lag_2        1679\n",
      "10        Coal_lag_2        1649\n",
      "13         EUA_lag_2        1231\n",
      "12         Oil_lag_2        1100\n",
      "9               WD_7          57\n",
      "7               WD_1          15\n",
      "8               WD_6           7\n",
      "4     Solar_DA_lag_0           0\n",
      "6   WindOff_DA_lag_0           0\n",
      "short model ************************\n",
      "             feature  importance\n",
      "0        Price_lag_1          51\n",
      "2        Price_lag_7          11\n",
      "5    WindOn_DA_lag_0          10\n",
      "3      Load_DA_lag_0           8\n",
      "1        Price_lag_2           5\n",
      "12         Oil_lag_2           4\n",
      "10        Coal_lag_2           2\n",
      "13         EUA_lag_2           1\n",
      "4     Solar_DA_lag_0           0\n",
      "6   WindOff_DA_lag_0           0\n",
      "7               WD_1           0\n",
      "8               WD_6           0\n",
      "9               WD_7           0\n",
      "11        NGas_lag_2           0\n",
      "-> finished loop 2\n",
      "Loop  16: train 2019-03-18 00:00:00 -> 2023-01-16 00:00:00, forecast 2023-01-17 00:00:00\n",
      "  dat_slice shape: torch.Size([1402, 24, 10])  → flatten count = 33648\n"
     ]
    },
    {
     "name": "stderr",
     "output_type": "stream",
     "text": [
      "[I 2025-06-13 19:51:24,396] A new study created in memory with name: no-name-e95da620-596e-456e-aa3a-1a6373027a59\n",
      "[I 2025-06-13 19:51:24,504] Trial 1 finished with value: 0.033037099592352986 and parameters: {'n_estimators': 127, 'learning_rate': 0.011001979725607314, 'num_leaves': 77, 'max_depth': 16, 'min_child_samples': 8, 'subsample': 0.6983191313278819, 'colsample_bytree': 0.5020414967502034, 'reg_alpha': 3.8116816136921905, 'reg_lambda': 6.144610342916106, 'min_split_gain': 0.0017701243743084016}. Best is trial 0 with value: 0.015038055490734207.\n"
     ]
    },
    {
     "name": "stdout",
     "output_type": "stream",
     "text": [
      "[Trial 1] No significant gain (Δ ≤ 0.001). Counter: 1/3\n"
     ]
    },
    {
     "name": "stderr",
     "output_type": "stream",
     "text": [
      "[I 2025-06-13 19:51:26,244] Trial 2 finished with value: 0.01284220378771822 and parameters: {'n_estimators': 106, 'learning_rate': 0.13097885996538533, 'num_leaves': 42, 'max_depth': 11, 'min_child_samples': 6, 'subsample': 0.5346829092310509, 'colsample_bytree': 0.6635968967959864, 'reg_alpha': 7.1388718890804395, 'reg_lambda': 5.11869798799064, 'min_split_gain': 0.04309493459792793}. Best is trial 2 with value: 0.01284220378771822.\n"
     ]
    },
    {
     "name": "stdout",
     "output_type": "stream",
     "text": [
      "[Trial 2] New best: 0.01284\n"
     ]
    },
    {
     "name": "stderr",
     "output_type": "stream",
     "text": [
      "[I 2025-06-13 19:51:26,784] Trial 2 finished with value: 0.013923600095484644 and parameters: {'n_estimators': 165, 'learning_rate': 0.038148451948280336, 'num_leaves': 237, 'max_depth': 16, 'min_child_samples': 4, 'subsample': 0.5177081626709468, 'colsample_bytree': 0.8014039228171572, 'reg_alpha': 0.7897242720359932, 'reg_lambda': 8.353732611969276, 'min_split_gain': 0.0002697107120444575}. Best is trial 2 with value: 0.013923600095484644.\n"
     ]
    },
    {
     "name": "stdout",
     "output_type": "stream",
     "text": [
      "[Trial 2] New best: 0.01392\n"
     ]
    },
    {
     "name": "stderr",
     "output_type": "stream",
     "text": [
      "[I 2025-06-13 19:51:27,457] Trial 4 finished with value: 0.019522072538931286 and parameters: {'n_estimators': 281, 'learning_rate': 0.036554872156253804, 'num_leaves': 203, 'max_depth': 8, 'min_child_samples': 3, 'subsample': 0.8143228322155927, 'colsample_bytree': 0.9451732387150324, 'reg_alpha': 8.303218594855148, 'reg_lambda': 4.5115697461728885, 'min_split_gain': 0.035779152146096456}. Best is trial 1 with value: 0.01544981504128532.\n",
      "[I 2025-06-13 19:51:27,459] A new study created in memory with name: no-name-f8d0b6b0-6b49-490b-9ffa-c7aeff91a0a3\n"
     ]
    },
    {
     "name": "stdout",
     "output_type": "stream",
     "text": [
      "[Trial 4] No significant gain (Δ ≤ 0.001). Counter: 3/3\n",
      "\n",
      "⏹️  Early stop: no gain > 0.001 in last 3 trials.\n"
     ]
    },
    {
     "name": "stderr",
     "output_type": "stream",
     "text": [
      "[I 2025-06-13 19:51:28,004] Trial 0 finished with value: 0.015243033041446544 and parameters: {'n_estimators': 122, 'learning_rate': 0.02753643472642053, 'num_leaves': 100, 'max_depth': 12, 'min_child_samples': 19, 'subsample': 0.6640989495651513, 'colsample_bytree': 0.9510780372555805, 'reg_alpha': 9.421537998122291, 'reg_lambda': 7.445270450127853, 'min_split_gain': 0.013865782942525091}. Best is trial 0 with value: 0.015243033041446544.\n"
     ]
    },
    {
     "name": "stdout",
     "output_type": "stream",
     "text": [
      "[Trial 0] New best: 0.01524\n"
     ]
    },
    {
     "name": "stderr",
     "output_type": "stream",
     "text": [
      "[I 2025-06-13 19:51:28,612] Trial 0 finished with value: 0.06460495690730504 and parameters: {'n_estimators': 294, 'learning_rate': 0.014892751629873613, 'num_leaves': 195, 'max_depth': 16, 'min_child_samples': 10, 'subsample': 0.8941475958250527, 'colsample_bytree': 0.7971658120036075, 'reg_alpha': 5.15897968595921, 'reg_lambda': 6.7581767261955425, 'min_split_gain': 0.014206063273881925}. Best is trial 0 with value: 0.06460495690730504.\n"
     ]
    },
    {
     "name": "stdout",
     "output_type": "stream",
     "text": [
      "[Trial 0] No significant gain (Δ ≤ 0.001). Counter: 4/3\n",
      "\n",
      "⏹️  Early stop: no gain > 0.001 in last 3 trials.\n"
     ]
    },
    {
     "name": "stderr",
     "output_type": "stream",
     "text": [
      "[I 2025-06-13 19:51:29,243] Trial 1 finished with value: 0.01481270017617218 and parameters: {'n_estimators': 169, 'learning_rate': 0.09623241036632042, 'num_leaves': 127, 'max_depth': 16, 'min_child_samples': 5, 'subsample': 0.6436999966368326, 'colsample_bytree': 0.860857483027454, 'reg_alpha': 9.082078302908238, 'reg_lambda': 4.393219262466675, 'min_split_gain': 0.002748284614522412}. Best is trial 0 with value: 0.014252145250495217.\n",
      "[I 2025-06-13 19:51:29,388] Trial 2 finished with value: 0.05132951890492538 and parameters: {'n_estimators': 100, 'learning_rate': 0.016580238202823956, 'num_leaves': 186, 'max_depth': 10, 'min_child_samples': 12, 'subsample': 0.6143457237890526, 'colsample_bytree': 0.6039767052093796, 'reg_alpha': 0.3336532452205898, 'reg_lambda': 8.52120365363661, 'min_split_gain': 0.006618276665379875}. Best is trial 1 with value: 0.045746305010022324.\n"
     ]
    },
    {
     "name": "stdout",
     "output_type": "stream",
     "text": [
      "[Trial 1] No significant gain (Δ ≤ 0.001). Counter: 1/3\n",
      "[Trial 2] No significant gain (Δ ≤ 0.001). Counter: 1/3\n"
     ]
    },
    {
     "name": "stderr",
     "output_type": "stream",
     "text": [
      "[I 2025-06-13 19:51:30,602] Trial 5 finished with value: 0.015716943215444878 and parameters: {'n_estimators': 294, 'learning_rate': 0.02516434476416138, 'num_leaves': 123, 'max_depth': 14, 'min_child_samples': 22, 'subsample': 0.6860518225102592, 'colsample_bytree': 0.6222185936837781, 'reg_alpha': 1.5225989193583311, 'reg_lambda': 6.743882467435061, 'min_split_gain': 0.041171456178228164}. Best is trial 4 with value: 0.013047327868910594.\n"
     ]
    },
    {
     "name": "stdout",
     "output_type": "stream",
     "text": [
      "[Trial 5] No significant gain (Δ ≤ 0.001). Counter: 1/3\n"
     ]
    },
    {
     "name": "stderr",
     "output_type": "stream",
     "text": [
      "[I 2025-06-13 19:51:30,833] Trial 3 finished with value: 0.047808091065485996 and parameters: {'n_estimators': 253, 'learning_rate': 0.1989012136231939, 'num_leaves': 235, 'max_depth': 4, 'min_child_samples': 14, 'subsample': 0.5701760926029739, 'colsample_bytree': 0.6564483133727008, 'reg_alpha': 0.019542569615856875, 'reg_lambda': 3.633460000255143, 'min_split_gain': 0.039230947681136726}. Best is trial 1 with value: 0.045746305010022324.\n",
      "[I 2025-06-13 19:51:30,944] Trial 1 finished with value: 0.01996306222837523 and parameters: {'n_estimators': 284, 'learning_rate': 0.08298079460622103, 'num_leaves': 209, 'max_depth': 16, 'min_child_samples': 16, 'subsample': 0.7203138839867811, 'colsample_bytree': 0.6008375703574993, 'reg_alpha': 7.327400237539026, 'reg_lambda': 7.985627278502136, 'min_split_gain': 0.04857325356284325}. Best is trial 0 with value: 0.015243033041446544.\n"
     ]
    },
    {
     "name": "stdout",
     "output_type": "stream",
     "text": [
      "[Trial 3] No significant gain (Δ ≤ 0.001). Counter: 2/3\n",
      "[Trial 1] No significant gain (Δ ≤ 0.001). Counter: 1/3\n",
      "long model ************************\n",
      "             feature  importance\n",
      "0        Price_lag_1         143\n",
      "1        Price_lag_2          94\n",
      "3      Load_DA_lag_0          60\n",
      "2        Price_lag_7          53\n",
      "11        NGas_lag_2          46\n",
      "10        Coal_lag_2          42\n",
      "13         EUA_lag_2          28\n",
      "5    WindOn_DA_lag_0          18\n",
      "12         Oil_lag_2          17\n",
      "4     Solar_DA_lag_0           0\n",
      "6   WindOff_DA_lag_0           0\n",
      "7               WD_1           0\n",
      "8               WD_6           0\n",
      "9               WD_7           0\n",
      "short model ************************\n",
      "             feature  importance\n",
      "0        Price_lag_1         575\n",
      "3      Load_DA_lag_0         143\n",
      "5    WindOn_DA_lag_0          76\n",
      "11        NGas_lag_2          34\n",
      "1        Price_lag_2          30\n",
      "10        Coal_lag_2          19\n",
      "13         EUA_lag_2           7\n",
      "2        Price_lag_7           0\n",
      "4     Solar_DA_lag_0           0\n",
      "6   WindOff_DA_lag_0           0\n",
      "7               WD_1           0\n",
      "8               WD_6           0\n",
      "9               WD_7           0\n",
      "12         Oil_lag_2           0\n",
      "-> finished loop 12\n",
      "Loop  17: train 2019-03-19 00:00:00 -> 2023-01-17 00:00:00, forecast 2023-01-18 00:00:00\n",
      "  dat_slice shape: torch.Size([1402, 24, 10])  → flatten count = 33648\n"
     ]
    },
    {
     "name": "stderr",
     "output_type": "stream",
     "text": [
      "[I 2025-06-13 19:51:31,057] A new study created in memory with name: no-name-19bd4174-86f4-4b83-b5b6-deb8109bf19f\n",
      "[I 2025-06-13 19:51:31,149] Trial 3 finished with value: 0.015591089100163269 and parameters: {'n_estimators': 232, 'learning_rate': 0.04081756016045623, 'num_leaves': 111, 'max_depth': 5, 'min_child_samples': 1, 'subsample': 0.7033555006997325, 'colsample_bytree': 0.6238661083638998, 'reg_alpha': 7.512722700187943, 'reg_lambda': 1.7654177156181339, 'min_split_gain': 0.0323794201399634}. Best is trial 2 with value: 0.01284220378771822.\n",
      "[I 2025-06-13 19:51:31,259] Trial 3 finished with value: 0.024523531188931875 and parameters: {'n_estimators': 186, 'learning_rate': 0.017996565404284678, 'num_leaves': 217, 'max_depth': 5, 'min_child_samples': 7, 'subsample': 0.5025704644317948, 'colsample_bytree': 0.6398006562989649, 'reg_alpha': 5.821219349365849, 'reg_lambda': 0.7885176205132871, 'min_split_gain': 0.027073801366449476}. Best is trial 2 with value: 0.013923600095484644.\n"
     ]
    },
    {
     "name": "stdout",
     "output_type": "stream",
     "text": [
      "[Trial 3] No significant gain (Δ ≤ 0.001). Counter: 1/3\n",
      "[Trial 3] No significant gain (Δ ≤ 0.001). Counter: 1/3\n"
     ]
    },
    {
     "name": "stderr",
     "output_type": "stream",
     "text": [
      "[I 2025-06-13 19:51:32,732] Trial 2 finished with value: 0.015467539479867719 and parameters: {'n_estimators': 103, 'learning_rate': 0.03336829173488597, 'num_leaves': 252, 'max_depth': 15, 'min_child_samples': 26, 'subsample': 0.9930425130926632, 'colsample_bytree': 0.5722321522600198, 'reg_alpha': 6.608444637044551, 'reg_lambda': 2.082784209297258, 'min_split_gain': 0.006118324804883335}. Best is trial 0 with value: 0.014252145250495217.\n"
     ]
    },
    {
     "name": "stdout",
     "output_type": "stream",
     "text": [
      "[Trial 2] No significant gain (Δ ≤ 0.001). Counter: 2/3\n"
     ]
    },
    {
     "name": "stderr",
     "output_type": "stream",
     "text": [
      "[I 2025-06-13 19:51:33,633] Trial 4 finished with value: 0.04594055467373404 and parameters: {'n_estimators': 268, 'learning_rate': 0.01904829446749523, 'num_leaves': 113, 'max_depth': 4, 'min_child_samples': 28, 'subsample': 0.6249724046959151, 'colsample_bytree': 0.7989365130488826, 'reg_alpha': 1.7607656098665259, 'reg_lambda': 3.018973528170675, 'min_split_gain': 0.018117450192568985}. Best is trial 1 with value: 0.045746305010022324.\n",
      "[I 2025-06-13 19:51:33,637] A new study created in memory with name: no-name-9518f573-c0b1-4f6c-85a1-4f1cad6cc833\n"
     ]
    },
    {
     "name": "stdout",
     "output_type": "stream",
     "text": [
      "[Trial 4] No significant gain (Δ ≤ 0.001). Counter: 3/3\n",
      "\n",
      "⏹️  Early stop: no gain > 0.001 in last 3 trials.\n"
     ]
    },
    {
     "name": "stderr",
     "output_type": "stream",
     "text": [
      "[I 2025-06-13 19:51:33,872] Trial 2 finished with value: 0.014501080990800304 and parameters: {'n_estimators': 286, 'learning_rate': 0.08835676190135877, 'num_leaves': 102, 'max_depth': 7, 'min_child_samples': 10, 'subsample': 0.8524316971081769, 'colsample_bytree': 0.7839276380261297, 'reg_alpha': 3.1161552790113434, 'reg_lambda': 1.1976215594926443, 'min_split_gain': 0.036402521493055166}. Best is trial 2 with value: 0.014501080990800304.\n",
      "[I 2025-06-13 19:51:34,002] Trial 0 finished with value: 0.048700212162525375 and parameters: {'n_estimators': 171, 'learning_rate': 0.14943301256498218, 'num_leaves': 148, 'max_depth': 13, 'min_child_samples': 9, 'subsample': 0.5629325386906172, 'colsample_bytree': 0.9077765630399393, 'reg_alpha': 3.835942721299549, 'reg_lambda': 8.052378934475907, 'min_split_gain': 0.01697060636803089}. Best is trial 0 with value: 0.048700212162525375.\n"
     ]
    },
    {
     "name": "stdout",
     "output_type": "stream",
     "text": [
      "[Trial 2] No significant gain (Δ ≤ 0.001). Counter: 2/3\n",
      "[Trial 0] No significant gain (Δ ≤ 0.001). Counter: 4/3\n",
      "\n",
      "⏹️  Early stop: no gain > 0.001 in last 3 trials.\n"
     ]
    },
    {
     "name": "stderr",
     "output_type": "stream",
     "text": [
      "[I 2025-06-13 19:51:34,372] Trial 6 finished with value: 0.018657625015999924 and parameters: {'n_estimators': 159, 'learning_rate': 0.026270771897652027, 'num_leaves': 114, 'max_depth': 16, 'min_child_samples': 22, 'subsample': 0.5389078829082201, 'colsample_bytree': 0.8505216018623585, 'reg_alpha': 9.158709559024421, 'reg_lambda': 0.6362518980364162, 'min_split_gain': 0.032189523050159555}. Best is trial 4 with value: 0.013047327868910594.\n"
     ]
    },
    {
     "name": "stdout",
     "output_type": "stream",
     "text": [
      "[Trial 6] No significant gain (Δ ≤ 0.001). Counter: 2/3\n"
     ]
    },
    {
     "name": "stderr",
     "output_type": "stream",
     "text": [
      "[I 2025-06-13 19:51:35,625] Trial 3 finished with value: 0.014898753747256193 and parameters: {'n_estimators': 57, 'learning_rate': 0.09463323973593184, 'num_leaves': 137, 'max_depth': 15, 'min_child_samples': 9, 'subsample': 0.5558548710016944, 'colsample_bytree': 0.9783571255602684, 'reg_alpha': 4.563520966280949, 'reg_lambda': 9.456975413431195, 'min_split_gain': 0.005612999473324965}. Best is trial 0 with value: 0.014252145250495217.\n",
      "[I 2025-06-13 19:51:35,629] A new study created in memory with name: no-name-1b4d0f01-9218-4ca7-9dad-e918886a7004\n"
     ]
    },
    {
     "name": "stdout",
     "output_type": "stream",
     "text": [
      "[Trial 3] No significant gain (Δ ≤ 0.001). Counter: 3/3\n",
      "\n",
      "⏹️  Early stop: no gain > 0.001 in last 3 trials.\n"
     ]
    },
    {
     "name": "stderr",
     "output_type": "stream",
     "text": [
      "[I 2025-06-13 19:51:36,034] Trial 0 finished with value: 0.013200417403883025 and parameters: {'n_estimators': 101, 'learning_rate': 0.08121754975022655, 'num_leaves': 120, 'max_depth': 12, 'min_child_samples': 17, 'subsample': 0.5775236284573566, 'colsample_bytree': 0.7738865817023306, 'reg_alpha': 4.418245837551282, 'reg_lambda': 2.2506786666120204, 'min_split_gain': 0.0005547617314243747}. Best is trial 0 with value: 0.013200417403883025.\n"
     ]
    },
    {
     "name": "stdout",
     "output_type": "stream",
     "text": [
      "[Trial 0] New best: 0.01320\n"
     ]
    },
    {
     "name": "stderr",
     "output_type": "stream",
     "text": [
      "[I 2025-06-13 19:51:36,232] Trial 4 finished with value: 0.02200170092449696 and parameters: {'n_estimators': 286, 'learning_rate': 0.019090109106233148, 'num_leaves': 196, 'max_depth': 5, 'min_child_samples': 12, 'subsample': 0.8697947554486732, 'colsample_bytree': 0.6808956132298651, 'reg_alpha': 6.327507941332603, 'reg_lambda': 3.1270982343908194, 'min_split_gain': 0.018859219825491602}. Best is trial 2 with value: 0.013923600095484644.\n"
     ]
    },
    {
     "name": "stdout",
     "output_type": "stream",
     "text": [
      "[Trial 4] No significant gain (Δ ≤ 0.001). Counter: 2/3\n"
     ]
    },
    {
     "name": "stderr",
     "output_type": "stream",
     "text": [
      "[I 2025-06-13 19:51:36,547] Trial 7 finished with value: 0.01794024024718353 and parameters: {'n_estimators': 190, 'learning_rate': 0.12135418315930652, 'num_leaves': 55, 'max_depth': 11, 'min_child_samples': 9, 'subsample': 0.6524397794711261, 'colsample_bytree': 0.6006370325450424, 'reg_alpha': 5.005960657654496, 'reg_lambda': 8.071532051783533, 'min_split_gain': 0.046605446756266024}. Best is trial 4 with value: 0.013047327868910594.\n",
      "[I 2025-06-13 19:51:36,549] A new study created in memory with name: no-name-793b518c-8110-4bfb-a035-351d4277bdcc\n"
     ]
    },
    {
     "name": "stdout",
     "output_type": "stream",
     "text": [
      "[Trial 7] No significant gain (Δ ≤ 0.001). Counter: 3/3\n",
      "\n",
      "⏹️  Early stop: no gain > 0.001 in last 3 trials.\n"
     ]
    },
    {
     "name": "stderr",
     "output_type": "stream",
     "text": [
      "[I 2025-06-13 19:51:37,067] Trial 0 finished with value: 0.04500999796854065 and parameters: {'n_estimators': 222, 'learning_rate': 0.03258322199330199, 'num_leaves': 244, 'max_depth': 9, 'min_child_samples': 9, 'subsample': 0.514614852974053, 'colsample_bytree': 0.978089094926115, 'reg_alpha': 9.79589311932474, 'reg_lambda': 2.922058727330538, 'min_split_gain': 0.04852776689467638}. Best is trial 0 with value: 0.04500999796854065.\n"
     ]
    },
    {
     "name": "stdout",
     "output_type": "stream",
     "text": [
      "[Trial 0] No significant gain (Δ ≤ 0.001). Counter: 4/3\n",
      "\n",
      "⏹️  Early stop: no gain > 0.001 in last 3 trials.\n"
     ]
    },
    {
     "name": "stderr",
     "output_type": "stream",
     "text": [
      "[I 2025-06-13 19:51:37,906] Trial 1 finished with value: 0.013806915753749737 and parameters: {'n_estimators': 296, 'learning_rate': 0.013118541721070864, 'num_leaves': 242, 'max_depth': 8, 'min_child_samples': 6, 'subsample': 0.9939882900029458, 'colsample_bytree': 0.5777584417788195, 'reg_alpha': 8.991698831314407, 'reg_lambda': 1.8191402684215419, 'min_split_gain': 0.0035309407119832772}. Best is trial 0 with value: 0.013200417403883025.\n"
     ]
    },
    {
     "name": "stdout",
     "output_type": "stream",
     "text": [
      "[Trial 1] No significant gain (Δ ≤ 0.001). Counter: 1/3\n"
     ]
    },
    {
     "name": "stderr",
     "output_type": "stream",
     "text": [
      "[I 2025-06-13 19:51:38,602] Trial 2 finished with value: 0.04308820662087859 and parameters: {'n_estimators': 62, 'learning_rate': 0.01054401816494709, 'num_leaves': 233, 'max_depth': 14, 'min_child_samples': 7, 'subsample': 0.5229713466846503, 'colsample_bytree': 0.6376544316965858, 'reg_alpha': 8.294678585531901, 'reg_lambda': 6.434475689723918, 'min_split_gain': 0.009848224302386799}. Best is trial 0 with value: 0.013200417403883025.\n"
     ]
    },
    {
     "name": "stdout",
     "output_type": "stream",
     "text": [
      "[Trial 2] No significant gain (Δ ≤ 0.001). Counter: 2/3\n"
     ]
    },
    {
     "name": "stderr",
     "output_type": "stream",
     "text": [
      "[I 2025-06-13 19:51:39,382] Trial 3 finished with value: 0.011238528136268702 and parameters: {'n_estimators': 82, 'learning_rate': 0.07126028090692797, 'num_leaves': 236, 'max_depth': 6, 'min_child_samples': 23, 'subsample': 0.7724948351677476, 'colsample_bytree': 0.6095444159758129, 'reg_alpha': 2.955036446252649, 'reg_lambda': 9.161254071633275, 'min_split_gain': 0.027669404420245687}. Best is trial 3 with value: 0.011238528136268702.\n"
     ]
    },
    {
     "name": "stdout",
     "output_type": "stream",
     "text": [
      "[Trial 3] New best: 0.01124\n"
     ]
    },
    {
     "name": "stderr",
     "output_type": "stream",
     "text": [
      "[I 2025-06-13 19:51:40,279] Trial 0 finished with value: 0.007148204658272543 and parameters: {'n_estimators': 107, 'learning_rate': 0.05468067976429309, 'num_leaves': 232, 'max_depth': 12, 'min_child_samples': 29, 'subsample': 0.9244105518050516, 'colsample_bytree': 0.5683085437817623, 'reg_alpha': 1.5593995181308529, 'reg_lambda': 4.336282231678372, 'min_split_gain': 0.0032293577169315636}. Best is trial 0 with value: 0.007148204658272543.\n"
     ]
    },
    {
     "name": "stdout",
     "output_type": "stream",
     "text": [
      "[Trial 0] New best: 0.00715\n"
     ]
    },
    {
     "name": "stderr",
     "output_type": "stream",
     "text": [
      "[I 2025-06-13 19:51:41,066] Trial 5 finished with value: 0.029165684116992895 and parameters: {'n_estimators': 107, 'learning_rate': 0.011968429990913038, 'num_leaves': 78, 'max_depth': 9, 'min_child_samples': 13, 'subsample': 0.8811668448320901, 'colsample_bytree': 0.8989795580530815, 'reg_alpha': 7.135795214930335, 'reg_lambda': 8.14607096026336, 'min_split_gain': 0.03857222987745417}. Best is trial 2 with value: 0.013923600095484644.\n",
      "[I 2025-06-13 19:51:41,068] A new study created in memory with name: no-name-53fd9088-c180-44ed-b286-243774bd6e89\n"
     ]
    },
    {
     "name": "stdout",
     "output_type": "stream",
     "text": [
      "[Trial 5] No significant gain (Δ ≤ 0.001). Counter: 3/3\n",
      "\n",
      "⏹️  Early stop: no gain > 0.001 in last 3 trials.\n"
     ]
    },
    {
     "name": "stderr",
     "output_type": "stream",
     "text": [
      "[I 2025-06-13 19:51:41,584] Trial 0 finished with value: 0.21777802114876224 and parameters: {'n_estimators': 124, 'learning_rate': 0.0725231998408488, 'num_leaves': 181, 'max_depth': 4, 'min_child_samples': 24, 'subsample': 0.9401730706973104, 'colsample_bytree': 0.8090446613205087, 'reg_alpha': 6.197205468461961, 'reg_lambda': 7.345376369709445, 'min_split_gain': 0.006699549505524038}. Best is trial 0 with value: 0.21777802114876224.\n"
     ]
    },
    {
     "name": "stdout",
     "output_type": "stream",
     "text": [
      "[Trial 0] No significant gain (Δ ≤ 0.001). Counter: 4/3\n",
      "\n",
      "⏹️  Early stop: no gain > 0.001 in last 3 trials.\n"
     ]
    },
    {
     "name": "stderr",
     "output_type": "stream",
     "text": [
      "[I 2025-06-13 19:51:42,085] Trial 4 finished with value: 0.011112029597901078 and parameters: {'n_estimators': 133, 'learning_rate': 0.016302328599793508, 'num_leaves': 124, 'max_depth': 13, 'min_child_samples': 2, 'subsample': 0.5908012407085834, 'colsample_bytree': 0.5576750861037958, 'reg_alpha': 0.5434683746885738, 'reg_lambda': 3.2358063206559184, 'min_split_gain': 0.034197076120828444}. Best is trial 4 with value: 0.011112029597901078.\n"
     ]
    },
    {
     "name": "stdout",
     "output_type": "stream",
     "text": [
      "[Trial 4] No significant gain (Δ ≤ 0.001). Counter: 1/3\n"
     ]
    },
    {
     "name": "stderr",
     "output_type": "stream",
     "text": [
      "[I 2025-06-13 19:51:42,398] Trial 5 finished with value: 0.013597931258569848 and parameters: {'n_estimators': 175, 'learning_rate': 0.1941085609945865, 'num_leaves': 82, 'max_depth': 9, 'min_child_samples': 10, 'subsample': 0.8693802485550705, 'colsample_bytree': 0.8349911301391781, 'reg_alpha': 0.48676923234998726, 'reg_lambda': 0.862058552913979, 'min_split_gain': 0.049393749275444016}. Best is trial 4 with value: 0.011112029597901078.\n"
     ]
    },
    {
     "name": "stdout",
     "output_type": "stream",
     "text": [
      "[Trial 5] No significant gain (Δ ≤ 0.001). Counter: 2/3\n"
     ]
    },
    {
     "name": "stderr",
     "output_type": "stream",
     "text": [
      "[I 2025-06-13 19:51:42,868] Trial 3 finished with value: 0.015953588875388926 and parameters: {'n_estimators': 221, 'learning_rate': 0.03482120315708923, 'num_leaves': 39, 'max_depth': 16, 'min_child_samples': 5, 'subsample': 0.9785798541993809, 'colsample_bytree': 0.763985290485259, 'reg_alpha': 6.58594657297344, 'reg_lambda': 8.345683277982866, 'min_split_gain': 0.028489340852725788}. Best is trial 2 with value: 0.014501080990800304.\n",
      "[I 2025-06-13 19:51:42,870] A new study created in memory with name: no-name-9ca00c73-4fcb-409a-a85f-87cb14992002\n"
     ]
    },
    {
     "name": "stdout",
     "output_type": "stream",
     "text": [
      "[Trial 3] No significant gain (Δ ≤ 0.001). Counter: 3/3\n",
      "\n",
      "⏹️  Early stop: no gain > 0.001 in last 3 trials.\n"
     ]
    },
    {
     "name": "stderr",
     "output_type": "stream",
     "text": [
      "[I 2025-06-13 19:51:43,084] Trial 6 finished with value: 0.016930054391090753 and parameters: {'n_estimators': 241, 'learning_rate': 0.03016575131581202, 'num_leaves': 230, 'max_depth': 4, 'min_child_samples': 29, 'subsample': 0.5214070252528007, 'colsample_bytree': 0.832923680414386, 'reg_alpha': 2.2461580587066567, 'reg_lambda': 3.9042963912839177, 'min_split_gain': 0.040422841831123144}. Best is trial 4 with value: 0.011112029597901078.\n"
     ]
    },
    {
     "name": "stdout",
     "output_type": "stream",
     "text": [
      "[Trial 6] No significant gain (Δ ≤ 0.001). Counter: 3/3\n",
      "\n",
      "⏹️  Early stop: no gain > 0.001 in last 3 trials.\n"
     ]
    },
    {
     "name": "stderr",
     "output_type": "stream",
     "text": [
      "[I 2025-06-13 19:51:43,615] Trial 0 finished with value: 0.04921148757426672 and parameters: {'n_estimators': 114, 'learning_rate': 0.022337021602443427, 'num_leaves': 101, 'max_depth': 9, 'min_child_samples': 6, 'subsample': 0.7633113065174376, 'colsample_bytree': 0.9070562896979038, 'reg_alpha': 3.2493122427300936, 'reg_lambda': 1.4464865198230592, 'min_split_gain': 0.04436718822657874}. Best is trial 0 with value: 0.04921148757426672.\n"
     ]
    },
    {
     "name": "stdout",
     "output_type": "stream",
     "text": [
      "[Trial 0] No significant gain (Δ ≤ 0.001). Counter: 4/3\n",
      "\n",
      "⏹️  Early stop: no gain > 0.001 in last 3 trials.\n"
     ]
    },
    {
     "name": "stderr",
     "output_type": "stream",
     "text": [
      "[I 2025-06-13 19:51:45,062] A new study created in memory with name: no-name-0f5188a1-9dcc-484f-bbad-637ae000afb2\n"
     ]
    },
    {
     "name": "stdout",
     "output_type": "stream",
     "text": [
      "long model ************************\n",
      "             feature  importance\n",
      "0        Price_lag_1        3429\n",
      "1        Price_lag_2        2224\n",
      "2        Price_lag_7         612\n",
      "10        Coal_lag_2         518\n",
      "11        NGas_lag_2         481\n",
      "3      Load_DA_lag_0         390\n",
      "12         Oil_lag_2         236\n",
      "13         EUA_lag_2         165\n",
      "5    WindOn_DA_lag_0         119\n",
      "4     Solar_DA_lag_0           0\n",
      "6   WindOff_DA_lag_0           0\n",
      "7               WD_1           0\n",
      "8               WD_6           0\n",
      "9               WD_7           0\n",
      "short model ************************\n",
      "             feature  importance\n",
      "0        Price_lag_1          65\n",
      "3      Load_DA_lag_0          21\n",
      "11        NGas_lag_2           8\n",
      "1        Price_lag_2           2\n",
      "5    WindOn_DA_lag_0           2\n",
      "2        Price_lag_7           1\n",
      "9               WD_7           1\n",
      "4     Solar_DA_lag_0           0\n",
      "6   WindOff_DA_lag_0           0\n",
      "7               WD_1           0\n",
      "8               WD_6           0\n",
      "10        Coal_lag_2           0\n",
      "12         Oil_lag_2           0\n",
      "13         EUA_lag_2           0\n",
      "-> finished loop 13\n",
      "Loop  18: train 2019-03-20 00:00:00 -> 2023-01-18 00:00:00, forecast 2023-01-19 00:00:00\n",
      "  dat_slice shape: torch.Size([1402, 24, 10])  → flatten count = 33648\n"
     ]
    },
    {
     "name": "stderr",
     "output_type": "stream",
     "text": [
      "[I 2025-06-13 19:51:45,622] Trial 4 finished with value: 0.008781602252016386 and parameters: {'n_estimators': 297, 'learning_rate': 0.02894807119062614, 'num_leaves': 152, 'max_depth': 7, 'min_child_samples': 2, 'subsample': 0.5507673052186315, 'colsample_bytree': 0.905467103554196, 'reg_alpha': 3.3214423396619464, 'reg_lambda': 4.957549183760227, 'min_split_gain': 0.016984832774910353}. Best is trial 4 with value: 0.008781602252016386.\n"
     ]
    },
    {
     "name": "stdout",
     "output_type": "stream",
     "text": [
      "[Trial 4] New best: 0.00878\n"
     ]
    },
    {
     "name": "stderr",
     "output_type": "stream",
     "text": [
      "[I 2025-06-13 19:51:45,952] Trial 1 finished with value: 0.008056934208848976 and parameters: {'n_estimators': 165, 'learning_rate': 0.04080847742735123, 'num_leaves': 120, 'max_depth': 11, 'min_child_samples': 25, 'subsample': 0.6370958804935967, 'colsample_bytree': 0.6612207674955162, 'reg_alpha': 8.632254832146508, 'reg_lambda': 7.553769715051704, 'min_split_gain': 0.014500380638236382}. Best is trial 0 with value: 0.007148204658272543.\n"
     ]
    },
    {
     "name": "stdout",
     "output_type": "stream",
     "text": [
      "[Trial 1] No significant gain (Δ ≤ 0.001). Counter: 1/3\n"
     ]
    },
    {
     "name": "stderr",
     "output_type": "stream",
     "text": [
      "[I 2025-06-13 19:51:46,612] Trial 0 finished with value: 0.006937196591991379 and parameters: {'n_estimators': 161, 'learning_rate': 0.2737447785337221, 'num_leaves': 142, 'max_depth': 7, 'min_child_samples': 1, 'subsample': 0.637513741218936, 'colsample_bytree': 0.693827018861158, 'reg_alpha': 2.290273820336508, 'reg_lambda': 8.496892949507913, 'min_split_gain': 0.04022373712575306}. Best is trial 0 with value: 0.006937196591991379.\n"
     ]
    },
    {
     "name": "stdout",
     "output_type": "stream",
     "text": [
      "[Trial 0] New best: 0.00694\n"
     ]
    },
    {
     "name": "stderr",
     "output_type": "stream",
     "text": [
      "[I 2025-06-13 19:51:46,949] A new study created in memory with name: no-name-dd3de740-1eca-483f-89b1-9c2420828606\n",
      "[I 2025-06-13 19:51:47,038] Trial 5 finished with value: 0.010612798931531673 and parameters: {'n_estimators': 115, 'learning_rate': 0.2621969976864944, 'num_leaves': 186, 'max_depth': 12, 'min_child_samples': 5, 'subsample': 0.8313052161304695, 'colsample_bytree': 0.7534776543431587, 'reg_alpha': 4.987327400963185, 'reg_lambda': 8.381306992820386, 'min_split_gain': 0.039120539847191764}. Best is trial 4 with value: 0.008781602252016386.\n"
     ]
    },
    {
     "name": "stdout",
     "output_type": "stream",
     "text": [
      "long model ************************\n",
      "             feature  importance\n",
      "0        Price_lag_1         485\n",
      "1        Price_lag_2         407\n",
      "3      Load_DA_lag_0         238\n",
      "2        Price_lag_7         179\n",
      "11        NGas_lag_2         145\n",
      "10        Coal_lag_2         118\n",
      "13         EUA_lag_2         118\n",
      "12         Oil_lag_2          95\n",
      "5    WindOn_DA_lag_0          76\n",
      "9               WD_7           4\n",
      "4     Solar_DA_lag_0           0\n",
      "6   WindOff_DA_lag_0           0\n",
      "7               WD_1           0\n",
      "8               WD_6           0\n",
      "short model ************************\n",
      "             feature  importance\n",
      "0        Price_lag_1         383\n",
      "3      Load_DA_lag_0         142\n",
      "2        Price_lag_7         121\n",
      "1        Price_lag_2          97\n",
      "5    WindOn_DA_lag_0          66\n",
      "11        NGas_lag_2          36\n",
      "7               WD_1          26\n",
      "13         EUA_lag_2          19\n",
      "10        Coal_lag_2          17\n",
      "12         Oil_lag_2           8\n",
      "8               WD_6           6\n",
      "9               WD_7           2\n",
      "4     Solar_DA_lag_0           0\n",
      "6   WindOff_DA_lag_0           0\n",
      "-> finished loop 15\n",
      "Loop  19: train 2019-03-21 00:00:00 -> 2023-01-19 00:00:00, forecast 2023-01-20 00:00:00\n",
      "  dat_slice shape: torch.Size([1402, 24, 10])  → flatten count = 33648\n",
      "[Trial 5] No significant gain (Δ ≤ 0.001). Counter: 1/3\n"
     ]
    },
    {
     "name": "stderr",
     "output_type": "stream",
     "text": [
      "[I 2025-06-13 19:51:47,779] A new study created in memory with name: no-name-22c2d51d-07b0-46a9-bfcd-5de48a557802\n"
     ]
    },
    {
     "name": "stdout",
     "output_type": "stream",
     "text": [
      "long model ************************\n",
      "             feature  importance\n",
      "0        Price_lag_1         686\n",
      "1        Price_lag_2         643\n",
      "3      Load_DA_lag_0         332\n",
      "2        Price_lag_7         276\n",
      "11        NGas_lag_2         181\n",
      "10        Coal_lag_2         168\n",
      "5    WindOn_DA_lag_0         160\n",
      "13         EUA_lag_2         157\n",
      "12         Oil_lag_2         120\n",
      "9               WD_7          14\n",
      "7               WD_1           2\n",
      "8               WD_6           2\n",
      "4     Solar_DA_lag_0           0\n",
      "6   WindOff_DA_lag_0           0\n",
      "short model ************************\n",
      "             feature  importance\n",
      "0        Price_lag_1         305\n",
      "3      Load_DA_lag_0          67\n",
      "2        Price_lag_7          27\n",
      "1        Price_lag_2          21\n",
      "11        NGas_lag_2           9\n",
      "5    WindOn_DA_lag_0           3\n",
      "7               WD_1           3\n",
      "12         Oil_lag_2           1\n",
      "4     Solar_DA_lag_0           0\n",
      "6   WindOff_DA_lag_0           0\n",
      "8               WD_6           0\n",
      "9               WD_7           0\n",
      "10        Coal_lag_2           0\n",
      "13         EUA_lag_2           0\n",
      "-> finished loop 16\n",
      "Loop  20: train 2019-03-22 00:00:00 -> 2023-01-20 00:00:00, forecast 2023-01-21 00:00:00\n",
      "  dat_slice shape: torch.Size([1402, 24, 10])  → flatten count = 33648\n"
     ]
    },
    {
     "name": "stderr",
     "output_type": "stream",
     "text": [
      "[I 2025-06-13 19:51:48,351] Trial 2 finished with value: 0.007745791938635178 and parameters: {'n_estimators': 215, 'learning_rate': 0.061060679191040704, 'num_leaves': 77, 'max_depth': 4, 'min_child_samples': 28, 'subsample': 0.7782229538021108, 'colsample_bytree': 0.5423315229606742, 'reg_alpha': 4.735352029956688, 'reg_lambda': 8.791125839486345, 'min_split_gain': 0.03112597156300728}. Best is trial 0 with value: 0.007148204658272543.\n"
     ]
    },
    {
     "name": "stdout",
     "output_type": "stream",
     "text": [
      "[Trial 2] No significant gain (Δ ≤ 0.001). Counter: 2/3\n"
     ]
    },
    {
     "name": "stderr",
     "output_type": "stream",
     "text": [
      "[I 2025-06-13 19:51:49,387] Trial 6 finished with value: 0.010586016312550024 and parameters: {'n_estimators': 99, 'learning_rate': 0.1225334886762227, 'num_leaves': 122, 'max_depth': 6, 'min_child_samples': 18, 'subsample': 0.68115122200082, 'colsample_bytree': 0.6987215465950701, 'reg_alpha': 0.6497573254202449, 'reg_lambda': 8.713745810766191, 'min_split_gain': 0.037420222077967434}. Best is trial 4 with value: 0.008781602252016386.\n"
     ]
    },
    {
     "name": "stdout",
     "output_type": "stream",
     "text": [
      "[Trial 6] No significant gain (Δ ≤ 0.001). Counter: 2/3\n"
     ]
    },
    {
     "name": "stderr",
     "output_type": "stream",
     "text": [
      "[I 2025-06-13 19:51:49,948] Trial 0 finished with value: 0.04445125792730967 and parameters: {'n_estimators': 66, 'learning_rate': 0.019605866802513795, 'num_leaves': 60, 'max_depth': 8, 'min_child_samples': 6, 'subsample': 0.5651847829070255, 'colsample_bytree': 0.7789547945264085, 'reg_alpha': 7.714829707476177, 'reg_lambda': 1.0253934896358974, 'min_split_gain': 0.03454330956260021}. Best is trial 0 with value: 0.04445125792730967.\n",
      "[I 2025-06-13 19:51:50,061] Trial 3 finished with value: 0.009699961583876976 and parameters: {'n_estimators': 131, 'learning_rate': 0.11541493813769929, 'num_leaves': 99, 'max_depth': 6, 'min_child_samples': 11, 'subsample': 0.674665271444215, 'colsample_bytree': 0.9542644649171738, 'reg_alpha': 9.591313105227384, 'reg_lambda': 8.451355331523228, 'min_split_gain': 0.023908644361157406}. Best is trial 0 with value: 0.007148204658272543.\n",
      "[I 2025-06-13 19:51:50,065] A new study created in memory with name: no-name-e93ac427-f914-421a-b43c-2c9be397d141\n",
      "[I 2025-06-13 19:51:50,067] Trial 0 finished with value: 0.005034351196459431 and parameters: {'n_estimators': 236, 'learning_rate': 0.12270340893099646, 'num_leaves': 149, 'max_depth': 12, 'min_child_samples': 8, 'subsample': 0.5740691579169472, 'colsample_bytree': 0.813808558989014, 'reg_alpha': 9.261122206387798, 'reg_lambda': 3.7276748471155186, 'min_split_gain': 0.005758234908128302}. Best is trial 0 with value: 0.005034351196459431.\n"
     ]
    },
    {
     "name": "stdout",
     "output_type": "stream",
     "text": [
      "[Trial 0] New best: 0.04445\n",
      "[Trial 3] No significant gain (Δ ≤ 0.001). Counter: 3/3\n",
      "\n",
      "⏹️  Early stop: no gain > 0.001 in last 3 trials.\n",
      "[Trial 0] New best: 0.00503\n"
     ]
    },
    {
     "name": "stderr",
     "output_type": "stream",
     "text": [
      "[I 2025-06-13 19:51:50,266] Trial 1 finished with value: 0.0126053712277982 and parameters: {'n_estimators': 138, 'learning_rate': 0.01402157418537762, 'num_leaves': 45, 'max_depth': 8, 'min_child_samples': 24, 'subsample': 0.7863544657718711, 'colsample_bytree': 0.9408869539441049, 'reg_alpha': 7.275642866111143, 'reg_lambda': 3.6631330669039617, 'min_split_gain': 0.03592912305572845}. Best is trial 0 with value: 0.006937196591991379.\n",
      "[I 2025-06-13 19:51:50,410] Trial 0 finished with value: 0.026171219335772097 and parameters: {'n_estimators': 113, 'learning_rate': 0.14020915706052114, 'num_leaves': 166, 'max_depth': 9, 'min_child_samples': 29, 'subsample': 0.7743380120979391, 'colsample_bytree': 0.8010161161138656, 'reg_alpha': 7.71789651525543, 'reg_lambda': 4.521467493737985, 'min_split_gain': 0.033150026207364354}. Best is trial 0 with value: 0.026171219335772097.\n"
     ]
    },
    {
     "name": "stdout",
     "output_type": "stream",
     "text": [
      "[Trial 1] No significant gain (Δ ≤ 0.001). Counter: 1/3\n",
      "[Trial 0] No significant gain (Δ ≤ 0.001). Counter: 4/3\n",
      "\n",
      "⏹️  Early stop: no gain > 0.001 in last 3 trials.\n"
     ]
    },
    {
     "name": "stderr",
     "output_type": "stream",
     "text": [
      "[I 2025-06-13 19:51:50,695] A new study created in memory with name: no-name-0efce1dd-f7d6-4d7b-bdaa-98e727212a1c\n"
     ]
    },
    {
     "name": "stdout",
     "output_type": "stream",
     "text": [
      "long model ************************\n",
      "             feature  importance\n",
      "0        Price_lag_1        1925\n",
      "1        Price_lag_2        1766\n",
      "3      Load_DA_lag_0        1555\n",
      "5    WindOn_DA_lag_0        1345\n",
      "2        Price_lag_7        1001\n",
      "11        NGas_lag_2         742\n",
      "10        Coal_lag_2         702\n",
      "12         Oil_lag_2         564\n",
      "13         EUA_lag_2         496\n",
      "9               WD_7          57\n",
      "7               WD_1          20\n",
      "8               WD_6           4\n",
      "4     Solar_DA_lag_0           0\n",
      "6   WindOff_DA_lag_0           0\n",
      "short model ************************\n",
      "             feature  importance\n",
      "0        Price_lag_1         210\n",
      "3      Load_DA_lag_0          20\n",
      "5    WindOn_DA_lag_0           1\n",
      "1        Price_lag_2           0\n",
      "2        Price_lag_7           0\n",
      "4     Solar_DA_lag_0           0\n",
      "6   WindOff_DA_lag_0           0\n",
      "7               WD_1           0\n",
      "8               WD_6           0\n",
      "9               WD_7           0\n",
      "10        Coal_lag_2           0\n",
      "11        NGas_lag_2           0\n",
      "12         Oil_lag_2           0\n",
      "13         EUA_lag_2           0\n",
      "-> finished loop 10\n",
      "Loop  21: train 2019-03-23 00:00:00 -> 2023-01-21 00:00:00, forecast 2023-01-22 00:00:00\n",
      "  dat_slice shape: torch.Size([1402, 24, 10])  → flatten count = 33648\n"
     ]
    },
    {
     "name": "stderr",
     "output_type": "stream",
     "text": [
      "[I 2025-06-13 19:51:56,063] Trial 0 finished with value: 0.01672187167322747 and parameters: {'n_estimators': 154, 'learning_rate': 0.026241188427855628, 'num_leaves': 46, 'max_depth': 15, 'min_child_samples': 14, 'subsample': 0.5169570394847831, 'colsample_bytree': 0.9404840678776112, 'reg_alpha': 8.27931903116724, 'reg_lambda': 6.71475107444903, 'min_split_gain': 0.005271111823195457}. Best is trial 0 with value: 0.01672187167322747.\n"
     ]
    },
    {
     "name": "stdout",
     "output_type": "stream",
     "text": [
      "[Trial 0] New best: 0.01672\n"
     ]
    },
    {
     "name": "stderr",
     "output_type": "stream",
     "text": [
      "[I 2025-06-13 19:51:58,144] A new study created in memory with name: no-name-2ed13085-f097-4d4e-8af5-8dba4209507c\n"
     ]
    },
    {
     "name": "stdout",
     "output_type": "stream",
     "text": [
      "long model ************************\n",
      "             feature  importance\n",
      "0        Price_lag_1        1426\n",
      "1        Price_lag_2        1340\n",
      "3      Load_DA_lag_0         977\n",
      "2        Price_lag_7         883\n",
      "5    WindOn_DA_lag_0         655\n",
      "10        Coal_lag_2         644\n",
      "13         EUA_lag_2         577\n",
      "12         Oil_lag_2         558\n",
      "11        NGas_lag_2         472\n",
      "9               WD_7          31\n",
      "7               WD_1          10\n",
      "8               WD_6           6\n",
      "4     Solar_DA_lag_0           0\n",
      "6   WindOff_DA_lag_0           0\n",
      "short model ************************\n",
      "             feature  importance\n",
      "0        Price_lag_1          51\n",
      "3      Load_DA_lag_0          13\n",
      "1        Price_lag_2           4\n",
      "12         Oil_lag_2           1\n",
      "2        Price_lag_7           0\n",
      "4     Solar_DA_lag_0           0\n",
      "5    WindOn_DA_lag_0           0\n",
      "6   WindOff_DA_lag_0           0\n",
      "7               WD_1           0\n",
      "8               WD_6           0\n",
      "9               WD_7           0\n",
      "10        Coal_lag_2           0\n",
      "11        NGas_lag_2           0\n",
      "13         EUA_lag_2           0\n",
      "-> finished loop 17\n",
      "Loop  22: train 2019-03-24 00:00:00 -> 2023-01-22 00:00:00, forecast 2023-01-23 00:00:00\n",
      "  dat_slice shape: torch.Size([1402, 24, 10])  → flatten count = 33648\n"
     ]
    },
    {
     "name": "stderr",
     "output_type": "stream",
     "text": [
      "[I 2025-06-13 19:51:59,139] Trial 1 finished with value: 0.006919420705828995 and parameters: {'n_estimators': 273, 'learning_rate': 0.010357416737341479, 'num_leaves': 82, 'max_depth': 14, 'min_child_samples': 7, 'subsample': 0.5136383939799664, 'colsample_bytree': 0.9424302084032631, 'reg_alpha': 7.662115060419506, 'reg_lambda': 9.449971077881504, 'min_split_gain': 0.047914784150122194}. Best is trial 0 with value: 0.005034351196459431.\n",
      "[I 2025-06-13 19:51:59,278] Trial 2 finished with value: 0.00610733820098809 and parameters: {'n_estimators': 276, 'learning_rate': 0.045649187139508114, 'num_leaves': 123, 'max_depth': 10, 'min_child_samples': 2, 'subsample': 0.9953760033741403, 'colsample_bytree': 0.5508928700369735, 'reg_alpha': 3.2018553090577075, 'reg_lambda': 3.750547659673483, 'min_split_gain': 0.03343441435617264}. Best is trial 2 with value: 0.00610733820098809.\n"
     ]
    },
    {
     "name": "stdout",
     "output_type": "stream",
     "text": [
      "[Trial 1] No significant gain (Δ ≤ 0.001). Counter: 1/3\n",
      "[Trial 2] No significant gain (Δ ≤ 0.001). Counter: 2/3\n"
     ]
    },
    {
     "name": "stderr",
     "output_type": "stream",
     "text": [
      "[I 2025-06-13 19:52:00,222] Trial 1 finished with value: 0.08434648982312065 and parameters: {'n_estimators': 86, 'learning_rate': 0.013304178106344095, 'num_leaves': 126, 'max_depth': 16, 'min_child_samples': 24, 'subsample': 0.8420937301124347, 'colsample_bytree': 0.5864199369748624, 'reg_alpha': 3.826188676106402, 'reg_lambda': 3.409137067730048, 'min_split_gain': 0.04246017725310772}. Best is trial 0 with value: 0.01672187167322747.\n"
     ]
    },
    {
     "name": "stdout",
     "output_type": "stream",
     "text": [
      "[Trial 1] No significant gain (Δ ≤ 0.001). Counter: 1/3\n"
     ]
    },
    {
     "name": "stderr",
     "output_type": "stream",
     "text": [
      "[I 2025-06-13 19:52:04,387] Trial 3 finished with value: 0.0070083099693476385 and parameters: {'n_estimators': 193, 'learning_rate': 0.022382432756072712, 'num_leaves': 214, 'max_depth': 5, 'min_child_samples': 22, 'subsample': 0.6001030286611077, 'colsample_bytree': 0.7077483878190076, 'reg_alpha': 8.6715911028578, 'reg_lambda': 6.494346585636885, 'min_split_gain': 0.0064142780500414665}. Best is trial 2 with value: 0.00610733820098809.\n",
      "[I 2025-06-13 19:52:04,391] A new study created in memory with name: no-name-08e7ca1f-2ee2-49df-ba6c-a3e6d892ae58\n"
     ]
    },
    {
     "name": "stdout",
     "output_type": "stream",
     "text": [
      "[Trial 3] No significant gain (Δ ≤ 0.001). Counter: 3/3\n",
      "\n",
      "⏹️  Early stop: no gain > 0.001 in last 3 trials.\n"
     ]
    },
    {
     "name": "stderr",
     "output_type": "stream",
     "text": [
      "[I 2025-06-13 19:52:04,739] Trial 2 finished with value: 0.015860291194364027 and parameters: {'n_estimators': 243, 'learning_rate': 0.0703457767674565, 'num_leaves': 222, 'max_depth': 11, 'min_child_samples': 27, 'subsample': 0.6107469260600491, 'colsample_bytree': 0.7333763191760397, 'reg_alpha': 8.226916657158945, 'reg_lambda': 8.631733855763603, 'min_split_gain': 0.0314525358371039}. Best is trial 2 with value: 0.015860291194364027.\n",
      "[I 2025-06-13 19:52:04,830] Trial 7 finished with value: 0.007662338721787769 and parameters: {'n_estimators': 148, 'learning_rate': 0.043456743004553836, 'num_leaves': 159, 'max_depth': 16, 'min_child_samples': 4, 'subsample': 0.7266579042453347, 'colsample_bytree': 0.8087227221625757, 'reg_alpha': 1.0623223534011528, 'reg_lambda': 1.4847549131685334, 'min_split_gain': 0.028540519910234444}. Best is trial 7 with value: 0.007662338721787769.\n"
     ]
    },
    {
     "name": "stdout",
     "output_type": "stream",
     "text": [
      "[Trial 2] No significant gain (Δ ≤ 0.001). Counter: 2/3\n",
      "[Trial 7] New best: 0.00766\n"
     ]
    },
    {
     "name": "stderr",
     "output_type": "stream",
     "text": [
      "[I 2025-06-13 19:52:05,143] Trial 0 finished with value: 0.015624364958658404 and parameters: {'n_estimators': 56, 'learning_rate': 0.028277800335463267, 'num_leaves': 76, 'max_depth': 5, 'min_child_samples': 7, 'subsample': 0.7876700270869452, 'colsample_bytree': 0.8959463830048133, 'reg_alpha': 4.7657396273035655, 'reg_lambda': 8.583528735530138, 'min_split_gain': 0.017054626187372475}. Best is trial 0 with value: 0.015624364958658404.\n"
     ]
    },
    {
     "name": "stdout",
     "output_type": "stream",
     "text": [
      "[Trial 0] No significant gain (Δ ≤ 0.001). Counter: 4/3\n",
      "\n",
      "⏹️  Early stop: no gain > 0.001 in last 3 trials.\n"
     ]
    },
    {
     "name": "stderr",
     "output_type": "stream",
     "text": [
      "[I 2025-06-13 19:52:06,172] Trial 0 finished with value: 0.013280998752582441 and parameters: {'n_estimators': 181, 'learning_rate': 0.03232884268880779, 'num_leaves': 131, 'max_depth': 10, 'min_child_samples': 2, 'subsample': 0.9627706212870356, 'colsample_bytree': 0.7099728695905634, 'reg_alpha': 9.412403177324155, 'reg_lambda': 2.74440172510222, 'min_split_gain': 0.018542559683501963}. Best is trial 0 with value: 0.013280998752582441.\n"
     ]
    },
    {
     "name": "stdout",
     "output_type": "stream",
     "text": [
      "[Trial 0] New best: 0.01328\n"
     ]
    },
    {
     "name": "stderr",
     "output_type": "stream",
     "text": [
      "[I 2025-06-13 19:52:07,536] Trial 1 finished with value: 0.00862314745849435 and parameters: {'n_estimators': 162, 'learning_rate': 0.02762981413067111, 'num_leaves': 93, 'max_depth': 15, 'min_child_samples': 14, 'subsample': 0.6370440556201491, 'colsample_bytree': 0.9825807968360277, 'reg_alpha': 0.47299584532948247, 'reg_lambda': 0.9621491112100111, 'min_split_gain': 0.04296366322085085}. Best is trial 1 with value: 0.00862314745849435.\n"
     ]
    },
    {
     "name": "stdout",
     "output_type": "stream",
     "text": [
      "[Trial 1] New best: 0.00862\n"
     ]
    },
    {
     "name": "stderr",
     "output_type": "stream",
     "text": [
      "[I 2025-06-13 19:52:08,025] Trial 2 finished with value: 0.005038480222442433 and parameters: {'n_estimators': 187, 'learning_rate': 0.09013772705785013, 'num_leaves': 87, 'max_depth': 6, 'min_child_samples': 10, 'subsample': 0.6621466813555013, 'colsample_bytree': 0.9291257519895517, 'reg_alpha': 0.8117795557357066, 'reg_lambda': 9.014149875905998, 'min_split_gain': 0.005427196722080269}. Best is trial 0 with value: 0.005034351196459431.\n"
     ]
    },
    {
     "name": "stdout",
     "output_type": "stream",
     "text": [
      "[Trial 2] No significant gain (Δ ≤ 0.001). Counter: 2/3\n"
     ]
    },
    {
     "name": "stderr",
     "output_type": "stream",
     "text": [
      "[I 2025-06-13 19:52:10,783] Trial 8 finished with value: 0.011165939558349122 and parameters: {'n_estimators': 109, 'learning_rate': 0.032169427359245974, 'num_leaves': 252, 'max_depth': 15, 'min_child_samples': 4, 'subsample': 0.7023291512779921, 'colsample_bytree': 0.8134716717471087, 'reg_alpha': 4.933014090257052, 'reg_lambda': 3.464801062966816, 'min_split_gain': 0.008558248299677102}. Best is trial 7 with value: 0.007662338721787769.\n"
     ]
    },
    {
     "name": "stdout",
     "output_type": "stream",
     "text": [
      "[Trial 8] No significant gain (Δ ≤ 0.001). Counter: 1/3\n"
     ]
    },
    {
     "name": "stderr",
     "output_type": "stream",
     "text": [
      "[I 2025-06-13 19:52:11,271] Trial 3 finished with value: 0.01625758721279198 and parameters: {'n_estimators': 143, 'learning_rate': 0.04388934537913489, 'num_leaves': 37, 'max_depth': 15, 'min_child_samples': 20, 'subsample': 0.906946180660765, 'colsample_bytree': 0.7595333845650716, 'reg_alpha': 1.279066731189139, 'reg_lambda': 8.285917953782132, 'min_split_gain': 0.01383894312342225}. Best is trial 2 with value: 0.015860291194364027.\n",
      "[I 2025-06-13 19:52:11,274] A new study created in memory with name: no-name-919c81c7-0ef0-49cc-b6d4-c0415a2c875d\n"
     ]
    },
    {
     "name": "stdout",
     "output_type": "stream",
     "text": [
      "[Trial 3] No significant gain (Δ ≤ 0.001). Counter: 3/3\n",
      "\n",
      "⏹️  Early stop: no gain > 0.001 in last 3 trials.\n"
     ]
    },
    {
     "name": "stderr",
     "output_type": "stream",
     "text": [
      "[I 2025-06-13 19:52:11,509] Trial 0 finished with value: 0.050700557158328184 and parameters: {'n_estimators': 143, 'learning_rate': 0.1647750719177754, 'num_leaves': 46, 'max_depth': 11, 'min_child_samples': 23, 'subsample': 0.8266687948329488, 'colsample_bytree': 0.5517183708404532, 'reg_alpha': 5.8284790150358905, 'reg_lambda': 5.599108619168952, 'min_split_gain': 0.04746066968352186}. Best is trial 0 with value: 0.050700557158328184.\n"
     ]
    },
    {
     "name": "stdout",
     "output_type": "stream",
     "text": [
      "[Trial 0] No significant gain (Δ ≤ 0.001). Counter: 4/3\n",
      "\n",
      "⏹️  Early stop: no gain > 0.001 in last 3 trials.\n"
     ]
    },
    {
     "name": "stderr",
     "output_type": "stream",
     "text": [
      "[I 2025-06-13 19:52:11,909] Trial 1 finished with value: 0.012129028828686321 and parameters: {'n_estimators': 151, 'learning_rate': 0.03959471089186065, 'num_leaves': 250, 'max_depth': 7, 'min_child_samples': 29, 'subsample': 0.5533833350962183, 'colsample_bytree': 0.8604266009315105, 'reg_alpha': 2.626039249822698, 'reg_lambda': 8.831372122775656, 'min_split_gain': 0.010032123761210921}. Best is trial 1 with value: 0.012129028828686321.\n"
     ]
    },
    {
     "name": "stdout",
     "output_type": "stream",
     "text": [
      "[Trial 1] New best: 0.01213\n"
     ]
    },
    {
     "name": "stderr",
     "output_type": "stream",
     "text": [
      "[I 2025-06-13 19:52:12,673] Trial 9 finished with value: 0.014300256831871833 and parameters: {'n_estimators': 114, 'learning_rate': 0.17352169928530936, 'num_leaves': 34, 'max_depth': 16, 'min_child_samples': 19, 'subsample': 0.7135115989604743, 'colsample_bytree': 0.5625466503737597, 'reg_alpha': 6.762559053102175, 'reg_lambda': 0.6525652374649793, 'min_split_gain': 0.017245411823561315}. Best is trial 7 with value: 0.007662338721787769.\n",
      "[I 2025-06-13 19:52:12,677] A new study created in memory with name: no-name-037f9c77-6c39-4095-8747-6b47207a58ad\n",
      "[I 2025-06-13 19:52:12,690] A new study created in memory with name: no-name-592e25d5-2965-49ef-a484-c604bcacde25\n"
     ]
    },
    {
     "name": "stdout",
     "output_type": "stream",
     "text": [
      "long model ************************\n",
      "             feature  importance\n",
      "0        Price_lag_1        1407\n",
      "1        Price_lag_2        1146\n",
      "3      Load_DA_lag_0        1001\n",
      "2        Price_lag_7         754\n",
      "10        Coal_lag_2         584\n",
      "5    WindOn_DA_lag_0         551\n",
      "13         EUA_lag_2         463\n",
      "11        NGas_lag_2         388\n",
      "12         Oil_lag_2         361\n",
      "9               WD_7          49\n",
      "7               WD_1           8\n",
      "8               WD_6           2\n",
      "4     Solar_DA_lag_0           0\n",
      "6   WindOff_DA_lag_0           0\n",
      "short model ************************\n",
      "             feature  importance\n",
      "0        Price_lag_1         140\n",
      "3      Load_DA_lag_0          52\n",
      "2        Price_lag_7          16\n",
      "7               WD_1          15\n",
      "1        Price_lag_2          12\n",
      "5    WindOn_DA_lag_0           3\n",
      "4     Solar_DA_lag_0           0\n",
      "6   WindOff_DA_lag_0           0\n",
      "8               WD_6           0\n",
      "9               WD_7           0\n",
      "10        Coal_lag_2           0\n",
      "11        NGas_lag_2           0\n",
      "12         Oil_lag_2           0\n",
      "13         EUA_lag_2           0\n",
      "-> finished loop 18\n",
      "Loop  23: train 2019-03-25 00:00:00 -> 2023-01-23 00:00:00, forecast 2023-01-24 00:00:00\n",
      "  dat_slice shape: torch.Size([1402, 24, 10])  → flatten count = 33648\n",
      "[Trial 9] No significant gain (Δ ≤ 0.001). Counter: 2/3\n"
     ]
    },
    {
     "name": "stderr",
     "output_type": "stream",
     "text": [
      "[I 2025-06-13 19:52:12,971] Trial 0 finished with value: 0.06501819286355197 and parameters: {'n_estimators': 154, 'learning_rate': 0.17811594095464392, 'num_leaves': 149, 'max_depth': 9, 'min_child_samples': 10, 'subsample': 0.5284074990067895, 'colsample_bytree': 0.8001965276073992, 'reg_alpha': 9.788935116065126, 'reg_lambda': 2.9775161855731627, 'min_split_gain': 0.009132554666500592}. Best is trial 0 with value: 0.06501819286355197.\n"
     ]
    },
    {
     "name": "stdout",
     "output_type": "stream",
     "text": [
      "[Trial 0] No significant gain (Δ ≤ 0.001). Counter: 3/3\n",
      "\n",
      "⏹️  Early stop: no gain > 0.001 in last 3 trials.\n"
     ]
    },
    {
     "name": "stderr",
     "output_type": "stream",
     "text": [
      "[I 2025-06-13 19:52:13,664] Trial 0 finished with value: 0.01072842729392809 and parameters: {'n_estimators': 103, 'learning_rate': 0.1259431728542614, 'num_leaves': 152, 'max_depth': 4, 'min_child_samples': 12, 'subsample': 0.8451589357840337, 'colsample_bytree': 0.9834401114209522, 'reg_alpha': 9.452446165850505, 'reg_lambda': 3.6038515866324703, 'min_split_gain': 0.015580440102090604}. Best is trial 0 with value: 0.01072842729392809.\n"
     ]
    },
    {
     "name": "stdout",
     "output_type": "stream",
     "text": [
      "[Trial 0] New best: 0.01073\n"
     ]
    },
    {
     "name": "stderr",
     "output_type": "stream",
     "text": [
      "[I 2025-06-13 19:52:14,906] Trial 1 finished with value: 0.011942540424985826 and parameters: {'n_estimators': 144, 'learning_rate': 0.14973118873082067, 'num_leaves': 41, 'max_depth': 8, 'min_child_samples': 26, 'subsample': 0.7644166229760092, 'colsample_bytree': 0.5767946504322073, 'reg_alpha': 9.115544788409473, 'reg_lambda': 2.910405173369245, 'min_split_gain': 0.033406001209553504}. Best is trial 0 with value: 0.01072842729392809.\n"
     ]
    },
    {
     "name": "stdout",
     "output_type": "stream",
     "text": [
      "long model ************************\n",
      "             feature  importance\n",
      "0        Price_lag_1         679\n",
      "1        Price_lag_2         545\n",
      "3      Load_DA_lag_0         267\n",
      "2        Price_lag_7         246\n",
      "11        NGas_lag_2         156\n",
      "5    WindOn_DA_lag_0         153\n",
      "10        Coal_lag_2         129\n",
      "13         EUA_lag_2         106\n",
      "12         Oil_lag_2          99\n",
      "9               WD_7           4\n",
      "7               WD_1           1\n",
      "8               WD_6           1\n",
      "4     Solar_DA_lag_0           0\n",
      "6   WindOff_DA_lag_0           0\n",
      "short model ************************\n",
      "             feature  importance\n",
      "0        Price_lag_1          41\n",
      "3      Load_DA_lag_0          12\n",
      "13         EUA_lag_2           4\n",
      "1        Price_lag_2           3\n",
      "2        Price_lag_7           0\n",
      "4     Solar_DA_lag_0           0\n",
      "5    WindOn_DA_lag_0           0\n",
      "6   WindOff_DA_lag_0           0\n",
      "7               WD_1           0\n",
      "8               WD_6           0\n",
      "9               WD_7           0\n",
      "10        Coal_lag_2           0\n",
      "11        NGas_lag_2           0\n",
      "12         Oil_lag_2           0\n",
      "-> finished loop 21\n",
      "[Trial 1] No significant gain (Δ ≤ 0.001). Counter: 1/3\n"
     ]
    },
    {
     "name": "stderr",
     "output_type": "stream",
     "text": [
      "[I 2025-06-13 19:52:15,357] Trial 2 finished with value: 0.012580960637139676 and parameters: {'n_estimators': 125, 'learning_rate': 0.03144751592067964, 'num_leaves': 249, 'max_depth': 12, 'min_child_samples': 27, 'subsample': 0.968871412855467, 'colsample_bytree': 0.9572531527668491, 'reg_alpha': 5.3596616143537865, 'reg_lambda': 5.890529837533192, 'min_split_gain': 0.03029664792269306}. Best is trial 1 with value: 0.012129028828686321.\n"
     ]
    },
    {
     "name": "stdout",
     "output_type": "stream",
     "text": [
      "[Trial 2] No significant gain (Δ ≤ 0.001). Counter: 1/3\n"
     ]
    },
    {
     "name": "stderr",
     "output_type": "stream",
     "text": [
      "[I 2025-06-13 19:52:15,648] Trial 2 finished with value: 0.010045364520918485 and parameters: {'n_estimators': 197, 'learning_rate': 0.017337399706519263, 'num_leaves': 197, 'max_depth': 13, 'min_child_samples': 21, 'subsample': 0.5765862045821144, 'colsample_bytree': 0.9737510264908282, 'reg_alpha': 2.59905327784135, 'reg_lambda': 5.642570650619531, 'min_split_gain': 0.025664192458073692}. Best is trial 1 with value: 0.00862314745849435.\n"
     ]
    },
    {
     "name": "stdout",
     "output_type": "stream",
     "text": [
      "[Trial 2] No significant gain (Δ ≤ 0.001). Counter: 1/3\n",
      "long model ************************\n",
      "             feature  importance\n",
      "3      Load_DA_lag_0        4724\n",
      "1        Price_lag_2        4582\n",
      "5    WindOn_DA_lag_0        4289\n",
      "2        Price_lag_7        3908\n",
      "0        Price_lag_1        3852\n",
      "10        Coal_lag_2        2772\n",
      "11        NGas_lag_2        2304\n",
      "13         EUA_lag_2        1985\n",
      "12         Oil_lag_2        1752\n",
      "9               WD_7         142\n",
      "8               WD_6          61\n",
      "7               WD_1          29\n",
      "4     Solar_DA_lag_0           0\n",
      "6   WindOff_DA_lag_0           0\n",
      "short model ************************\n",
      "             feature  importance\n",
      "0        Price_lag_1         146\n",
      "3      Load_DA_lag_0          28\n",
      "1        Price_lag_2          12\n",
      "5    WindOn_DA_lag_0           6\n",
      "11        NGas_lag_2           2\n",
      "12         Oil_lag_2           1\n",
      "2        Price_lag_7           0\n",
      "4     Solar_DA_lag_0           0\n",
      "6   WindOff_DA_lag_0           0\n",
      "7               WD_1           0\n",
      "8               WD_6           0\n",
      "9               WD_7           0\n",
      "10        Coal_lag_2           0\n",
      "13         EUA_lag_2           0\n",
      "-> finished loop 9\n"
     ]
    },
    {
     "name": "stderr",
     "output_type": "stream",
     "text": [
      "[I 2025-06-13 19:52:17,481] Trial 3 finished with value: 0.008883297189886 and parameters: {'n_estimators': 132, 'learning_rate': 0.2056707065122794, 'num_leaves': 169, 'max_depth': 9, 'min_child_samples': 15, 'subsample': 0.8972383379588714, 'colsample_bytree': 0.5375014478574582, 'reg_alpha': 1.9410862852049204, 'reg_lambda': 5.802771632263612, 'min_split_gain': 0.02741139963360766}. Best is trial 1 with value: 0.00862314745849435.\n",
      "[I 2025-06-13 19:52:17,656] Trial 3 finished with value: 0.005768317745356115 and parameters: {'n_estimators': 219, 'learning_rate': 0.014959565325537202, 'num_leaves': 170, 'max_depth': 7, 'min_child_samples': 2, 'subsample': 0.9126360483286914, 'colsample_bytree': 0.9547549036976934, 'reg_alpha': 3.958443271290254, 'reg_lambda': 6.449763630596364, 'min_split_gain': 0.0025848466735580835}. Best is trial 0 with value: 0.005034351196459431.\n",
      "[I 2025-06-13 19:52:17,660] A new study created in memory with name: no-name-9a5198ce-7e0f-49a6-9e5e-5a9be163dab7\n"
     ]
    },
    {
     "name": "stdout",
     "output_type": "stream",
     "text": [
      "[Trial 3] No significant gain (Δ ≤ 0.001). Counter: 2/3\n",
      "[Trial 3] No significant gain (Δ ≤ 0.001). Counter: 3/3\n",
      "\n",
      "⏹️  Early stop: no gain > 0.001 in last 3 trials.\n"
     ]
    },
    {
     "name": "stderr",
     "output_type": "stream",
     "text": [
      "[I 2025-06-13 19:52:18,263] Trial 2 finished with value: 0.036069341238072865 and parameters: {'n_estimators': 100, 'learning_rate': 0.016544780965191207, 'num_leaves': 56, 'max_depth': 12, 'min_child_samples': 1, 'subsample': 0.6281757505552312, 'colsample_bytree': 0.5886638381247464, 'reg_alpha': 7.910494909378613, 'reg_lambda': 3.9425568593137985, 'min_split_gain': 0.03586924820379007}. Best is trial 0 with value: 0.01072842729392809.\n"
     ]
    },
    {
     "name": "stdout",
     "output_type": "stream",
     "text": [
      "[Trial 2] No significant gain (Δ ≤ 0.001). Counter: 2/3\n"
     ]
    },
    {
     "name": "stderr",
     "output_type": "stream",
     "text": [
      "[I 2025-06-13 19:52:18,660] Trial 0 finished with value: 0.013218490425660383 and parameters: {'n_estimators': 254, 'learning_rate': 0.01395795311000964, 'num_leaves': 155, 'max_depth': 5, 'min_child_samples': 26, 'subsample': 0.6569883872817261, 'colsample_bytree': 0.5076139128382595, 'reg_alpha': 4.181973068964821, 'reg_lambda': 7.449749989295121, 'min_split_gain': 0.029093684775746934}. Best is trial 0 with value: 0.013218490425660383.\n"
     ]
    },
    {
     "name": "stdout",
     "output_type": "stream",
     "text": [
      "[Trial 0] No significant gain (Δ ≤ 0.001). Counter: 4/3\n",
      "\n",
      "⏹️  Early stop: no gain > 0.001 in last 3 trials.\n"
     ]
    },
    {
     "name": "stderr",
     "output_type": "stream",
     "text": [
      "[I 2025-06-13 19:52:19,746] Trial 3 finished with value: 0.018109302675726118 and parameters: {'n_estimators': 67, 'learning_rate': 0.036666541544224274, 'num_leaves': 134, 'max_depth': 9, 'min_child_samples': 5, 'subsample': 0.9255921825131245, 'colsample_bytree': 0.985199460794098, 'reg_alpha': 9.611367095034478, 'reg_lambda': 3.448782241033699, 'min_split_gain': 0.01478517617507596}. Best is trial 0 with value: 0.01072842729392809.\n",
      "[I 2025-06-13 19:52:19,748] A new study created in memory with name: no-name-d6327195-c617-4f9d-bbd6-307bbf1b34b3\n"
     ]
    },
    {
     "name": "stdout",
     "output_type": "stream",
     "text": [
      "[Trial 3] No significant gain (Δ ≤ 0.001). Counter: 3/3\n",
      "\n",
      "⏹️  Early stop: no gain > 0.001 in last 3 trials.\n"
     ]
    },
    {
     "name": "stderr",
     "output_type": "stream",
     "text": [
      "[I 2025-06-13 19:52:20,393] Trial 0 finished with value: 0.049858160273284526 and parameters: {'n_estimators': 174, 'learning_rate': 0.014202014666470544, 'num_leaves': 68, 'max_depth': 14, 'min_child_samples': 14, 'subsample': 0.7367754337263939, 'colsample_bytree': 0.8945801076302993, 'reg_alpha': 7.778877319782152, 'reg_lambda': 3.522812935122912, 'min_split_gain': 0.018361461834454414}. Best is trial 0 with value: 0.049858160273284526.\n"
     ]
    },
    {
     "name": "stdout",
     "output_type": "stream",
     "text": [
      "[Trial 0] No significant gain (Δ ≤ 0.001). Counter: 4/3\n",
      "\n",
      "⏹️  Early stop: no gain > 0.001 in last 3 trials.\n"
     ]
    },
    {
     "name": "stderr",
     "output_type": "stream",
     "text": [
      "[I 2025-06-13 19:52:21,837] Trial 4 finished with value: 0.008726186989787242 and parameters: {'n_estimators': 91, 'learning_rate': 0.047758729292492814, 'num_leaves': 127, 'max_depth': 7, 'min_child_samples': 14, 'subsample': 0.7618761699482317, 'colsample_bytree': 0.8885069656087169, 'reg_alpha': 1.02324274473781, 'reg_lambda': 0.22895116562024365, 'min_split_gain': 0.024234254771105884}. Best is trial 1 with value: 0.00862314745849435.\n",
      "[I 2025-06-13 19:52:21,841] A new study created in memory with name: no-name-1f34ec8e-5cbd-4171-ad8a-12d078facba9\n"
     ]
    },
    {
     "name": "stdout",
     "output_type": "stream",
     "text": [
      "[Trial 4] No significant gain (Δ ≤ 0.001). Counter: 3/3\n",
      "\n",
      "⏹️  Early stop: no gain > 0.001 in last 3 trials.\n"
     ]
    },
    {
     "name": "stderr",
     "output_type": "stream",
     "text": [
      "[I 2025-06-13 19:52:22,197] Trial 0 finished with value: 0.06351411958014763 and parameters: {'n_estimators': 148, 'learning_rate': 0.05116578370373121, 'num_leaves': 214, 'max_depth': 14, 'min_child_samples': 26, 'subsample': 0.733806887442201, 'colsample_bytree': 0.8734006441931272, 'reg_alpha': 9.659593569065558, 'reg_lambda': 5.739266169317396, 'min_split_gain': 0.021962436472505453}. Best is trial 0 with value: 0.06351411958014763.\n"
     ]
    },
    {
     "name": "stdout",
     "output_type": "stream",
     "text": [
      "long model ************************\n",
      "             feature  importance\n",
      "0        Price_lag_1         353\n",
      "1        Price_lag_2         169\n",
      "3      Load_DA_lag_0         111\n",
      "2        Price_lag_7          99\n",
      "11        NGas_lag_2          97\n",
      "13         EUA_lag_2          67\n",
      "5    WindOn_DA_lag_0          54\n",
      "10        Coal_lag_2          53\n",
      "12         Oil_lag_2          48\n",
      "7               WD_1           2\n",
      "9               WD_7           1\n",
      "4     Solar_DA_lag_0           0\n",
      "6   WindOff_DA_lag_0           0\n",
      "8               WD_6           0\n",
      "short model ************************\n",
      "             feature  importance\n",
      "0        Price_lag_1         384\n",
      "3      Load_DA_lag_0          92\n",
      "1        Price_lag_2          15\n",
      "12         Oil_lag_2           1\n",
      "2        Price_lag_7           0\n",
      "4     Solar_DA_lag_0           0\n",
      "5    WindOn_DA_lag_0           0\n",
      "6   WindOff_DA_lag_0           0\n",
      "7               WD_1           0\n",
      "8               WD_6           0\n",
      "9               WD_7           0\n",
      "10        Coal_lag_2           0\n",
      "11        NGas_lag_2           0\n",
      "13         EUA_lag_2           0\n",
      "-> finished loop 23\n",
      "[Trial 0] No significant gain (Δ ≤ 0.001). Counter: 4/3\n",
      "\n",
      "⏹️  Early stop: no gain > 0.001 in last 3 trials.\n",
      "long model ************************\n",
      "             feature  importance\n",
      "1        Price_lag_2        2249\n",
      "0        Price_lag_1        2017\n",
      "3      Load_DA_lag_0        1710\n",
      "2        Price_lag_7        1198\n",
      "5    WindOn_DA_lag_0        1025\n",
      "11        NGas_lag_2         962\n",
      "10        Coal_lag_2         858\n",
      "12         Oil_lag_2         603\n",
      "13         EUA_lag_2         517\n",
      "9               WD_7          66\n",
      "7               WD_1           8\n",
      "8               WD_6           6\n",
      "4     Solar_DA_lag_0           0\n",
      "6   WindOff_DA_lag_0           0\n",
      "short model ************************\n",
      "             feature  importance\n",
      "0        Price_lag_1          43\n",
      "3      Load_DA_lag_0          14\n",
      "11        NGas_lag_2           5\n",
      "1        Price_lag_2           4\n",
      "5    WindOn_DA_lag_0           2\n",
      "2        Price_lag_7           0\n",
      "4     Solar_DA_lag_0           0\n",
      "6   WindOff_DA_lag_0           0\n",
      "7               WD_1           0\n",
      "8               WD_6           0\n",
      "9               WD_7           0\n",
      "10        Coal_lag_2           0\n",
      "12         Oil_lag_2           0\n",
      "13         EUA_lag_2           0\n",
      "-> finished loop 14\n",
      "long model ************************\n",
      "             feature  importance\n",
      "0        Price_lag_1         514\n",
      "1        Price_lag_2         494\n",
      "3      Load_DA_lag_0         330\n",
      "5    WindOn_DA_lag_0         262\n",
      "10        Coal_lag_2         221\n",
      "2        Price_lag_7         209\n",
      "11        NGas_lag_2         203\n",
      "13         EUA_lag_2         159\n",
      "12         Oil_lag_2         118\n",
      "9               WD_7          17\n",
      "7               WD_1           7\n",
      "8               WD_6           7\n",
      "4     Solar_DA_lag_0           0\n",
      "6   WindOff_DA_lag_0           0\n",
      "short model ************************\n",
      "             feature  importance\n",
      "0        Price_lag_1         358\n",
      "3      Load_DA_lag_0         150\n",
      "1        Price_lag_2          93\n",
      "5    WindOn_DA_lag_0          25\n",
      "2        Price_lag_7          17\n",
      "13         EUA_lag_2          16\n",
      "7               WD_1          14\n",
      "11        NGas_lag_2           7\n",
      "12         Oil_lag_2           7\n",
      "9               WD_7           6\n",
      "10        Coal_lag_2           2\n",
      "4     Solar_DA_lag_0           0\n",
      "6   WindOff_DA_lag_0           0\n",
      "8               WD_6           0\n",
      "-> finished loop 19\n"
     ]
    },
    {
     "name": "stderr",
     "output_type": "stream",
     "text": [
      "[I 2025-06-13 19:52:22,752] Trial 3 finished with value: 0.012427423691753906 and parameters: {'n_estimators': 267, 'learning_rate': 0.028960879033504985, 'num_leaves': 177, 'max_depth': 15, 'min_child_samples': 7, 'subsample': 0.7890628318960702, 'colsample_bytree': 0.6756339197313439, 'reg_alpha': 5.355548153054301, 'reg_lambda': 2.6176965441011992, 'min_split_gain': 0.022703376384096686}. Best is trial 1 with value: 0.012129028828686321.\n"
     ]
    },
    {
     "name": "stdout",
     "output_type": "stream",
     "text": [
      "[Trial 3] No significant gain (Δ ≤ 0.001). Counter: 2/3\n"
     ]
    },
    {
     "name": "stderr",
     "output_type": "stream",
     "text": [
      "[I 2025-06-13 19:52:23,847] Trial 4 finished with value: 0.010963881440292788 and parameters: {'n_estimators': 200, 'learning_rate': 0.16314293677222955, 'num_leaves': 104, 'max_depth': 13, 'min_child_samples': 14, 'subsample': 0.8113967480549197, 'colsample_bytree': 0.7422017679409949, 'reg_alpha': 2.532166759709903, 'reg_lambda': 3.20320005790855, 'min_split_gain': 0.031308974379339875}. Best is trial 4 with value: 0.010963881440292788.\n"
     ]
    },
    {
     "name": "stdout",
     "output_type": "stream",
     "text": [
      "[Trial 4] New best: 0.01096\n"
     ]
    },
    {
     "name": "stderr",
     "output_type": "stream",
     "text": [
      "[I 2025-06-13 19:52:27,702] Trial 5 finished with value: 0.012023253545083781 and parameters: {'n_estimators': 124, 'learning_rate': 0.049951302472026685, 'num_leaves': 204, 'max_depth': 16, 'min_child_samples': 23, 'subsample': 0.7085227051461848, 'colsample_bytree': 0.594952718825384, 'reg_alpha': 1.881413735501507, 'reg_lambda': 7.299193548131846, 'min_split_gain': 0.009123505473320899}. Best is trial 4 with value: 0.010963881440292788.\n"
     ]
    },
    {
     "name": "stdout",
     "output_type": "stream",
     "text": [
      "[Trial 5] No significant gain (Δ ≤ 0.001). Counter: 1/3\n",
      "long model ************************\n",
      "             feature  importance\n",
      "0        Price_lag_1        3257\n",
      "1        Price_lag_2        2691\n",
      "3      Load_DA_lag_0        1651\n",
      "2        Price_lag_7        1541\n",
      "11        NGas_lag_2        1126\n",
      "5    WindOn_DA_lag_0        1032\n",
      "10        Coal_lag_2         856\n",
      "12         Oil_lag_2         591\n",
      "13         EUA_lag_2         580\n",
      "9               WD_7          60\n",
      "8               WD_6          11\n",
      "4     Solar_DA_lag_0           0\n",
      "6   WindOff_DA_lag_0           0\n",
      "7               WD_1           0\n",
      "short model ************************\n",
      "             feature  importance\n",
      "0        Price_lag_1         153\n",
      "3      Load_DA_lag_0          34\n",
      "1        Price_lag_2          10\n",
      "13         EUA_lag_2           4\n",
      "2        Price_lag_7           1\n",
      "4     Solar_DA_lag_0           0\n",
      "5    WindOn_DA_lag_0           0\n",
      "6   WindOff_DA_lag_0           0\n",
      "7               WD_1           0\n",
      "8               WD_6           0\n",
      "9               WD_7           0\n",
      "10        Coal_lag_2           0\n",
      "11        NGas_lag_2           0\n",
      "12         Oil_lag_2           0\n",
      "-> finished loop 20\n"
     ]
    },
    {
     "name": "stderr",
     "output_type": "stream",
     "text": [
      "[I 2025-06-13 19:52:30,309] Trial 6 finished with value: 0.013821578562413782 and parameters: {'n_estimators': 265, 'learning_rate': 0.09110791930713232, 'num_leaves': 113, 'max_depth': 8, 'min_child_samples': 27, 'subsample': 0.58855451547015, 'colsample_bytree': 0.7740473426402876, 'reg_alpha': 0.1781796909957134, 'reg_lambda': 7.137187892138237, 'min_split_gain': 0.009442129408371564}. Best is trial 4 with value: 0.010963881440292788.\n"
     ]
    },
    {
     "name": "stdout",
     "output_type": "stream",
     "text": [
      "[Trial 6] No significant gain (Δ ≤ 0.001). Counter: 2/3\n"
     ]
    },
    {
     "name": "stderr",
     "output_type": "stream",
     "text": [
      "[I 2025-06-13 19:52:32,548] Trial 7 finished with value: 0.013413368887839968 and parameters: {'n_estimators': 173, 'learning_rate': 0.021868874899687266, 'num_leaves': 197, 'max_depth': 16, 'min_child_samples': 7, 'subsample': 0.8390319302216225, 'colsample_bytree': 0.6620593661482164, 'reg_alpha': 5.30241115337457, 'reg_lambda': 4.021758906918738, 'min_split_gain': 0.02649869220735227}. Best is trial 4 with value: 0.010963881440292788.\n",
      "[I 2025-06-13 19:52:32,553] A new study created in memory with name: no-name-3759994f-7cc8-47a1-b42e-04f97ad13c3a\n"
     ]
    },
    {
     "name": "stdout",
     "output_type": "stream",
     "text": [
      "[Trial 7] No significant gain (Δ ≤ 0.001). Counter: 3/3\n",
      "\n",
      "⏹️  Early stop: no gain > 0.001 in last 3 trials.\n"
     ]
    },
    {
     "name": "stderr",
     "output_type": "stream",
     "text": [
      "[I 2025-06-13 19:52:32,840] Trial 0 finished with value: 0.014814239852215791 and parameters: {'n_estimators': 140, 'learning_rate': 0.10535337759428624, 'num_leaves': 69, 'max_depth': 11, 'min_child_samples': 12, 'subsample': 0.8533286666525184, 'colsample_bytree': 0.6579277821290797, 'reg_alpha': 3.1378435084943614, 'reg_lambda': 8.81297135725278, 'min_split_gain': 0.04111366719273035}. Best is trial 0 with value: 0.014814239852215791.\n"
     ]
    },
    {
     "name": "stdout",
     "output_type": "stream",
     "text": [
      "[Trial 0] No significant gain (Δ ≤ 0.001). Counter: 4/3\n",
      "\n",
      "⏹️  Early stop: no gain > 0.001 in last 3 trials.\n",
      "long model ************************\n",
      "             feature  importance\n",
      "0        Price_lag_1         413\n",
      "1        Price_lag_2         373\n",
      "3      Load_DA_lag_0         291\n",
      "2        Price_lag_7         191\n",
      "5    WindOn_DA_lag_0         187\n",
      "11        NGas_lag_2         172\n",
      "10        Coal_lag_2         167\n",
      "13         EUA_lag_2         113\n",
      "12         Oil_lag_2          97\n",
      "9               WD_7           7\n",
      "7               WD_1           2\n",
      "4     Solar_DA_lag_0           0\n",
      "6   WindOff_DA_lag_0           0\n",
      "8               WD_6           0\n",
      "short model ************************\n",
      "             feature  importance\n",
      "0        Price_lag_1          77\n",
      "3      Load_DA_lag_0          18\n",
      "13         EUA_lag_2           8\n",
      "1        Price_lag_2           7\n",
      "2        Price_lag_7           1\n",
      "7               WD_1           1\n",
      "12         Oil_lag_2           1\n",
      "4     Solar_DA_lag_0           0\n",
      "5    WindOn_DA_lag_0           0\n",
      "6   WindOff_DA_lag_0           0\n",
      "8               WD_6           0\n",
      "9               WD_7           0\n",
      "10        Coal_lag_2           0\n",
      "11        NGas_lag_2           0\n",
      "-> finished loop 22\n",
      "Zone NO1 LBGM-24h RMSE: nan\n"
     ]
    }
   ],
   "source": [
    "# set the GPU\n",
    "device = torch.device(\"cuda\" if torch.cuda.is_available() else \"cpu\")\n",
    "\n",
    "# **************************************\n",
    "# define dates for training and evaluation \n",
    "# **************************************\n",
    "INIT_DATE_EXPERIMENTS = '2019-01-01'\n",
    "INIT_TEST_DATE = '2023-01-01'\n",
    "FINAL_DATE_EXPERIMENTS = '2024-12-31'\n",
    "n_days_test = (pd.to_datetime(FINAL_DATE_EXPERIMENTS) - pd.to_datetime(INIT_TEST_DATE)).days + (1) # additional adjustment\n",
    "\n",
    "repo_root = Path.cwd().parents[1]\n",
    "mapcodes = [\"NO1\"] # [\"NO1\",\"NO2\",\"NO3\",\"NO4\",\"NO5\"]\n",
    "maps_dict = {}\n",
    "\n",
    "for code in mapcodes:\n",
    "    csv_path = repo_root / \"data\" / f\"data_{code}.csv\"\n",
    "    df = pd.read_csv(csv_path, parse_dates=[\"time_utc\"])\n",
    "    data_t, train_t, train_dates, price_t = prepare_dataset_tensor_modified(\n",
    "        csv_path,\n",
    "        tz=\"CET\",\n",
    "        seed=42,\n",
    "        test_days= n_days_test , # Here it should be 1*365 for 1 year of test, and so on\n",
    "        dtype=torch.float64,\n",
    "    )\n",
    "\n",
    "    # fix potential problems with dates after change time zone..\n",
    "    train_dates_series       = pd.DatetimeIndex(sorted(train_dates))\n",
    "    id_init_exp = train_dates_series.get_loc(pd.Timestamp(INIT_DATE_EXPERIMENTS))\n",
    "    id_init_test_period = train_dates_series.get_loc(pd.Timestamp(INIT_TEST_DATE))\n",
    "    id_end_exp = train_dates_series.get_loc(pd.Timestamp(FINAL_DATE_EXPERIMENTS))\n",
    "    data_t = data_t[id_init_exp:(id_end_exp+1), :,:]\n",
    "    train_dates = pd.Series(train_dates[id_init_exp:(id_end_exp+1)])\n",
    "\n",
    "    print(f\"days for test data ..{data_t.shape[0] - id_init_test_period}\")\n",
    "    \n",
    "    maps_dict[code] = {\n",
    "        \"df\": df,\n",
    "        \"data_t\": data_t,\n",
    "        \"train_t\": train_t,\n",
    "        \"train_dates\": train_dates,\n",
    "        \"price_t\": price_t\n",
    "    }\n",
    "maps_dict.keys()\n",
    "\n",
    "lgbm24_by_zone   = {}\n",
    "rmse_by_zone  = {}\n",
    "\n",
    "\n",
    "\n",
    "for z in mapcodes:\n",
    "    print(f\"\\n--- {z} ---\")\n",
    "    price_S      = maps_dict[z][\"price_t\"]\n",
    "    data_array   = maps_dict[z][\"data_t\"]\n",
    "    full_dates      = maps_dict[z][\"train_dates\"] # <-- here i change a bit the previuous function, prepare_data_tensor, it has all dates\n",
    "    feature_names= maps_dict[z][\"df\"].columns[1:]\n",
    "    full_date_series = pd.DatetimeIndex(sorted(full_dates))\n",
    "\n",
    "    # evaluation days (all of 2024)\n",
    "    train_start_idx = full_date_series.get_loc(pd.Timestamp(INIT_DATE_EXPERIMENTS))\n",
    "    id_init_eval = full_date_series.get_loc(pd.Timestamp(INIT_TEST_DATE))\n",
    "    id_end_eval = full_date_series.get_loc(pd.Timestamp(FINAL_DATE_EXPERIMENTS))\n",
    "    eval_start_idx = id_init_eval\n",
    "    eval_end_idx  = id_end_eval\n",
    "    N_s            = (eval_end_idx - eval_start_idx) + 1 # additional adjustment\n",
    "    full_dates = pd.to_datetime(full_dates)\n",
    "\n",
    "    \n",
    "\n",
    "    # new features: WD - dummy for week days, price lags for Mon, Tue and Fri, day-ahead load lag\n",
    "    WD             = [1,6,7]     \n",
    "    PRICE_S_LAGS   = [1,2,7]\n",
    "    DA_LAG         = [0]\n",
    "    S              = 24\n",
    "    #D             = 730\n",
    "\n",
    "    # tensors to collect forecasts for THIS zone\n",
    "    forecasts_zone = torch.full((N_s, S, 1), float(\"nan\"),\n",
    "                                dtype=torch.float64, device=device)\n",
    "\n",
    "    # thread pool\n",
    "    with ThreadPoolExecutor(max(1, os.cpu_count() // 2) + 1 ) as executor:\n",
    "        futures = [\n",
    "            executor.submit(\n",
    "                run_forecast_step_modified,\n",
    "                n,\n",
    "                price_S,\n",
    "                data_array,\n",
    "                train_start_idx = train_start_idx,\n",
    "                train_end_idx   = id_init_eval - 1,\n",
    "                full_dates      = full_dates,\n",
    "                wd              = WD,                \n",
    "                price_s_lags    = PRICE_S_LAGS,\n",
    "                da_lag          = DA_LAG,\n",
    "                feature_names   = feature_names,   # reg_names\n",
    "                n_trials_lgbm   = 10,\n",
    "                days_for_st_model = 14\n",
    "            )\n",
    "            for n in range(N_s)\n",
    "        ]\n",
    "\n",
    "        for fut in as_completed(futures):\n",
    "            try:\n",
    "                n, lgbm24 = fut.result()\n",
    "                forecasts_zone[n, :, 0] = lgbm24.detach().clone().to(forecasts_zone.dtype).to(forecasts_zone.device)\n",
    "            except Exception as e:\n",
    "                import traceback\n",
    "                print(f\"Thread crashed: {e}\")\n",
    "                traceback.print_exc()\n",
    "\n",
    "                \n",
    "    #   shape: (N_s, S)\n",
    "    true_vals = price_S[eval_start_idx : eval_end_idx + 1].to(device)  \n",
    "    \n",
    "    # compute RMSE\n",
    "    diff = forecasts_zone[:, :, 0] - true_vals\n",
    "    rmse = torch.sqrt((diff**2).mean()).item()\n",
    "    \n",
    "    print(f\"Zone {z} LBGM-24h RMSE: {rmse:.4f}\")\n",
    "\n",
    "    lgbm24_by_zone[z] = forecasts_zone[:, :, 0].cpu()\n",
    "    rmse_by_zone[z]  = rmse"
   ]
  }
 ],
 "metadata": {
  "kernelspec": {
   "display_name": "Python 3",
   "language": "python",
   "name": "python3"
  },
  "language_info": {
   "codemirror_mode": {
    "name": "ipython",
    "version": 3
   },
   "file_extension": ".py",
   "mimetype": "text/x-python",
   "name": "python",
   "nbconvert_exporter": "python",
   "pygments_lexer": "ipython3",
   "version": "3.11.9"
  }
 },
 "nbformat": 4,
 "nbformat_minor": 5
}
