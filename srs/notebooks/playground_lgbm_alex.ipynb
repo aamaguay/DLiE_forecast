{
 "cells": [
  {
   "cell_type": "code",
   "execution_count": 1,
   "id": "3ba3accd",
   "metadata": {},
   "outputs": [],
   "source": [
    "%load_ext autoreload\n",
    "%autoreload 2"
   ]
  },
  {
   "cell_type": "code",
   "execution_count": 2,
   "id": "1148c2f0",
   "metadata": {},
   "outputs": [
    {
     "name": "stderr",
     "output_type": "stream",
     "text": [
      "C:\\Users\\amaguaya\\AppData\\Local\\Packages\\PythonSoftwareFoundation.Python.3.11_qbz5n2kfra8p0\\LocalCache\\local-packages\\Python311\\site-packages\\tqdm\\auto.py:21: TqdmWarning: IProgress not found. Please update jupyter and ipywidgets. See https://ipywidgets.readthedocs.io/en/stable/user_install.html\n",
      "  from .autonotebook import tqdm as notebook_tqdm\n"
     ]
    }
   ],
   "source": [
    "# %% load packages\n",
    "import locale\n",
    "import sys\n",
    "import os\n",
    "import pandas as pd\n",
    "import numpy as np\n",
    "import polars as pl\n",
    "import matplotlib.pyplot as plt\n",
    "import optuna\n",
    "import requests\n",
    "import torch\n",
    "import random\n",
    "from sqlalchemy import create_engine,inspect\n",
    "from pathlib import Path\n",
    "import urllib.parse\n",
    "import pyarrow\n",
    "from calendar import day_abbr\n",
    "import calendar\n",
    "from typing import Tuple, Union, Dict, List\n",
    "from concurrent.futures import ThreadPoolExecutor, as_completed\n",
    "from pygam import LinearGAM\n",
    "from datetime import datetime\n"
   ]
  },
  {
   "cell_type": "code",
   "execution_count": 3,
   "id": "b149e4cc",
   "metadata": {},
   "outputs": [
    {
     "data": {
      "text/plain": [
       "'c:\\\\Users\\\\amaguaya\\\\OneDrive - Kienzle Automotive GmbH\\\\Desktop\\\\DLiE\\\\repo\\\\DLiE_forecast_13_06_25\\\\srs\\\\notebooks'"
      ]
     },
     "execution_count": 3,
     "metadata": {},
     "output_type": "execute_result"
    }
   ],
   "source": [
    "os.getcwd()"
   ]
  },
  {
   "cell_type": "code",
   "execution_count": 4,
   "id": "186feefc",
   "metadata": {},
   "outputs": [
    {
     "name": "stdout",
     "output_type": "stream",
     "text": [
      "Working directory: c:\\Users\\amaguaya\\OneDrive - Kienzle Automotive GmbH\\Desktop\\DLiE\\repo\\DLiE_forecast_13_06_25\\srs\\notebooks\n"
     ]
    }
   ],
   "source": [
    "import sys\n",
    "sys.path.append('C:/Users/amaguaya/OneDrive - Kienzle Automotive GmbH/Desktop/DLiE/repo/DLiE_forecast_13_06_25')\n",
    "\n",
    "import os\n",
    "print(\"Working directory:\", os.getcwd())\n",
    "\n"
   ]
  },
  {
   "cell_type": "code",
   "execution_count": 5,
   "id": "23d49975",
   "metadata": {},
   "outputs": [],
   "source": [
    "from srs.utils.tutor_utils import prepare_dataset_tensor, forecasting_study,\\\n",
    "  plot_daily_profile,plot_hour_comparison, build_multiwindow_experts, tune_ewa_eta, \\\n",
    "  ewa_aggregate_forecasts, compute_error_table, tune_expert_window, \\\n",
    "  run_expert_window_test, build_regression_matrix, SimpleMLP, train_mlp, \\\n",
    "  prepare_train_test_tensors, build_mlp_rolling_forecasts, tune_mlp_hyperparameters, \\\n",
    "  DST_trafo, prepare_dataset_tensor_modified\n",
    "\n",
    "from srs.utils.our_utils import run_forecast_step, run_forecast_step_modified\n",
    "from srs.collect_data.setup import setup_seed, get_device\n",
    "from srs.collect_data.entsoe_data import create_entsoe_engine, get_tables, get_spec, \\\n",
    "  get_market_divisions,get_map_codes,get_map_codes_starting_with, get_resolution_codes, \\\n",
    "    prepare_generation, prepare_load,prepare_price, prepare_unavailability, \\\n",
    "    prepare_filling_rate_hydro, prepare_physical_flow, prepare_installed_capacity\n",
    "from srs.collect_data.datastream_data import create_datastream_engine, get_tables, \\\n",
    "  prepare_datastream\n",
    "from srs.collect_data.dwd_mosmix_data import fetch_region_weather, prepare_weather\n",
    "from srs.collect_data.merge_data import merge_datasets, build_training_dataset\n",
    "\n"
   ]
  },
  {
   "cell_type": "markdown",
   "id": "ac9e3c1d",
   "metadata": {},
   "source": [
    "### models_24h fitting for all no1-no5 regions separately."
   ]
  },
  {
   "cell_type": "code",
   "execution_count": 6,
   "id": "4af66cc0",
   "metadata": {},
   "outputs": [
    {
     "data": {
      "text/plain": [
       "'\\n  eval/test periods\\n  2023 - 365 days\\n  2024 - 366 days\\n'"
      ]
     },
     "execution_count": 6,
     "metadata": {},
     "output_type": "execute_result"
    }
   ],
   "source": [
    "'''\n",
    "  eval/test periods\n",
    "  2023 - 365 days\n",
    "  2024 - 366 days\n",
    "'''\n",
    "# rmse  # -- 31.68, rmse: 8.79, 8.798 with rolling, 8.77 use n+180, -90... 8.7978; -120 (4months):9.51 \n",
    "# -30 (1 month)8.72, -60 (2mothns), 8.703, if remove 2019. 8.73\n",
    "\n",
    "# id_init_eval-1\n",
    "# data_t.shape, train_t.shape, train_dates.shape\n",
    "# 2192-751\n",
    "\n",
    "# len(price_t[24:-24])\n",
    "# len(data_t[:,:,0])"
   ]
  },
  {
   "cell_type": "code",
   "execution_count": 7,
   "id": "e3bada58",
   "metadata": {},
   "outputs": [],
   "source": [
    "# len(price_t[:-1])\n",
    "# len(full_dates_), len(data_t[:,:,0].cpu().numpy())"
   ]
  },
  {
   "cell_type": "code",
   "execution_count": null,
   "id": "05cdda71",
   "metadata": {},
   "outputs": [
    {
     "name": "stdout",
     "output_type": "stream",
     "text": [
      "Filtered RMSE: 9.4453\n"
     ]
    }
   ],
   "source": [
    "# # Step 1: Flatten the time series (days × hours → 1D)\n",
    "# flattened_series = data_t[:, :, 0].reshape(-1).cpu().numpy()\n",
    "\n",
    "# # Step 2: Create a matching hourly datetime index\n",
    "# # There are 24 hours per day, so total points = 2192 days × 24 = 52608\n",
    "# start_datetime = pd.to_datetime(INIT_DATE_EXPERIMENTS)\n",
    "# end_datetime = pd.to_datetime(FINAL_DATE_EXPERIMENTS) + pd.Timedelta(hours=23)\n",
    "# datetime_index = pd.date_range(start=start_datetime, end=end_datetime, freq='H')\n",
    "\n",
    "# # Check: both must match in length\n",
    "# assert len(flattened_series) == len(datetime_index)\n",
    "\n",
    "# # Step 3: Create the Series and plot\n",
    "# price_series_flat = pd.Series(flattened_series, index=datetime_index)\n",
    "\n",
    "# plt.figure(figsize=(15, 4))\n",
    "# price_series_flat[-(24*7*0)-(2*24):].plot()\n",
    "# plt.title(\"Electricity Price (Hourly)\")\n",
    "# plt.xlabel(\"Time\")\n",
    "# plt.ylabel(\"Price\")\n",
    "# plt.grid(True)\n",
    "# plt.tight_layout()\n",
    "# plt.show()\n",
    "\n",
    "# Create mask: keep only valid forecast rows (no NaNs across the whole 24h horizon)\n",
    "# valid_mask = ~torch.isnan(forecasts_zone[:, :, 0]).any(dim=1)\n",
    "# # Apply mask to both forecast and true values\n",
    "# valid_forecast = forecasts_zone[valid_mask, :, 0]\n",
    "# valid_true     = true_vals[valid_mask, :]\n",
    "# # Compute RMSE only on valid rows\n",
    "# diff = valid_forecast - valid_true\n",
    "# rmse = torch.sqrt((diff ** 2).mean()).item()\n",
    "# print(f\"Filtered RMSE: {rmse:.4f}\")\n"
   ]
  },
  {
   "cell_type": "code",
   "execution_count": 8,
   "id": "e9ed531d",
   "metadata": {},
   "outputs": [
    {
     "name": "stderr",
     "output_type": "stream",
     "text": [
      "[I 2025-06-13 20:46:46,507] A new study created in memory with name: no-name-131f1866-f8e0-4d68-8fc0-8947094cf679\n",
      "[I 2025-06-13 20:46:46,509] A new study created in memory with name: no-name-fca073d0-6a4b-4c06-bbb7-bf6f340b6754\n",
      "[I 2025-06-13 20:46:46,510] A new study created in memory with name: no-name-ef4ade62-dc35-495f-973b-f6a10b3256bc\n",
      "[I 2025-06-13 20:46:46,514] A new study created in memory with name: no-name-0c8e4e9a-2ff0-4df6-8039-173e97ae51fa\n",
      "[I 2025-06-13 20:46:46,520] A new study created in memory with name: no-name-9e6fb42a-b162-469e-83a5-37980b5f41ea\n",
      "[I 2025-06-13 20:46:46,527] A new study created in memory with name: no-name-e766ad48-901c-4d77-a6e8-ea3beddd9401\n",
      "[I 2025-06-13 20:46:46,542] A new study created in memory with name: no-name-aa70a7c4-6909-4081-a081-cdeb9cb1d897\n"
     ]
    },
    {
     "name": "stdout",
     "output_type": "stream",
     "text": [
      "days for test data ..731\n",
      "\n",
      "--- NO1 ---\n",
      "Loop   0: train 2019-01-01 00:00:00 -> 2022-12-31 00:00:00, forecast 2023-01-01 00:00:00\n",
      "  dat_slice shape: torch.Size([1462, 24, 10])  → flatten count = 35088\n",
      "Loop   1: train 2019-03-03 00:00:00 -> 2023-01-01 00:00:00, forecast 2023-01-02 00:00:00\n",
      "  dat_slice shape: torch.Size([1402, 24, 10])  → flatten count = 33648\n",
      "Loop   2: train 2019-03-04 00:00:00 -> 2023-01-02 00:00:00, forecast 2023-01-03 00:00:00\n",
      "  dat_slice shape: torch.Size([1402, 24, 10])  → flatten count = 33648\n",
      "Loop   3: train 2019-03-05 00:00:00 -> 2023-01-03 00:00:00, forecast 2023-01-04 00:00:00\n",
      "  dat_slice shape: torch.Size([1402, 24, 10])  → flatten count = 33648\n",
      "Loop   4: train 2019-03-06 00:00:00 -> 2023-01-04 00:00:00, forecast 2023-01-05 00:00:00\n",
      "  dat_slice shape: torch.Size([1402, 24, 10])  → flatten count = 33648\n",
      "Loop   5: train 2019-03-07 00:00:00 -> 2023-01-05 00:00:00, forecast 2023-01-06 00:00:00\n",
      "  dat_slice shape: torch.Size([1402, 24, 10])  → flatten count = 33648\n",
      "Loop   6: train 2019-03-08 00:00:00 -> 2023-01-06 00:00:00, forecast 2023-01-07 00:00:00\n",
      "  dat_slice shape: torch.Size([1402, 24, 10])  → flatten count = 33648\n"
     ]
    },
    {
     "name": "stderr",
     "output_type": "stream",
     "text": [
      "[I 2025-06-13 20:46:48,274] Trial 0 finished with value: 0.008735058602127187 and parameters: {'n_estimators': 226, 'learning_rate': 0.014938652247999019, 'num_leaves': 43, 'max_depth': 4, 'min_child_samples': 11, 'subsample': 0.9378786624814134, 'colsample_bytree': 0.8742119880677611, 'reg_alpha': 2.1671045092255, 'reg_lambda': 9.217328469985437, 'min_split_gain': 0.0007355400884160091}. Best is trial 0 with value: 0.008735058602127187.\n",
      "[I 2025-06-13 20:46:48,386] Trial 0 finished with value: 0.006682397042725551 and parameters: {'n_estimators': 209, 'learning_rate': 0.0719856452768991, 'num_leaves': 104, 'max_depth': 11, 'min_child_samples': 29, 'subsample': 0.8287003680067984, 'colsample_bytree': 0.7634835221989527, 'reg_alpha': 8.188494538281446, 'reg_lambda': 9.64353014497456, 'min_split_gain': 0.026935788147820647}. Best is trial 0 with value: 0.006682397042725551.\n"
     ]
    },
    {
     "name": "stdout",
     "output_type": "stream",
     "text": [
      "[Trial 0] New best: 0.00874\n",
      "[Trial 0] New best: 0.00668\n"
     ]
    },
    {
     "name": "stderr",
     "output_type": "stream",
     "text": [
      "[I 2025-06-13 20:46:49,036] Trial 0 finished with value: 0.005655017958577709 and parameters: {'n_estimators': 171, 'learning_rate': 0.08181557635629697, 'num_leaves': 231, 'max_depth': 5, 'min_child_samples': 29, 'subsample': 0.8427809775189803, 'colsample_bytree': 0.5346151590333711, 'reg_alpha': 0.5854079741219009, 'reg_lambda': 1.7216885631847478, 'min_split_gain': 0.008345528238898964}. Best is trial 0 with value: 0.005655017958577709.\n",
      "[I 2025-06-13 20:46:49,097] Trial 0 finished with value: 0.01835938258619427 and parameters: {'n_estimators': 109, 'learning_rate': 0.016536145810672413, 'num_leaves': 206, 'max_depth': 12, 'min_child_samples': 12, 'subsample': 0.7943790573617941, 'colsample_bytree': 0.6333404615228864, 'reg_alpha': 4.885064561407814, 'reg_lambda': 7.763469672117815, 'min_split_gain': 0.020451710164683685}. Best is trial 0 with value: 0.01835938258619427.\n"
     ]
    },
    {
     "name": "stdout",
     "output_type": "stream",
     "text": [
      "[Trial 0] New best: 0.00566\n",
      "[Trial 0] New best: 0.01836\n"
     ]
    },
    {
     "name": "stderr",
     "output_type": "stream",
     "text": [
      "[I 2025-06-13 20:46:49,646] Trial 1 finished with value: 0.0061178898794446894 and parameters: {'n_estimators': 237, 'learning_rate': 0.2326365078797152, 'num_leaves': 54, 'max_depth': 12, 'min_child_samples': 13, 'subsample': 0.7106108832486409, 'colsample_bytree': 0.7785712658683842, 'reg_alpha': 7.565480291796135, 'reg_lambda': 2.116098147405636, 'min_split_gain': 0.002289189985168244}. Best is trial 1 with value: 0.0061178898794446894.\n",
      "[I 2025-06-13 20:46:49,762] Trial 1 finished with value: 0.00680956486326726 and parameters: {'n_estimators': 57, 'learning_rate': 0.16126775028715906, 'num_leaves': 107, 'max_depth': 15, 'min_child_samples': 10, 'subsample': 0.8204784214339312, 'colsample_bytree': 0.6497256972499543, 'reg_alpha': 3.5710836391637035, 'reg_lambda': 7.245830973744929, 'min_split_gain': 0.02045388615636866}. Best is trial 0 with value: 0.006682397042725551.\n",
      "[I 2025-06-13 20:46:49,796] Trial 0 finished with value: 0.029855304706832984 and parameters: {'n_estimators': 189, 'learning_rate': 0.04092066891775599, 'num_leaves': 80, 'max_depth': 11, 'min_child_samples': 16, 'subsample': 0.5434953799787119, 'colsample_bytree': 0.9299927563359338, 'reg_alpha': 9.595836806454859, 'reg_lambda': 1.4104610704449383, 'min_split_gain': 0.01975467462811896}. Best is trial 0 with value: 0.029855304706832984.\n"
     ]
    },
    {
     "name": "stdout",
     "output_type": "stream",
     "text": [
      "[Trial 1] New best: 0.00612\n",
      "[Trial 1] No significant gain (Δ ≤ 0.001). Counter: 1/3\n",
      "[Trial 0] New best: 0.02986\n"
     ]
    },
    {
     "name": "stderr",
     "output_type": "stream",
     "text": [
      "[I 2025-06-13 20:46:50,288] Trial 0 finished with value: 0.004359502363610356 and parameters: {'n_estimators': 236, 'learning_rate': 0.06169954856670749, 'num_leaves': 71, 'max_depth': 7, 'min_child_samples': 5, 'subsample': 0.8122200371860558, 'colsample_bytree': 0.5802649155685409, 'reg_alpha': 6.072243313431345, 'reg_lambda': 6.32870523335049, 'min_split_gain': 0.011700717574201686}. Best is trial 0 with value: 0.004359502363610356.\n",
      "[I 2025-06-13 20:46:50,354] Trial 1 finished with value: 0.007292674585085305 and parameters: {'n_estimators': 124, 'learning_rate': 0.1552630993526865, 'num_leaves': 109, 'max_depth': 12, 'min_child_samples': 1, 'subsample': 0.7922936316032437, 'colsample_bytree': 0.9327083267231293, 'reg_alpha': 7.901386897814751, 'reg_lambda': 7.061557093628746, 'min_split_gain': 0.017791833772771194}. Best is trial 0 with value: 0.005655017958577709.\n"
     ]
    },
    {
     "name": "stdout",
     "output_type": "stream",
     "text": [
      "[Trial 0] New best: 0.00436\n",
      "[Trial 1] No significant gain (Δ ≤ 0.001). Counter: 1/3\n"
     ]
    },
    {
     "name": "stderr",
     "output_type": "stream",
     "text": [
      "[I 2025-06-13 20:46:51,152] Trial 2 finished with value: 0.05577347710747846 and parameters: {'n_estimators': 59, 'learning_rate': 0.017572381799726613, 'num_leaves': 210, 'max_depth': 12, 'min_child_samples': 15, 'subsample': 0.7311933053215478, 'colsample_bytree': 0.519806981622002, 'reg_alpha': 5.110750681026978, 'reg_lambda': 3.176913262320703, 'min_split_gain': 0.041637664822879776}. Best is trial 0 with value: 0.006682397042725551.\n",
      "[I 2025-06-13 20:46:51,153] Trial 0 finished with value: 0.007527441231315789 and parameters: {'n_estimators': 230, 'learning_rate': 0.02446914579507259, 'num_leaves': 124, 'max_depth': 8, 'min_child_samples': 20, 'subsample': 0.9287454978719807, 'colsample_bytree': 0.6180137621525259, 'reg_alpha': 5.8662239793346505, 'reg_lambda': 6.0544989129207725, 'min_split_gain': 0.034966768476542016}. Best is trial 0 with value: 0.007527441231315789.\n"
     ]
    },
    {
     "name": "stdout",
     "output_type": "stream",
     "text": [
      "[Trial 2] No significant gain (Δ ≤ 0.001). Counter: 2/3\n",
      "[Trial 0] New best: 0.00753\n"
     ]
    },
    {
     "name": "stderr",
     "output_type": "stream",
     "text": [
      "[I 2025-06-13 20:46:51,596] Trial 2 finished with value: 0.006081533055104543 and parameters: {'n_estimators': 93, 'learning_rate': 0.2934362202618077, 'num_leaves': 256, 'max_depth': 9, 'min_child_samples': 12, 'subsample': 0.9081300461459558, 'colsample_bytree': 0.8944423155606718, 'reg_alpha': 1.2735534264830206, 'reg_lambda': 8.938834530424595, 'min_split_gain': 0.0034714910861575743}. Best is trial 2 with value: 0.006081533055104543.\n"
     ]
    },
    {
     "name": "stdout",
     "output_type": "stream",
     "text": [
      "[Trial 2] No significant gain (Δ ≤ 0.001). Counter: 1/3\n"
     ]
    },
    {
     "name": "stderr",
     "output_type": "stream",
     "text": [
      "[I 2025-06-13 20:46:51,984] Trial 1 finished with value: 0.03013572451589515 and parameters: {'n_estimators': 114, 'learning_rate': 0.03847492552186368, 'num_leaves': 133, 'max_depth': 16, 'min_child_samples': 16, 'subsample': 0.867776018582296, 'colsample_bytree': 0.8178445706014981, 'reg_alpha': 9.833396972739338, 'reg_lambda': 1.4356092135728415, 'min_split_gain': 0.004154665718946393}. Best is trial 0 with value: 0.029855304706832984.\n"
     ]
    },
    {
     "name": "stdout",
     "output_type": "stream",
     "text": [
      "[Trial 1] No significant gain (Δ ≤ 0.001). Counter: 1/3\n"
     ]
    },
    {
     "name": "stderr",
     "output_type": "stream",
     "text": [
      "[I 2025-06-13 20:46:52,470] Trial 2 finished with value: 0.0059343646800767424 and parameters: {'n_estimators': 235, 'learning_rate': 0.06746551345176847, 'num_leaves': 228, 'max_depth': 13, 'min_child_samples': 24, 'subsample': 0.8926195350811736, 'colsample_bytree': 0.7726954206612968, 'reg_alpha': 9.820822262655756, 'reg_lambda': 9.750800355928614, 'min_split_gain': 0.0300899978617582}. Best is trial 0 with value: 0.005655017958577709.\n"
     ]
    },
    {
     "name": "stdout",
     "output_type": "stream",
     "text": [
      "[Trial 2] No significant gain (Δ ≤ 0.001). Counter: 2/3\n"
     ]
    },
    {
     "name": "stderr",
     "output_type": "stream",
     "text": [
      "[I 2025-06-13 20:46:53,447] Trial 1 finished with value: 0.007560325643551043 and parameters: {'n_estimators': 238, 'learning_rate': 0.06213013681741385, 'num_leaves': 144, 'max_depth': 7, 'min_child_samples': 29, 'subsample': 0.6880326187721879, 'colsample_bytree': 0.5757333310903557, 'reg_alpha': 9.021244809240915, 'reg_lambda': 1.203022189098022, 'min_split_gain': 0.0011219972844572824}. Best is trial 1 with value: 0.007560325643551043.\n",
      "[I 2025-06-13 20:46:53,508] Trial 1 finished with value: 0.012805279005052675 and parameters: {'n_estimators': 123, 'learning_rate': 0.015134753860559408, 'num_leaves': 193, 'max_depth': 6, 'min_child_samples': 28, 'subsample': 0.7300339457109477, 'colsample_bytree': 0.570779311264403, 'reg_alpha': 1.9273420250764195, 'reg_lambda': 3.926145074286275, 'min_split_gain': 0.04502964611356694}. Best is trial 0 with value: 0.004359502363610356.\n"
     ]
    },
    {
     "name": "stdout",
     "output_type": "stream",
     "text": [
      "[Trial 1] New best: 0.00756\n",
      "[Trial 1] No significant gain (Δ ≤ 0.001). Counter: 1/3\n"
     ]
    },
    {
     "name": "stderr",
     "output_type": "stream",
     "text": [
      "[I 2025-06-13 20:46:55,133] Trial 3 finished with value: 0.0068126361426178875 and parameters: {'n_estimators': 193, 'learning_rate': 0.054867876604906315, 'num_leaves': 81, 'max_depth': 11, 'min_child_samples': 6, 'subsample': 0.6892383161281141, 'colsample_bytree': 0.631759191041741, 'reg_alpha': 4.125509266832155, 'reg_lambda': 9.05754113478161, 'min_split_gain': 0.04706331539115858}. Best is trial 0 with value: 0.006682397042725551.\n",
      "[I 2025-06-13 20:46:55,135] A new study created in memory with name: no-name-1d8f2c69-7a24-4ed6-8a52-5c61b407b7f9\n",
      "[I 2025-06-13 20:46:55,222] Trial 1 finished with value: 0.00920962955834858 and parameters: {'n_estimators': 201, 'learning_rate': 0.030770594700167297, 'num_leaves': 38, 'max_depth': 5, 'min_child_samples': 1, 'subsample': 0.713476196521236, 'colsample_bytree': 0.9753370758014154, 'reg_alpha': 1.3024554079926154, 'reg_lambda': 4.101273959085674, 'min_split_gain': 0.04107678802783668}. Best is trial 0 with value: 0.007527441231315789.\n"
     ]
    },
    {
     "name": "stdout",
     "output_type": "stream",
     "text": [
      "[Trial 3] No significant gain (Δ ≤ 0.001). Counter: 3/3\n",
      "\n",
      "⏹️  Early stop: no gain > 0.001 in last 3 trials.\n",
      "[Trial 1] No significant gain (Δ ≤ 0.001). Counter: 1/3\n"
     ]
    },
    {
     "name": "stderr",
     "output_type": "stream",
     "text": [
      "[I 2025-06-13 20:46:55,446] Trial 0 finished with value: 0.015802563172073177 and parameters: {'n_estimators': 252, 'learning_rate': 0.16728930750121782, 'num_leaves': 90, 'max_depth': 15, 'min_child_samples': 27, 'subsample': 0.9360526859814234, 'colsample_bytree': 0.8004209964114292, 'reg_alpha': 1.8264806313010251, 'reg_lambda': 4.177480580398213, 'min_split_gain': 0.017333356920712067}. Best is trial 0 with value: 0.015802563172073177.\n",
      "[I 2025-06-13 20:46:55,569] Trial 2 finished with value: 0.01195264194194478 and parameters: {'n_estimators': 51, 'learning_rate': 0.03799006551862119, 'num_leaves': 169, 'max_depth': 11, 'min_child_samples': 14, 'subsample': 0.6387163758537102, 'colsample_bytree': 0.6199545220635789, 'reg_alpha': 3.731909770560647, 'reg_lambda': 3.518614576876189, 'min_split_gain': 0.027839098344753472}. Best is trial 0 with value: 0.004359502363610356.\n"
     ]
    },
    {
     "name": "stdout",
     "output_type": "stream",
     "text": [
      "[Trial 0] No significant gain (Δ ≤ 0.001). Counter: 4/3\n",
      "\n",
      "⏹️  Early stop: no gain > 0.001 in last 3 trials.\n",
      "[Trial 2] No significant gain (Δ ≤ 0.001). Counter: 2/3\n"
     ]
    },
    {
     "name": "stderr",
     "output_type": "stream",
     "text": [
      "[I 2025-06-13 20:46:56,235] Trial 3 finished with value: 0.015518611541821402 and parameters: {'n_estimators': 142, 'learning_rate': 0.018361300148686203, 'num_leaves': 140, 'max_depth': 7, 'min_child_samples': 2, 'subsample': 0.8412957926995926, 'colsample_bytree': 0.5145092158537592, 'reg_alpha': 5.871520706469923, 'reg_lambda': 3.599510493361983, 'min_split_gain': 0.04434197045519334}. Best is trial 2 with value: 0.006081533055104543.\n"
     ]
    },
    {
     "name": "stdout",
     "output_type": "stream",
     "text": [
      "[Trial 3] No significant gain (Δ ≤ 0.001). Counter: 2/3\n"
     ]
    },
    {
     "name": "stderr",
     "output_type": "stream",
     "text": [
      "[I 2025-06-13 20:46:56,604] Trial 3 finished with value: 0.0077542616627137365 and parameters: {'n_estimators': 151, 'learning_rate': 0.1030065375097805, 'num_leaves': 46, 'max_depth': 13, 'min_child_samples': 21, 'subsample': 0.9504116871773287, 'colsample_bytree': 0.6942758977772958, 'reg_alpha': 0.9239489103321064, 'reg_lambda': 9.199412376867636, 'min_split_gain': 0.03403655464502469}. Best is trial 0 with value: 0.005655017958577709.\n",
      "[I 2025-06-13 20:46:56,608] A new study created in memory with name: no-name-bccd8bca-27d7-4763-943e-cd46edac4a03\n"
     ]
    },
    {
     "name": "stdout",
     "output_type": "stream",
     "text": [
      "[Trial 3] No significant gain (Δ ≤ 0.001). Counter: 3/3\n",
      "\n",
      "⏹️  Early stop: no gain > 0.001 in last 3 trials.\n"
     ]
    },
    {
     "name": "stderr",
     "output_type": "stream",
     "text": [
      "[I 2025-06-13 20:46:56,853] Trial 0 finished with value: 0.20148636945082402 and parameters: {'n_estimators': 122, 'learning_rate': 0.19852032807295777, 'num_leaves': 107, 'max_depth': 6, 'min_child_samples': 18, 'subsample': 0.7096580060888549, 'colsample_bytree': 0.9755235736998604, 'reg_alpha': 9.306073036624595, 'reg_lambda': 5.356699073019916, 'min_split_gain': 0.04112897293026813}. Best is trial 0 with value: 0.20148636945082402.\n"
     ]
    },
    {
     "name": "stdout",
     "output_type": "stream",
     "text": [
      "[Trial 0] No significant gain (Δ ≤ 0.001). Counter: 4/3\n",
      "\n",
      "⏹️  Early stop: no gain > 0.001 in last 3 trials.\n"
     ]
    },
    {
     "name": "stderr",
     "output_type": "stream",
     "text": [
      "[I 2025-06-13 20:46:57,738] Trial 4 finished with value: 0.00842134495687934 and parameters: {'n_estimators': 210, 'learning_rate': 0.2479513426856536, 'num_leaves': 38, 'max_depth': 5, 'min_child_samples': 18, 'subsample': 0.6436135047815669, 'colsample_bytree': 0.6377245214449723, 'reg_alpha': 4.358745204571161, 'reg_lambda': 8.487845963470726, 'min_split_gain': 0.03862630213967306}. Best is trial 2 with value: 0.006081533055104543.\n",
      "[I 2025-06-13 20:46:57,743] A new study created in memory with name: no-name-70c4acaf-14de-4002-b2ea-5d5b933df9b1\n"
     ]
    },
    {
     "name": "stdout",
     "output_type": "stream",
     "text": [
      "[Trial 4] No significant gain (Δ ≤ 0.001). Counter: 3/3\n",
      "\n",
      "⏹️  Early stop: no gain > 0.001 in last 3 trials.\n"
     ]
    },
    {
     "name": "stderr",
     "output_type": "stream",
     "text": [
      "[I 2025-06-13 20:46:58,420] Trial 0 finished with value: 0.035498430181951285 and parameters: {'n_estimators': 228, 'learning_rate': 0.013056243868175001, 'num_leaves': 171, 'max_depth': 9, 'min_child_samples': 28, 'subsample': 0.7386589871525202, 'colsample_bytree': 0.521315833417819, 'reg_alpha': 4.294923068062576, 'reg_lambda': 6.12119944912397, 'min_split_gain': 0.02895079522695882}. Best is trial 0 with value: 0.035498430181951285.\n"
     ]
    },
    {
     "name": "stdout",
     "output_type": "stream",
     "text": [
      "[Trial 0] No significant gain (Δ ≤ 0.001). Counter: 4/3\n",
      "\n",
      "⏹️  Early stop: no gain > 0.001 in last 3 trials.\n"
     ]
    },
    {
     "name": "stderr",
     "output_type": "stream",
     "text": [
      "[I 2025-06-13 20:46:58,670] Trial 3 finished with value: 0.0044174462702338485 and parameters: {'n_estimators': 73, 'learning_rate': 0.07421927381530725, 'num_leaves': 31, 'max_depth': 8, 'min_child_samples': 21, 'subsample': 0.8337997813034645, 'colsample_bytree': 0.6059538502500232, 'reg_alpha': 4.0853896311344995, 'reg_lambda': 6.256938565747875, 'min_split_gain': 0.005963659917319875}. Best is trial 0 with value: 0.004359502363610356.\n",
      "[I 2025-06-13 20:46:58,673] A new study created in memory with name: no-name-231e13ab-8782-47df-be07-357075003308\n"
     ]
    },
    {
     "name": "stdout",
     "output_type": "stream",
     "text": [
      "[Trial 3] No significant gain (Δ ≤ 0.001). Counter: 3/3\n",
      "\n",
      "⏹️  Early stop: no gain > 0.001 in last 3 trials.\n"
     ]
    },
    {
     "name": "stderr",
     "output_type": "stream",
     "text": [
      "[I 2025-06-13 20:46:58,925] Trial 2 finished with value: 0.011631787116625646 and parameters: {'n_estimators': 152, 'learning_rate': 0.2735404782985625, 'num_leaves': 143, 'max_depth': 9, 'min_child_samples': 4, 'subsample': 0.9066055289133925, 'colsample_bytree': 0.9670744087207606, 'reg_alpha': 3.1656819858783978, 'reg_lambda': 2.74853782083719, 'min_split_gain': 0.002825472519886585}. Best is trial 0 with value: 0.007527441231315789.\n",
      "[I 2025-06-13 20:46:58,998] Trial 0 finished with value: 0.01788418078547406 and parameters: {'n_estimators': 227, 'learning_rate': 0.14620945255285875, 'num_leaves': 245, 'max_depth': 13, 'min_child_samples': 22, 'subsample': 0.8178944901614371, 'colsample_bytree': 0.9798321130041524, 'reg_alpha': 1.1781163117290772, 'reg_lambda': 8.346695751846115, 'min_split_gain': 0.03156166101447532}. Best is trial 0 with value: 0.01788418078547406.\n",
      "[I 2025-06-13 20:46:59,119] A new study created in memory with name: no-name-3134de97-a916-4e9e-80ff-efd63ef4f155\n"
     ]
    },
    {
     "name": "stdout",
     "output_type": "stream",
     "text": [
      "[Trial 2] No significant gain (Δ ≤ 0.001). Counter: 2/3\n",
      "[Trial 0] No significant gain (Δ ≤ 0.001). Counter: 4/3\n",
      "\n",
      "⏹️  Early stop: no gain > 0.001 in last 3 trials.\n",
      "long model ************************\n",
      "             feature  importance\n",
      "0        Price_lag_1         677\n",
      "1        Price_lag_2         524\n",
      "3      Load_DA_lag_0         264\n",
      "2        Price_lag_7         262\n",
      "11        NGas_lag_2         161\n",
      "5    WindOn_DA_lag_0         159\n",
      "10        Coal_lag_2         124\n",
      "13         EUA_lag_2         112\n",
      "12         Oil_lag_2          85\n",
      "9               WD_7           6\n",
      "7               WD_1           2\n",
      "8               WD_6           2\n",
      "4     Solar_DA_lag_0           0\n",
      "6   WindOff_DA_lag_0           0\n",
      "short model ************************\n",
      "             feature  importance\n",
      "0        Price_lag_1          33\n",
      "3      Load_DA_lag_0           8\n",
      "5    WindOn_DA_lag_0           3\n",
      "1        Price_lag_2           2\n",
      "2        Price_lag_7           0\n",
      "4     Solar_DA_lag_0           0\n",
      "6   WindOff_DA_lag_0           0\n",
      "7               WD_1           0\n",
      "8               WD_6           0\n",
      "9               WD_7           0\n",
      "10        Coal_lag_2           0\n",
      "11        NGas_lag_2           0\n",
      "12         Oil_lag_2           0\n",
      "13         EUA_lag_2           0\n",
      "-> finished loop 6\n",
      "Loop   7: train 2019-03-09 00:00:00 -> 2023-01-07 00:00:00, forecast 2023-01-08 00:00:00\n",
      "  dat_slice shape: torch.Size([1402, 24, 10])  → flatten count = 33648\n"
     ]
    },
    {
     "name": "stderr",
     "output_type": "stream",
     "text": [
      "[I 2025-06-13 20:46:59,992] Trial 2 finished with value: 0.028397233269860735 and parameters: {'n_estimators': 170, 'learning_rate': 0.07410525564959773, 'num_leaves': 199, 'max_depth': 12, 'min_child_samples': 2, 'subsample': 0.958746688780126, 'colsample_bytree': 0.7439628377899565, 'reg_alpha': 2.6527649836963976, 'reg_lambda': 8.0994133511394, 'min_split_gain': 0.015340599369443826}. Best is trial 2 with value: 0.028397233269860735.\n"
     ]
    },
    {
     "name": "stdout",
     "output_type": "stream",
     "text": [
      "[Trial 2] New best: 0.02840\n"
     ]
    },
    {
     "name": "stderr",
     "output_type": "stream",
     "text": [
      "[I 2025-06-13 20:47:00,864] A new study created in memory with name: no-name-353fbfd3-972f-4452-b9c0-3faa4f1e394c\n"
     ]
    },
    {
     "name": "stdout",
     "output_type": "stream",
     "text": [
      "long model ************************\n",
      "             feature  importance\n",
      "0        Price_lag_1         900\n",
      "1        Price_lag_2         543\n",
      "2        Price_lag_7         474\n",
      "3      Load_DA_lag_0         428\n",
      "5    WindOn_DA_lag_0         302\n",
      "11        NGas_lag_2         280\n",
      "10        Coal_lag_2         266\n",
      "12         Oil_lag_2         257\n",
      "13         EUA_lag_2         215\n",
      "9               WD_7          22\n",
      "7               WD_1          18\n",
      "8               WD_6           3\n",
      "4     Solar_DA_lag_0           0\n",
      "6   WindOff_DA_lag_0           0\n",
      "short model ************************\n",
      "             feature  importance\n",
      "0        Price_lag_1          16\n",
      "3      Load_DA_lag_0           3\n",
      "1        Price_lag_2           0\n",
      "2        Price_lag_7           0\n",
      "4     Solar_DA_lag_0           0\n",
      "5    WindOn_DA_lag_0           0\n",
      "6   WindOff_DA_lag_0           0\n",
      "7               WD_1           0\n",
      "8               WD_6           0\n",
      "9               WD_7           0\n",
      "10        Coal_lag_2           0\n",
      "11        NGas_lag_2           0\n",
      "12         Oil_lag_2           0\n",
      "13         EUA_lag_2           0\n",
      "-> finished loop 3\n",
      "Loop   8: train 2019-03-10 00:00:00 -> 2023-01-08 00:00:00, forecast 2023-01-09 00:00:00\n",
      "  dat_slice shape: torch.Size([1402, 24, 10])  → flatten count = 33648\n"
     ]
    },
    {
     "name": "stderr",
     "output_type": "stream",
     "text": [
      "[I 2025-06-13 20:47:01,761] A new study created in memory with name: no-name-be5e9294-3fa1-4774-b4a2-e3babde746fa\n"
     ]
    },
    {
     "name": "stdout",
     "output_type": "stream",
     "text": [
      "long model ************************\n",
      "             feature  importance\n",
      "0        Price_lag_1         586\n",
      "5    WindOn_DA_lag_0         542\n",
      "3      Load_DA_lag_0         525\n",
      "1        Price_lag_2         509\n",
      "2        Price_lag_7         356\n",
      "11        NGas_lag_2         240\n",
      "10        Coal_lag_2         239\n",
      "12         Oil_lag_2         227\n",
      "13         EUA_lag_2         190\n",
      "9               WD_7          16\n",
      "7               WD_1          11\n",
      "4     Solar_DA_lag_0           0\n",
      "6   WindOff_DA_lag_0           0\n",
      "8               WD_6           0\n",
      "short model ************************\n",
      "             feature  importance\n",
      "0        Price_lag_1         275\n",
      "1        Price_lag_2          72\n",
      "3      Load_DA_lag_0          46\n",
      "5    WindOn_DA_lag_0          18\n",
      "10        Coal_lag_2           4\n",
      "2        Price_lag_7           0\n",
      "4     Solar_DA_lag_0           0\n",
      "6   WindOff_DA_lag_0           0\n",
      "7               WD_1           0\n",
      "8               WD_6           0\n",
      "9               WD_7           0\n",
      "11        NGas_lag_2           0\n",
      "12         Oil_lag_2           0\n",
      "13         EUA_lag_2           0\n",
      "-> finished loop 5\n",
      "Loop   9: train 2019-03-11 00:00:00 -> 2023-01-09 00:00:00, forecast 2023-01-10 00:00:00\n",
      "  dat_slice shape: torch.Size([1402, 24, 10])  → flatten count = 33648\n"
     ]
    },
    {
     "name": "stderr",
     "output_type": "stream",
     "text": [
      "[I 2025-06-13 20:47:02,447] Trial 3 finished with value: 0.009451341067928377 and parameters: {'n_estimators': 108, 'learning_rate': 0.07264846964341887, 'num_leaves': 156, 'max_depth': 6, 'min_child_samples': 5, 'subsample': 0.5004279083551733, 'colsample_bytree': 0.8126315019615654, 'reg_alpha': 0.06334065249244403, 'reg_lambda': 8.868485058499214, 'min_split_gain': 0.04079187542160447}. Best is trial 0 with value: 0.007527441231315789.\n",
      "[I 2025-06-13 20:47:02,450] A new study created in memory with name: no-name-e2354eea-f42a-467c-9f1a-f6cad2459f69\n",
      "[I 2025-06-13 20:47:02,609] Trial 2 finished with value: 0.007023469014516513 and parameters: {'n_estimators': 278, 'learning_rate': 0.040648153199493435, 'num_leaves': 139, 'max_depth': 16, 'min_child_samples': 27, 'subsample': 0.6533015730168819, 'colsample_bytree': 0.5053492131813564, 'reg_alpha': 3.5888742260127557, 'reg_lambda': 0.2077811649259942, 'min_split_gain': 0.01886873183699996}. Best is trial 2 with value: 0.007023469014516513.\n"
     ]
    },
    {
     "name": "stdout",
     "output_type": "stream",
     "text": [
      "[Trial 3] No significant gain (Δ ≤ 0.001). Counter: 3/3\n",
      "\n",
      "⏹️  Early stop: no gain > 0.001 in last 3 trials.\n",
      "[Trial 2] No significant gain (Δ ≤ 0.001). Counter: 1/3\n"
     ]
    },
    {
     "name": "stderr",
     "output_type": "stream",
     "text": [
      "[I 2025-06-13 20:47:02,774] Trial 0 finished with value: 0.02330744919193436 and parameters: {'n_estimators': 156, 'learning_rate': 0.2373976452926026, 'num_leaves': 181, 'max_depth': 12, 'min_child_samples': 15, 'subsample': 0.6659767849265644, 'colsample_bytree': 0.5148050663535338, 'reg_alpha': 7.729769167196733, 'reg_lambda': 9.295910593021304, 'min_split_gain': 0.03613216562917967}. Best is trial 0 with value: 0.02330744919193436.\n",
      "[I 2025-06-13 20:47:02,847] Trial 0 finished with value: 0.011306168915079897 and parameters: {'n_estimators': 134, 'learning_rate': 0.017885283209096534, 'num_leaves': 210, 'max_depth': 9, 'min_child_samples': 26, 'subsample': 0.9964159975444982, 'colsample_bytree': 0.8925549839400873, 'reg_alpha': 7.511229928463439, 'reg_lambda': 1.1173591547468986, 'min_split_gain': 0.022455907989314478}. Best is trial 0 with value: 0.011306168915079897.\n",
      "[I 2025-06-13 20:47:02,898] Trial 3 finished with value: 0.02745141912141601 and parameters: {'n_estimators': 153, 'learning_rate': 0.22511172716343963, 'num_leaves': 228, 'max_depth': 12, 'min_child_samples': 26, 'subsample': 0.9449443580766606, 'colsample_bytree': 0.7690128987069289, 'reg_alpha': 1.3803070631837, 'reg_lambda': 2.283166491472458, 'min_split_gain': 0.007658759646061103}. Best is trial 3 with value: 0.02745141912141601.\n"
     ]
    },
    {
     "name": "stdout",
     "output_type": "stream",
     "text": [
      "[Trial 0] New best: 0.02331\n",
      "[Trial 0] No significant gain (Δ ≤ 0.001). Counter: 4/3\n",
      "\n",
      "⏹️  Early stop: no gain > 0.001 in last 3 trials.\n",
      "[Trial 3] No significant gain (Δ ≤ 0.001). Counter: 1/3\n"
     ]
    },
    {
     "name": "stderr",
     "output_type": "stream",
     "text": [
      "[I 2025-06-13 20:47:03,644] Trial 0 finished with value: 0.008859660097714765 and parameters: {'n_estimators': 242, 'learning_rate': 0.017504825489390762, 'num_leaves': 90, 'max_depth': 5, 'min_child_samples': 13, 'subsample': 0.8178254651971801, 'colsample_bytree': 0.7645775549785778, 'reg_alpha': 2.526475115390676, 'reg_lambda': 5.7560474308135, 'min_split_gain': 0.01581832457972725}. Best is trial 0 with value: 0.008859660097714765.\n"
     ]
    },
    {
     "name": "stdout",
     "output_type": "stream",
     "text": [
      "[Trial 0] New best: 0.00886\n",
      "long model ************************\n",
      "             feature  importance\n",
      "0        Price_lag_1        1069\n",
      "1        Price_lag_2         791\n",
      "3      Load_DA_lag_0         632\n",
      "2        Price_lag_7         510\n",
      "10        Coal_lag_2         374\n",
      "5    WindOn_DA_lag_0         367\n",
      "11        NGas_lag_2         317\n",
      "13         EUA_lag_2         305\n",
      "12         Oil_lag_2         175\n",
      "9               WD_7          28\n",
      "7               WD_1          14\n",
      "8               WD_6           4\n",
      "4     Solar_DA_lag_0           0\n",
      "6   WindOff_DA_lag_0           0\n",
      "short model ************************\n",
      "             feature  importance\n",
      "0        Price_lag_1          51\n",
      "3      Load_DA_lag_0           7\n",
      "2        Price_lag_7           4\n",
      "5    WindOn_DA_lag_0           2\n",
      "10        Coal_lag_2           1\n",
      "13         EUA_lag_2           1\n",
      "1        Price_lag_2           0\n",
      "4     Solar_DA_lag_0           0\n",
      "6   WindOff_DA_lag_0           0\n",
      "7               WD_1           0\n",
      "8               WD_6           0\n",
      "9               WD_7           0\n",
      "11        NGas_lag_2           0\n",
      "12         Oil_lag_2           0\n",
      "-> finished loop 2\n"
     ]
    },
    {
     "name": "stderr",
     "output_type": "stream",
     "text": [
      "[I 2025-06-13 20:47:04,159] Trial 4 finished with value: 0.031036122613455938 and parameters: {'n_estimators': 95, 'learning_rate': 0.03936678583615373, 'num_leaves': 167, 'max_depth': 4, 'min_child_samples': 10, 'subsample': 0.5001840273117724, 'colsample_bytree': 0.8121924706433707, 'reg_alpha': 1.8509691930035976, 'reg_lambda': 0.35981455050772104, 'min_split_gain': 0.027078108312051187}. Best is trial 3 with value: 0.02745141912141601.\n"
     ]
    },
    {
     "name": "stdout",
     "output_type": "stream",
     "text": [
      "[Trial 4] No significant gain (Δ ≤ 0.001). Counter: 2/3\n"
     ]
    },
    {
     "name": "stderr",
     "output_type": "stream",
     "text": [
      "[I 2025-06-13 20:47:05,628] Trial 0 finished with value: 0.018437709320457844 and parameters: {'n_estimators': 173, 'learning_rate': 0.012066738823096999, 'num_leaves': 160, 'max_depth': 10, 'min_child_samples': 8, 'subsample': 0.6276530707418222, 'colsample_bytree': 0.7278085951932904, 'reg_alpha': 9.250611879027725, 'reg_lambda': 1.3106715261403046, 'min_split_gain': 0.03367700957282129}. Best is trial 0 with value: 0.018437709320457844.\n"
     ]
    },
    {
     "name": "stdout",
     "output_type": "stream",
     "text": [
      "[Trial 0] New best: 0.01844\n"
     ]
    },
    {
     "name": "stderr",
     "output_type": "stream",
     "text": [
      "[I 2025-06-13 20:47:06,070] Trial 1 finished with value: 0.008491431688730317 and parameters: {'n_estimators': 65, 'learning_rate': 0.13517556691984747, 'num_leaves': 251, 'max_depth': 10, 'min_child_samples': 29, 'subsample': 0.6896497887837901, 'colsample_bytree': 0.7060756849634275, 'reg_alpha': 5.2062636523277455, 'reg_lambda': 0.008319615988650053, 'min_split_gain': 0.0027269957830614814}. Best is trial 1 with value: 0.008491431688730317.\n"
     ]
    },
    {
     "name": "stdout",
     "output_type": "stream",
     "text": [
      "[Trial 1] No significant gain (Δ ≤ 0.001). Counter: 1/3\n"
     ]
    },
    {
     "name": "stderr",
     "output_type": "stream",
     "text": [
      "[I 2025-06-13 20:47:07,194] Trial 3 finished with value: 0.011007855170024741 and parameters: {'n_estimators': 153, 'learning_rate': 0.016855853474946083, 'num_leaves': 34, 'max_depth': 9, 'min_child_samples': 4, 'subsample': 0.5051715691250576, 'colsample_bytree': 0.7278589971332312, 'reg_alpha': 8.126700845912552, 'reg_lambda': 0.06490974649182246, 'min_split_gain': 0.005550064108124576}. Best is trial 2 with value: 0.007023469014516513.\n"
     ]
    },
    {
     "name": "stdout",
     "output_type": "stream",
     "text": [
      "[Trial 3] No significant gain (Δ ≤ 0.001). Counter: 2/3\n"
     ]
    },
    {
     "name": "stderr",
     "output_type": "stream",
     "text": [
      "[I 2025-06-13 20:47:07,439] Trial 1 finished with value: 0.021417307138561863 and parameters: {'n_estimators': 152, 'learning_rate': 0.020517451585283005, 'num_leaves': 221, 'max_depth': 15, 'min_child_samples': 16, 'subsample': 0.61819677216814, 'colsample_bytree': 0.6709643490550956, 'reg_alpha': 3.1968080446914007, 'reg_lambda': 3.565709047644632, 'min_split_gain': 0.044407038980159914}. Best is trial 1 with value: 0.021417307138561863.\n"
     ]
    },
    {
     "name": "stdout",
     "output_type": "stream",
     "text": [
      "[Trial 1] New best: 0.02142\n"
     ]
    },
    {
     "name": "stderr",
     "output_type": "stream",
     "text": [
      "[I 2025-06-13 20:47:07,667] Trial 5 finished with value: 0.0268879568349112 and parameters: {'n_estimators': 82, 'learning_rate': 0.0802532844881341, 'num_leaves': 122, 'max_depth': 10, 'min_child_samples': 27, 'subsample': 0.9458504006134911, 'colsample_bytree': 0.9332101913002468, 'reg_alpha': 1.269254251198988, 'reg_lambda': 5.580396697325286, 'min_split_gain': 0.031132388975296577}. Best is trial 5 with value: 0.0268879568349112.\n",
      "[I 2025-06-13 20:47:07,791] Trial 2 finished with value: 0.00816459249386746 and parameters: {'n_estimators': 229, 'learning_rate': 0.11627424979997582, 'num_leaves': 65, 'max_depth': 15, 'min_child_samples': 4, 'subsample': 0.6845633844373222, 'colsample_bytree': 0.8733727993663082, 'reg_alpha': 5.120671313102962, 'reg_lambda': 1.6290585207927422, 'min_split_gain': 0.03641473578096209}. Best is trial 2 with value: 0.00816459249386746.\n"
     ]
    },
    {
     "name": "stdout",
     "output_type": "stream",
     "text": [
      "[Trial 5] New best: 0.02689\n",
      "[Trial 2] No significant gain (Δ ≤ 0.001). Counter: 2/3\n"
     ]
    },
    {
     "name": "stderr",
     "output_type": "stream",
     "text": [
      "[I 2025-06-13 20:47:08,999] Trial 4 finished with value: 0.005964956160318199 and parameters: {'n_estimators': 229, 'learning_rate': 0.1037634973175493, 'num_leaves': 136, 'max_depth': 6, 'min_child_samples': 14, 'subsample': 0.654164389033915, 'colsample_bytree': 0.8716212534186598, 'reg_alpha': 6.634042775752728, 'reg_lambda': 4.479948912367428, 'min_split_gain': 0.016544242238807596}. Best is trial 4 with value: 0.005964956160318199.\n"
     ]
    },
    {
     "name": "stdout",
     "output_type": "stream",
     "text": [
      "[Trial 4] New best: 0.00596\n",
      "long model ************************\n",
      "             feature  importance\n",
      "0        Price_lag_1        1718\n",
      "1        Price_lag_2        1038\n",
      "2        Price_lag_7         749\n",
      "3      Load_DA_lag_0         660\n",
      "11        NGas_lag_2         334\n",
      "10        Coal_lag_2         300\n",
      "13         EUA_lag_2         297\n",
      "12         Oil_lag_2         267\n",
      "5    WindOn_DA_lag_0         259\n",
      "9               WD_7          37\n",
      "8               WD_6           4\n",
      "7               WD_1           2\n",
      "4     Solar_DA_lag_0           0\n",
      "6   WindOff_DA_lag_0           0\n",
      "short model ************************\n",
      "             feature  importance\n",
      "0        Price_lag_1         213\n",
      "1        Price_lag_2          11\n",
      "3      Load_DA_lag_0           1\n",
      "2        Price_lag_7           0\n",
      "4     Solar_DA_lag_0           0\n",
      "5    WindOn_DA_lag_0           0\n",
      "6   WindOff_DA_lag_0           0\n",
      "7               WD_1           0\n",
      "8               WD_6           0\n",
      "9               WD_7           0\n",
      "10        Coal_lag_2           0\n",
      "11        NGas_lag_2           0\n",
      "12         Oil_lag_2           0\n",
      "13         EUA_lag_2           0\n",
      "-> finished loop 1\n"
     ]
    },
    {
     "name": "stderr",
     "output_type": "stream",
     "text": [
      "[I 2025-06-13 20:47:09,632] Trial 5 finished with value: 0.006627782478819423 and parameters: {'n_estimators': 77, 'learning_rate': 0.19440018901552727, 'num_leaves': 172, 'max_depth': 4, 'min_child_samples': 5, 'subsample': 0.9020130056070633, 'colsample_bytree': 0.8897134029536271, 'reg_alpha': 0.3509754153892397, 'reg_lambda': 6.602902716476892, 'min_split_gain': 0.03445936304599245}. Best is trial 4 with value: 0.005964956160318199.\n"
     ]
    },
    {
     "name": "stdout",
     "output_type": "stream",
     "text": [
      "[Trial 5] No significant gain (Δ ≤ 0.001). Counter: 1/3\n"
     ]
    },
    {
     "name": "stderr",
     "output_type": "stream",
     "text": [
      "[I 2025-06-13 20:47:10,379] Trial 3 finished with value: 0.00842952456989674 and parameters: {'n_estimators': 236, 'learning_rate': 0.08371902770079742, 'num_leaves': 213, 'max_depth': 9, 'min_child_samples': 22, 'subsample': 0.7093254459884057, 'colsample_bytree': 0.7669769529634924, 'reg_alpha': 0.8604413277215694, 'reg_lambda': 2.1463234464969916, 'min_split_gain': 0.04837276296461421}. Best is trial 2 with value: 0.00816459249386746.\n",
      "[I 2025-06-13 20:47:10,381] A new study created in memory with name: no-name-a37c2be7-2782-453a-bb3c-63f7f03ad9ea\n",
      "[I 2025-06-13 20:47:10,492] Trial 0 finished with value: 0.07105156385115448 and parameters: {'n_estimators': 156, 'learning_rate': 0.11926134764742662, 'num_leaves': 234, 'max_depth': 5, 'min_child_samples': 5, 'subsample': 0.8780276243116738, 'colsample_bytree': 0.7366831888424833, 'reg_alpha': 8.855884756931214, 'reg_lambda': 9.939399955095901, 'min_split_gain': 0.011776901891577558}. Best is trial 0 with value: 0.07105156385115448.\n"
     ]
    },
    {
     "name": "stdout",
     "output_type": "stream",
     "text": [
      "[Trial 3] No significant gain (Δ ≤ 0.001). Counter: 3/3\n",
      "\n",
      "⏹️  Early stop: no gain > 0.001 in last 3 trials.\n",
      "[Trial 0] No significant gain (Δ ≤ 0.001). Counter: 4/3\n",
      "\n",
      "⏹️  Early stop: no gain > 0.001 in last 3 trials.\n"
     ]
    },
    {
     "name": "stderr",
     "output_type": "stream",
     "text": [
      "[I 2025-06-13 20:47:10,837] Trial 2 finished with value: 0.015631403145464042 and parameters: {'n_estimators': 259, 'learning_rate': 0.01056837352833708, 'num_leaves': 83, 'max_depth': 5, 'min_child_samples': 27, 'subsample': 0.7628668337207334, 'colsample_bytree': 0.9693016818051969, 'reg_alpha': 5.044065522942268, 'reg_lambda': 0.12895589767881077, 'min_split_gain': 0.035920307279692365}. Best is trial 2 with value: 0.015631403145464042.\n",
      "[I 2025-06-13 20:47:10,950] Trial 1 finished with value: 0.010890747353891124 and parameters: {'n_estimators': 285, 'learning_rate': 0.03690093387478769, 'num_leaves': 81, 'max_depth': 14, 'min_child_samples': 12, 'subsample': 0.5054635425692986, 'colsample_bytree': 0.943290126823817, 'reg_alpha': 4.989256404109388, 'reg_lambda': 4.081113095530762, 'min_split_gain': 0.030167391481702582}. Best is trial 1 with value: 0.010890747353891124.\n"
     ]
    },
    {
     "name": "stdout",
     "output_type": "stream",
     "text": [
      "[Trial 2] New best: 0.01563\n",
      "[Trial 1] New best: 0.01089\n"
     ]
    },
    {
     "name": "stderr",
     "output_type": "stream",
     "text": [
      "[I 2025-06-13 20:47:11,705] Trial 6 finished with value: 0.0279296612681157 and parameters: {'n_estimators': 103, 'learning_rate': 0.024244303540408862, 'num_leaves': 234, 'max_depth': 13, 'min_child_samples': 30, 'subsample': 0.5841202629289853, 'colsample_bytree': 0.723057827809167, 'reg_alpha': 0.9182636343101713, 'reg_lambda': 9.84376371411097, 'min_split_gain': 0.0025781539018527202}. Best is trial 5 with value: 0.0268879568349112.\n"
     ]
    },
    {
     "name": "stdout",
     "output_type": "stream",
     "text": [
      "[Trial 6] No significant gain (Δ ≤ 0.001). Counter: 1/3\n",
      "long model ************************\n",
      "             feature  importance\n",
      "0        Price_lag_1         456\n",
      "1        Price_lag_2         428\n",
      "3      Load_DA_lag_0         239\n",
      "2        Price_lag_7         170\n",
      "11        NGas_lag_2         160\n",
      "10        Coal_lag_2         141\n",
      "5    WindOn_DA_lag_0         102\n",
      "13         EUA_lag_2          99\n",
      "12         Oil_lag_2          89\n",
      "9               WD_7          12\n",
      "7               WD_1           2\n",
      "4     Solar_DA_lag_0           0\n",
      "6   WindOff_DA_lag_0           0\n",
      "8               WD_6           0\n",
      "short model ************************\n",
      "             feature  importance\n",
      "0        Price_lag_1          43\n",
      "3      Load_DA_lag_0          17\n",
      "1        Price_lag_2           3\n",
      "11        NGas_lag_2           1\n",
      "2        Price_lag_7           0\n",
      "4     Solar_DA_lag_0           0\n",
      "5    WindOn_DA_lag_0           0\n",
      "6   WindOff_DA_lag_0           0\n",
      "7               WD_1           0\n",
      "8               WD_6           0\n",
      "9               WD_7           0\n",
      "10        Coal_lag_2           0\n",
      "12         Oil_lag_2           0\n",
      "13         EUA_lag_2           0\n",
      "-> finished loop 7\n"
     ]
    },
    {
     "name": "stderr",
     "output_type": "stream",
     "text": [
      "[I 2025-06-13 20:47:13,513] Trial 2 finished with value: 0.015894531935357 and parameters: {'n_estimators': 84, 'learning_rate': 0.14655046750846382, 'num_leaves': 33, 'max_depth': 9, 'min_child_samples': 3, 'subsample': 0.5112288505473654, 'colsample_bytree': 0.5753265934663128, 'reg_alpha': 0.9831551439567188, 'reg_lambda': 2.87615566552351, 'min_split_gain': 0.004524104491384734}. Best is trial 1 with value: 0.010890747353891124.\n"
     ]
    },
    {
     "name": "stdout",
     "output_type": "stream",
     "text": [
      "[Trial 2] No significant gain (Δ ≤ 0.001). Counter: 1/3\n"
     ]
    },
    {
     "name": "stderr",
     "output_type": "stream",
     "text": [
      "[I 2025-06-13 20:47:14,009] Trial 3 finished with value: 0.014859248129679063 and parameters: {'n_estimators': 138, 'learning_rate': 0.035393956461332414, 'num_leaves': 168, 'max_depth': 7, 'min_child_samples': 7, 'subsample': 0.5600227197745216, 'colsample_bytree': 0.9039005078829125, 'reg_alpha': 4.544760345526479, 'reg_lambda': 8.199841992628363, 'min_split_gain': 0.03956180786054028}. Best is trial 3 with value: 0.014859248129679063.\n"
     ]
    },
    {
     "name": "stdout",
     "output_type": "stream",
     "text": [
      "[Trial 3] No significant gain (Δ ≤ 0.001). Counter: 1/3\n"
     ]
    },
    {
     "name": "stderr",
     "output_type": "stream",
     "text": [
      "[I 2025-06-13 20:47:14,387] Trial 6 finished with value: 0.006999105207917455 and parameters: {'n_estimators': 197, 'learning_rate': 0.019526033455578698, 'num_leaves': 77, 'max_depth': 15, 'min_child_samples': 10, 'subsample': 0.677745806004806, 'colsample_bytree': 0.8015173666293856, 'reg_alpha': 5.214438655246431, 'reg_lambda': 9.624011783030467, 'min_split_gain': 0.021741059820877113}. Best is trial 4 with value: 0.005964956160318199.\n"
     ]
    },
    {
     "name": "stdout",
     "output_type": "stream",
     "text": [
      "[Trial 6] No significant gain (Δ ≤ 0.001). Counter: 2/3\n"
     ]
    },
    {
     "name": "stderr",
     "output_type": "stream",
     "text": [
      "[I 2025-06-13 20:47:15,556] Trial 7 finished with value: 0.046069266332596 and parameters: {'n_estimators': 73, 'learning_rate': 0.015017324635040174, 'num_leaves': 90, 'max_depth': 9, 'min_child_samples': 30, 'subsample': 0.5493151431457337, 'colsample_bytree': 0.7018278779509626, 'reg_alpha': 3.8515714669489407, 'reg_lambda': 6.313353161179553, 'min_split_gain': 0.04801278883590407}. Best is trial 4 with value: 0.005964956160318199.\n",
      "[I 2025-06-13 20:47:15,559] A new study created in memory with name: no-name-7a16bae9-1dd7-4abb-9c8b-55a140ff3560\n",
      "[I 2025-06-13 20:47:15,705] Trial 0 finished with value: 0.10630920075726334 and parameters: {'n_estimators': 134, 'learning_rate': 0.013653046334695582, 'num_leaves': 31, 'max_depth': 10, 'min_child_samples': 15, 'subsample': 0.8237531623279357, 'colsample_bytree': 0.950996287907381, 'reg_alpha': 9.773407379505114, 'reg_lambda': 1.2108140339486628, 'min_split_gain': 0.03624894904485871}. Best is trial 0 with value: 0.10630920075726334.\n"
     ]
    },
    {
     "name": "stdout",
     "output_type": "stream",
     "text": [
      "[Trial 7] No significant gain (Δ ≤ 0.001). Counter: 3/3\n",
      "\n",
      "⏹️  Early stop: no gain > 0.001 in last 3 trials.\n",
      "[Trial 0] No significant gain (Δ ≤ 0.001). Counter: 4/3\n",
      "\n",
      "⏹️  Early stop: no gain > 0.001 in last 3 trials.\n"
     ]
    },
    {
     "name": "stderr",
     "output_type": "stream",
     "text": [
      "[I 2025-06-13 20:47:16,634] Trial 7 finished with value: 0.028828787336982725 and parameters: {'n_estimators': 220, 'learning_rate': 0.016452012490528224, 'num_leaves': 138, 'max_depth': 10, 'min_child_samples': 26, 'subsample': 0.9986399331719347, 'colsample_bytree': 0.7461161160798093, 'reg_alpha': 1.9568630377830099, 'reg_lambda': 8.081108821291194, 'min_split_gain': 0.037449963015626496}. Best is trial 5 with value: 0.0268879568349112.\n"
     ]
    },
    {
     "name": "stdout",
     "output_type": "stream",
     "text": [
      "[Trial 7] No significant gain (Δ ≤ 0.001). Counter: 2/3\n",
      "long model ************************\n",
      "             feature  importance\n",
      "0        Price_lag_1         559\n",
      "1        Price_lag_2         493\n",
      "3      Load_DA_lag_0         260\n",
      "2        Price_lag_7         156\n",
      "11        NGas_lag_2         145\n",
      "5    WindOn_DA_lag_0         144\n",
      "10        Coal_lag_2         142\n",
      "13         EUA_lag_2         105\n",
      "12         Oil_lag_2         103\n",
      "9               WD_7           8\n",
      "7               WD_1           2\n",
      "4     Solar_DA_lag_0           0\n",
      "6   WindOff_DA_lag_0           0\n",
      "8               WD_6           0\n",
      "short model ************************\n",
      "             feature  importance\n",
      "0        Price_lag_1         190\n",
      "1        Price_lag_2          12\n",
      "3      Load_DA_lag_0           6\n",
      "2        Price_lag_7           0\n",
      "4     Solar_DA_lag_0           0\n",
      "5    WindOn_DA_lag_0           0\n",
      "6   WindOff_DA_lag_0           0\n",
      "7               WD_1           0\n",
      "8               WD_6           0\n",
      "9               WD_7           0\n",
      "10        Coal_lag_2           0\n",
      "11        NGas_lag_2           0\n",
      "12         Oil_lag_2           0\n",
      "13         EUA_lag_2           0\n",
      "-> finished loop 4\n"
     ]
    },
    {
     "name": "stderr",
     "output_type": "stream",
     "text": [
      "[I 2025-06-13 20:47:17,757] Trial 3 finished with value: 0.01017231061059982 and parameters: {'n_estimators': 247, 'learning_rate': 0.041272411964401005, 'num_leaves': 70, 'max_depth': 11, 'min_child_samples': 26, 'subsample': 0.8166924112021561, 'colsample_bytree': 0.9785079547459947, 'reg_alpha': 0.7309124370904008, 'reg_lambda': 6.600014180310271, 'min_split_gain': 0.034318164110737036}. Best is trial 3 with value: 0.01017231061059982.\n"
     ]
    },
    {
     "name": "stdout",
     "output_type": "stream",
     "text": [
      "[Trial 3] No significant gain (Δ ≤ 0.001). Counter: 2/3\n"
     ]
    },
    {
     "name": "stderr",
     "output_type": "stream",
     "text": [
      "[I 2025-06-13 20:47:18,055] Trial 8 finished with value: 0.02834995384844652 and parameters: {'n_estimators': 202, 'learning_rate': 0.07795081473868672, 'num_leaves': 215, 'max_depth': 15, 'min_child_samples': 29, 'subsample': 0.6343245849766196, 'colsample_bytree': 0.7257843236580311, 'reg_alpha': 1.9468314649167573, 'reg_lambda': 9.048816644906012, 'min_split_gain': 0.04295679202426543}. Best is trial 5 with value: 0.0268879568349112.\n",
      "[I 2025-06-13 20:47:18,058] A new study created in memory with name: no-name-addb8a8a-57ef-4276-9464-29d7ccd0cd87\n",
      "[I 2025-06-13 20:47:18,166] Trial 0 finished with value: 0.04230076362549524 and parameters: {'n_estimators': 148, 'learning_rate': 0.04884493899918704, 'num_leaves': 238, 'max_depth': 11, 'min_child_samples': 3, 'subsample': 0.6835104219921353, 'colsample_bytree': 0.7979947672411465, 'reg_alpha': 5.129349420524459, 'reg_lambda': 4.90870519200734, 'min_split_gain': 0.03223707501394632}. Best is trial 0 with value: 0.04230076362549524.\n"
     ]
    },
    {
     "name": "stdout",
     "output_type": "stream",
     "text": [
      "[Trial 8] No significant gain (Δ ≤ 0.001). Counter: 3/3\n",
      "\n",
      "⏹️  Early stop: no gain > 0.001 in last 3 trials.\n",
      "[Trial 0] No significant gain (Δ ≤ 0.001). Counter: 4/3\n",
      "\n",
      "⏹️  Early stop: no gain > 0.001 in last 3 trials.\n"
     ]
    },
    {
     "name": "stderr",
     "output_type": "stream",
     "text": [
      "[I 2025-06-13 20:47:18,460] Trial 4 finished with value: 0.013497513060122937 and parameters: {'n_estimators': 204, 'learning_rate': 0.016422275453340823, 'num_leaves': 118, 'max_depth': 8, 'min_child_samples': 1, 'subsample': 0.5687952003985492, 'colsample_bytree': 0.8834405522922837, 'reg_alpha': 1.8878556088709153, 'reg_lambda': 6.662217594839861, 'min_split_gain': 0.026846892930382116}. Best is trial 4 with value: 0.013497513060122937.\n"
     ]
    },
    {
     "name": "stdout",
     "output_type": "stream",
     "text": [
      "[Trial 4] New best: 0.01350\n"
     ]
    },
    {
     "name": "stderr",
     "output_type": "stream",
     "text": [
      "[I 2025-06-13 20:47:19,270] Trial 5 finished with value: 0.019100231648707968 and parameters: {'n_estimators': 67, 'learning_rate': 0.04991448888908701, 'num_leaves': 178, 'max_depth': 8, 'min_child_samples': 28, 'subsample': 0.6214131821239115, 'colsample_bytree': 0.7535689153124071, 'reg_alpha': 1.738642169475142, 'reg_lambda': 9.251417526526758, 'min_split_gain': 0.037219604908595806}. Best is trial 4 with value: 0.013497513060122937.\n"
     ]
    },
    {
     "name": "stdout",
     "output_type": "stream",
     "text": [
      "[Trial 5] No significant gain (Δ ≤ 0.001). Counter: 1/3\n"
     ]
    },
    {
     "name": "stderr",
     "output_type": "stream",
     "text": [
      "[I 2025-06-13 20:47:19,826] Trial 6 finished with value: 0.018009929279166673 and parameters: {'n_estimators': 92, 'learning_rate': 0.15110569103888216, 'num_leaves': 234, 'max_depth': 6, 'min_child_samples': 24, 'subsample': 0.5552890109502313, 'colsample_bytree': 0.8468121230476064, 'reg_alpha': 8.844939273876994, 'reg_lambda': 3.415396385624414, 'min_split_gain': 0.045918612823891335}. Best is trial 4 with value: 0.013497513060122937.\n"
     ]
    },
    {
     "name": "stdout",
     "output_type": "stream",
     "text": [
      "[Trial 6] No significant gain (Δ ≤ 0.001). Counter: 2/3\n",
      "long model ************************\n",
      "             feature  importance\n",
      "0        Price_lag_1         950\n",
      "1        Price_lag_2         839\n",
      "3      Load_DA_lag_0         545\n",
      "2        Price_lag_7         411\n",
      "11        NGas_lag_2         312\n",
      "10        Coal_lag_2         286\n",
      "5    WindOn_DA_lag_0         235\n",
      "12         Oil_lag_2         232\n",
      "13         EUA_lag_2         168\n",
      "9               WD_7           5\n",
      "8               WD_6           1\n",
      "4     Solar_DA_lag_0           0\n",
      "6   WindOff_DA_lag_0           0\n",
      "7               WD_1           0\n",
      "short model ************************\n",
      "             feature  importance\n",
      "0        Price_lag_1         109\n",
      "3      Load_DA_lag_0          21\n",
      "1        Price_lag_2           8\n",
      "13         EUA_lag_2           1\n",
      "2        Price_lag_7           0\n",
      "4     Solar_DA_lag_0           0\n",
      "5    WindOn_DA_lag_0           0\n",
      "6   WindOff_DA_lag_0           0\n",
      "7               WD_1           0\n",
      "8               WD_6           0\n",
      "9               WD_7           0\n",
      "10        Coal_lag_2           0\n",
      "11        NGas_lag_2           0\n",
      "12         Oil_lag_2           0\n",
      "-> finished loop 0\n"
     ]
    },
    {
     "name": "stderr",
     "output_type": "stream",
     "text": [
      "[I 2025-06-13 20:47:20,157] Trial 7 finished with value: 0.01890528957787868 and parameters: {'n_estimators': 134, 'learning_rate': 0.18023606238283535, 'num_leaves': 194, 'max_depth': 5, 'min_child_samples': 13, 'subsample': 0.7747217135616025, 'colsample_bytree': 0.8515485777892962, 'reg_alpha': 9.999042562296909, 'reg_lambda': 4.897750962564925, 'min_split_gain': 0.033933559903182184}. Best is trial 4 with value: 0.013497513060122937.\n",
      "[I 2025-06-13 20:47:20,159] A new study created in memory with name: no-name-f2be1c13-78cf-49a4-abef-253c6e22f1af\n",
      "[I 2025-06-13 20:47:20,258] Trial 0 finished with value: 0.25033680535531916 and parameters: {'n_estimators': 254, 'learning_rate': 0.036842332607035885, 'num_leaves': 42, 'max_depth': 7, 'min_child_samples': 16, 'subsample': 0.6470959404364198, 'colsample_bytree': 0.7937480073541355, 'reg_alpha': 8.470022886532446, 'reg_lambda': 4.043023100630952, 'min_split_gain': 0.009049924567393458}. Best is trial 0 with value: 0.25033680535531916.\n"
     ]
    },
    {
     "name": "stdout",
     "output_type": "stream",
     "text": [
      "[Trial 7] No significant gain (Δ ≤ 0.001). Counter: 3/3\n",
      "\n",
      "⏹️  Early stop: no gain > 0.001 in last 3 trials.\n",
      "[Trial 0] No significant gain (Δ ≤ 0.001). Counter: 4/3\n",
      "\n",
      "⏹️  Early stop: no gain > 0.001 in last 3 trials.\n"
     ]
    },
    {
     "name": "stderr",
     "output_type": "stream",
     "text": [
      "[I 2025-06-13 20:47:20,400] Trial 4 finished with value: 0.026331061961006135 and parameters: {'n_estimators': 183, 'learning_rate': 0.01152468685335159, 'num_leaves': 132, 'max_depth': 11, 'min_child_samples': 2, 'subsample': 0.6239269918579105, 'colsample_bytree': 0.5898679866216323, 'reg_alpha': 8.245828038804474, 'reg_lambda': 5.962619920570765, 'min_split_gain': 0.01494997051134791}. Best is trial 3 with value: 0.01017231061059982.\n",
      "[I 2025-06-13 20:47:20,402] A new study created in memory with name: no-name-e473e9a2-fba9-4314-9cb8-b4723a3a4905\n",
      "[I 2025-06-13 20:47:20,516] Trial 0 finished with value: 0.28200804675364016 and parameters: {'n_estimators': 117, 'learning_rate': 0.012252476390887302, 'num_leaves': 48, 'max_depth': 13, 'min_child_samples': 16, 'subsample': 0.7348059109646637, 'colsample_bytree': 0.7097079999061746, 'reg_alpha': 3.8068261481911936, 'reg_lambda': 7.797497571513462, 'min_split_gain': 0.013252985983098459}. Best is trial 0 with value: 0.28200804675364016.\n"
     ]
    },
    {
     "name": "stdout",
     "output_type": "stream",
     "text": [
      "[Trial 4] No significant gain (Δ ≤ 0.001). Counter: 3/3\n",
      "\n",
      "⏹️  Early stop: no gain > 0.001 in last 3 trials.\n",
      "[Trial 0] No significant gain (Δ ≤ 0.001). Counter: 4/3\n",
      "\n",
      "⏹️  Early stop: no gain > 0.001 in last 3 trials.\n",
      "long model ************************\n",
      "             feature  importance\n",
      "0        Price_lag_1        3383\n",
      "1        Price_lag_2        2901\n",
      "2        Price_lag_7        1331\n",
      "11        NGas_lag_2        1331\n",
      "10        Coal_lag_2        1232\n",
      "3      Load_DA_lag_0         821\n",
      "12         Oil_lag_2         560\n",
      "5    WindOn_DA_lag_0         489\n",
      "13         EUA_lag_2         448\n",
      "9               WD_7           7\n",
      "4     Solar_DA_lag_0           0\n",
      "6   WindOff_DA_lag_0           0\n",
      "7               WD_1           0\n",
      "8               WD_6           0\n",
      "short model ************************\n",
      "             feature  importance\n",
      "0        Price_lag_1         193\n",
      "1        Price_lag_2          19\n",
      "3      Load_DA_lag_0          13\n",
      "11        NGas_lag_2           3\n",
      "2        Price_lag_7           0\n",
      "4     Solar_DA_lag_0           0\n",
      "5    WindOn_DA_lag_0           0\n",
      "6   WindOff_DA_lag_0           0\n",
      "7               WD_1           0\n",
      "8               WD_6           0\n",
      "9               WD_7           0\n",
      "10        Coal_lag_2           0\n",
      "12         Oil_lag_2           0\n",
      "13         EUA_lag_2           0\n",
      "-> finished loop 9\n",
      "long model ************************\n",
      "             feature  importance\n",
      "0        Price_lag_1        2356\n",
      "1        Price_lag_2        1681\n",
      "3      Load_DA_lag_0        1489\n",
      "2        Price_lag_7        1008\n",
      "5    WindOn_DA_lag_0         971\n",
      "11        NGas_lag_2         800\n",
      "12         Oil_lag_2         587\n",
      "10        Coal_lag_2         550\n",
      "13         EUA_lag_2         388\n",
      "9               WD_7          28\n",
      "8               WD_6           6\n",
      "7               WD_1           1\n",
      "4     Solar_DA_lag_0           0\n",
      "6   WindOff_DA_lag_0           0\n",
      "short model ************************\n",
      "             feature  importance\n",
      "0        Price_lag_1         254\n",
      "3      Load_DA_lag_0          54\n",
      "1        Price_lag_2          42\n",
      "5    WindOn_DA_lag_0          22\n",
      "11        NGas_lag_2           7\n",
      "13         EUA_lag_2           4\n",
      "2        Price_lag_7           2\n",
      "10        Coal_lag_2           2\n",
      "4     Solar_DA_lag_0           0\n",
      "6   WindOff_DA_lag_0           0\n",
      "7               WD_1           0\n",
      "8               WD_6           0\n",
      "9               WD_7           0\n",
      "12         Oil_lag_2           0\n",
      "-> finished loop 8\n",
      "Zone NO1 LBGM-24h RMSE: nan\n"
     ]
    }
   ],
   "source": [
    "# set the GPU\n",
    "device = torch.device(\"cuda\" if torch.cuda.is_available() else \"cpu\")\n",
    "\n",
    "# **************************************\n",
    "# define dates for training and evaluation \n",
    "# **************************************\n",
    "INIT_DATE_EXPERIMENTS = '2019-01-01'\n",
    "INIT_TEST_DATE = '2023-01-01'\n",
    "FINAL_DATE_EXPERIMENTS = '2024-12-31'\n",
    "n_days_test = (pd.to_datetime(FINAL_DATE_EXPERIMENTS) - pd.to_datetime(INIT_TEST_DATE)).days + (1) # additional adjustment\n",
    "\n",
    "repo_root = Path.cwd().parents[1]\n",
    "mapcodes = [\"NO1\"] # [\"NO1\",\"NO2\",\"NO3\",\"NO4\",\"NO5\"]\n",
    "maps_dict = {}\n",
    "\n",
    "for code in mapcodes:\n",
    "    csv_path = repo_root / \"data\" / f\"data_{code}.csv\"\n",
    "    df = pd.read_csv(csv_path, parse_dates=[\"time_utc\"])\n",
    "    data_t, train_t, train_dates, price_t = prepare_dataset_tensor_modified(\n",
    "        csv_path,\n",
    "        tz=\"CET\",\n",
    "        seed=42,\n",
    "        test_days= n_days_test , # Here it should be 1*365 for 1 year of test, and so on\n",
    "        dtype=torch.float64,\n",
    "    )\n",
    "\n",
    "    # fix potential problems with dates after change time zone..\n",
    "    train_dates_series       = pd.DatetimeIndex(sorted(train_dates))\n",
    "    id_init_exp = train_dates_series.get_loc(pd.Timestamp(INIT_DATE_EXPERIMENTS))\n",
    "    id_init_test_period = train_dates_series.get_loc(pd.Timestamp(INIT_TEST_DATE))\n",
    "    id_end_exp = train_dates_series.get_loc(pd.Timestamp(FINAL_DATE_EXPERIMENTS))\n",
    "    data_t = data_t[id_init_exp:(id_end_exp+1), :,:]\n",
    "    train_dates = pd.Series(train_dates[id_init_exp:(id_end_exp+1)])\n",
    "\n",
    "    print(f\"days for test data ..{data_t.shape[0] - id_init_test_period}\")\n",
    "    \n",
    "    maps_dict[code] = {\n",
    "        \"df\": df,\n",
    "        \"data_t\": data_t,\n",
    "        \"train_t\": train_t,\n",
    "        \"train_dates\": train_dates,\n",
    "        \"price_t\": price_t\n",
    "    }\n",
    "maps_dict.keys()\n",
    "\n",
    "lgbm24_by_zone   = {}\n",
    "rmse_by_zone  = {}\n",
    "\n",
    "\n",
    "\n",
    "for z in mapcodes:\n",
    "    print(f\"\\n--- {z} ---\")\n",
    "    price_S      = maps_dict[z][\"price_t\"]\n",
    "    data_array   = maps_dict[z][\"data_t\"]\n",
    "    full_dates      = maps_dict[z][\"train_dates\"] # <-- here i change a bit the previuous function, prepare_data_tensor, it has all dates\n",
    "    feature_names= maps_dict[z][\"df\"].columns[1:]\n",
    "    full_date_series = pd.DatetimeIndex(sorted(full_dates))\n",
    "\n",
    "    # evaluation days (all of 2024)\n",
    "    train_start_idx = full_date_series.get_loc(pd.Timestamp(INIT_DATE_EXPERIMENTS))\n",
    "    id_init_eval = full_date_series.get_loc(pd.Timestamp(INIT_TEST_DATE))\n",
    "    id_end_eval = full_date_series.get_loc(pd.Timestamp(FINAL_DATE_EXPERIMENTS))\n",
    "    eval_start_idx = id_init_eval\n",
    "    eval_end_idx  = id_end_eval\n",
    "    N_s            = (eval_end_idx - eval_start_idx) + 1 # additional adjustment\n",
    "    full_dates = pd.to_datetime(full_dates)\n",
    "\n",
    "    \n",
    "\n",
    "    # new features: WD - dummy for week days, price lags for Mon, Tue and Fri, day-ahead load lag\n",
    "    WD             = [1,6,7]     \n",
    "    PRICE_S_LAGS   = [1,2,7]\n",
    "    DA_LAG         = [0]\n",
    "    S              = 24\n",
    "    #D             = 730\n",
    "\n",
    "    # tensors to collect forecasts for THIS zone\n",
    "    forecasts_zone = torch.full((N_s, S, 1), float(\"nan\"),\n",
    "                                dtype=torch.float64, device=device)\n",
    "\n",
    "    # thread pool\n",
    "    with ThreadPoolExecutor(max(1, os.cpu_count() // 2) + 1 ) as executor:\n",
    "        futures = [\n",
    "            executor.submit(\n",
    "                run_forecast_step_modified,\n",
    "                n,\n",
    "                price_S,\n",
    "                data_array,\n",
    "                train_start_idx = train_start_idx,\n",
    "                train_end_idx   = id_init_eval - 1,\n",
    "                full_dates      = full_dates,\n",
    "                wd              = WD,                \n",
    "                price_s_lags    = PRICE_S_LAGS,\n",
    "                da_lag          = DA_LAG,\n",
    "                feature_names   = feature_names,   # reg_names\n",
    "                n_trials_lgbm   = 10,\n",
    "                days_for_st_model = 7\n",
    "            )\n",
    "            for n in range(N_s)[:10]\n",
    "        ]\n",
    "\n",
    "        for fut in as_completed(futures):\n",
    "            try:\n",
    "                n, lgbm24 = fut.result()\n",
    "                forecasts_zone[n, :, 0] = lgbm24.detach().clone().to(forecasts_zone.dtype).to(forecasts_zone.device)\n",
    "            except Exception as e:\n",
    "                import traceback\n",
    "                print(f\"Thread crashed: {e}\")\n",
    "                traceback.print_exc()\n",
    "\n",
    "                \n",
    "    #   shape: (N_s, S)\n",
    "    true_vals = price_S[eval_start_idx : eval_end_idx + 1].to(device)  \n",
    "    \n",
    "    # compute RMSE\n",
    "    diff = forecasts_zone[:, :, 0] - true_vals\n",
    "    rmse = torch.sqrt((diff**2).mean()).item()\n",
    "    \n",
    "    print(f\"Zone {z} LBGM-24h RMSE: {rmse:.4f}\")\n",
    "\n",
    "    lgbm24_by_zone[z] = forecasts_zone[:, :, 0].cpu()\n",
    "    rmse_by_zone[z]  = rmse"
   ]
  }
 ],
 "metadata": {
  "kernelspec": {
   "display_name": "Python 3",
   "language": "python",
   "name": "python3"
  },
  "language_info": {
   "codemirror_mode": {
    "name": "ipython",
    "version": 3
   },
   "file_extension": ".py",
   "mimetype": "text/x-python",
   "name": "python",
   "nbconvert_exporter": "python",
   "pygments_lexer": "ipython3",
   "version": "3.11.9"
  }
 },
 "nbformat": 4,
 "nbformat_minor": 5
}
